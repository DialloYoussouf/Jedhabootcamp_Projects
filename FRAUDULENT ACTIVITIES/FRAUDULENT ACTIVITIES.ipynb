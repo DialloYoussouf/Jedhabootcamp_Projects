{
  "nbformat": 4,
  "nbformat_minor": 0,
  "metadata": {
    "kernelspec": {
      "display_name": "Python 3",
      "language": "python",
      "name": "python3"
    },
    "language_info": {
      "codemirror_mode": {
        "name": "ipython",
        "version": 3
      },
      "file_extension": ".py",
      "mimetype": "text/x-python",
      "name": "python",
      "nbconvert_exporter": "python",
      "pygments_lexer": "ipython3",
      "version": "3.6.10"
    },
    "colab": {
      "name": "Copie de FRAUDULENT ACTIVITIES.ipynb",
      "provenance": [],
      "collapsed_sections": []
    },
    "accelerator": "GPU"
  },
  "cells": [
    {
      "cell_type": "markdown",
      "metadata": {
        "id": "yaq_HxLN2L1G",
        "colab_type": "text"
      },
      "source": [
        "# Fraudulent Activities\n",
        "\n",
        "### OBJECTIF\n",
        "\n",
        "Les sites de E-commerce font transiter beaucoup d'argent. Cela peut engendrer des risques non négligeables d'activités frauduleuses, comme l'utilisation de carte de crédit volées, du blanchiment d'argent, etc.\n",
        "\n",
        "Fort heureusement, le Machine Learning peut nous aider à identifier ces activités frauduleuses. Tous les sites web où vous devez entrer vos informations de paiements ont une équipe qui s'occupe de gérer les risques de fraude via le ML.\n",
        "\n",
        "Le but de ce challenge est de construire un modèle qui vous permet de prédire une probabilité de transaction frauduleuse.\n",
        "\n",
        "### DESCRIPTION\n",
        "\n",
        "L'entreprise X fait du E-commerce et vend des vêtements faits-main. Le but est de construire un modèle qui permette de prédire si l'achat d'un vêtement doit être considéré comme une transaction frauduleuse ou non.\n",
        "\n",
        "Liste des tâches :\n",
        "\n",
        "1. Pour chacun des utilisateurs, déterminez le pays d'origine depuis son adresse IP\n",
        "\n",
        "2. Construisez un modèle qui permette de prédire si l'activité est frauduleuse ou non.\n",
        "\n",
        "3. Votre patron aimerait comprendre votre modèle car il est inquiet d'utiliser un modèle _black box_. Comment l'expliqueriez vous d'un point utilisateur, et non pas mathématique. Par exemple, quels sont les utilisateurs qui peuvent être classés comme _risqués_ ?\n",
        "\n",
        "4. Supposons que vous pouvez utiliser votre modèle en live pour qu'il fasse sa prédiction en temps réel. D'un point de vue Produit, comment l'utiliseriez-vous ? Comment pourriez-vous penser l'expérience utilisateur face à ce produit ?\n",
        "\n"
      ]
    },
    {
      "cell_type": "markdown",
      "metadata": {
        "id": "9Lxo-U3G2L1I",
        "colab_type": "text"
      },
      "source": [
        "# 1 - Entrainer des algorithmes simples sur les données avec un preprocessing minimal"
      ]
    },
    {
      "cell_type": "markdown",
      "metadata": {
        "id": "9BFvJYcj2L1J",
        "colab_type": "text"
      },
      "source": [
        "## Import of libraries and loading dataset"
      ]
    },
    {
      "cell_type": "code",
      "metadata": {
        "id": "bkyLtOs02L1L",
        "colab_type": "code",
        "colab": {}
      },
      "source": [
        "import pandas as pd\n",
        "import numpy as np\n",
        "import seaborn as sns\n",
        "import matplotlib.pyplot as plt\n",
        "import sklearn\n",
        "from sklearn.svm import SVC \n",
        "from sklearn.linear_model import LogisticRegression, LogisticRegressionCV\n",
        "from sklearn.tree import DecisionTreeClassifier"
      ],
      "execution_count": 5,
      "outputs": []
    },
    {
      "cell_type": "markdown",
      "metadata": {
        "id": "APMlaLVEl3y7",
        "colab_type": "text"
      },
      "source": [
        "- Removing any warnings messages "
      ]
    },
    {
      "cell_type": "code",
      "metadata": {
        "id": "LivWCOu8luqx",
        "colab_type": "code",
        "colab": {}
      },
      "source": [
        "import warnings\n",
        "warnings.filterwarnings('ignore')"
      ],
      "execution_count": 4,
      "outputs": []
    },
    {
      "cell_type": "code",
      "metadata": {
        "id": "YNwmq_VI2Sam",
        "colab_type": "code",
        "colab": {}
      },
      "source": [
        "from google.colab import files\n",
        "files.upload()"
      ],
      "execution_count": null,
      "outputs": []
    },
    {
      "cell_type": "code",
      "metadata": {
        "id": "Wz0oPRXq2L1R",
        "colab_type": "code",
        "colab": {}
      },
      "source": [
        "data = pd.read_csv('Fraud_Data.csv')\n",
        "ipAdd = pd.read_csv('IpAddress_to_Country.csv')"
      ],
      "execution_count": 6,
      "outputs": []
    },
    {
      "cell_type": "code",
      "metadata": {
        "scrolled": true,
        "id": "fhiYTQG12L1X",
        "colab_type": "code",
        "colab": {
          "base_uri": "https://localhost:8080/",
          "height": 289
        },
        "outputId": "974033ea-d57b-408b-9644-b17e30683b4a"
      },
      "source": [
        "data.head()"
      ],
      "execution_count": null,
      "outputs": [
        {
          "output_type": "execute_result",
          "data": {
            "text/html": [
              "<div>\n",
              "<style scoped>\n",
              "    .dataframe tbody tr th:only-of-type {\n",
              "        vertical-align: middle;\n",
              "    }\n",
              "\n",
              "    .dataframe tbody tr th {\n",
              "        vertical-align: top;\n",
              "    }\n",
              "\n",
              "    .dataframe thead th {\n",
              "        text-align: right;\n",
              "    }\n",
              "</style>\n",
              "<table border=\"1\" class=\"dataframe\">\n",
              "  <thead>\n",
              "    <tr style=\"text-align: right;\">\n",
              "      <th></th>\n",
              "      <th>user_id</th>\n",
              "      <th>signup_time</th>\n",
              "      <th>purchase_time</th>\n",
              "      <th>purchase_value</th>\n",
              "      <th>device_id</th>\n",
              "      <th>source</th>\n",
              "      <th>browser</th>\n",
              "      <th>sex</th>\n",
              "      <th>age</th>\n",
              "      <th>ip_address</th>\n",
              "      <th>class</th>\n",
              "    </tr>\n",
              "  </thead>\n",
              "  <tbody>\n",
              "    <tr>\n",
              "      <th>0</th>\n",
              "      <td>22058</td>\n",
              "      <td>2015-02-24 22:55:49</td>\n",
              "      <td>2015-04-18 02:47:11</td>\n",
              "      <td>34</td>\n",
              "      <td>QVPSPJUOCKZAR</td>\n",
              "      <td>SEO</td>\n",
              "      <td>Chrome</td>\n",
              "      <td>M</td>\n",
              "      <td>39</td>\n",
              "      <td>7.327584e+08</td>\n",
              "      <td>0</td>\n",
              "    </tr>\n",
              "    <tr>\n",
              "      <th>1</th>\n",
              "      <td>333320</td>\n",
              "      <td>2015-06-07 20:39:50</td>\n",
              "      <td>2015-06-08 01:38:54</td>\n",
              "      <td>16</td>\n",
              "      <td>EOGFQPIZPYXFZ</td>\n",
              "      <td>Ads</td>\n",
              "      <td>Chrome</td>\n",
              "      <td>F</td>\n",
              "      <td>53</td>\n",
              "      <td>3.503114e+08</td>\n",
              "      <td>0</td>\n",
              "    </tr>\n",
              "    <tr>\n",
              "      <th>2</th>\n",
              "      <td>1359</td>\n",
              "      <td>2015-01-01 18:52:44</td>\n",
              "      <td>2015-01-01 18:52:45</td>\n",
              "      <td>15</td>\n",
              "      <td>YSSKYOSJHPPLJ</td>\n",
              "      <td>SEO</td>\n",
              "      <td>Opera</td>\n",
              "      <td>M</td>\n",
              "      <td>53</td>\n",
              "      <td>2.621474e+09</td>\n",
              "      <td>1</td>\n",
              "    </tr>\n",
              "    <tr>\n",
              "      <th>3</th>\n",
              "      <td>150084</td>\n",
              "      <td>2015-04-28 21:13:25</td>\n",
              "      <td>2015-05-04 13:54:50</td>\n",
              "      <td>44</td>\n",
              "      <td>ATGTXKYKUDUQN</td>\n",
              "      <td>SEO</td>\n",
              "      <td>Safari</td>\n",
              "      <td>M</td>\n",
              "      <td>41</td>\n",
              "      <td>3.840542e+09</td>\n",
              "      <td>0</td>\n",
              "    </tr>\n",
              "    <tr>\n",
              "      <th>4</th>\n",
              "      <td>221365</td>\n",
              "      <td>2015-07-21 07:09:52</td>\n",
              "      <td>2015-09-09 18:40:53</td>\n",
              "      <td>39</td>\n",
              "      <td>NAUITBZFJKHWW</td>\n",
              "      <td>Ads</td>\n",
              "      <td>Safari</td>\n",
              "      <td>M</td>\n",
              "      <td>45</td>\n",
              "      <td>4.155831e+08</td>\n",
              "      <td>0</td>\n",
              "    </tr>\n",
              "  </tbody>\n",
              "</table>\n",
              "</div>"
            ],
            "text/plain": [
              "   user_id          signup_time        purchase_time  ...  age    ip_address class\n",
              "0    22058  2015-02-24 22:55:49  2015-04-18 02:47:11  ...   39  7.327584e+08     0\n",
              "1   333320  2015-06-07 20:39:50  2015-06-08 01:38:54  ...   53  3.503114e+08     0\n",
              "2     1359  2015-01-01 18:52:44  2015-01-01 18:52:45  ...   53  2.621474e+09     1\n",
              "3   150084  2015-04-28 21:13:25  2015-05-04 13:54:50  ...   41  3.840542e+09     0\n",
              "4   221365  2015-07-21 07:09:52  2015-09-09 18:40:53  ...   45  4.155831e+08     0\n",
              "\n",
              "[5 rows x 11 columns]"
            ]
          },
          "metadata": {
            "tags": []
          },
          "execution_count": 4
        }
      ]
    },
    {
      "cell_type": "code",
      "metadata": {
        "scrolled": false,
        "id": "CPZGvZXi2L1d",
        "colab_type": "code",
        "colab": {
          "base_uri": "https://localhost:8080/",
          "height": 204
        },
        "outputId": "1f901c00-2402-4f6e-b8b0-40ddf9a4b59d"
      },
      "source": [
        "ipAdd.head()"
      ],
      "execution_count": null,
      "outputs": [
        {
          "output_type": "execute_result",
          "data": {
            "text/html": [
              "<div>\n",
              "<style scoped>\n",
              "    .dataframe tbody tr th:only-of-type {\n",
              "        vertical-align: middle;\n",
              "    }\n",
              "\n",
              "    .dataframe tbody tr th {\n",
              "        vertical-align: top;\n",
              "    }\n",
              "\n",
              "    .dataframe thead th {\n",
              "        text-align: right;\n",
              "    }\n",
              "</style>\n",
              "<table border=\"1\" class=\"dataframe\">\n",
              "  <thead>\n",
              "    <tr style=\"text-align: right;\">\n",
              "      <th></th>\n",
              "      <th>lower_bound_ip_address</th>\n",
              "      <th>upper_bound_ip_address</th>\n",
              "      <th>country</th>\n",
              "    </tr>\n",
              "  </thead>\n",
              "  <tbody>\n",
              "    <tr>\n",
              "      <th>0</th>\n",
              "      <td>16777216.0</td>\n",
              "      <td>16777471</td>\n",
              "      <td>Australia</td>\n",
              "    </tr>\n",
              "    <tr>\n",
              "      <th>1</th>\n",
              "      <td>16777472.0</td>\n",
              "      <td>16777727</td>\n",
              "      <td>China</td>\n",
              "    </tr>\n",
              "    <tr>\n",
              "      <th>2</th>\n",
              "      <td>16777728.0</td>\n",
              "      <td>16778239</td>\n",
              "      <td>China</td>\n",
              "    </tr>\n",
              "    <tr>\n",
              "      <th>3</th>\n",
              "      <td>16778240.0</td>\n",
              "      <td>16779263</td>\n",
              "      <td>Australia</td>\n",
              "    </tr>\n",
              "    <tr>\n",
              "      <th>4</th>\n",
              "      <td>16779264.0</td>\n",
              "      <td>16781311</td>\n",
              "      <td>China</td>\n",
              "    </tr>\n",
              "  </tbody>\n",
              "</table>\n",
              "</div>"
            ],
            "text/plain": [
              "   lower_bound_ip_address  upper_bound_ip_address    country\n",
              "0              16777216.0                16777471  Australia\n",
              "1              16777472.0                16777727      China\n",
              "2              16777728.0                16778239      China\n",
              "3              16778240.0                16779263  Australia\n",
              "4              16779264.0                16781311      China"
            ]
          },
          "metadata": {
            "tags": []
          },
          "execution_count": 5
        }
      ]
    },
    {
      "cell_type": "markdown",
      "metadata": {
        "id": "7irfoylz2L1j",
        "colab_type": "text"
      },
      "source": [
        "## Dataset basic features enginering"
      ]
    },
    {
      "cell_type": "markdown",
      "metadata": {
        "id": "XdmmLCE0ogso",
        "colab_type": "text"
      },
      "source": [
        "### Removing columns"
      ]
    },
    {
      "cell_type": "code",
      "metadata": {
        "scrolled": false,
        "id": "W24_srGA2L1k",
        "colab_type": "code",
        "colab": {
          "base_uri": "https://localhost:8080/",
          "height": 204
        },
        "outputId": "e9b25681-c08d-4dbe-ec02-aa2e8ee67f6a"
      },
      "source": [
        "data = data.drop([\"user_id\", \"device_id\", \"signup_time\", \"purchase_time\", \"ip_address\"], axis = 1)\n",
        "data.head()"
      ],
      "execution_count": 7,
      "outputs": [
        {
          "output_type": "execute_result",
          "data": {
            "text/html": [
              "<div>\n",
              "<style scoped>\n",
              "    .dataframe tbody tr th:only-of-type {\n",
              "        vertical-align: middle;\n",
              "    }\n",
              "\n",
              "    .dataframe tbody tr th {\n",
              "        vertical-align: top;\n",
              "    }\n",
              "\n",
              "    .dataframe thead th {\n",
              "        text-align: right;\n",
              "    }\n",
              "</style>\n",
              "<table border=\"1\" class=\"dataframe\">\n",
              "  <thead>\n",
              "    <tr style=\"text-align: right;\">\n",
              "      <th></th>\n",
              "      <th>purchase_value</th>\n",
              "      <th>source</th>\n",
              "      <th>browser</th>\n",
              "      <th>sex</th>\n",
              "      <th>age</th>\n",
              "      <th>class</th>\n",
              "    </tr>\n",
              "  </thead>\n",
              "  <tbody>\n",
              "    <tr>\n",
              "      <th>0</th>\n",
              "      <td>34</td>\n",
              "      <td>SEO</td>\n",
              "      <td>Chrome</td>\n",
              "      <td>M</td>\n",
              "      <td>39</td>\n",
              "      <td>0</td>\n",
              "    </tr>\n",
              "    <tr>\n",
              "      <th>1</th>\n",
              "      <td>16</td>\n",
              "      <td>Ads</td>\n",
              "      <td>Chrome</td>\n",
              "      <td>F</td>\n",
              "      <td>53</td>\n",
              "      <td>0</td>\n",
              "    </tr>\n",
              "    <tr>\n",
              "      <th>2</th>\n",
              "      <td>15</td>\n",
              "      <td>SEO</td>\n",
              "      <td>Opera</td>\n",
              "      <td>M</td>\n",
              "      <td>53</td>\n",
              "      <td>1</td>\n",
              "    </tr>\n",
              "    <tr>\n",
              "      <th>3</th>\n",
              "      <td>44</td>\n",
              "      <td>SEO</td>\n",
              "      <td>Safari</td>\n",
              "      <td>M</td>\n",
              "      <td>41</td>\n",
              "      <td>0</td>\n",
              "    </tr>\n",
              "    <tr>\n",
              "      <th>4</th>\n",
              "      <td>39</td>\n",
              "      <td>Ads</td>\n",
              "      <td>Safari</td>\n",
              "      <td>M</td>\n",
              "      <td>45</td>\n",
              "      <td>0</td>\n",
              "    </tr>\n",
              "  </tbody>\n",
              "</table>\n",
              "</div>"
            ],
            "text/plain": [
              "   purchase_value source browser sex  age  class\n",
              "0              34    SEO  Chrome   M   39      0\n",
              "1              16    Ads  Chrome   F   53      0\n",
              "2              15    SEO   Opera   M   53      1\n",
              "3              44    SEO  Safari   M   41      0\n",
              "4              39    Ads  Safari   M   45      0"
            ]
          },
          "metadata": {
            "tags": []
          },
          "execution_count": 7
        }
      ]
    },
    {
      "cell_type": "markdown",
      "metadata": {
        "id": "GOmuu7TEpIyD",
        "colab_type": "text"
      },
      "source": [
        "### Separating features from target variable class"
      ]
    },
    {
      "cell_type": "code",
      "metadata": {
        "id": "vQ8EBiXP2L1r",
        "colab_type": "code",
        "colab": {}
      },
      "source": [
        "X = data.loc[:,data.columns != 'class']\n",
        "y = data.loc[:,data.columns == 'class']"
      ],
      "execution_count": 8,
      "outputs": []
    },
    {
      "cell_type": "markdown",
      "metadata": {
        "id": "GhI9Fwu9piZ8",
        "colab_type": "text"
      },
      "source": [
        "### Train test split & encoding & features scaling"
      ]
    },
    {
      "cell_type": "code",
      "metadata": {
        "id": "jmVKKK_q2L11",
        "colab_type": "code",
        "colab": {}
      },
      "source": [
        "from sklearn.preprocessing import  StandardScaler"
      ],
      "execution_count": 9,
      "outputs": []
    },
    {
      "cell_type": "code",
      "metadata": {
        "id": "baOb00V92L1-",
        "colab_type": "code",
        "colab": {}
      },
      "source": [
        "from sklearn.model_selection import train_test_split\n",
        "X_train, X_test, y_train, y_test = train_test_split(X, y, test_size = 0.3, random_state=42, stratify = y )"
      ],
      "execution_count": 10,
      "outputs": []
    },
    {
      "cell_type": "code",
      "metadata": {
        "id": "8ffqRsis2L2G",
        "colab_type": "code",
        "colab": {}
      },
      "source": [
        "X_train = pd.get_dummies(X_train, drop_first=True)\n",
        "X_test = pd.get_dummies(X_test, drop_first=True)"
      ],
      "execution_count": 11,
      "outputs": []
    },
    {
      "cell_type": "code",
      "metadata": {
        "id": "ZIFhWy4s2L2O",
        "colab_type": "code",
        "colab": {}
      },
      "source": [
        "from sklearn.preprocessing import StandardScaler\n",
        "scaler = StandardScaler()\n",
        "X_train_scaled = scaler.fit_transform(X_train)\n",
        "X_test_scaled = scaler.transform(X_test)"
      ],
      "execution_count": 12,
      "outputs": []
    },
    {
      "cell_type": "markdown",
      "metadata": {
        "id": "Shgk7pa82L2W",
        "colab_type": "text"
      },
      "source": [
        "---"
      ]
    },
    {
      "cell_type": "markdown",
      "metadata": {
        "id": "-kWJhi5i2L2Y",
        "colab_type": "text"
      },
      "source": [
        "##  Model's training & performance assessment"
      ]
    },
    {
      "cell_type": "markdown",
      "metadata": {
        "id": "GDQYxEN62L2a",
        "colab_type": "text"
      },
      "source": [
        "####  Modèle 1"
      ]
    },
    {
      "cell_type": "code",
      "metadata": {
        "id": "aavFB-JE2L2c",
        "colab_type": "code",
        "colab": {}
      },
      "source": [
        "from sklearn.linear_model import LogisticRegressionCV\n",
        "from sklearn.metrics import f1_score, accuracy_score"
      ],
      "execution_count": 13,
      "outputs": []
    },
    {
      "cell_type": "code",
      "metadata": {
        "id": "h_CU1uWz2L2k",
        "colab_type": "code",
        "colab": {}
      },
      "source": [
        "y_test1 = pd.DataFrame(y_test.copy())"
      ],
      "execution_count": 14,
      "outputs": []
    },
    {
      "cell_type": "code",
      "metadata": {
        "scrolled": true,
        "id": "w3turDRn2L2p",
        "colab_type": "code",
        "colab": {
          "base_uri": "https://localhost:8080/",
          "height": 85
        },
        "outputId": "7e40deeb-5b88-4acd-bc34-8d81f7f02957"
      },
      "source": [
        "#Modèle 1\n",
        "#LogisticRegressionCV\n",
        "Logistic_CV = LogisticRegressionCV(cv=10, solver='liblinear',  n_jobs=-1, class_weight = {0:1,1:4} )\n",
        "%time Logistic_CV.fit(X_train_scaled, y_train)\n",
        "y_test_pred1 = Logistic_CV.predict(X_test_scaled)\n",
        "print('accuracy_score : ', accuracy_score(y_test1, y_test_pred1))\n",
        "print('f1_score : ', f1_score(y_test1, y_test_pred1))"
      ],
      "execution_count": 17,
      "outputs": [
        {
          "output_type": "stream",
          "text": [
            "CPU times: user 191 ms, sys: 19.7 ms, total: 211 ms\n",
            "Wall time: 8.17 s\n",
            "accuracy_score :  0.9063616711518948\n",
            "f1_score :  0.0\n"
          ],
          "name": "stdout"
        }
      ]
    },
    {
      "cell_type": "code",
      "metadata": {
        "scrolled": true,
        "id": "YCXLHycK2L2u",
        "colab_type": "code",
        "colab": {
          "base_uri": "https://localhost:8080/",
          "height": 284
        },
        "outputId": "455590a1-1ef7-4f79-dd80-865a8addf6d4"
      },
      "source": [
        "#Matrice de confusion modèle 1\n",
        "from sklearn.metrics import confusion_matrix\n",
        "model1 = confusion_matrix(y_test1, y_test_pred1)\n",
        "sns.heatmap(model1, annot=True, fmt='.2f' )\n",
        "plt.title('matrice de confusion pour le modèle 1', fontsize = 15, color='m')\n",
        "plt.show()"
      ],
      "execution_count": 18,
      "outputs": [
        {
          "output_type": "display_data",
          "data": {
            "image/png": "[encoded data removed]",
            "text/plain": [
              "<Figure size 432x288 with 2 Axes>"
            ]
          },
          "metadata": {
            "tags": [],
            "needs_background": "light"
          }
        }
      ]
    },
    {
      "cell_type": "markdown",
      "metadata": {
        "id": "Jno6HsDh2L2z",
        "colab_type": "text"
      },
      "source": [
        "####   Modèle 2 \n"
      ]
    },
    {
      "cell_type": "code",
      "metadata": {
        "scrolled": true,
        "id": "Dn7-bJtN2L20",
        "colab_type": "code",
        "colab": {
          "base_uri": "https://localhost:8080/",
          "height": 85
        },
        "outputId": "274561aa-27e7-4ef2-fcee-1ff1ae624264"
      },
      "source": [
        "#Modèle 2\n",
        "#DecisionTree(entropy)\n",
        "Tree_gini = DecisionTreeClassifier(criterion='entropy')\n",
        "%time Tree_gini.fit(X_train_scaled, y_train)\n",
        "y_test_pred2 = Tree_gini.predict(X_test_scaled)\n",
        "print('accuracy_score : ', accuracy_score(y_test1, y_test_pred2))\n",
        "print('f1_score : ', f1_score(y_test1, y_test_pred2))"
      ],
      "execution_count": 19,
      "outputs": [
        {
          "output_type": "stream",
          "text": [
            "CPU times: user 256 ms, sys: 2.51 ms, total: 259 ms\n",
            "Wall time: 285 ms\n",
            "accuracy_score :  0.9130233378920898\n",
            "f1_score :  0.4990471350527252\n"
          ],
          "name": "stdout"
        }
      ]
    },
    {
      "cell_type": "code",
      "metadata": {
        "scrolled": true,
        "id": "CDvRmvAf2L25",
        "colab_type": "code",
        "colab": {
          "base_uri": "https://localhost:8080/",
          "height": 284
        },
        "outputId": "d54388e5-3bce-4213-eddf-34476785f685"
      },
      "source": [
        "from sklearn.metrics import confusion_matrix\n",
        "model2 = confusion_matrix(y_test1, y_test_pred2)\n",
        "sns.heatmap(model2, annot=True, fmt='.2f' )\n",
        "plt.title('matrice de confusion pour le modèle 2', fontsize = 15, color='m')\n",
        "plt.show()"
      ],
      "execution_count": null,
      "outputs": [
        {
          "output_type": "display_data",
          "data": {
            "image/png": "[encoded data removed]",
            "text/plain": [
              "<Figure size 432x288 with 2 Axes>"
            ]
          },
          "metadata": {
            "tags": [],
            "needs_background": "light"
          }
        }
      ]
    },
    {
      "cell_type": "markdown",
      "metadata": {
        "id": "QK4Tr9MI2L2-",
        "colab_type": "text"
      },
      "source": [
        "####  Modèle 3"
      ]
    },
    {
      "cell_type": "code",
      "metadata": {
        "scrolled": true,
        "id": "N-6sd96i2L2_",
        "colab_type": "code",
        "colab": {
          "base_uri": "https://localhost:8080/",
          "height": 85
        },
        "outputId": "f061653a-af0b-4402-9f84-8c8ae697128a"
      },
      "source": [
        "#Modèle 3\n",
        "#Random Forest(100)\n",
        "from sklearn.ensemble import RandomForestClassifier\n",
        "Forest_100 = RandomForestClassifier()\n",
        "%time Forest_100.fit(X_train_scaled, y_train)\n",
        "y_test_pred3 = Forest_100.predict(X_test_scaled)\n",
        "print('accuracy_score : ', accuracy_score(y_test1, y_test_pred3))\n",
        "print('f1_score : ', f1_score(y_test1, y_test_pred3))"
      ],
      "execution_count": null,
      "outputs": [
        {
          "output_type": "stream",
          "text": [
            "CPU times: user 7.87 s, sys: 180 ms, total: 8.05 s\n",
            "Wall time: 8.05 s\n",
            "accuracy_score :  0.9196408876340054\n",
            "f1_score :  0.5252182979277987\n"
          ],
          "name": "stdout"
        }
      ]
    },
    {
      "cell_type": "markdown",
      "metadata": {
        "id": "Ehr5Um8J2L3D",
        "colab_type": "text"
      },
      "source": [
        "  -  **Visualization of confusion matrix**"
      ]
    },
    {
      "cell_type": "code",
      "metadata": {
        "id": "6nArvVNy2L3E",
        "colab_type": "code",
        "colab": {
          "base_uri": "https://localhost:8080/",
          "height": 284
        },
        "outputId": "d61fd34d-4b77-4e6d-ee91-e277b984e3e3"
      },
      "source": [
        "model3 = confusion_matrix(y_test1, y_test_pred3)\n",
        "sns.heatmap(model3, annot=True, fmt='.2f' )\n",
        "plt.title('matrice de confusion pour le modèle 3', fontsize =15, color='m')\n",
        "plt.show()"
      ],
      "execution_count": null,
      "outputs": [
        {
          "output_type": "display_data",
          "data": {
            "image/png": "[encoded data removed]",
            "text/plain": [
              "<Figure size 432x288 with 2 Axes>"
            ]
          },
          "metadata": {
            "tags": [],
            "needs_background": "light"
          }
        }
      ]
    },
    {
      "cell_type": "markdown",
      "metadata": {
        "id": "PSxv0CuxtmUm",
        "colab_type": "text"
      },
      "source": [
        "#### Modèle 4"
      ]
    },
    {
      "cell_type": "code",
      "metadata": {
        "id": "E63GSDpm2L3N",
        "colab_type": "code",
        "colab": {
          "base_uri": "https://localhost:8080/",
          "height": 85
        },
        "outputId": "bd2400e9-c2fb-4847-af90-f337992f2b91"
      },
      "source": [
        "#Modèle 4\n",
        "#Random Forest(50)\n",
        "#from sklearn.ensemble import RandomForestClassifier\n",
        "Forest_50 = RandomForestClassifier(n_estimators=50, n_jobs=-1)\n",
        "%time Forest_50.fit(X_train_scaled, y_train)\n",
        "y_test_pred4 = Forest_50.predict(X_test_scaled)\n",
        "print('accuracy_score : ', accuracy_score(y_test1, y_test_pred4))\n",
        "print('f1_score : ', f1_score(y_test1, y_test_pred4))"
      ],
      "execution_count": null,
      "outputs": [
        {
          "output_type": "stream",
          "text": [
            "CPU times: user 5.87 s, sys: 87.9 ms, total: 5.96 s\n",
            "Wall time: 3.15 s\n",
            "accuracy_score :  0.9196850046322849\n",
            "f1_score :  0.5241144948372762\n"
          ],
          "name": "stdout"
        }
      ]
    },
    {
      "cell_type": "markdown",
      "metadata": {
        "id": "Of9udtpX2L3U",
        "colab_type": "text"
      },
      "source": [
        "  -  **Visualization of confusion matrix**"
      ]
    },
    {
      "cell_type": "code",
      "metadata": {
        "scrolled": true,
        "id": "zc1m4e5B2L3V",
        "colab_type": "code",
        "colab": {
          "base_uri": "https://localhost:8080/",
          "height": 284
        },
        "outputId": "e82eb492-0aac-45b5-81ff-55e9fc692224"
      },
      "source": [
        "model4 = confusion_matrix(y_test1, y_test_pred4)\n",
        "sns.heatmap(model4, annot=True, fmt='.2f' )\n",
        "plt.title('matrice de confusion pour le modèle 4', fontsize=15, color='m')\n",
        "plt.show()"
      ],
      "execution_count": null,
      "outputs": [
        {
          "output_type": "display_data",
          "data": {
            "image/png": "[encoded data removed]",
            "text/plain": [
              "<Figure size 432x288 with 2 Axes>"
            ]
          },
          "metadata": {
            "tags": [],
            "needs_background": "light"
          }
        }
      ]
    },
    {
      "cell_type": "markdown",
      "metadata": {
        "id": "dZM-28BS2L3c",
        "colab_type": "text"
      },
      "source": [
        "### - GridSearchCV for finding model's best hyperparameters "
      ]
    },
    {
      "cell_type": "code",
      "metadata": {
        "scrolled": true,
        "id": "gn9osVBc2L3l",
        "colab_type": "code",
        "colab": {
          "base_uri": "https://localhost:8080/",
          "height": 408
        },
        "outputId": "4f8d97e8-def2-4d2e-aea6-e4a19efe93f0"
      },
      "source": [
        "#GridSearchCV\n",
        "from sklearn.model_selection import GridSearchCV\n",
        "random_grid = RandomForestClassifier()\n",
        "params = {\"n_estimators\": range(20, 50, 100),\n",
        "          'max_depth' : [4,6,8,10],\n",
        "          'max_features':[2,3,4] }\n",
        "\n",
        "grid = GridSearchCV(cv=10, estimator = random_grid, param_grid = params, n_jobs=-1 )\n",
        "%time grid.fit(X_train_scaled, y_train)"
      ],
      "execution_count": null,
      "outputs": [
        {
          "output_type": "stream",
          "text": [
            "CPU times: user 2.22 s, sys: 202 ms, total: 2.43 s\n",
            "Wall time: 1min 16s\n"
          ],
          "name": "stdout"
        },
        {
          "output_type": "execute_result",
          "data": {
            "text/plain": [
              "GridSearchCV(cv=10, error_score=nan,\n",
              "             estimator=RandomForestClassifier(bootstrap=True, ccp_alpha=0.0,\n",
              "                                              class_weight=None,\n",
              "                                              criterion='gini', max_depth=None,\n",
              "                                              max_features='auto',\n",
              "                                              max_leaf_nodes=None,\n",
              "                                              max_samples=None,\n",
              "                                              min_impurity_decrease=0.0,\n",
              "                                              min_impurity_split=None,\n",
              "                                              min_samples_leaf=1,\n",
              "                                              min_samples_split=2,\n",
              "                                              min_weight_fraction_leaf=0.0,\n",
              "                                              n_estimators=100, n_jobs=None,\n",
              "                                              oob_score=False,\n",
              "                                              random_state=None, verbose=0,\n",
              "                                              warm_start=False),\n",
              "             iid='deprecated', n_jobs=-1,\n",
              "             param_grid={'max_depth': [4, 6, 8, 10], 'max_features': [2, 3, 4],\n",
              "                         'n_estimators': range(20, 50, 100)},\n",
              "             pre_dispatch='2*n_jobs', refit=True, return_train_score=False,\n",
              "             scoring=None, verbose=0)"
            ]
          },
          "metadata": {
            "tags": []
          },
          "execution_count": 27
        }
      ]
    },
    {
      "cell_type": "code",
      "metadata": {
        "id": "SavEaLJ_2L3q",
        "colab_type": "code",
        "colab": {
          "base_uri": "https://localhost:8080/",
          "height": 34
        },
        "outputId": "95d830db-2f43-49a3-dda8-383bf78308f0"
      },
      "source": [
        "grid.best_params_"
      ],
      "execution_count": null,
      "outputs": [
        {
          "output_type": "execute_result",
          "data": {
            "text/plain": [
              "{'max_depth': 10, 'max_features': 3, 'n_estimators': 20}"
            ]
          },
          "metadata": {
            "tags": []
          },
          "execution_count": 28
        }
      ]
    },
    {
      "cell_type": "code",
      "metadata": {
        "id": "AYPbPcMg2L3y",
        "colab_type": "code",
        "colab": {
          "base_uri": "https://localhost:8080/",
          "height": 34
        },
        "outputId": "33ae55e4-fa92-48bf-8f19-bd3e4cde11ae"
      },
      "source": [
        "grid.best_estimator_.score(X_test_scaled, y_test)"
      ],
      "execution_count": null,
      "outputs": [
        {
          "output_type": "execute_result",
          "data": {
            "text/plain": [
              "0.9074866546080205"
            ]
          },
          "metadata": {
            "tags": []
          },
          "execution_count": 29
        }
      ]
    },
    {
      "cell_type": "markdown",
      "metadata": {
        "id": "CRnlb4rLrOg5",
        "colab_type": "text"
      },
      "source": [
        "#### Modèle 5"
      ]
    },
    {
      "cell_type": "code",
      "metadata": {
        "id": "yz-DOO9QtJap",
        "colab_type": "code",
        "colab": {
          "base_uri": "https://localhost:8080/",
          "height": 187
        },
        "outputId": "ee1054a1-4a99-4d21-9bc0-5749b0c6f4e7"
      },
      "source": [
        "#Modèle 5\n",
        "#gridsearch(best params)\n",
        "gridsearch = RandomForestClassifier(n_estimators=20, max_depth=10, max_features=3)\n",
        "%time gridsearch.fit(X_train_scaled, y_train)"
      ],
      "execution_count": null,
      "outputs": [
        {
          "output_type": "stream",
          "text": [
            "CPU times: user 1.12 s, sys: 6.58 ms, total: 1.12 s\n",
            "Wall time: 1.13 s\n"
          ],
          "name": "stdout"
        },
        {
          "output_type": "execute_result",
          "data": {
            "text/plain": [
              "RandomForestClassifier(bootstrap=True, ccp_alpha=0.0, class_weight=None,\n",
              "                       criterion='gini', max_depth=10, max_features=3,\n",
              "                       max_leaf_nodes=None, max_samples=None,\n",
              "                       min_impurity_decrease=0.0, min_impurity_split=None,\n",
              "                       min_samples_leaf=1, min_samples_split=2,\n",
              "                       min_weight_fraction_leaf=0.0, n_estimators=20,\n",
              "                       n_jobs=None, oob_score=False, random_state=None,\n",
              "                       verbose=0, warm_start=False)"
            ]
          },
          "metadata": {
            "tags": []
          },
          "execution_count": 36
        }
      ]
    },
    {
      "cell_type": "code",
      "metadata": {
        "id": "47JstaHVuFe_",
        "colab_type": "code",
        "colab": {
          "base_uri": "https://localhost:8080/",
          "height": 51
        },
        "outputId": "49bd25d9-5a37-49ff-c34e-106bbf512fd8"
      },
      "source": [
        "y_test_pred5 = gridsearch.predict(X_test_scaled)\n",
        "print('accuracy_score : ', accuracy_score(y_test1, y_test_pred5))\n",
        "print('f1_score : ', f1_score(y_test1, y_test_pred5))"
      ],
      "execution_count": null,
      "outputs": [
        {
          "output_type": "stream",
          "text": [
            "accuracy_score :  0.9074866546080205\n",
            "f1_score :  0.02961591855622397\n"
          ],
          "name": "stdout"
        }
      ]
    },
    {
      "cell_type": "code",
      "metadata": {
        "id": "WifCaQQIvdII",
        "colab_type": "code",
        "colab": {
          "base_uri": "https://localhost:8080/",
          "height": 284
        },
        "outputId": "5581e9dd-5ed6-4ed0-97ce-91442b9bde2d"
      },
      "source": [
        "model5 = confusion_matrix(y_test1, y_test_pred5)\n",
        "sns.heatmap(model5, annot=True, fmt='.2f' )\n",
        "plt.title('matrice de confusion pour le modèle 5', fontsize=15, color='m')\n",
        "plt.show()"
      ],
      "execution_count": null,
      "outputs": [
        {
          "output_type": "display_data",
          "data": {
            "image/png": "[encoded data removed]",
            "text/plain": [
              "<Figure size 432x288 with 2 Axes>"
            ]
          },
          "metadata": {
            "tags": [],
            "needs_background": "light"
          }
        }
      ]
    },
    {
      "cell_type": "markdown",
      "metadata": {
        "id": "qTRj_yxZ2L32",
        "colab_type": "text"
      },
      "source": [
        "---"
      ]
    },
    {
      "cell_type": "markdown",
      "metadata": {
        "id": "o2_I1yzo2L33",
        "colab_type": "text"
      },
      "source": [
        "# 2 - Entrainer un algorithme simple sur les données avec un preprocessing plus avancé: "
      ]
    },
    {
      "cell_type": "markdown",
      "metadata": {
        "id": "UmnYKY-v2L34",
        "colab_type": "text"
      },
      "source": [
        "##  Loading dataset"
      ]
    },
    {
      "cell_type": "code",
      "metadata": {
        "id": "sDlwMDde2L35",
        "colab_type": "code",
        "colab": {
          "base_uri": "https://localhost:8080/",
          "height": 204
        },
        "outputId": "3abccd68-10cc-4f63-83ff-05f8d7b4d64d"
      },
      "source": [
        "data = pd.read_csv(\"Fraud_Data.csv\")\n",
        "data.head()"
      ],
      "execution_count": 20,
      "outputs": [
        {
          "output_type": "execute_result",
          "data": {
            "text/html": [
              "<div>\n",
              "<style scoped>\n",
              "    .dataframe tbody tr th:only-of-type {\n",
              "        vertical-align: middle;\n",
              "    }\n",
              "\n",
              "    .dataframe tbody tr th {\n",
              "        vertical-align: top;\n",
              "    }\n",
              "\n",
              "    .dataframe thead th {\n",
              "        text-align: right;\n",
              "    }\n",
              "</style>\n",
              "<table border=\"1\" class=\"dataframe\">\n",
              "  <thead>\n",
              "    <tr style=\"text-align: right;\">\n",
              "      <th></th>\n",
              "      <th>user_id</th>\n",
              "      <th>signup_time</th>\n",
              "      <th>purchase_time</th>\n",
              "      <th>purchase_value</th>\n",
              "      <th>device_id</th>\n",
              "      <th>source</th>\n",
              "      <th>browser</th>\n",
              "      <th>sex</th>\n",
              "      <th>age</th>\n",
              "      <th>ip_address</th>\n",
              "      <th>class</th>\n",
              "    </tr>\n",
              "  </thead>\n",
              "  <tbody>\n",
              "    <tr>\n",
              "      <th>0</th>\n",
              "      <td>22058</td>\n",
              "      <td>2015-02-24 22:55:49</td>\n",
              "      <td>2015-04-18 02:47:11</td>\n",
              "      <td>34</td>\n",
              "      <td>QVPSPJUOCKZAR</td>\n",
              "      <td>SEO</td>\n",
              "      <td>Chrome</td>\n",
              "      <td>M</td>\n",
              "      <td>39</td>\n",
              "      <td>7.327584e+08</td>\n",
              "      <td>0</td>\n",
              "    </tr>\n",
              "    <tr>\n",
              "      <th>1</th>\n",
              "      <td>333320</td>\n",
              "      <td>2015-06-07 20:39:50</td>\n",
              "      <td>2015-06-08 01:38:54</td>\n",
              "      <td>16</td>\n",
              "      <td>EOGFQPIZPYXFZ</td>\n",
              "      <td>Ads</td>\n",
              "      <td>Chrome</td>\n",
              "      <td>F</td>\n",
              "      <td>53</td>\n",
              "      <td>3.503114e+08</td>\n",
              "      <td>0</td>\n",
              "    </tr>\n",
              "    <tr>\n",
              "      <th>2</th>\n",
              "      <td>1359</td>\n",
              "      <td>2015-01-01 18:52:44</td>\n",
              "      <td>2015-01-01 18:52:45</td>\n",
              "      <td>15</td>\n",
              "      <td>YSSKYOSJHPPLJ</td>\n",
              "      <td>SEO</td>\n",
              "      <td>Opera</td>\n",
              "      <td>M</td>\n",
              "      <td>53</td>\n",
              "      <td>2.621474e+09</td>\n",
              "      <td>1</td>\n",
              "    </tr>\n",
              "    <tr>\n",
              "      <th>3</th>\n",
              "      <td>150084</td>\n",
              "      <td>2015-04-28 21:13:25</td>\n",
              "      <td>2015-05-04 13:54:50</td>\n",
              "      <td>44</td>\n",
              "      <td>ATGTXKYKUDUQN</td>\n",
              "      <td>SEO</td>\n",
              "      <td>Safari</td>\n",
              "      <td>M</td>\n",
              "      <td>41</td>\n",
              "      <td>3.840542e+09</td>\n",
              "      <td>0</td>\n",
              "    </tr>\n",
              "    <tr>\n",
              "      <th>4</th>\n",
              "      <td>221365</td>\n",
              "      <td>2015-07-21 07:09:52</td>\n",
              "      <td>2015-09-09 18:40:53</td>\n",
              "      <td>39</td>\n",
              "      <td>NAUITBZFJKHWW</td>\n",
              "      <td>Ads</td>\n",
              "      <td>Safari</td>\n",
              "      <td>M</td>\n",
              "      <td>45</td>\n",
              "      <td>4.155831e+08</td>\n",
              "      <td>0</td>\n",
              "    </tr>\n",
              "  </tbody>\n",
              "</table>\n",
              "</div>"
            ],
            "text/plain": [
              "   user_id          signup_time        purchase_time  ...  age    ip_address class\n",
              "0    22058  2015-02-24 22:55:49  2015-04-18 02:47:11  ...   39  7.327584e+08     0\n",
              "1   333320  2015-06-07 20:39:50  2015-06-08 01:38:54  ...   53  3.503114e+08     0\n",
              "2     1359  2015-01-01 18:52:44  2015-01-01 18:52:45  ...   53  2.621474e+09     1\n",
              "3   150084  2015-04-28 21:13:25  2015-05-04 13:54:50  ...   41  3.840542e+09     0\n",
              "4   221365  2015-07-21 07:09:52  2015-09-09 18:40:53  ...   45  4.155831e+08     0\n",
              "\n",
              "[5 rows x 11 columns]"
            ]
          },
          "metadata": {
            "tags": []
          },
          "execution_count": 20
        }
      ]
    },
    {
      "cell_type": "code",
      "metadata": {
        "scrolled": true,
        "id": "D_kUdpei2L3-",
        "colab_type": "code",
        "colab": {
          "base_uri": "https://localhost:8080/",
          "height": 204
        },
        "outputId": "c47d91f2-3357-4479-81a5-d4d015ac7fb2"
      },
      "source": [
        "ipAdd = pd.read_csv(\"IpAddress_to_Country.csv\")\n",
        "ipAdd.head()"
      ],
      "execution_count": 21,
      "outputs": [
        {
          "output_type": "execute_result",
          "data": {
            "text/html": [
              "<div>\n",
              "<style scoped>\n",
              "    .dataframe tbody tr th:only-of-type {\n",
              "        vertical-align: middle;\n",
              "    }\n",
              "\n",
              "    .dataframe tbody tr th {\n",
              "        vertical-align: top;\n",
              "    }\n",
              "\n",
              "    .dataframe thead th {\n",
              "        text-align: right;\n",
              "    }\n",
              "</style>\n",
              "<table border=\"1\" class=\"dataframe\">\n",
              "  <thead>\n",
              "    <tr style=\"text-align: right;\">\n",
              "      <th></th>\n",
              "      <th>lower_bound_ip_address</th>\n",
              "      <th>upper_bound_ip_address</th>\n",
              "      <th>country</th>\n",
              "    </tr>\n",
              "  </thead>\n",
              "  <tbody>\n",
              "    <tr>\n",
              "      <th>0</th>\n",
              "      <td>16777216.0</td>\n",
              "      <td>16777471</td>\n",
              "      <td>Australia</td>\n",
              "    </tr>\n",
              "    <tr>\n",
              "      <th>1</th>\n",
              "      <td>16777472.0</td>\n",
              "      <td>16777727</td>\n",
              "      <td>China</td>\n",
              "    </tr>\n",
              "    <tr>\n",
              "      <th>2</th>\n",
              "      <td>16777728.0</td>\n",
              "      <td>16778239</td>\n",
              "      <td>China</td>\n",
              "    </tr>\n",
              "    <tr>\n",
              "      <th>3</th>\n",
              "      <td>16778240.0</td>\n",
              "      <td>16779263</td>\n",
              "      <td>Australia</td>\n",
              "    </tr>\n",
              "    <tr>\n",
              "      <th>4</th>\n",
              "      <td>16779264.0</td>\n",
              "      <td>16781311</td>\n",
              "      <td>China</td>\n",
              "    </tr>\n",
              "  </tbody>\n",
              "</table>\n",
              "</div>"
            ],
            "text/plain": [
              "   lower_bound_ip_address  upper_bound_ip_address    country\n",
              "0              16777216.0                16777471  Australia\n",
              "1              16777472.0                16777727      China\n",
              "2              16777728.0                16778239      China\n",
              "3              16778240.0                16779263  Australia\n",
              "4              16779264.0                16781311      China"
            ]
          },
          "metadata": {
            "tags": []
          },
          "execution_count": 21
        }
      ]
    },
    {
      "cell_type": "markdown",
      "metadata": {
        "id": "F6rxwF0q2L4E",
        "colab_type": "text"
      },
      "source": [
        "##  Dataset advanced features enginering"
      ]
    },
    {
      "cell_type": "markdown",
      "metadata": {
        "id": "2L-5L9412L4F",
        "colab_type": "text"
      },
      "source": [
        "- Creating **ip_to_country** function that takes an IP address as argument and returns country associated based on IP_table"
      ]
    },
    {
      "cell_type": "code",
      "metadata": {
        "id": "OMdLw4e92L4G",
        "colab_type": "code",
        "colab": {
          "base_uri": "https://localhost:8080/",
          "height": 51
        },
        "outputId": "52542d3f-2007-4f10-ab60-3256ae8ec5a6"
      },
      "source": [
        "def ip_to_country(ip=None):\n",
        "    try :\n",
        "        return ipAdd.country[(ipAdd.lower_bound_ip_address <= ip) \n",
        "                             & (ipAdd.upper_bound_ip_address >= ip)].iloc[0]\n",
        "    except IndexError :\n",
        "        return \"Unknown\"     \n",
        "# To affect a country to each IP :\n",
        "%time data[\"ip_country\"] = data.ip_address.apply(ip_to_country)"
      ],
      "execution_count": 22,
      "outputs": [
        {
          "output_type": "stream",
          "text": [
            "CPU times: user 2min 39s, sys: 60.4 ms, total: 2min 39s\n",
            "Wall time: 2min 39s\n"
          ],
          "name": "stdout"
        }
      ]
    },
    {
      "cell_type": "code",
      "metadata": {
        "scrolled": false,
        "id": "o_KyMiEa2L4L",
        "colab_type": "code",
        "colab": {
          "base_uri": "https://localhost:8080/",
          "height": 204
        },
        "outputId": "8132fede-eaca-46ad-9c9b-a87cfb462190"
      },
      "source": [
        "data.head()"
      ],
      "execution_count": 23,
      "outputs": [
        {
          "output_type": "execute_result",
          "data": {
            "text/html": [
              "<div>\n",
              "<style scoped>\n",
              "    .dataframe tbody tr th:only-of-type {\n",
              "        vertical-align: middle;\n",
              "    }\n",
              "\n",
              "    .dataframe tbody tr th {\n",
              "        vertical-align: top;\n",
              "    }\n",
              "\n",
              "    .dataframe thead th {\n",
              "        text-align: right;\n",
              "    }\n",
              "</style>\n",
              "<table border=\"1\" class=\"dataframe\">\n",
              "  <thead>\n",
              "    <tr style=\"text-align: right;\">\n",
              "      <th></th>\n",
              "      <th>user_id</th>\n",
              "      <th>signup_time</th>\n",
              "      <th>purchase_time</th>\n",
              "      <th>purchase_value</th>\n",
              "      <th>device_id</th>\n",
              "      <th>source</th>\n",
              "      <th>browser</th>\n",
              "      <th>sex</th>\n",
              "      <th>age</th>\n",
              "      <th>ip_address</th>\n",
              "      <th>class</th>\n",
              "      <th>ip_country</th>\n",
              "    </tr>\n",
              "  </thead>\n",
              "  <tbody>\n",
              "    <tr>\n",
              "      <th>0</th>\n",
              "      <td>22058</td>\n",
              "      <td>2015-02-24 22:55:49</td>\n",
              "      <td>2015-04-18 02:47:11</td>\n",
              "      <td>34</td>\n",
              "      <td>QVPSPJUOCKZAR</td>\n",
              "      <td>SEO</td>\n",
              "      <td>Chrome</td>\n",
              "      <td>M</td>\n",
              "      <td>39</td>\n",
              "      <td>7.327584e+08</td>\n",
              "      <td>0</td>\n",
              "      <td>Japan</td>\n",
              "    </tr>\n",
              "    <tr>\n",
              "      <th>1</th>\n",
              "      <td>333320</td>\n",
              "      <td>2015-06-07 20:39:50</td>\n",
              "      <td>2015-06-08 01:38:54</td>\n",
              "      <td>16</td>\n",
              "      <td>EOGFQPIZPYXFZ</td>\n",
              "      <td>Ads</td>\n",
              "      <td>Chrome</td>\n",
              "      <td>F</td>\n",
              "      <td>53</td>\n",
              "      <td>3.503114e+08</td>\n",
              "      <td>0</td>\n",
              "      <td>United States</td>\n",
              "    </tr>\n",
              "    <tr>\n",
              "      <th>2</th>\n",
              "      <td>1359</td>\n",
              "      <td>2015-01-01 18:52:44</td>\n",
              "      <td>2015-01-01 18:52:45</td>\n",
              "      <td>15</td>\n",
              "      <td>YSSKYOSJHPPLJ</td>\n",
              "      <td>SEO</td>\n",
              "      <td>Opera</td>\n",
              "      <td>M</td>\n",
              "      <td>53</td>\n",
              "      <td>2.621474e+09</td>\n",
              "      <td>1</td>\n",
              "      <td>United States</td>\n",
              "    </tr>\n",
              "    <tr>\n",
              "      <th>3</th>\n",
              "      <td>150084</td>\n",
              "      <td>2015-04-28 21:13:25</td>\n",
              "      <td>2015-05-04 13:54:50</td>\n",
              "      <td>44</td>\n",
              "      <td>ATGTXKYKUDUQN</td>\n",
              "      <td>SEO</td>\n",
              "      <td>Safari</td>\n",
              "      <td>M</td>\n",
              "      <td>41</td>\n",
              "      <td>3.840542e+09</td>\n",
              "      <td>0</td>\n",
              "      <td>Unknown</td>\n",
              "    </tr>\n",
              "    <tr>\n",
              "      <th>4</th>\n",
              "      <td>221365</td>\n",
              "      <td>2015-07-21 07:09:52</td>\n",
              "      <td>2015-09-09 18:40:53</td>\n",
              "      <td>39</td>\n",
              "      <td>NAUITBZFJKHWW</td>\n",
              "      <td>Ads</td>\n",
              "      <td>Safari</td>\n",
              "      <td>M</td>\n",
              "      <td>45</td>\n",
              "      <td>4.155831e+08</td>\n",
              "      <td>0</td>\n",
              "      <td>United States</td>\n",
              "    </tr>\n",
              "  </tbody>\n",
              "</table>\n",
              "</div>"
            ],
            "text/plain": [
              "   user_id          signup_time  ... class     ip_country\n",
              "0    22058  2015-02-24 22:55:49  ...     0          Japan\n",
              "1   333320  2015-06-07 20:39:50  ...     0  United States\n",
              "2     1359  2015-01-01 18:52:44  ...     1  United States\n",
              "3   150084  2015-04-28 21:13:25  ...     0        Unknown\n",
              "4   221365  2015-07-21 07:09:52  ...     0  United States\n",
              "\n",
              "[5 rows x 12 columns]"
            ]
          },
          "metadata": {
            "tags": []
          },
          "execution_count": 23
        }
      ]
    },
    {
      "cell_type": "markdown",
      "metadata": {
        "id": "r0W9A19r2L4P",
        "colab_type": "text"
      },
      "source": [
        "- Converting dataset date columns into **datetime type**"
      ]
    },
    {
      "cell_type": "code",
      "metadata": {
        "id": "fJEWPsCy2L4Q",
        "colab_type": "code",
        "colab": {}
      },
      "source": [
        "from datetime import datetime, time"
      ],
      "execution_count": 24,
      "outputs": []
    },
    {
      "cell_type": "code",
      "metadata": {
        "id": "b1gLRs922L4U",
        "colab_type": "code",
        "colab": {}
      },
      "source": [
        "data.signup_time = data.signup_time.apply(lambda x : datetime.strptime(x, '%Y-%m-%d %H:%M:%S').date())\n",
        "data.purchase_time = data.purchase_time.apply(lambda x : datetime.strptime(x, '%Y-%m-%d %H:%M:%S').date())"
      ],
      "execution_count": 25,
      "outputs": []
    },
    {
      "cell_type": "markdown",
      "metadata": {
        "id": "fUSDst9E2L4Y",
        "colab_type": "text"
      },
      "source": [
        "- Creating new column *delta_signup_purchase* by getting the time laps between *signup_time* and *purchase_time* columns newly converted into datetime date type"
      ]
    },
    {
      "cell_type": "code",
      "metadata": {
        "id": "HO7UowYl2L4Z",
        "colab_type": "code",
        "colab": {}
      },
      "source": [
        "data['delta_signup_purchase'] = data.purchase_time - data.signup_time"
      ],
      "execution_count": 26,
      "outputs": []
    },
    {
      "cell_type": "code",
      "metadata": {
        "scrolled": false,
        "id": "zcexkHRU2L4d",
        "colab_type": "code",
        "colab": {
          "base_uri": "https://localhost:8080/",
          "height": 204
        },
        "outputId": "935ce927-de51-43c2-edf0-ed0463eacf78"
      },
      "source": [
        "data.head()"
      ],
      "execution_count": 27,
      "outputs": [
        {
          "output_type": "execute_result",
          "data": {
            "text/html": [
              "<div>\n",
              "<style scoped>\n",
              "    .dataframe tbody tr th:only-of-type {\n",
              "        vertical-align: middle;\n",
              "    }\n",
              "\n",
              "    .dataframe tbody tr th {\n",
              "        vertical-align: top;\n",
              "    }\n",
              "\n",
              "    .dataframe thead th {\n",
              "        text-align: right;\n",
              "    }\n",
              "</style>\n",
              "<table border=\"1\" class=\"dataframe\">\n",
              "  <thead>\n",
              "    <tr style=\"text-align: right;\">\n",
              "      <th></th>\n",
              "      <th>user_id</th>\n",
              "      <th>signup_time</th>\n",
              "      <th>purchase_time</th>\n",
              "      <th>purchase_value</th>\n",
              "      <th>device_id</th>\n",
              "      <th>source</th>\n",
              "      <th>browser</th>\n",
              "      <th>sex</th>\n",
              "      <th>age</th>\n",
              "      <th>ip_address</th>\n",
              "      <th>class</th>\n",
              "      <th>ip_country</th>\n",
              "      <th>delta_signup_purchase</th>\n",
              "    </tr>\n",
              "  </thead>\n",
              "  <tbody>\n",
              "    <tr>\n",
              "      <th>0</th>\n",
              "      <td>22058</td>\n",
              "      <td>2015-02-24</td>\n",
              "      <td>2015-04-18</td>\n",
              "      <td>34</td>\n",
              "      <td>QVPSPJUOCKZAR</td>\n",
              "      <td>SEO</td>\n",
              "      <td>Chrome</td>\n",
              "      <td>M</td>\n",
              "      <td>39</td>\n",
              "      <td>7.327584e+08</td>\n",
              "      <td>0</td>\n",
              "      <td>Japan</td>\n",
              "      <td>53 days</td>\n",
              "    </tr>\n",
              "    <tr>\n",
              "      <th>1</th>\n",
              "      <td>333320</td>\n",
              "      <td>2015-06-07</td>\n",
              "      <td>2015-06-08</td>\n",
              "      <td>16</td>\n",
              "      <td>EOGFQPIZPYXFZ</td>\n",
              "      <td>Ads</td>\n",
              "      <td>Chrome</td>\n",
              "      <td>F</td>\n",
              "      <td>53</td>\n",
              "      <td>3.503114e+08</td>\n",
              "      <td>0</td>\n",
              "      <td>United States</td>\n",
              "      <td>1 days</td>\n",
              "    </tr>\n",
              "    <tr>\n",
              "      <th>2</th>\n",
              "      <td>1359</td>\n",
              "      <td>2015-01-01</td>\n",
              "      <td>2015-01-01</td>\n",
              "      <td>15</td>\n",
              "      <td>YSSKYOSJHPPLJ</td>\n",
              "      <td>SEO</td>\n",
              "      <td>Opera</td>\n",
              "      <td>M</td>\n",
              "      <td>53</td>\n",
              "      <td>2.621474e+09</td>\n",
              "      <td>1</td>\n",
              "      <td>United States</td>\n",
              "      <td>0 days</td>\n",
              "    </tr>\n",
              "    <tr>\n",
              "      <th>3</th>\n",
              "      <td>150084</td>\n",
              "      <td>2015-04-28</td>\n",
              "      <td>2015-05-04</td>\n",
              "      <td>44</td>\n",
              "      <td>ATGTXKYKUDUQN</td>\n",
              "      <td>SEO</td>\n",
              "      <td>Safari</td>\n",
              "      <td>M</td>\n",
              "      <td>41</td>\n",
              "      <td>3.840542e+09</td>\n",
              "      <td>0</td>\n",
              "      <td>Unknown</td>\n",
              "      <td>6 days</td>\n",
              "    </tr>\n",
              "    <tr>\n",
              "      <th>4</th>\n",
              "      <td>221365</td>\n",
              "      <td>2015-07-21</td>\n",
              "      <td>2015-09-09</td>\n",
              "      <td>39</td>\n",
              "      <td>NAUITBZFJKHWW</td>\n",
              "      <td>Ads</td>\n",
              "      <td>Safari</td>\n",
              "      <td>M</td>\n",
              "      <td>45</td>\n",
              "      <td>4.155831e+08</td>\n",
              "      <td>0</td>\n",
              "      <td>United States</td>\n",
              "      <td>50 days</td>\n",
              "    </tr>\n",
              "  </tbody>\n",
              "</table>\n",
              "</div>"
            ],
            "text/plain": [
              "   user_id signup_time  ...     ip_country  delta_signup_purchase\n",
              "0    22058  2015-02-24  ...          Japan                53 days\n",
              "1   333320  2015-06-07  ...  United States                 1 days\n",
              "2     1359  2015-01-01  ...  United States                 0 days\n",
              "3   150084  2015-04-28  ...        Unknown                 6 days\n",
              "4   221365  2015-07-21  ...  United States                50 days\n",
              "\n",
              "[5 rows x 13 columns]"
            ]
          },
          "metadata": {
            "tags": []
          },
          "execution_count": 27
        }
      ]
    },
    {
      "cell_type": "code",
      "metadata": {
        "scrolled": true,
        "id": "QSeMYbgW2L4i",
        "colab_type": "code",
        "colab": {
          "base_uri": "https://localhost:8080/",
          "height": 34
        },
        "outputId": "f3a056b0-6f5b-4987-d96b-b26a097b57ff"
      },
      "source": [
        "data.shape"
      ],
      "execution_count": 28,
      "outputs": [
        {
          "output_type": "execute_result",
          "data": {
            "text/plain": [
              "(151112, 13)"
            ]
          },
          "metadata": {
            "tags": []
          },
          "execution_count": 28
        }
      ]
    },
    {
      "cell_type": "code",
      "metadata": {
        "id": "H0jD23vV2L4s",
        "colab_type": "code",
        "colab": {
          "base_uri": "https://localhost:8080/",
          "height": 68
        },
        "outputId": "19c7b094-6702-4adf-cce9-7a6210fd7661"
      },
      "source": [
        "round(data['class'].value_counts(normalize=True).mul(100),2)"
      ],
      "execution_count": 29,
      "outputs": [
        {
          "output_type": "execute_result",
          "data": {
            "text/plain": [
              "0    90.64\n",
              "1     9.36\n",
              "Name: class, dtype: float64"
            ]
          },
          "metadata": {
            "tags": []
          },
          "execution_count": 29
        }
      ]
    },
    {
      "cell_type": "markdown",
      "metadata": {
        "id": "jCwkDVmKyPHA",
        "colab_type": "text"
      },
      "source": [
        "- Environ 10% des transactions sont frauduleuses"
      ]
    },
    {
      "cell_type": "code",
      "metadata": {
        "id": "hirNiE632L4x",
        "colab_type": "code",
        "colab": {
          "base_uri": "https://localhost:8080/",
          "height": 221
        },
        "outputId": "f6bcbbe0-8e4c-429c-d73b-66231cda354c"
      },
      "source": [
        "data['ip_address'].value_counts(ascending=False)"
      ],
      "execution_count": null,
      "outputs": [
        {
          "output_type": "execute_result",
          "data": {
            "text/plain": [
              "3.874758e+09    20\n",
              "5.760609e+08    20\n",
              "2.050964e+09    20\n",
              "1.502818e+09    20\n",
              "2.937899e+09    19\n",
              "                ..\n",
              "1.101289e+09     1\n",
              "2.730533e+09     1\n",
              "3.912052e+09     1\n",
              "3.192721e+09     1\n",
              "2.991295e+09     1\n",
              "Name: ip_address, Length: 143512, dtype: int64"
            ]
          },
          "metadata": {
            "tags": []
          },
          "execution_count": 13
        }
      ]
    },
    {
      "cell_type": "code",
      "metadata": {
        "scrolled": true,
        "id": "X9rSPqmC2L41",
        "colab_type": "code",
        "colab": {
          "base_uri": "https://localhost:8080/",
          "height": 221
        },
        "outputId": "ca843321-c76a-4ee3-8688-e969faffff5f"
      },
      "source": [
        "data.device_id.value_counts(ascending=False)"
      ],
      "execution_count": null,
      "outputs": [
        {
          "output_type": "execute_result",
          "data": {
            "text/plain": [
              "EQYVNEGOFLAWK    20\n",
              "ZUSVMDEZRBDTX    20\n",
              "ITUMJCKWEYNDD    20\n",
              "NGQCKIADMZORL    20\n",
              "KIPFSCNUGOLDP    20\n",
              "                 ..\n",
              "VGIAOAYATPRYG     1\n",
              "SCXHXTRVDLAGH     1\n",
              "SOSFJBDJNTUJV     1\n",
              "LSOIWJMIMHNAA     1\n",
              "JMWLGTNKCYLDJ     1\n",
              "Name: device_id, Length: 137956, dtype: int64"
            ]
          },
          "metadata": {
            "tags": []
          },
          "execution_count": 14
        }
      ]
    },
    {
      "cell_type": "code",
      "metadata": {
        "scrolled": true,
        "id": "x-EMhzU42L45",
        "colab_type": "code",
        "colab": {
          "base_uri": "https://localhost:8080/",
          "height": 204
        },
        "outputId": "5336cf48-74eb-4077-b392-12dee8a31760"
      },
      "source": [
        "data.head()"
      ],
      "execution_count": null,
      "outputs": [
        {
          "output_type": "execute_result",
          "data": {
            "text/html": [
              "<div>\n",
              "<style scoped>\n",
              "    .dataframe tbody tr th:only-of-type {\n",
              "        vertical-align: middle;\n",
              "    }\n",
              "\n",
              "    .dataframe tbody tr th {\n",
              "        vertical-align: top;\n",
              "    }\n",
              "\n",
              "    .dataframe thead th {\n",
              "        text-align: right;\n",
              "    }\n",
              "</style>\n",
              "<table border=\"1\" class=\"dataframe\">\n",
              "  <thead>\n",
              "    <tr style=\"text-align: right;\">\n",
              "      <th></th>\n",
              "      <th>user_id</th>\n",
              "      <th>signup_time</th>\n",
              "      <th>purchase_time</th>\n",
              "      <th>purchase_value</th>\n",
              "      <th>device_id</th>\n",
              "      <th>source</th>\n",
              "      <th>browser</th>\n",
              "      <th>sex</th>\n",
              "      <th>age</th>\n",
              "      <th>ip_address</th>\n",
              "      <th>class</th>\n",
              "      <th>ip_country</th>\n",
              "      <th>delta_signup_purchase</th>\n",
              "    </tr>\n",
              "  </thead>\n",
              "  <tbody>\n",
              "    <tr>\n",
              "      <th>0</th>\n",
              "      <td>22058</td>\n",
              "      <td>2015-02-24</td>\n",
              "      <td>2015-04-18</td>\n",
              "      <td>34</td>\n",
              "      <td>QVPSPJUOCKZAR</td>\n",
              "      <td>SEO</td>\n",
              "      <td>Chrome</td>\n",
              "      <td>M</td>\n",
              "      <td>39</td>\n",
              "      <td>7.327584e+08</td>\n",
              "      <td>0</td>\n",
              "      <td>Japan</td>\n",
              "      <td>53 days</td>\n",
              "    </tr>\n",
              "    <tr>\n",
              "      <th>1</th>\n",
              "      <td>333320</td>\n",
              "      <td>2015-06-07</td>\n",
              "      <td>2015-06-08</td>\n",
              "      <td>16</td>\n",
              "      <td>EOGFQPIZPYXFZ</td>\n",
              "      <td>Ads</td>\n",
              "      <td>Chrome</td>\n",
              "      <td>F</td>\n",
              "      <td>53</td>\n",
              "      <td>3.503114e+08</td>\n",
              "      <td>0</td>\n",
              "      <td>United States</td>\n",
              "      <td>1 days</td>\n",
              "    </tr>\n",
              "    <tr>\n",
              "      <th>2</th>\n",
              "      <td>1359</td>\n",
              "      <td>2015-01-01</td>\n",
              "      <td>2015-01-01</td>\n",
              "      <td>15</td>\n",
              "      <td>YSSKYOSJHPPLJ</td>\n",
              "      <td>SEO</td>\n",
              "      <td>Opera</td>\n",
              "      <td>M</td>\n",
              "      <td>53</td>\n",
              "      <td>2.621474e+09</td>\n",
              "      <td>1</td>\n",
              "      <td>United States</td>\n",
              "      <td>0 days</td>\n",
              "    </tr>\n",
              "    <tr>\n",
              "      <th>3</th>\n",
              "      <td>150084</td>\n",
              "      <td>2015-04-28</td>\n",
              "      <td>2015-05-04</td>\n",
              "      <td>44</td>\n",
              "      <td>ATGTXKYKUDUQN</td>\n",
              "      <td>SEO</td>\n",
              "      <td>Safari</td>\n",
              "      <td>M</td>\n",
              "      <td>41</td>\n",
              "      <td>3.840542e+09</td>\n",
              "      <td>0</td>\n",
              "      <td>Unknown</td>\n",
              "      <td>6 days</td>\n",
              "    </tr>\n",
              "    <tr>\n",
              "      <th>4</th>\n",
              "      <td>221365</td>\n",
              "      <td>2015-07-21</td>\n",
              "      <td>2015-09-09</td>\n",
              "      <td>39</td>\n",
              "      <td>NAUITBZFJKHWW</td>\n",
              "      <td>Ads</td>\n",
              "      <td>Safari</td>\n",
              "      <td>M</td>\n",
              "      <td>45</td>\n",
              "      <td>4.155831e+08</td>\n",
              "      <td>0</td>\n",
              "      <td>United States</td>\n",
              "      <td>50 days</td>\n",
              "    </tr>\n",
              "  </tbody>\n",
              "</table>\n",
              "</div>"
            ],
            "text/plain": [
              "   user_id signup_time  ...     ip_country  delta_signup_purchase\n",
              "0    22058  2015-02-24  ...          Japan                53 days\n",
              "1   333320  2015-06-07  ...  United States                 1 days\n",
              "2     1359  2015-01-01  ...  United States                 0 days\n",
              "3   150084  2015-04-28  ...        Unknown                 6 days\n",
              "4   221365  2015-07-21  ...  United States                50 days\n",
              "\n",
              "[5 rows x 13 columns]"
            ]
          },
          "metadata": {
            "tags": []
          },
          "execution_count": 15
        }
      ]
    },
    {
      "cell_type": "markdown",
      "metadata": {
        "id": "_LdfINfx2L5A",
        "colab_type": "text"
      },
      "source": [
        "- Removing *user_id, signup_time, purchase_time, device_id and ip_address* columns from dataset before machine learning"
      ]
    },
    {
      "cell_type": "code",
      "metadata": {
        "scrolled": true,
        "id": "LMN9pfWg2L5C",
        "colab_type": "code",
        "colab": {
          "base_uri": "https://localhost:8080/",
          "height": 204
        },
        "outputId": "0dfd6393-6a37-47f6-9fc6-586b2c832bfa"
      },
      "source": [
        "df1 = data.drop(['user_id', 'signup_time', 'purchase_time', 'device_id', 'ip_address'], axis =1)\n",
        "df1.head()"
      ],
      "execution_count": 30,
      "outputs": [
        {
          "output_type": "execute_result",
          "data": {
            "text/html": [
              "<div>\n",
              "<style scoped>\n",
              "    .dataframe tbody tr th:only-of-type {\n",
              "        vertical-align: middle;\n",
              "    }\n",
              "\n",
              "    .dataframe tbody tr th {\n",
              "        vertical-align: top;\n",
              "    }\n",
              "\n",
              "    .dataframe thead th {\n",
              "        text-align: right;\n",
              "    }\n",
              "</style>\n",
              "<table border=\"1\" class=\"dataframe\">\n",
              "  <thead>\n",
              "    <tr style=\"text-align: right;\">\n",
              "      <th></th>\n",
              "      <th>purchase_value</th>\n",
              "      <th>source</th>\n",
              "      <th>browser</th>\n",
              "      <th>sex</th>\n",
              "      <th>age</th>\n",
              "      <th>class</th>\n",
              "      <th>ip_country</th>\n",
              "      <th>delta_signup_purchase</th>\n",
              "    </tr>\n",
              "  </thead>\n",
              "  <tbody>\n",
              "    <tr>\n",
              "      <th>0</th>\n",
              "      <td>34</td>\n",
              "      <td>SEO</td>\n",
              "      <td>Chrome</td>\n",
              "      <td>M</td>\n",
              "      <td>39</td>\n",
              "      <td>0</td>\n",
              "      <td>Japan</td>\n",
              "      <td>53 days</td>\n",
              "    </tr>\n",
              "    <tr>\n",
              "      <th>1</th>\n",
              "      <td>16</td>\n",
              "      <td>Ads</td>\n",
              "      <td>Chrome</td>\n",
              "      <td>F</td>\n",
              "      <td>53</td>\n",
              "      <td>0</td>\n",
              "      <td>United States</td>\n",
              "      <td>1 days</td>\n",
              "    </tr>\n",
              "    <tr>\n",
              "      <th>2</th>\n",
              "      <td>15</td>\n",
              "      <td>SEO</td>\n",
              "      <td>Opera</td>\n",
              "      <td>M</td>\n",
              "      <td>53</td>\n",
              "      <td>1</td>\n",
              "      <td>United States</td>\n",
              "      <td>0 days</td>\n",
              "    </tr>\n",
              "    <tr>\n",
              "      <th>3</th>\n",
              "      <td>44</td>\n",
              "      <td>SEO</td>\n",
              "      <td>Safari</td>\n",
              "      <td>M</td>\n",
              "      <td>41</td>\n",
              "      <td>0</td>\n",
              "      <td>Unknown</td>\n",
              "      <td>6 days</td>\n",
              "    </tr>\n",
              "    <tr>\n",
              "      <th>4</th>\n",
              "      <td>39</td>\n",
              "      <td>Ads</td>\n",
              "      <td>Safari</td>\n",
              "      <td>M</td>\n",
              "      <td>45</td>\n",
              "      <td>0</td>\n",
              "      <td>United States</td>\n",
              "      <td>50 days</td>\n",
              "    </tr>\n",
              "  </tbody>\n",
              "</table>\n",
              "</div>"
            ],
            "text/plain": [
              "   purchase_value source browser  ... class     ip_country  delta_signup_purchase\n",
              "0              34    SEO  Chrome  ...     0          Japan                53 days\n",
              "1              16    Ads  Chrome  ...     0  United States                 1 days\n",
              "2              15    SEO   Opera  ...     1  United States                 0 days\n",
              "3              44    SEO  Safari  ...     0        Unknown                 6 days\n",
              "4              39    Ads  Safari  ...     0  United States                50 days\n",
              "\n",
              "[5 rows x 8 columns]"
            ]
          },
          "metadata": {
            "tags": []
          },
          "execution_count": 30
        }
      ]
    },
    {
      "cell_type": "markdown",
      "metadata": {
        "id": "hQM1m08b2L5J",
        "colab_type": "text"
      },
      "source": [
        "- Filtering dataset on *ip_country* column where the country is not  **Unknows** "
      ]
    },
    {
      "cell_type": "code",
      "metadata": {
        "scrolled": true,
        "id": "tLzn3kkC2L5K",
        "colab_type": "code",
        "colab": {}
      },
      "source": [
        "df2 = df1[df1['ip_country']!='Unknown']"
      ],
      "execution_count": 31,
      "outputs": []
    },
    {
      "cell_type": "markdown",
      "metadata": {
        "id": "kM5Zrf3Z2L5c",
        "colab_type": "text"
      },
      "source": [
        "**Removing word << days >> from *delta_signup_purchase* column data :**\n",
        "\n",
        "1. Converting *delta_signup_purchase* column into string in order to use **str function**\n",
        "2. Apply **split function** to *delta_signup_purchase* column in order to split column data, will return a list\n",
        "3. Take the first argument on this list witch should the number of day\n",
        "4. Convert this number of day into integer"
      ]
    },
    {
      "cell_type": "code",
      "metadata": {
        "scrolled": true,
        "id": "gwi3CAG02L5e",
        "colab_type": "code",
        "colab": {}
      },
      "source": [
        "df2.delta_signup_purchase = df2.delta_signup_purchase.apply(lambda x: str(x))"
      ],
      "execution_count": 32,
      "outputs": []
    },
    {
      "cell_type": "code",
      "metadata": {
        "id": "k3IBow2I2L5k",
        "colab_type": "code",
        "colab": {}
      },
      "source": [
        "df2.delta_signup_purchase = df2.delta_signup_purchase.apply(lambda x: x.split(\" \"))"
      ],
      "execution_count": 33,
      "outputs": []
    },
    {
      "cell_type": "code",
      "metadata": {
        "id": "6a5oRhTi2L5o",
        "colab_type": "code",
        "colab": {}
      },
      "source": [
        "df2.delta_signup_purchase = df2.delta_signup_purchase.apply(lambda x: x[0])"
      ],
      "execution_count": 34,
      "outputs": []
    },
    {
      "cell_type": "code",
      "metadata": {
        "id": "mwU4JrJV2L5s",
        "colab_type": "code",
        "colab": {}
      },
      "source": [
        "df2.delta_signup_purchase = df2.delta_signup_purchase.apply(lambda x: int(x))"
      ],
      "execution_count": 35,
      "outputs": []
    },
    {
      "cell_type": "code",
      "metadata": {
        "id": "rkr2BVaSzD1I",
        "colab_type": "code",
        "colab": {
          "base_uri": "https://localhost:8080/",
          "height": 204
        },
        "outputId": "e3e772f6-9614-434b-dd20-aa9e622ce521"
      },
      "source": [
        "df2.head()"
      ],
      "execution_count": 36,
      "outputs": [
        {
          "output_type": "execute_result",
          "data": {
            "text/html": [
              "<div>\n",
              "<style scoped>\n",
              "    .dataframe tbody tr th:only-of-type {\n",
              "        vertical-align: middle;\n",
              "    }\n",
              "\n",
              "    .dataframe tbody tr th {\n",
              "        vertical-align: top;\n",
              "    }\n",
              "\n",
              "    .dataframe thead th {\n",
              "        text-align: right;\n",
              "    }\n",
              "</style>\n",
              "<table border=\"1\" class=\"dataframe\">\n",
              "  <thead>\n",
              "    <tr style=\"text-align: right;\">\n",
              "      <th></th>\n",
              "      <th>purchase_value</th>\n",
              "      <th>source</th>\n",
              "      <th>browser</th>\n",
              "      <th>sex</th>\n",
              "      <th>age</th>\n",
              "      <th>class</th>\n",
              "      <th>ip_country</th>\n",
              "      <th>delta_signup_purchase</th>\n",
              "    </tr>\n",
              "  </thead>\n",
              "  <tbody>\n",
              "    <tr>\n",
              "      <th>0</th>\n",
              "      <td>34</td>\n",
              "      <td>SEO</td>\n",
              "      <td>Chrome</td>\n",
              "      <td>M</td>\n",
              "      <td>39</td>\n",
              "      <td>0</td>\n",
              "      <td>Japan</td>\n",
              "      <td>53</td>\n",
              "    </tr>\n",
              "    <tr>\n",
              "      <th>1</th>\n",
              "      <td>16</td>\n",
              "      <td>Ads</td>\n",
              "      <td>Chrome</td>\n",
              "      <td>F</td>\n",
              "      <td>53</td>\n",
              "      <td>0</td>\n",
              "      <td>United States</td>\n",
              "      <td>1</td>\n",
              "    </tr>\n",
              "    <tr>\n",
              "      <th>2</th>\n",
              "      <td>15</td>\n",
              "      <td>SEO</td>\n",
              "      <td>Opera</td>\n",
              "      <td>M</td>\n",
              "      <td>53</td>\n",
              "      <td>1</td>\n",
              "      <td>United States</td>\n",
              "      <td>0</td>\n",
              "    </tr>\n",
              "    <tr>\n",
              "      <th>4</th>\n",
              "      <td>39</td>\n",
              "      <td>Ads</td>\n",
              "      <td>Safari</td>\n",
              "      <td>M</td>\n",
              "      <td>45</td>\n",
              "      <td>0</td>\n",
              "      <td>United States</td>\n",
              "      <td>50</td>\n",
              "    </tr>\n",
              "    <tr>\n",
              "      <th>5</th>\n",
              "      <td>42</td>\n",
              "      <td>Ads</td>\n",
              "      <td>Chrome</td>\n",
              "      <td>M</td>\n",
              "      <td>18</td>\n",
              "      <td>0</td>\n",
              "      <td>Canada</td>\n",
              "      <td>49</td>\n",
              "    </tr>\n",
              "  </tbody>\n",
              "</table>\n",
              "</div>"
            ],
            "text/plain": [
              "   purchase_value source browser  ... class     ip_country  delta_signup_purchase\n",
              "0              34    SEO  Chrome  ...     0          Japan                     53\n",
              "1              16    Ads  Chrome  ...     0  United States                      1\n",
              "2              15    SEO   Opera  ...     1  United States                      0\n",
              "4              39    Ads  Safari  ...     0  United States                     50\n",
              "5              42    Ads  Chrome  ...     0         Canada                     49\n",
              "\n",
              "[5 rows x 8 columns]"
            ]
          },
          "metadata": {
            "tags": []
          },
          "execution_count": 36
        }
      ]
    },
    {
      "cell_type": "markdown",
      "metadata": {
        "id": "W0dx6q-N2L5w",
        "colab_type": "text"
      },
      "source": [
        "---"
      ]
    },
    {
      "cell_type": "markdown",
      "metadata": {
        "id": "4LA3M6Sc2L5w",
        "colab_type": "text"
      },
      "source": [
        "## Data Visulization"
      ]
    },
    {
      "cell_type": "code",
      "metadata": {
        "scrolled": false,
        "id": "pNh3l66d2L5x",
        "colab_type": "code",
        "colab": {},
        "outputId": "78e4f296-5750-4f48-b524-69f81f402c80"
      },
      "source": [
        "df2.head()"
      ],
      "execution_count": null,
      "outputs": [
        {
          "output_type": "execute_result",
          "data": {
            "text/html": [
              "<div>\n",
              "<style scoped>\n",
              "    .dataframe tbody tr th:only-of-type {\n",
              "        vertical-align: middle;\n",
              "    }\n",
              "\n",
              "    .dataframe tbody tr th {\n",
              "        vertical-align: top;\n",
              "    }\n",
              "\n",
              "    .dataframe thead th {\n",
              "        text-align: right;\n",
              "    }\n",
              "</style>\n",
              "<table border=\"1\" class=\"dataframe\">\n",
              "  <thead>\n",
              "    <tr style=\"text-align: right;\">\n",
              "      <th></th>\n",
              "      <th>purchase_value</th>\n",
              "      <th>source</th>\n",
              "      <th>browser</th>\n",
              "      <th>sex</th>\n",
              "      <th>age</th>\n",
              "      <th>class</th>\n",
              "      <th>ip_country</th>\n",
              "      <th>delta_signup_purchase</th>\n",
              "    </tr>\n",
              "  </thead>\n",
              "  <tbody>\n",
              "    <tr>\n",
              "      <th>0</th>\n",
              "      <td>34</td>\n",
              "      <td>SEO</td>\n",
              "      <td>Chrome</td>\n",
              "      <td>M</td>\n",
              "      <td>39</td>\n",
              "      <td>0</td>\n",
              "      <td>Japan</td>\n",
              "      <td>53</td>\n",
              "    </tr>\n",
              "    <tr>\n",
              "      <th>1</th>\n",
              "      <td>16</td>\n",
              "      <td>Ads</td>\n",
              "      <td>Chrome</td>\n",
              "      <td>F</td>\n",
              "      <td>53</td>\n",
              "      <td>0</td>\n",
              "      <td>United States</td>\n",
              "      <td>1</td>\n",
              "    </tr>\n",
              "    <tr>\n",
              "      <th>2</th>\n",
              "      <td>15</td>\n",
              "      <td>SEO</td>\n",
              "      <td>Opera</td>\n",
              "      <td>M</td>\n",
              "      <td>53</td>\n",
              "      <td>1</td>\n",
              "      <td>United States</td>\n",
              "      <td>0</td>\n",
              "    </tr>\n",
              "    <tr>\n",
              "      <th>4</th>\n",
              "      <td>39</td>\n",
              "      <td>Ads</td>\n",
              "      <td>Safari</td>\n",
              "      <td>M</td>\n",
              "      <td>45</td>\n",
              "      <td>0</td>\n",
              "      <td>United States</td>\n",
              "      <td>50</td>\n",
              "    </tr>\n",
              "    <tr>\n",
              "      <th>5</th>\n",
              "      <td>42</td>\n",
              "      <td>Ads</td>\n",
              "      <td>Chrome</td>\n",
              "      <td>M</td>\n",
              "      <td>18</td>\n",
              "      <td>0</td>\n",
              "      <td>Canada</td>\n",
              "      <td>49</td>\n",
              "    </tr>\n",
              "  </tbody>\n",
              "</table>\n",
              "</div>"
            ],
            "text/plain": [
              "   purchase_value source browser sex  age  class     ip_country  \\\n",
              "0              34    SEO  Chrome   M   39      0          Japan   \n",
              "1              16    Ads  Chrome   F   53      0  United States   \n",
              "2              15    SEO   Opera   M   53      1  United States   \n",
              "4              39    Ads  Safari   M   45      0  United States   \n",
              "5              42    Ads  Chrome   M   18      0         Canada   \n",
              "\n",
              "   delta_signup_purchase  \n",
              "0                     53  \n",
              "1                      1  \n",
              "2                      0  \n",
              "4                     50  \n",
              "5                     49  "
            ]
          },
          "metadata": {
            "tags": []
          },
          "execution_count": 525
        }
      ]
    },
    {
      "cell_type": "markdown",
      "metadata": {
        "id": "RLSzEJz52L51",
        "colab_type": "text"
      },
      "source": [
        "#### Visualization of fraud according to age"
      ]
    },
    {
      "cell_type": "code",
      "metadata": {
        "id": "OVeZOAl22L52",
        "colab_type": "code",
        "colab": {
          "base_uri": "https://localhost:8080/",
          "height": 392
        },
        "outputId": "8ad6a3fd-8183-4815-9ad7-0f2de01901a9"
      },
      "source": [
        "# Visualisation  des fraudes en fonction de l'âge \n",
        "sns.relplot(data = df2, y = 'class', x = 'age', kind='line')\n",
        "plt.title('Fraud Visualization according to ages', fontsize =15, color='m')\n",
        "plt.xlabel(\"Ages\", fontsize=15, color='b')\n",
        "plt.ylabel(\"Class\", fontsize=15, color='b' )\n",
        "\n",
        "plt.show()"
      ],
      "execution_count": null,
      "outputs": [
        {
          "output_type": "display_data",
          "data": {
            "image/png": "[encoded data removed]",
            "text/plain": [
              "<Figure size 360x360 with 1 Axes>"
            ]
          },
          "metadata": {
            "tags": [],
            "needs_background": "light"
          }
        }
      ]
    },
    {
      "cell_type": "markdown",
      "metadata": {
        "id": "s_tDunyp2L57",
        "colab_type": "text"
      },
      "source": [
        "#### Visualization of fraud according to age with focus on ages greater or equal to 55 "
      ]
    },
    {
      "cell_type": "code",
      "metadata": {
        "scrolled": true,
        "id": "l_ryvAQd2L57",
        "colab_type": "code",
        "colab": {
          "base_uri": "https://localhost:8080/",
          "height": 392
        },
        "outputId": "2b751541-b74c-4c97-d73b-910b8b7a93b5"
      },
      "source": [
        "# Visualisation  des fraudes en fonction de l'âge supérieur ou égale à 55 ans \n",
        "sns.relplot(data = df2.query('age>=55'), y = 'class', x = 'age', kind='line')\n",
        "plt.title('Fraud Visualization according to ages over than 55', fontsize=15, color='m')\n",
        "plt.xlabel(\"Ages over 55\", fontsize=15, color='b')\n",
        "plt.ylabel(\"Class\", fontsize=15, color='b' )\n",
        "plt.show()"
      ],
      "execution_count": null,
      "outputs": [
        {
          "output_type": "display_data",
          "data": {
            "image/png": "[encoded data removed]",
            "text/plain": [
              "<Figure size 360x360 with 1 Axes>"
            ]
          },
          "metadata": {
            "tags": [],
            "needs_background": "light"
          }
        }
      ]
    },
    {
      "cell_type": "markdown",
      "metadata": {
        "id": "_VMXZ_jw2L5_",
        "colab_type": "text"
      },
      "source": [
        "- Nous observons un risque de transactions frauduleuses relativement elevé dans la tranche d'âge de 62 à 68 ans et décroit au délas.\n",
        "\n"
      ]
    },
    {
      "cell_type": "code",
      "metadata": {
        "id": "Y9lS70H62L6A",
        "colab_type": "code",
        "colab": {
          "base_uri": "https://localhost:8080/",
          "height": 391
        },
        "outputId": "d75670f4-40fe-47a2-d694-200d76e4216f"
      },
      "source": [
        "sns.relplot(data = df2, y = 'class', x = 'delta_signup_purchase', kind='line')\n",
        "plt.title('Fraudulents activities over time', fontsize=15, color='m' )\n",
        "plt.xlabel(\"Number of days between user's sign-up and purchase time\", fontsize=15, color='b')\n",
        "plt.ylabel(\"Class\", fontsize=15, color='b' )\n",
        "plt.show()"
      ],
      "execution_count": null,
      "outputs": [
        {
          "output_type": "display_data",
          "data": {
            "image/png": "[encoded data removed]",
            "text/plain": [
              "<Figure size 360x360 with 1 Axes>"
            ]
          },
          "metadata": {
            "tags": [],
            "needs_background": "light"
          }
        }
      ]
    },
    {
      "cell_type": "markdown",
      "metadata": {
        "id": "igVR_a9V2L6D",
        "colab_type": "text"
      },
      "source": [
        "#### Visualization of fraudulent activities in time timeline"
      ]
    },
    {
      "cell_type": "code",
      "metadata": {
        "scrolled": true,
        "id": "p12qbAwc2L6E",
        "colab_type": "code",
        "colab": {
          "base_uri": "https://localhost:8080/",
          "height": 410
        },
        "outputId": "ed8a21df-3451-4c37-c609-f3feae98efa2"
      },
      "source": [
        "sns.relplot(data = df2.query('delta_signup_purchase<2.5'), y = 'class', x = 'delta_signup_purchase', kind='line')\n",
        "plt.title('Visualisation des ativités frauduleuses dans le temps', fontsize=15, color='m')\n",
        "plt.xlabel(\"First 2 days between user's \\n sign-up & purchase time\", fontsize=15, color='b')\n",
        "plt.ylabel(\"Class\", fontsize=15, color='b' )\n",
        "\n",
        "plt.show()"
      ],
      "execution_count": null,
      "outputs": [
        {
          "output_type": "display_data",
          "data": {
            "image/png": "[encoded data removed]",
            "text/plain": [
              "<Figure size 360x360 with 1 Axes>"
            ]
          },
          "metadata": {
            "tags": [],
            "needs_background": "light"
          }
        }
      ]
    },
    {
      "cell_type": "markdown",
      "metadata": {
        "id": "S0zKQdR72L6I",
        "colab_type": "text"
      },
      "source": [
        "- Le risque de fraude est fortement accru dans les premières 24h suivant l'inscription de l'utilisateur et s'attenu par la suite."
      ]
    },
    {
      "cell_type": "markdown",
      "metadata": {
        "id": "gtPvzVhU2L6Q",
        "colab_type": "text"
      },
      "source": [
        "### Visualization  of fraud according to countries"
      ]
    },
    {
      "cell_type": "markdown",
      "metadata": {
        "id": "aeQXxV1y2L6Q",
        "colab_type": "text"
      },
      "source": [
        "#### Processing data for map"
      ]
    },
    {
      "cell_type": "code",
      "metadata": {
        "scrolled": true,
        "id": "xcqo1cK42L6R",
        "colab_type": "code",
        "colab": {},
        "outputId": "1661d21d-8df0-4313-de0d-b253cc805023"
      },
      "source": [
        "df2.head()"
      ],
      "execution_count": null,
      "outputs": [
        {
          "output_type": "execute_result",
          "data": {
            "text/html": [
              "<div>\n",
              "<style scoped>\n",
              "    .dataframe tbody tr th:only-of-type {\n",
              "        vertical-align: middle;\n",
              "    }\n",
              "\n",
              "    .dataframe tbody tr th {\n",
              "        vertical-align: top;\n",
              "    }\n",
              "\n",
              "    .dataframe thead th {\n",
              "        text-align: right;\n",
              "    }\n",
              "</style>\n",
              "<table border=\"1\" class=\"dataframe\">\n",
              "  <thead>\n",
              "    <tr style=\"text-align: right;\">\n",
              "      <th></th>\n",
              "      <th>purchase_value</th>\n",
              "      <th>source</th>\n",
              "      <th>browser</th>\n",
              "      <th>sex</th>\n",
              "      <th>age</th>\n",
              "      <th>class</th>\n",
              "      <th>ip_country</th>\n",
              "      <th>delta_signup_purchase</th>\n",
              "    </tr>\n",
              "  </thead>\n",
              "  <tbody>\n",
              "    <tr>\n",
              "      <th>0</th>\n",
              "      <td>34</td>\n",
              "      <td>SEO</td>\n",
              "      <td>Chrome</td>\n",
              "      <td>M</td>\n",
              "      <td>39</td>\n",
              "      <td>0</td>\n",
              "      <td>Japan</td>\n",
              "      <td>53</td>\n",
              "    </tr>\n",
              "    <tr>\n",
              "      <th>1</th>\n",
              "      <td>16</td>\n",
              "      <td>Ads</td>\n",
              "      <td>Chrome</td>\n",
              "      <td>F</td>\n",
              "      <td>53</td>\n",
              "      <td>0</td>\n",
              "      <td>United States</td>\n",
              "      <td>1</td>\n",
              "    </tr>\n",
              "    <tr>\n",
              "      <th>2</th>\n",
              "      <td>15</td>\n",
              "      <td>SEO</td>\n",
              "      <td>Opera</td>\n",
              "      <td>M</td>\n",
              "      <td>53</td>\n",
              "      <td>1</td>\n",
              "      <td>United States</td>\n",
              "      <td>0</td>\n",
              "    </tr>\n",
              "    <tr>\n",
              "      <th>4</th>\n",
              "      <td>39</td>\n",
              "      <td>Ads</td>\n",
              "      <td>Safari</td>\n",
              "      <td>M</td>\n",
              "      <td>45</td>\n",
              "      <td>0</td>\n",
              "      <td>United States</td>\n",
              "      <td>50</td>\n",
              "    </tr>\n",
              "    <tr>\n",
              "      <th>5</th>\n",
              "      <td>42</td>\n",
              "      <td>Ads</td>\n",
              "      <td>Chrome</td>\n",
              "      <td>M</td>\n",
              "      <td>18</td>\n",
              "      <td>0</td>\n",
              "      <td>Canada</td>\n",
              "      <td>49</td>\n",
              "    </tr>\n",
              "  </tbody>\n",
              "</table>\n",
              "</div>"
            ],
            "text/plain": [
              "   purchase_value source browser sex  age  class     ip_country  \\\n",
              "0              34    SEO  Chrome   M   39      0          Japan   \n",
              "1              16    Ads  Chrome   F   53      0  United States   \n",
              "2              15    SEO   Opera   M   53      1  United States   \n",
              "4              39    Ads  Safari   M   45      0  United States   \n",
              "5              42    Ads  Chrome   M   18      0         Canada   \n",
              "\n",
              "   delta_signup_purchase  \n",
              "0                     53  \n",
              "1                      1  \n",
              "2                      0  \n",
              "4                     50  \n",
              "5                     49  "
            ]
          },
          "metadata": {
            "tags": []
          },
          "execution_count": 598
        }
      ]
    },
    {
      "cell_type": "code",
      "metadata": {
        "id": "dHX3HRPG2L6V",
        "colab_type": "code",
        "colab": {}
      },
      "source": [
        "!pip install shapely\n",
        "!pip install geopandas"
      ],
      "execution_count": null,
      "outputs": []
    },
    {
      "cell_type": "code",
      "metadata": {
        "id": "i5zwzEGJ2L6Y",
        "colab_type": "code",
        "colab": {}
      },
      "source": [
        "import geopandas"
      ],
      "execution_count": null,
      "outputs": []
    },
    {
      "cell_type": "markdown",
      "metadata": {
        "id": "ivtEt3wc2L6b",
        "colab_type": "text"
      },
      "source": [
        "- Loading world map dataset througt geopandas "
      ]
    },
    {
      "cell_type": "code",
      "metadata": {
        "scrolled": true,
        "id": "_5pmc_3K2L6d",
        "colab_type": "code",
        "colab": {
          "base_uri": "https://localhost:8080/",
          "height": 204
        },
        "outputId": "a8b97e73-662c-4240-f240-4f0b07bbf3fb"
      },
      "source": [
        "world_map = geopandas.read_file(geopandas.datasets.get_path(\"naturalearth_lowres\"))\n",
        "world_map.head()"
      ],
      "execution_count": null,
      "outputs": [
        {
          "output_type": "execute_result",
          "data": {
            "text/html": [
              "<div>\n",
              "<style scoped>\n",
              "    .dataframe tbody tr th:only-of-type {\n",
              "        vertical-align: middle;\n",
              "    }\n",
              "\n",
              "    .dataframe tbody tr th {\n",
              "        vertical-align: top;\n",
              "    }\n",
              "\n",
              "    .dataframe thead th {\n",
              "        text-align: right;\n",
              "    }\n",
              "</style>\n",
              "<table border=\"1\" class=\"dataframe\">\n",
              "  <thead>\n",
              "    <tr style=\"text-align: right;\">\n",
              "      <th></th>\n",
              "      <th>pop_est</th>\n",
              "      <th>continent</th>\n",
              "      <th>name</th>\n",
              "      <th>iso_a3</th>\n",
              "      <th>gdp_md_est</th>\n",
              "      <th>geometry</th>\n",
              "    </tr>\n",
              "  </thead>\n",
              "  <tbody>\n",
              "    <tr>\n",
              "      <th>0</th>\n",
              "      <td>920938</td>\n",
              "      <td>Oceania</td>\n",
              "      <td>Fiji</td>\n",
              "      <td>FJI</td>\n",
              "      <td>8374.0</td>\n",
              "      <td>MULTIPOLYGON (((180.00000 -16.06713, 180.00000...</td>\n",
              "    </tr>\n",
              "    <tr>\n",
              "      <th>1</th>\n",
              "      <td>53950935</td>\n",
              "      <td>Africa</td>\n",
              "      <td>Tanzania</td>\n",
              "      <td>TZA</td>\n",
              "      <td>150600.0</td>\n",
              "      <td>POLYGON ((33.90371 -0.95000, 34.07262 -1.05982...</td>\n",
              "    </tr>\n",
              "    <tr>\n",
              "      <th>2</th>\n",
              "      <td>603253</td>\n",
              "      <td>Africa</td>\n",
              "      <td>W. Sahara</td>\n",
              "      <td>ESH</td>\n",
              "      <td>906.5</td>\n",
              "      <td>POLYGON ((-8.66559 27.65643, -8.66512 27.58948...</td>\n",
              "    </tr>\n",
              "    <tr>\n",
              "      <th>3</th>\n",
              "      <td>35623680</td>\n",
              "      <td>North America</td>\n",
              "      <td>Canada</td>\n",
              "      <td>CAN</td>\n",
              "      <td>1674000.0</td>\n",
              "      <td>MULTIPOLYGON (((-122.84000 49.00000, -122.9742...</td>\n",
              "    </tr>\n",
              "    <tr>\n",
              "      <th>4</th>\n",
              "      <td>326625791</td>\n",
              "      <td>North America</td>\n",
              "      <td>United States of America</td>\n",
              "      <td>USA</td>\n",
              "      <td>18560000.0</td>\n",
              "      <td>MULTIPOLYGON (((-122.84000 49.00000, -120.0000...</td>\n",
              "    </tr>\n",
              "  </tbody>\n",
              "</table>\n",
              "</div>"
            ],
            "text/plain": [
              "     pop_est  ...                                           geometry\n",
              "0     920938  ...  MULTIPOLYGON (((180.00000 -16.06713, 180.00000...\n",
              "1   53950935  ...  POLYGON ((33.90371 -0.95000, 34.07262 -1.05982...\n",
              "2     603253  ...  POLYGON ((-8.66559 27.65643, -8.66512 27.58948...\n",
              "3   35623680  ...  MULTIPOLYGON (((-122.84000 49.00000, -122.9742...\n",
              "4  326625791  ...  MULTIPOLYGON (((-122.84000 49.00000, -120.0000...\n",
              "\n",
              "[5 rows x 6 columns]"
            ]
          },
          "metadata": {
            "tags": []
          },
          "execution_count": 104
        }
      ]
    },
    {
      "cell_type": "markdown",
      "metadata": {
        "id": "fZbf1aYf2L6f",
        "colab_type": "text"
      },
      "source": [
        "- Creating a new dataset for map with *country_name and the count of Number_of_fraud*"
      ]
    },
    {
      "cell_type": "code",
      "metadata": {
        "id": "2IrpXknp2L6f",
        "colab_type": "code",
        "colab": {}
      },
      "source": [
        "df3_for_map = pd.DataFrame({'country_name':df2[df2['class']==1].ip_country.value_counts().index, 'Number_of_fraud':df2[df2['class']==1].ip_country.value_counts().values}) "
      ],
      "execution_count": null,
      "outputs": []
    },
    {
      "cell_type": "code",
      "metadata": {
        "scrolled": false,
        "id": "BQzdHBjq2L6i",
        "colab_type": "code",
        "colab": {
          "base_uri": "https://localhost:8080/",
          "height": 204
        },
        "outputId": "1d3c959f-8bdd-45b8-d12e-b403849b531e"
      },
      "source": [
        "df3_for_map.head()"
      ],
      "execution_count": null,
      "outputs": [
        {
          "output_type": "execute_result",
          "data": {
            "text/html": [
              "<div>\n",
              "<style scoped>\n",
              "    .dataframe tbody tr th:only-of-type {\n",
              "        vertical-align: middle;\n",
              "    }\n",
              "\n",
              "    .dataframe tbody tr th {\n",
              "        vertical-align: top;\n",
              "    }\n",
              "\n",
              "    .dataframe thead th {\n",
              "        text-align: right;\n",
              "    }\n",
              "</style>\n",
              "<table border=\"1\" class=\"dataframe\">\n",
              "  <thead>\n",
              "    <tr style=\"text-align: right;\">\n",
              "      <th></th>\n",
              "      <th>country_name</th>\n",
              "      <th>Number_of_fraud</th>\n",
              "    </tr>\n",
              "  </thead>\n",
              "  <tbody>\n",
              "    <tr>\n",
              "      <th>0</th>\n",
              "      <td>United States</td>\n",
              "      <td>5551</td>\n",
              "    </tr>\n",
              "    <tr>\n",
              "      <th>1</th>\n",
              "      <td>China</td>\n",
              "      <td>1043</td>\n",
              "    </tr>\n",
              "    <tr>\n",
              "      <th>2</th>\n",
              "      <td>Japan</td>\n",
              "      <td>715</td>\n",
              "    </tr>\n",
              "    <tr>\n",
              "      <th>3</th>\n",
              "      <td>United Kingdom</td>\n",
              "      <td>477</td>\n",
              "    </tr>\n",
              "    <tr>\n",
              "      <th>4</th>\n",
              "      <td>Korea Republic of</td>\n",
              "      <td>380</td>\n",
              "    </tr>\n",
              "  </tbody>\n",
              "</table>\n",
              "</div>"
            ],
            "text/plain": [
              "        country_name  Number_of_fraud\n",
              "0      United States             5551\n",
              "1              China             1043\n",
              "2              Japan              715\n",
              "3     United Kingdom              477\n",
              "4  Korea Republic of              380"
            ]
          },
          "metadata": {
            "tags": []
          },
          "execution_count": 106
        }
      ]
    },
    {
      "cell_type": "markdown",
      "metadata": {
        "scrolled": true,
        "id": "kFuX4zSD2L6l",
        "colab_type": "text"
      },
      "source": [
        "Some countries name on world_map dataset dosen't match  with the corresponding  countrie's name in our new dataset created ( df3_for_map ) , so i just made changes for United States where i used **map function** to get a match."
      ]
    },
    {
      "cell_type": "code",
      "metadata": {
        "id": "mXTy_37V2L6l",
        "colab_type": "code",
        "colab": {}
      },
      "source": [
        "df3_for_map.country_name = df3_for_map.country_name.apply(lambda x: 'United States of America' if x=='United States'\n",
        "                      else x)"
      ],
      "execution_count": null,
      "outputs": []
    },
    {
      "cell_type": "markdown",
      "metadata": {
        "id": "pcHhurNX2L6n",
        "colab_type": "text"
      },
      "source": [
        "- Merging datasets world_map and df3_for_map"
      ]
    },
    {
      "cell_type": "code",
      "metadata": {
        "id": "Ys1Z9OEc2L6o",
        "colab_type": "code",
        "colab": {}
      },
      "source": [
        "merged_for_map = world_map.merge(df3_for_map, left_on = 'name', right_on = 'country_name')"
      ],
      "execution_count": null,
      "outputs": []
    },
    {
      "cell_type": "markdown",
      "metadata": {
        "id": "-BeKspuXFGE0",
        "colab_type": "text"
      },
      "source": [
        "merging result"
      ]
    },
    {
      "cell_type": "code",
      "metadata": {
        "scrolled": true,
        "id": "pcEN1AiD2L6q",
        "colab_type": "code",
        "colab": {
          "base_uri": "https://localhost:8080/",
          "height": 204
        },
        "outputId": "e493d3e8-0101-47e3-c632-d9fb525e5d49"
      },
      "source": [
        "merged_for_map.head()"
      ],
      "execution_count": null,
      "outputs": [
        {
          "output_type": "execute_result",
          "data": {
            "text/html": [
              "<div>\n",
              "<style scoped>\n",
              "    .dataframe tbody tr th:only-of-type {\n",
              "        vertical-align: middle;\n",
              "    }\n",
              "\n",
              "    .dataframe tbody tr th {\n",
              "        vertical-align: top;\n",
              "    }\n",
              "\n",
              "    .dataframe thead th {\n",
              "        text-align: right;\n",
              "    }\n",
              "</style>\n",
              "<table border=\"1\" class=\"dataframe\">\n",
              "  <thead>\n",
              "    <tr style=\"text-align: right;\">\n",
              "      <th></th>\n",
              "      <th>pop_est</th>\n",
              "      <th>continent</th>\n",
              "      <th>name</th>\n",
              "      <th>iso_a3</th>\n",
              "      <th>gdp_md_est</th>\n",
              "      <th>geometry</th>\n",
              "      <th>country_name</th>\n",
              "      <th>Number_of_fraud</th>\n",
              "    </tr>\n",
              "  </thead>\n",
              "  <tbody>\n",
              "    <tr>\n",
              "      <th>0</th>\n",
              "      <td>35623680</td>\n",
              "      <td>North America</td>\n",
              "      <td>Canada</td>\n",
              "      <td>CAN</td>\n",
              "      <td>1674000.0</td>\n",
              "      <td>MULTIPOLYGON (((-122.84000 49.00000, -122.9742...</td>\n",
              "      <td>Canada</td>\n",
              "      <td>348</td>\n",
              "    </tr>\n",
              "    <tr>\n",
              "      <th>1</th>\n",
              "      <td>326625791</td>\n",
              "      <td>North America</td>\n",
              "      <td>United States of America</td>\n",
              "      <td>USA</td>\n",
              "      <td>18560000.0</td>\n",
              "      <td>MULTIPOLYGON (((-122.84000 49.00000, -120.0000...</td>\n",
              "      <td>United States of America</td>\n",
              "      <td>5551</td>\n",
              "    </tr>\n",
              "    <tr>\n",
              "      <th>2</th>\n",
              "      <td>18556698</td>\n",
              "      <td>Asia</td>\n",
              "      <td>Kazakhstan</td>\n",
              "      <td>KAZ</td>\n",
              "      <td>460700.0</td>\n",
              "      <td>POLYGON ((87.35997 49.21498, 86.59878 48.54918...</td>\n",
              "      <td>Kazakhstan</td>\n",
              "      <td>6</td>\n",
              "    </tr>\n",
              "    <tr>\n",
              "      <th>3</th>\n",
              "      <td>29748859</td>\n",
              "      <td>Asia</td>\n",
              "      <td>Uzbekistan</td>\n",
              "      <td>UZB</td>\n",
              "      <td>202300.0</td>\n",
              "      <td>POLYGON ((55.96819 41.30864, 55.92892 44.99586...</td>\n",
              "      <td>Uzbekistan</td>\n",
              "      <td>2</td>\n",
              "    </tr>\n",
              "    <tr>\n",
              "      <th>4</th>\n",
              "      <td>260580739</td>\n",
              "      <td>Asia</td>\n",
              "      <td>Indonesia</td>\n",
              "      <td>IDN</td>\n",
              "      <td>3028000.0</td>\n",
              "      <td>MULTIPOLYGON (((141.00021 -2.60015, 141.01706 ...</td>\n",
              "      <td>Indonesia</td>\n",
              "      <td>57</td>\n",
              "    </tr>\n",
              "  </tbody>\n",
              "</table>\n",
              "</div>"
            ],
            "text/plain": [
              "     pop_est      continent  ...              country_name Number_of_fraud\n",
              "0   35623680  North America  ...                    Canada             348\n",
              "1  326625791  North America  ...  United States of America            5551\n",
              "2   18556698           Asia  ...                Kazakhstan               6\n",
              "3   29748859           Asia  ...                Uzbekistan               2\n",
              "4  260580739           Asia  ...                 Indonesia              57\n",
              "\n",
              "[5 rows x 8 columns]"
            ]
          },
          "metadata": {
            "tags": []
          },
          "execution_count": 109
        }
      ]
    },
    {
      "cell_type": "markdown",
      "metadata": {
        "id": "nEnAk23R2L6s",
        "colab_type": "text"
      },
      "source": [
        "### Visualization  of fraud according to country"
      ]
    },
    {
      "cell_type": "code",
      "metadata": {
        "scrolled": true,
        "id": "gvIwoYrv2L6s",
        "colab_type": "code",
        "colab": {
          "base_uri": "https://localhost:8080/",
          "height": 357
        },
        "outputId": "b06ec05c-4e81-4722-ea79-c76e288afb9d"
      },
      "source": [
        "# set a variable that will call whatever column we want to visualise on the map\n",
        "variable = 'Number_of_fraud'\n",
        "# set the range for the choropleth\n",
        "vmin, vmax = 120, 220\n",
        "# create figure and axes for Matplotlib\n",
        "fig, ax = plt.subplots(1, figsize=(15, 6))\n",
        "merged_for_map.plot(column=variable, cmap='Reds', linewidth=0.8, ax=ax, edgecolor='0.8', legend = True)\n",
        "plt.title('Visualisation du nombre de fraude par pays')\n",
        "plt.show()"
      ],
      "execution_count": null,
      "outputs": [
        {
          "output_type": "display_data",
          "data": {
            "image/png": "[encoded data removed]",
            "text/plain": [
              "<Figure size 1080x432 with 2 Axes>"
            ]
          },
          "metadata": {
            "tags": [],
            "needs_background": "light"
          }
        }
      ]
    },
    {
      "cell_type": "markdown",
      "metadata": {
        "id": "LOsTgu2J2L6u",
        "colab_type": "text"
      },
      "source": [
        "**Les USA, la chine et le Japon sont le Top 3 des pays ayant le plus de fraudeurs.**"
      ]
    },
    {
      "cell_type": "markdown",
      "metadata": {
        "id": "iefgTm1A2L6u",
        "colab_type": "text"
      },
      "source": [
        "---"
      ]
    },
    {
      "cell_type": "markdown",
      "metadata": {
        "id": "zkR337Nv2L6v",
        "colab_type": "text"
      },
      "source": [
        "##  Model's training & performance assessment"
      ]
    },
    {
      "cell_type": "code",
      "metadata": {
        "id": "2XybIeAC2L6v",
        "colab_type": "code",
        "colab": {},
        "outputId": "39fea8b0-a084-46d0-98ab-973e2a1d58de"
      },
      "source": [
        "df2.head()"
      ],
      "execution_count": null,
      "outputs": [
        {
          "output_type": "execute_result",
          "data": {
            "text/html": [
              "<div>\n",
              "<style scoped>\n",
              "    .dataframe tbody tr th:only-of-type {\n",
              "        vertical-align: middle;\n",
              "    }\n",
              "\n",
              "    .dataframe tbody tr th {\n",
              "        vertical-align: top;\n",
              "    }\n",
              "\n",
              "    .dataframe thead th {\n",
              "        text-align: right;\n",
              "    }\n",
              "</style>\n",
              "<table border=\"1\" class=\"dataframe\">\n",
              "  <thead>\n",
              "    <tr style=\"text-align: right;\">\n",
              "      <th></th>\n",
              "      <th>purchase_value</th>\n",
              "      <th>source</th>\n",
              "      <th>browser</th>\n",
              "      <th>sex</th>\n",
              "      <th>age</th>\n",
              "      <th>class</th>\n",
              "      <th>ip_country</th>\n",
              "      <th>delta_signup_purchase</th>\n",
              "    </tr>\n",
              "  </thead>\n",
              "  <tbody>\n",
              "    <tr>\n",
              "      <th>0</th>\n",
              "      <td>34</td>\n",
              "      <td>SEO</td>\n",
              "      <td>Chrome</td>\n",
              "      <td>M</td>\n",
              "      <td>39</td>\n",
              "      <td>0</td>\n",
              "      <td>Japan</td>\n",
              "      <td>53</td>\n",
              "    </tr>\n",
              "    <tr>\n",
              "      <th>1</th>\n",
              "      <td>16</td>\n",
              "      <td>Ads</td>\n",
              "      <td>Chrome</td>\n",
              "      <td>F</td>\n",
              "      <td>53</td>\n",
              "      <td>0</td>\n",
              "      <td>United States</td>\n",
              "      <td>1</td>\n",
              "    </tr>\n",
              "    <tr>\n",
              "      <th>2</th>\n",
              "      <td>15</td>\n",
              "      <td>SEO</td>\n",
              "      <td>Opera</td>\n",
              "      <td>M</td>\n",
              "      <td>53</td>\n",
              "      <td>1</td>\n",
              "      <td>United States</td>\n",
              "      <td>0</td>\n",
              "    </tr>\n",
              "    <tr>\n",
              "      <th>4</th>\n",
              "      <td>39</td>\n",
              "      <td>Ads</td>\n",
              "      <td>Safari</td>\n",
              "      <td>M</td>\n",
              "      <td>45</td>\n",
              "      <td>0</td>\n",
              "      <td>United States</td>\n",
              "      <td>50</td>\n",
              "    </tr>\n",
              "    <tr>\n",
              "      <th>5</th>\n",
              "      <td>42</td>\n",
              "      <td>Ads</td>\n",
              "      <td>Chrome</td>\n",
              "      <td>M</td>\n",
              "      <td>18</td>\n",
              "      <td>0</td>\n",
              "      <td>Canada</td>\n",
              "      <td>49</td>\n",
              "    </tr>\n",
              "  </tbody>\n",
              "</table>\n",
              "</div>"
            ],
            "text/plain": [
              "   purchase_value source browser sex  age  class     ip_country  \\\n",
              "0              34    SEO  Chrome   M   39      0          Japan   \n",
              "1              16    Ads  Chrome   F   53      0  United States   \n",
              "2              15    SEO   Opera   M   53      1  United States   \n",
              "4              39    Ads  Safari   M   45      0  United States   \n",
              "5              42    Ads  Chrome   M   18      0         Canada   \n",
              "\n",
              "   delta_signup_purchase  \n",
              "0                     53  \n",
              "1                      1  \n",
              "2                      0  \n",
              "4                     50  \n",
              "5                     49  "
            ]
          },
          "metadata": {
            "tags": []
          },
          "execution_count": 68
        }
      ]
    },
    {
      "cell_type": "code",
      "metadata": {
        "id": "S681vr9m2L6x",
        "colab_type": "code",
        "colab": {}
      },
      "source": [
        "X = df2.loc[:,df2.columns != 'class']\n",
        "y = df2.loc[:,df2.columns == 'class']"
      ],
      "execution_count": 37,
      "outputs": []
    },
    {
      "cell_type": "code",
      "metadata": {
        "id": "cjembaDR2L6z",
        "colab_type": "code",
        "colab": {}
      },
      "source": [
        "X= pd.get_dummies(X, drop_first=True)"
      ],
      "execution_count": 38,
      "outputs": []
    },
    {
      "cell_type": "markdown",
      "metadata": {
        "id": "j_MPgIXI2L62",
        "colab_type": "text"
      },
      "source": [
        "- **Train test split**"
      ]
    },
    {
      "cell_type": "code",
      "metadata": {
        "id": "38EfaXr-2L63",
        "colab_type": "code",
        "colab": {}
      },
      "source": [
        "from sklearn.model_selection import train_test_split\n",
        "X_train, X_test, y_train, y_test = train_test_split(X, y, test_size = 0.3, random_state=42, stratify = y )"
      ],
      "execution_count": 39,
      "outputs": []
    },
    {
      "cell_type": "markdown",
      "metadata": {
        "id": "yKea0bKe2L68",
        "colab_type": "text"
      },
      "source": [
        "- **Features scaling using StandardScaler**"
      ]
    },
    {
      "cell_type": "code",
      "metadata": {
        "scrolled": true,
        "id": "mpq35Q392L68",
        "colab_type": "code",
        "colab": {}
      },
      "source": [
        "from sklearn.preprocessing import StandardScaler\n",
        "scaler = StandardScaler(with_mean=False)\n",
        "X_train_scaled = scaler.fit_transform(X_train)\n",
        "X_test_scaled = scaler.transform(X_test)"
      ],
      "execution_count": 40,
      "outputs": []
    },
    {
      "cell_type": "code",
      "metadata": {
        "id": "8lfb1UCQ2L7C",
        "colab_type": "code",
        "colab": {
          "base_uri": "https://localhost:8080/",
          "height": 204
        },
        "outputId": "9dc5f2e3-a965-41a0-ec80-8dd8a2c06fed"
      },
      "source": [
        "y_test2 = pd.DataFrame(y_test.copy())\n",
        "y_test2.head()"
      ],
      "execution_count": 41,
      "outputs": [
        {
          "output_type": "execute_result",
          "data": {
            "text/html": [
              "<div>\n",
              "<style scoped>\n",
              "    .dataframe tbody tr th:only-of-type {\n",
              "        vertical-align: middle;\n",
              "    }\n",
              "\n",
              "    .dataframe tbody tr th {\n",
              "        vertical-align: top;\n",
              "    }\n",
              "\n",
              "    .dataframe thead th {\n",
              "        text-align: right;\n",
              "    }\n",
              "</style>\n",
              "<table border=\"1\" class=\"dataframe\">\n",
              "  <thead>\n",
              "    <tr style=\"text-align: right;\">\n",
              "      <th></th>\n",
              "      <th>class</th>\n",
              "    </tr>\n",
              "  </thead>\n",
              "  <tbody>\n",
              "    <tr>\n",
              "      <th>136062</th>\n",
              "      <td>0</td>\n",
              "    </tr>\n",
              "    <tr>\n",
              "      <th>64266</th>\n",
              "      <td>0</td>\n",
              "    </tr>\n",
              "    <tr>\n",
              "      <th>128561</th>\n",
              "      <td>0</td>\n",
              "    </tr>\n",
              "    <tr>\n",
              "      <th>135214</th>\n",
              "      <td>0</td>\n",
              "    </tr>\n",
              "    <tr>\n",
              "      <th>25392</th>\n",
              "      <td>0</td>\n",
              "    </tr>\n",
              "  </tbody>\n",
              "</table>\n",
              "</div>"
            ],
            "text/plain": [
              "        class\n",
              "136062      0\n",
              "64266       0\n",
              "128561      0\n",
              "135214      0\n",
              "25392       0"
            ]
          },
          "metadata": {
            "tags": []
          },
          "execution_count": 41
        }
      ]
    },
    {
      "cell_type": "markdown",
      "metadata": {
        "id": "dSXrQFR5uOff",
        "colab_type": "text"
      },
      "source": [
        "#### Modèle 6"
      ]
    },
    {
      "cell_type": "code",
      "metadata": {
        "scrolled": false,
        "id": "SW0iPtr82L7E",
        "colab_type": "code",
        "colab": {
          "base_uri": "https://localhost:8080/",
          "height": 85
        },
        "outputId": "37f7ef77-0192-45ee-d04e-08e005f3cb84"
      },
      "source": [
        "#LogisticRegressionCV\n",
        "from sklearn.metrics import f1_score, accuracy_score\n",
        "Logistic_CV = LogisticRegressionCV(cv=10, solver='liblinear',  n_jobs=-1, class_weight = {0:1,1:4} )\n",
        "%time Logistic_CV.fit(X_train_scaled, y_train)\n",
        "y_test_pred6 = Logistic_CV.predict(X_test_scaled)\n",
        "print('accuracy_score : ', accuracy_score(y_test2, y_test_pred6))\n",
        "print('f1_score : ', f1_score(y_test2, y_test_pred6))"
      ],
      "execution_count": null,
      "outputs": [
        {
          "output_type": "stream",
          "text": [
            "CPU times: user 477 ms, sys: 369 ms, total: 846 ms\n",
            "Wall time: 36.5 s\n",
            "accuracy_score :  0.9099989675820772\n",
            "f1_score :  0.530749562642982\n"
          ],
          "name": "stdout"
        }
      ]
    },
    {
      "cell_type": "markdown",
      "metadata": {
        "id": "JDA6mtO72L7H",
        "colab_type": "text"
      },
      "source": [
        "  -  **Visualization of confusion matrix**"
      ]
    },
    {
      "cell_type": "code",
      "metadata": {
        "id": "6YUjuMMQ2L7H",
        "colab_type": "code",
        "colab": {
          "base_uri": "https://localhost:8080/",
          "height": 284
        },
        "outputId": "365c01c3-7ae5-4df5-9a21-038a48f1e53a"
      },
      "source": [
        "from sklearn.metrics import confusion_matrix\n",
        "model6 = confusion_matrix(y_test2, y_test_pred6)\n",
        "sns.heatmap(model6, annot=True, fmt='.2f' )\n",
        "plt.title('matrice de confusion pour le modèle 6', fontsize=15, color='m')\n",
        "plt.show()"
      ],
      "execution_count": null,
      "outputs": [
        {
          "output_type": "display_data",
          "data": {
            "image/png": "[encoded data removed]",
            "text/plain": [
              "<Figure size 432x288 with 2 Axes>"
            ]
          },
          "metadata": {
            "tags": [],
            "needs_background": "light"
          }
        }
      ]
    },
    {
      "cell_type": "markdown",
      "metadata": {
        "id": "bxRis1yfuSsy",
        "colab_type": "text"
      },
      "source": [
        "#### Modèle 7"
      ]
    },
    {
      "cell_type": "code",
      "metadata": {
        "scrolled": true,
        "id": "UvCeWde12L7J",
        "colab_type": "code",
        "colab": {
          "base_uri": "https://localhost:8080/",
          "height": 85
        },
        "outputId": "b50accc5-c917-4795-aaf0-12ddecfd6309"
      },
      "source": [
        "#DecisionTree(entropy)\n",
        "from sklearn.tree import DecisionTreeClassifier\n",
        "from sklearn.metrics import f1_score, accuracy_score\n",
        "Tree_entropy = DecisionTreeClassifier(criterion='entropy')\n",
        "%time Tree_entropy.fit(X_train_scaled, y_train)\n",
        "y_test_pred7 = Tree_entropy.predict(X_test_scaled)\n",
        "print('accuracy_score : ', accuracy_score(y_test2, y_test_pred7))\n",
        "print('f1_score : ', f1_score(y_test2, y_test_pred7))"
      ],
      "execution_count": null,
      "outputs": [
        {
          "output_type": "stream",
          "text": [
            "CPU times: user 2.84 s, sys: 908 µs, total: 2.84 s\n",
            "Wall time: 2.84 s\n",
            "accuracy_score :  0.9076760272558332\n",
            "f1_score :  0.5473870682019487\n"
          ],
          "name": "stdout"
        }
      ]
    },
    {
      "cell_type": "markdown",
      "metadata": {
        "id": "qtphugn32L7N",
        "colab_type": "text"
      },
      "source": [
        "  -  **Visualization of confusion matrix**"
      ]
    },
    {
      "cell_type": "code",
      "metadata": {
        "id": "tUHkQS_T2L7N",
        "colab_type": "code",
        "colab": {
          "base_uri": "https://localhost:8080/",
          "height": 284
        },
        "outputId": "9ae64971-3502-4934-d4a3-af367cc6160c"
      },
      "source": [
        "from sklearn.metrics import confusion_matrix\n",
        "model7 = confusion_matrix(y_test2, y_test_pred7)\n",
        "sns.heatmap(model7, annot=True, fmt='.2f' )\n",
        "plt.title('matrice de confusion pour le modèle 7', fontsize=15, color='m')\n",
        "plt.show()"
      ],
      "execution_count": null,
      "outputs": [
        {
          "output_type": "display_data",
          "data": {
            "image/png": "[encoded data removed]",
            "text/plain": [
              "<Figure size 432x288 with 2 Axes>"
            ]
          },
          "metadata": {
            "tags": [],
            "needs_background": "light"
          }
        }
      ]
    },
    {
      "cell_type": "markdown",
      "metadata": {
        "id": "jIyRbzfaui97",
        "colab_type": "text"
      },
      "source": [
        "#### Modèle 8"
      ]
    },
    {
      "cell_type": "code",
      "metadata": {
        "scrolled": true,
        "id": "4UNTcvGg2L7P",
        "colab_type": "code",
        "colab": {
          "base_uri": "https://localhost:8080/",
          "height": 85
        },
        "outputId": "8920d1ec-6718-4ab8-fa76-353df968275e"
      },
      "source": [
        "#Random Forest(100)\n",
        "from sklearn.ensemble import RandomForestClassifier\n",
        "from sklearn.metrics import f1_score, accuracy_score\n",
        "Forest_100 = RandomForestClassifier()\n",
        "%time Forest_100.fit(X_train_scaled, y_train)\n",
        "y_test_pred8 = Forest_100.predict(X_test_scaled)\n",
        "print('accuracy_score : ', accuracy_score(y_test2, y_test_pred8))\n",
        "print('f1_score : ', f1_score(y_test2, y_test_pred8))"
      ],
      "execution_count": null,
      "outputs": [
        {
          "output_type": "stream",
          "text": [
            "CPU times: user 33 s, sys: 46.1 ms, total: 33 s\n",
            "Wall time: 33 s\n",
            "accuracy_score :  0.9554253561841833\n",
            "f1_score :  0.7062425582582073\n"
          ],
          "name": "stdout"
        }
      ]
    },
    {
      "cell_type": "markdown",
      "metadata": {
        "id": "ZA7-uXaR2L7Q",
        "colab_type": "text"
      },
      "source": [
        "  -  **Visualization of confusion matrix**"
      ]
    },
    {
      "cell_type": "code",
      "metadata": {
        "id": "mBd_iFh82L7R",
        "colab_type": "code",
        "colab": {
          "base_uri": "https://localhost:8080/",
          "height": 284
        },
        "outputId": "b0754a89-6942-4186-bb1b-830cbc0d1e0b"
      },
      "source": [
        "from sklearn.metrics import confusion_matrix\n",
        "model8 = confusion_matrix(y_test2, y_test_pred8)\n",
        "sns.heatmap(model8, annot=True, fmt='.2f' )\n",
        "plt.title('matrice de confusion pour le modèle 8', fontsize=15, color='m')\n",
        "plt.show()"
      ],
      "execution_count": null,
      "outputs": [
        {
          "output_type": "display_data",
          "data": {
            "image/png": "[encoded data removed]",
            "text/plain": [
              "<Figure size 432x288 with 2 Axes>"
            ]
          },
          "metadata": {
            "tags": [],
            "needs_background": "light"
          }
        }
      ]
    },
    {
      "cell_type": "markdown",
      "metadata": {
        "id": "L-wyyCrouraC",
        "colab_type": "text"
      },
      "source": [
        "#### Modèle 9"
      ]
    },
    {
      "cell_type": "code",
      "metadata": {
        "scrolled": true,
        "id": "RWWUonPD2L7U",
        "colab_type": "code",
        "colab": {
          "base_uri": "https://localhost:8080/",
          "height": 85
        },
        "outputId": "d007849e-adac-482f-b037-06ce76afdd93"
      },
      "source": [
        "#Random Forest(50)\n",
        "from sklearn.ensemble import RandomForestClassifier\n",
        "from sklearn.metrics import f1_score, accuracy_score\n",
        "Forest_50 = RandomForestClassifier(n_estimators=50, n_jobs=-1)\n",
        "%time Forest_50.fit(X_train_scaled, y_train)\n",
        "y_test_pred9 = Forest_50.predict(X_test_scaled)\n",
        "print('accuracy_score : ', accuracy_score(y_test2, y_test_pred9))\n",
        "print('f1_score : ', f1_score(y_test2, y_test_pred9))"
      ],
      "execution_count": null,
      "outputs": [
        {
          "output_type": "stream",
          "text": [
            "CPU times: user 24.5 s, sys: 60.6 ms, total: 24.6 s\n",
            "Wall time: 12.6 s\n",
            "accuracy_score :  0.9552704934957671\n",
            "f1_score :  0.7054224035356111\n"
          ],
          "name": "stdout"
        }
      ]
    },
    {
      "cell_type": "markdown",
      "metadata": {
        "id": "IQdKD0vV2L7W",
        "colab_type": "text"
      },
      "source": [
        "  -  **Visualization of confusion matrix**"
      ]
    },
    {
      "cell_type": "code",
      "metadata": {
        "id": "SXX8Q1no2L7W",
        "colab_type": "code",
        "colab": {
          "base_uri": "https://localhost:8080/",
          "height": 284
        },
        "outputId": "4aca3598-6979-43bb-c2d1-1e010a17df97"
      },
      "source": [
        "from sklearn.metrics import confusion_matrix\n",
        "model9 = confusion_matrix(y_test2, y_test_pred9)\n",
        "sns.heatmap(model9, annot=True, fmt='.2f' )\n",
        "plt.title('matrice de confusion pour le modèle 9', fontsize=15, color='m')\n",
        "plt.show()"
      ],
      "execution_count": null,
      "outputs": [
        {
          "output_type": "display_data",
          "data": {
            "image/png": "[encoded data removed]",
            "text/plain": [
              "<Figure size 432x288 with 2 Axes>"
            ]
          },
          "metadata": {
            "tags": [],
            "needs_background": "light"
          }
        }
      ]
    },
    {
      "cell_type": "markdown",
      "metadata": {
        "id": "SYad4h6uJB0a",
        "colab_type": "text"
      },
      "source": [
        "### - GridSearchCV for finding model's best hyperparameters "
      ]
    },
    {
      "cell_type": "code",
      "metadata": {
        "scrolled": true,
        "id": "WI9Z1vms2L7a",
        "colab_type": "code",
        "colab": {
          "base_uri": "https://localhost:8080/",
          "height": 408
        },
        "outputId": "d0684076-63b8-4c12-d0fb-c1575030e520"
      },
      "source": [
        "#GridSearchCV\n",
        "from sklearn.model_selection import GridSearchCV\n",
        "random_grid = RandomForestClassifier()\n",
        "params = {\"n_estimators\": range(20, 50, 100),\n",
        "          'max_depth' : [4,6,8,10],\n",
        "          'max_features':[2,3,4] }\n",
        "\n",
        "grid = GridSearchCV(cv=10, estimator = random_grid, param_grid = params, n_jobs=-1 )\n",
        "%time grid.fit(X_train_scaled, y_train)"
      ],
      "execution_count": null,
      "outputs": [
        {
          "output_type": "stream",
          "text": [
            "CPU times: user 1.93 s, sys: 383 ms, total: 2.31 s\n",
            "Wall time: 1min 16s\n"
          ],
          "name": "stdout"
        },
        {
          "output_type": "execute_result",
          "data": {
            "text/plain": [
              "GridSearchCV(cv=10, error_score=nan,\n",
              "             estimator=RandomForestClassifier(bootstrap=True, ccp_alpha=0.0,\n",
              "                                              class_weight=None,\n",
              "                                              criterion='gini', max_depth=None,\n",
              "                                              max_features='auto',\n",
              "                                              max_leaf_nodes=None,\n",
              "                                              max_samples=None,\n",
              "                                              min_impurity_decrease=0.0,\n",
              "                                              min_impurity_split=None,\n",
              "                                              min_samples_leaf=1,\n",
              "                                              min_samples_split=2,\n",
              "                                              min_weight_fraction_leaf=0.0,\n",
              "                                              n_estimators=100, n_jobs=None,\n",
              "                                              oob_score=False,\n",
              "                                              random_state=None, verbose=0,\n",
              "                                              warm_start=False),\n",
              "             iid='deprecated', n_jobs=-1,\n",
              "             param_grid={'max_depth': [4, 6, 8, 10], 'max_features': [2, 3, 4],\n",
              "                         'n_estimators': range(20, 50, 100)},\n",
              "             pre_dispatch='2*n_jobs', refit=True, return_train_score=False,\n",
              "             scoring=None, verbose=0)"
            ]
          },
          "metadata": {
            "tags": []
          },
          "execution_count": 136
        }
      ]
    },
    {
      "cell_type": "code",
      "metadata": {
        "id": "hjByQYRL2L7b",
        "colab_type": "code",
        "colab": {
          "base_uri": "https://localhost:8080/",
          "height": 34
        },
        "outputId": "1be418a0-6754-4854-d7c0-3f3d79a104ae"
      },
      "source": [
        "grid.best_params_"
      ],
      "execution_count": null,
      "outputs": [
        {
          "output_type": "execute_result",
          "data": {
            "text/plain": [
              "{'max_depth': 10, 'max_features': 4, 'n_estimators': 20}"
            ]
          },
          "metadata": {
            "tags": []
          },
          "execution_count": 137
        }
      ]
    },
    {
      "cell_type": "code",
      "metadata": {
        "id": "_VsANg4G2L7d",
        "colab_type": "code",
        "colab": {
          "base_uri": "https://localhost:8080/",
          "height": 34
        },
        "outputId": "ec433ef8-57c6-46e2-8ed4-ad9717abb791"
      },
      "source": [
        "grid.best_estimator_.score(X_test_scaled, y_test)"
      ],
      "execution_count": null,
      "outputs": [
        {
          "output_type": "execute_result",
          "data": {
            "text/plain": [
              "0.9076760272558332"
            ]
          },
          "metadata": {
            "tags": []
          },
          "execution_count": 138
        }
      ]
    },
    {
      "cell_type": "markdown",
      "metadata": {
        "id": "jyORHffVu4mh",
        "colab_type": "text"
      },
      "source": [
        "#### Modèle 10"
      ]
    },
    {
      "cell_type": "code",
      "metadata": {
        "id": "nEyNdcxUJQIu",
        "colab_type": "code",
        "colab": {
          "base_uri": "https://localhost:8080/",
          "height": 85
        },
        "outputId": "b17862cf-78f7-4be3-e98c-dba78765ee55"
      },
      "source": [
        "#RandomForestClassifier()\n",
        "gridsearch2 = RandomForestClassifier(n_estimators=20, max_depth=10, max_features=4)\n",
        "%time gridsearch2.fit(X_train_scaled, y_train)\n",
        "y_test_pred10 = gridsearch2.predict(X_test_scaled)\n",
        "print('accuracy_score : ', accuracy_score(y_test2, y_test_pred10))\n",
        "print('f1_score : ', f1_score(y_test2, y_test_pred10))"
      ],
      "execution_count": null,
      "outputs": [
        {
          "output_type": "stream",
          "text": [
            "CPU times: user 713 ms, sys: 2.97 ms, total: 716 ms\n",
            "Wall time: 718 ms\n",
            "accuracy_score :  0.9051207928969647\n",
            "f1_score :  0.002171552660152009\n"
          ],
          "name": "stdout"
        }
      ]
    },
    {
      "cell_type": "code",
      "metadata": {
        "id": "Kw_q_IuMKCUD",
        "colab_type": "code",
        "colab": {
          "base_uri": "https://localhost:8080/",
          "height": 284
        },
        "outputId": "0d9be5ab-4bb8-43cc-9559-1afa3f6bfa49"
      },
      "source": [
        "model10 = confusion_matrix(y_test2, y_test_pred10)\n",
        "sns.heatmap(model10, annot=True, fmt='.2f' )\n",
        "plt.title('matrice de confusion pour le modèle 10', fontsize=15, color='m')\n",
        "plt.show()"
      ],
      "execution_count": null,
      "outputs": [
        {
          "output_type": "display_data",
          "data": {
            "image/png": "[encoded data removed]",
            "text/plain": [
              "<Figure size 432x288 with 2 Axes>"
            ]
          },
          "metadata": {
            "tags": [],
            "needs_background": "light"
          }
        }
      ]
    },
    {
      "cell_type": "markdown",
      "metadata": {
        "id": "IzvD9eqq2L7f",
        "colab_type": "text"
      },
      "source": [
        "---"
      ]
    },
    {
      "cell_type": "markdown",
      "metadata": {
        "id": "Edk1h3Ey2L7g",
        "colab_type": "text"
      },
      "source": [
        "# 3 - Améliorer la performance de l'algorithme avec du voting, stacking et du boosting."
      ]
    },
    {
      "cell_type": "code",
      "metadata": {
        "id": "V-LY9dEM2L7g",
        "colab_type": "code",
        "colab": {}
      },
      "source": [
        "# Nous allons continuer avec les mêmes data traité (df2)"
      ],
      "execution_count": null,
      "outputs": []
    },
    {
      "cell_type": "code",
      "metadata": {
        "id": "WhathRPk2L7i",
        "colab_type": "code",
        "colab": {},
        "outputId": "8192c2ce-014c-4b79-db0d-d2a6949bd310"
      },
      "source": [
        "df2.head()"
      ],
      "execution_count": null,
      "outputs": [
        {
          "output_type": "execute_result",
          "data": {
            "text/html": [
              "<div>\n",
              "<style scoped>\n",
              "    .dataframe tbody tr th:only-of-type {\n",
              "        vertical-align: middle;\n",
              "    }\n",
              "\n",
              "    .dataframe tbody tr th {\n",
              "        vertical-align: top;\n",
              "    }\n",
              "\n",
              "    .dataframe thead th {\n",
              "        text-align: right;\n",
              "    }\n",
              "</style>\n",
              "<table border=\"1\" class=\"dataframe\">\n",
              "  <thead>\n",
              "    <tr style=\"text-align: right;\">\n",
              "      <th></th>\n",
              "      <th>purchase_value</th>\n",
              "      <th>source</th>\n",
              "      <th>browser</th>\n",
              "      <th>sex</th>\n",
              "      <th>age</th>\n",
              "      <th>class</th>\n",
              "      <th>ip_country</th>\n",
              "      <th>delta_signup_purchase</th>\n",
              "    </tr>\n",
              "  </thead>\n",
              "  <tbody>\n",
              "    <tr>\n",
              "      <th>0</th>\n",
              "      <td>34</td>\n",
              "      <td>SEO</td>\n",
              "      <td>Chrome</td>\n",
              "      <td>M</td>\n",
              "      <td>39</td>\n",
              "      <td>0</td>\n",
              "      <td>Japan</td>\n",
              "      <td>53</td>\n",
              "    </tr>\n",
              "    <tr>\n",
              "      <th>1</th>\n",
              "      <td>16</td>\n",
              "      <td>Ads</td>\n",
              "      <td>Chrome</td>\n",
              "      <td>F</td>\n",
              "      <td>53</td>\n",
              "      <td>0</td>\n",
              "      <td>United States</td>\n",
              "      <td>1</td>\n",
              "    </tr>\n",
              "    <tr>\n",
              "      <th>2</th>\n",
              "      <td>15</td>\n",
              "      <td>SEO</td>\n",
              "      <td>Opera</td>\n",
              "      <td>M</td>\n",
              "      <td>53</td>\n",
              "      <td>1</td>\n",
              "      <td>United States</td>\n",
              "      <td>0</td>\n",
              "    </tr>\n",
              "    <tr>\n",
              "      <th>4</th>\n",
              "      <td>39</td>\n",
              "      <td>Ads</td>\n",
              "      <td>Safari</td>\n",
              "      <td>M</td>\n",
              "      <td>45</td>\n",
              "      <td>0</td>\n",
              "      <td>United States</td>\n",
              "      <td>50</td>\n",
              "    </tr>\n",
              "    <tr>\n",
              "      <th>5</th>\n",
              "      <td>42</td>\n",
              "      <td>Ads</td>\n",
              "      <td>Chrome</td>\n",
              "      <td>M</td>\n",
              "      <td>18</td>\n",
              "      <td>0</td>\n",
              "      <td>Canada</td>\n",
              "      <td>49</td>\n",
              "    </tr>\n",
              "  </tbody>\n",
              "</table>\n",
              "</div>"
            ],
            "text/plain": [
              "   purchase_value source browser sex  age  class     ip_country  \\\n",
              "0              34    SEO  Chrome   M   39      0          Japan   \n",
              "1              16    Ads  Chrome   F   53      0  United States   \n",
              "2              15    SEO   Opera   M   53      1  United States   \n",
              "4              39    Ads  Safari   M   45      0  United States   \n",
              "5              42    Ads  Chrome   M   18      0         Canada   \n",
              "\n",
              "   delta_signup_purchase  \n",
              "0                     53  \n",
              "1                      1  \n",
              "2                      0  \n",
              "4                     50  \n",
              "5                     49  "
            ]
          },
          "metadata": {
            "tags": []
          },
          "execution_count": 96
        }
      ]
    },
    {
      "cell_type": "code",
      "metadata": {
        "id": "BI4gxbiM2L7k",
        "colab_type": "code",
        "colab": {}
      },
      "source": [
        "X = df2.loc[:,df1.columns != 'class']\n",
        "y = df2.loc[:,df1.columns == 'class']"
      ],
      "execution_count": 42,
      "outputs": []
    },
    {
      "cell_type": "code",
      "metadata": {
        "id": "a0UvqfQs2L7s",
        "colab_type": "code",
        "colab": {}
      },
      "source": [
        "X= pd.get_dummies(X, drop_first=True)"
      ],
      "execution_count": 43,
      "outputs": []
    },
    {
      "cell_type": "code",
      "metadata": {
        "id": "yW9SrR6A2L7t",
        "colab_type": "code",
        "colab": {}
      },
      "source": [
        "from sklearn.model_selection import train_test_split\n",
        "X_train, X_test, y_train, y_test = train_test_split(X, y, test_size = 0.3, random_state=42, stratify = y )"
      ],
      "execution_count": 44,
      "outputs": []
    },
    {
      "cell_type": "code",
      "metadata": {
        "scrolled": true,
        "id": "bJZtChxh2L7x",
        "colab_type": "code",
        "colab": {}
      },
      "source": [
        "!pip install missingpy\n",
        "from missingpy import KNNImputer\n",
        "imputer = KNNImputer()\n",
        "\n",
        "X_train = pd.DataFrame(imputer.fit_transform(X_train), columns=X_train.columns)\n",
        "X_test = pd.DataFrame(imputer.transform(X_test), columns=X_test.columns)\n"
      ],
      "execution_count": null,
      "outputs": []
    },
    {
      "cell_type": "code",
      "metadata": {
        "scrolled": true,
        "id": "ZBlhR4FN2L70",
        "colab_type": "code",
        "colab": {}
      },
      "source": [
        "from sklearn.preprocessing import StandardScaler\n",
        "scaler = StandardScaler(with_mean=False)\n",
        "X_train_scaled = scaler.fit_transform(X_train)\n",
        "X_test_scaled = scaler.transform(X_test)"
      ],
      "execution_count": 46,
      "outputs": []
    },
    {
      "cell_type": "code",
      "metadata": {
        "id": "Kpew5HGk2L73",
        "colab_type": "code",
        "colab": {
          "base_uri": "https://localhost:8080/",
          "height": 204
        },
        "outputId": "78696d6a-85f5-4b28-9bbb-0514458377ec"
      },
      "source": [
        "y_test3 = pd.DataFrame(y_test.copy())\n",
        "y_test3.tail()"
      ],
      "execution_count": 48,
      "outputs": [
        {
          "output_type": "execute_result",
          "data": {
            "text/html": [
              "<div>\n",
              "<style scoped>\n",
              "    .dataframe tbody tr th:only-of-type {\n",
              "        vertical-align: middle;\n",
              "    }\n",
              "\n",
              "    .dataframe tbody tr th {\n",
              "        vertical-align: top;\n",
              "    }\n",
              "\n",
              "    .dataframe thead th {\n",
              "        text-align: right;\n",
              "    }\n",
              "</style>\n",
              "<table border=\"1\" class=\"dataframe\">\n",
              "  <thead>\n",
              "    <tr style=\"text-align: right;\">\n",
              "      <th></th>\n",
              "      <th>class</th>\n",
              "    </tr>\n",
              "  </thead>\n",
              "  <tbody>\n",
              "    <tr>\n",
              "      <th>134163</th>\n",
              "      <td>0</td>\n",
              "    </tr>\n",
              "    <tr>\n",
              "      <th>72678</th>\n",
              "      <td>0</td>\n",
              "    </tr>\n",
              "    <tr>\n",
              "      <th>131925</th>\n",
              "      <td>1</td>\n",
              "    </tr>\n",
              "    <tr>\n",
              "      <th>107190</th>\n",
              "      <td>0</td>\n",
              "    </tr>\n",
              "    <tr>\n",
              "      <th>55629</th>\n",
              "      <td>0</td>\n",
              "    </tr>\n",
              "  </tbody>\n",
              "</table>\n",
              "</div>"
            ],
            "text/plain": [
              "        class\n",
              "134163      0\n",
              "72678       0\n",
              "131925      1\n",
              "107190      0\n",
              "55629       0"
            ]
          },
          "metadata": {
            "tags": []
          },
          "execution_count": 48
        }
      ]
    },
    {
      "cell_type": "markdown",
      "metadata": {
        "id": "NdQQHai22L76",
        "colab_type": "text"
      },
      "source": [
        "###  Model's training & performance assessment"
      ]
    },
    {
      "cell_type": "markdown",
      "metadata": {
        "id": "7ghvzCMXvlKY",
        "colab_type": "text"
      },
      "source": [
        "#### Modèle 11"
      ]
    },
    {
      "cell_type": "code",
      "metadata": {
        "scrolled": true,
        "id": "QlDOW18m2L79",
        "colab_type": "code",
        "colab": {}
      },
      "source": [
        "# SVM \n",
        "svm = SVC()\n",
        "%time svm.fit(X_train_scaled, y_train)\n",
        "y_test_pred11 = svm.predict(X_test_scaled)\n",
        "print('accuracy_score', accuracy_score(y_test3, y_test_pred11))\n",
        "print('f1_score', f1_score(y_test3, y_test_pred11))"
      ],
      "execution_count": null,
      "outputs": []
    },
    {
      "cell_type": "code",
      "metadata": {
        "id": "z21CFKV-2L7-",
        "colab_type": "code",
        "colab": {}
      },
      "source": [
        "from sklearn.metrics import confusion_matrix\n",
        "model11 = confusion_matrix(y_test3, y_test_pred11)\n",
        "sns.heatmap(model11, annot=True, fmt='.2f' )\n",
        "plt.title('matrice de confusion pour le modèle 11', fontsize=15, color='m')\n",
        "plt.show()"
      ],
      "execution_count": null,
      "outputs": []
    },
    {
      "cell_type": "markdown",
      "metadata": {
        "id": "noIRKe7kvv5A",
        "colab_type": "text"
      },
      "source": [
        "#### Modèle 12"
      ]
    },
    {
      "cell_type": "code",
      "metadata": {
        "id": "QBI_JiaF2L8A",
        "colab_type": "code",
        "colab": {}
      },
      "source": [
        "# Voting\n",
        "from sklearn.ensemble import VotingClassifier, RandomForestClassifier, AdaBoostRegressor, AdaBoostClassifier\n",
        "voting = VotingClassifier(\n",
        "    estimators = [\n",
        "                (\"logreg\", LogisticRegression()), \n",
        "                (\"tree\", DecisionTreeClassifier()),\n",
        "                (\"Random\", RandomForestClassifier()),\n",
        "                (\"Adaboost\", AdaBoostClassifier())\n",
        "                  ],\n",
        "n_jobs=-1\n",
        ")"
      ],
      "execution_count": 51,
      "outputs": []
    },
    {
      "cell_type": "code",
      "metadata": {
        "scrolled": true,
        "id": "j2aaPcOL2L8B",
        "colab_type": "code",
        "colab": {
          "base_uri": "https://localhost:8080/",
          "height": 85
        },
        "outputId": "06bf4712-3c50-4a02-c69e-a3fcc21245c4"
      },
      "source": [
        "%time voting.fit(X_train_scaled, y_train)\n",
        "y_test_pred12 = voting.predict(X_test_scaled)\n",
        "print('accuracy_score : ', accuracy_score(y_test3, y_test_pred12))\n",
        "print('f1_score : ', f1_score(y_test3, y_test_pred12))"
      ],
      "execution_count": 52,
      "outputs": [
        {
          "output_type": "stream",
          "text": [
            "CPU times: user 162 ms, sys: 305 ms, total: 467 ms\n",
            "Wall time: 36.4 s\n",
            "accuracy_score :  0.9564835845550279\n",
            "f1_score :  0.710706932052162\n"
          ],
          "name": "stdout"
        }
      ]
    },
    {
      "cell_type": "code",
      "metadata": {
        "id": "EL1ttVmMwk8B",
        "colab_type": "code",
        "colab": {
          "base_uri": "https://localhost:8080/",
          "height": 284
        },
        "outputId": "c061294b-66c8-4c06-d8f8-019a76807a54"
      },
      "source": [
        "model12 = confusion_matrix(y_test3, y_test_pred12)\n",
        "sns.heatmap(model12, annot=True, fmt='.2f' )\n",
        "plt.title('matrice de confusion pour le modèle 12', fontsize=15, color='m')\n",
        "plt.show()"
      ],
      "execution_count": 53,
      "outputs": [
        {
          "output_type": "display_data",
          "data": {
            "image/png": "[encoded data removed]",
            "text/plain": [
              "<Figure size 432x288 with 2 Axes>"
            ]
          },
          "metadata": {
            "tags": [],
            "needs_background": "light"
          }
        }
      ]
    },
    {
      "cell_type": "markdown",
      "metadata": {
        "id": "d5ZZ2lRDweBr",
        "colab_type": "text"
      },
      "source": [
        "#### Modèle 13"
      ]
    },
    {
      "cell_type": "code",
      "metadata": {
        "id": "R1Nuz-kz2L8E",
        "colab_type": "code",
        "colab": {}
      },
      "source": [
        "# Stacking\n",
        "from sklearn.ensemble import StackingClassifier\n",
        "stacking = StackingClassifier(\n",
        "    estimators = [\n",
        "                (\"logreg\", LogisticRegression()), \n",
        "                (\"tree\", DecisionTreeClassifier()),\n",
        "                (\"Random\", RandomForestClassifier()),\n",
        "                (\"Adaboost\", AdaBoostClassifier())\n",
        "                  ], \n",
        "    n_jobs=-1,\n",
        "    final_estimator=LogisticRegressionCV()\n",
        ")"
      ],
      "execution_count": 59,
      "outputs": []
    },
    {
      "cell_type": "code",
      "metadata": {
        "scrolled": true,
        "id": "yDrAdkRK2L8G",
        "colab_type": "code",
        "colab": {
          "base_uri": "https://localhost:8080/",
          "height": 85
        },
        "outputId": "ed586400-aaf0-4c32-ad40-ed887301064d"
      },
      "source": [
        "%time stacking.fit(X_train, y_train)\n",
        "y_test_pred13 = stacking.predict(X_test_scaled)\n",
        "print('accuracy_score : ', accuracy_score(y_test3, y_test_pred13))\n",
        "print('f1_score : ', f1_score(y_test3, y_test_pred13))"
      ],
      "execution_count": 60,
      "outputs": [
        {
          "output_type": "stream",
          "text": [
            "CPU times: user 7.59 s, sys: 5.35 s, total: 12.9 s\n",
            "Wall time: 3min 1s\n",
            "accuracy_score :  0.8933254181292587\n",
            "f1_score :  0.22877402500466507\n"
          ],
          "name": "stdout"
        }
      ]
    },
    {
      "cell_type": "code",
      "metadata": {
        "id": "Tfl2mIjDxAHI",
        "colab_type": "code",
        "colab": {
          "base_uri": "https://localhost:8080/",
          "height": 284
        },
        "outputId": "98a69576-dcdf-4bcb-dbb7-1015681242ab"
      },
      "source": [
        "model13 = confusion_matrix(y_test3, y_test_pred13)\n",
        "sns.heatmap(model13, annot=True, fmt='.2f' )\n",
        "plt.title('matrice de confusion pour le modèle 13', fontsize=15, color='m')\n",
        "plt.show()"
      ],
      "execution_count": 61,
      "outputs": [
        {
          "output_type": "display_data",
          "data": {
            "image/png": "[encoded data removed]",
            "text/plain": [
              "<Figure size 432x288 with 2 Axes>"
            ]
          },
          "metadata": {
            "tags": [],
            "needs_background": "light"
          }
        }
      ]
    },
    {
      "cell_type": "markdown",
      "metadata": {
        "id": "Q_reDXDz2L8J",
        "colab_type": "text"
      },
      "source": [
        "#### Modèle 14"
      ]
    },
    {
      "cell_type": "code",
      "metadata": {
        "scrolled": true,
        "id": "Zww86Lzd2L8c",
        "colab_type": "code",
        "colab": {
          "base_uri": "https://localhost:8080/",
          "height": 85
        },
        "outputId": "636fbf46-79e2-4208-96a2-575649a9a2ff"
      },
      "source": [
        "#AdaBoostRegressor\n",
        "Adaboost = AdaBoostRegressor()\n",
        "%time Adaboost.fit(X_train_scaled, y_train)"
      ],
      "execution_count": 62,
      "outputs": [
        {
          "output_type": "stream",
          "text": [
            "CPU times: user 6.16 s, sys: 39.6 ms, total: 6.2 s\n",
            "Wall time: 6.23 s\n"
          ],
          "name": "stdout"
        },
        {
          "output_type": "execute_result",
          "data": {
            "text/plain": [
              "AdaBoostRegressor(base_estimator=None, learning_rate=1.0, loss='linear',\n",
              "                  n_estimators=50, random_state=None)"
            ]
          },
          "metadata": {
            "tags": []
          },
          "execution_count": 62
        }
      ]
    },
    {
      "cell_type": "code",
      "metadata": {
        "scrolled": true,
        "id": "sJrV8vkZ2L8e",
        "colab_type": "code",
        "colab": {
          "base_uri": "https://localhost:8080/",
          "height": 51
        },
        "outputId": "fb0989ad-9b6a-4775-dacc-4b982137da0f"
      },
      "source": [
        "from sklearn.metrics import accuracy_score, f1_score\n",
        "y_test_pred14 = Adaboost.predict(X_test_scaled)\n",
        "print('accuracy_score : ', accuracy_score(y_test3, y_test_pred14.round()))\n",
        "print('f1_score :' , f1_score(y_test3, y_test_pred14.round()))"
      ],
      "execution_count": 63,
      "outputs": [
        {
          "output_type": "stream",
          "text": [
            "accuracy_score :  0.9553479248399752\n",
            "f1_score : 0.7056822048315754\n"
          ],
          "name": "stdout"
        }
      ]
    },
    {
      "cell_type": "markdown",
      "metadata": {
        "id": "sIEkJjLt2L8f",
        "colab_type": "text"
      },
      "source": [
        "  -  **Visualization of confusion matrix**"
      ]
    },
    {
      "cell_type": "code",
      "metadata": {
        "scrolled": true,
        "id": "p60XAH1D2L8f",
        "colab_type": "code",
        "colab": {
          "base_uri": "https://localhost:8080/",
          "height": 284
        },
        "outputId": "61509db7-3095-4f33-cbaf-52bac82f3b1e"
      },
      "source": [
        "model14 = confusion_matrix(y_test3, y_test_pred14.round())\n",
        "sns.heatmap(model14, annot=True, fmt='.2f' )\n",
        "plt.title('matrice de confusion pour le modèle 14', fontsize=15, color='m')\n",
        "plt.show()"
      ],
      "execution_count": 65,
      "outputs": [
        {
          "output_type": "display_data",
          "data": {
            "image/png": "[encoded data removed]",
            "text/plain": [
              "<Figure size 432x288 with 2 Axes>"
            ]
          },
          "metadata": {
            "tags": [],
            "needs_background": "light"
          }
        }
      ]
    },
    {
      "cell_type": "markdown",
      "metadata": {
        "id": "8Gj2HP-t02aV",
        "colab_type": "text"
      },
      "source": [
        "#### Modèle 15"
      ]
    },
    {
      "cell_type": "code",
      "metadata": {
        "scrolled": true,
        "id": "wOh6YHEu2L8h",
        "colab_type": "code",
        "colab": {
          "base_uri": "https://localhost:8080/",
          "height": 221
        },
        "outputId": "6f33645d-06ef-45b3-9969-d9e1aecb7267"
      },
      "source": [
        "# XGBRegressor: EXtreme Gradient Boosting Regressor\n",
        "!pip install xgboost\n",
        "from xgboost import XGBClassifier\n",
        "XGB_regressor = XGBClassifier(n_jobs=-1, learning_rate=0.8, max_depth= 2, max_features= 2)\n",
        "%time XGB_regressor.fit(X_train_scaled, y_train)"
      ],
      "execution_count": 66,
      "outputs": [
        {
          "output_type": "stream",
          "text": [
            "Requirement already satisfied: xgboost in /usr/local/lib/python3.6/dist-packages (0.90)\n",
            "Requirement already satisfied: numpy in /usr/local/lib/python3.6/dist-packages (from xgboost) (1.18.5)\n",
            "Requirement already satisfied: scipy in /usr/local/lib/python3.6/dist-packages (from xgboost) (1.4.1)\n",
            "CPU times: user 33.3 s, sys: 342 ms, total: 33.7 s\n",
            "Wall time: 18.3 s\n"
          ],
          "name": "stdout"
        },
        {
          "output_type": "execute_result",
          "data": {
            "text/plain": [
              "XGBClassifier(base_score=0.5, booster='gbtree', colsample_bylevel=1,\n",
              "              colsample_bynode=1, colsample_bytree=1, gamma=0,\n",
              "              learning_rate=0.8, max_delta_step=0, max_depth=2, max_features=2,\n",
              "              min_child_weight=1, missing=None, n_estimators=100, n_jobs=-1,\n",
              "              nthread=None, objective='binary:logistic', random_state=0,\n",
              "              reg_alpha=0, reg_lambda=1, scale_pos_weight=1, seed=None,\n",
              "              silent=None, subsample=1, verbosity=1)"
            ]
          },
          "metadata": {
            "tags": []
          },
          "execution_count": 66
        }
      ]
    },
    {
      "cell_type": "code",
      "metadata": {
        "scrolled": true,
        "id": "yvbcJoUz2L8i",
        "colab_type": "code",
        "colab": {
          "base_uri": "https://localhost:8080/",
          "height": 51
        },
        "outputId": "d96356aa-07dc-4c57-a626-4003bf778885"
      },
      "source": [
        "# Modèle 15 evaluation \n",
        "y_test_pred15 = XGB_regressor.predict(X_test_scaled)\n",
        "print('accuracy_score : ', accuracy_score(y_test, y_test_pred15))\n",
        "print('f1_score :' ,f1_score(y_test3, y_test_pred15))"
      ],
      "execution_count": 67,
      "outputs": [
        {
          "output_type": "stream",
          "text": [
            "accuracy_score :  0.9553479248399752\n",
            "f1_score : 0.7056822048315754\n"
          ],
          "name": "stdout"
        }
      ]
    },
    {
      "cell_type": "markdown",
      "metadata": {
        "id": "kbHn90KZ2L8k",
        "colab_type": "text"
      },
      "source": [
        "  -  **Visualization of confusion matrix**"
      ]
    },
    {
      "cell_type": "code",
      "metadata": {
        "scrolled": true,
        "id": "eIEe5BPS2L8l",
        "colab_type": "code",
        "colab": {
          "base_uri": "https://localhost:8080/",
          "height": 284
        },
        "outputId": "ada5b3f7-821f-43f0-eb67-55dfb1b4ce8b"
      },
      "source": [
        "model15 = confusion_matrix(y_test3, y_test_pred15)\n",
        "sns.heatmap(model15, annot=True, fmt='.2f' )\n",
        "plt.title('matrice de confusion pour le modèle 15', fontsize=15, color='m')\n",
        "plt.show()"
      ],
      "execution_count": 68,
      "outputs": [
        {
          "output_type": "display_data",
          "data": {
            "image/png": "[encoded data removed]",
            "text/plain": [
              "<Figure size 432x288 with 2 Axes>"
            ]
          },
          "metadata": {
            "tags": [],
            "needs_background": "light"
          }
        }
      ]
    },
    {
      "cell_type": "markdown",
      "metadata": {
        "id": "nhq_8nq_2L8x",
        "colab_type": "text"
      },
      "source": [
        "---"
      ]
    },
    {
      "cell_type": "markdown",
      "metadata": {
        "id": "e_rkvNVs2L8x",
        "colab_type": "text"
      },
      "source": [
        "# 4 - Comparaison de la performance des modèles"
      ]
    },
    {
      "cell_type": "code",
      "metadata": {
        "id": "KrB14a112L9N",
        "colab_type": "code",
        "colab": {}
      },
      "source": [
        "# Comming soon"
      ],
      "execution_count": 71,
      "outputs": []
    },
    {
      "cell_type": "code",
      "metadata": {
        "id": "pQVidenk22hN",
        "colab_type": "code",
        "colab": {}
      },
      "source": [
        ""
      ],
      "execution_count": null,
      "outputs": []
    }
  ]
}