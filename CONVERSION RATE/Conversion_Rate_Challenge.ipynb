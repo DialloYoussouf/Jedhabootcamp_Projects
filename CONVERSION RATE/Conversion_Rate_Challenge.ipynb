{
  "nbformat": 4,
  "nbformat_minor": 0,
  "metadata": {
    "kernelspec": {
      "display_name": "Python 3",
      "language": "python",
      "name": "python3"
    },
    "language_info": {
      "codemirror_mode": {
        "name": "ipython",
        "version": 3
      },
      "file_extension": ".py",
      "mimetype": "text/x-python",
      "name": "python",
      "nbconvert_exporter": "python",
      "pygments_lexer": "ipython3",
      "version": "3.6.10"
    },
    "colab": {
      "name": "Copie final Conversion Rate Challenge.ipynb",
      "provenance": [],
      "collapsed_sections": []
    }
  },
  "cells": [
    {
      "cell_type": "markdown",
      "metadata": {
        "id": "7BwtCN4tbqbQ",
        "colab_type": "text"
      },
      "source": [
        "# Conversion Rate\n",
        "# Kaggle-like Challenge \n",
        "On vous propose ici de tester tout ce que vous avez appris sur le machine learning supervisé, dans le but de faire un modèle de prédiction sur des données fournies, à la manière des compétitions Kaggle.\n",
        "\n",
        "**Déroulement d'un challenge Kaggle**\n",
        "- Kaggle vous envoie toujours deux datasets :\n",
        "  - un fichier data_train.csv qui contient des données correspondant aux variables X, et au label Y à prédire. Utilisez ce fichier pour entraîner vos modèles comme d'habitude.\n",
        "  - un fichier data_test.csv, qui contient les données X au même format que dans data_train.csv, mais cette fois les labels sont cachés. Votre but est de faire des prédictions sur ces données et de renvoyer ces prédictions à Kaggle, pour qu'ils évaluent votre modèle de manière indépendante\n",
        "- Kaggle compare vos prédictions aux vrais labels et propose un leaderboard (équipes classées en fonction de leur score)\n",
        "- Kaggle vous annonce à l'avance quelle métrique va être utilisée pour évaluer les modèles : veillez à utiliser la même métrique pour évaluer les performances de vos modèles\n",
        "\n",
        "**Prédiction de conversion**\n",
        "\n",
        "Optimiser des taux de conversion est une des tâches les plus importantes d'un data scientist.\n",
        "\n",
        "C'est pourquoi, nous allons construire un modèle qui va prédire le taux de conversion de clients sur un site web, en fonction de différentes variables explicatives et faire des recommandations à notre équipe marketing pour pouvoir augmenter notre revenu. Les modèles seront évalués à l'aide du f1-score.\n",
        "\n"
      ]
    },
    {
      "cell_type": "markdown",
      "metadata": {
        "id": "ODz2Ysd-bqba",
        "colab_type": "text"
      },
      "source": [
        "# Importation des librairies et chargement du dataset"
      ]
    },
    {
      "cell_type": "code",
      "metadata": {
        "id": "h5T4ssyGbqbb",
        "colab_type": "code",
        "colab": {}
      },
      "source": [
        "import pandas as pd\n",
        "import numpy as np\n",
        "import matplotlib.pyplot as plt\n",
        "import seaborn as sns"
      ],
      "execution_count": null,
      "outputs": []
    },
    {
      "cell_type": "markdown",
      "metadata": {
        "id": "AfxIDv560rPi",
        "colab_type": "text"
      },
      "source": [
        "### Uploading datasets"
      ]
    },
    {
      "cell_type": "code",
      "metadata": {
        "id": "rRHoFqOeb47t",
        "colab_type": "code",
        "colab": {}
      },
      "source": [
        "from google.colab import files\n",
        "files.upload()"
      ],
      "execution_count": null,
      "outputs": []
    },
    {
      "cell_type": "code",
      "metadata": {
        "id": "5h7TUc9dbqbf",
        "colab_type": "code",
        "colab": {
          "base_uri": "https://localhost:8080/",
          "height": 68
        },
        "outputId": "977a3e4d-3d3a-4125-e8dc-31a21c8f9883"
      },
      "source": [
        "# Import dataset\n",
        "print(\"Loading dataset...\")\n",
        "data = pd.read_csv(\"conversion_data_train.csv\")\n",
        "print(\"...Done.\")\n",
        "print()"
      ],
      "execution_count": null,
      "outputs": [
        {
          "output_type": "stream",
          "text": [
            "Loading dataset...\n",
            "...Done.\n",
            "\n"
          ],
          "name": "stdout"
        }
      ]
    },
    {
      "cell_type": "markdown",
      "metadata": {
        "id": "svhhcWUMbqbj",
        "colab_type": "text"
      },
      "source": [
        "# Basic stats"
      ]
    },
    {
      "cell_type": "code",
      "metadata": {
        "scrolled": false,
        "id": "YhSbARXRbqbk",
        "colab_type": "code",
        "colab": {
          "base_uri": "https://localhost:8080/",
          "height": 407
        },
        "outputId": "3bea82a6-0027-4a26-a076-d133db665967"
      },
      "source": [
        "desc = data.describe(include='all')\n",
        "display(desc)\n",
        "print(data.shape)"
      ],
      "execution_count": null,
      "outputs": [
        {
          "output_type": "display_data",
          "data": {
            "text/html": [
              "<div>\n",
              "<style scoped>\n",
              "    .dataframe tbody tr th:only-of-type {\n",
              "        vertical-align: middle;\n",
              "    }\n",
              "\n",
              "    .dataframe tbody tr th {\n",
              "        vertical-align: top;\n",
              "    }\n",
              "\n",
              "    .dataframe thead th {\n",
              "        text-align: right;\n",
              "    }\n",
              "</style>\n",
              "<table border=\"1\" class=\"dataframe\">\n",
              "  <thead>\n",
              "    <tr style=\"text-align: right;\">\n",
              "      <th></th>\n",
              "      <th>country</th>\n",
              "      <th>age</th>\n",
              "      <th>new_user</th>\n",
              "      <th>source</th>\n",
              "      <th>total_pages_visited</th>\n",
              "      <th>converted</th>\n",
              "    </tr>\n",
              "  </thead>\n",
              "  <tbody>\n",
              "    <tr>\n",
              "      <th>count</th>\n",
              "      <td>284580</td>\n",
              "      <td>284580.000000</td>\n",
              "      <td>284580.000000</td>\n",
              "      <td>284580</td>\n",
              "      <td>284580.000000</td>\n",
              "      <td>284580.000000</td>\n",
              "    </tr>\n",
              "    <tr>\n",
              "      <th>unique</th>\n",
              "      <td>4</td>\n",
              "      <td>NaN</td>\n",
              "      <td>NaN</td>\n",
              "      <td>3</td>\n",
              "      <td>NaN</td>\n",
              "      <td>NaN</td>\n",
              "    </tr>\n",
              "    <tr>\n",
              "      <th>top</th>\n",
              "      <td>US</td>\n",
              "      <td>NaN</td>\n",
              "      <td>NaN</td>\n",
              "      <td>Seo</td>\n",
              "      <td>NaN</td>\n",
              "      <td>NaN</td>\n",
              "    </tr>\n",
              "    <tr>\n",
              "      <th>freq</th>\n",
              "      <td>160124</td>\n",
              "      <td>NaN</td>\n",
              "      <td>NaN</td>\n",
              "      <td>139477</td>\n",
              "      <td>NaN</td>\n",
              "      <td>NaN</td>\n",
              "    </tr>\n",
              "    <tr>\n",
              "      <th>mean</th>\n",
              "      <td>NaN</td>\n",
              "      <td>30.564203</td>\n",
              "      <td>0.685452</td>\n",
              "      <td>NaN</td>\n",
              "      <td>4.873252</td>\n",
              "      <td>0.032258</td>\n",
              "    </tr>\n",
              "    <tr>\n",
              "      <th>std</th>\n",
              "      <td>NaN</td>\n",
              "      <td>8.266789</td>\n",
              "      <td>0.464336</td>\n",
              "      <td>NaN</td>\n",
              "      <td>3.341995</td>\n",
              "      <td>0.176685</td>\n",
              "    </tr>\n",
              "    <tr>\n",
              "      <th>min</th>\n",
              "      <td>NaN</td>\n",
              "      <td>17.000000</td>\n",
              "      <td>0.000000</td>\n",
              "      <td>NaN</td>\n",
              "      <td>1.000000</td>\n",
              "      <td>0.000000</td>\n",
              "    </tr>\n",
              "    <tr>\n",
              "      <th>25%</th>\n",
              "      <td>NaN</td>\n",
              "      <td>24.000000</td>\n",
              "      <td>0.000000</td>\n",
              "      <td>NaN</td>\n",
              "      <td>2.000000</td>\n",
              "      <td>0.000000</td>\n",
              "    </tr>\n",
              "    <tr>\n",
              "      <th>50%</th>\n",
              "      <td>NaN</td>\n",
              "      <td>30.000000</td>\n",
              "      <td>1.000000</td>\n",
              "      <td>NaN</td>\n",
              "      <td>4.000000</td>\n",
              "      <td>0.000000</td>\n",
              "    </tr>\n",
              "    <tr>\n",
              "      <th>75%</th>\n",
              "      <td>NaN</td>\n",
              "      <td>36.000000</td>\n",
              "      <td>1.000000</td>\n",
              "      <td>NaN</td>\n",
              "      <td>7.000000</td>\n",
              "      <td>0.000000</td>\n",
              "    </tr>\n",
              "    <tr>\n",
              "      <th>max</th>\n",
              "      <td>NaN</td>\n",
              "      <td>123.000000</td>\n",
              "      <td>1.000000</td>\n",
              "      <td>NaN</td>\n",
              "      <td>29.000000</td>\n",
              "      <td>1.000000</td>\n",
              "    </tr>\n",
              "  </tbody>\n",
              "</table>\n",
              "</div>"
            ],
            "text/plain": [
              "       country            age  ...  total_pages_visited      converted\n",
              "count   284580  284580.000000  ...        284580.000000  284580.000000\n",
              "unique       4            NaN  ...                  NaN            NaN\n",
              "top         US            NaN  ...                  NaN            NaN\n",
              "freq    160124            NaN  ...                  NaN            NaN\n",
              "mean       NaN      30.564203  ...             4.873252       0.032258\n",
              "std        NaN       8.266789  ...             3.341995       0.176685\n",
              "min        NaN      17.000000  ...             1.000000       0.000000\n",
              "25%        NaN      24.000000  ...             2.000000       0.000000\n",
              "50%        NaN      30.000000  ...             4.000000       0.000000\n",
              "75%        NaN      36.000000  ...             7.000000       0.000000\n",
              "max        NaN     123.000000  ...            29.000000       1.000000\n",
              "\n",
              "[11 rows x 6 columns]"
            ]
          },
          "metadata": {
            "tags": []
          }
        },
        {
          "output_type": "stream",
          "text": [
            "(284580, 6)\n"
          ],
          "name": "stdout"
        }
      ]
    },
    {
      "cell_type": "markdown",
      "metadata": {
        "id": "ICW90b2u1Gcr",
        "colab_type": "text"
      },
      "source": [
        "###Répartition des variables catégorielles du dataset"
      ]
    },
    {
      "cell_type": "code",
      "metadata": {
        "id": "5Hfw3C7kbqbo",
        "colab_type": "code",
        "colab": {
          "base_uri": "https://localhost:8080/",
          "height": 102
        },
        "outputId": "44c04e0b-d89c-4d0b-fae8-e72d3cceaf49"
      },
      "source": [
        "round(data.country.value_counts(normalize=True).mul(100),2)"
      ],
      "execution_count": null,
      "outputs": [
        {
          "output_type": "execute_result",
          "data": {
            "text/plain": [
              "US         56.27\n",
              "China      24.29\n",
              "UK         15.34\n",
              "Germany     4.11\n",
              "Name: country, dtype: float64"
            ]
          },
          "metadata": {
            "tags": []
          },
          "execution_count": 8
        }
      ]
    },
    {
      "cell_type": "markdown",
      "metadata": {
        "id": "HoaT_Xuz3k03",
        "colab_type": "text"
      },
      "source": [
        "- Répartition des utilisateurs en fonctions des pays d'origines\n",
        "- **La majeure partie des utilisateurs provient des USA.**"
      ]
    },
    {
      "cell_type": "code",
      "metadata": {
        "id": "nDqzgDbtbqbv",
        "colab_type": "code",
        "colab": {
          "base_uri": "https://localhost:8080/",
          "height": 68
        },
        "outputId": "0d326dc3-2eb8-4d48-8891-3c1a8e7b7ef6"
      },
      "source": [
        "round(data.new_user.value_counts(normalize=True).mul(100), 2)"
      ],
      "execution_count": null,
      "outputs": [
        {
          "output_type": "execute_result",
          "data": {
            "text/plain": [
              "1    68.55\n",
              "0    31.45\n",
              "Name: new_user, dtype: float64"
            ]
          },
          "metadata": {
            "tags": []
          },
          "execution_count": 7
        }
      ]
    },
    {
      "cell_type": "markdown",
      "metadata": {
        "id": "j5APnxXCLaDx",
        "colab_type": "text"
      },
      "source": [
        "- Environ 2/3 des utilisateurs sont nouvellement inscrits"
      ]
    },
    {
      "cell_type": "code",
      "metadata": {
        "id": "vUFb2Ellbqb1",
        "colab_type": "code",
        "colab": {
          "base_uri": "https://localhost:8080/",
          "height": 85
        },
        "outputId": "3d8b4c86-4597-4cce-ddaf-710fc294a147"
      },
      "source": [
        "round(data.source.value_counts(normalize=True).mul(100),2)"
      ],
      "execution_count": null,
      "outputs": [
        {
          "output_type": "execute_result",
          "data": {
            "text/plain": [
              "Seo       49.01\n",
              "Ads       28.12\n",
              "Direct    22.87\n",
              "Name: source, dtype: float64"
            ]
          },
          "metadata": {
            "tags": []
          },
          "execution_count": 9
        }
      ]
    },
    {
      "cell_type": "markdown",
      "metadata": {
        "id": "jLDlvAMkL4dG",
        "colab_type": "text"
      },
      "source": [
        "- La source de traffic **Seo** semble prédominante chez les utilisateurs"
      ]
    },
    {
      "cell_type": "code",
      "metadata": {
        "id": "oEszFevlbqb5",
        "colab_type": "code",
        "colab": {
          "base_uri": "https://localhost:8080/",
          "height": 867
        },
        "outputId": "a1394ad8-8256-4c45-f6a1-ec7543a00115"
      },
      "source": [
        "round(data.groupby(\"converted\")[\"total_pages_visited\"].value_counts(normalize = True).mul(100),2)"
      ],
      "execution_count": null,
      "outputs": [
        {
          "output_type": "execute_result",
          "data": {
            "text/plain": [
              "converted  total_pages_visited\n",
              "0          2                      14.36\n",
              "           3                      14.33\n",
              "           4                      13.39\n",
              "           1                      13.30\n",
              "           5                      11.84\n",
              "           6                       9.84\n",
              "           7                       7.62\n",
              "           8                       5.64\n",
              "           9                       3.85\n",
              "           10                      2.49\n",
              "           11                      1.55\n",
              "           12                      0.89\n",
              "           13                      0.47\n",
              "           14                      0.24\n",
              "           15                      0.11\n",
              "           16                      0.05\n",
              "           17                      0.02\n",
              "           18                      0.01\n",
              "           19                      0.00\n",
              "           20                      0.00\n",
              "1          14                     10.32\n",
              "           13                      9.74\n",
              "           15                      9.64\n",
              "           16                      9.43\n",
              "           12                      8.63\n",
              "           17                      7.69\n",
              "           18                      6.84\n",
              "           11                      6.37\n",
              "           19                      5.45\n",
              "           10                      4.81\n",
              "           20                      4.04\n",
              "           9                       3.97\n",
              "           21                      2.90\n",
              "           8                       2.63\n",
              "           22                      1.76\n",
              "           7                       1.51\n",
              "           23                      1.08\n",
              "           6                       1.02\n",
              "           5                       0.56\n",
              "           24                      0.44\n",
              "           25                      0.37\n",
              "           4                       0.32\n",
              "           26                      0.16\n",
              "           3                       0.12\n",
              "           2                       0.10\n",
              "           27                      0.08\n",
              "           29                      0.02\n",
              "           28                      0.01\n",
              "Name: total_pages_visited, dtype: float64"
            ]
          },
          "metadata": {
            "tags": []
          },
          "execution_count": 11
        }
      ]
    },
    {
      "cell_type": "code",
      "metadata": {
        "id": "8R4eqK6qbqb8",
        "colab_type": "code",
        "colab": {
          "base_uri": "https://localhost:8080/",
          "height": 68
        },
        "outputId": "ab175aa7-c7d2-406b-84fa-70a8c085c0fb"
      },
      "source": [
        "round(data.converted.value_counts(normalize=True).mul(100),2)"
      ],
      "execution_count": null,
      "outputs": [
        {
          "output_type": "execute_result",
          "data": {
            "text/plain": [
              "0    96.77\n",
              "1     3.23\n",
              "Name: converted, dtype: float64"
            ]
          },
          "metadata": {
            "tags": []
          },
          "execution_count": 12
        }
      ]
    },
    {
      "cell_type": "markdown",
      "metadata": {
        "id": "x53YnS1E21MH",
        "colab_type": "text"
      },
      "source": [
        "- Nous avons un dataset déséquilibré avec un faible taux de conversion."
      ]
    },
    {
      "cell_type": "markdown",
      "metadata": {
        "id": "jWDw1aQ_bqb_",
        "colab_type": "text"
      },
      "source": [
        "---"
      ]
    },
    {
      "cell_type": "markdown",
      "metadata": {
        "id": "gehXyncObqcA",
        "colab_type": "text"
      },
      "source": [
        "# Visualisation exploratoire des variables "
      ]
    },
    {
      "cell_type": "markdown",
      "metadata": {
        "id": "ZhzGaOcFmjbd",
        "colab_type": "text"
      },
      "source": [
        "###Age"
      ]
    },
    {
      "cell_type": "code",
      "metadata": {
        "id": "EIG5JwWyOWw3",
        "colab_type": "code",
        "colab": {
          "base_uri": "https://localhost:8080/",
          "height": 51
        },
        "outputId": "da477d51-9aba-44b8-dd08-577074417157"
      },
      "source": [
        "mu = data['age'].mean()\n",
        "std = data['age'].std()\n",
        "min = round((mu - 2*std))\n",
        "max = round((mu + 2*std))\n",
        "print(\"âge minimum à 2 écart type de la moyenne:\", min, \"\\n\"  \"âge maximum à 2 écart type de la moyenne:\",max)"
      ],
      "execution_count": null,
      "outputs": [
        {
          "output_type": "stream",
          "text": [
            "âge minimum à 2 écart type de la moyenne: 14 \n",
            "âge maximum à 2 écart type de la moyenne: 47\n"
          ],
          "name": "stdout"
        }
      ]
    },
    {
      "cell_type": "code",
      "metadata": {
        "id": "pYxCV0wrMmp8",
        "colab_type": "code",
        "colab": {
          "base_uri": "https://localhost:8080/",
          "height": 51
        },
        "outputId": "04285c69-2876-43c3-a921-7521bd8deae5"
      },
      "source": [
        "print(\"l'âge moyen des utilisateurs : {}\".format(round(data['age'].mean())))\n",
        "print(\"l'écart type : {}\".format(round(data['age'].std())))"
      ],
      "execution_count": null,
      "outputs": [
        {
          "output_type": "stream",
          "text": [
            "l'âge moyen des utilisateurs : 31\n",
            "l'écart type : 8\n"
          ],
          "name": "stdout"
        }
      ]
    },
    {
      "cell_type": "code",
      "metadata": {
        "id": "KtAZrcdxlyPG",
        "colab_type": "code",
        "colab": {
          "base_uri": "https://localhost:8080/",
          "height": 407
        },
        "outputId": "8ac7a4b0-e480-44c4-b52a-b34a40980e74"
      },
      "source": [
        "fig, ax = plt.subplots(figsize=(8,6))\n",
        "sns.distplot(data.age, ax=ax,norm_hist=True, bins=150)\n",
        "plt.title(\"Distribution de l'âge des utilisateurs\", fontsize=15, color='m')\n",
        "plt.text(90, 0.02, \"Les utilisateurs \\n ont une moyenne d'âge\\n comprise entre 14 et 47 ans\\n avec 5% de marge d'erreur\", \n",
        "         horizontalalignment='center',verticalalignment='center',fontsize=15, color='r')\n",
        "plt.show()"
      ],
      "execution_count": null,
      "outputs": [
        {
          "output_type": "display_data",
          "data": {
            "image/png": "[encoded data removed]",
            "text/plain": [
              "<Figure size 576x432 with 1 Axes>"
            ]
          },
          "metadata": {
            "tags": [],
            "needs_background": "light"
          }
        }
      ]
    },
    {
      "cell_type": "markdown",
      "metadata": {
        "id": "-e5gkvdLbqcA",
        "colab_type": "text"
      },
      "source": [
        "###Converted"
      ]
    },
    {
      "cell_type": "code",
      "metadata": {
        "id": "OwVbpEQ4JkS5",
        "colab_type": "code",
        "colab": {
          "base_uri": "https://localhost:8080/",
          "height": 622
        },
        "outputId": "6b805e83-b851-48fe-9bbd-6fe2a64c7008"
      },
      "source": [
        "fig, ax = plt.subplots(2,2, figsize=(10,8), constrained_layout=False, sharey=True, )\n",
        "fig.subplots_adjust(hspace=0.5, wspace=0.5)\n",
        "fig.suptitle(\"Visualization of target variable : Converted\", fontsize=15, color='b')\n",
        "\n",
        "sns.countplot(data =data, x =\"converted\", hue=\"converted\", ax = ax[0, 0])\n",
        "ax[0,0].set_title(\"Conversion Rate\",fontsize=15, color='m')\n",
        "\n",
        "sns.countplot(data =data, x =\"country\", hue=\"converted\", ax = ax[0, 1])\n",
        "ax[0,1].set_title(\"Conversion Rate per Country\",fontsize=15, color='m')\n",
        "\n",
        "sns.countplot(data =data, x =\"source\",  hue=\"converted\", ax = ax[1, 0])\n",
        "ax[1,0].set_title(\"Conversion Rate per source\",fontsize=15, color='m')\n",
        "\n",
        "sns.countplot(data =data, x =\"new_user\",  hue=\"converted\", ax = ax[1, 1])\n",
        "ax[1,1].set_title(\"Conversion Rate per new_user\", fontsize=15, color='m')\n",
        "\n",
        "for i in range(2):\n",
        "    for j in range(2):\n",
        "        for p in ax[i, j].patches:\n",
        "          total = float(len(data))\n",
        "          height = p.get_height()\n",
        "          ax[i,j].text(p.get_x()+p.get_width()/2.,\n",
        "          height + 3, '{0:.0%}'.format(height/total), ha=\"center\")\n",
        "plt.show()"
      ],
      "execution_count": null,
      "outputs": [
        {
          "output_type": "stream",
          "text": [
            "posx and posy should be finite values\n",
            "posx and posy should be finite values\n",
            "posx and posy should be finite values\n",
            "posx and posy should be finite values\n"
          ],
          "name": "stderr"
        },
        {
          "output_type": "display_data",
          "data": {
            "image/png": "[encoded data removed]",
            "text/plain": [
              "<Figure size 720x576 with 4 Axes>"
            ]
          },
          "metadata": {
            "tags": [],
            "needs_background": "light"
          }
        }
      ]
    },
    {
      "cell_type": "markdown",
      "metadata": {
        "id": "b_PM3P_x5Bmz",
        "colab_type": "text"
      },
      "source": [
        "- Le taux de conversion est très faible.\n",
        "- Les USA a le plus grand nombre d'utilisateurs et de taux de conversion\n",
        "- La source **Seo** est la plus performante en matière de génération de traffic "
      ]
    },
    {
      "cell_type": "markdown",
      "metadata": {
        "id": "kUBSYUf4bqcS",
        "colab_type": "text"
      },
      "source": [
        "###Converted according to the number of total pages visited per user"
      ]
    },
    {
      "cell_type": "code",
      "metadata": {
        "id": "2XjbacLBYXSK",
        "colab_type": "code",
        "colab": {
          "base_uri": "https://localhost:8080/",
          "height": 432
        },
        "outputId": "5491ceb4-805d-4844-db79-16accf67d5ab"
      },
      "source": [
        "fig, ax = plt.subplots(1,2, figsize=(20,6), constrained_layout=False)\n",
        "sns.countplot(data = data, x = \"total_pages_visited\", hue='converted', ax=ax[0])\n",
        "fig.suptitle('Conversion rate per total pages visited', fontsize=15, color='b')\n",
        "ax[0].legend(loc='upper right', bbox_to_anchor=(1, 1))\n",
        "sns.countplot(data = data[data['total_pages_visited']>=5], x = \"total_pages_visited\", hue='converted', ax=ax[1])\n",
        "ax[1].legend(loc='upper right', bbox_to_anchor=(1, 1))\n",
        "plt.show()"
      ],
      "execution_count": null,
      "outputs": [
        {
          "output_type": "display_data",
          "data": {
            "image/png": "[encoded data removed]",
            "text/plain": [
              "<Figure size 1440x432 with 2 Axes>"
            ]
          },
          "metadata": {
            "tags": [],
            "needs_background": "light"
          }
        }
      ]
    },
    {
      "cell_type": "markdown",
      "metadata": {
        "id": "u7vaS0T360cJ",
        "colab_type": "text"
      },
      "source": [
        "- Les utilisateurs convertis ont régardé un **nombre de page supérieur ou égale 5.**"
      ]
    },
    {
      "cell_type": "code",
      "metadata": {
        "id": "8duaTJOmbqcT",
        "colab_type": "code",
        "colab": {
          "base_uri": "https://localhost:8080/",
          "height": 369
        },
        "outputId": "a8c63452-9e9b-4479-8353-a04b6fc25a8f"
      },
      "source": [
        "sns.relplot(data = data, y =\"converted\", x = \"total_pages_visited\", kind = 'line')\n",
        "plt.show()"
      ],
      "execution_count": null,
      "outputs": [
        {
          "output_type": "display_data",
          "data": {
            "image/png": "[encoded data removed]",
            "text/plain": [
              "<Figure size 360x360 with 1 Axes>"
            ]
          },
          "metadata": {
            "tags": [],
            "needs_background": "light"
          }
        }
      ]
    },
    {
      "cell_type": "markdown",
      "metadata": {
        "id": "cDLPw44b8FpC",
        "colab_type": "text"
      },
      "source": [
        "- La probabilité de conversion d'un utilisateur s'accroit rapidement à partir de 10 pages consultées jusqu'à atteindre un plateau à 20."
      ]
    },
    {
      "cell_type": "markdown",
      "metadata": {
        "id": "s3-ho5sibqcF",
        "colab_type": "text"
      },
      "source": [
        "### Country Variable "
      ]
    },
    {
      "cell_type": "code",
      "metadata": {
        "id": "f--NvaXBbqcF",
        "colab_type": "code",
        "colab": {
          "base_uri": "https://localhost:8080/",
          "height": 387
        },
        "outputId": "fee3ce1b-c2c3-44ae-eff8-3696f5c6483b"
      },
      "source": [
        "# Visualisation de country\n",
        "country = data.country.value_counts()\n",
        "df_country = pd.DataFrame({\"Country\": country.index, \"Counts\":country.values}).sort_values(by =\"Counts\", ascending=True)\n",
        "sns.catplot(data = df_country, x = \"Country\", y = \"Counts\", kind =\"bar\")\n",
        "plt.title(\"Compte du nombre d'utilisateurs par Pays\", fontsize=15, color='m')\n",
        "plt.show()"
      ],
      "execution_count": null,
      "outputs": [
        {
          "output_type": "display_data",
          "data": {
            "image/png": "[encoded data removed]",
            "text/plain": [
              "<Figure size 360x360 with 1 Axes>"
            ]
          },
          "metadata": {
            "tags": [],
            "needs_background": "light"
          }
        }
      ]
    },
    {
      "cell_type": "code",
      "metadata": {
        "scrolled": true,
        "id": "RTlfgu4LbqcJ",
        "colab_type": "code",
        "colab": {
          "base_uri": "https://localhost:8080/",
          "height": 406
        },
        "outputId": "885acbb5-fd57-4ed9-985d-e70efe438726"
      },
      "source": [
        "sns.catplot(data = data, x = \"country\", y = \"total_pages_visited\", kind =\"bar\", hue = \"new_user\")\n",
        "plt.title(\"Compte du nombre de page consulté\\n par Pays et par type d'utilisateur\", fontsize=15, color='b')\n",
        "plt.show()"
      ],
      "execution_count": null,
      "outputs": [
        {
          "output_type": "display_data",
          "data": {
            "image/png": "[encoded data removed]",
            "text/plain": [
              "<Figure size 415.5x360 with 1 Axes>"
            ]
          },
          "metadata": {
            "tags": [],
            "needs_background": "light"
          }
        }
      ]
    },
    {
      "cell_type": "markdown",
      "metadata": {
        "id": "Y86aYWz2bqcZ",
        "colab_type": "text"
      },
      "source": [
        "## Visualisation des variables  avec matplotlib"
      ]
    },
    {
      "cell_type": "markdown",
      "metadata": {
        "id": "dDr-uHG1bqcZ",
        "colab_type": "text"
      },
      "source": [
        "### Creating new datasets for plotting"
      ]
    },
    {
      "cell_type": "code",
      "metadata": {
        "id": "2HSMesSJbqca",
        "colab_type": "code",
        "colab": {
          "base_uri": "https://localhost:8080/",
          "height": 111
        },
        "outputId": "1bfbf197-60a4-4c97-d1a1-64ce76fb04a8"
      },
      "source": [
        "converted_count = pd.DataFrame(data.converted.value_counts(), index = data.converted.unique())\n",
        "converted_count.index = [\"No\",\"Yes\"]\n",
        "converted_count"
      ],
      "execution_count": null,
      "outputs": [
        {
          "output_type": "execute_result",
          "data": {
            "text/html": [
              "<div>\n",
              "<style scoped>\n",
              "    .dataframe tbody tr th:only-of-type {\n",
              "        vertical-align: middle;\n",
              "    }\n",
              "\n",
              "    .dataframe tbody tr th {\n",
              "        vertical-align: top;\n",
              "    }\n",
              "\n",
              "    .dataframe thead th {\n",
              "        text-align: right;\n",
              "    }\n",
              "</style>\n",
              "<table border=\"1\" class=\"dataframe\">\n",
              "  <thead>\n",
              "    <tr style=\"text-align: right;\">\n",
              "      <th></th>\n",
              "      <th>converted</th>\n",
              "    </tr>\n",
              "  </thead>\n",
              "  <tbody>\n",
              "    <tr>\n",
              "      <th>No</th>\n",
              "      <td>275400</td>\n",
              "    </tr>\n",
              "    <tr>\n",
              "      <th>Yes</th>\n",
              "      <td>9180</td>\n",
              "    </tr>\n",
              "  </tbody>\n",
              "</table>\n",
              "</div>"
            ],
            "text/plain": [
              "     converted\n",
              "No      275400\n",
              "Yes       9180"
            ]
          },
          "metadata": {
            "tags": []
          },
          "execution_count": 11
        }
      ]
    },
    {
      "cell_type": "code",
      "metadata": {
        "scrolled": true,
        "id": "AYkJe9eAbqcd",
        "colab_type": "code",
        "colab": {
          "base_uri": "https://localhost:8080/",
          "height": 173
        },
        "outputId": "583204b1-4e9b-4d39-a31f-bc5a1ddfaed0"
      },
      "source": [
        "country_count = pd.DataFrame({\"Country\":data.country.value_counts().values}, index =[i for i in data.country.value_counts().index])\n",
        "country_count"
      ],
      "execution_count": null,
      "outputs": [
        {
          "output_type": "execute_result",
          "data": {
            "text/html": [
              "<div>\n",
              "<style scoped>\n",
              "    .dataframe tbody tr th:only-of-type {\n",
              "        vertical-align: middle;\n",
              "    }\n",
              "\n",
              "    .dataframe tbody tr th {\n",
              "        vertical-align: top;\n",
              "    }\n",
              "\n",
              "    .dataframe thead th {\n",
              "        text-align: right;\n",
              "    }\n",
              "</style>\n",
              "<table border=\"1\" class=\"dataframe\">\n",
              "  <thead>\n",
              "    <tr style=\"text-align: right;\">\n",
              "      <th></th>\n",
              "      <th>Country</th>\n",
              "    </tr>\n",
              "  </thead>\n",
              "  <tbody>\n",
              "    <tr>\n",
              "      <th>US</th>\n",
              "      <td>160124</td>\n",
              "    </tr>\n",
              "    <tr>\n",
              "      <th>China</th>\n",
              "      <td>69122</td>\n",
              "    </tr>\n",
              "    <tr>\n",
              "      <th>UK</th>\n",
              "      <td>43641</td>\n",
              "    </tr>\n",
              "    <tr>\n",
              "      <th>Germany</th>\n",
              "      <td>11693</td>\n",
              "    </tr>\n",
              "  </tbody>\n",
              "</table>\n",
              "</div>"
            ],
            "text/plain": [
              "         Country\n",
              "US        160124\n",
              "China      69122\n",
              "UK         43641\n",
              "Germany    11693"
            ]
          },
          "metadata": {
            "tags": []
          },
          "execution_count": 12
        }
      ]
    },
    {
      "cell_type": "markdown",
      "metadata": {
        "id": "kKq96exkbqcg",
        "colab_type": "text"
      },
      "source": [
        "- **Focus on user converted** "
      ]
    },
    {
      "cell_type": "code",
      "metadata": {
        "id": "7vxDR1pLbqch",
        "colab_type": "code",
        "colab": {
          "base_uri": "https://localhost:8080/",
          "height": 190
        },
        "outputId": "f2f0fbfe-95c8-4ab6-b513-3de3cabd730a"
      },
      "source": [
        "converted_yes_count = data[data[\"converted\"]==1]\n",
        "print(\"Total Count of customers converted : \",data.converted.value_counts().values[1])\n",
        "converted_yes_country_count = pd.DataFrame({\"Country\":converted_yes_count.country.value_counts().values}, index =[i for i in converted_yes_count.country.value_counts().index])\n",
        "converted_yes_country_count"
      ],
      "execution_count": null,
      "outputs": [
        {
          "output_type": "stream",
          "text": [
            "Total Count of customers converted :  9180\n"
          ],
          "name": "stdout"
        },
        {
          "output_type": "execute_result",
          "data": {
            "text/html": [
              "<div>\n",
              "<style scoped>\n",
              "    .dataframe tbody tr th:only-of-type {\n",
              "        vertical-align: middle;\n",
              "    }\n",
              "\n",
              "    .dataframe tbody tr th {\n",
              "        vertical-align: top;\n",
              "    }\n",
              "\n",
              "    .dataframe thead th {\n",
              "        text-align: right;\n",
              "    }\n",
              "</style>\n",
              "<table border=\"1\" class=\"dataframe\">\n",
              "  <thead>\n",
              "    <tr style=\"text-align: right;\">\n",
              "      <th></th>\n",
              "      <th>Country</th>\n",
              "    </tr>\n",
              "  </thead>\n",
              "  <tbody>\n",
              "    <tr>\n",
              "      <th>US</th>\n",
              "      <td>6070</td>\n",
              "    </tr>\n",
              "    <tr>\n",
              "      <th>UK</th>\n",
              "      <td>2291</td>\n",
              "    </tr>\n",
              "    <tr>\n",
              "      <th>Germany</th>\n",
              "      <td>730</td>\n",
              "    </tr>\n",
              "    <tr>\n",
              "      <th>China</th>\n",
              "      <td>89</td>\n",
              "    </tr>\n",
              "  </tbody>\n",
              "</table>\n",
              "</div>"
            ],
            "text/plain": [
              "         Country\n",
              "US          6070\n",
              "UK          2291\n",
              "Germany      730\n",
              "China         89"
            ]
          },
          "metadata": {
            "tags": []
          },
          "execution_count": 14
        }
      ]
    },
    {
      "cell_type": "markdown",
      "metadata": {
        "id": "vc2MRghhbqcn",
        "colab_type": "text"
      },
      "source": [
        "### Plotting"
      ]
    },
    {
      "cell_type": "code",
      "metadata": {
        "id": "glxgapXlhY2K",
        "colab_type": "code",
        "colab": {}
      },
      "source": [
        "# Remove warnings messages\n",
        "import warnings\n",
        "warnings.filterwarnings('ignore')"
      ],
      "execution_count": null,
      "outputs": []
    },
    {
      "cell_type": "code",
      "metadata": {
        "scrolled": true,
        "id": "m_VJf7cEbqcn",
        "colab_type": "code",
        "colab": {
          "base_uri": "https://localhost:8080/",
          "height": 538
        },
        "outputId": "aa0a7cca-03cc-401a-b837-ef7275b50ddb"
      },
      "source": [
        "# Visualisation de la variable cible\n",
        "plt.figure(figsize=(10,9), constrained_layout=False)\n",
        "explode1 = [0, 0.8]\n",
        "explode2 = [0, 0, 0.5, 0.8]\n",
        "\n",
        "plt.subplot(221)\n",
        "plt.pie(converted_count, explode1, autopct='%1.1f%%',shadow=True, startangle=45, labels = converted_count.index) \n",
        "plt.legend(converted_count.index,loc='upper left', bbox_to_anchor=(0,1))\n",
        "plt.title(\"Total Conversion rate\", fontsize=15, color='m')\n",
        "\n",
        "\n",
        "plt.subplot(222)\n",
        "plt.pie(country_count, explode2, autopct='%1.1f%%',shadow=True, startangle=0, labels = country_count.index) \n",
        "plt.legend(country_count.index, loc='upper left', bbox_to_anchor=(1,1))\n",
        "plt.title(\"Customer rate per Country\", loc = \"left\" , fontsize=15, color='m')\n",
        "\n",
        "\n",
        "plt.subplot(223)\n",
        "plt.pie(converted_yes_country_count, explode2, autopct='%1.1f%%',shadow=True, startangle=180, labels = converted_yes_country_count.index) \n",
        "plt.legend(converted_yes_country_count.index, loc='upper left', bbox_to_anchor=(1,1))\n",
        "plt.title(\"Customer Converted rate per Country\", loc = \"left\", fontsize=15, color='m')\n",
        "\n",
        "plt.show()"
      ],
      "execution_count": null,
      "outputs": [
        {
          "output_type": "display_data",
          "data": {
            "image/png": "[encoded data removed]",
            "text/plain": [
              "<Figure size 720x648 with 3 Axes>"
            ]
          },
          "metadata": {
            "tags": []
          }
        }
      ]
    },
    {
      "cell_type": "markdown",
      "metadata": {
        "id": "3txXOabubqcq",
        "colab_type": "text"
      },
      "source": [
        "### Distribution des âges"
      ]
    },
    {
      "cell_type": "code",
      "metadata": {
        "id": "eN1MZ7lDbqcr",
        "colab_type": "code",
        "colab": {
          "base_uri": "https://localhost:8080/",
          "height": 358
        },
        "outputId": "42bd2187-8cf9-474a-f2d5-e2fe47b8618e"
      },
      "source": [
        "# Visualisation de la distribution des âges\n",
        "plt.figure(figsize=(8,5))   \n",
        "plt.hist(data.age, 200, facecolor='r', density=False )\n",
        "plt.title(\"Visualisation de la distribution des âges\", fontsize = 15, color ='m')\n",
        "plt.xlabel(\"Ages\", fontsize = 15, color ='b')\n",
        "plt.ylabel(\"Count\", fontsize = 15, color ='b')\n",
        "plt.show()"
      ],
      "execution_count": null,
      "outputs": [
        {
          "output_type": "display_data",
          "data": {
            "image/png": "[encoded data removed]",
            "text/plain": [
              "<Figure size 576x360 with 1 Axes>"
            ]
          },
          "metadata": {
            "tags": [],
            "needs_background": "light"
          }
        }
      ]
    },
    {
      "cell_type": "markdown",
      "metadata": {
        "id": "8j2zNVB2bqcv",
        "colab_type": "text"
      },
      "source": [
        "# Check correlations"
      ]
    },
    {
      "cell_type": "code",
      "metadata": {
        "id": "yIxHUssKbqcv",
        "colab_type": "code",
        "colab": {
          "base_uri": "https://localhost:8080/",
          "height": 173
        },
        "outputId": "e53c93f8-3611-4f89-f72f-4b97635c9623"
      },
      "source": [
        "corr = data.corr()\n",
        "#corr = corr.converted.sort_values(ascending = False)\n",
        "#corr = abs(corr.converted.sort_values(ascending = False))\n",
        "corr"
      ],
      "execution_count": null,
      "outputs": [
        {
          "output_type": "execute_result",
          "data": {
            "text/html": [
              "<div>\n",
              "<style scoped>\n",
              "    .dataframe tbody tr th:only-of-type {\n",
              "        vertical-align: middle;\n",
              "    }\n",
              "\n",
              "    .dataframe tbody tr th {\n",
              "        vertical-align: top;\n",
              "    }\n",
              "\n",
              "    .dataframe thead th {\n",
              "        text-align: right;\n",
              "    }\n",
              "</style>\n",
              "<table border=\"1\" class=\"dataframe\">\n",
              "  <thead>\n",
              "    <tr style=\"text-align: right;\">\n",
              "      <th></th>\n",
              "      <th>age</th>\n",
              "      <th>new_user</th>\n",
              "      <th>total_pages_visited</th>\n",
              "      <th>converted</th>\n",
              "    </tr>\n",
              "  </thead>\n",
              "  <tbody>\n",
              "    <tr>\n",
              "      <th>age</th>\n",
              "      <td>1.000000</td>\n",
              "      <td>0.011676</td>\n",
              "      <td>-0.045365</td>\n",
              "      <td>-0.088265</td>\n",
              "    </tr>\n",
              "    <tr>\n",
              "      <th>new_user</th>\n",
              "      <td>0.011676</td>\n",
              "      <td>1.000000</td>\n",
              "      <td>-0.082986</td>\n",
              "      <td>-0.152115</td>\n",
              "    </tr>\n",
              "    <tr>\n",
              "      <th>total_pages_visited</th>\n",
              "      <td>-0.045365</td>\n",
              "      <td>-0.082986</td>\n",
              "      <td>1.000000</td>\n",
              "      <td>0.529192</td>\n",
              "    </tr>\n",
              "    <tr>\n",
              "      <th>converted</th>\n",
              "      <td>-0.088265</td>\n",
              "      <td>-0.152115</td>\n",
              "      <td>0.529192</td>\n",
              "      <td>1.000000</td>\n",
              "    </tr>\n",
              "  </tbody>\n",
              "</table>\n",
              "</div>"
            ],
            "text/plain": [
              "                          age  new_user  total_pages_visited  converted\n",
              "age                  1.000000  0.011676            -0.045365  -0.088265\n",
              "new_user             0.011676  1.000000            -0.082986  -0.152115\n",
              "total_pages_visited -0.045365 -0.082986             1.000000   0.529192\n",
              "converted           -0.088265 -0.152115             0.529192   1.000000"
            ]
          },
          "metadata": {
            "tags": []
          },
          "execution_count": 31
        }
      ]
    },
    {
      "cell_type": "code",
      "metadata": {
        "id": "RBncO7oZbqcz",
        "colab_type": "code",
        "colab": {
          "base_uri": "https://localhost:8080/",
          "height": 339
        },
        "outputId": "e375b807-7569-4373-e721-6b032d2ca9ec"
      },
      "source": [
        "# Set up the matplotlib figure & Compute the correlation matrix\n",
        "f, ax = plt.subplots(figsize=(10, 5))\n",
        "# Draw the heatmap\n",
        "sns.heatmap(corr,  center=0, annot = True,fmt='.2f', ax = ax)\n",
        "#botom, top = ax.get_ylim()\n",
        "#ax.set_ylim(botom +0.5, top -0.5)\n",
        "plt.title(\"Matrice de corrélation\", fontsize=15, color='m')\n",
        "plt.show()"
      ],
      "execution_count": null,
      "outputs": [
        {
          "output_type": "display_data",
          "data": {
            "image/png": "[encoded data removed]",
            "text/plain": [
              "<Figure size 720x360 with 2 Axes>"
            ]
          },
          "metadata": {
            "tags": [],
            "needs_background": "light"
          }
        }
      ]
    },
    {
      "cell_type": "markdown",
      "metadata": {
        "id": "Mq26nFVwmVLb",
        "colab_type": "text"
      },
      "source": [
        "- Le nombre de page visité est la variable explicative la plus corelée à la variable cible. \n",
        "- Par conséquent elle serait un bon prédicteur dans la conversion des utilisateurs"
      ]
    },
    {
      "cell_type": "markdown",
      "metadata": {
        "id": "wyUj0Ngfbqc2",
        "colab_type": "text"
      },
      "source": [
        "---"
      ]
    },
    {
      "cell_type": "markdown",
      "metadata": {
        "id": "Qet5foBmbqc2",
        "colab_type": "text"
      },
      "source": [
        "# Choice of variables to include in the model, and creating train and test datasets"
      ]
    },
    {
      "cell_type": "markdown",
      "metadata": {
        "id": "BzkITWVMbqc3",
        "colab_type": "text"
      },
      "source": [
        "- Variables cible : Y = 'converted'\n",
        "- Variables explicatives : 'country', 'age', 'new_user', 'source', 'total_pages_visited', \n",
        "- Nombre d'exemples : 316200\n",
        "- Imputation de valeurs manquantes : None\n",
        "- Normalisation des variables quantitatives: 'age', 'new_user', 'total_pages_visited'\n",
        "- Encodage des variables catégorielles : 'country', 'source'\n",
        "- Encodage des labels : None"
      ]
    },
    {
      "cell_type": "markdown",
      "metadata": {
        "id": "S016ia78oq1t",
        "colab_type": "text"
      },
      "source": [
        "### Separating target variable Y from features X"
      ]
    },
    {
      "cell_type": "code",
      "metadata": {
        "scrolled": true,
        "id": "JmWT1jILbqc3",
        "colab_type": "code",
        "colab": {
          "base_uri": "https://localhost:8080/",
          "height": 323
        },
        "outputId": "04665221-9fbf-4bc9-fca8-d5854bbe88be"
      },
      "source": [
        "# Separate target variable Y from features X\n",
        "print(\"Separating labels from features...\")\n",
        "features_list = ['country', 'age', 'new_user', 'source', 'total_pages_visited']\n",
        "target_variable = \"converted\"\n",
        "categorical_indices = [0,3]\n",
        "numeric_indices = [1,2,4]\n",
        "\n",
        "\n",
        "X = data.loc[:,features_list]\n",
        "y = data.loc[:,target_variable]\n",
        "\n",
        "print(\"...Done.\")\n",
        "print()\n",
        "\n",
        "print('y : ')\n",
        "print(y.head())\n",
        "print()\n",
        "print('X :')\n",
        "print(X.head())"
      ],
      "execution_count": null,
      "outputs": [
        {
          "output_type": "stream",
          "text": [
            "Separating labels from features...\n",
            "...Done.\n",
            "\n",
            "y : \n",
            "0    0\n",
            "1    0\n",
            "2    1\n",
            "3    0\n",
            "4    0\n",
            "Name: converted, dtype: int64\n",
            "\n",
            "X :\n",
            "   country  age  new_user  source  total_pages_visited\n",
            "0    China   22         1  Direct                    2\n",
            "1       UK   21         1     Ads                    3\n",
            "2  Germany   20         0     Seo                   14\n",
            "3       US   23         1     Seo                    3\n",
            "4       US   28         1  Direct                    3\n"
          ],
          "name": "stdout"
        }
      ]
    },
    {
      "cell_type": "markdown",
      "metadata": {
        "id": "wWATuthObqc6",
        "colab_type": "text"
      },
      "source": [
        "### Train test split"
      ]
    },
    {
      "cell_type": "code",
      "metadata": {
        "scrolled": true,
        "id": "60g4VWTGbqc7",
        "colab_type": "code",
        "colab": {
          "base_uri": "https://localhost:8080/",
          "height": 68
        },
        "outputId": "33e5d22c-2737-4bce-fb3d-9b82a12b14f3"
      },
      "source": [
        "# Divide dataset Train set & Test set \n",
        "from sklearn.model_selection import train_test_split\n",
        "print(\"Dividing into train and test sets...\")\n",
        "X_train, X_test, y_train, y_test = train_test_split(X, y, test_size= 0.33, random_state=42, stratify = y)\n",
        "print(\"...Done.\")\n",
        "print()"
      ],
      "execution_count": null,
      "outputs": [
        {
          "output_type": "stream",
          "text": [
            "Dividing into train and test sets...\n",
            "...Done.\n",
            "\n"
          ],
          "name": "stdout"
        }
      ]
    },
    {
      "cell_type": "markdown",
      "metadata": {
        "id": "pgBckyGCbqdA",
        "colab_type": "text"
      },
      "source": [
        "### Converting pandas DataFrames into numpy arrays before using machine learning with scikit-learn library"
      ]
    },
    {
      "cell_type": "code",
      "metadata": {
        "id": "HJbAryCEbqdA",
        "colab_type": "code",
        "colab": {
          "base_uri": "https://localhost:8080/",
          "height": 221
        },
        "outputId": "73bf24ee-c3ec-41d6-fd34-f3e16f91e4ec"
      },
      "source": [
        "print(\"Convert pandas DataFrames to numpy arrays...\")\n",
        "X_train = X_train.values\n",
        "X_test = X_test.values\n",
        "y_train = y_train.tolist()\n",
        "y_test = y_test.tolist()\n",
        "print(\"...Done\")\n",
        "\n",
        "print(X_train[0:5,:])\n",
        "print(X_test[0:2,:])\n",
        "print()\n",
        "print(y_train[0:5])\n",
        "print(y_test[0:2])"
      ],
      "execution_count": null,
      "outputs": [
        {
          "output_type": "stream",
          "text": [
            "Convert pandas DataFrames to numpy arrays...\n",
            "...Done\n",
            "[['US' 21 1 'Seo' 6]\n",
            " ['US' 35 1 'Seo' 4]\n",
            " ['US' 39 1 'Ads' 4]\n",
            " ['US' 43 1 'Seo' 4]\n",
            " ['China' 30 1 'Ads' 1]]\n",
            "[['US' 31 1 'Ads' 2]\n",
            " ['US' 18 1 'Seo' 2]]\n",
            "\n",
            "[0, 0, 0, 0, 0]\n",
            "[0, 0]\n"
          ],
          "name": "stdout"
        }
      ]
    },
    {
      "cell_type": "markdown",
      "metadata": {
        "id": "uRsSg4FBbqdD",
        "colab_type": "text"
      },
      "source": [
        "# Training pipeline"
      ]
    },
    {
      "cell_type": "code",
      "metadata": {
        "id": "rN8MFs5FbqdD",
        "colab_type": "code",
        "colab": {
          "base_uri": "https://localhost:8080/",
          "height": 323
        },
        "outputId": "3fe5fb9f-fb5e-4dda-837e-2adc3cb693a0"
      },
      "source": [
        "# Encoding categorical features and standardizing numerical features\n",
        "from sklearn.preprocessing import  OneHotEncoder, StandardScaler, LabelEncoder\n",
        "from sklearn.compose import ColumnTransformer\n",
        "print(\"Encoding categorical features and standardizing numerical features...\")\n",
        "print()\n",
        "print(X_train[0:5,:])\n",
        "\n",
        "# Normalization\n",
        "numeric_transformer = StandardScaler()\n",
        "\n",
        "# OHE / dummyfication\n",
        "categorical_transformer = OneHotEncoder(drop='first')\n",
        "\n",
        "featureencoder = ColumnTransformer(\n",
        "    transformers=[\n",
        "        ('cat', categorical_transformer, categorical_indices),    \n",
        "        ('num', numeric_transformer, numeric_indices)\n",
        "        ]\n",
        "    )\n",
        "\n",
        "X_train = featureencoder.fit_transform(X_train)\n",
        "print(\"...Done\")\n",
        "print(X_train[0:5,:])"
      ],
      "execution_count": null,
      "outputs": [
        {
          "output_type": "stream",
          "text": [
            "Encoding categorical features and standardizing numerical features...\n",
            "\n",
            "[['US' 21 1 'Seo' 6]\n",
            " ['US' 35 1 'Seo' 4]\n",
            " ['US' 39 1 'Ads' 4]\n",
            " ['US' 43 1 'Seo' 4]\n",
            " ['China' 30 1 'Ads' 1]]\n",
            "...Done\n",
            "[[ 0.          0.          1.          0.          1.         -1.15588691\n",
            "   0.67657298  0.33785797]\n",
            " [ 0.          0.          1.          0.          1.          0.5345819\n",
            "   0.67657298 -0.261071  ]\n",
            " [ 0.          0.          1.          0.          0.          1.017573\n",
            "   0.67657298 -0.261071  ]\n",
            " [ 0.          0.          1.          0.          1.          1.50056409\n",
            "   0.67657298 -0.261071  ]\n",
            " [ 0.          0.          0.          0.          0.         -0.06915696\n",
            "   0.67657298 -1.15946446]]\n"
          ],
          "name": "stdout"
        }
      ]
    },
    {
      "cell_type": "markdown",
      "metadata": {
        "id": "rHKdwlq9bqdG",
        "colab_type": "text"
      },
      "source": [
        "### Model Training"
      ]
    },
    {
      "cell_type": "code",
      "metadata": {
        "id": "q7EGl7MMbqdH",
        "colab_type": "code",
        "colab": {
          "base_uri": "https://localhost:8080/",
          "height": 85
        },
        "outputId": "344445c9-3c85-4098-e29d-e543c1cd0161"
      },
      "source": [
        "from sklearn.linear_model import LogisticRegressionCV\n",
        "print(\"Train model...\")\n",
        "classifier = LogisticRegressionCV(class_weight={0:0.50,1:0.8}, cv=10) # regularized logit with regularization strength chosen by cross-val\n",
        "%time classifier.fit(X_train, y_train)\n",
        "print(\"...Done.\")"
      ],
      "execution_count": null,
      "outputs": [
        {
          "output_type": "stream",
          "text": [
            "Train model...\n",
            "CPU times: user 42.6 s, sys: 25.2 s, total: 1min 7s\n",
            "Wall time: 34.4 s\n",
            "...Done.\n"
          ],
          "name": "stdout"
        }
      ]
    },
    {
      "cell_type": "markdown",
      "metadata": {
        "id": "r83-1Ym7bqdJ",
        "colab_type": "text"
      },
      "source": [
        "### Prediction of train set"
      ]
    },
    {
      "cell_type": "code",
      "metadata": {
        "id": "Z3PLinafbqdK",
        "colab_type": "code",
        "colab": {
          "base_uri": "https://localhost:8080/",
          "height": 85
        },
        "outputId": "027fe77d-83b4-4ae1-d17d-516293c6fd5f"
      },
      "source": [
        "print(\"Predictions on training set...\")\n",
        "y_train_pred = classifier.predict(X_train)\n",
        "print(\"...Done.\")\n",
        "print(y_train_pred)\n",
        "print()"
      ],
      "execution_count": null,
      "outputs": [
        {
          "output_type": "stream",
          "text": [
            "Predictions on training set...\n",
            "...Done.\n",
            "[0 0 0 ... 0 0 0]\n",
            "\n"
          ],
          "name": "stdout"
        }
      ]
    },
    {
      "cell_type": "markdown",
      "metadata": {
        "id": "2p9EAM0_bqdN",
        "colab_type": "text"
      },
      "source": [
        "# Test pipeline"
      ]
    },
    {
      "cell_type": "code",
      "metadata": {
        "scrolled": true,
        "id": "Fe5GxhD1bqdO",
        "colab_type": "code",
        "colab": {
          "base_uri": "https://localhost:8080/",
          "height": 238
        },
        "outputId": "9f601247-c40c-4cda-d005-5aaf19aa9185"
      },
      "source": [
        "# Encoding categorical features and standardizing numerical features\n",
        "print(\"Encoding categorical features and standardizing numerical features...\")\n",
        "print()\n",
        "X_test = featureencoder.transform(X_test)\n",
        "print(\"...Done\")\n",
        "print(X_test[0:5,:])"
      ],
      "execution_count": null,
      "outputs": [
        {
          "output_type": "stream",
          "text": [
            "Encoding categorical features and standardizing numerical features...\n",
            "\n",
            "...Done\n",
            "[[ 0.          0.          1.          0.          0.          0.05159081\n",
            "   0.67657298 -0.85999997]\n",
            " [ 0.          0.          1.          0.          1.         -1.51813023\n",
            "   0.67657298 -0.85999997]\n",
            " [ 0.          1.          0.          1.          0.          1.13832077\n",
            "   0.67657298  0.93678695]\n",
            " [ 0.          0.          1.          0.          1.         -0.91439137\n",
            "   0.67657298 -0.85999997]\n",
            " [ 0.          0.          1.          1.          0.          0.41383413\n",
            "   0.67657298 -0.56053549]]\n"
          ],
          "name": "stdout"
        }
      ]
    },
    {
      "cell_type": "markdown",
      "metadata": {
        "id": "0m3b6gpObqdS",
        "colab_type": "text"
      },
      "source": [
        "### Prediction of test set"
      ]
    },
    {
      "cell_type": "code",
      "metadata": {
        "id": "mYFCeCXKbqdS",
        "colab_type": "code",
        "colab": {
          "base_uri": "https://localhost:8080/",
          "height": 85
        },
        "outputId": "1d267d91-7e62-484e-f2df-e1a0f436e9ec"
      },
      "source": [
        "print(\"Predictions on test set...\")\n",
        "y_test_pred = classifier.predict(X_test)\n",
        "print(\"...Done.\")\n",
        "print(y_test_pred)\n",
        "print()"
      ],
      "execution_count": null,
      "outputs": [
        {
          "output_type": "stream",
          "text": [
            "Predictions on test set...\n",
            "...Done.\n",
            "[0 0 0 ... 0 0 0]\n",
            "\n"
          ],
          "name": "stdout"
        }
      ]
    },
    {
      "cell_type": "markdown",
      "metadata": {
        "id": "3nZmE0KwbqdW",
        "colab_type": "text"
      },
      "source": [
        "### Model's Performance assessment on training dataset"
      ]
    },
    {
      "cell_type": "markdown",
      "metadata": {
        "id": "FKpDI93rq5Az",
        "colab_type": "text"
      },
      "source": [
        "- We are using 2 metrics ( **f1-score & accuracy** ) in our model's performance"
      ]
    },
    {
      "cell_type": "code",
      "metadata": {
        "id": "c7A9ADqWbqdW",
        "colab_type": "code",
        "colab": {
          "base_uri": "https://localhost:8080/",
          "height": 51
        },
        "outputId": "f7e09e6e-1ea1-4f78-84b4-09c7595a5374"
      },
      "source": [
        "# WARNING : Use the same score as the one that will be used by Kaggle !\n",
        "# Here, the f1-score will be used to assess the performances on the leaderboard\n",
        "from sklearn.metrics import f1_score, confusion_matrix\n",
        "print(\"f1-score on train set : {:06.4f} \" .format(f1_score(y_train, y_train_pred)))\n",
        "print(\"f1-score on test set : {:06.4f} \" .format(f1_score(y_test, y_test_pred)))"
      ],
      "execution_count": null,
      "outputs": [
        {
          "output_type": "stream",
          "text": [
            "f1-score on train set : 0.7709 \n",
            "f1-score on test set : 0.7674 \n"
          ],
          "name": "stdout"
        }
      ]
    },
    {
      "cell_type": "code",
      "metadata": {
        "id": "GS56I7UybqdZ",
        "colab_type": "code",
        "colab": {
          "base_uri": "https://localhost:8080/",
          "height": 34
        },
        "outputId": "1d130110-a348-4156-d7a1-3420ac6f2039"
      },
      "source": [
        "print(\"Accuray on test set : {:06.4f} \" .format(classifier.score(X_test, y_test)))"
      ],
      "execution_count": null,
      "outputs": [
        {
          "output_type": "stream",
          "text": [
            "Accuray on test set : 0.9855 \n"
          ],
          "name": "stdout"
        }
      ]
    },
    {
      "cell_type": "code",
      "metadata": {
        "id": "ZBSFi2V9bqdc",
        "colab_type": "code",
        "colab": {
          "base_uri": "https://localhost:8080/",
          "height": 153
        },
        "outputId": "393cf4d1-92a0-406e-ab16-3bc13f134cac"
      },
      "source": [
        "# You can also check more performance metrics to better understand what your model is doing\n",
        "print(\"Confusion matrix on train set : \")\n",
        "print(confusion_matrix(y_train, y_train_pred))\n",
        "print()\n",
        "print(\"Confusion matrix on test set : \")\n",
        "print(confusion_matrix(y_test, y_test_pred))\n",
        "print()"
      ],
      "execution_count": null,
      "outputs": [
        {
          "output_type": "stream",
          "text": [
            "Confusion matrix on train set : \n",
            "[[183410   1107]\n",
            " [  1599   4552]]\n",
            "\n",
            "Confusion matrix on test set : \n",
            "[[90311   572]\n",
            " [  787  2242]]\n",
            "\n"
          ],
          "name": "stdout"
        }
      ]
    },
    {
      "cell_type": "markdown",
      "metadata": {
        "id": "vKbAI58qbqdg",
        "colab_type": "text"
      },
      "source": [
        "# Train best classifier on all data and use it to make predictions on X_without_labels"
      ]
    },
    {
      "cell_type": "code",
      "metadata": {
        "id": "MnmWPiwDbqdh",
        "colab_type": "code",
        "colab": {
          "base_uri": "https://localhost:8080/",
          "height": 136
        },
        "outputId": "d2aa6eb7-d995-4773-ae45-3415a85899e8"
      },
      "source": [
        "# Concatenate our train and test set to train your best classifier on all data with labels\n",
        "X = np.append(X_train,X_test,axis=0)\n",
        "y = np.append(y_train,y_test)\n",
        "\n",
        "%time classifier.fit(X,y)"
      ],
      "execution_count": null,
      "outputs": [
        {
          "output_type": "stream",
          "text": [
            "CPU times: user 1min, sys: 36 s, total: 1min 36s\n",
            "Wall time: 49.1 s\n"
          ],
          "name": "stdout"
        },
        {
          "output_type": "execute_result",
          "data": {
            "text/plain": [
              "LogisticRegressionCV(Cs=10, class_weight={0: 0.5, 1: 0.8}, cv=10, dual=False,\n",
              "                     fit_intercept=True, intercept_scaling=1.0, l1_ratios=None,\n",
              "                     max_iter=100, multi_class='auto', n_jobs=None,\n",
              "                     penalty='l2', random_state=None, refit=True, scoring=None,\n",
              "                     solver='lbfgs', tol=0.0001, verbose=0)"
            ]
          },
          "metadata": {
            "tags": []
          },
          "execution_count": 69
        }
      ]
    },
    {
      "cell_type": "code",
      "metadata": {
        "id": "Qe_dZlPXbqdl",
        "colab_type": "code",
        "colab": {
          "base_uri": "https://localhost:8080/",
          "height": 153
        },
        "outputId": "5812b35e-ef63-4f50-bd06-375d717cad33"
      },
      "source": [
        "# Read data without labels (The real X_test)\n",
        "data_without_labels = pd.read_csv(\"conversion_data_test.csv\")\n",
        "print('Prediction set (without labels) :', data_without_labels.shape)\n",
        "\n",
        "\n",
        "#features_list = ['total_pages_visited']\n",
        "X_without_labels = data_without_labels.loc[:]\n",
        "\n",
        "# Convert pandas DataFrames to numpy arrays before using scikit-learn\n",
        "#print(\"Convert pandas DataFrames to numpy arrays...\")\n",
        "#X_without_labels = X_without_labels.values\n",
        "print(\"...Done\")\n",
        "\n",
        "print(X_without_labels.head())"
      ],
      "execution_count": null,
      "outputs": [
        {
          "output_type": "stream",
          "text": [
            "Prediction set (without labels) : (31620, 5)\n",
            "...Done\n",
            "  country  age  new_user  source  total_pages_visited\n",
            "0      UK   28         0     Seo                   16\n",
            "1      UK   22         1  Direct                    5\n",
            "2   China   32         1     Seo                    1\n",
            "3      US   32         1     Ads                    6\n",
            "4   China   25         0     Seo                    3\n"
          ],
          "name": "stdout"
        }
      ]
    },
    {
      "cell_type": "code",
      "metadata": {
        "id": "ch6tZVECbqdq",
        "colab_type": "code",
        "colab": {
          "base_uri": "https://localhost:8080/",
          "height": 68
        },
        "outputId": "39d234df-8d06-41f5-e113-70cbb4de6a85"
      },
      "source": [
        "# Encoding categorical features and standardizing numerical features\n",
        "print(\"Encoding categorical features and standardizing numerical features...\")\n",
        "X_without_labels = featureencoder.transform(X_without_labels)\n",
        "print('Done.')\n",
        "print()"
      ],
      "execution_count": null,
      "outputs": [
        {
          "output_type": "stream",
          "text": [
            "Encoding categorical features and standardizing numerical features...\n",
            "Done.\n",
            "\n"
          ],
          "name": "stdout"
        }
      ]
    },
    {
      "cell_type": "code",
      "metadata": {
        "id": "KDdfgyuZbqdu",
        "colab_type": "code",
        "colab": {}
      },
      "source": [
        "# Make predictions and dump to file\n",
        "# WARNING : FILE NAME MUST HAVE FORMAT 'conversion_data_test_predictions_[name].csv'\n",
        "# For example : [name] = Diallo-model1\n",
        "model1 = {\n",
        "    'converted': classifier.predict(X_without_labels)\n",
        "}\n",
        "\n",
        "y_predictions = pd.DataFrame(columns=['converted'],data=model1)\n",
        "y_predictions.to_csv('conversion_data_test_predictions_Diallo-model1.csv', index=False)\n"
      ],
      "execution_count": null,
      "outputs": []
    },
    {
      "cell_type": "code",
      "metadata": {
        "id": "T-L48txWbqd1",
        "colab_type": "code",
        "colab": {}
      },
      "source": [
        ""
      ],
      "execution_count": null,
      "outputs": []
    }
  ]
}