{
 "cells": [
  {
   "cell_type": "markdown",
   "metadata": {
    "colab_type": "text",
    "id": "-fBlpWy5jLTu"
   },
   "source": [
    "- **Link to dataset on kaggle web site** [Titanic: Machine Learning from Disaster](https://www.kaggle.com/c/titanic)"
   ]
  },
  {
   "cell_type": "markdown",
   "metadata": {
    "colab_type": "text",
    "id": "Uh-5eOPe3VIN"
   },
   "source": [
    "# Installing some useful Libraries and API for this project"
   ]
  },
  {
   "cell_type": "code",
   "execution_count": null,
   "metadata": {
    "colab": {},
    "colab_type": "code",
    "id": "sN0pVWAg3PBe"
   },
   "outputs": [],
   "source": [
    "!pip install kaggle"
   ]
  },
  {
   "cell_type": "code",
   "execution_count": null,
   "metadata": {
    "colab": {},
    "colab_type": "code",
    "id": "LYkNTHNq4fTq"
   },
   "outputs": [],
   "source": [
    "!pip uninstall -y kaggle\n",
    "!pip install --upgrade pip\n",
    "!pip install kaggle==1.5.6\n",
    "!kaggle -v"
   ]
  },
  {
   "cell_type": "code",
   "execution_count": null,
   "metadata": {
    "colab": {},
    "colab_type": "code",
    "id": "L96xavP-3O8-"
   },
   "outputs": [],
   "source": [
    "from google.colab import files\n",
    "files.upload()"
   ]
  },
  {
   "cell_type": "markdown",
   "metadata": {
    "colab_type": "text",
    "id": "IJJZniaq3iLU"
   },
   "source": [
    "# Downloading dataset through Kaggle's API"
   ]
  },
  {
   "cell_type": "code",
   "execution_count": null,
   "metadata": {
    "colab": {
     "base_uri": "https://localhost:8080/",
     "height": 34
    },
    "colab_type": "code",
    "id": "5979Gbrk3wgT",
    "outputId": "67605758-64b0-4086-e1eb-b21c5077be05"
   },
   "outputs": [],
   "source": [
    "cd /root/"
   ]
  },
  {
   "cell_type": "code",
   "execution_count": null,
   "metadata": {
    "colab": {},
    "colab_type": "code",
    "id": "vJfszIL732z0"
   },
   "outputs": [],
   "source": [
    "ls"
   ]
  },
  {
   "cell_type": "code",
   "execution_count": null,
   "metadata": {
    "colab": {},
    "colab_type": "code",
    "id": "uZoicj2S3Oav"
   },
   "outputs": [],
   "source": [
    "!mkdir .kaggle\n",
    "!mv /content/kaggle.json /root/.kaggle/kaggle.json"
   ]
  },
  {
   "cell_type": "code",
   "execution_count": null,
   "metadata": {
    "colab": {
     "base_uri": "https://localhost:8080/",
     "height": 34
    },
    "colab_type": "code",
    "id": "TW4t4a6x3OWM",
    "outputId": "fa78b241-c737-438c-a26e-58cfbc221544"
   },
   "outputs": [],
   "source": [
    "cd /root/.kaggle/"
   ]
  },
  {
   "cell_type": "code",
   "execution_count": null,
   "metadata": {
    "colab": {
     "base_uri": "https://localhost:8080/",
     "height": 34
    },
    "colab_type": "code",
    "id": "uybKiYe13OUG",
    "outputId": "770b8f3f-3b0c-4ae9-84a3-cc41bb8b2fab"
   },
   "outputs": [],
   "source": [
    "ls"
   ]
  },
  {
   "cell_type": "code",
   "execution_count": null,
   "metadata": {
    "colab": {
     "base_uri": "https://localhost:8080/",
     "height": 68
    },
    "colab_type": "code",
    "id": "97ITzyrL4QMj",
    "outputId": "f8f12f15-ab37-4a0a-eaa2-2b4988bc74b8"
   },
   "outputs": [],
   "source": [
    "!chmod 600 /root/.kaggle/kaggle.json\n",
    "!kaggle competitions download -p /content -c titanic"
   ]
  },
  {
   "cell_type": "code",
   "execution_count": null,
   "metadata": {
    "colab": {
     "base_uri": "https://localhost:8080/",
     "height": 34
    },
    "colab_type": "code",
    "id": "xjsL9UU54qsl",
    "outputId": "1421dfb8-d618-49a8-e298-65bb5948a5f8"
   },
   "outputs": [],
   "source": [
    "cd /content/"
   ]
  },
  {
   "cell_type": "code",
   "execution_count": null,
   "metadata": {
    "colab": {
     "base_uri": "https://localhost:8080/",
     "height": 34
    },
    "colab_type": "code",
    "id": "neK2ECXv4qfx",
    "outputId": "0a2192be-eb84-4467-e096-c98626d7ce12"
   },
   "outputs": [],
   "source": [
    "ls"
   ]
  },
  {
   "cell_type": "code",
   "execution_count": null,
   "metadata": {
    "colab": {
     "base_uri": "https://localhost:8080/",
     "height": 85
    },
    "colab_type": "code",
    "id": "zp4KbxaQ49j7",
    "outputId": "a7213d3c-a147-47ff-ae2a-11847f8d630e"
   },
   "outputs": [],
   "source": [
    "!unzip titanic.zip"
   ]
  },
  {
   "cell_type": "markdown",
   "metadata": {
    "colab_type": "text",
    "id": "Yp66bm395V34"
   },
   "source": [
    "# Removing any warnings messages"
   ]
  },
  {
   "cell_type": "code",
   "execution_count": null,
   "metadata": {
    "colab": {},
    "colab_type": "code",
    "id": "eD926OSx5bJN"
   },
   "outputs": [],
   "source": [
    "import warnings\n",
    "warnings.filterwarnings('ignore')"
   ]
  },
  {
   "cell_type": "markdown",
   "metadata": {
    "colab_type": "text",
    "id": "Y8avIl-Y5KHA"
   },
   "source": [
    "# Importing Libraries & Loading datasets"
   ]
  },
  {
   "cell_type": "code",
   "execution_count": 1,
   "metadata": {
    "colab": {},
    "colab_type": "code",
    "id": "_gpg0fWSlvk4"
   },
   "outputs": [],
   "source": [
    "import pandas as pd\n",
    "import numpy as np\n",
    "import matplotlib.pyplot as plt\n",
    "import seaborn as sns\n",
    "import re"
   ]
  },
  {
   "cell_type": "code",
   "execution_count": 111,
   "metadata": {
    "colab": {
     "base_uri": "https://localhost:8080/",
     "height": 204
    },
    "colab_type": "code",
    "id": "4jzsVzA_mM3v",
    "outputId": "5a14657e-1f8f-4d21-87ac-d6d506d9e153",
    "scrolled": false
   },
   "outputs": [
    {
     "data": {
      "text/html": [
       "<div>\n",
       "<style scoped>\n",
       "    .dataframe tbody tr th:only-of-type {\n",
       "        vertical-align: middle;\n",
       "    }\n",
       "\n",
       "    .dataframe tbody tr th {\n",
       "        vertical-align: top;\n",
       "    }\n",
       "\n",
       "    .dataframe thead th {\n",
       "        text-align: right;\n",
       "    }\n",
       "</style>\n",
       "<table border=\"1\" class=\"dataframe\">\n",
       "  <thead>\n",
       "    <tr style=\"text-align: right;\">\n",
       "      <th></th>\n",
       "      <th>PassengerId</th>\n",
       "      <th>Survived</th>\n",
       "      <th>Pclass</th>\n",
       "      <th>Name</th>\n",
       "      <th>Sex</th>\n",
       "      <th>Age</th>\n",
       "      <th>SibSp</th>\n",
       "      <th>Parch</th>\n",
       "      <th>Ticket</th>\n",
       "      <th>Fare</th>\n",
       "      <th>Cabin</th>\n",
       "      <th>Embarked</th>\n",
       "    </tr>\n",
       "  </thead>\n",
       "  <tbody>\n",
       "    <tr>\n",
       "      <th>885</th>\n",
       "      <td>886</td>\n",
       "      <td>0</td>\n",
       "      <td>3</td>\n",
       "      <td>Rice, Mrs. William (Margaret Norton)</td>\n",
       "      <td>female</td>\n",
       "      <td>39.0</td>\n",
       "      <td>0</td>\n",
       "      <td>5</td>\n",
       "      <td>382652</td>\n",
       "      <td>29.125</td>\n",
       "      <td>NaN</td>\n",
       "      <td>Q</td>\n",
       "    </tr>\n",
       "    <tr>\n",
       "      <th>886</th>\n",
       "      <td>887</td>\n",
       "      <td>0</td>\n",
       "      <td>2</td>\n",
       "      <td>Montvila, Rev. Juozas</td>\n",
       "      <td>male</td>\n",
       "      <td>27.0</td>\n",
       "      <td>0</td>\n",
       "      <td>0</td>\n",
       "      <td>211536</td>\n",
       "      <td>13.000</td>\n",
       "      <td>NaN</td>\n",
       "      <td>S</td>\n",
       "    </tr>\n",
       "    <tr>\n",
       "      <th>887</th>\n",
       "      <td>888</td>\n",
       "      <td>1</td>\n",
       "      <td>1</td>\n",
       "      <td>Graham, Miss. Margaret Edith</td>\n",
       "      <td>female</td>\n",
       "      <td>19.0</td>\n",
       "      <td>0</td>\n",
       "      <td>0</td>\n",
       "      <td>112053</td>\n",
       "      <td>30.000</td>\n",
       "      <td>B42</td>\n",
       "      <td>S</td>\n",
       "    </tr>\n",
       "    <tr>\n",
       "      <th>888</th>\n",
       "      <td>889</td>\n",
       "      <td>0</td>\n",
       "      <td>3</td>\n",
       "      <td>Johnston, Miss. Catherine Helen \"Carrie\"</td>\n",
       "      <td>female</td>\n",
       "      <td>NaN</td>\n",
       "      <td>1</td>\n",
       "      <td>2</td>\n",
       "      <td>W./C. 6607</td>\n",
       "      <td>23.450</td>\n",
       "      <td>NaN</td>\n",
       "      <td>S</td>\n",
       "    </tr>\n",
       "    <tr>\n",
       "      <th>889</th>\n",
       "      <td>890</td>\n",
       "      <td>1</td>\n",
       "      <td>1</td>\n",
       "      <td>Behr, Mr. Karl Howell</td>\n",
       "      <td>male</td>\n",
       "      <td>26.0</td>\n",
       "      <td>0</td>\n",
       "      <td>0</td>\n",
       "      <td>111369</td>\n",
       "      <td>30.000</td>\n",
       "      <td>C148</td>\n",
       "      <td>C</td>\n",
       "    </tr>\n",
       "    <tr>\n",
       "      <th>890</th>\n",
       "      <td>891</td>\n",
       "      <td>0</td>\n",
       "      <td>3</td>\n",
       "      <td>Dooley, Mr. Patrick</td>\n",
       "      <td>male</td>\n",
       "      <td>32.0</td>\n",
       "      <td>0</td>\n",
       "      <td>0</td>\n",
       "      <td>370376</td>\n",
       "      <td>7.750</td>\n",
       "      <td>NaN</td>\n",
       "      <td>Q</td>\n",
       "    </tr>\n",
       "  </tbody>\n",
       "</table>\n",
       "</div>"
      ],
      "text/plain": [
       "     PassengerId  Survived  Pclass                                      Name  \\\n",
       "885          886         0       3      Rice, Mrs. William (Margaret Norton)   \n",
       "886          887         0       2                     Montvila, Rev. Juozas   \n",
       "887          888         1       1              Graham, Miss. Margaret Edith   \n",
       "888          889         0       3  Johnston, Miss. Catherine Helen \"Carrie\"   \n",
       "889          890         1       1                     Behr, Mr. Karl Howell   \n",
       "890          891         0       3                       Dooley, Mr. Patrick   \n",
       "\n",
       "        Sex   Age  SibSp  Parch      Ticket    Fare Cabin Embarked  \n",
       "885  female  39.0      0      5      382652  29.125   NaN        Q  \n",
       "886    male  27.0      0      0      211536  13.000   NaN        S  \n",
       "887  female  19.0      0      0      112053  30.000   B42        S  \n",
       "888  female   NaN      1      2  W./C. 6607  23.450   NaN        S  \n",
       "889    male  26.0      0      0      111369  30.000  C148        C  \n",
       "890    male  32.0      0      0      370376   7.750   NaN        Q  "
      ]
     },
     "execution_count": 111,
     "metadata": {},
     "output_type": "execute_result"
    }
   ],
   "source": [
    "# Lecture du fichier \n",
    "dataset1 = pd.read_csv(\"train.csv\")\n",
    "dataset1.tail(6)"
   ]
  },
  {
   "cell_type": "code",
   "execution_count": null,
   "metadata": {},
   "outputs": [],
   "source": [
    "len(dataset1['Name'].tolist())"
   ]
  },
  {
   "cell_type": "code",
   "execution_count": 169,
   "metadata": {},
   "outputs": [],
   "source": [
    "def fonction(df):\n",
    "    Rename = []\n",
    "    #pattern = re.compile(r'(\\w+,\\s)(Mr.|Mrs.|Miss.|\\s)*(\\w+)')\n",
    "    pattern = re.compile(r'(\\w+.\\s)(Mr.|Mrs.|Miss.)?')\n",
    "    for i in df['Name'].tolist():\n",
    "        test = pattern.search(str(i))\n",
    "        if test==None:\n",
    "            Rename.append('N/A')\n",
    "        else:   \n",
    "            #Rename.append(test.string)\n",
    "            Rename.append((test.group(1), test.group(2)))\n",
    "            \n",
    "            \n",
    "            \n",
    "        #Rename.append(test.string)\n",
    "        #test = pattern.finditer(str(i))\n",
    "       # for x in test: \n",
    "        #    Rename.append((x.group(1),x.group(2)))\n",
    "        #if test==None:\n",
    "         #   Rename.append('N/A')\n",
    "        #else:   \n",
    "         #   Rename.append(test.string)\n",
    "       \n",
    "            \n",
    "\n",
    "    return Rename"
   ]
  },
  {
   "cell_type": "code",
   "execution_count": 170,
   "metadata": {
    "scrolled": false
   },
   "outputs": [
    {
     "data": {
      "text/plain": [
       "[('Braund, ', 'Mr.'),\n",
       " ('Cumings, ', 'Mrs'),\n",
       " ('Heikkinen, ', 'Miss.'),\n",
       " ('Futrelle, ', 'Mrs'),\n",
       " ('Allen, ', 'Mr.'),\n",
       " ('Moran, ', 'Mr.'),\n",
       " ('McCarthy, ', 'Mr.'),\n",
       " ('Palsson, ', None),\n",
       " ('Johnson, ', 'Mrs'),\n",
       " ('Nasser, ', 'Mrs'),\n",
       " ('Sandstrom, ', 'Miss.'),\n",
       " ('Bonnell, ', 'Miss.'),\n",
       " ('Saundercock, ', 'Mr.'),\n",
       " ('Andersson, ', 'Mr.'),\n",
       " ('Vestrom, ', 'Miss.'),\n",
       " ('Hewlett, ', 'Mrs'),\n",
       " ('Rice, ', None),\n",
       " ('Williams, ', 'Mr.'),\n",
       " ('Vander ', None),\n",
       " ('Masselmani, ', 'Mrs'),\n",
       " ('Fynney, ', 'Mr.'),\n",
       " ('Beesley, ', 'Mr.'),\n",
       " ('McGowan, ', 'Miss.'),\n",
       " ('Sloper, ', 'Mr.'),\n",
       " ('Palsson, ', 'Miss.'),\n",
       " ('Asplund, ', 'Mrs'),\n",
       " ('Emir, ', 'Mr.'),\n",
       " ('Fortune, ', 'Mr.'),\n",
       " ('Dwyer, ', 'Miss.'),\n",
       " ('Todoroff, ', 'Mr.'),\n",
       " ('Uruchurtu, ', None),\n",
       " ('Spencer, ', 'Mrs'),\n",
       " ('Glynn, ', 'Miss.'),\n",
       " ('Wheadon, ', 'Mr.'),\n",
       " ('Meyer, ', 'Mr.'),\n",
       " ('Holverson, ', 'Mr.'),\n",
       " ('Mamee, ', 'Mr.'),\n",
       " ('Cann, ', 'Mr.'),\n",
       " ('Vander ', None),\n",
       " ('Yarred, ', 'Miss.'),\n",
       " ('Ahlin, ', 'Mrs'),\n",
       " ('Turpin, ', 'Mrs'),\n",
       " ('Kraeff, ', 'Mr.'),\n",
       " ('Laroche, ', 'Miss.'),\n",
       " ('Devaney, ', 'Miss.'),\n",
       " ('Rogers, ', 'Mr.'),\n",
       " ('Lennon, ', 'Mr.'),\n",
       " ('Driscoll, ', 'Miss.'),\n",
       " ('Samaan, ', 'Mr.'),\n",
       " ('Franchi, ', 'Mrs'),\n",
       " ('Panula, ', None),\n",
       " ('Nosworthy, ', 'Mr.'),\n",
       " ('Harper, ', 'Mrs'),\n",
       " ('Faunthorpe, ', 'Mrs'),\n",
       " ('Ostby, ', 'Mr.'),\n",
       " ('Woolner, ', 'Mr.'),\n",
       " ('Rugg, ', 'Miss.'),\n",
       " ('Novel, ', 'Mr.'),\n",
       " ('West, ', 'Miss.'),\n",
       " ('Goodwin, ', None),\n",
       " ('Sirayanian, ', 'Mr.'),\n",
       " ('Icard, ', 'Miss.'),\n",
       " ('Harris, ', 'Mr.'),\n",
       " ('Skoog, ', None),\n",
       " ('Stewart, ', 'Mr.'),\n",
       " ('Moubarek, ', None),\n",
       " ('Nye, ', 'Mrs'),\n",
       " ('Crease, ', 'Mr.'),\n",
       " ('Andersson, ', 'Miss.'),\n",
       " ('Kink, ', 'Mr.'),\n",
       " ('Jenkin, ', 'Mr.'),\n",
       " ('Goodwin, ', 'Miss.'),\n",
       " ('Hood, ', 'Mr.'),\n",
       " ('Chronopoulos, ', 'Mr.'),\n",
       " ('Bing, ', 'Mr.'),\n",
       " ('Moen, ', 'Mr.'),\n",
       " ('Staneff, ', 'Mr.'),\n",
       " ('Moutal, ', 'Mr.'),\n",
       " ('Caldwell, ', None),\n",
       " ('Dowdell, ', 'Miss.'),\n",
       " ('Waelens, ', 'Mr.'),\n",
       " ('Sheerlinck, ', 'Mr.'),\n",
       " ('McDermott, ', 'Miss.'),\n",
       " ('Carrau, ', 'Mr.'),\n",
       " ('Ilett, ', 'Miss.'),\n",
       " ('Backstrom, ', 'Mrs'),\n",
       " ('Ford, ', 'Mr.'),\n",
       " ('Slocovski, ', 'Mr.'),\n",
       " ('Fortune, ', 'Miss.'),\n",
       " ('Celotti, ', 'Mr.'),\n",
       " ('Christmann, ', 'Mr.'),\n",
       " ('Andreasson, ', 'Mr.'),\n",
       " ('Chaffee, ', 'Mr.'),\n",
       " ('Dean, ', 'Mr.'),\n",
       " ('Coxon, ', 'Mr.'),\n",
       " ('Shorney, ', 'Mr.'),\n",
       " ('Goldschmidt, ', 'Mr.'),\n",
       " ('Greenfield, ', 'Mr.'),\n",
       " ('Doling, ', 'Mrs'),\n",
       " ('Kantor, ', 'Mr.'),\n",
       " ('Petranec, ', 'Miss.'),\n",
       " ('Petroff, ', 'Mr.'),\n",
       " ('White, ', 'Mr.'),\n",
       " ('Johansson, ', 'Mr.'),\n",
       " ('Gustafsson, ', 'Mr.'),\n",
       " ('Mionoff, ', 'Mr.'),\n",
       " ('Salkjelsvik, ', 'Miss.'),\n",
       " ('Moss, ', 'Mr.'),\n",
       " ('Rekic, ', 'Mr.'),\n",
       " ('Moran, ', 'Miss.'),\n",
       " ('Porter, ', 'Mr.'),\n",
       " ('Zabour, ', 'Miss.'),\n",
       " ('Barton, ', 'Mr.'),\n",
       " ('Jussila, ', 'Miss.'),\n",
       " ('Attalah, ', 'Miss.'),\n",
       " ('Pekoniemi, ', 'Mr.'),\n",
       " ('Connors, ', 'Mr.'),\n",
       " ('Turpin, ', 'Mr.'),\n",
       " ('Baxter, ', 'Mr.'),\n",
       " ('Andersson, ', 'Miss.'),\n",
       " ('Hickman, ', 'Mr.'),\n",
       " ('Moore, ', 'Mr.'),\n",
       " ('Nasser, ', 'Mr.'),\n",
       " ('Webber, ', 'Miss.'),\n",
       " ('White, ', 'Mr.'),\n",
       " ('Yarred, ', None),\n",
       " ('McMahon, ', 'Mr.'),\n",
       " ('Madsen, ', 'Mr.'),\n",
       " ('Peter, ', 'Miss.'),\n",
       " ('Ekstrom, ', 'Mr.'),\n",
       " ('Drazenoic, ', 'Mr.'),\n",
       " ('Coelho, ', 'Mr.'),\n",
       " ('Robins, ', 'Mrs'),\n",
       " ('Weisz, ', 'Mrs'),\n",
       " ('Sobey, ', 'Mr.'),\n",
       " ('Richard, ', 'Mr.'),\n",
       " ('Newsom, ', 'Miss.'),\n",
       " ('Futrelle, ', 'Mr.'),\n",
       " ('Osen, ', 'Mr.'),\n",
       " ('Giglio, ', 'Mr.'),\n",
       " ('Boulos, ', 'Mrs'),\n",
       " ('Nysten, ', 'Miss.'),\n",
       " ('Hakkarainen, ', 'Mrs'),\n",
       " ('Burke, ', 'Mr.'),\n",
       " ('Andrew, ', 'Mr.'),\n",
       " ('Nicholls, ', 'Mr.'),\n",
       " ('Andersson, ', 'Mr.'),\n",
       " ('Ford, ', 'Miss.'),\n",
       " ('Navratil, ', 'Mr.'),\n",
       " ('Byles, ', None),\n",
       " ('Bateman, ', None),\n",
       " ('Pears, ', 'Mrs'),\n",
       " ('Meo, ', 'Mr.'),\n",
       " ('van ', None),\n",
       " ('Olsen, ', 'Mr.'),\n",
       " ('Williams, ', 'Mr.'),\n",
       " ('Gilnagh, ', 'Miss.'),\n",
       " ('Corn, ', 'Mr.'),\n",
       " ('Smiljanic, ', 'Mr.'),\n",
       " ('Sage, ', None),\n",
       " ('Cribb, ', 'Mr.'),\n",
       " ('Watt, ', 'Mrs'),\n",
       " ('Bengtsson, ', 'Mr.'),\n",
       " ('Calic, ', 'Mr.'),\n",
       " ('Panula, ', None),\n",
       " ('Goldsmith, ', None),\n",
       " ('Chibnall, ', 'Mrs'),\n",
       " ('Skoog, ', 'Mrs'),\n",
       " ('Baumann, ', 'Mr.'),\n",
       " ('Ling, ', 'Mr.'),\n",
       " ('Van ', None),\n",
       " ('Rice, ', None),\n",
       " ('Johnson, ', 'Miss.'),\n",
       " ('Sivola, ', 'Mr.'),\n",
       " ('Smith, ', 'Mr.'),\n",
       " ('Klasen, ', 'Mr.'),\n",
       " ('Lefebre, ', None),\n",
       " ('Isham, ', 'Miss.'),\n",
       " ('Hale, ', 'Mr.'),\n",
       " ('Leonard, ', 'Mr.'),\n",
       " ('Sage, ', 'Miss.'),\n",
       " ('Pernot, ', 'Mr.'),\n",
       " ('Asplund, ', None),\n",
       " ('Becker, ', None),\n",
       " ('Heilmann, ', 'Miss.'),\n",
       " ('Rood, ', 'Mr.'),\n",
       " ('Brien, ', 'Mrs'),\n",
       " ('Romaine, ', 'Mr.'),\n",
       " ('Bourke, ', 'Mr.'),\n",
       " ('Turcin, ', 'Mr.'),\n",
       " ('Pinsky, ', 'Mrs'),\n",
       " ('Carbines, ', 'Mr.'),\n",
       " ('Jensen, ', 'Miss.'),\n",
       " ('Navratil, ', None),\n",
       " ('Brown, ', 'Mrs'),\n",
       " ('Lurette, ', 'Miss.'),\n",
       " ('Mernagh, ', 'Mr.'),\n",
       " ('Olsen, ', 'Mr.'),\n",
       " ('Madigan, ', 'Miss.'),\n",
       " ('Yrois, ', 'Miss.'),\n",
       " ('Vande ', None),\n",
       " ('Sage, ', 'Mr.'),\n",
       " ('Johanson, ', 'Mr.'),\n",
       " ('Youseff, ', 'Mr.'),\n",
       " ('Cohen, ', 'Mr.'),\n",
       " ('Strom, ', 'Miss.'),\n",
       " ('Backstrom, ', 'Mr.'),\n",
       " ('Albimona, ', 'Mr.'),\n",
       " ('Carr, ', 'Miss.'),\n",
       " ('Blank, ', 'Mr.'),\n",
       " ('Ali, ', 'Mr.'),\n",
       " ('Cameron, ', 'Miss.'),\n",
       " ('Perkin, ', 'Mr.'),\n",
       " ('Givard, ', 'Mr.'),\n",
       " ('Kiernan, ', 'Mr.'),\n",
       " ('Newell, ', 'Miss.'),\n",
       " ('Honkanen, ', 'Miss.'),\n",
       " ('Jacobsohn, ', 'Mr.'),\n",
       " ('Bazzani, ', 'Miss.'),\n",
       " ('Harris, ', 'Mr.'),\n",
       " ('Sunderland, ', 'Mr.'),\n",
       " ('Bracken, ', 'Mr.'),\n",
       " ('Green, ', 'Mr.'),\n",
       " ('Nenkoff, ', 'Mr.'),\n",
       " ('Hoyt, ', 'Mr.'),\n",
       " ('Berglund, ', 'Mr.'),\n",
       " ('Mellors, ', 'Mr.'),\n",
       " ('Lovell, ', 'Mr.'),\n",
       " ('Fahlstrom, ', 'Mr.'),\n",
       " ('Lefebre, ', 'Miss.'),\n",
       " ('Harris, ', 'Mrs'),\n",
       " ('Larsson, ', 'Mr.'),\n",
       " ('Sjostedt, ', 'Mr.'),\n",
       " ('Asplund, ', 'Miss.'),\n",
       " ('Leyson, ', 'Mr.'),\n",
       " ('Harknett, ', 'Miss.'),\n",
       " ('Hold, ', 'Mr.'),\n",
       " ('Collyer, ', 'Miss.'),\n",
       " ('Pengelly, ', 'Mr.'),\n",
       " ('Hunt, ', 'Mr.'),\n",
       " ('Zabour, ', 'Miss.'),\n",
       " ('Murphy, ', 'Miss.'),\n",
       " ('Coleridge, ', 'Mr.'),\n",
       " ('Maenpaa, ', 'Mr.'),\n",
       " ('Attalah, ', 'Mr.'),\n",
       " ('Minahan, ', None),\n",
       " ('Lindahl, ', 'Miss.'),\n",
       " ('Hamalainen, ', 'Mrs'),\n",
       " ('Beckwith, ', 'Mr.'),\n",
       " ('Carter, ', None),\n",
       " ('Reed, ', 'Mr.'),\n",
       " ('Strom, ', 'Mrs'),\n",
       " ('Stead, ', 'Mr.'),\n",
       " ('Lobb, ', 'Mr.'),\n",
       " ('Rosblom, ', 'Mrs'),\n",
       " ('Touma, ', 'Mrs'),\n",
       " ('Thorne, ', 'Mrs'),\n",
       " ('Cherry, ', 'Miss.'),\n",
       " ('Ward, ', 'Miss.'),\n",
       " ('Parrish, ', 'Mrs'),\n",
       " ('Smith, ', 'Mr.'),\n",
       " ('Asplund, ', None),\n",
       " ('Taussig, ', 'Mr.'),\n",
       " ('Harrison, ', 'Mr.'),\n",
       " ('Henry, ', 'Miss.'),\n",
       " ('Reeves, ', 'Mr.'),\n",
       " ('Panula, ', 'Mr.'),\n",
       " ('Persson, ', 'Mr.'),\n",
       " ('Graham, ', 'Mrs'),\n",
       " ('Bissette, ', 'Miss.'),\n",
       " ('Cairns, ', 'Mr.'),\n",
       " ('Tornquist, ', 'Mr.'),\n",
       " ('Mellinger, ', 'Mrs'),\n",
       " ('Natsch, ', 'Mr.'),\n",
       " ('Healy, ', 'Miss.'),\n",
       " ('Andrews, ', 'Miss.'),\n",
       " ('Lindblom, ', 'Miss.'),\n",
       " ('Parkes, ', 'Mr.'),\n",
       " ('Rice, ', None),\n",
       " ('Abbott, ', 'Mrs'),\n",
       " ('Duane, ', 'Mr.'),\n",
       " ('Olsson, ', 'Mr.'),\n",
       " ('de ', None),\n",
       " ('Dorking, ', 'Mr.'),\n",
       " ('Smith, ', 'Mr.'),\n",
       " ('Stankovic, ', 'Mr.'),\n",
       " ('de ', None),\n",
       " ('Naidenoff, ', 'Mr.'),\n",
       " ('Hosono, ', 'Mr.'),\n",
       " ('Connolly, ', 'Miss.'),\n",
       " ('Barber, ', 'Miss.'),\n",
       " ('Bishop, ', 'Mrs'),\n",
       " ('Levy, ', 'Mr.'),\n",
       " ('Haas, ', 'Miss.'),\n",
       " ('Mineff, ', 'Mr.'),\n",
       " ('Lewy, ', 'Mr.'),\n",
       " ('Hanna, ', 'Mr.'),\n",
       " ('Allison, ', 'Miss.'),\n",
       " ('Saalfeld, ', 'Mr.'),\n",
       " ('Baxter, ', 'Mrs'),\n",
       " ('Kelly, ', 'Miss.'),\n",
       " ('McCoy, ', 'Mr.'),\n",
       " ('Johnson, ', 'Mr.'),\n",
       " ('Keane, ', 'Miss.'),\n",
       " ('Williams, ', 'Mr.'),\n",
       " ('Allison, ', None),\n",
       " ('Fleming, ', 'Miss.'),\n",
       " ('Penasco ', None),\n",
       " ('Abelson, ', 'Mr.'),\n",
       " ('Francatelli, ', 'Miss.'),\n",
       " ('Hays, ', 'Miss.'),\n",
       " ('Ryerson, ', 'Miss.'),\n",
       " ('Lahtinen, ', 'Mrs'),\n",
       " ('Hendekovic, ', 'Mr.'),\n",
       " ('Hart, ', 'Mr.'),\n",
       " ('Nilsson, ', 'Miss.'),\n",
       " ('Kantor, ', 'Mrs'),\n",
       " ('Moraweck, ', None),\n",
       " ('Wick, ', 'Miss.'),\n",
       " ('Spedden, ', 'Mrs'),\n",
       " ('Dennis, ', 'Mr.'),\n",
       " ('Danoff, ', 'Mr.'),\n",
       " ('Slayter, ', 'Miss.'),\n",
       " ('Caldwell, ', 'Mrs'),\n",
       " ('Sage, ', 'Mr.'),\n",
       " ('Young, ', 'Miss.'),\n",
       " ('Nysveen, ', 'Mr.'),\n",
       " ('Ball, ', 'Mrs'),\n",
       " ('Goldsmith, ', 'Mrs'),\n",
       " ('Hippach, ', 'Miss.'),\n",
       " ('McCoy, ', 'Miss.'),\n",
       " ('Partner, ', 'Mr.'),\n",
       " ('Graham, ', 'Mr.'),\n",
       " ('Vander ', None),\n",
       " ('Frauenthal, ', 'Mrs'),\n",
       " ('Denkoff, ', 'Mr.'),\n",
       " ('Pears, ', 'Mr.'),\n",
       " ('Burns, ', 'Miss.'),\n",
       " ('Dahl, ', 'Mr.'),\n",
       " ('Blackwell, ', 'Mr.'),\n",
       " ('Navratil, ', None),\n",
       " ('Fortune, ', 'Miss.'),\n",
       " ('Collander, ', 'Mr.'),\n",
       " ('Sedgwick, ', 'Mr.'),\n",
       " ('Fox, ', 'Mr.'),\n",
       " ('Brown, ', 'Miss.'),\n",
       " ('Smith, ', 'Miss.'),\n",
       " ('Davison, ', 'Mrs'),\n",
       " ('Coutts, ', None),\n",
       " ('Dimic, ', 'Mr.'),\n",
       " ('Odahl, ', 'Mr.'),\n",
       " ('Lambert, ', 'Mr.'),\n",
       " ('Elias, ', 'Mr.'),\n",
       " ('Franchi, ', 'Mr.'),\n",
       " ('Yousif, ', 'Mr.'),\n",
       " ('Vanden ', None),\n",
       " ('Bowerman, ', 'Miss.'),\n",
       " ('Funk, ', 'Miss.'),\n",
       " ('McGovern, ', 'Miss.'),\n",
       " ('Mockler, ', 'Miss.'),\n",
       " ('Skoog, ', 'Mr.'),\n",
       " ('del ', None),\n",
       " ('Barbara, ', 'Mrs'),\n",
       " ('Asim, ', 'Mr.'),\n",
       " ('Brien, ', 'Mr.'),\n",
       " ('Adahl, ', 'Mr.'),\n",
       " ('Warren, ', 'Mrs'),\n",
       " ('Moussa, ', 'Mrs'),\n",
       " ('Jermyn, ', 'Miss.'),\n",
       " ('Aubart, ', None),\n",
       " ('Harder, ', 'Mr.'),\n",
       " ('Wiklund, ', 'Mr.'),\n",
       " ('Beavan, ', 'Mr.'),\n",
       " ('Ringhini, ', 'Mr.'),\n",
       " ('Palsson, ', 'Miss.'),\n",
       " ('Meyer, ', 'Mrs'),\n",
       " ('Landergren, ', 'Miss.'),\n",
       " ('Widener, ', 'Mr.'),\n",
       " ('Betros, ', 'Mr.'),\n",
       " ('Gustafsson, ', 'Mr.'),\n",
       " ('Bidois, ', 'Miss.'),\n",
       " ('Nakid, ', 'Miss.'),\n",
       " ('Tikkanen, ', 'Mr.'),\n",
       " ('Holverson, ', 'Mrs'),\n",
       " ('Plotcharsky, ', 'Mr.'),\n",
       " ('Davies, ', 'Mr.'),\n",
       " ('Goodwin, ', None),\n",
       " ('Buss, ', 'Miss.'),\n",
       " ('Sadlier, ', 'Mr.'),\n",
       " ('Lehmann, ', 'Miss.'),\n",
       " ('Carter, ', 'Mr.'),\n",
       " ('Jansson, ', 'Mr.'),\n",
       " ('Gustafsson, ', 'Mr.'),\n",
       " ('Newell, ', 'Miss.'),\n",
       " ('Sandstrom, ', 'Mrs'),\n",
       " ('Johansson, ', 'Mr.'),\n",
       " ('Olsson, ', 'Miss.'),\n",
       " ('McKane, ', 'Mr.'),\n",
       " ('Pain, ', None),\n",
       " ('Trout, ', 'Mrs'),\n",
       " ('Niskanen, ', 'Mr.'),\n",
       " ('Adams, ', 'Mr.'),\n",
       " ('Jussila, ', 'Miss.'),\n",
       " ('Hakkarainen, ', 'Mr.'),\n",
       " ('Oreskovic, ', 'Miss.'),\n",
       " ('Gale, ', 'Mr.'),\n",
       " ('Widegren, ', 'Mr.'),\n",
       " ('Richards, ', None),\n",
       " ('Birkeland, ', 'Mr.'),\n",
       " ('Lefebre, ', 'Miss.'),\n",
       " ('Sdycoff, ', 'Mr.'),\n",
       " ('Hart, ', 'Mr.'),\n",
       " ('Minahan, ', 'Miss.'),\n",
       " ('Cunningham, ', 'Mr.'),\n",
       " ('Sundman, ', 'Mr.'),\n",
       " ('Meek, ', 'Mrs'),\n",
       " ('Drew, ', 'Mrs'),\n",
       " ('Silven, ', 'Miss.'),\n",
       " ('Matthews, ', 'Mr.'),\n",
       " ('Van ', None),\n",
       " ('Gheorgheff, ', 'Mr.'),\n",
       " ('Charters, ', 'Mr.'),\n",
       " ('Zimmerman, ', 'Mr.'),\n",
       " ('Danbom, ', 'Mrs'),\n",
       " ('Rosblom, ', 'Mr.'),\n",
       " ('Wiseman, ', 'Mr.'),\n",
       " ('Clarke, ', 'Mrs'),\n",
       " ('Phillips, ', 'Miss.'),\n",
       " ('Flynn, ', 'Mr.'),\n",
       " ('Pickard, ', 'Mr.'),\n",
       " ('Steffansson, ', 'Mr.'),\n",
       " ('Thorneycroft, ', 'Mrs'),\n",
       " ('Louch, ', 'Mrs'),\n",
       " ('Kallio, ', 'Mr.'),\n",
       " ('Silvey, ', 'Mr.'),\n",
       " ('Carter, ', 'Miss.'),\n",
       " ('Ford, ', 'Miss.'),\n",
       " ('Richards, ', 'Mrs'),\n",
       " ('Fortune, ', 'Mr.'),\n",
       " ('Kvillner, ', 'Mr.'),\n",
       " ('Hart, ', 'Mrs'),\n",
       " ('Hampe, ', 'Mr.'),\n",
       " ('Petterson, ', 'Mr.'),\n",
       " ('Reynaldo, ', None),\n",
       " ('Bratthammer, ', 'Mr.'),\n",
       " ('Dodge, ', None),\n",
       " ('Mellinger, ', 'Miss.'),\n",
       " ('Seward, ', 'Mr.'),\n",
       " ('Baclini, ', 'Miss.'),\n",
       " ('Peuchen, ', None),\n",
       " ('West, ', 'Mr.'),\n",
       " ('Hagland, ', 'Mr.'),\n",
       " ('Foreman, ', 'Mr.'),\n",
       " ('Goldenberg, ', 'Mr.'),\n",
       " ('Peduzzi, ', 'Mr.'),\n",
       " ('Jalsevac, ', 'Mr.'),\n",
       " ('Millet, ', 'Mr.'),\n",
       " ('Kenyon, ', 'Mrs'),\n",
       " ('Toomey, ', 'Miss.'),\n",
       " ('Connor, ', 'Mr.'),\n",
       " ('Anderson, ', 'Mr.'),\n",
       " ('Morley, ', 'Mr.'),\n",
       " ('Gee, ', 'Mr.'),\n",
       " ('Milling, ', 'Mr.'),\n",
       " ('Maisner, ', 'Mr.'),\n",
       " ('Goncalves, ', 'Mr.'),\n",
       " ('Campbell, ', 'Mr.'),\n",
       " ('Smart, ', 'Mr.'),\n",
       " ('Scanlan, ', 'Mr.'),\n",
       " ('Baclini, ', 'Miss.'),\n",
       " ('Keefe, ', 'Mr.'),\n",
       " ('Cacic, ', 'Mr.'),\n",
       " ('West, ', 'Mrs'),\n",
       " ('Jerwan, ', 'Mrs'),\n",
       " ('Strandberg, ', 'Miss.'),\n",
       " ('Clifford, ', 'Mr.'),\n",
       " ('Renouf, ', 'Mr.'),\n",
       " ('Braund, ', 'Mr.'),\n",
       " ('Karlsson, ', 'Mr.'),\n",
       " ('Hirvonen, ', 'Miss.'),\n",
       " ('Goodwin, ', None),\n",
       " ('Frost, ', 'Mr.'),\n",
       " ('Rouse, ', 'Mr.'),\n",
       " ('Turkula, ', 'Mrs'),\n",
       " ('Bishop, ', 'Mr.'),\n",
       " ('Lefebre, ', 'Miss.'),\n",
       " ('Hoyt, ', 'Mrs'),\n",
       " ('Kent, ', 'Mr.'),\n",
       " ('Somerton, ', 'Mr.'),\n",
       " ('Coutts, ', None),\n",
       " ('Hagland, ', 'Mr.'),\n",
       " ('Windelov, ', 'Mr.'),\n",
       " ('Molson, ', 'Mr.'),\n",
       " ('Artagaveytia, ', 'Mr.'),\n",
       " ('Stanley, ', 'Mr.'),\n",
       " ('Yousseff, ', 'Mr.'),\n",
       " ('Eustis, ', 'Miss.'),\n",
       " ('Shellard, ', 'Mr.'),\n",
       " ('Allison, ', 'Mrs'),\n",
       " ('Svensson, ', 'Mr.'),\n",
       " ('Calic, ', 'Mr.'),\n",
       " ('Canavan, ', 'Miss.'),\n",
       " ('Sullivan, ', 'Miss.'),\n",
       " ('Laitinen, ', 'Miss.'),\n",
       " ('Maioni, ', 'Miss.'),\n",
       " ('Penasco ', None),\n",
       " ('Quick, ', 'Mrs'),\n",
       " ('Bradley, ', 'Mr.'),\n",
       " ('Olsen, ', 'Mr.'),\n",
       " ('Lang, ', 'Mr.'),\n",
       " ('Daly, ', 'Mr.'),\n",
       " ('Webber, ', 'Mr.'),\n",
       " ('McGough, ', 'Mr.'),\n",
       " ('Rothschild, ', 'Mrs'),\n",
       " ('Coleff, ', 'Mr.'),\n",
       " ('Walker, ', 'Mr.'),\n",
       " ('Lemore, ', 'Mrs'),\n",
       " ('Ryan, ', 'Mr.'),\n",
       " ('Angle, ', 'Mrs'),\n",
       " ('Pavlovic, ', 'Mr.'),\n",
       " ('Perreault, ', 'Miss.'),\n",
       " ('Vovk, ', 'Mr.'),\n",
       " ('Lahoud, ', 'Mr.'),\n",
       " ('Hippach, ', 'Mrs'),\n",
       " ('Kassem, ', 'Mr.'),\n",
       " ('Farrell, ', 'Mr.'),\n",
       " ('Ridsdale, ', 'Miss.'),\n",
       " ('Farthing, ', 'Mr.'),\n",
       " ('Salonen, ', 'Mr.'),\n",
       " ('Hocking, ', 'Mr.'),\n",
       " ('Quick, ', 'Miss.'),\n",
       " ('Toufik, ', 'Mr.'),\n",
       " ('Elias, ', 'Mr.'),\n",
       " ('Peter, ', 'Mrs'),\n",
       " ('Cacic, ', 'Miss.'),\n",
       " ('Hart, ', 'Miss.'),\n",
       " ('Butt, ', None),\n",
       " ('LeRoy, ', 'Miss.'),\n",
       " ('Risien, ', 'Mr.'),\n",
       " ('Frolicher, ', 'Miss.'),\n",
       " ('Crosby, ', 'Miss.'),\n",
       " ('Andersson, ', 'Miss.'),\n",
       " ('Andersson, ', 'Miss.'),\n",
       " ('Beane, ', 'Mr.'),\n",
       " ('Douglas, ', 'Mr.'),\n",
       " ('Nicholson, ', 'Mr.'),\n",
       " ('Beane, ', 'Mrs'),\n",
       " ('Padro ', None),\n",
       " ('Goldsmith, ', 'Mr.'),\n",
       " ('Davies, ', None),\n",
       " ('Thayer, ', 'Mr.'),\n",
       " ('Sharp, ', 'Mr.'),\n",
       " ('Brien, ', 'Mr.'),\n",
       " ('Leeni, ', 'Mr.'),\n",
       " ('Ohman, ', 'Miss.'),\n",
       " ('Wright, ', 'Mr.'),\n",
       " ('Duff ', None),\n",
       " ('Robbins, ', 'Mr.'),\n",
       " ('Taussig, ', 'Mrs'),\n",
       " ('de ', None),\n",
       " ('Morrow, ', 'Mr.'),\n",
       " ('Sivic, ', 'Mr.'),\n",
       " ('Norman, ', 'Mr.'),\n",
       " ('Simmons, ', 'Mr.'),\n",
       " ('Meanwell, ', 'Miss.'),\n",
       " ('Davies, ', 'Mr.'),\n",
       " ('Stoytcheff, ', 'Mr.'),\n",
       " ('Palsson, ', 'Mrs'),\n",
       " ('Doharr, ', 'Mr.'),\n",
       " ('Jonsson, ', 'Mr.'),\n",
       " ('Harris, ', 'Mr.'),\n",
       " ('Appleton, ', 'Mrs'),\n",
       " ('Flynn, ', 'Mr.'),\n",
       " ('Kelly, ', 'Miss.'),\n",
       " ('Rush, ', 'Mr.'),\n",
       " ('Patchett, ', 'Mr.'),\n",
       " ('Garside, ', 'Miss.'),\n",
       " ('Silvey, ', 'Mrs'),\n",
       " ('Caram, ', 'Mrs'),\n",
       " ('Jussila, ', 'Mr.'),\n",
       " ('Christy, ', 'Miss.'),\n",
       " ('Thayer, ', 'Mrs'),\n",
       " ('Downton, ', 'Mr.'),\n",
       " ('Ross, ', 'Mr.'),\n",
       " ('Paulner, ', 'Mr.'),\n",
       " ('Taussig, ', 'Miss.'),\n",
       " ('Jarvis, ', 'Mr.'),\n",
       " ('Stehli, ', 'Mr.'),\n",
       " ('Gilinski, ', 'Mr.'),\n",
       " ('Murdlin, ', 'Mr.'),\n",
       " ('Rintamaki, ', 'Mr.'),\n",
       " ('Stephenson, ', 'Mrs'),\n",
       " ('Elsbury, ', 'Mr.'),\n",
       " ('Bourke, ', 'Miss.'),\n",
       " ('Chapman, ', 'Mr.'),\n",
       " ('Van ', None),\n",
       " ('Leitch, ', 'Miss.'),\n",
       " ('Johnson, ', 'Mr.'),\n",
       " ('Boulos, ', 'Mr.'),\n",
       " ('Duff ', None),\n",
       " ('Jacobsohn, ', 'Mrs'),\n",
       " ('Slabenoff, ', 'Mr.'),\n",
       " ('Harrington, ', 'Mr.'),\n",
       " ('Torber, ', 'Mr.'),\n",
       " ('Homer, ', 'Mr.'),\n",
       " ('Lindell, ', 'Mr.'),\n",
       " ('Karaic, ', 'Mr.'),\n",
       " ('Daniel, ', 'Mr.'),\n",
       " ('Laroche, ', 'Mrs'),\n",
       " ('Shutes, ', 'Miss.'),\n",
       " ('Andersson, ', 'Mrs'),\n",
       " ('Jardin, ', 'Mr.'),\n",
       " ('Murphy, ', 'Miss.'),\n",
       " ('Horgan, ', 'Mr.'),\n",
       " ('Brocklebank, ', 'Mr.'),\n",
       " ('Herman, ', 'Miss.'),\n",
       " ('Danbom, ', 'Mr.'),\n",
       " ('Lobb, ', 'Mrs'),\n",
       " ('Becker, ', 'Miss.'),\n",
       " ('Gavey, ', 'Mr.'),\n",
       " ('Yasbeck, ', 'Mr.'),\n",
       " ('Kimball, ', 'Mr.'),\n",
       " ('Nakid, ', 'Mr.'),\n",
       " ('Hansen, ', 'Mr.'),\n",
       " ('Bowen, ', 'Mr.'),\n",
       " ('Sutton, ', 'Mr.'),\n",
       " ('Kirkland, ', None),\n",
       " ('Longley, ', 'Miss.'),\n",
       " ('Bostandyeff, ', 'Mr.'),\n",
       " ('Connell, ', 'Mr.'),\n",
       " ('Barkworth, ', 'Mr.'),\n",
       " ('Lundahl, ', 'Mr.'),\n",
       " ('Maeglin, ', None),\n",
       " ('Parr, ', 'Mr.'),\n",
       " ('Skoog, ', 'Miss.'),\n",
       " ('Davis, ', 'Miss.'),\n",
       " ('Leinonen, ', 'Mr.'),\n",
       " ('Collyer, ', 'Mr.'),\n",
       " ('Panula, ', 'Mrs'),\n",
       " ('Thorneycroft, ', 'Mr.'),\n",
       " ('Jensen, ', 'Mr.'),\n",
       " ('Sagesser, ', None),\n",
       " ('Skoog, ', 'Miss.'),\n",
       " ('Foo, ', 'Mr.'),\n",
       " ('Baclini, ', 'Miss.'),\n",
       " ('Harper, ', 'Mr.'),\n",
       " ('Cor, ', 'Mr.'),\n",
       " ('Blumer, ', None),\n",
       " ('Willey, ', 'Mr.'),\n",
       " ('Stanley, ', 'Miss.'),\n",
       " ('Mitkoff, ', 'Mr.'),\n",
       " ('Doling, ', 'Miss.'),\n",
       " ('Kalvik, ', 'Mr.'),\n",
       " ('Leary, ', 'Miss.'),\n",
       " ('Hegarty, ', 'Miss.'),\n",
       " ('Hickman, ', 'Mr.'),\n",
       " ('Radeff, ', 'Mr.'),\n",
       " ('Bourke, ', 'Mrs'),\n",
       " ('Eitemiller, ', 'Mr.'),\n",
       " ('Newell, ', 'Mr.'),\n",
       " ('Frauenthal, ', None),\n",
       " ('Badt, ', 'Mr.'),\n",
       " ('Colley, ', 'Mr.'),\n",
       " ('Coleff, ', 'Mr.'),\n",
       " ('Lindqvist, ', 'Mr.'),\n",
       " ('Hickman, ', 'Mr.'),\n",
       " ('Butler, ', 'Mr.'),\n",
       " ('Rommetvedt, ', 'Mr.'),\n",
       " ('Cook, ', 'Mr.'),\n",
       " ('Taylor, ', 'Mrs'),\n",
       " ('Brown, ', 'Mrs'),\n",
       " ('Davidson, ', 'Mr.'),\n",
       " ('Mitchell, ', 'Mr.'),\n",
       " ('Wilhelms, ', 'Mr.'),\n",
       " ('Watson, ', 'Mr.'),\n",
       " ('Edvardsson, ', 'Mr.'),\n",
       " ('Sawyer, ', 'Mr.'),\n",
       " ('Turja, ', 'Miss.'),\n",
       " ('Goodwin, ', 'Mrs'),\n",
       " ('Cardeza, ', 'Mr.'),\n",
       " ('Peters, ', 'Miss.'),\n",
       " ('Hassab, ', 'Mr.'),\n",
       " ('Olsvigen, ', 'Mr.'),\n",
       " ('Goodwin, ', 'Mr.'),\n",
       " ('Brown, ', 'Mr.'),\n",
       " ('Laroche, ', 'Mr.'),\n",
       " ('Panula, ', 'Mr.'),\n",
       " ('Dakic, ', 'Mr.'),\n",
       " ('Fischer, ', 'Mr.'),\n",
       " ('Madill, ', 'Miss.'),\n",
       " ('Dick, ', 'Mr.'),\n",
       " ('Karun, ', 'Miss.'),\n",
       " ('Lam, ', 'Mr.'),\n",
       " ('Saad, ', 'Mr.'),\n",
       " ('Weir, ', None),\n",
       " ('Chapman, ', 'Mr.'),\n",
       " ('Kelly, ', 'Mr.'),\n",
       " ('Mullens, ', 'Miss.'),\n",
       " ('Thayer, ', 'Mr.'),\n",
       " ('Humblen, ', 'Mr.'),\n",
       " ('Astor, ', 'Mrs'),\n",
       " ('Silverthorne, ', 'Mr.'),\n",
       " ('Barbara, ', 'Miss.'),\n",
       " ('Gallagher, ', 'Mr.'),\n",
       " ('Hansen, ', 'Mr.'),\n",
       " ('Morley, ', 'Mr.'),\n",
       " ('Kelly, ', 'Mrs'),\n",
       " ('Calderhead, ', 'Mr.'),\n",
       " ('Cleaver, ', 'Miss.'),\n",
       " ('Moubarek, ', None),\n",
       " ('Mayne, ', None),\n",
       " ('Klaber, ', 'Mr.'),\n",
       " ('Taylor, ', 'Mr.'),\n",
       " ('Larsson, ', 'Mr.'),\n",
       " ('Greenberg, ', 'Mr.'),\n",
       " ('Soholt, ', 'Mr.'),\n",
       " ('Endres, ', 'Miss.'),\n",
       " ('Troutt, ', 'Miss.'),\n",
       " ('McEvoy, ', 'Mr.'),\n",
       " ('Johnson, ', 'Mr.'),\n",
       " ('Harper, ', 'Miss.'),\n",
       " ('Jensen, ', 'Mr.'),\n",
       " ('Gillespie, ', 'Mr.'),\n",
       " ('Hodges, ', 'Mr.'),\n",
       " ('Chambers, ', 'Mr.'),\n",
       " ('Oreskovic, ', 'Mr.'),\n",
       " ('Renouf, ', 'Mrs'),\n",
       " ('Mannion, ', 'Miss.'),\n",
       " ('Bryhl, ', 'Mr.'),\n",
       " ('Ilmakangas, ', 'Miss.'),\n",
       " ('Allen, ', 'Miss.'),\n",
       " ('Hassan, ', 'Mr.'),\n",
       " ('Knight, ', 'Mr.'),\n",
       " ('Berriman, ', 'Mr.'),\n",
       " ('Troupiansky, ', 'Mr.'),\n",
       " ('Williams, ', 'Mr.'),\n",
       " ('Ford, ', 'Mrs'),\n",
       " ('Lesurer, ', 'Mr.'),\n",
       " ('Ivanoff, ', 'Mr.'),\n",
       " ('Nankoff, ', 'Mr.'),\n",
       " ('Hawksford, ', 'Mr.'),\n",
       " ('Cavendish, ', 'Mr.'),\n",
       " ('Ryerson, ', 'Miss.'),\n",
       " ('McNamee, ', 'Mr.'),\n",
       " ('Stranden, ', 'Mr.'),\n",
       " ('Crosby, ', None),\n",
       " ('Abbott, ', 'Mr.'),\n",
       " ('Sinkkonen, ', 'Miss.'),\n",
       " ('Marvin, ', 'Mr.'),\n",
       " ('Connaghton, ', 'Mr.'),\n",
       " ('Wells, ', 'Miss.'),\n",
       " ('Moor, ', None),\n",
       " ('Vande ', None),\n",
       " ('Jonkoff, ', 'Mr.'),\n",
       " ('Herman, ', 'Mrs'),\n",
       " ('Hamalainen, ', None),\n",
       " ('Carlsson, ', 'Mr.'),\n",
       " ('Bailey, ', 'Mr.'),\n",
       " ('Theobald, ', 'Mr.'),\n",
       " ('Rothes, ', None),\n",
       " ('Garfirth, ', 'Mr.'),\n",
       " ('Nirva, ', 'Mr.'),\n",
       " ('Barah, ', 'Mr.'),\n",
       " ('Carter, ', 'Mrs'),\n",
       " ('Eklund, ', 'Mr.'),\n",
       " ('Hogeboom, ', 'Mrs'),\n",
       " ('Brewe, ', None),\n",
       " ('Mangan, ', 'Miss.'),\n",
       " ('Moran, ', 'Mr.'),\n",
       " ('Gronnestad, ', 'Mr.'),\n",
       " ('Lievens, ', 'Mr.'),\n",
       " ('Jensen, ', 'Mr.'),\n",
       " ('Mack, ', 'Mrs'),\n",
       " ('Elias, ', 'Mr.'),\n",
       " ('Hocking, ', 'Mrs'),\n",
       " ('Myhrman, ', 'Mr.'),\n",
       " ('Tobin, ', 'Mr.'),\n",
       " ('Emanuel, ', 'Miss.'),\n",
       " ('Kilgannon, ', 'Mr.'),\n",
       " ('Robert, ', 'Mrs'),\n",
       " ('Ayoub, ', 'Miss.'),\n",
       " ('Dick, ', 'Mrs'),\n",
       " ('Long, ', 'Mr.'),\n",
       " ('Johnston, ', 'Mr.'),\n",
       " ('Ali, ', 'Mr.'),\n",
       " ('Harmer, ', 'Mr.'),\n",
       " ('Sjoblom, ', 'Miss.'),\n",
       " ('Rice, ', None),\n",
       " ('Dean, ', None),\n",
       " ('Guggenheim, ', 'Mr.'),\n",
       " ('Keane, ', 'Mr.'),\n",
       " ('Gaskell, ', 'Mr.'),\n",
       " ('Sage, ', 'Miss.'),\n",
       " ('Hoyt, ', 'Mr.'),\n",
       " ('Dantcheff, ', 'Mr.'),\n",
       " ('Otter, ', 'Mr.'),\n",
       " ('Leader, ', None),\n",
       " ('Osman, ', 'Mrs'),\n",
       " ('Ibrahim ', None),\n",
       " ('Van ', None),\n",
       " ('Ponesell, ', 'Mr.'),\n",
       " ('Collyer, ', 'Mrs'),\n",
       " ('Carter, ', None),\n",
       " ('Thomas, ', None),\n",
       " ('Hedman, ', 'Mr.'),\n",
       " ('Johansson, ', 'Mr.'),\n",
       " ('Andrews, ', 'Mr.'),\n",
       " ('Pettersson, ', 'Miss.'),\n",
       " ('Meyer, ', 'Mr.'),\n",
       " ('Chambers, ', 'Mrs'),\n",
       " ('Alexander, ', 'Mr.'),\n",
       " ('Lester, ', 'Mr.'),\n",
       " ('Slemen, ', 'Mr.'),\n",
       " ('Andersson, ', 'Miss.'),\n",
       " ('Tomlin, ', 'Mr.'),\n",
       " ('Fry, ', 'Mr.'),\n",
       " ('Heininen, ', 'Miss.'),\n",
       " ('Mallet, ', 'Mr.'),\n",
       " ('Holm, ', 'Mr.'),\n",
       " ('Skoog, ', None),\n",
       " ('Hays, ', 'Mrs'),\n",
       " ('Lulic, ', 'Mr.'),\n",
       " ('Reuchlin, ', None),\n",
       " ('Moor, ', 'Mrs'),\n",
       " ('Panula, ', None),\n",
       " ('Flynn, ', 'Mr.'),\n",
       " ('Lam, ', 'Mr.'),\n",
       " ('Mallet, ', None),\n",
       " ('McCormack, ', 'Mr.'),\n",
       " ('Stone, ', 'Mrs'),\n",
       " ('Yasbeck, ', 'Mrs'),\n",
       " ('Richards, ', None),\n",
       " ('Saad, ', 'Mr.'),\n",
       " ('Augustsson, ', 'Mr.'),\n",
       " ('Allum, ', 'Mr.'),\n",
       " ('Compton, ', 'Miss.'),\n",
       " ('Pasic, ', 'Mr.'),\n",
       " ('Sirota, ', 'Mr.'),\n",
       " ('Chip, ', 'Mr.'),\n",
       " ('Marechal, ', 'Mr.'),\n",
       " ('Alhomaki, ', 'Mr.'),\n",
       " ('Mudd, ', 'Mr.'),\n",
       " ('Serepeca, ', 'Miss.'),\n",
       " ('Lemberopolous, ', 'Mr.'),\n",
       " ('Culumovic, ', 'Mr.'),\n",
       " ('Abbing, ', 'Mr.'),\n",
       " ('Sage, ', 'Mr.'),\n",
       " ('Markoff, ', 'Mr.'),\n",
       " ('Harper, ', None),\n",
       " ('Goldenberg, ', 'Mrs'),\n",
       " ('Andersson, ', None),\n",
       " ('Svensson, ', 'Mr.'),\n",
       " ('Boulos, ', 'Miss.'),\n",
       " ('Lines, ', 'Miss.'),\n",
       " ('Carter, ', 'Mrs'),\n",
       " ('Aks, ', 'Mrs'),\n",
       " ('Wick, ', 'Mrs'),\n",
       " ('Daly, ', 'Mr.'),\n",
       " ('Baclini, ', 'Mrs'),\n",
       " ('Razi, ', 'Mr.'),\n",
       " ('Hansen, ', 'Mr.'),\n",
       " ('Giles, ', 'Mr.'),\n",
       " ('Swift, ', 'Mrs'),\n",
       " ('Sage, ', 'Miss.'),\n",
       " ('Gill, ', 'Mr.'),\n",
       " ('Bystrom, ', 'Mrs'),\n",
       " ('Duran ', None),\n",
       " ('Roebling, ', 'Mr.'),\n",
       " ('van ', None),\n",
       " ('Johnson, ', None),\n",
       " ('Balkic, ', 'Mr.'),\n",
       " ('Beckwith, ', 'Mrs'),\n",
       " ('Carlsson, ', 'Mr.'),\n",
       " ('Vander ', None),\n",
       " ('Abelson, ', 'Mrs'),\n",
       " ('Najib, ', 'Miss.'),\n",
       " ('Gustafsson, ', 'Mr.'),\n",
       " ('Petroff, ', 'Mr.'),\n",
       " ('Laleff, ', 'Mr.'),\n",
       " ('Potter, ', 'Mrs'),\n",
       " ('Shelley, ', 'Mrs'),\n",
       " ('Markun, ', 'Mr.'),\n",
       " ('Dahlberg, ', 'Miss.'),\n",
       " ('Banfield, ', 'Mr.'),\n",
       " ('Sutehall, ', 'Mr.'),\n",
       " ('Rice, ', 'Mrs'),\n",
       " ('Montvila, ', None),\n",
       " ('Graham, ', 'Miss.'),\n",
       " ('Johnston, ', 'Miss.'),\n",
       " ('Behr, ', 'Mr.'),\n",
       " ('Dooley, ', 'Mr.')]"
      ]
     },
     "execution_count": 170,
     "metadata": {},
     "output_type": "execute_result"
    }
   ],
   "source": [
    "fonction(dataset1)"
   ]
  },
  {
   "cell_type": "code",
   "execution_count": 171,
   "metadata": {},
   "outputs": [
    {
     "name": "stdout",
     "output_type": "stream",
     "text": [
      "891\n",
      "891\n"
     ]
    }
   ],
   "source": [
    "rename = fonction(dataset1)\n",
    "print(len(rename))\n",
    "print(len(dataset1))"
   ]
  },
  {
   "cell_type": "code",
   "execution_count": 172,
   "metadata": {
    "scrolled": false
   },
   "outputs": [
    {
     "data": {
      "text/html": [
       "<div>\n",
       "<style scoped>\n",
       "    .dataframe tbody tr th:only-of-type {\n",
       "        vertical-align: middle;\n",
       "    }\n",
       "\n",
       "    .dataframe tbody tr th {\n",
       "        vertical-align: top;\n",
       "    }\n",
       "\n",
       "    .dataframe thead th {\n",
       "        text-align: right;\n",
       "    }\n",
       "</style>\n",
       "<table border=\"1\" class=\"dataframe\">\n",
       "  <thead>\n",
       "    <tr style=\"text-align: right;\">\n",
       "      <th></th>\n",
       "      <th>PassengerId</th>\n",
       "      <th>Survived</th>\n",
       "      <th>Pclass</th>\n",
       "      <th>Name</th>\n",
       "      <th>Sex</th>\n",
       "      <th>Age</th>\n",
       "      <th>SibSp</th>\n",
       "      <th>Parch</th>\n",
       "      <th>Ticket</th>\n",
       "      <th>Fare</th>\n",
       "      <th>Cabin</th>\n",
       "      <th>Embarked</th>\n",
       "      <th>Rename</th>\n",
       "    </tr>\n",
       "  </thead>\n",
       "  <tbody>\n",
       "    <tr>\n",
       "      <th>886</th>\n",
       "      <td>887</td>\n",
       "      <td>0</td>\n",
       "      <td>2</td>\n",
       "      <td>Montvila, Rev. Juozas</td>\n",
       "      <td>male</td>\n",
       "      <td>27.0</td>\n",
       "      <td>0</td>\n",
       "      <td>0</td>\n",
       "      <td>211536</td>\n",
       "      <td>13.00</td>\n",
       "      <td>NaN</td>\n",
       "      <td>S</td>\n",
       "      <td>(Montvila, , None)</td>\n",
       "    </tr>\n",
       "    <tr>\n",
       "      <th>887</th>\n",
       "      <td>888</td>\n",
       "      <td>1</td>\n",
       "      <td>1</td>\n",
       "      <td>Graham, Miss. Margaret Edith</td>\n",
       "      <td>female</td>\n",
       "      <td>19.0</td>\n",
       "      <td>0</td>\n",
       "      <td>0</td>\n",
       "      <td>112053</td>\n",
       "      <td>30.00</td>\n",
       "      <td>B42</td>\n",
       "      <td>S</td>\n",
       "      <td>(Graham, , Miss.)</td>\n",
       "    </tr>\n",
       "    <tr>\n",
       "      <th>888</th>\n",
       "      <td>889</td>\n",
       "      <td>0</td>\n",
       "      <td>3</td>\n",
       "      <td>Johnston, Miss. Catherine Helen \"Carrie\"</td>\n",
       "      <td>female</td>\n",
       "      <td>NaN</td>\n",
       "      <td>1</td>\n",
       "      <td>2</td>\n",
       "      <td>W./C. 6607</td>\n",
       "      <td>23.45</td>\n",
       "      <td>NaN</td>\n",
       "      <td>S</td>\n",
       "      <td>(Johnston, , Miss.)</td>\n",
       "    </tr>\n",
       "    <tr>\n",
       "      <th>889</th>\n",
       "      <td>890</td>\n",
       "      <td>1</td>\n",
       "      <td>1</td>\n",
       "      <td>Behr, Mr. Karl Howell</td>\n",
       "      <td>male</td>\n",
       "      <td>26.0</td>\n",
       "      <td>0</td>\n",
       "      <td>0</td>\n",
       "      <td>111369</td>\n",
       "      <td>30.00</td>\n",
       "      <td>C148</td>\n",
       "      <td>C</td>\n",
       "      <td>(Behr, , Mr.)</td>\n",
       "    </tr>\n",
       "    <tr>\n",
       "      <th>890</th>\n",
       "      <td>891</td>\n",
       "      <td>0</td>\n",
       "      <td>3</td>\n",
       "      <td>Dooley, Mr. Patrick</td>\n",
       "      <td>male</td>\n",
       "      <td>32.0</td>\n",
       "      <td>0</td>\n",
       "      <td>0</td>\n",
       "      <td>370376</td>\n",
       "      <td>7.75</td>\n",
       "      <td>NaN</td>\n",
       "      <td>Q</td>\n",
       "      <td>(Dooley, , Mr.)</td>\n",
       "    </tr>\n",
       "  </tbody>\n",
       "</table>\n",
       "</div>"
      ],
      "text/plain": [
       "     PassengerId  Survived  Pclass                                      Name  \\\n",
       "886          887         0       2                     Montvila, Rev. Juozas   \n",
       "887          888         1       1              Graham, Miss. Margaret Edith   \n",
       "888          889         0       3  Johnston, Miss. Catherine Helen \"Carrie\"   \n",
       "889          890         1       1                     Behr, Mr. Karl Howell   \n",
       "890          891         0       3                       Dooley, Mr. Patrick   \n",
       "\n",
       "        Sex   Age  SibSp  Parch      Ticket   Fare Cabin Embarked  \\\n",
       "886    male  27.0      0      0      211536  13.00   NaN        S   \n",
       "887  female  19.0      0      0      112053  30.00   B42        S   \n",
       "888  female   NaN      1      2  W./C. 6607  23.45   NaN        S   \n",
       "889    male  26.0      0      0      111369  30.00  C148        C   \n",
       "890    male  32.0      0      0      370376   7.75   NaN        Q   \n",
       "\n",
       "                  Rename  \n",
       "886   (Montvila, , None)  \n",
       "887    (Graham, , Miss.)  \n",
       "888  (Johnston, , Miss.)  \n",
       "889        (Behr, , Mr.)  \n",
       "890      (Dooley, , Mr.)  "
      ]
     },
     "execution_count": 172,
     "metadata": {},
     "output_type": "execute_result"
    }
   ],
   "source": [
    "rename = fonction(dataset1)\n",
    "dataset1['Rename']=rename\n",
    "dataset1.tail()"
   ]
  },
  {
   "cell_type": "code",
   "execution_count": 95,
   "metadata": {},
   "outputs": [
    {
     "data": {
      "text/plain": [
       "809"
      ]
     },
     "execution_count": 95,
     "metadata": {},
     "output_type": "execute_result"
    }
   ],
   "source": [
    "rename = fonction(dataset1)\n",
    "len(rename)"
   ]
  },
  {
   "cell_type": "code",
   "execution_count": 15,
   "metadata": {
    "colab": {
     "base_uri": "https://localhost:8080/",
     "height": 204
    },
    "colab_type": "code",
    "id": "7HPd4idJmRlv",
    "outputId": "14f11cf5-e0c4-4cbb-e880-11d06f22b75f",
    "scrolled": false
   },
   "outputs": [
    {
     "data": {
      "text/html": [
       "<div>\n",
       "<style scoped>\n",
       "    .dataframe tbody tr th:only-of-type {\n",
       "        vertical-align: middle;\n",
       "    }\n",
       "\n",
       "    .dataframe tbody tr th {\n",
       "        vertical-align: top;\n",
       "    }\n",
       "\n",
       "    .dataframe thead th {\n",
       "        text-align: right;\n",
       "    }\n",
       "</style>\n",
       "<table border=\"1\" class=\"dataframe\">\n",
       "  <thead>\n",
       "    <tr style=\"text-align: right;\">\n",
       "      <th></th>\n",
       "      <th>PassengerId</th>\n",
       "      <th>Pclass</th>\n",
       "      <th>Name</th>\n",
       "      <th>Sex</th>\n",
       "      <th>Age</th>\n",
       "      <th>SibSp</th>\n",
       "      <th>Parch</th>\n",
       "      <th>Ticket</th>\n",
       "      <th>Fare</th>\n",
       "      <th>Cabin</th>\n",
       "      <th>Embarked</th>\n",
       "      <th>Rename</th>\n",
       "    </tr>\n",
       "  </thead>\n",
       "  <tbody>\n",
       "    <tr>\n",
       "      <th>0</th>\n",
       "      <td>892</td>\n",
       "      <td>3</td>\n",
       "      <td>Kelly, Mr. James</td>\n",
       "      <td>male</td>\n",
       "      <td>34.5</td>\n",
       "      <td>0</td>\n",
       "      <td>0</td>\n",
       "      <td>330911</td>\n",
       "      <td>7.8292</td>\n",
       "      <td>NaN</td>\n",
       "      <td>Q</td>\n",
       "      <td>Kelly, Mr. James</td>\n",
       "    </tr>\n",
       "    <tr>\n",
       "      <th>1</th>\n",
       "      <td>893</td>\n",
       "      <td>3</td>\n",
       "      <td>Wilkes, Mrs. James (Ellen Needs)</td>\n",
       "      <td>female</td>\n",
       "      <td>47.0</td>\n",
       "      <td>1</td>\n",
       "      <td>0</td>\n",
       "      <td>363272</td>\n",
       "      <td>7.0000</td>\n",
       "      <td>NaN</td>\n",
       "      <td>S</td>\n",
       "      <td>Wilkes, Mrs. James (Ellen Needs)</td>\n",
       "    </tr>\n",
       "    <tr>\n",
       "      <th>2</th>\n",
       "      <td>894</td>\n",
       "      <td>2</td>\n",
       "      <td>Myles, Mr. Thomas Francis</td>\n",
       "      <td>male</td>\n",
       "      <td>62.0</td>\n",
       "      <td>0</td>\n",
       "      <td>0</td>\n",
       "      <td>240276</td>\n",
       "      <td>9.6875</td>\n",
       "      <td>NaN</td>\n",
       "      <td>Q</td>\n",
       "      <td>Myles, Mr. Thomas Francis</td>\n",
       "    </tr>\n",
       "    <tr>\n",
       "      <th>3</th>\n",
       "      <td>895</td>\n",
       "      <td>3</td>\n",
       "      <td>Wirz, Mr. Albert</td>\n",
       "      <td>male</td>\n",
       "      <td>27.0</td>\n",
       "      <td>0</td>\n",
       "      <td>0</td>\n",
       "      <td>315154</td>\n",
       "      <td>8.6625</td>\n",
       "      <td>NaN</td>\n",
       "      <td>S</td>\n",
       "      <td>Wirz, Mr. Albert</td>\n",
       "    </tr>\n",
       "    <tr>\n",
       "      <th>4</th>\n",
       "      <td>896</td>\n",
       "      <td>3</td>\n",
       "      <td>Hirvonen, Mrs. Alexander (Helga E Lindqvist)</td>\n",
       "      <td>female</td>\n",
       "      <td>22.0</td>\n",
       "      <td>1</td>\n",
       "      <td>1</td>\n",
       "      <td>3101298</td>\n",
       "      <td>12.2875</td>\n",
       "      <td>NaN</td>\n",
       "      <td>S</td>\n",
       "      <td>Hirvonen, Mrs. Alexander (Helga E Lindqvist)</td>\n",
       "    </tr>\n",
       "  </tbody>\n",
       "</table>\n",
       "</div>"
      ],
      "text/plain": [
       "   PassengerId  Pclass                                          Name     Sex  \\\n",
       "0          892       3                              Kelly, Mr. James    male   \n",
       "1          893       3              Wilkes, Mrs. James (Ellen Needs)  female   \n",
       "2          894       2                     Myles, Mr. Thomas Francis    male   \n",
       "3          895       3                              Wirz, Mr. Albert    male   \n",
       "4          896       3  Hirvonen, Mrs. Alexander (Helga E Lindqvist)  female   \n",
       "\n",
       "    Age  SibSp  Parch   Ticket     Fare Cabin Embarked  \\\n",
       "0  34.5      0      0   330911   7.8292   NaN        Q   \n",
       "1  47.0      1      0   363272   7.0000   NaN        S   \n",
       "2  62.0      0      0   240276   9.6875   NaN        Q   \n",
       "3  27.0      0      0   315154   8.6625   NaN        S   \n",
       "4  22.0      1      1  3101298  12.2875   NaN        S   \n",
       "\n",
       "                                         Rename  \n",
       "0                              Kelly, Mr. James  \n",
       "1              Wilkes, Mrs. James (Ellen Needs)  \n",
       "2                     Myles, Mr. Thomas Francis  \n",
       "3                              Wirz, Mr. Albert  \n",
       "4  Hirvonen, Mrs. Alexander (Helga E Lindqvist)  "
      ]
     },
     "execution_count": 15,
     "metadata": {},
     "output_type": "execute_result"
    }
   ],
   "source": [
    "rename = fonction(dataset2)\n",
    "dataset2 = pd.read_csv(\"test.csv\")\n",
    "dataset2['Rename']=rename\n",
    "dataset2.head()"
   ]
  },
  {
   "cell_type": "code",
   "execution_count": null,
   "metadata": {},
   "outputs": [],
   "source": []
  },
  {
   "cell_type": "code",
   "execution_count": null,
   "metadata": {},
   "outputs": [],
   "source": [
    "dataset1.head()"
   ]
  },
  {
   "cell_type": "markdown",
   "metadata": {
    "colab_type": "text",
    "id": "xoHaPpmO6mEe"
   },
   "source": [
    "# Data Viz"
   ]
  },
  {
   "cell_type": "code",
   "execution_count": null,
   "metadata": {
    "colab": {
     "base_uri": "https://localhost:8080/",
     "height": 357
    },
    "colab_type": "code",
    "id": "et2yrnSI6DM7",
    "outputId": "85255caa-7c95-4390-b5ee-727eb85bb4ef"
   },
   "outputs": [],
   "source": [
    "fig, ax = plt.subplots(1,2, figsize=(20,5), sharex=True, constrained_layout=False)\n",
    "\n",
    "sns.countplot(x=\"Survived\", data=dataset1, ax=ax[0])\n",
    "plt.xticks(np.arange(2), ('NO', 'YES'))\n",
    "ax[0].set_xlabel(\"Survived\", fontsize=15, color='b')\n",
    "ax[0].set_ylabel(\"Count\", fontsize=15, color='b')\n",
    "ax[0].set_title(\"Survival Rate\", fontsize=15, color='m')\n",
    "\n",
    "sns.countplot(x=\"Survived\", data=dataset1, hue=\"Sex\", ax=ax[1])\n",
    "plt.xticks(np.arange(2), ('NO', 'YES') )\n",
    "ax[1].set_xlabel(\"Survived\", fontsize=15, color='b')\n",
    "ax[1].set_ylabel(\"Count\", fontsize=15, color='b')\n",
    "ax[1].set_title(\"Survival Rate by Sex\", fontsize=15, color='m')\n",
    "\n",
    "\n",
    "for o in range(2):\n",
    "    for p in ax[o].patches:\n",
    "      total = float(len(dataset1))\n",
    "      height = p.get_height()\n",
    "      ax[o].text(p.get_x()+p.get_width()/2.,\n",
    "      height + 3, '{0:.0%}'.format(height/total), ha=\"center\", fontsize=15)\n",
    "plt.show()"
   ]
  },
  {
   "cell_type": "code",
   "execution_count": null,
   "metadata": {
    "colab": {
     "base_uri": "https://localhost:8080/",
     "height": 411
    },
    "colab_type": "code",
    "id": "Yf26tngJm2t9",
    "outputId": "0dde6272-bc52-487e-80fc-4a7434881164"
   },
   "outputs": [],
   "source": [
    "fig,ax = plt.subplots(figsize=(8,6))\n",
    "sns.countplot(x=\"Survived\", data=dataset1, hue=\"Pclass\", ax=ax)\n",
    "plt.title('Survived Rate by Pclass', fontsize=15, color='m')\n",
    "plt.xlabel('Survived', fontsize=15, color='b')\n",
    "plt.ylabel('Count', fontsize=15, color='b')\n",
    "plt.xticks(np.arange(2), ('NO', 'YES'))\n",
    "for k in range(2):\n",
    "    for p in ax.patches:\n",
    "      total = float(len(dataset1))\n",
    "      height = p.get_height()\n",
    "      ax.text(p.get_x()+p.get_width()/2.,\n",
    "      height + 3, '{0:.0%}'.format(height/total), ha=\"center\", fontsize=15)\n",
    "plt.show()"
   ]
  },
  {
   "cell_type": "code",
   "execution_count": null,
   "metadata": {
    "colab": {
     "base_uri": "https://localhost:8080/",
     "height": 411
    },
    "colab_type": "code",
    "id": "LsTSmHb-nbD-",
    "outputId": "27dd6fdf-1df0-4017-db3c-8f1d57616846"
   },
   "outputs": [],
   "source": [
    "fig, ax = plt.subplots(figsize=(8,6))\n",
    "sns.countplot(data=dataset1, x=\"Embarked\", hue='Survived', ax=ax )\n",
    "plt.title('Survived Rate by boarding Places', fontsize=15, color='m')\n",
    "plt.xlabel('Embarked', fontsize=15, color='b')\n",
    "plt.ylabel('Count', fontsize=15, color='b')\n",
    "plt.xticks(np.arange(3), ('Southampton', 'Cherbourg', 'Queenstown'))\n",
    "for k in range(3):\n",
    "    for p in ax.patches:\n",
    "      total = float(len(dataset1))\n",
    "      height = p.get_height()\n",
    "      ax.text(p.get_x()+p.get_width()/2.,\n",
    "      height + 3, '{0:.0%}'.format(height/total), ha=\"center\", fontsize=15)\n",
    "plt.show()\n",
    "plt.show()"
   ]
  },
  {
   "cell_type": "code",
   "execution_count": null,
   "metadata": {
    "colab": {
     "base_uri": "https://localhost:8080/",
     "height": 369
    },
    "colab_type": "code",
    "id": "q7J8MzJznJDa",
    "outputId": "a0f47387-a698-4621-d746-f26f9fd1b223"
   },
   "outputs": [],
   "source": [
    "sns.lmplot(x=\"Fare\", y=\"Survived\", data=dataset1, logistic=True)\n",
    "plt.show()"
   ]
  },
  {
   "cell_type": "code",
   "execution_count": null,
   "metadata": {
    "colab": {
     "base_uri": "https://localhost:8080/",
     "height": 369
    },
    "colab_type": "code",
    "id": "SM_gOxjjnVcn",
    "outputId": "f9d3b68d-baed-4a56-808c-eb46d8edb314"
   },
   "outputs": [],
   "source": [
    "sns.lmplot(x=\"Age\", y=\"Survived\", data=dataset1, logistic=True)\n",
    "plt.show()"
   ]
  },
  {
   "cell_type": "markdown",
   "metadata": {
    "colab_type": "text",
    "id": "0JlenLPcVNLZ"
   },
   "source": [
    "# Features Extraction"
   ]
  },
  {
   "cell_type": "code",
   "execution_count": null,
   "metadata": {
    "colab": {
     "base_uri": "https://localhost:8080/",
     "height": 204
    },
    "colab_type": "code",
    "id": "O3HcrJcnjLUG",
    "outputId": "5c2e3794-6671-433c-eb31-01485ef0244b"
   },
   "outputs": [],
   "source": [
    "dataset1.head()"
   ]
  },
  {
   "cell_type": "code",
   "execution_count": null,
   "metadata": {
    "colab": {
     "base_uri": "https://localhost:8080/",
     "height": 34
    },
    "colab_type": "code",
    "id": "cLcCIJ1UmARR",
    "outputId": "289de065-d98c-4550-e4f5-d59037983c9e"
   },
   "outputs": [],
   "source": [
    "\"sir\" in dataset1['Name']"
   ]
  },
  {
   "cell_type": "code",
   "execution_count": null,
   "metadata": {
    "colab": {
     "base_uri": "https://localhost:8080/",
     "height": 204
    },
    "colab_type": "code",
    "id": "Bc9yKUnSnZxk",
    "outputId": "d762d0fb-696d-4992-db00-0d3ac8890975"
   },
   "outputs": [],
   "source": [
    "# Selection des variables\n",
    "dataset1 = dataset1.loc[:, [\"Survived\", \n",
    "                          \"Pclass\", \n",
    "                          \"Sex\", \n",
    "                          \"Age\", \n",
    "                          \"SibSp\", \n",
    "                          \"Parch\",\n",
    "                          \"Fare\",\n",
    "                          \"Embarked\"]]\n",
    "dataset1.head()"
   ]
  },
  {
   "cell_type": "code",
   "execution_count": null,
   "metadata": {
    "colab": {
     "base_uri": "https://localhost:8080/",
     "height": 204
    },
    "colab_type": "code",
    "id": "fiVrY7zQnqSb",
    "outputId": "cca9ccf4-0adc-420c-f289-a21695a58f1a"
   },
   "outputs": [],
   "source": [
    "dataset2 = dataset2.loc[:, [ \n",
    "                          \"Pclass\", \n",
    "                          \"Sex\", \n",
    "                          \"Age\", \n",
    "                          \"SibSp\", \n",
    "                          \"Parch\",\n",
    "                          \"Fare\",\n",
    "                          \"Embarked\"]]\n",
    "dataset2.head()"
   ]
  },
  {
   "cell_type": "code",
   "execution_count": null,
   "metadata": {
    "colab": {},
    "colab_type": "code",
    "id": "v_prewHEpQy3"
   },
   "outputs": [],
   "source": [
    "# Gestion des NaN \n",
    "# Enlever la colonne ID\n",
    "# dataset = dataset.iloc[:, 1:]\n",
    "# dataset = dataset.drop(['User ID'], axis=1)"
   ]
  },
  {
   "cell_type": "code",
   "execution_count": null,
   "metadata": {
    "colab": {
     "base_uri": "https://localhost:8080/",
     "height": 170
    },
    "colab_type": "code",
    "id": "7otMWtpipeMg",
    "outputId": "271abac7-5f71-429f-a1c7-4e2fa0504a88"
   },
   "outputs": [],
   "source": [
    "# Remplacement des NaN dans la colonne 'Age' par la mediane des âges\n",
    "dataset1['Age'].fillna(value = dataset1['Age'].median(), inplace=True)\n",
    "dataset1.isnull().any()"
   ]
  },
  {
   "cell_type": "code",
   "execution_count": null,
   "metadata": {
    "colab": {
     "base_uri": "https://localhost:8080/",
     "height": 85
    },
    "colab_type": "code",
    "id": "RHYsEnyfpPa6",
    "outputId": "d7455a9e-15ca-423c-a701-244ae618d425"
   },
   "outputs": [],
   "source": [
    "dataset1[\"Embarked\"].value_counts()"
   ]
  },
  {
   "cell_type": "code",
   "execution_count": null,
   "metadata": {
    "colab": {},
    "colab_type": "code",
    "id": "t_pPftNirnJN"
   },
   "outputs": [],
   "source": [
    "# Remplacement des NaN dans la colonne 'Embarked' par 'S'\n",
    "dataset1['Embarked'].fillna(\"S\" , inplace=True)"
   ]
  },
  {
   "cell_type": "code",
   "execution_count": null,
   "metadata": {
    "colab": {
     "base_uri": "https://localhost:8080/",
     "height": 204
    },
    "colab_type": "code",
    "id": "NZGvP-jnq4lN",
    "outputId": "50f7152f-662e-45e6-cb9a-a0f7e89c9edd"
   },
   "outputs": [],
   "source": [
    "# Dummyfication \n",
    "dataset1 = pd.get_dummies(dataset1, drop_first=True)\n",
    "dataset1.head()"
   ]
  },
  {
   "cell_type": "code",
   "execution_count": null,
   "metadata": {
    "colab": {},
    "colab_type": "code",
    "id": "mYNDbmM2QnWC"
   },
   "outputs": [],
   "source": [
    "#Test delete Embarked_Q and Parch columns\n",
    "dataset1.drop([\"Parch\", \"Embarked_Q\"], axis=1, inplace=True)"
   ]
  },
  {
   "cell_type": "code",
   "execution_count": null,
   "metadata": {
    "colab": {
     "base_uri": "https://localhost:8080/",
     "height": 187
    },
    "colab_type": "code",
    "id": "W-tU2Cm2qOO7",
    "outputId": "3b61e8c0-86d0-4a5b-ff71-b9f74f5f7c69"
   },
   "outputs": [],
   "source": [
    "dataset1.isnull().any()"
   ]
  },
  {
   "cell_type": "code",
   "execution_count": null,
   "metadata": {
    "colab": {
     "base_uri": "https://localhost:8080/",
     "height": 153
    },
    "colab_type": "code",
    "id": "ShRggLnwFhxq",
    "outputId": "eb599523-6722-4d64-fa13-a95e8ea0c9e4"
   },
   "outputs": [],
   "source": [
    "#dataset2 -- test-set\n",
    "dataset2.isnull().any()"
   ]
  },
  {
   "cell_type": "code",
   "execution_count": null,
   "metadata": {
    "colab": {
     "base_uri": "https://localhost:8080/",
     "height": 153
    },
    "colab_type": "code",
    "id": "rXWLOcJDFl0W",
    "outputId": "1e21dccd-6b54-4e11-9d9c-797d0ece2422"
   },
   "outputs": [],
   "source": [
    "# Remplacement des NaN dans la colonne 'Age' par la mediane des âges\n",
    "dataset2['Age'].fillna(value=dataset2['Age'].median(), inplace=True)\n",
    "dataset2.isnull().any()"
   ]
  },
  {
   "cell_type": "code",
   "execution_count": null,
   "metadata": {
    "colab": {
     "base_uri": "https://localhost:8080/",
     "height": 153
    },
    "colab_type": "code",
    "id": "_K2W8jGiGVyD",
    "outputId": "732e127c-0a48-4cd3-ac66-1dffc579552c"
   },
   "outputs": [],
   "source": [
    "# Remplacement des NaN dans la colonne 'Fare' par la median des 'Fare'\n",
    "dataset2['Fare'].fillna(value=dataset2['Fare'].median(), inplace=True)\n",
    "dataset2.isnull().any()"
   ]
  },
  {
   "cell_type": "code",
   "execution_count": null,
   "metadata": {
    "colab": {
     "base_uri": "https://localhost:8080/",
     "height": 204
    },
    "colab_type": "code",
    "id": "6-uVeIetGkV3",
    "outputId": "9c1cf88d-c51f-4d78-8772-d956c4be80d2"
   },
   "outputs": [],
   "source": [
    "# Dummyfication\n",
    "dataset2 = pd.get_dummies(data=dataset2, drop_first=True)\n",
    "dataset2.head()"
   ]
  },
  {
   "cell_type": "code",
   "execution_count": null,
   "metadata": {
    "colab": {},
    "colab_type": "code",
    "id": "k4RMkwFsPZ6M"
   },
   "outputs": [],
   "source": [
    "#Test delete Embarked_Q and Parch columns\n",
    "dataset2.drop([\"Parch\", \"Embarked_Q\"], axis=1, inplace=True)"
   ]
  },
  {
   "cell_type": "code",
   "execution_count": null,
   "metadata": {
    "colab": {},
    "colab_type": "code",
    "id": "PU3l5SgetjSY"
   },
   "outputs": [],
   "source": [
    "# Séparation des X & y pour le train-set:\n",
    "X_t = dataset1.iloc[:,1:]\n",
    "y_t = dataset1.iloc[:, 0]"
   ]
  },
  {
   "cell_type": "code",
   "execution_count": null,
   "metadata": {
    "colab": {},
    "colab_type": "code",
    "id": "0H4MbeGHtx2Y"
   },
   "outputs": [],
   "source": [
    "# Feature Scaling, Normalisation:\n",
    "from sklearn.preprocessing import StandardScaler\n",
    "\n",
    "sc_x = StandardScaler()\n",
    "X_t = sc_x.fit_transform(X_t)\n",
    "\n"
   ]
  },
  {
   "cell_type": "code",
   "execution_count": null,
   "metadata": {
    "colab": {},
    "colab_type": "code",
    "id": "OVZwnI9pN2Uy"
   },
   "outputs": [],
   "source": [
    " #Train_test_split:\n",
    " from sklearn.model_selection import train_test_split\n",
    " X_train, X_test, y_train, y_test = train_test_split(X_t, y_t, test_size=0.2, random_state=42)"
   ]
  },
  {
   "cell_type": "code",
   "execution_count": null,
   "metadata": {
    "colab": {
     "base_uri": "https://localhost:8080/",
     "height": 102
    },
    "colab_type": "code",
    "id": "MI0cCKnvt2-1",
    "outputId": "fc01cf92-6b24-49e8-b550-5c5cc9109bc1"
   },
   "outputs": [],
   "source": [
    "# Application du modèle\n",
    "from sklearn.linear_model import LogisticRegression\n",
    "\n",
    "classifier = LogisticRegression()\n",
    "classifier.fit(X_train, y_train)"
   ]
  },
  {
   "cell_type": "code",
   "execution_count": null,
   "metadata": {
    "colab": {},
    "colab_type": "code",
    "id": "4xJC7GJ3qnrr"
   },
   "outputs": [],
   "source": [
    "y_train_pred = classifier.predict(X_train)"
   ]
  },
  {
   "cell_type": "code",
   "execution_count": null,
   "metadata": {
    "colab": {},
    "colab_type": "code",
    "id": "hY07toH4q19b"
   },
   "outputs": [],
   "source": [
    "y_test_pred = classifier.predict(X_test)"
   ]
  },
  {
   "cell_type": "code",
   "execution_count": null,
   "metadata": {
    "colab": {},
    "colab_type": "code",
    "id": "258L40l7q_Vs"
   },
   "outputs": [],
   "source": [
    "from sklearn.metrics import f1_score, classification_report"
   ]
  },
  {
   "cell_type": "code",
   "execution_count": null,
   "metadata": {
    "colab": {
     "base_uri": "https://localhost:8080/",
     "height": 34
    },
    "colab_type": "code",
    "id": "9BXwQYR-rIEH",
    "outputId": "6adf4f9b-9a64-46da-8723-a1529a54c4e5"
   },
   "outputs": [],
   "source": [
    "f1_score(y_test, y_test_pred)"
   ]
  },
  {
   "cell_type": "code",
   "execution_count": null,
   "metadata": {
    "colab": {
     "base_uri": "https://localhost:8080/",
     "height": 34
    },
    "colab_type": "code",
    "id": "QcANziCQP7wh",
    "outputId": "4c6b2d9c-be86-4822-afab-750b6c1a27ea"
   },
   "outputs": [],
   "source": [
    "# Parch en Embarked_Q deleted\n",
    "f1_score(y_test, y_test_pred)"
   ]
  },
  {
   "cell_type": "code",
   "execution_count": null,
   "metadata": {
    "colab": {
     "base_uri": "https://localhost:8080/",
     "height": 170
    },
    "colab_type": "code",
    "id": "81BiGXodrT1M",
    "outputId": "041821ed-20be-4cf6-a8bb-9f1f7ff2cd0b"
   },
   "outputs": [],
   "source": [
    "print(classification_report(y_test, y_test_pred))"
   ]
  },
  {
   "cell_type": "code",
   "execution_count": null,
   "metadata": {
    "colab": {
     "base_uri": "https://localhost:8080/",
     "height": 170
    },
    "colab_type": "code",
    "id": "e60XeFPmQHB2",
    "outputId": "933f0a25-2c7e-499d-fdaf-98fa34a97ce7"
   },
   "outputs": [],
   "source": [
    "# Parch en Embarked_Q deleted\n",
    "print(classification_report(y_test, y_test_pred))"
   ]
  },
  {
   "cell_type": "code",
   "execution_count": null,
   "metadata": {
    "colab": {
     "base_uri": "https://localhost:8080/",
     "height": 51
    },
    "colab_type": "code",
    "id": "un0CMrjBt_UY",
    "outputId": "4c9ff796-bbac-4146-feae-c54329ab63d6"
   },
   "outputs": [],
   "source": [
    "# Evaluation du modèle\n",
    "# NB Nous ne disposons pas des valeurs réelles de y_test, donc le score serait de 100%\n",
    "print(\"Train score : {}\".format(classifier.score(X_train , y_train)*100))\n",
    "print(\"Test score : {}\".format(classifier.score(X_test , y_test)*100))"
   ]
  },
  {
   "cell_type": "code",
   "execution_count": null,
   "metadata": {
    "colab": {},
    "colab_type": "code",
    "id": "lDJr4RT6JPAf"
   },
   "outputs": [],
   "source": [
    "# Prédiction de y_test\n",
    "X_test_kaggle = dataset2\n",
    "y_test_kaggle_pred = classifier.predict(X_test_kaggle)"
   ]
  },
  {
   "cell_type": "code",
   "execution_count": null,
   "metadata": {
    "colab": {
     "base_uri": "https://localhost:8080/",
     "height": 340
    },
    "colab_type": "code",
    "id": "jftPMIkpsovq",
    "outputId": "543c3eea-2a78-4d91-8151-b3b48ab54cce"
   },
   "outputs": [],
   "source": [
    "y_test_kaggle_pred"
   ]
  },
  {
   "cell_type": "code",
   "execution_count": null,
   "metadata": {
    "colab": {
     "base_uri": "https://localhost:8080/",
     "height": 51
    },
    "colab_type": "code",
    "id": "yT17oJW9uF7e",
    "outputId": "d7658096-b0f6-406f-e832-a93f3a1bb413"
   },
   "outputs": [],
   "source": [
    "# Matrice de confusion \n",
    "from sklearn.metrics import confusion_matrix\n",
    "\n",
    "cm = confusion_matrix(y_test, y_test_pred)\n",
    "cm"
   ]
  },
  {
   "cell_type": "code",
   "execution_count": null,
   "metadata": {
    "colab": {
     "base_uri": "https://localhost:8080/",
     "height": 336
    },
    "colab_type": "code",
    "id": "x6ihw8VCOq4N",
    "outputId": "bfd29737-d7f0-4012-c274-05d37ea62cec"
   },
   "outputs": [],
   "source": [
    "# Visualisation\n",
    "fig, ax = plt.subplots(figsize=(10,5))\n",
    "ax = sns.heatmap(cm, annot=True, fmt='.2f' ) \n",
    "bottom, top = ax.get_ylim()\n",
    "#ax.set_ylim(bottom + 0.5, top - 0.5)\n",
    "plt.title(\"Matrice de confusion du train-set\")\n",
    "plt.show()"
   ]
  },
  {
   "cell_type": "code",
   "execution_count": null,
   "metadata": {
    "colab": {
     "base_uri": "https://localhost:8080/",
     "height": 51
    },
    "colab_type": "code",
    "id": "o5FWMcmuO0zc",
    "outputId": "67f8ba1d-c5e5-42f9-ad2f-97a81a2acab7"
   },
   "outputs": [],
   "source": [
    "classifier.coef_.squeeze()"
   ]
  },
  {
   "cell_type": "markdown",
   "metadata": {
    "colab_type": "text",
    "id": "J8CE1HaNOffl"
   },
   "source": [
    "Features importance"
   ]
  },
  {
   "cell_type": "code",
   "execution_count": null,
   "metadata": {
    "colab": {
     "base_uri": "https://localhost:8080/",
     "height": 297
    },
    "colab_type": "code",
    "id": "ovBkQdrMNVhZ",
    "outputId": "58b55b40-d0fb-43f6-930a-cf1145c81852"
   },
   "outputs": [],
   "source": [
    "coef = pd.DataFrame((abs(classifier.coef_.squeeze())).T, index=X_test_kaggle.columns, columns=['abs_coef'])\n",
    "coef"
   ]
  },
  {
   "cell_type": "code",
   "execution_count": null,
   "metadata": {
    "colab": {
     "base_uri": "https://localhost:8080/",
     "height": 170
    },
    "colab_type": "code",
    "id": "ttWYGXhAN6EF",
    "outputId": "1c29b14d-526a-46cd-d0bb-5813ea7ae4fb"
   },
   "outputs": [],
   "source": [
    "coef['abs_coef'].sort_values(ascending=False)"
   ]
  },
  {
   "cell_type": "code",
   "execution_count": null,
   "metadata": {
    "colab": {
     "base_uri": "https://localhost:8080/",
     "height": 68
    },
    "colab_type": "code",
    "id": "HzHemZ3HUOcN",
    "outputId": "e2135fde-24fc-424b-f996-8f459ffdb19f"
   },
   "outputs": [],
   "source": [
    "X_test_kaggle.columns"
   ]
  },
  {
   "cell_type": "code",
   "execution_count": null,
   "metadata": {
    "colab": {
     "base_uri": "https://localhost:8080/",
     "height": 297
    },
    "colab_type": "code",
    "id": "XrCR2aDyO6lA",
    "outputId": "32dec5d0-fa65-4b0a-9973-d10911d3bfcf",
    "scrolled": true
   },
   "outputs": [],
   "source": [
    "# Test-set Feature importance \n",
    "imp = pd.DataFrame({\"Features\": [\"Pclass\", \"Age\", \"SibSp\", \"Parch\", \"Fare\", \"Sex_male\", \"Embarked_Q\", \"Embarked_S\"],\n",
    "              \"Values\": abs(classifier.coef_.squeeze())})\n",
    "imp.sort_values( by =\"Values\", ascending=False)"
   ]
  },
  {
   "cell_type": "code",
   "execution_count": null,
   "metadata": {
    "colab": {},
    "colab_type": "code",
    "id": "ao3M2v5VO6QS"
   },
   "outputs": [],
   "source": []
  },
  {
   "cell_type": "markdown",
   "metadata": {
    "colab_type": "text",
    "id": "-zG9Aza-jLV2"
   },
   "source": [
    "# Les femmes et les enfants d'abord, sans oublié les plus aisés!\n",
    "\n",
    "En effet, nous pouvons constater avec stupéfaction que le top 3 des variables qui o ayant le plus d'impact dans la survie des passagers du titanic est : le sexe(Sex_male), la classe (Pclasse) ainsi que l'Age.  "
   ]
  },
  {
   "cell_type": "code",
   "execution_count": null,
   "metadata": {
    "colab": {},
    "colab_type": "code",
    "id": "9n7vORsijLV3"
   },
   "outputs": [],
   "source": [
    "# Matrice de corrélation du train-set\n",
    "corr = dataset1.corr()\n",
    "f, ax = plt.subplots(figsize=(15, 8))\n",
    "ax = sns.heatmap(corr, annot=True) \n",
    "bottom, top = ax.get_ylim()\n",
    "ax.set_ylim(bottom + 0.5, top - 0.5)\n",
    "plt.title(\"Matrice de corrélation du train-set\")\n",
    "plt.show()"
   ]
  },
  {
   "cell_type": "code",
   "execution_count": null,
   "metadata": {
    "colab": {},
    "colab_type": "code",
    "id": "gJ90r2xPjLV7"
   },
   "outputs": [],
   "source": [
    "Survied = pd.DataFrame(data = y_test, columns = [\"Survied\"])\n",
    "Survied.to_csv(\"y_test.csv\")\n",
    "Survied.head()"
   ]
  },
  {
   "cell_type": "code",
   "execution_count": null,
   "metadata": {
    "colab": {},
    "colab_type": "code",
    "id": "q-MYpvdZjLV-"
   },
   "outputs": [],
   "source": [
    "# Reconstitution du test_set en incluant la colonne Survived\n",
    "test_set = pd.concat((Survied, dataset2), axis=1)\n",
    "test_set.head()"
   ]
  },
  {
   "cell_type": "code",
   "execution_count": null,
   "metadata": {
    "colab": {},
    "colab_type": "code",
    "id": "lnFVmzwYjLWC"
   },
   "outputs": [],
   "source": [
    "S= test_set.iloc[:, 0]\n",
    "G= test_set.iloc[:, 6]"
   ]
  },
  {
   "cell_type": "code",
   "execution_count": null,
   "metadata": {
    "colab": {},
    "colab_type": "code",
    "id": "X_-xgq3JjLWF"
   },
   "outputs": [],
   "source": [
    "gender_submission_test = pd.concat((S, G), axis=1)\n",
    "gender_submission_test.head()"
   ]
  },
  {
   "cell_type": "code",
   "execution_count": null,
   "metadata": {
    "colab": {},
    "colab_type": "code",
    "id": "WHI8z8qEjLWJ"
   },
   "outputs": [],
   "source": [
    "### Exportation de test_set de jupyter sous format csv \n",
    "test_set.to_csv(\"gender_submission_test.csv\")"
   ]
  },
  {
   "cell_type": "code",
   "execution_count": null,
   "metadata": {
    "colab": {},
    "colab_type": "code",
    "id": "yzC6_1BZTN2i"
   },
   "outputs": [],
   "source": [
    "# Amélioration de la prédiction\n",
    "# Création d'un modèle d'arbres de decisions\n",
    "from sklearn.tree import DecisionTreeClassifier\n",
    "\n",
    "classifier = DecisionTreeClassifier()\n",
    "classifier.fit(X_train, y_train)"
   ]
  },
  {
   "cell_type": "code",
   "execution_count": null,
   "metadata": {
    "colab": {},
    "colab_type": "code",
    "id": "oIhJ_USufjOW"
   },
   "outputs": [],
   "source": [
    "# Prédiction de y_test avec le modèle d'arbres de decisions\n",
    "X_test = dataset2\n",
    "y_test = classifier.predict(X_test)"
   ]
  },
  {
   "cell_type": "code",
   "execution_count": null,
   "metadata": {
    "colab": {},
    "colab_type": "code",
    "id": "Sl6jKv7qSYda"
   },
   "outputs": [],
   "source": [
    "# Evaluation du modèle en pourcentage\n",
    "print(\"Train Score : {}\".format(classifier.score(X_train, y_train)*100))\n",
    "print('Test Score : {}'.format(classifier.score(X_test, y_test)*100))"
   ]
  },
  {
   "cell_type": "markdown",
   "metadata": {
    "colab_type": "text",
    "id": "bC_kc_m4jLWb"
   },
   "source": [
    "Nous constatons une nette amélioration de la prédiction du modèle."
   ]
  },
  {
   "cell_type": "code",
   "execution_count": null,
   "metadata": {
    "colab": {},
    "colab_type": "code",
    "id": "ZsCd2Y7oSwQz"
   },
   "outputs": [],
   "source": [
    "# Tentons d'appliquer un autre modèle : le random forest \n",
    "from sklearn.ensemble import RandomForestClassifier\n",
    "\n",
    "classifier = RandomForestClassifier()\n",
    "classifier.fit(X_train, y_train)"
   ]
  },
  {
   "cell_type": "code",
   "execution_count": null,
   "metadata": {
    "colab": {},
    "colab_type": "code",
    "id": "Yoj6w2muf9pS"
   },
   "outputs": [],
   "source": [
    "# Prédiction de y_test avec le random forest\n",
    "X_test = dataset2\n",
    "y_test = classifier.predict(X_test)"
   ]
  },
  {
   "cell_type": "code",
   "execution_count": null,
   "metadata": {
    "colab": {},
    "colab_type": "code",
    "id": "qaiZBEWES2h1"
   },
   "outputs": [],
   "source": [
    "# Evaluation du modèle en pourcentage\n",
    "print(\"Train Score : {}\".format(classifier.score(X_train, y_train)*100))\n",
    "print('Test Score : {}'.format(classifier.score(X_test, y_test)*100))"
   ]
  },
  {
   "cell_type": "markdown",
   "metadata": {
    "colab_type": "text",
    "id": "LhFs4sYbjLWx"
   },
   "source": [
    "Nous obtenons le même score qu'avec l'arbre de décision"
   ]
  },
  {
   "cell_type": "code",
   "execution_count": null,
   "metadata": {
    "colab": {},
    "colab_type": "code",
    "id": "0ekOe-DzTE_5"
   },
   "outputs": [],
   "source": [
    "# Tentons de mettre plus d'arbres dans le random forest\n",
    "classifier = RandomForestClassifier(n_estimators = 300, max_depth=20)\n",
    "classifier.fit(X_train, y_train)"
   ]
  },
  {
   "cell_type": "code",
   "execution_count": null,
   "metadata": {
    "colab": {},
    "colab_type": "code",
    "id": "bgBtecbTgqbV"
   },
   "outputs": [],
   "source": [
    "# Prediction of y_test\n",
    "X_test = dataset2\n",
    "y_test = classifier.predict(X_test)"
   ]
  },
  {
   "cell_type": "code",
   "execution_count": null,
   "metadata": {
    "colab": {},
    "colab_type": "code",
    "id": "pAhEtSd3TJbu"
   },
   "outputs": [],
   "source": [
    "# Evaluation du modèle en pourentage\n",
    "print(\"Train Score : {}\".format(classifier.score(X_train, y_train)*100))\n",
    "print('Test Score : {}'.format(classifier.score(X_test, y_test)*100))"
   ]
  },
  {
   "cell_type": "markdown",
   "metadata": {
    "colab_type": "text",
    "id": "3_mFeyj9jLXH"
   },
   "source": [
    "Nous obtenons les mêmes scores qu'avec les deux modèles précédents, nous pouvons alors supposer que le modèle a atteint son maximum de précision.\n",
    "Il faut garder à l'esprit que nous ne pouvons pas atteindre les 100% dans une prédiction, étant que le modèle ne sera jamais parfait.\n",
    "Les 100% du Test s'explique par le fait qu'il a été comparé à lui-même. Le Test doit être soumis à Kaggle afin d'évaluer sa précision."
   ]
  }
 ],
 "metadata": {
  "accelerator": "GPU",
  "colab": {
   "collapsed_sections": [],
   "name": "Copie de Titanic_ML_Final.ipynb",
   "provenance": []
  },
  "kernelspec": {
   "display_name": "Python 3",
   "language": "python",
   "name": "python3"
  },
  "language_info": {
   "codemirror_mode": {
    "name": "ipython",
    "version": 3
   },
   "file_extension": ".py",
   "mimetype": "text/x-python",
   "name": "python",
   "nbconvert_exporter": "python",
   "pygments_lexer": "ipython3",
   "version": "3.6.10"
  }
 },
 "nbformat": 4,
 "nbformat_minor": 1
}
