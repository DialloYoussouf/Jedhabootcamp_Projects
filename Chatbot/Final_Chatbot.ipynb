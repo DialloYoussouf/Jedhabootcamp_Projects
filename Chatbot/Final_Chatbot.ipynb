{
 "cells": [
  {
   "cell_type": "code",
   "execution_count": 6,
   "metadata": {
    "colab": {
     "base_uri": "https://localhost:8080/",
     "height": 238
    },
    "colab_type": "code",
    "id": "V8hcLZioMnHD",
    "outputId": "27950fc0-080d-40e7-97d8-a1805f39d3b8"
   },
   "outputs": [
    {
     "name": "stdout",
     "output_type": "stream",
     "text": [
      "Uninstalling tensorflow-2.2.0:\n",
      "  Would remove:\n",
      "    /usr/local/bin/estimator_ckpt_converter\n",
      "    /usr/local/bin/saved_model_cli\n",
      "    /usr/local/bin/tensorboard\n",
      "    /usr/local/bin/tf_upgrade_v2\n",
      "    /usr/local/bin/tflite_convert\n",
      "    /usr/local/bin/toco\n",
      "    /usr/local/bin/toco_from_protos\n",
      "    /usr/local/lib/python3.6/dist-packages/tensorflow-2.2.0.dist-info/*\n",
      "    /usr/local/lib/python3.6/dist-packages/tensorflow/*\n",
      "Proceed (y/n)? y\n",
      "  Successfully uninstalled tensorflow-2.2.0\n"
     ]
    }
   ],
   "source": [
    "#!pip uninstall tensorflow"
   ]
  },
  {
   "cell_type": "code",
   "execution_count": 7,
   "metadata": {
    "colab": {
     "base_uri": "https://localhost:8080/",
     "height": 649
    },
    "colab_type": "code",
    "id": "GTh5yjFKMnDM",
    "outputId": "b7cdf5b2-bce6-4ab0-c27a-1667bbeed20b"
   },
   "outputs": [
    {
     "name": "stdout",
     "output_type": "stream",
     "text": [
      "Collecting tensorflow==1.13.2\n",
      "\u001b[?25l  Downloading https://files.pythonhosted.org/packages/db/d3/651f95288a6cd9094f7411cdd90ef12a3d01a268009e0e3cd66b5c8d65bd/tensorflow-1.13.2-cp36-cp36m-manylinux1_x86_64.whl (92.6MB)\n",
      "\u001b[K     |████████████████████████████████| 92.6MB 1.2MB/s \n",
      "\u001b[?25hRequirement already satisfied: absl-py>=0.1.6 in /usr/local/lib/python3.6/dist-packages (from tensorflow==1.13.2) (0.9.0)\n",
      "Requirement already satisfied: keras-preprocessing>=1.0.5 in /usr/local/lib/python3.6/dist-packages (from tensorflow==1.13.2) (1.1.2)\n",
      "Collecting tensorflow-estimator<1.14.0rc0,>=1.13.0\n",
      "\u001b[?25l  Downloading https://files.pythonhosted.org/packages/bb/48/13f49fc3fa0fdf916aa1419013bb8f2ad09674c275b4046d5ee669a46873/tensorflow_estimator-1.13.0-py2.py3-none-any.whl (367kB)\n",
      "\u001b[K     |████████████████████████████████| 368kB 24.7MB/s \n",
      "\u001b[?25hRequirement already satisfied: gast>=0.2.0 in /usr/local/lib/python3.6/dist-packages (from tensorflow==1.13.2) (0.3.3)\n",
      "Requirement already satisfied: wheel>=0.26 in /usr/local/lib/python3.6/dist-packages (from tensorflow==1.13.2) (0.34.2)\n",
      "Collecting tensorboard<1.14.0,>=1.13.0\n",
      "\u001b[?25l  Downloading https://files.pythonhosted.org/packages/0f/39/bdd75b08a6fba41f098b6cb091b9e8c7a80e1b4d679a581a0ccd17b10373/tensorboard-1.13.1-py3-none-any.whl (3.2MB)\n",
      "\u001b[K     |████████████████████████████████| 3.2MB 43.9MB/s \n",
      "\u001b[?25hRequirement already satisfied: six>=1.10.0 in /usr/local/lib/python3.6/dist-packages (from tensorflow==1.13.2) (1.12.0)\n",
      "Requirement already satisfied: keras-applications>=1.0.6 in /usr/local/lib/python3.6/dist-packages (from tensorflow==1.13.2) (1.0.8)\n",
      "Requirement already satisfied: protobuf>=3.6.1 in /usr/local/lib/python3.6/dist-packages (from tensorflow==1.13.2) (3.10.0)\n",
      "Requirement already satisfied: grpcio>=1.8.6 in /usr/local/lib/python3.6/dist-packages (from tensorflow==1.13.2) (1.29.0)\n",
      "Requirement already satisfied: numpy<2.0,>=1.16.0 in /usr/local/lib/python3.6/dist-packages (from tensorflow==1.13.2) (1.18.4)\n",
      "Requirement already satisfied: astor>=0.6.0 in /usr/local/lib/python3.6/dist-packages (from tensorflow==1.13.2) (0.8.1)\n",
      "Requirement already satisfied: termcolor>=1.1.0 in /usr/local/lib/python3.6/dist-packages (from tensorflow==1.13.2) (1.1.0)\n",
      "Collecting mock>=2.0.0\n",
      "  Downloading https://files.pythonhosted.org/packages/cd/74/d72daf8dff5b6566db857cfd088907bb0355f5dd2914c4b3ef065c790735/mock-4.0.2-py3-none-any.whl\n",
      "Requirement already satisfied: markdown>=2.6.8 in /usr/local/lib/python3.6/dist-packages (from tensorboard<1.14.0,>=1.13.0->tensorflow==1.13.2) (3.2.2)\n",
      "Requirement already satisfied: werkzeug>=0.11.15 in /usr/local/lib/python3.6/dist-packages (from tensorboard<1.14.0,>=1.13.0->tensorflow==1.13.2) (1.0.1)\n",
      "Requirement already satisfied: h5py in /usr/local/lib/python3.6/dist-packages (from keras-applications>=1.0.6->tensorflow==1.13.2) (2.10.0)\n",
      "Requirement already satisfied: setuptools in /usr/local/lib/python3.6/dist-packages (from protobuf>=3.6.1->tensorflow==1.13.2) (47.1.1)\n",
      "Requirement already satisfied: importlib-metadata; python_version < \"3.8\" in /usr/local/lib/python3.6/dist-packages (from markdown>=2.6.8->tensorboard<1.14.0,>=1.13.0->tensorflow==1.13.2) (1.6.0)\n",
      "Requirement already satisfied: zipp>=0.5 in /usr/local/lib/python3.6/dist-packages (from importlib-metadata; python_version < \"3.8\"->markdown>=2.6.8->tensorboard<1.14.0,>=1.13.0->tensorflow==1.13.2) (3.1.0)\n",
      "Installing collected packages: mock, tensorflow-estimator, tensorboard, tensorflow\n",
      "  Found existing installation: tensorflow-estimator 2.2.0\n",
      "    Uninstalling tensorflow-estimator-2.2.0:\n",
      "      Successfully uninstalled tensorflow-estimator-2.2.0\n",
      "  Found existing installation: tensorboard 2.2.2\n",
      "    Uninstalling tensorboard-2.2.2:\n",
      "      Successfully uninstalled tensorboard-2.2.2\n",
      "Successfully installed mock-4.0.2 tensorboard-1.13.1 tensorflow-1.13.2 tensorflow-estimator-1.13.0\n"
     ]
    }
   ],
   "source": [
    "#!pip install tensorflow==1.13.2"
   ]
  },
  {
   "cell_type": "code",
   "execution_count": 8,
   "metadata": {
    "colab": {
     "base_uri": "https://localhost:8080/",
     "height": 51
    },
    "colab_type": "code",
    "id": "pbINpEXtMnBN",
    "outputId": "e3219c60-021d-42d7-f39d-a2626a514b29"
   },
   "outputs": [
    {
     "name": "stdout",
     "output_type": "stream",
     "text": [
      "Requirement already satisfied: nltk in /usr/local/lib/python3.6/dist-packages (3.2.5)\n",
      "Requirement already satisfied: six in /usr/local/lib/python3.6/dist-packages (from nltk) (1.12.0)\n"
     ]
    }
   ],
   "source": [
    "#!pip install nltk"
   ]
  },
  {
   "cell_type": "code",
   "execution_count": 9,
   "metadata": {
    "colab": {
     "base_uri": "https://localhost:8080/",
     "height": 238
    },
    "colab_type": "code",
    "id": "oT5G2bFlNBvp",
    "outputId": "d453f6da-9a95-4aa9-e208-6d06b9205839"
   },
   "outputs": [
    {
     "name": "stdout",
     "output_type": "stream",
     "text": [
      "Collecting tflearn\n",
      "\u001b[?25l  Downloading https://files.pythonhosted.org/packages/16/ec/e9ce1b52e71f6dff3bd944f020cef7140779e783ab27512ea7c7275ddee5/tflearn-0.3.2.tar.gz (98kB)\n",
      "\r",
      "\u001b[K     |███▎                            | 10kB 16.2MB/s eta 0:00:01\r",
      "\u001b[K     |██████▋                         | 20kB 2.2MB/s eta 0:00:01\r",
      "\u001b[K     |██████████                      | 30kB 2.8MB/s eta 0:00:01\r",
      "\u001b[K     |█████████████▎                  | 40kB 3.0MB/s eta 0:00:01\r",
      "\u001b[K     |████████████████▋               | 51kB 2.4MB/s eta 0:00:01\r",
      "\u001b[K     |████████████████████            | 61kB 2.8MB/s eta 0:00:01\r",
      "\u001b[K     |███████████████████████▎        | 71kB 3.0MB/s eta 0:00:01\r",
      "\u001b[K     |██████████████████████████▋     | 81kB 3.3MB/s eta 0:00:01\r",
      "\u001b[K     |██████████████████████████████  | 92kB 3.5MB/s eta 0:00:01\r",
      "\u001b[K     |████████████████████████████████| 102kB 2.3MB/s \n",
      "\u001b[?25hRequirement already satisfied: numpy in /usr/local/lib/python3.6/dist-packages (from tflearn) (1.18.4)\n",
      "Requirement already satisfied: six in /usr/local/lib/python3.6/dist-packages (from tflearn) (1.12.0)\n",
      "Requirement already satisfied: Pillow in /usr/local/lib/python3.6/dist-packages (from tflearn) (7.0.0)\n",
      "Building wheels for collected packages: tflearn\n",
      "  Building wheel for tflearn (setup.py) ... \u001b[?25l\u001b[?25hdone\n",
      "  Created wheel for tflearn: filename=tflearn-0.3.2-cp36-none-any.whl size=128208 sha256=cd58bd20e1300da3672e1bfac15c15bd177946c00420b5ab7f15f140cb2bbb61\n",
      "  Stored in directory: /root/.cache/pip/wheels/d0/f6/69/0ef3ee395aac2e5d15d89efd29a9a216f3c27767b43b72c006\n",
      "Successfully built tflearn\n",
      "Installing collected packages: tflearn\n",
      "Successfully installed tflearn-0.3.2\n"
     ]
    }
   ],
   "source": [
    "#!pip install tflearn"
   ]
  },
  {
   "cell_type": "code",
   "execution_count": 1,
   "metadata": {
    "colab": {
     "base_uri": "https://localhost:8080/",
     "height": 326
    },
    "colab_type": "code",
    "id": "nMcYmPQF3krn",
    "outputId": "ad1f862f-5ba0-436e-ef92-10c1bfdd4520"
   },
   "outputs": [
    {
     "name": "stderr",
     "output_type": "stream",
     "text": [
      "[nltk_data] Downloading package punkt to\n",
      "[nltk_data]     C:\\Users\\Youssouf\\AppData\\Roaming\\nltk_data...\n",
      "[nltk_data]   Package punkt is already up-to-date!\n"
     ]
    },
    {
     "name": "stdout",
     "output_type": "stream",
     "text": [
      "curses is not supported on this machine (please install/reinstall curses for an optimal experience)\n",
      "WARNING:tensorflow:From C:\\Users\\Youssouf\\Anaconda3\\envs\\chatbot\\lib\\site-packages\\tensorflow\\python\\framework\\op_def_library.py:263: colocate_with (from tensorflow.python.framework.ops) is deprecated and will be removed in a future version.\n",
      "Instructions for updating:\n",
      "Colocations handled automatically by placer.\n"
     ]
    }
   ],
   "source": [
    "# Libraries needed for NLP\n",
    "import nltk\n",
    "nltk.download('punkt')\n",
    "from nltk.stem.lancaster import LancasterStemmer\n",
    "from nltk.stem import WordNetLemmatizer\n",
    "stemmer = LancasterStemmer()\n",
    "wln = WordNetLemmatizer()\n",
    "\n",
    "# Libraries needed for Tensorflow processing\n",
    "import tensorflow as tf\n",
    "import numpy as np\n",
    "import tflearn\n",
    "import random\n",
    "import json"
   ]
  },
  {
   "cell_type": "code",
   "execution_count": 2,
   "metadata": {
    "colab": {
     "base_uri": "https://localhost:8080/",
     "height": 111,
     "resources": {
      "http://localhost:8080/nbextensions/google.colab/files.js": {
       "data": "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",
       "headers": [
        [
         "content-type",
         "application/javascript"
        ]
       ],
       "ok": true,
       "status": 200,
       "status_text": ""
      }
     }
    },
    "colab_type": "code",
    "id": "zitZRhjq9Vqu",
    "outputId": "0d610609-0f91-4158-cc80-b894f108510b"
   },
   "outputs": [],
   "source": [
    "#from google.colab import files\n",
    "#files.upload()"
   ]
  },
  {
   "cell_type": "code",
   "execution_count": 3,
   "metadata": {
    "colab": {},
    "colab_type": "code",
    "id": "sBEuh9TEGBo7"
   },
   "outputs": [],
   "source": [
    "# import our chat-bot intents file\n",
    "with open('intents.json') as json_data:\n",
    "    intents = json.load(json_data, strict=False)"
   ]
  },
  {
   "cell_type": "code",
   "execution_count": 4,
   "metadata": {
    "colab": {
     "base_uri": "https://localhost:8080/",
     "height": 1000
    },
    "colab_type": "code",
    "id": "mpFsVWPKGKbI",
    "outputId": "d8544d4a-dd8c-4a1d-d01f-04cfe63260b6"
   },
   "outputs": [
    {
     "data": {
      "text/plain": [
       "{'intents': [{'tag': 'salutation',\n",
       "   'patterns': ['Salut', 'Comment vas-tu', 'Ã§a va ?', 'Bonjour', 'hello'],\n",
       "   'responses': ['Hello',\n",
       "    'Je vais bien, merci',\n",
       "    'Ã§a va oklm',\n",
       "    'Bonjour',\n",
       "    'Hi'],\n",
       "   'context_set': ''},\n",
       "  {'tag': 'au revoir',\n",
       "   'patterns': ['Bye', 'Au revoir', 'Ã\\xa0 plus tard', 'ciao'],\n",
       "   'responses': ['Au plaisir, merci', 'Bonne journÃ©e', 'Bye! Reviens vite.']},\n",
       "  {'tag': 'merci',\n",
       "   'patterns': ['Merci', 'Je te remercie', 'Merci beaucoup'],\n",
       "   'responses': [\"Ravi de t'avoir aidÃ©\", 'De rien!', 'Avec plaisir']},\n",
       "  {'tag': 'coronavirus',\n",
       "   'patterns': ['Quâ€™est-ce quâ€™un coronavirus ?',\n",
       "    \"C'est quoi le coronavirus ?\",\n",
       "    \"C'est quoi un coronavirus ?\",\n",
       "    \"C'est quoi le corona ?\",\n",
       "    \"Qu'est ce qu'un corona ?\"],\n",
       "   'responses': ['Les coronavirus forment une vaste famille de virus qui peuvent Ãªtre pathogÃ¨nes chez lâ€™animal ou chez lâ€™homme.\\n          On sait que, chez lâ€™Ãªtre humain, plusieurs coronavirus peuvent entraÃ®ner des infections respiratoires dont les manifestations\\n          vont du simple rhume Ã\\xa0 des maladies plus graves comme le syndrome respiratoire du Moyen-Orient (MERS) et le syndrome respiratoire\\n          aigu sÃ©vÃ¨re (SRAS). Le dernier coronavirus qui a Ã©tÃ© dÃ©couvert est responsable de la maladieÃ\\xa0 coronavirus 2019 (COVID-19).']},\n",
       "  {'tag': 'COVID-19',\n",
       "   'patterns': ['Quâ€™est-ce que la COVID-19 ?',\n",
       "    'Quâ€™est-ce que la COVID 19 ?',\n",
       "    'Quâ€™est-ce que une COVID-19 ?',\n",
       "    \"C'est quoi une COVID-19 ?\",\n",
       "    \"C'est quoi la COVID-19 ?\"],\n",
       "   'responses': ['La COVID-19 est la maladie infectieuse causÃ©e par le dernier coronavirus qui a Ã©tÃ© dÃ©couvert.\\n          Ce nouveau virus et cette maladie Ã©taient inconnus avant lâ€™apparition de la flambÃ©e Ã\\xa0 Wuhan (Chine) en dÃ©cembre 2019.\\n          La COVID-19 est maintenant pandÃ©mique et touche de nombreux pays dans le monde.']},\n",
       "  {'tag': 'symptÃ´mes',\n",
       "   'patterns': ['Quels sont les symptÃ´mes de la COVID-19 ?',\n",
       "    'Quels sont les symptÃ´mes de la COVID 19 ?',\n",
       "    \"C'est quoi les symptÃ´mes da la COVID-19 ?\",\n",
       "    'La COVID-19 a quoi comme symptÃ´mes ?',\n",
       "    'La COVID 19 a quoi comme symptÃ´mes ?'],\n",
       "   'responses': ['Les symptÃ´mes les plus frÃ©quents de la â€ŽCOVID-19 sont la fiÃ¨vre, la toux sÃ¨che et la â€Žfatigue.\\n          Dâ€™autres symptÃ´mes moins courants â€Žpeuvent Ã©galement apparaÃ®tre chez â€Žcertaines personnes, comme des â€Žcourbatures et des douleurs,\\n          une congestion â€Žnasale, des maux de tÃªte, une conjonctivite, â€Ždes maux de gorge, une diarrhÃ©e, une perte â€Ždu goÃ»t ou de lâ€™odorat,\\n          une Ã©ruption â€ŽcutanÃ©e ou une dÃ©coloration des doigts de la â€Žmain ou du pied. Ces symptÃ´mes sont â€ŽgÃ©nÃ©ralement bÃ©nins\\n          et apparaissent de â€ŽmaniÃ¨re progressive. Certaines personnes, â€Žbien quâ€™infectÃ©es, ne prÃ©sentent que des â€ŽsymptÃ´mes trÃ¨s discrets.â€Ž\\n          La plupart des patients (environ 80 %) â€ŽguÃ©rissent sans quâ€™il soit nÃ©cessaire de les â€Žhospitaliser.\\n          Environ une personne sur cinq â€Žcontractant la maladie prÃ©sente des â€ŽsymptÃ´mes graves, notamment des â€ŽdifficultÃ©s Ã\\xa0 respirer.\\n          Les personnes plus â€ŽÃ¢gÃ©es et celles qui ont dâ€™autres problÃ¨mes â€Žde santÃ© (hypertension artÃ©rielle, â€ŽproblÃ¨mes cardiaques ou pulmonaires, â€Ž\\n          diabÃ¨te ou cancer) ont plus de risque de â€ŽprÃ©senter des symptÃ´mes graves. Toutefois, â€Žnâ€™importe qui peut contracter la COVID-19\\n          et â€Žtomber gravement malade. Les personnes â€Žde tout Ã¢ge qui prÃ©sentent de la fiÃ¨vre et/ou â€Žune toux associÃ©e Ã\\xa0 des difficultÃ©s\\n          Ã\\xa0 â€Žrespirer/un essoufflement, une â€Ždouleur/une pression au niveau de la â€Žpoitrine, ou bien une perte de la parole ou â€Ždes difficultÃ©s\\n          Ã\\xa0 se dÃ©placer doivent â€Žconsulter un mÃ©decin immÃ©diatement. Il est â€ŽrecommandÃ©, dans la mesure du possible,\\n          â€Ždâ€™appeler le prestataire de soins ou â€Žlâ€™Ã©tablissement de santÃ© au prÃ©alable, de â€Žsorte que le patient soit dirigÃ© vers le service â€ŽadaptÃ©.â€Ž']},\n",
       "  {'tag': 'consultation',\n",
       "   'patterns': ['Que faire en cas de symptÃ´mes de la COVID-19',\n",
       "    'Que faire en cas de symptÃ´mes de la COVID 19',\n",
       "    'Je pense avoir des symptÃ´mes de la COVID 19, que dois-je faire ?',\n",
       "    'Quand dois-je consulter un mÃ©decin ?'],\n",
       "   'responses': ['En cas de symptÃ´mes discrets, par exemple une toux ou une fiÃ¨vre lÃ©gÃ¨re,\\n          il nâ€™est gÃ©nÃ©ralement pas nÃ©cessaire de consulter un mÃ©decin. Restez chez vous, isolez-vous et surveillez lâ€™Ã©volution des symptÃ´mes.\\n          Suivez les instructions nationales en matiÃ¨re dâ€™auto-isolement. Cependant, si vous habitez dans une rÃ©gion oÃ¹ le paludisme\\n          ou la dengue sÃ©vit, il faut absolument consulter un mÃ©decin en cas de fiÃ¨vre. Quand vous allez dans un Ã©tablissement de santÃ©,\\n          portez un masque, restez Ã\\xa0 une distance dâ€™au moins un mÃ¨tre des autres personnes et ne touchez pas les surfaces avec les mains.\\n          Aidez les enfants malades Ã\\xa0 suivre Ã©galement ces conseils.']},\n",
       "  {'tag': 'respiration',\n",
       "   'patterns': [\"J'ai des difficultÃ©s Ã\\xa0 respirer\",\n",
       "    \"J'ai des douleurs dans la poitrine\",\n",
       "    \"J'ai des oppressions dans la poitrine\"],\n",
       "   'responses': ['En cas de difficultÃ©s Ã\\xa0 respirer ou de douleur/dâ€™oppression dans la poitrine, consultez immÃ©diatement un mÃ©decin.\\n          Si possible, appelez dâ€™abord votre mÃ©decin afin quâ€™il puisse vous orienter vers lâ€™Ã©tablissement de santÃ© le plus adaptÃ©.']},\n",
       "  {'tag': 'propagation',\n",
       "   'patterns': ['Comment la COVID-19 se propage-t-elle ?',\n",
       "    'Comment la COVID 19 se propage-t-elle ?',\n",
       "    'Comment se propage la COVID-19 ?',\n",
       "    'Comment se propage la COVID 19 ?'],\n",
       "   'responses': ['La COVID-19 est transmise par des personnes porteuses du virus. La maladie se transmet principalement\\n          dâ€™une personne Ã\\xa0 lâ€™autre par le biais de gouttelettes respiratoires expulsÃ©es par le nez ou par la bouche lorsquâ€™une\\n          personne malade tousse, Ã©ternue ou parle. Ces gouttelettes sont relativement lourdes, ne parcourent pas de grandes distances\\n          et tombent rapidement au sol. Il est possible de contracter la COVID-19 en cas dâ€™inhalation de ces gouttelettes.\\n          Câ€™est pourquoi il est important de se tenir Ã\\xa0 un mÃ¨tre au moins des autres personnes. Ces gouttelettes peuvent se retrouver\\n          sur des objets ou des surfaces autour de la personne malade (tables, poignÃ©es de porte et rampes, par exemple).\\n          On peut alors contracter la COVID-19 si on touche ces objets ou ces surfaces et si on se touche ensuite les yeux, le nez ou la bouche.\\n          Il faut donc se laver rÃ©guliÃ¨rement les mains Ã\\xa0 lâ€™eau et au savon ou avec une solution hydroalcoolique.\\n          Lâ€™OMS examine les travaux de recherche en cours sur la maniÃ¨re dont la COVID-19 se propage et elle continuera Ã\\xa0 communiquer\\n          les rÃ©sultats actualisÃ©s.']},\n",
       "  {'tag': 'contraction',\n",
       "   'patterns': [\"Peut-on contracter la COVID-19 au contact d'une personne qui ne prÃ©sente aucun symptÃ´me ?\",\n",
       "    \"Peut-on contracter la COVID 19 au contact d'une autre personne n'ayant aucun symptÃ´me ?\",\n",
       "    \"Peut-on contracter la COVID-19 au contact d'une autre personne ?\"],\n",
       "   'responses': ['La COVD-19 se propage principalement par les gouttelettes respiratoires expulsÃ©es par les personnes qui toussent ou qui ont dâ€™autres symptÃ´mes, comme la fiÃ¨vre ou la fatigue. Beaucoup de personnes atteintes ne prÃ©sentent que des symptÃ´mes discrets. Câ€™est particuliÃ¨rement vrai aux premiers stades de la maladie. Il est donc possible de contracter la COVID-19 au contact dâ€™une personne qui nâ€™a, par exemple, quâ€™une toux lÃ©gÃ¨re mais qui ne se sent pas malade.\\n         Selon certaines informations, les personnes asymptomatiques pourraient transmettre le virus. On ne sait pas encore Ã\\xa0 quelle frÃ©quence cela se produit. Lâ€™OMS examine les travaux de recherche en cours sur ce point et elle continuera Ã\\xa0 communiquer des rÃ©sultats actualisÃ©s.']},\n",
       "  {'tag': 'protÃ©ger',\n",
       "   'patterns': ['Comment se protÃ©ger et protÃ©ger les autres si on ne sait pas qui est infectÃ© ?',\n",
       "    \"Comment se protÃ©ger et protÃ©ger les autres en cas d'infection ?\",\n",
       "    \"Comment protÃ©ger les autres en cas d'infection ?\",\n",
       "    'Comment se protÃ©ger autres si on ne sait pas qui est infectÃ© ?'],\n",
       "   'responses': ['Il est important de se laver SYSTÃ‰MATIQUEMENT les mains et de TOUJOURS respecter les rÃ¨gles dâ€™hygiÃ¨ne respiratoire.\\n          Câ€™est la meilleure faÃ§on de se protÃ©ger et de protÃ©ger les autres. Si possible, tenez-vous Ã\\xa0 au moins un mÃ¨tre des autres personnes.\\n          Câ€™est particuliÃ¨rement important si la personne la plus proche de vous tousse ou Ã©ternue.\\n          Comme certaines personnes infectÃ©es ne prÃ©sentent pas de symptÃ´mes ou prÃ©sentent des symptÃ´mes discrets, il est prÃ©fÃ©rable\\n          de toujours garder une distance physique avec les autres personnes si vous habitez dans une rÃ©gion oÃ¹ le virus de la COVID-19 circule. ']},\n",
       "  {'tag': 'contact',\n",
       "   'patterns': [\"Que faire si j'ai Ã©tÃ© en contact proche avec quelqu'un qui a la COVID-19 ? \",\n",
       "    \"Que faire si j'ai Ã©tÃ© en contact proche avec quelqu'un contaminÃ© par la COVID-19 ?\",\n",
       "    \"Que faire si j'ai Ã©tÃ© en contact avec quelqu'un contaminÃ© par le coronavirus ? \"],\n",
       "   'responses': ['Si vous avez Ã©tÃ© en contact proche avec quelquâ€™un qui a la COVID-19, il se peut que vous soyez infectÃ©.\\n         On considÃ¨re quâ€™il y a eu contact proche si vous vivez avec une personne malade ou si\\n         vous vous Ãªtes trouvÃ© Ã\\xa0 moins dâ€™un mÃ¨tre cette personne. Dans ces cas, il est prÃ©fÃ©rable que vous restiez chez vous.\\n         Cependant, si vous habitez dans une rÃ©gion oÃ¹ le paludisme ou la dengue sÃ©vit, il faut absolument consulter un mÃ©decin en cas de fiÃ¨vre.\\n         Quand vous allez dans un Ã©tablissement de santÃ©, portez un masque, restez Ã\\xa0 une distance dâ€™au moins un mÃ¨tre des autres personnes\\n         et ne touchez pas les surfaces avec les mains. Aidez les enfants malades Ã\\xa0 suivre Ã©galement ces conseils.\\n         Si vous nâ€™habitez pas dans une rÃ©gion oÃ¹ le paludisme ou la dengue sÃ©vit, procÃ©dez comme suit :\\n\\n         Si vous prÃ©sentez des symptÃ´mes, mÃªme trÃ¨s discrets, comme une lÃ©gÃ¨re fiÃ¨vre et des douleurs, vous devez vous isoler Ã\\xa0 votre domicile.\\n         En prÃ©sence de symptÃ´mes, isolez-vous et surveillez lâ€™Ã©volution de votre Ã©tat de santÃ© mÃªme si vous pensez\\n         ne pas avoir Ã©tÃ© exposÃ© Ã\\xa0 la COVID-19.\\n         Il est trÃ¨s important de sâ€™isoler prÃ©cocement car la probabilitÃ© dâ€™infecter dâ€™autres personnes est plus Ã©levÃ©e aux premiers stades\\n         de la maladie, alors que les symptÃ´mes sont discrets.\\n         Si vous nâ€™avez pas de symptÃ´mes mais avez Ã©tÃ© exposÃ© Ã\\xa0 une personne infectÃ©e, placez-vous en quarantaine pendant 14 jours.\\n         En cas de confirmation de la COVID-19 Ã\\xa0 lâ€™issue dâ€™un test, isolez-vous pendant 14 jours, mÃªme aprÃ¨s la disparition des symptÃ´mes,\\n         Ã\\xa0 titre de prÃ©caution. On ne sait pas encore exactement pendant combien de temps les personnes restent infectieuses aprÃ¨s la guÃ©rison.\\n         Suivez les instructions nationales en matiÃ¨re dâ€™auto-isolement.']},\n",
       "  {'tag': 'isolement',\n",
       "   'patterns': [\"Qu'est-ce que l'auto-isolement ?\",\n",
       "    \"Qu'est-ce que l'auto isolement ?\",\n",
       "    \"Qu'est-ce que la quarantaine ?\",\n",
       "    \"C'est quoi une quarantaine ?\"],\n",
       "   'responses': ['Lâ€™auto-isolement est une mesure importante que doivent prendre les personnes qui prÃ©sentent des symptÃ´mes de la COVID-19\\n          pour Ã©viter dâ€™infecter dâ€™autres personnes dans leur entourage, y compris les membres de leur famille.\\n         Lâ€™auto-isolement consiste, pour une personne qui a de la fiÃ¨vre, qui tousse ou qui a dâ€™autres symptÃ´mes de la COVID-19,\\n         Ã\\xa0 rester Ã\\xa0 son domicile et Ã\\xa0 ne pas se rendre sur son lieu de travail, dans son Ã©tablissement scolaire ou dans les lieux publics.\\n         Cet auto-isolement peut Ãªtre volontaire ou rÃ©pondre Ã\\xa0 la recommandation dâ€™un mÃ©decin. Cependant, si vous habitez dans une rÃ©gion\\n         oÃ¹ le paludisme ou la dengue sÃ©vit, il faut absolument consulter un mÃ©decin en cas de fiÃ¨vre.\\n         Quand vous allez dans un Ã©tablissement de santÃ©, portez un masque, restez Ã\\xa0 une distance dâ€™au moins un mÃ¨tre des autres personnes\\n         et ne touchez pas les surfaces avec les mains. Aidez les enfants malades Ã\\xa0 suivre Ã©galement ces conseils.\\n         Si vous nâ€™habitez pas dans une rÃ©gion oÃ¹ le paludisme ou la dengue sÃ©vit, procÃ©dez comme suit :\\n\\n         Les personnes qui sont gravement malades (qui ont besoin de soins mÃ©dicaux) ne doivent pas sâ€™isoler de leur propre initiative.\\n         Installez-vous seul dans une grande piÃ¨ce bien aÃ©rÃ©e depuis laquelle vous pouvez accÃ©der facilement Ã\\xa0 un lavabo pour vous laver les mains\\n         et Ã\\xa0 des toilettes.\\n         Si câ€™est impossible, placez chaque lit Ã\\xa0 un mÃ¨tre au moins lâ€™un de lâ€™autre.\\n         Tenez-vous Ã\\xa0 au moins un mÃ¨tre des autres personnes, mÃªme des membres de votre famille.\\n         Surveillez quotidiennement lâ€™Ã©volution des symptÃ´mes.\\n         Isolez-vous pendant 14 jours mÃªme si vous avez lâ€™impression dâ€™Ãªtre en bonne santÃ©.\\n         En cas de difficultÃ©s respiratoires, contactez immÃ©diatement votre mÃ©decin, en lâ€™appelant dâ€™abord si possible.\\n         Gardez le moral en restant en contact avec les personnes que vous aimez, par tÃ©lÃ©phone ou en ligne, et en faisant de lâ€™exercice chez vous.']},\n",
       "  {'tag': 'quarantaine',\n",
       "   'patterns': [\"Que faire si je n'ai pas de symptÃ´mes mais si je pense avoir Ã©tÃ© exposÃ© Ã\\xa0 la COVID-19 ?\",\n",
       "    'Que faire si je pense avoir Ã©tÃ© exposÃ© au coronavirus ?',\n",
       "    'Que faire si je pense avoir Ã©tÃ© exposÃ© Ã\\xa0 la COVID-19 ?',\n",
       "    \"Qu'est-ce que l'auto-quarantaine ?\",\n",
       "    \"Qu'est-ce que l'auto quarantaine ?\",\n",
       "    \"C'est quoi une auto-quarantaine ?\",\n",
       "    \"C'est quoi une quarantaine ?\",\n",
       "    \"Qu'est-ce que la quarantaine ? \"],\n",
       "   'responses': ['Lâ€™auto-quarantaine consiste, mÃªme si vous ne prÃ©sentez aucun symptÃ´me, Ã\\xa0 vous mettre Ã\\xa0 lâ€™Ã©cart des autres personnes\\n          parce que vous avez Ã©tÃ© exposÃ© Ã\\xa0 la COVID-19. Pendant lâ€™auto-quarantaine, vous devez surveiller lâ€™Ã©volution des symptÃ´mes.\\n          Le but de lâ€™auto-quarantaine est de prÃ©venir la transmission. Comme les personnes qui contractent la COVID-19 peuvent infecter\\n          immÃ©diatement dâ€™autres personnes, lâ€™auto-quarantaine permet de prÃ©venir la survenue de certaines infections. Dans ce cas :\\n\\n         Installez-vous seul dans une grande piÃ¨ce bien aÃ©rÃ©e depuis laquelle vous pouvez accÃ©der facilement Ã\\xa0 un lavabo pour vous\\n         laver les mains et Ã\\xa0 des toilettes.\\n         Si câ€™est impossible, placez chaque lit Ã\\xa0 un mÃ¨tre au moins lâ€™un de lâ€™autre.\\n         Tenez-vous Ã\\xa0 au moins un mÃ¨tre des autres personnes, mÃªme des membres de votre famille.\\n         Surveillez quotidiennement lâ€™Ã©volution des symptÃ´mes.\\n         Restez en quarantaine pendant 14 jours mÃªme si vous avez lâ€™impression dâ€™Ãªtre en bonne santÃ©.\\n         En cas de difficultÃ©s respiratoires, contactez immÃ©diatement votre mÃ©decin, en lâ€™appelant dâ€™abord si possible.\\n         Gardez le moral en restant en contact avec les personnes que vous aimez, par tÃ©lÃ©phone ou en ligne, et en faisant de lâ€™exercice chez vous.\\n         Cependant, si vous habitez dans une rÃ©gion oÃ¹ le paludisme ou la dengue sÃ©vit, il faut absolument consulter un mÃ©decin en cas de fiÃ¨vre.\\n         Quand vous allez dans un Ã©tablissement de santÃ©, portez un masque, restez Ã\\xa0 une distance dâ€™au moins un mÃ¨tre des autres personnes\\n         et ne touchez pas les surfaces avec les mains. Aidez les enfants malades Ã\\xa0 suivre Ã©galement ces conseils.']},\n",
       "  {'tag': 'diffÃ©rence',\n",
       "   'patterns': [\"Quelle est la diffÃ©rence entre l'auto-isolement, l'auto-quarantaine et la distanciation physique ?\",\n",
       "    \"Quelle est la diffÃ©rence entre l'auto isolement, l'auto quarantaine et la distanciation physique ?\",\n",
       "    \"Quelle est la diffÃ©rence entre l'isolement, la quarantaine ?\",\n",
       "    \"C'est quoi la diffÃ©rence entre l'isolement, la quarantaine ?\"],\n",
       "   'responses': ['La quarantaine consiste Ã\\xa0 mettre Ã\\xa0 lâ€™Ã©cart les personnes qui ne sont pas malades mais qui ont Ã©tÃ© exposÃ©es Ã\\xa0 la COVID-19,\\n          ou Ã\\xa0 restreindre leurs activitÃ©s. Il sâ€™agit dâ€™Ã©viter que la maladie ne se propage au moment oÃ¹ les personnes prÃ©sentent\\n          les premiers symptÃ´mes. Lâ€™isolement consiste Ã\\xa0 mettre Ã\\xa0 lâ€™Ã©cart les personnes qui prÃ©sentent des symptÃ´mes de la COVID-19\\n          et qui peuvent Ãªtre infectieuses afin dâ€™Ã©viter que la maladie ne se propage.\\n          La distanciation physique consiste Ã\\xa0 garder physiquement une distance avec les autres personnes.\\n          Lâ€™OMS recommande de se tenir Ã\\xa0 au moins un mÃ¨tre. Câ€™est une mesure gÃ©nÃ©rale qui doit Ãªtre appliquÃ©e par chacun,\\n          mÃªme en lâ€™absence de symptÃ´mes ou dâ€™exposition connue Ã\\xa0 la COVID-19.']},\n",
       "  {'tag': 'enfants',\n",
       "   'patterns': ['Les enfants ou les adolescents peuvent-ils contracter la COVID-19 ?',\n",
       "    'Les enfants ou les adolescents peuvent-ils contracter la COVID 19 ?',\n",
       "    'Les enfants peuvent-ils contracter la COVID?',\n",
       "    'Les enfants peuvent-ils contracter le coronavirus ?',\n",
       "    'Les adolescents peuvent-ils contracter le coronavirus ?',\n",
       "    'Les adolescents peuvent-ils contracter la COVID ?',\n",
       "    'Les ados peuvent-ils contracter le coronavirus ?'],\n",
       "   'responses': ['Les travaux de recherche montrent que la probabilitÃ© de contracter lâ€™infection est la mÃªme chez les enfants et\\n          les adolescents que dans les autres groupes dâ€™Ã¢ge et que les enfants et les adolescents peuvent propager la maladie.\\n         Les donnÃ©es disponibles Ã\\xa0 ce jour semblent indiquer que les enfants et les jeunes adultes risquent moins dâ€™Ãªtre gravement atteints,\\n         mais des cas graves peuvent tout de mÃªme survenir dans ces groupes dâ€™Ã¢ge.\\n         Les enfants et les adultes doivent suivre les mÃªmes conseils en matiÃ¨re dâ€™auto-quarantaine et dâ€™auto-isolement en cas dâ€™exposition\\n         ou de symptÃ´mes. Il est particuliÃ¨rement important que les enfants Ã©vitent les contacts avec les personnes Ã¢gÃ©es\\n         et les autres personnes risquant dâ€™Ãªtre gravement atteintes.']},\n",
       "  {'tag': 'propage',\n",
       "   'patterns': ['Comment puis-je me protÃ©ger et Ã©viter que la maladie ne se propage ?',\n",
       "    'Comment Ã©viter que la maladie ne se propage ?'],\n",
       "   'responses': ['Tenez-vous au courant des derniÃ¨res informations sur la flambÃ©e de COVID-19, disponibles sur le site Web de lâ€™OMS\\n          et auprÃ¨s des autoritÃ©s de santÃ© publique nationales et locales. Des cas de COVID-19 se sont produits dans la plupart des pays\\n          et de nombreux pays sont touchÃ©s par des flambÃ©es. Dans certains pays, les autoritÃ©s sont parvenues Ã\\xa0 ralentir la progression\\n          de la flambÃ©e. Toutefois, lâ€™Ã©volution de la situation est imprÃ©visible et vous devez donc vous tenir rÃ©guliÃ¨rement informÃ©.\\n          Vous pouvez rÃ©duire le risque dâ€™Ãªtre infectÃ© ou de propager la COVID-19 en prenant quelques prÃ©cautions simples :\\n\\n          Se laver frÃ©quemment et soigneusement les mains avec une solution hydroalcoolique ou Ã\\xa0 lâ€™eau et au savon.\\n          Se laver les mains avec une solution hydroalcoolique ou Ã\\xa0 lâ€™eau et au savon tue le virus sâ€™il est prÃ©sent sur vos mains.\\n          Maintenir une distance dâ€™au moins un mÃ¨tre avec les autres personnes.\\n          Lorsquâ€™une personne tousse ou Ã©ternue, elle expulse par le nez ou par la bouche de petites gouttelettes qui peuvent contenir le virus.\\n          Si vous Ãªtes trop prÃ¨s, vous pouvez inhaler ces gouttelettes et donc le virus responsable de la COVID-19 si la personne en est porteuse.\\n          Ã‰viter les lieux trÃ¨s frÃ©quentÃ©s.\\n          Dans les lieux trÃ¨s frÃ©quentÃ©s, la probabilitÃ© dâ€™Ãªtre en contact proche avec quelquâ€™un qui a la COVID-19 est plus Ã©levÃ©e\\n          et il est plus difficile de maintenir une distance physique dâ€™un mÃ¨tre.\\n          Ã‰viter de se toucher les yeux, le nez et la bouche.\\n          Les mains sont en contact avec de nombreuses surfaces qui peuvent Ãªtre contaminÃ©es par le virus. Si vous vous touchez les yeux,\\n          le nez ou la bouche, le virus peut pÃ©nÃ©trer dans votre organisme et vous infecter.\\n          Veillez Ã\\xa0 respecter les rÃ¨gles dâ€™hygiÃ¨ne respiratoire et Ã\\xa0 ce que les personnes autour de vous en fassent autant.\\n          En cas de toux ou dâ€™Ã©ternuement, il faut se couvrir la bouche et le nez avec le pli du coude, ou avec un mouchoir et\\n          jeter le mouchoir immÃ©diatement aprÃ¨s puis se laver les mains.\\n          Les gouttelettes respiratoires propagent des virus. En respectant les rÃ¨gles dâ€™hygiÃ¨ne respiratoire,\\n          vous protÃ©gez les personnes autour de vous de virus tels que ceux responsables du rhume, de la grippe ou de la COVID-19.\\n          Si vous avez des symptÃ´mes, mÃªmes bÃ©nins (toux, maux de tÃªte, lÃ©gÃ¨re fiÃ¨vre), restez chez vous jusquâ€™Ã\\xa0 la guÃ©rison.\\n          Demandez Ã\\xa0 quelquâ€™un de faire les courses pour vous. Si vous devez sortir, portez un masque pour Ã©viter dâ€™infecter dâ€™autres personnes.\\n          En Ã©vitant les contacts avec dâ€™autres personnes, vous protÃ©gez ces derniÃ¨res dâ€™une contamination Ã©ventuelle par le virus de la COVID-19\\n          et dâ€™autres virus.\\n          En cas de fiÃ¨vre, de toux et de dyspnÃ©e, consultez un mÃ©decin, si possible aprÃ¨s lâ€™avoir appelÃ© par tÃ©lÃ©phone,\\n          et suivez les instructions des autoritÃ©s sanitaires locales.\\n          Ce sont les autoritÃ©s nationales et locales qui disposent des informations les plus rÃ©centes sur la situation dans la rÃ©gion\\n          oÃ¹ vous vous trouvez. Si vous lâ€™appelez, votre mÃ©decin pourra vous orienter rapidement vers lâ€™Ã©tablissement de santÃ© le plus adaptÃ©.\\n          En outre, cela vous protÃ¨gera et Ã©vitera la propagation de virus et dâ€™autres agents infectieux.\\n          Pour vous informer, consultez des sources fiables, telles que lâ€™OMS et les autoritÃ©s sanitaires locales et nationales.\\n          Les autoritÃ©s locales et nationales sont les mieux placÃ©es pour vous indiquer comment vous protÃ©ger.']},\n",
       "  {'tag': 'traitement',\n",
       "   'patterns': ['Existe-t-il un vaccin, un mÃ©dicament ou un traitement contre la COVID-19 ?',\n",
       "    'Existe-t-il un vaccin contre la COVID-19 ?',\n",
       "    'Existe-t-il un vaccin contre le coronavirus ?',\n",
       "    'Existe-t-il un mÃ©dicament contre la COVID-19 ?',\n",
       "    'Existe-t-il un mÃ©dicament contre le coronavirus ?',\n",
       "    'Existe-t-il un traitement contre la COVID-19 ?',\n",
       "    'Existe-t-il un traitement contre le coronavirus ?'],\n",
       "   'responses': ['Certains remÃ¨des occidentaux, traditionnels â€Žou domestiques peuvent apporter du â€Žconfort et soulager\\n          les symptÃ´mes de la â€ŽCOVID-19 dans le cas dâ€™une infection â€ŽbÃ©nigne, mais aucune Ã©tude nâ€™a permis de â€ŽdÃ©montrer lâ€™efficacitÃ© dâ€™un mÃ©dicament\\n          â€Žactuel pour prÃ©venir ou traiter la maladie. â€ŽLâ€™OMS ne recommande de prendre aucun â€ŽmÃ©dicament, y compris les antibiotiques,\\n          en â€ŽautomÃ©dication pour prÃ©venir ou guÃ©rir la â€ŽCOVID-19. Cependant, plusieurs essais â€Žcliniques de mÃ©dicaments occidentaux ou\\n          â€Žtraditionnels sont en cours. Lâ€™OMS â€Žcoordonne les efforts pour concevoir des â€Žvaccins et des mÃ©dicaments pour la â€ŽprÃ©vention\\n          et le traitement de la COVID-19 â€Žet continuera de fournir des informations â€Žmises Ã\\xa0 jour Ã\\xa0 mesure que les rÃ©sultats des â€Žrecherches\\n          seront disponibles.â€Ž\\n          Le meilleur moyen de se protÃ©ger et de protÃ©ger les autres de la COVID-19 est :\\n\\n          de se laver les mains souvent et soigneusement ;\\n          dâ€™Ã©viter de se toucher les yeux, la bouche et le nez ;\\n          de tousser dans le pli du coude, ou dans un mouchoir Ã\\xa0 usage unique puis de jeter le mouchoir immÃ©diatement aprÃ¨s\\n          et de se laver les mains ;\\n          de garder une distance dâ€™au moins un mÃ¨tre avec les autres personnes.']},\n",
       "  {'tag': 'masque',\n",
       "   'patterns': [\"L'OMS recommande-t-elle le port du masque mÃ©dical pour Ã©viter que la COVID-19 ne se propage ?\",\n",
       "    \"L'OMS recommande-t-elle le port du masque ?\",\n",
       "    \"Le port du masque est-il recommandÃ© L'OMS ? \",\n",
       "    'Le port du masque est-il recommandÃ© ? '],\n",
       "   'responses': ['Il nâ€™y a actuellement pas assez de donnÃ©es permettant de formuler des recommandations tendant Ã\\xa0 conseiller\\n          ou Ã\\xa0 dÃ©conseiller le port du masque (mÃ©dical ou autre) aux personnes en bonne santÃ© dans les espaces collectifs.\\n          Toutefois, lâ€™OMS Ã©tudie activement les connaissances scientifiques au sujet des masques, qui Ã©voluent rapidement,\\n          et actualise en permanence ses orientations. Le port du masque mÃ©dical est principalement recommandÃ© dans les Ã©tablissements de soins,\\n          mais il peut Ãªtre envisagÃ© dans dâ€™autres circonstances (voir ci-dessous). Il doit Ãªtre associÃ© Ã\\xa0 dâ€™autres mesures essentielles\\n          de lutte anti-infectieuse, comme lâ€™hygiÃ¨ne des mains et la distanciation physique.\\n          Les masques mÃ©dicaux et les masques de protection respiratoire N95, FFP2 ou Ã©quivalents doivent Ãªtre rÃ©servÃ©s aux soignants\\n          quand ils prennent en charge des patients. En effet, les soignants sont les plus exposÃ©s Ã\\xa0 la COVID-19,\\n          car celle-ci se transmet principalement en cas de contact proche avec un cas prÃ©sumÃ© ou confirmÃ© et son environnement immÃ©diat.\\n          Les personnes malades qui prÃ©sentent des symptÃ´mes bÃ©nins (douleurs musculaires, lÃ©gÃ¨re toux, maux de gorge ou fatigue)\\n          doivent sâ€™isoler Ã\\xa0 leur domicile et porter un masque mÃ©dical suivant les recommandations de lâ€™OMS relatives Ã\\xa0 la prise en charge\\n          Ã\\xa0 domicile des cas prÃ©sumÃ©s de COVID-19. La toux, les Ã©ternuements ou le fait de parler peuvent produire des gouttelettes susceptibles\\n          de propager lâ€™infection. Ces gouttelettes peuvent atteindre le visage des personnes alentour et se retrouver dans lâ€™environnement proche.\\n          Si une personne infectÃ©e porte un masque mÃ©dical alors quâ€™elle tousse, Ã©ternue ou parle, les gens autour dâ€™elle\\n          seront plus facilement protÃ©gÃ©s de lâ€™infection.\\n          Si une personne malade doit se rendre dans un Ã©tablissement de santÃ©, elle doit porter un masque mÃ©dical.\\n          Les personnes qui sâ€™occupent de patients atteints de la COVID-19 doivent porter un masque mÃ©dical pour se protÃ©ger\\n          car les contacts proches, frÃ©quents et prolongÃ©s avec ces patients exposent les personnes qui sâ€™en occupent Ã\\xa0 un risque Ã©levÃ©.\\n          Les dÃ©cideurs nationaux peuvent aussi choisir de recommander le port du masque mÃ©dical Ã\\xa0 certaines personnes en fonction des risques.\\n          Cette approche tient compte du but du masque, du risque dâ€™exposition et de la vulnÃ©rabilitÃ© du porteur, du contexte,\\n          de la possibilitÃ© de porter le masque et des types de masque envisagÃ©s.']},\n",
       "  {'tag': 'porter',\n",
       "   'patterns': ['Comment porter correctement un masque mÃ©dical ?',\n",
       "    'Comment porter correctement un masque ?',\n",
       "    'Comment porter un masque?'],\n",
       "   'responses': ['Si vous choisissez de porter un masque :\\n         Avant de mettre un masque, se laver les mains avec une solution hydroalcoolique ou Ã\\xa0 lâ€™eau et au savon.\\n         VÃ©rifier que le masque nâ€™est ni dÃ©chirÃ© ni trouÃ©.\\n         Orienter le masque dans le bon sens (bande mÃ©tallique vers le haut).\\n         VÃ©rifier que la face colorÃ©e du masque est placÃ©e vers lâ€™extÃ©rieur.\\n         Placer le masque sur le visage. Pincer la bande mÃ©tallique ou le bord dur du masque afin quâ€™il Ã©pouse la forme du nez.\\n         Tirer le bas du masque pour recouvrir la bouche et le menton.\\n         Ne pas toucher le masque pendant que vous le portez.\\n         AprÃ¨s usage, retirer le masque en ayant les mains propres, enlever les Ã©lastiques de derriÃ¨re les oreilles tout en Ã©loignant\\n         le masque du visage et des vÃªtements afin dâ€™Ã©viter de toucher des parties du masque Ã©ventuellement contaminÃ©es.\\n         Ne pas rÃ©utiliser le masque. Jeter le masque dans une poubelle fermÃ©e immÃ©diatement aprÃ¨s usage.\\n         AprÃ¨s avoir touchÃ© ou jetÃ© le masque, se laver les mains avec une solution hydroalcoolique ou Ã\\xa0 lâ€™eau et au savon\\n         si elles sont visiblement sales. Sachez quâ€™il y a une pÃ©nurie mondiale de masques mÃ©dicaux (chirurgicaux et N95).\\n         Ces masques doivent Ãªtre rÃ©servÃ©s autant que possible aux soignants.\\n         Nâ€™oubliez pas que le port du masque ne remplace pas dâ€™autres moyens plus efficaces de se protÃ©ger\\n         et de protÃ©ger les autres de la COVID-19 (se laver frÃ©quemment les mains, tousser dans le pli du coude ou dans un mouchoir\\n         et se tenir Ã\\xa0 une distance dâ€™au moins un mÃ¨tre des autres personnes).\\n         Pour plus dâ€™informations, consultez les mesures de protection essentielles contre le nouveau coronavirus.\\n         Suivez les conseils des autoritÃ©s sanitaires nationales concernant le port du masque.']},\n",
       "  {'tag': 'exposition',\n",
       "   'patterns': [\"Combien de temps s'Ã©coule entre l'exposition au virus de la COVID-19 et l'apparition des symptÃ´mes ?\",\n",
       "    \"Combien de temps s'Ã©coule entre l'exposition au coronavirus et l'apparition des symptÃ´mes ?\",\n",
       "    \"Combien de temps entre l'exposition au coronavirus et l'apparition des symptÃ´mes ?\"],\n",
       "   'responses': ['Le dÃ©lai qui sâ€™Ã©coule entre lâ€™exposition au virus de la COVID-19 et lâ€™apparition des symptÃ´mes est habituellement\\n          de cinq Ã\\xa0 six jours, mais il peut aller dâ€™un Ã\\xa0 14 jours.']},\n",
       "  {'tag': 'animaux',\n",
       "   'patterns': ['Quel est le lien entre la COVID-19 et les animaux ?',\n",
       "    'Quel est le lien entre le coronavirus et les animaux ?',\n",
       "    'Quel est le lien entre la COVID 19 et les animaux ?'],\n",
       "   'responses': ['La COVID-19 se transmet dâ€™une personne Ã\\xa0 lâ€™autre.\\n         Nous disposons dÃ©jÃ\\xa0 de beaucoup dâ€™informations sur les autres coronavirus et la plupart de ces types de virus ont une origine animale.\\n         Le virus de la COVID-19 (aussi appelÃ© SARS-CoV-2) est nouveau chez lâ€™homme. La source animale Ã©ventuelle de la COVID-19 nâ€™a pas encore\\n         Ã©tÃ© confirmÃ©e, mais des travaux de recherche sont en cours.\\n         Lâ€™OMS continue Ã\\xa0 suivre les travaux de recherche sur ce sujets et dâ€™autres sujets liÃ©s Ã\\xa0 la COVID-19,\\n         et elle publiera des informations actualisÃ©es quand de nouveaux rÃ©sultats seront disponibles.']},\n",
       "  {'tag': 'domestiques',\n",
       "   'patterns': ['Mon animal domestique peut-il me transmettre la COVID-19 ?',\n",
       "    'Mon animal domestique peut-il me transmettre la COVID 19 ?',\n",
       "    'Mon animal domestique peut-il me transmettre le coronavirus ?',\n",
       "    'Mon animal de compagnie peut-il me transmettre la COVID-19 ?',\n",
       "    'Mon animal de compagnie peut-il me transmettre la COVID 19 ?',\n",
       "    'Mon animal de compagnie peut-il me transmettre le coronavirus ?'],\n",
       "   'responses': [\"Plusieurs chiens et chats (domestiques) et un tigre en contact avec des Ãªtres humains infectÃ©s ont Ã©tÃ© testÃ©s positifs\\n          Ã\\xa0 la COVID-19. Les furets semblent Ã©galement Ãªtre sensibles Ã\\xa0 lâ€™infection. Dans des conditions expÃ©rimentales,\\n          les chats et les furets pouvaient transmettre lâ€™infection Ã\\xa0 dâ€™autres animaux de la mÃªme espÃ¨ce, mais rien ne prouve que ces animaux\\n          puissent transmettre la maladie Ã\\xa0 lâ€™homme et jouer un rÃ´le dans sa propagation. La COVID-19 se transmet principalement\\n          par les gouttelettes expulsÃ©es par les personnes infectÃ©es quand elles toussent, Ã©ternuent ou parlent.\\n          Il est tout de mÃªme recommandÃ© aux personnes atteintes de la COVID-19 et aux personnes Ã\\xa0 risque de limiter les contacts avec les animaux\\n          de compagnie et les autres animaux. Des mesures d'hygiÃ¨ne de base doivent toujours Ãªtre appliquÃ©es quand on manipule les animaux\\n          ou on leur prodigue des soins (se laver les mains avant et aprÃ¨s avoir Ã©tÃ© Ã\\xa0 proximitÃ© ou avoir manipulÃ© les animaux,\\n          leur nourriture ou leurs affaires et Ã©viter de les embrasser, de se faire lÃ©cher ou de partager de leur nourriture).\\n          On trouvera dâ€™autres recommandations sur le site Web de lâ€™OIE, Ã\\xa0 lâ€™adresse\\n          https://www.oie.int/fr/expertise-scientifique/informations-specifiques-et-recommandations/questions-et-reponses-sur-le-nouveau-coronavirus2019/.\\n          Lâ€™OMS continue Ã\\xa0 suivre les travaux de recherche sur ce sujets et dâ€™autres sujets liÃ©s Ã\\xa0 la COVID-19\\n          et elle publiera des informations actualisÃ©es quand de nouveaux rÃ©sultats seront disponibles.\"]},\n",
       "  {'tag': 'temps',\n",
       "   'patterns': ['Combien de temps le virus survit-il sur les surfaces ?',\n",
       "    'Le virus survit pendant combien de temps sur les surfaces ?',\n",
       "    'Le coronavirus survit pendant combien de temps sur les surfaces ?'],\n",
       "   'responses': ['Le plus important Ã\\xa0 savoir est que les surfaces peuvent Ãªtre facilement nettoyÃ©es avec un dÃ©sinfectant mÃ©nager\\n          courant qui tuera le coronavirus. Des Ã©tudes ont montrÃ© que le virus de la COVID-19 peut survivre pendant 72 heures\\n          sur le plastique et lâ€™acier inoxydable, moins de quatre heures sur le cuivre et moins de 24 heures sur le carton.\\n          Comme toujours, il faut se laver les mains avec une solution hydroalcoolique ou Ã\\xa0 lâ€™eau et au savon et Ã©viter\\n          de se toucher les yeux, la bouche ou le nez.']},\n",
       "  {'tag': 'courses',\n",
       "   'patterns': ['Comment faire ses courses en toute sÃ©curitÃ© ?',\n",
       "    'Comment faire ses courses ?'],\n",
       "   'responses': ['Quand vous faites vos courses, restez Ã\\xa0 une distance dâ€™au moins un mÃ¨tre des autres personnes\\n          et Ã©vitez de vous toucher les yeux, la bouche et le nez. Si possible, dÃ©sinfectez les poignÃ©es des chariots\\n          ou les anses des paniers avant de commencer Ã\\xa0 faire vos achats.\\n          Lavez-vous soigneusement les mains dÃ¨s que vous rentrez chez vous et aprÃ¨s avoir manipulÃ© et rangÃ© les articles que vous avez achetÃ©s.\\n          Aucun cas confirmÃ© de COVID-19 nâ€™a encore Ã©tÃ© transmis par les aliments ou les emballages des denrÃ©es.']},\n",
       "  {'tag': 'manger',\n",
       "   'patterns': ['Comment laver les fruits et lÃ©gumes ?',\n",
       "    'Comment laver les fruits et lÃ©gumes en toute sÃ©curitÃ©?'],\n",
       "   'responses': ['Les fruits et lÃ©gumes sont des Ã©lÃ©ments importants dâ€™une alimentation saine. Lavez-les comme vous le\\n          feriez en temps ordinaire : lavez-vous dâ€™abord les mains Ã\\xa0 lâ€™eau et au savon puis lavez soigneusement les fruits\\n          et lÃ©gumes Ã\\xa0 lâ€™eau claire, en particulier si vous les consommez crus.']},\n",
       "  {'tag': 'antibio',\n",
       "   'patterns': ['Les antibiotiques sont-ils efficaces pour prÃ©venir ou traiter la COVID-19 ?',\n",
       "    'Les antibiotiques sont-ils efficaces pour prÃ©venir la COVID-19 ?',\n",
       "    'Les antibiotiques sont-ils efficaces pour traiter la COVID-19 ?',\n",
       "    'Les antibiotiques sont-ils efficaces pour prÃ©venir le coronavirus ?',\n",
       "    'Les antibiotiques sont-ils efficaces pour traiter le coronavirus ?'],\n",
       "   'responses': ['Non, les antibiotiques nâ€™agissent pas contre les virus, mais seulement contre les infections bactÃ©riennes.\\n          La COVID-19 Ã©tant due Ã\\xa0 un virus, les antibiotiques sont inefficaces. Ils ne doivent pas Ãªtre utilisÃ©s comme moyen de prÃ©vention\\n          ou de traitement de la COVID-19. Ã€ lâ€™hÃ´pital, les mÃ©decins auront parfois recours Ã\\xa0 des antibiotiques pour prÃ©venir ou traiter\\n          une surinfection bactÃ©rienne, qui peut Ãªtre une complication de la COVID-19 chez les patients gravement atteints.\\n          Les antibiotiques doivent Ãªtre utilisÃ©s seulement sur prescription mÃ©dicale pour traiter une infection bactÃ©rienne.']},\n",
       "  {'tag': 'fÃ©cales',\n",
       "   'patterns': [\"Puis-je contracter la COVID-19 par contact avec les matiÃ¨res fÃ©cales d'une personne malade ?\",\n",
       "    \"Puis-je contracter la COVID 19 par contact avec les matiÃ¨res fÃ©cales d'une personne malade ?\",\n",
       "    \"Puis-je contracter le coronavirus par contact avec les matiÃ¨res fÃ©cales d'une personne contaminÃ©e ?\"],\n",
       "   'responses': ['Les premiÃ¨res investigations semblent indiquer que le virus peut Ãªtre prÃ©sent dans les matiÃ¨res fÃ©cales\\n          dans certains cas mais, Ã\\xa0 ce jour, aucun cas de transmission oro-fÃ©cale de la COVD-19 nâ€™a Ã©tÃ© rapportÃ©. En outre, il nâ€™y a aujourdâ€™hui\\n          aucune donnÃ©e prouvant que le virus de la COVID-19 survit dans lâ€™eau ou dans les eaux usÃ©es.\\n          Lâ€™OMS examine les travaux de recherche en cours sur les modes de propagation de la COVID-19 \\n          et elle continuera Ã\\xa0 publier les nouveaux rÃ©sultats obtenus sur ce sujet.']}]}"
      ]
     },
     "execution_count": 4,
     "metadata": {},
     "output_type": "execute_result"
    }
   ],
   "source": [
    "intents"
   ]
  },
  {
   "cell_type": "code",
   "execution_count": 5,
   "metadata": {
    "colab": {},
    "colab_type": "code",
    "id": "jUNlDhkSGVL1"
   },
   "outputs": [],
   "source": [
    "words = []\n",
    "classes = []\n",
    "documents = []\n",
    "ignore = ['?']\n",
    "# loop through each sentence in the intent's patterns\n",
    "for intent in intents['intents']:\n",
    "    for pattern in intent['patterns']:\n",
    "        # tokenize each and every word in the sentence\n",
    "        w = nltk.word_tokenize(pattern)\n",
    "        # add word to the words list\n",
    "        words.extend(w)\n",
    "        # add word(s) to documents\n",
    "        documents.append((w, intent['tag']))\n",
    "        # add tags to our classes list\n",
    "        if intent['tag'] not in classes:\n",
    "            classes.append(intent['tag'])"
   ]
  },
  {
   "cell_type": "code",
   "execution_count": 6,
   "metadata": {
    "colab": {
     "base_uri": "https://localhost:8080/",
     "height": 88
    },
    "colab_type": "code",
    "id": "GO7b9xTwHJMJ",
    "outputId": "d63329aa-d867-49a8-fd08-ba19d5c1831d",
    "scrolled": true
   },
   "outputs": [
    {
     "name": "stdout",
     "output_type": "stream",
     "text": [
      "114 documents\n",
      "28 classes ['COVID-19', 'animaux', 'antibio', 'au revoir', 'consultation', 'contact', 'contraction', 'coronavirus', 'courses', 'diffÃ©rence', 'domestiques', 'enfants', 'exposition', 'fÃ©cales', 'isolement', 'manger', 'masque', 'merci', 'porter', 'propagation', 'propage', 'protÃ©ger', 'quarantaine', 'respiration', 'salutation', 'symptÃ´mes', 'temps', 'traitement']\n",
      "\n",
      "165 unique stemmed words [\"'\", ',', '19', 'a', 'ado', 'adolesc', 'anim', 'animaux', 'antibiot', 'au', 'aucun', 'aut', 'auto-quarantaine', 'avec', 'avoir', 'beaucoup', 'bonjo', 'bye', \"c'est\", 'cas', 'ce', 'ciao', 'com', 'comby', 'compagny', 'consult', 'cont', 'contact', 'contaminã©', 'contaminã©e', 'contract', 'coron', 'coronavir', 'correct', 'cours', 'covid', 'covid-19', \"d'infection\", \"d'une\", 'da', 'dan', 'de', 'des', 'difficultã©s', 'diffã©rence', 'dist', 'dois-je', 'domest', 'doul', 'du', 'efficac', 'en', 'enf', 'ent', 'est', 'est-il', 'et', 'existe-t-il', 'exposã©', 'fair', 'fruit', 'fã©cales', 'hello', 'infectã©', 'isol', \"j'ai\", 'je', \"l'apparition\", \"l'auto\", \"l'auto-isolement\", \"l'auto-quarantaine\", \"l'exposition\", \"l'isolement\", \"l'oms\", 'la', 'lav', 'le', 'les', 'lien', 'lã©gumes', 'mai', 'malad', 'malady', 'masqu', 'matiã¨res', 'me', 'merc', 'mon', 'mã©decin', 'mã©dical', 'mã©dicament', \"n'ai\", \"n'ayant\", 'ne', 'on', 'oppress', 'ou', 'par', 'pas', 'pend', 'pens', 'person', 'peut-il', 'peut-on', 'peuvent-ils', 'phys', 'plu', 'poitrin', 'port', 'pour', 'proch', 'prop', 'propage-t-ell', 'protã©ger', 'prã©sente', 'prã©venir', 'puis-je', \"qu'est\", \"qu'est-ce\", \"qu'un\", 'quand', 'quarantain', 'que', 'quel', \"quelqu'un\", 'qui', 'quo', 'quâ€™est-ce', 'quâ€™un', 'recommande-t-ell', 'recommandã©', 'remercy', 'respir', 'revoir', 's', 'sait', 'salut', 'se', 'ses', 'si', 'sont', 'sont-ils', 'sur', 'surfac', 'survit', 'survit-il', 'symptã´me', 'symptã´mes', 'sã©curitã©', 'tard', 'te', 'temp', 'tout', 'trait', 'transmet', 'un', 'va', 'vaccin', 'vas-tu', 'vir', 'ã', 'ã§a', 'ã©coule', 'ã©tã©', 'ã©viter']\n"
     ]
    }
   ],
   "source": [
    "# Perform stemming and lower each word as well as remove duplicates\n",
    "words = [stemmer.stem(w.lower()) for w in words if w not in ignore]\n",
    "words = sorted(list(set(words)))\n",
    "\n",
    "# remove duplicate classes\n",
    "classes = sorted(list(set(classes)))\n",
    "\n",
    "print (len(documents), \"documents\")\n",
    "print (len(classes), \"classes\", classes)\n",
    "print()\n",
    "print (len(words), \"unique stemmed words\", words)"
   ]
  },
  {
   "cell_type": "code",
   "execution_count": 7,
   "metadata": {},
   "outputs": [
    {
     "name": "stdout",
     "output_type": "stream",
     "text": [
      "114 documents\n",
      "28 classes ['COVID-19', 'animaux', 'antibio', 'au revoir', 'consultation', 'contact', 'contraction', 'coronavirus', 'courses', 'diffÃ©rence', 'domestiques', 'enfants', 'exposition', 'fÃ©cales', 'isolement', 'manger', 'masque', 'merci', 'porter', 'propagation', 'propage', 'protÃ©ger', 'quarantaine', 'respiration', 'salutation', 'symptÃ´mes', 'temps', 'traitement']\n",
      "\n",
      "165 unique stemmed words [\"'\", ',', '19', 'a', 'ado', 'adolesc', 'anim', 'animaux', 'antibiot', 'au', 'aucun', 'aut', 'auto-quarantaine', 'avec', 'avoir', 'beaucoup', 'bonjo', 'bye', \"c'est\", 'cas', 'ce', 'ciao', 'com', 'comby', 'compagny', 'consult', 'cont', 'contact', 'contaminã©', 'contaminã©e', 'contract', 'coron', 'coronavir', 'correct', 'cour', 'covid', 'covid-19', \"d'infection\", \"d'une\", 'da', 'dan', 'de', 'des', 'difficultã©s', 'diffã©rence', 'dist', 'dois-je', 'domest', 'doul', 'du', 'efficac', 'en', 'enf', 'ent', 'est', 'est-il', 'et', 'existe-t-il', 'exposã©', 'fair', 'fruit', 'fã©cales', 'hello', 'infectã©', 'isol', \"j'ai\", 'je', \"l'apparition\", \"l'auto\", \"l'auto-isolement\", \"l'auto-quarantaine\", \"l'exposition\", \"l'isolement\", \"l'oms\", 'la', 'lav', 'le', 'les', 'lien', 'lã©gumes', 'mai', 'malad', 'malady', 'masqu', 'matiã¨res', 'me', 'merc', 'mon', 'mã©decin', 'mã©dical', 'mã©dicament', \"n'ai\", \"n'ayant\", 'ne', 'on', 'oppress', 'ou', 'par', 'pas', 'pen', 'pend', 'person', 'peut-il', 'peut-on', 'peuvent-ils', 'phy', 'plu', 'poitrin', 'port', 'pour', 'proch', 'prop', 'propage-t-ell', 'protã©ger', 'prã©sente', 'prã©venir', 'puis-je', \"qu'est\", \"qu'est-ce\", \"qu'un\", 'quand', 'quarantain', 'que', 'quel', \"quelqu'un\", 'qui', 'quo', 'quâ€™est-ce', 'quâ€™un', 'recommande-t-ell', 'recommandã©', 'remercy', 'respir', 'revoir', 's', 'sait', 'salut', 'se', 'ses', 'si', 'sont', 'sont-ils', 'sur', 'surfac', 'survit', 'survit-il', 'symptã´me', 'symptã´mes', 'sã©curitã©', 'tard', 'te', 'temp', 'tout', 'trait', 'transmet', 'un', 'va', 'vaccin', 'vas-tu', 'vir', 'ã', 'ã§a', 'ã©coule', 'ã©tã©', 'ã©viter']\n"
     ]
    }
   ],
   "source": [
    "# Perform stemming and lower each word as well as remove duplicates\n",
    "words = [stemmer.stem(w.lower()) for w in words if w not in ignore]\n",
    "#words = [wln.lemmatize(w.lower()) for w in words if w not in ignore]\n",
    "words = sorted(list(set(words)))\n",
    "\n",
    "# remove duplicate classes\n",
    "classes = sorted(list(set(classes)))\n",
    "\n",
    "print (len(documents), \"documents\")\n",
    "print (len(classes), \"classes\", classes)\n",
    "print()\n",
    "print (len(words), \"unique stemmed words\", words)"
   ]
  },
  {
   "cell_type": "code",
   "execution_count": 8,
   "metadata": {
    "colab": {},
    "colab_type": "code",
    "id": "vziuGlP1Iq-P"
   },
   "outputs": [],
   "source": [
    "# create training data\n",
    "training = []\n",
    "output = []\n",
    "# create an empty array for output\n",
    "output_empty = [0] * len(classes)\n",
    "\n",
    "# create training set, bag of words for each sentence\n",
    "for doc in documents:\n",
    "    # initialize bag of words\n",
    "    bag = []\n",
    "    # list of tokenized words for the pattern\n",
    "    pattern_words = doc[0]\n",
    "    # stemming each word\n",
    "    pattern_words = [stemmer.stem(word.lower()) for word in pattern_words]\n",
    "    # create bag of words array\n",
    "    for w in words:\n",
    "        bag.append(1) if w in pattern_words else bag.append(0)\n",
    "\n",
    "    # output is '1' for current tag and '0' for rest of other tags\n",
    "    output_row = list(output_empty)\n",
    "    output_row[classes.index(doc[1])] = 1\n",
    "\n",
    "    training.append([bag, output_row])\n",
    "\n",
    "# shuffling features and turning it into np.array\n",
    "random.shuffle(training)\n",
    "training = np.array(training)\n",
    "\n",
    "# creating training lists\n",
    "train_x = list(training[:,0])\n",
    "train_y = list(training[:,1])"
   ]
  },
  {
   "cell_type": "code",
   "execution_count": 9,
   "metadata": {
    "colab": {
     "base_uri": "https://localhost:8080/",
     "height": 119
    },
    "colab_type": "code",
    "id": "ZX8rC1x9PVTb",
    "outputId": "9f5d0db6-e657-46c3-a13e-386c907732ae"
   },
   "outputs": [
    {
     "name": "stdout",
     "output_type": "stream",
     "text": [
      "Training Step: 12499  | total loss: \u001b[1m\u001b[32m0.24565\u001b[0m\u001b[0m | time: 0.013s\n",
      "| Adam | epoch: 2500 | loss: 0.24565 - acc: 0.9608 -- iter: 112/114\n",
      "Training Step: 12500  | total loss: \u001b[1m\u001b[32m0.22764\u001b[0m\u001b[0m | time: 0.017s\n",
      "| Adam | epoch: 2500 | loss: 0.22764 - acc: 0.9647 -- iter: 114/114\n",
      "--\n",
      "INFO:tensorflow:C:\\Users\\Youssouf\\Desktop\\Projects\\ChatbotV2\\V3\\model.tflearn is not in all_model_checkpoint_paths. Manually adding it.\n"
     ]
    }
   ],
   "source": [
    "# resetting underlying graph data\n",
    "tf.reset_default_graph()\n",
    "\n",
    "# Building neural network\n",
    "net = tflearn.input_data(shape=[None, len(train_x[0])])\n",
    "net = tflearn.fully_connected(net, 28, activation=\"relu\")\n",
    "net = tflearn.fully_connected(net, 28, activation=\"relu\")\n",
    "net = tflearn.fully_connected(net, len(train_y[0]), activation='softmax')\n",
    "net = tflearn.regression(net)\n",
    "\n",
    "# Defining model and setting up tensorboard\n",
    "model = tflearn.DNN(net, tensorboard_dir='tflearn_logs')\n",
    "\n",
    "# Start training\n",
    "model.fit(train_x, train_y, n_epoch=2500, batch_size=28, show_metric=True)\n",
    "model.save('model.tflearn')"
   ]
  },
  {
   "cell_type": "code",
   "execution_count": 10,
   "metadata": {
    "colab": {},
    "colab_type": "code",
    "id": "ha2RGmK1Zz5l"
   },
   "outputs": [],
   "source": [
    "import pickle\n",
    "pickle.dump( {'words':words, 'classes':classes, 'train_x':train_x, 'train_y':train_y}, open( \"training_data\", \"wb\" ) )"
   ]
  },
  {
   "cell_type": "code",
   "execution_count": 11,
   "metadata": {
    "colab": {},
    "colab_type": "code",
    "id": "ux9WbDZvbAzf"
   },
   "outputs": [],
   "source": [
    "# restoring all the data structures\n",
    "data = pickle.load( open( \"training_data\", \"rb\" ) )\n",
    "words = data['words']\n",
    "classes = data['classes']\n",
    "train_x = data['train_x']\n",
    "train_y = data['train_y']"
   ]
  },
  {
   "cell_type": "code",
   "execution_count": 12,
   "metadata": {
    "colab": {},
    "colab_type": "code",
    "id": "Ms17AFyEbEjt"
   },
   "outputs": [],
   "source": [
    "with open('intents.json') as json_data:\n",
    "    intents = json.load(json_data, strict=False)"
   ]
  },
  {
   "cell_type": "code",
   "execution_count": 13,
   "metadata": {
    "colab": {
     "base_uri": "https://localhost:8080/",
     "height": 105
    },
    "colab_type": "code",
    "id": "WKYk9_FXbLfd",
    "outputId": "b8dc269f-8d6c-44c1-f8e4-a4b44076734c"
   },
   "outputs": [
    {
     "name": "stdout",
     "output_type": "stream",
     "text": [
      "WARNING:tensorflow:From C:\\Users\\Youssouf\\Anaconda3\\envs\\chatbot\\lib\\site-packages\\tensorflow\\python\\training\\saver.py:1266: checkpoint_exists (from tensorflow.python.training.checkpoint_management) is deprecated and will be removed in a future version.\n",
      "Instructions for updating:\n",
      "Use standard file APIs to check for files with this prefix.\n",
      "INFO:tensorflow:Restoring parameters from C:\\Users\\Youssouf\\Desktop\\Projects\\ChatbotV2\\V3\\model.tflearn\n"
     ]
    }
   ],
   "source": [
    "# load the saved model\n",
    "model.load('./model.tflearn')"
   ]
  },
  {
   "cell_type": "code",
   "execution_count": 14,
   "metadata": {
    "colab": {},
    "colab_type": "code",
    "id": "VB27k_vQbhu4"
   },
   "outputs": [],
   "source": [
    "def clean_up_sentence(sentence):\n",
    "    # tokenizing the pattern\n",
    "    sentence_words = nltk.word_tokenize(sentence)\n",
    "    # stemming each word\n",
    "    sentence_words = [stemmer.stem(word.lower()) for word in sentence_words]\n",
    "    return sentence_words\n",
    "\n",
    "# returning bag of words array: 0 or 1 for each word in the bag that exists in the sentence\n",
    "def bow(sentence, words, show_details=False):\n",
    "    # tokenizing the pattern\n",
    "    sentence_words = clean_up_sentence(sentence)\n",
    "    # generating bag of words\n",
    "    bag = [0]*len(words)  \n",
    "    for s in sentence_words:\n",
    "        for i,w in enumerate(words):\n",
    "            if w == s: \n",
    "                bag[i] = 1\n",
    "                if show_details:\n",
    "                    print (\"found in bag: %s\" % w)\n",
    "\n",
    "    return(np.array(bag))"
   ]
  },
  {
   "cell_type": "code",
   "execution_count": 26,
   "metadata": {
    "colab": {},
    "colab_type": "code",
    "id": "3lToEtkTb5Pr"
   },
   "outputs": [],
   "source": [
    "ERROR_THRESHOLD = 0.30\n",
    "def classify(sentence):\n",
    "    # generate probabilities from the model\n",
    "    results = model.predict([bow(sentence, words)])[0]\n",
    "    # filter out predictions below a threshold\n",
    "    results = [[i,r] for i,r in enumerate(results) if r>ERROR_THRESHOLD]\n",
    "    # sort by strength of probability\n",
    "    results.sort(key=lambda x: x[1], reverse=True)\n",
    "    return_list = []\n",
    "    for r in results:\n",
    "        return_list.append((classes[r[0]], r[1]))\n",
    "    # return tuple of intent and probability\n",
    "    return return_list\n",
    "\n",
    "def response(sentence, userID='123', show_details=False):\n",
    "    results = classify(sentence)\n",
    "    # if we have a classification then find the matching intent tag\n",
    "    if results:\n",
    "        # loop as long as there are matches to process\n",
    "        while results:\n",
    "            for i in intents['intents']:\n",
    "                # find a tag matching the first result\n",
    "                if i['tag'] == results[0][0]:\n",
    "                    # a random response from the intent\n",
    "                    return print(random.choice(i['responses']))\n",
    "\n",
    "            results.pop(0)\n",
    "    else:\n",
    "        print(\"Désolé je n'ai pas compris la question.\")"
   ]
  },
  {
   "cell_type": "code",
   "execution_count": 27,
   "metadata": {
    "colab": {
     "base_uri": "https://localhost:8080/",
     "height": 34
    },
    "colab_type": "code",
    "id": "eal_MyIEcC9X",
    "outputId": "a95ce926-d0e1-45e3-b6c3-c7ca4bb15560"
   },
   "outputs": [
    {
     "name": "stdout",
     "output_type": "stream",
     "text": [
      "inpu_tag, taux de confiance : [('salutation', 0.9342217)]\n"
     ]
    }
   ],
   "source": [
    "print(\"inpu_tag, taux de confiance :\",classify('Bonjour?'))"
   ]
  },
  {
   "cell_type": "code",
   "execution_count": 28,
   "metadata": {
    "colab": {},
    "colab_type": "code",
    "id": "zvFA4ef4cW96"
   },
   "outputs": [
    {
     "name": "stdout",
     "output_type": "stream",
     "text": [
      "Désolé je n'ai pas compris la question\n",
      "response, taux de confiance : None\n"
     ]
    }
   ],
   "source": [
    "print(\"response, taux de confiance :\",response('Boubou'))"
   ]
  },
  {
   "cell_type": "code",
   "execution_count": 43,
   "metadata": {
    "colab": {
     "base_uri": "https://localhost:8080/",
     "height": 54
    },
    "colab_type": "code",
    "id": "9ox0fJIlOIJ-",
    "outputId": "5eeb5807-32a5-4ff2-87fe-d8ea9b73a969"
   },
   "outputs": [
    {
     "name": "stdout",
     "output_type": "stream",
     "text": [
      "La COVID-19 est la maladie infectieuse causÃ©e par le dernier coronavirus qui a Ã©tÃ© dÃ©couvert.\n",
      "          Ce nouveau virus et cette maladie Ã©taient inconnus avant lâ€™apparition de la flambÃ©e Ã  Wuhan (Chine) en dÃ©cembre 2019.\n",
      "          La COVID-19 est maintenant pandÃ©mique et touche de nombreux pays dans le monde.\n"
     ]
    }
   ],
   "source": [
    "response('Qu’est-ce que la COVID-19 ?')"
   ]
  },
  {
   "cell_type": "code",
   "execution_count": 25,
   "metadata": {
    "colab": {},
    "colab_type": "code",
    "id": "4_QtpNdkc5wD"
   },
   "outputs": [
    {
     "name": "stdout",
     "output_type": "stream",
     "text": [
      "Désolé je n'ai pas compris la question\n",
      "Désolé je n'ai pas compris la question\n",
      "Désolé je n'ai pas compris la question\n",
      "Désolé je n'ai pas compris la question\n",
      "Désolé je n'ai pas compris la question\n",
      "Les symptÃ´mes les plus frÃ©quents de la â€ŽCOVID-19 sont la fiÃ¨vre, la toux sÃ¨che et la â€Žfatigue.\n",
      "          Dâ€™autres symptÃ´mes moins courants â€Žpeuvent Ã©galement apparaÃ®tre chez â€Žcertaines personnes, comme des â€Žcourbatures et des douleurs,\n",
      "          une congestion â€Žnasale, des maux de tÃªte, une conjonctivite, â€Ždes maux de gorge, une diarrhÃ©e, une perte â€Ždu goÃ»t ou de lâ€™odorat,\n",
      "          une Ã©ruption â€ŽcutanÃ©e ou une dÃ©coloration des doigts de la â€Žmain ou du pied. Ces symptÃ´mes sont â€ŽgÃ©nÃ©ralement bÃ©nins\n",
      "          et apparaissent de â€ŽmaniÃ¨re progressive. Certaines personnes, â€Žbien quâ€™infectÃ©es, ne prÃ©sentent que des â€ŽsymptÃ´mes trÃ¨s discrets.â€Ž\n",
      "          La plupart des patients (environ 80 %) â€ŽguÃ©rissent sans quâ€™il soit nÃ©cessaire de les â€Žhospitaliser.\n",
      "          Environ une personne sur cinq â€Žcontractant la maladie prÃ©sente des â€ŽsymptÃ´mes graves, notamment des â€ŽdifficultÃ©s Ã  respirer.\n",
      "          Les personnes plus â€ŽÃ¢gÃ©es et celles qui ont dâ€™autres problÃ¨mes â€Žde santÃ© (hypertension artÃ©rielle, â€ŽproblÃ¨mes cardiaques ou pulmonaires, â€Ž\n",
      "          diabÃ¨te ou cancer) ont plus de risque de â€ŽprÃ©senter des symptÃ´mes graves. Toutefois, â€Žnâ€™importe qui peut contracter la COVID-19\n",
      "          et â€Žtomber gravement malade. Les personnes â€Žde tout Ã¢ge qui prÃ©sentent de la fiÃ¨vre et/ou â€Žune toux associÃ©e Ã  des difficultÃ©s\n",
      "          Ã  â€Žrespirer/un essoufflement, une â€Ždouleur/une pression au niveau de la â€Žpoitrine, ou bien une perte de la parole ou â€Ždes difficultÃ©s\n",
      "          Ã  se dÃ©placer doivent â€Žconsulter un mÃ©decin immÃ©diatement. Il est â€ŽrecommandÃ©, dans la mesure du possible,\n",
      "          â€Ždâ€™appeler le prestataire de soins ou â€Žlâ€™Ã©tablissement de santÃ© au prÃ©alable, de â€Žsorte que le patient soit dirigÃ© vers le service â€ŽadaptÃ©.â€Ž\n"
     ]
    }
   ],
   "source": [
    "#Some of other context free responses.\n",
    "response('Quels sont les symptômes de la COVID-19 ?')"
   ]
  },
  {
   "cell_type": "code",
   "execution_count": 45,
   "metadata": {
    "colab": {},
    "colab_type": "code",
    "id": "3PNLGpl0gKCF"
   },
   "outputs": [
    {
     "name": "stdout",
     "output_type": "stream",
     "text": [
      "De rien!\n"
     ]
    }
   ],
   "source": [
    "response('Merci')"
   ]
  },
  {
   "cell_type": "code",
   "execution_count": 46,
   "metadata": {
    "colab": {},
    "colab_type": "code",
    "id": "wzeIGchZK2fJ"
   },
   "outputs": [
    {
     "name": "stdout",
     "output_type": "stream",
     "text": [
      "Bonne journÃ©e\n"
     ]
    }
   ],
   "source": [
    "response('Bye')"
   ]
  },
  {
   "cell_type": "code",
   "execution_count": 37,
   "metadata": {
    "colab": {
     "base_uri": "https://localhost:8080/",
     "height": 187
    },
    "colab_type": "code",
    "id": "SFI-jP97PWfy",
    "outputId": "5cf93002-4e75-4201-9047-0063714f299c"
   },
   "outputs": [
    {
     "name": "stdout",
     "output_type": "stream",
     "text": [
      "Start talking with the bot (type quit to stop)!\n",
      "You: bonjour, comment vas-tu ?\n",
      "tag, taux de confiance : [('salutation', 0.98656845)]\n",
      "Je vais bien, merci\n",
      "You: qu'est ce qu'un corona ?\n",
      "tag, taux de confiance : [('coronavirus', 0.9583687)]\n",
      "Les coronavirus forment une vaste famille de virus qui peuvent Ãªtre pathogÃ¨nes chez lâ€™animal ou chez lâ€™homme.\n",
      "          On sait que, chez lâ€™Ãªtre humain, plusieurs coronavirus peuvent entraÃ®ner des infections respiratoires dont les manifestations\n",
      "          vont du simple rhume Ã  des maladies plus graves comme le syndrome respiratoire du Moyen-Orient (MERS) et le syndrome respiratoire\n",
      "          aigu sÃ©vÃ¨re (SRAS). Le dernier coronavirus qui a Ã©tÃ© dÃ©couvert est responsable de la maladieÃ  coronavirus 2019 (COVID-19).\n",
      "You: merci\n",
      "tag, taux de confiance : [('merci', 0.8400942)]\n",
      "De rien!\n",
      "You: bye\n",
      "tag, taux de confiance : [('au revoir', 0.93256044)]\n",
      "Bonne journÃ©e\n",
      "You: quit\n"
     ]
    }
   ],
   "source": [
    "def clean_up_sentence(sentence):\n",
    "    # tokenizing the pattern\n",
    "    sentence_words = nltk.word_tokenize(sentence)\n",
    "    # stemming each word\n",
    "    sentence_words = [stemmer.stem(word.lower()) for word in sentence_words]\n",
    "    return sentence_words\n",
    "\n",
    "# returning bag of words array: 0 or 1 for each word in the bag that exists in the sentence\n",
    "def bow(sentence, words, show_details=False):\n",
    "    # tokenizing the pattern\n",
    "    sentence_words = clean_up_sentence(sentence)\n",
    "    # generating bag of words\n",
    "    bag = [0]*len(words)  \n",
    "    for s in sentence_words:\n",
    "        for i,w in enumerate(words):\n",
    "            if w == s: \n",
    "                bag[i] = 1\n",
    "                if show_details:\n",
    "                    print (\"found in bag: %s\" % w)\n",
    "\n",
    "    return(np.array(bag))\n",
    "\n",
    "\n",
    "ERROR_THRESHOLD = 0.30\n",
    "def classify(sentence):\n",
    "    # generate probabilities from the model\n",
    "    results = model.predict([bow(sentence, words)])[0]\n",
    "    # filter out predictions below a threshold\n",
    "    results = [[i,r] for i,r in enumerate(results) if r>ERROR_THRESHOLD]\n",
    "    # sort by strength of probability\n",
    "    results.sort(key=lambda x: x[1], reverse=True)\n",
    "    return_list = []\n",
    "    for r in results:\n",
    "        return_list.append((classes[r[0]], r[1]))\n",
    "    # return tuple of intent and probability\n",
    "    return return_list\n",
    "\n",
    "def response(sentence, userID='123', show_details=False):\n",
    "    results = classify(sentence)\n",
    "    # if we have a classification then find the matching intent tag\n",
    "    if results:\n",
    "        # loop as long as there are matches to process\n",
    "        while results:\n",
    "            for i in intents['intents']:\n",
    "                # find a tag matching the first result\n",
    "                if i['tag'] == results[0][0]:\n",
    "                    # a random response from the intent\n",
    "                    return print(random.choice(i['responses']))\n",
    "\n",
    "            results.pop(0)\n",
    "    else:\n",
    "        print(\"Désolé je n'ai pas compris la question.\")\n",
    "\n",
    "\n",
    "def chat():\n",
    "    print(\"Start talking with the bot (type quit to stop)!\")\n",
    "    while True:\n",
    "        inp = input(\"You: \")\n",
    "        if inp.lower() == \"quit\":\n",
    "            break\n",
    "        else:\n",
    "          print(\"tag, taux de confiance :\", classify(inp))\n",
    "          response(inp)\n",
    "\n",
    "\n",
    "    \n",
    "       \n",
    "chat()"
   ]
  },
  {
   "cell_type": "code",
   "execution_count": null,
   "metadata": {
    "colab": {},
    "colab_type": "code",
    "id": "bszxgYI5PWdv"
   },
   "outputs": [],
   "source": []
  },
  {
   "cell_type": "code",
   "execution_count": 0,
   "metadata": {
    "colab": {},
    "colab_type": "code",
    "id": "fIFiDChYPWbP"
   },
   "outputs": [],
   "source": []
  }
 ],
 "metadata": {
  "accelerator": "TPU",
  "colab": {
   "collapsed_sections": [],
   "name": "Final_Chatbot.ipynb",
   "provenance": []
  },
  "kernelspec": {
   "display_name": "Python 3",
   "language": "python",
   "name": "python3"
  },
  "language_info": {
   "codemirror_mode": {
    "name": "ipython",
    "version": 3
   },
   "file_extension": ".py",
   "mimetype": "text/x-python",
   "name": "python",
   "nbconvert_exporter": "python",
   "pygments_lexer": "ipython3",
   "version": "3.7.7"
  }
 },
 "nbformat": 4,
 "nbformat_minor": 1
}
