{
  "nbformat": 4,
  "nbformat_minor": 0,
  "metadata": {
    "colab": {
      "name": "Final_Chatbot.ipynb",
      "provenance": [],
      "collapsed_sections": []
    },
    "kernelspec": {
      "name": "python3",
      "display_name": "Python 3"
    },
    "accelerator": "TPU"
  },
  "cells": [
    {
      "cell_type": "code",
      "metadata": {
        "id": "V8hcLZioMnHD",
        "colab_type": "code",
        "colab": {
          "base_uri": "https://localhost:8080/",
          "height": 238
        },
        "outputId": "27950fc0-080d-40e7-97d8-a1805f39d3b8"
      },
      "source": [
        "!pip uninstall tensorflow"
      ],
      "execution_count": 6,
      "outputs": [
        {
          "output_type": "stream",
          "text": [
            "Uninstalling tensorflow-2.2.0:\n",
            "  Would remove:\n",
            "    /usr/local/bin/estimator_ckpt_converter\n",
            "    /usr/local/bin/saved_model_cli\n",
            "    /usr/local/bin/tensorboard\n",
            "    /usr/local/bin/tf_upgrade_v2\n",
            "    /usr/local/bin/tflite_convert\n",
            "    /usr/local/bin/toco\n",
            "    /usr/local/bin/toco_from_protos\n",
            "    /usr/local/lib/python3.6/dist-packages/tensorflow-2.2.0.dist-info/*\n",
            "    /usr/local/lib/python3.6/dist-packages/tensorflow/*\n",
            "Proceed (y/n)? y\n",
            "  Successfully uninstalled tensorflow-2.2.0\n"
          ],
          "name": "stdout"
        }
      ]
    },
    {
      "cell_type": "code",
      "metadata": {
        "id": "GTh5yjFKMnDM",
        "colab_type": "code",
        "colab": {
          "base_uri": "https://localhost:8080/",
          "height": 649
        },
        "outputId": "b7cdf5b2-bce6-4ab0-c27a-1667bbeed20b"
      },
      "source": [
        "!pip install tensorflow==1.13.2"
      ],
      "execution_count": 7,
      "outputs": [
        {
          "output_type": "stream",
          "text": [
            "Collecting tensorflow==1.13.2\n",
            "\u001b[?25l  Downloading https://files.pythonhosted.org/packages/db/d3/651f95288a6cd9094f7411cdd90ef12a3d01a268009e0e3cd66b5c8d65bd/tensorflow-1.13.2-cp36-cp36m-manylinux1_x86_64.whl (92.6MB)\n",
            "\u001b[K     |████████████████████████████████| 92.6MB 1.2MB/s \n",
            "\u001b[?25hRequirement already satisfied: absl-py>=0.1.6 in /usr/local/lib/python3.6/dist-packages (from tensorflow==1.13.2) (0.9.0)\n",
            "Requirement already satisfied: keras-preprocessing>=1.0.5 in /usr/local/lib/python3.6/dist-packages (from tensorflow==1.13.2) (1.1.2)\n",
            "Collecting tensorflow-estimator<1.14.0rc0,>=1.13.0\n",
            "\u001b[?25l  Downloading https://files.pythonhosted.org/packages/bb/48/13f49fc3fa0fdf916aa1419013bb8f2ad09674c275b4046d5ee669a46873/tensorflow_estimator-1.13.0-py2.py3-none-any.whl (367kB)\n",
            "\u001b[K     |████████████████████████████████| 368kB 24.7MB/s \n",
            "\u001b[?25hRequirement already satisfied: gast>=0.2.0 in /usr/local/lib/python3.6/dist-packages (from tensorflow==1.13.2) (0.3.3)\n",
            "Requirement already satisfied: wheel>=0.26 in /usr/local/lib/python3.6/dist-packages (from tensorflow==1.13.2) (0.34.2)\n",
            "Collecting tensorboard<1.14.0,>=1.13.0\n",
            "\u001b[?25l  Downloading https://files.pythonhosted.org/packages/0f/39/bdd75b08a6fba41f098b6cb091b9e8c7a80e1b4d679a581a0ccd17b10373/tensorboard-1.13.1-py3-none-any.whl (3.2MB)\n",
            "\u001b[K     |████████████████████████████████| 3.2MB 43.9MB/s \n",
            "\u001b[?25hRequirement already satisfied: six>=1.10.0 in /usr/local/lib/python3.6/dist-packages (from tensorflow==1.13.2) (1.12.0)\n",
            "Requirement already satisfied: keras-applications>=1.0.6 in /usr/local/lib/python3.6/dist-packages (from tensorflow==1.13.2) (1.0.8)\n",
            "Requirement already satisfied: protobuf>=3.6.1 in /usr/local/lib/python3.6/dist-packages (from tensorflow==1.13.2) (3.10.0)\n",
            "Requirement already satisfied: grpcio>=1.8.6 in /usr/local/lib/python3.6/dist-packages (from tensorflow==1.13.2) (1.29.0)\n",
            "Requirement already satisfied: numpy<2.0,>=1.16.0 in /usr/local/lib/python3.6/dist-packages (from tensorflow==1.13.2) (1.18.4)\n",
            "Requirement already satisfied: astor>=0.6.0 in /usr/local/lib/python3.6/dist-packages (from tensorflow==1.13.2) (0.8.1)\n",
            "Requirement already satisfied: termcolor>=1.1.0 in /usr/local/lib/python3.6/dist-packages (from tensorflow==1.13.2) (1.1.0)\n",
            "Collecting mock>=2.0.0\n",
            "  Downloading https://files.pythonhosted.org/packages/cd/74/d72daf8dff5b6566db857cfd088907bb0355f5dd2914c4b3ef065c790735/mock-4.0.2-py3-none-any.whl\n",
            "Requirement already satisfied: markdown>=2.6.8 in /usr/local/lib/python3.6/dist-packages (from tensorboard<1.14.0,>=1.13.0->tensorflow==1.13.2) (3.2.2)\n",
            "Requirement already satisfied: werkzeug>=0.11.15 in /usr/local/lib/python3.6/dist-packages (from tensorboard<1.14.0,>=1.13.0->tensorflow==1.13.2) (1.0.1)\n",
            "Requirement already satisfied: h5py in /usr/local/lib/python3.6/dist-packages (from keras-applications>=1.0.6->tensorflow==1.13.2) (2.10.0)\n",
            "Requirement already satisfied: setuptools in /usr/local/lib/python3.6/dist-packages (from protobuf>=3.6.1->tensorflow==1.13.2) (47.1.1)\n",
            "Requirement already satisfied: importlib-metadata; python_version < \"3.8\" in /usr/local/lib/python3.6/dist-packages (from markdown>=2.6.8->tensorboard<1.14.0,>=1.13.0->tensorflow==1.13.2) (1.6.0)\n",
            "Requirement already satisfied: zipp>=0.5 in /usr/local/lib/python3.6/dist-packages (from importlib-metadata; python_version < \"3.8\"->markdown>=2.6.8->tensorboard<1.14.0,>=1.13.0->tensorflow==1.13.2) (3.1.0)\n",
            "Installing collected packages: mock, tensorflow-estimator, tensorboard, tensorflow\n",
            "  Found existing installation: tensorflow-estimator 2.2.0\n",
            "    Uninstalling tensorflow-estimator-2.2.0:\n",
            "      Successfully uninstalled tensorflow-estimator-2.2.0\n",
            "  Found existing installation: tensorboard 2.2.2\n",
            "    Uninstalling tensorboard-2.2.2:\n",
            "      Successfully uninstalled tensorboard-2.2.2\n",
            "Successfully installed mock-4.0.2 tensorboard-1.13.1 tensorflow-1.13.2 tensorflow-estimator-1.13.0\n"
          ],
          "name": "stdout"
        }
      ]
    },
    {
      "cell_type": "code",
      "metadata": {
        "id": "pbINpEXtMnBN",
        "colab_type": "code",
        "colab": {
          "base_uri": "https://localhost:8080/",
          "height": 51
        },
        "outputId": "e3219c60-021d-42d7-f39d-a2626a514b29"
      },
      "source": [
        "!pip install nltk"
      ],
      "execution_count": 8,
      "outputs": [
        {
          "output_type": "stream",
          "text": [
            "Requirement already satisfied: nltk in /usr/local/lib/python3.6/dist-packages (3.2.5)\n",
            "Requirement already satisfied: six in /usr/local/lib/python3.6/dist-packages (from nltk) (1.12.0)\n"
          ],
          "name": "stdout"
        }
      ]
    },
    {
      "cell_type": "code",
      "metadata": {
        "id": "oT5G2bFlNBvp",
        "colab_type": "code",
        "colab": {
          "base_uri": "https://localhost:8080/",
          "height": 238
        },
        "outputId": "d453f6da-9a95-4aa9-e208-6d06b9205839"
      },
      "source": [
        "!pip install tflearn"
      ],
      "execution_count": 9,
      "outputs": [
        {
          "output_type": "stream",
          "text": [
            "Collecting tflearn\n",
            "\u001b[?25l  Downloading https://files.pythonhosted.org/packages/16/ec/e9ce1b52e71f6dff3bd944f020cef7140779e783ab27512ea7c7275ddee5/tflearn-0.3.2.tar.gz (98kB)\n",
            "\r\u001b[K     |███▎                            | 10kB 16.2MB/s eta 0:00:01\r\u001b[K     |██████▋                         | 20kB 2.2MB/s eta 0:00:01\r\u001b[K     |██████████                      | 30kB 2.8MB/s eta 0:00:01\r\u001b[K     |█████████████▎                  | 40kB 3.0MB/s eta 0:00:01\r\u001b[K     |████████████████▋               | 51kB 2.4MB/s eta 0:00:01\r\u001b[K     |████████████████████            | 61kB 2.8MB/s eta 0:00:01\r\u001b[K     |███████████████████████▎        | 71kB 3.0MB/s eta 0:00:01\r\u001b[K     |██████████████████████████▋     | 81kB 3.3MB/s eta 0:00:01\r\u001b[K     |██████████████████████████████  | 92kB 3.5MB/s eta 0:00:01\r\u001b[K     |████████████████████████████████| 102kB 2.3MB/s \n",
            "\u001b[?25hRequirement already satisfied: numpy in /usr/local/lib/python3.6/dist-packages (from tflearn) (1.18.4)\n",
            "Requirement already satisfied: six in /usr/local/lib/python3.6/dist-packages (from tflearn) (1.12.0)\n",
            "Requirement already satisfied: Pillow in /usr/local/lib/python3.6/dist-packages (from tflearn) (7.0.0)\n",
            "Building wheels for collected packages: tflearn\n",
            "  Building wheel for tflearn (setup.py) ... \u001b[?25l\u001b[?25hdone\n",
            "  Created wheel for tflearn: filename=tflearn-0.3.2-cp36-none-any.whl size=128208 sha256=cd58bd20e1300da3672e1bfac15c15bd177946c00420b5ab7f15f140cb2bbb61\n",
            "  Stored in directory: /root/.cache/pip/wheels/d0/f6/69/0ef3ee395aac2e5d15d89efd29a9a216f3c27767b43b72c006\n",
            "Successfully built tflearn\n",
            "Installing collected packages: tflearn\n",
            "Successfully installed tflearn-0.3.2\n"
          ],
          "name": "stdout"
        }
      ]
    },
    {
      "cell_type": "code",
      "metadata": {
        "id": "nMcYmPQF3krn",
        "colab_type": "code",
        "outputId": "ad1f862f-5ba0-436e-ef92-10c1bfdd4520",
        "colab": {
          "base_uri": "https://localhost:8080/",
          "height": 326
        }
      },
      "source": [
        "# Libraries needed for NLP\n",
        "import nltk\n",
        "nltk.download('punkt')\n",
        "from nltk.stem.lancaster import LancasterStemmer\n",
        "stemmer = LancasterStemmer()\n",
        "\n",
        "# Libraries needed for Tensorflow processing\n",
        "import tensorflow as tf\n",
        "import numpy as np\n",
        "import tflearn\n",
        "import random\n",
        "import json"
      ],
      "execution_count": 10,
      "outputs": [
        {
          "output_type": "stream",
          "text": [
            "[nltk_data] Downloading package punkt to /root/nltk_data...\n",
            "[nltk_data]   Unzipping tokenizers/punkt.zip.\n"
          ],
          "name": "stdout"
        },
        {
          "output_type": "stream",
          "text": [
            "/usr/local/lib/python3.6/dist-packages/tensorflow/python/framework/dtypes.py:526: FutureWarning: Passing (type, 1) or '1type' as a synonym of type is deprecated; in a future version of numpy, it will be understood as (type, (1,)) / '(1,)type'.\n",
            "  _np_qint8 = np.dtype([(\"qint8\", np.int8, 1)])\n",
            "/usr/local/lib/python3.6/dist-packages/tensorflow/python/framework/dtypes.py:527: FutureWarning: Passing (type, 1) or '1type' as a synonym of type is deprecated; in a future version of numpy, it will be understood as (type, (1,)) / '(1,)type'.\n",
            "  _np_quint8 = np.dtype([(\"quint8\", np.uint8, 1)])\n",
            "/usr/local/lib/python3.6/dist-packages/tensorflow/python/framework/dtypes.py:528: FutureWarning: Passing (type, 1) or '1type' as a synonym of type is deprecated; in a future version of numpy, it will be understood as (type, (1,)) / '(1,)type'.\n",
            "  _np_qint16 = np.dtype([(\"qint16\", np.int16, 1)])\n",
            "/usr/local/lib/python3.6/dist-packages/tensorflow/python/framework/dtypes.py:529: FutureWarning: Passing (type, 1) or '1type' as a synonym of type is deprecated; in a future version of numpy, it will be understood as (type, (1,)) / '(1,)type'.\n",
            "  _np_quint16 = np.dtype([(\"quint16\", np.uint16, 1)])\n",
            "/usr/local/lib/python3.6/dist-packages/tensorflow/python/framework/dtypes.py:530: FutureWarning: Passing (type, 1) or '1type' as a synonym of type is deprecated; in a future version of numpy, it will be understood as (type, (1,)) / '(1,)type'.\n",
            "  _np_qint32 = np.dtype([(\"qint32\", np.int32, 1)])\n",
            "/usr/local/lib/python3.6/dist-packages/tensorflow/python/framework/dtypes.py:535: FutureWarning: Passing (type, 1) or '1type' as a synonym of type is deprecated; in a future version of numpy, it will be understood as (type, (1,)) / '(1,)type'.\n",
            "  np_resource = np.dtype([(\"resource\", np.ubyte, 1)])\n"
          ],
          "name": "stderr"
        },
        {
          "output_type": "stream",
          "text": [
            "WARNING:tensorflow:From /usr/local/lib/python3.6/dist-packages/tensorflow/python/framework/op_def_library.py:263: colocate_with (from tensorflow.python.framework.ops) is deprecated and will be removed in a future version.\n",
            "Instructions for updating:\n",
            "Colocations handled automatically by placer.\n"
          ],
          "name": "stdout"
        }
      ]
    },
    {
      "cell_type": "code",
      "metadata": {
        "id": "zitZRhjq9Vqu",
        "colab_type": "code",
        "outputId": "0d610609-0f91-4158-cc80-b894f108510b",
        "colab": {
          "resources": {
            "http://localhost:8080/nbextensions/google.colab/files.js": {
              "data": "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",
              "ok": true,
              "headers": [
                [
                  "content-type",
                  "application/javascript"
                ]
              ],
              "status": 200,
              "status_text": ""
            }
          },
          "base_uri": "https://localhost:8080/",
          "height": 111
        }
      },
      "source": [
        "from google.colab import files\n",
        "files.upload()"
      ],
      "execution_count": 12,
      "outputs": [
        {
          "output_type": "display_data",
          "data": {
            "text/html": [
              "\n",
              "     <input type=\"file\" id=\"files-0e7d3ad0-0be5-4c30-a753-92ba8a9a937b\" name=\"files[]\" multiple disabled />\n",
              "     <output id=\"result-0e7d3ad0-0be5-4c30-a753-92ba8a9a937b\">\n",
              "      Upload widget is only available when the cell has been executed in the\n",
              "      current browser session. Please rerun this cell to enable.\n",
              "      </output>\n",
              "      <script src=\"/nbextensions/google.colab/files.js\"></script> "
            ],
            "text/plain": [
              "<IPython.core.display.HTML object>"
            ]
          },
          "metadata": {
            "tags": []
          }
        },
        {
          "output_type": "stream",
          "text": [
            "Saving intents.json to intents.json\n"
          ],
          "name": "stdout"
        },
        {
          "output_type": "execute_result",
          "data": {
            "text/plain": [
              "{'intents.json': b'{\"intents\": [\\r\\n\\r\\n        {\"tag\": \"salutation\",\\r\\n         \"patterns\": [\"Salut\", \"Comment vas-tu\", \"\\xc3\\xa7a va ?\", \"Bonjour\", \"hello\"],\\r\\n         \"responses\": [\"Hello\", \"Je vais bien, merci\", \"\\xc3\\xa7a va oklm\", \"Bonjour\", \"Hi\"],\\r\\n         \"context_set\": \"\"\\r\\n        },\\r\\n        {\"tag\": \"au revoir\",\\r\\n         \"patterns\": [\"Bye\", \"Au revoir\", \"\\xc3\\xa0 plus tard\", \"ciao\"],\\r\\n         \"responses\": [\"Au plaisir, merci\", \"Bonne journ\\xc3\\xa9e\", \"Bye! Reviens vite.\"]\\r\\n        },\\r\\n        {\"tag\": \"merci\",\\r\\n         \"patterns\": [\"Merci\", \"Je te remercie\", \"Merci beaucoup\"],\\r\\n         \"responses\": [\"Ravi de t\\'avoir aid\\xc3\\xa9\", \"De rien!\", \"Avec plaisir\"]\\r\\n        },\\r\\n        {\"tag\": \"coronavirus\",\\r\\n         \"patterns\": [\"Qu\\xe2\\x80\\x99est-ce qu\\xe2\\x80\\x99un coronavirus ?\", \"C\\'est quoi le coronavirus ?\", \"C\\'est quoi un coronavirus ?\", \"C\\'est quoi le corona ?\", \"Qu\\'est ce qu\\'un corona ?\"],\\r\\n         \"responses\": [\"Les coronavirus forment une vaste famille de virus qui peuvent \\xc3\\xaatre pathog\\xc3\\xa8nes chez l\\xe2\\x80\\x99animal ou chez l\\xe2\\x80\\x99homme. On sait que, chez l\\xe2\\x80\\x99\\xc3\\xaatre humain, plusieurs coronavirus peuvent entra\\xc3\\xaener des infections respiratoires dont les manifestations vont du simple rhume \\xc3\\xa0 des maladies plus graves comme le syndrome respiratoire du Moyen-Orient (MERS) et le syndrome respiratoire aigu s\\xc3\\xa9v\\xc3\\xa8re (SRAS). Le dernier coronavirus qui a \\xc3\\xa9t\\xc3\\xa9 d\\xc3\\xa9couvert est responsable de la maladie\\r\\n          \\xc3\\xa0 coronavirus 2019 (COVID-19).\"]\\r\\n        },\\r\\n        {\"tag\": \"COVID-19\",\\r\\n         \"patterns\": [\"Qu\\xe2\\x80\\x99est-ce que la COVID-19 ?\", \"Qu\\xe2\\x80\\x99est-ce que la COVID 19 ?\", \"Qu\\xe2\\x80\\x99est-ce que une COVID-19 ?\", \"C\\'est quoi une COVID-19 ?\", \"C\\'est quoi la COVID-19 ?\"],\\r\\n         \"responses\": [\"La COVID-19 est la maladie infectieuse caus\\xc3\\xa9e par le dernier coronavirus qui a \\xc3\\xa9t\\xc3\\xa9 d\\xc3\\xa9couvert. Ce nouveau virus et cette maladie \\xc3\\xa9taient inconnus avant l\\xe2\\x80\\x99apparition de la flamb\\xc3\\xa9e \\xc3\\xa0 Wuhan (Chine) en d\\xc3\\xa9cembre 2019. La COVID-19 est maintenant pand\\xc3\\xa9mique et touche de nombreux pays dans le monde.\"]\\r\\n        },\\r\\n        {\"tag\": \"sympt\\xc3\\xb4mes\",\\r\\n         \"patterns\": [\"Quels sont les sympt\\xc3\\xb4mes de la COVID-19 ?\",\"Quels sont les sympt\\xc3\\xb4mes de la COVID 19 ?\", \"C\\'est quoi les sympt\\xc3\\xb4mes da la COVID-19 ?\", \"La COVID-19 a quoi comme sympt\\xc3\\xb4mes ?\", \"La COVID 19 a quoi comme sympt\\xc3\\xb4mes ?\"],\\r\\n         \"responses\": [\"Les sympt\\xc3\\xb4mes les plus fr\\xc3\\xa9quents de la \\xe2\\x80\\x8eCOVID-19 sont la fi\\xc3\\xa8vre, la toux s\\xc3\\xa8che et la \\xe2\\x80\\x8efatigue. D\\xe2\\x80\\x99autres sympt\\xc3\\xb4mes moins courants \\xe2\\x80\\x8epeuvent \\xc3\\xa9galement appara\\xc3\\xaetre chez \\xe2\\x80\\x8ecertaines personnes, comme des \\xe2\\x80\\x8ecourbatures et des douleurs, une congestion \\xe2\\x80\\x8enasale, des maux de t\\xc3\\xaate, une conjonctivite, \\xe2\\x80\\x8edes maux de gorge, une diarrh\\xc3\\xa9e, une perte \\xe2\\x80\\x8edu go\\xc3\\xbbt ou de l\\xe2\\x80\\x99odorat, une \\xc3\\xa9ruption \\xe2\\x80\\x8ecutan\\xc3\\xa9e ou une d\\xc3\\xa9coloration des doigts de la \\xe2\\x80\\x8emain ou du pied. Ces sympt\\xc3\\xb4mes sont \\xe2\\x80\\x8eg\\xc3\\xa9n\\xc3\\xa9ralement b\\xc3\\xa9nins et apparaissent de \\xe2\\x80\\x8emani\\xc3\\xa8re progressive. Certaines personnes, \\xe2\\x80\\x8ebien qu\\xe2\\x80\\x99infect\\xc3\\xa9es, ne pr\\xc3\\xa9sentent que des \\xe2\\x80\\x8esympt\\xc3\\xb4mes tr\\xc3\\xa8s discrets.\\xe2\\x80\\x8e\\r\\n         La plupart des patients (environ 80 %) \\xe2\\x80\\x8egu\\xc3\\xa9rissent sans qu\\xe2\\x80\\x99il soit n\\xc3\\xa9cessaire de les \\xe2\\x80\\x8ehospitaliser. Environ une personne sur cinq \\xe2\\x80\\x8econtractant la maladie pr\\xc3\\xa9sente des \\xe2\\x80\\x8esympt\\xc3\\xb4mes graves, notamment des \\xe2\\x80\\x8edifficult\\xc3\\xa9s \\xc3\\xa0 respirer. Les personnes plus \\xe2\\x80\\x8e\\xc3\\xa2g\\xc3\\xa9es et celles qui ont d\\xe2\\x80\\x99autres probl\\xc3\\xa8mes \\xe2\\x80\\x8ede sant\\xc3\\xa9 (hypertension art\\xc3\\xa9rielle, \\xe2\\x80\\x8eprobl\\xc3\\xa8mes cardiaques ou pulmonaires, \\xe2\\x80\\x8ediab\\xc3\\xa8te ou cancer) ont plus de risque de \\xe2\\x80\\x8epr\\xc3\\xa9senter des sympt\\xc3\\xb4mes graves. Toutefois, \\xe2\\x80\\x8en\\xe2\\x80\\x99importe qui peut contracter la COVID-19 et \\xe2\\x80\\x8etomber gravement malade. Les personnes \\xe2\\x80\\x8ede tout \\xc3\\xa2ge qui pr\\xc3\\xa9sentent de la fi\\xc3\\xa8vre et/ou \\xe2\\x80\\x8eune toux associ\\xc3\\xa9e \\xc3\\xa0 des difficult\\xc3\\xa9s \\xc3\\xa0 \\xe2\\x80\\x8erespirer/un essoufflement, une \\xe2\\x80\\x8edouleur/une pression au niveau de la \\xe2\\x80\\x8epoitrine, ou bien une perte de la parole ou \\xe2\\x80\\x8edes difficult\\xc3\\xa9s \\xc3\\xa0 se d\\xc3\\xa9placer doivent \\xe2\\x80\\x8econsulter un m\\xc3\\xa9decin imm\\xc3\\xa9diatement. Il est \\xe2\\x80\\x8erecommand\\xc3\\xa9, dans la mesure du possible, \\xe2\\x80\\x8ed\\xe2\\x80\\x99appeler le prestataire de soins ou \\xe2\\x80\\x8el\\xe2\\x80\\x99\\xc3\\xa9tablissement de sant\\xc3\\xa9 au pr\\xc3\\xa9alable, de \\xe2\\x80\\x8esorte que le patient soit dirig\\xc3\\xa9 vers le service \\xe2\\x80\\x8eadapt\\xc3\\xa9.\\xe2\\x80\\x8e\"]\\r\\n        },\\r\\n        {\"tag\": \"consultation\",\\r\\n         \"patterns\": [\"Que faire en cas de sympt\\xc3\\xb4mes de la COVID-19\", \"Que faire en cas de sympt\\xc3\\xb4mes de la COVID 19\", \"Je pense avoir des sympt\\xc3\\xb4mes de la COVID 19, que dois-je faire ?\", \"Quand dois-je consulter un m\\xc3\\xa9decin ?\"],\\r\\n         \"responses\": [\"En cas de sympt\\xc3\\xb4mes discrets, par exemple une toux ou une fi\\xc3\\xa8vre l\\xc3\\xa9g\\xc3\\xa8re, il n\\xe2\\x80\\x99est g\\xc3\\xa9n\\xc3\\xa9ralement pas n\\xc3\\xa9cessaire de consulter un m\\xc3\\xa9decin. Restez chez vous, isolez-vous et surveillez l\\xe2\\x80\\x99\\xc3\\xa9volution des sympt\\xc3\\xb4mes. Suivez les instructions nationales en mati\\xc3\\xa8re d\\xe2\\x80\\x99auto-isolement. Cependant, si vous habitez dans une r\\xc3\\xa9gion o\\xc3\\xb9 le paludisme ou la dengue s\\xc3\\xa9vit, il faut absolument consulter un m\\xc3\\xa9decin en cas de fi\\xc3\\xa8vre. Quand vous allez dans un \\xc3\\xa9tablissement de sant\\xc3\\xa9, portez un masque, restez \\xc3\\xa0 une distance d\\xe2\\x80\\x99au moins un m\\xc3\\xa8tre des autres personnes et ne touchez pas les surfaces avec les mains. Aidez les enfants malades \\xc3\\xa0 suivre \\xc3\\xa9galement ces conseils.\"]\\r\\n        },\\r\\n        {\"tag\": \"respiration\",\\r\\n         \"patterns\": [\"J\\'ai des difficult\\xc3\\xa9s \\xc3\\xa0 respirer\", \"J\\'ai des douleurs dans la poitrine\", \"J\\'ai des oppressions dans la poitrine\"],\\r\\n         \"responses\": [\"En cas de difficult\\xc3\\xa9s \\xc3\\xa0 respirer ou de douleur/d\\xe2\\x80\\x99oppression dans la poitrine, consultez imm\\xc3\\xa9diatement un m\\xc3\\xa9decin. Si possible, appelez d\\xe2\\x80\\x99abord votre m\\xc3\\xa9decin afin qu\\xe2\\x80\\x99il puisse vous orienter vers l\\xe2\\x80\\x99\\xc3\\xa9tablissement de sant\\xc3\\xa9 le plus adapt\\xc3\\xa9.\"]\\r\\n        },\\r\\n        {\"tag\": \"propagation\",\\r\\n         \"patterns\":[\"Comment la COVID-19 se propage-t-elle ?\", \"Comment la COVID 19 se propage-t-elle ?\", \"Comment se propage la COVID-19 ?\", \"Comment se propage la COVID 19 ?\"],\\r\\n         \"responses\": [\"La COVID-19 est transmise par des personnes porteuses du virus. La maladie se transmet principalement d\\xe2\\x80\\x99une personne \\xc3\\xa0 l\\xe2\\x80\\x99autre par le biais de gouttelettes respiratoires expuls\\xc3\\xa9es par le nez ou par la bouche lorsqu\\xe2\\x80\\x99une personne malade tousse, \\xc3\\xa9ternue ou parle. Ces gouttelettes sont relativement lourdes, ne parcourent pas de grandes distances et tombent rapidement au sol. Il est possible de contracter la COVID-19 en cas d\\xe2\\x80\\x99inhalation de ces gouttelettes. C\\xe2\\x80\\x99est pourquoi il est important de se tenir \\xc3\\xa0 un m\\xc3\\xa8tre au moins des autres personnes. Ces gouttelettes peuvent se retrouver sur des objets ou des surfaces autour de la personne malade (tables, poign\\xc3\\xa9es de porte et rampes, par exemple). On peut alors contracter la COVID-19 si on touche ces objets ou ces surfaces et si on se touche ensuite les yeux, le nez ou la bouche. Il faut donc se laver r\\xc3\\xa9guli\\xc3\\xa8rement les mains \\xc3\\xa0 l\\xe2\\x80\\x99eau et au savon ou avec une solution hydroalcoolique.\\r\\n         L\\xe2\\x80\\x99OMS examine les travaux de recherche en cours sur la mani\\xc3\\xa8re dont la COVID-19 se propage et elle continuera \\xc3\\xa0 communiquer les r\\xc3\\xa9sultats actualis\\xc3\\xa9s.\"]\\r\\n        },\\r\\n        {\"tag\": \"contraction\",\\r\\n         \"patterns\": [\"Peut-on contracter la COVID-19 au contact d\\'une personne qui ne pr\\xc3\\xa9sente aucun sympt\\xc3\\xb4me ?\", \"Peut-on contracter la COVID 19 au contact d\\'une autre personne n\\'ayant aucun sympt\\xc3\\xb4me ?\", \"Peut-on contracter la COVID-19 au contact d\\'une autre personne ?\"],\\r\\n         \"responses\": [\"La COVD-19 se propage principalement par les gouttelettes respiratoires expuls\\xc3\\xa9es par les personnes qui toussent ou qui ont d\\xe2\\x80\\x99autres sympt\\xc3\\xb4mes, comme la fi\\xc3\\xa8vre ou la fatigue. Beaucoup de personnes atteintes ne pr\\xc3\\xa9sentent que des sympt\\xc3\\xb4mes discrets. C\\xe2\\x80\\x99est particuli\\xc3\\xa8rement vrai aux premiers stades de la maladie. Il est donc possible de contracter la COVID-19 au contact d\\xe2\\x80\\x99une personne qui n\\xe2\\x80\\x99a, par exemple, qu\\xe2\\x80\\x99une toux l\\xc3\\xa9g\\xc3\\xa8re mais qui ne se sent pas malade.\\r\\n         Selon certaines informations, les personnes asymptomatiques pourraient transmettre le virus. On ne sait pas encore \\xc3\\xa0 quelle fr\\xc3\\xa9quence cela se produit. L\\xe2\\x80\\x99OMS examine les travaux de recherche en cours sur ce point et elle continuera \\xc3\\xa0 communiquer des r\\xc3\\xa9sultats actualis\\xc3\\xa9s.\"]\\r\\n        },\\r\\n        {\"tag\": \"prot\\xc3\\xa9ger\",\\r\\n         \"patterns\": [\"Comment se prot\\xc3\\xa9ger et prot\\xc3\\xa9ger les autres si on ne sait pas qui est infect\\xc3\\xa9 ?\", \"Comment se prot\\xc3\\xa9ger et prot\\xc3\\xa9ger les autres en cas d\\'infection ?\", \"Comment prot\\xc3\\xa9ger les autres en cas d\\'infection ?\", \"Comment se prot\\xc3\\xa9ger autres si on ne sait pas qui est infect\\xc3\\xa9 ?\"],\\r\\n         \"responses\": [\"Il est important de se laver SYST\\xc3\\x89MATIQUEMENT les mains et de TOUJOURS respecter les r\\xc3\\xa8gles d\\xe2\\x80\\x99hygi\\xc3\\xa8ne respiratoire. C\\xe2\\x80\\x99est la meilleure fa\\xc3\\xa7on de se prot\\xc3\\xa9ger et de prot\\xc3\\xa9ger les autres.\\r\\n         Si possible, tenez-vous \\xc3\\xa0 au moins un m\\xc3\\xa8tre des autres personnes. C\\xe2\\x80\\x99est particuli\\xc3\\xa8rement important si la personne la plus proche de vous tousse ou \\xc3\\xa9ternue. Comme certaines personnes infect\\xc3\\xa9es ne pr\\xc3\\xa9sentent pas de sympt\\xc3\\xb4mes ou pr\\xc3\\xa9sentent des sympt\\xc3\\xb4mes discrets, il est pr\\xc3\\xa9f\\xc3\\xa9rable de toujours garder une distance physique avec les autres personnes si vous habitez dans une r\\xc3\\xa9gion o\\xc3\\xb9 le virus de la COVID-19 circule. \"]\\r\\n        },\\r\\n        {\"tag\": \"contact\",\\r\\n         \"patterns\": [\"Que faire si j\\'ai \\xc3\\xa9t\\xc3\\xa9 en contact proche avec quelqu\\'un qui a la COVID-19 ? \", \"Que faire si j\\'ai \\xc3\\xa9t\\xc3\\xa9 en contact proche avec quelqu\\'un contamin\\xc3\\xa9 par la COVID-19 ?\", \"Que faire si j\\'ai \\xc3\\xa9t\\xc3\\xa9 en contact avec quelqu\\'un contamin\\xc3\\xa9 par le coronavirus ? \"],\\r\\n         \"responses\": [\"Si vous avez \\xc3\\xa9t\\xc3\\xa9 en contact proche avec quelqu\\xe2\\x80\\x99un qui a la COVID-19, il se peut que vous soyez infect\\xc3\\xa9.\\r\\n         On consid\\xc3\\xa8re qu\\xe2\\x80\\x99il y a eu contact proche si vous vivez avec une personne malade ou si vous vous \\xc3\\xaates trouv\\xc3\\xa9 \\xc3\\xa0 moins d\\xe2\\x80\\x99un m\\xc3\\xa8tre cette personne. Dans ces cas, il est pr\\xc3\\xa9f\\xc3\\xa9rable que vous restiez chez vous.\\r\\n         Cependant, si vous habitez dans une r\\xc3\\xa9gion o\\xc3\\xb9 le paludisme ou la dengue s\\xc3\\xa9vit, il faut absolument consulter un m\\xc3\\xa9decin en cas de fi\\xc3\\xa8vre. Quand vous allez dans un \\xc3\\xa9tablissement de sant\\xc3\\xa9, portez un masque, restez \\xc3\\xa0 une distance d\\xe2\\x80\\x99au moins un m\\xc3\\xa8tre des autres personnes et ne touchez pas les surfaces avec les mains. Aidez les enfants malades \\xc3\\xa0 suivre \\xc3\\xa9galement ces conseils.\\r\\n         Si vous n\\xe2\\x80\\x99habitez pas dans une r\\xc3\\xa9gion o\\xc3\\xb9 le paludisme ou la dengue s\\xc3\\xa9vit, proc\\xc3\\xa9dez comme suit :\\r\\n         Si vous pr\\xc3\\xa9sentez des sympt\\xc3\\xb4mes, m\\xc3\\xaame tr\\xc3\\xa8s discrets, comme une l\\xc3\\xa9g\\xc3\\xa8re fi\\xc3\\xa8vre et des douleurs, vous devez vous isoler \\xc3\\xa0 votre domicile.\\r\\n         En pr\\xc3\\xa9sence de sympt\\xc3\\xb4mes, isolez-vous et surveillez l\\xe2\\x80\\x99\\xc3\\xa9volution de votre \\xc3\\xa9tat de sant\\xc3\\xa9 m\\xc3\\xaame si vous pensez ne pas avoir \\xc3\\xa9t\\xc3\\xa9 expos\\xc3\\xa9 \\xc3\\xa0 la COVID-19.\\r\\n         Il est tr\\xc3\\xa8s important de s\\xe2\\x80\\x99isoler pr\\xc3\\xa9cocement car la probabilit\\xc3\\xa9 d\\xe2\\x80\\x99infecter d\\xe2\\x80\\x99autres personnes est plus \\xc3\\xa9lev\\xc3\\xa9e aux premiers stades de la maladie, alors que les sympt\\xc3\\xb4mes sont discrets.\\r\\n         Si vous n\\xe2\\x80\\x99avez pas de sympt\\xc3\\xb4mes mais avez \\xc3\\xa9t\\xc3\\xa9 expos\\xc3\\xa9 \\xc3\\xa0 une personne infect\\xc3\\xa9e, placez-vous en quarantaine pendant 14 jours.\\r\\n         En cas de confirmation de la COVID-19 \\xc3\\xa0 l\\xe2\\x80\\x99issue d\\xe2\\x80\\x99un test, isolez-vous pendant 14 jours, m\\xc3\\xaame apr\\xc3\\xa8s la disparition des sympt\\xc3\\xb4mes, \\xc3\\xa0 titre de pr\\xc3\\xa9caution. On ne sait pas encore exactement pendant combien de temps les personnes restent infectieuses apr\\xc3\\xa8s la gu\\xc3\\xa9rison. Suivez les instructions nationales en mati\\xc3\\xa8re d\\xe2\\x80\\x99auto-isolement.\"]\\r\\n        },\\r\\n        {\"tag\": \"isolement\",\\r\\n         \"patterns\": [\"Qu\\'est-ce que l\\'auto-isolement ?\", \"Qu\\'est-ce que l\\'auto isolement ?\", \"Qu\\'est-ce que la quarantaine ?\", \"C\\'est quoi une quarantaine ?\"],\\r\\n         \"responses\": [\"L\\xe2\\x80\\x99auto-isolement est une mesure importante que doivent prendre les personnes qui pr\\xc3\\xa9sentent des sympt\\xc3\\xb4mes de la COVID-19 pour \\xc3\\xa9viter d\\xe2\\x80\\x99infecter d\\xe2\\x80\\x99autres personnes dans leur entourage, y compris les membres de leur famille.\\r\\n         L\\xe2\\x80\\x99auto-isolement consiste, pour une personne qui a de la fi\\xc3\\xa8vre, qui tousse ou qui a d\\xe2\\x80\\x99autres sympt\\xc3\\xb4mes de la COVID-19, \\xc3\\xa0 rester \\xc3\\xa0 son domicile et \\xc3\\xa0 ne pas se rendre sur son lieu de travail, dans son \\xc3\\xa9tablissement scolaire ou dans les lieux publics. Cet auto-isolement peut \\xc3\\xaatre volontaire ou r\\xc3\\xa9pondre \\xc3\\xa0 la recommandation d\\xe2\\x80\\x99un m\\xc3\\xa9decin. Cependant, si vous habitez dans une r\\xc3\\xa9gion o\\xc3\\xb9 le paludisme ou la dengue s\\xc3\\xa9vit, il faut absolument consulter un m\\xc3\\xa9decin en cas de fi\\xc3\\xa8vre. Quand vous allez dans un \\xc3\\xa9tablissement de sant\\xc3\\xa9, portez un masque, restez \\xc3\\xa0 une distance d\\xe2\\x80\\x99au moins un m\\xc3\\xa8tre des autres personnes et ne touchez pas les surfaces avec les mains. Aidez les enfants malades \\xc3\\xa0 suivre \\xc3\\xa9galement ces conseils.\\r\\n         Si vous n\\xe2\\x80\\x99habitez pas dans une r\\xc3\\xa9gion o\\xc3\\xb9 le paludisme ou la dengue s\\xc3\\xa9vit, proc\\xc3\\xa9dez comme suit :\\r\\n         Les personnes qui sont gravement malades (qui ont besoin de soins m\\xc3\\xa9dicaux) ne doivent pas s\\xe2\\x80\\x99isoler de leur propre initiative.\\r\\n         Installez-vous seul dans une grande pi\\xc3\\xa8ce bien a\\xc3\\xa9r\\xc3\\xa9e depuis laquelle vous pouvez acc\\xc3\\xa9der facilement \\xc3\\xa0 un lavabo pour vous laver les mains et \\xc3\\xa0 des toilettes.\\r\\n         Si c\\xe2\\x80\\x99est impossible, placez chaque lit \\xc3\\xa0 un m\\xc3\\xa8tre au moins l\\xe2\\x80\\x99un de l\\xe2\\x80\\x99autre.\\r\\n         Tenez-vous \\xc3\\xa0 au moins un m\\xc3\\xa8tre des autres personnes, m\\xc3\\xaame des membres de votre famille.\\r\\n         Surveillez quotidiennement l\\xe2\\x80\\x99\\xc3\\xa9volution des sympt\\xc3\\xb4mes.\\r\\n         Isolez-vous pendant 14 jours m\\xc3\\xaame si vous avez l\\xe2\\x80\\x99impression d\\xe2\\x80\\x99\\xc3\\xaatre en bonne sant\\xc3\\xa9.\\r\\n         En cas de difficult\\xc3\\xa9s respiratoires, contactez imm\\xc3\\xa9diatement votre m\\xc3\\xa9decin, en l\\xe2\\x80\\x99appelant d\\xe2\\x80\\x99abord si possible.\\r\\n         Gardez le moral en restant en contact avec les personnes que vous aimez, par t\\xc3\\xa9l\\xc3\\xa9phone ou en ligne, et en faisant de l\\xe2\\x80\\x99exercice chez vous.\"]\\r\\n        },\\r\\n        {\"tag\": \"quarantaine\",\\r\\n         \"patterns\": [\"Que faire si je n\\'ai pas de sympt\\xc3\\xb4mes mais si je pense avoir \\xc3\\xa9t\\xc3\\xa9 expos\\xc3\\xa9 \\xc3\\xa0 la COVID-19 ?\", \"Que faire si je pense avoir \\xc3\\xa9t\\xc3\\xa9 expos\\xc3\\xa9 au coronavirus ?\", \"Que faire si je pense avoir \\xc3\\xa9t\\xc3\\xa9 expos\\xc3\\xa9 \\xc3\\xa0 la COVID-19 ?\", \"Qu\\'est-ce que l\\'auto-quarantaine ?\", \"Qu\\'est-ce que l\\'auto quarantaine ?\", \"C\\'est quoi une auto-quarantaine ?\",\"C\\'est quoi une quarantaine ?\", \"Qu\\'est-ce que la quarantaine ? \"],\\r\\n         \"responses\": [\"L\\xe2\\x80\\x99auto-quarantaine consiste, m\\xc3\\xaame si vous ne pr\\xc3\\xa9sentez aucun sympt\\xc3\\xb4me, \\xc3\\xa0 vous mettre \\xc3\\xa0 l\\xe2\\x80\\x99\\xc3\\xa9cart des autres personnes parce que vous avez \\xc3\\xa9t\\xc3\\xa9 expos\\xc3\\xa9 \\xc3\\xa0 la COVID-19. Pendant l\\xe2\\x80\\x99auto-quarantaine, vous devez surveiller l\\xe2\\x80\\x99\\xc3\\xa9volution des sympt\\xc3\\xb4mes. Le but de l\\xe2\\x80\\x99auto-quarantaine est de pr\\xc3\\xa9venir la transmission. Comme les personnes qui contractent la COVID-19 peuvent infecter imm\\xc3\\xa9diatement d\\xe2\\x80\\x99autres personnes, l\\xe2\\x80\\x99auto-quarantaine permet de pr\\xc3\\xa9venir la survenue de certaines infections.\\r\\n         Dans ce cas :\\r\\n         Installez-vous seul dans une grande pi\\xc3\\xa8ce bien a\\xc3\\xa9r\\xc3\\xa9e depuis laquelle vous pouvez acc\\xc3\\xa9der facilement \\xc3\\xa0 un lavabo pour vous laver les mains et \\xc3\\xa0 des toilettes.\\r\\n         Si c\\xe2\\x80\\x99est impossible, placez chaque lit \\xc3\\xa0 un m\\xc3\\xa8tre au moins l\\xe2\\x80\\x99un de l\\xe2\\x80\\x99autre.\\r\\n         Tenez-vous \\xc3\\xa0 au moins un m\\xc3\\xa8tre des autres personnes, m\\xc3\\xaame des membres de votre famille.\\r\\n         Surveillez quotidiennement l\\xe2\\x80\\x99\\xc3\\xa9volution des sympt\\xc3\\xb4mes.\\r\\n         Restez en quarantaine pendant 14 jours m\\xc3\\xaame si vous avez l\\xe2\\x80\\x99impression d\\xe2\\x80\\x99\\xc3\\xaatre en bonne sant\\xc3\\xa9.\\r\\n         En cas de difficult\\xc3\\xa9s respiratoires, contactez imm\\xc3\\xa9diatement votre m\\xc3\\xa9decin, en l\\xe2\\x80\\x99appelant d\\xe2\\x80\\x99abord si possible.\\r\\n         Gardez le moral en restant en contact avec les personnes que vous aimez, par t\\xc3\\xa9l\\xc3\\xa9phone ou en ligne, et en faisant de l\\xe2\\x80\\x99exercice chez vous.\\r\\n         Cependant, si vous habitez dans une r\\xc3\\xa9gion o\\xc3\\xb9 le paludisme ou la dengue s\\xc3\\xa9vit, il faut absolument consulter un m\\xc3\\xa9decin en cas de fi\\xc3\\xa8vre. Quand vous allez dans un \\xc3\\xa9tablissement de sant\\xc3\\xa9, portez un masque, restez \\xc3\\xa0 une distance d\\xe2\\x80\\x99au moins un m\\xc3\\xa8tre des autres personnes et ne touchez pas les surfaces avec les mains. Aidez les enfants malades \\xc3\\xa0 suivre \\xc3\\xa9galement ces conseils.\"]\\r\\n        },\\r\\n        {\"tag\": \"diff\\xc3\\xa9rence\",\\r\\n         \"patterns\": [\"Quelle est la diff\\xc3\\xa9rence entre l\\'auto-isolement, l\\'auto-quarantaine et la distanciation physique ?\", \"Quelle est la diff\\xc3\\xa9rence entre l\\'auto isolement, l\\'auto quarantaine et la distanciation physique ?\", \"Quelle est la diff\\xc3\\xa9rence entre l\\'isolement, la quarantaine ?\", \"C\\'est quoi la diff\\xc3\\xa9rence entre l\\'isolement, la quarantaine ?\"],\\r\\n         \"responses\": [\"La quarantaine consiste \\xc3\\xa0 mettre \\xc3\\xa0 l\\xe2\\x80\\x99\\xc3\\xa9cart les personnes qui ne sont pas malades mais qui ont \\xc3\\xa9t\\xc3\\xa9 expos\\xc3\\xa9es \\xc3\\xa0 la COVID-19, ou \\xc3\\xa0 restreindre leurs activit\\xc3\\xa9s. Il s\\xe2\\x80\\x99agit d\\xe2\\x80\\x99\\xc3\\xa9viter que la maladie ne se propage au moment o\\xc3\\xb9 les personnes pr\\xc3\\xa9sentent les premiers sympt\\xc3\\xb4mes.\\r\\n         L\\xe2\\x80\\x99isolement consiste \\xc3\\xa0 mettre \\xc3\\xa0 l\\xe2\\x80\\x99\\xc3\\xa9cart les personnes qui pr\\xc3\\xa9sentent des sympt\\xc3\\xb4mes de la COVID-19 et qui peuvent \\xc3\\xaatre infectieuses afin d\\xe2\\x80\\x99\\xc3\\xa9viter que la maladie ne se propage.\\r\\n         La distanciation physique consiste \\xc3\\xa0 garder physiquement une distance avec les autres personnes. L\\xe2\\x80\\x99OMS recommande de se tenir \\xc3\\xa0 au moins un m\\xc3\\xa8tre. C\\xe2\\x80\\x99est une mesure g\\xc3\\xa9n\\xc3\\xa9rale qui doit \\xc3\\xaatre appliqu\\xc3\\xa9e par chacun, m\\xc3\\xaame en l\\xe2\\x80\\x99absence de sympt\\xc3\\xb4mes ou d\\xe2\\x80\\x99exposition connue \\xc3\\xa0 la COVID-19.\"]\\r\\n        },\\r\\n        {\"tag\": \"enfants\",\\r\\n         \"patterns\": [\"Les enfants ou les adolescents peuvent-ils contracter la COVID-19 ?\", \"Les enfants ou les adolescents peuvent-ils contracter la COVID 19 ?\",\"Les enfants peuvent-ils contracter la COVID?\", \"Les enfants peuvent-ils contracter le coronavirus ?\", \"Les adolescents peuvent-ils contracter le coronavirus ?\", \"Les adolescents peuvent-ils contracter la COVID ?\", \"Les ados peuvent-ils contracter le coronavirus ?\"],\\r\\n         \"responses\": [\"Les travaux de recherche montrent que la probabilit\\xc3\\xa9 de contracter l\\xe2\\x80\\x99infection est la m\\xc3\\xaame chez les enfants et les adolescents que dans les autres groupes d\\xe2\\x80\\x99\\xc3\\xa2ge et que les enfants et les adolescents peuvent propager la maladie.\\r\\n         Les donn\\xc3\\xa9es disponibles \\xc3\\xa0 ce jour semblent indiquer que les enfants et les jeunes adultes risquent moins d\\xe2\\x80\\x99\\xc3\\xaatre gravement atteints, mais des cas graves peuvent tout de m\\xc3\\xaame survenir dans ces groupes d\\xe2\\x80\\x99\\xc3\\xa2ge.\\r\\n         Les enfants et les adultes doivent suivre les m\\xc3\\xaames conseils en mati\\xc3\\xa8re d\\xe2\\x80\\x99auto-quarantaine et d\\xe2\\x80\\x99auto-isolement en cas d\\xe2\\x80\\x99exposition ou de sympt\\xc3\\xb4mes. Il est particuli\\xc3\\xa8rement important que les enfants \\xc3\\xa9vitent les contacts avec les personnes \\xc3\\xa2g\\xc3\\xa9es et les autres personnes risquant d\\xe2\\x80\\x99\\xc3\\xaatre gravement atteintes.\"]\\r\\n        },\\r\\n        {\"tag\": \"propage\",\\r\\n         \"patterns\": [\"Comment puis-je me prot\\xc3\\xa9ger et \\xc3\\xa9viter que la maladie ne se propage ?\", \"Comment \\xc3\\xa9viter que la maladie ne se propage ?\"],\\r\\n         \"responses\": [\"Tenez-vous au courant des derni\\xc3\\xa8res informations sur la flamb\\xc3\\xa9e de COVID-19, disponibles sur le site Web de l\\xe2\\x80\\x99OMS et aupr\\xc3\\xa8s des autorit\\xc3\\xa9s de sant\\xc3\\xa9 publique nationales et locales. Des cas de COVID-19 se sont produits dans la plupart des pays et de nombreux pays sont touch\\xc3\\xa9s par des flamb\\xc3\\xa9es. Dans certains pays, les autorit\\xc3\\xa9s sont parvenues \\xc3\\xa0 ralentir la progression de la flamb\\xc3\\xa9e. Toutefois, l\\xe2\\x80\\x99\\xc3\\xa9volution de la situation est impr\\xc3\\xa9visible et vous devez donc vous tenir r\\xc3\\xa9guli\\xc3\\xa8rement inform\\xc3\\xa9.\\r\\n         Vous pouvez r\\xc3\\xa9duire le risque d\\xe2\\x80\\x99\\xc3\\xaatre infect\\xc3\\xa9 ou de propager la COVID-19 en prenant quelques pr\\xc3\\xa9cautions simples :\\r\\n         Se laver fr\\xc3\\xa9quemment et soigneusement les mains avec une solution hydroalcoolique ou \\xc3\\xa0 l\\xe2\\x80\\x99eau et au savon.\\r\\n         Se laver les mains avec une solution hydroalcoolique ou \\xc3\\xa0 l\\xe2\\x80\\x99eau et au savon tue le virus s\\xe2\\x80\\x99il est pr\\xc3\\xa9sent sur vos mains.\\r\\n         Maintenir une distance d\\xe2\\x80\\x99au moins un m\\xc3\\xa8tre avec les autres personnes.\\r\\n         Lorsqu\\xe2\\x80\\x99une personne tousse ou \\xc3\\xa9ternue, elle expulse par le nez ou par la bouche de petites gouttelettes qui peuvent contenir le virus. Si vous \\xc3\\xaates trop pr\\xc3\\xa8s, vous pouvez inhaler ces gouttelettes et donc le virus responsable de la COVID-19 si la personne en est porteuse.\\r\\n         \\xc3\\x89viter les lieux tr\\xc3\\xa8s fr\\xc3\\xa9quent\\xc3\\xa9s.\\r\\n         Dans les lieux tr\\xc3\\xa8s fr\\xc3\\xa9quent\\xc3\\xa9s, la probabilit\\xc3\\xa9 d\\xe2\\x80\\x99\\xc3\\xaatre en contact proche avec quelqu\\xe2\\x80\\x99un qui a la COVID-19 est plus \\xc3\\xa9lev\\xc3\\xa9e et il est plus difficile de maintenir une distance physique d\\xe2\\x80\\x99un m\\xc3\\xa8tre.\\r\\n         \\xc3\\x89viter de se toucher les yeux, le nez et la bouche.\\r\\n         Les mains sont en contact avec de nombreuses surfaces qui peuvent \\xc3\\xaatre contamin\\xc3\\xa9es par le virus. Si vous vous touchez les yeux, le nez ou la bouche, le virus peut p\\xc3\\xa9n\\xc3\\xa9trer dans votre organisme et vous infecter.\\r\\n         Veillez \\xc3\\xa0 respecter les r\\xc3\\xa8gles d\\xe2\\x80\\x99hygi\\xc3\\xa8ne respiratoire et \\xc3\\xa0 ce que les personnes autour de vous en fassent autant. En cas de toux ou d\\xe2\\x80\\x99\\xc3\\xa9ternuement, il faut se couvrir la bouche et le nez avec le pli du coude, ou avec un mouchoir et jeter le mouchoir imm\\xc3\\xa9diatement apr\\xc3\\xa8s puis se laver les mains.\\r\\n         Les gouttelettes respiratoires propagent des virus. En respectant les r\\xc3\\xa8gles d\\xe2\\x80\\x99hygi\\xc3\\xa8ne respiratoire, vous prot\\xc3\\xa9gez les personnes autour de vous de virus tels que ceux responsables du rhume, de la grippe ou de la COVID-19.\\r\\n         Si vous avez des sympt\\xc3\\xb4mes, m\\xc3\\xaames b\\xc3\\xa9nins (toux, maux de t\\xc3\\xaate, l\\xc3\\xa9g\\xc3\\xa8re fi\\xc3\\xa8vre), restez chez vous jusqu\\xe2\\x80\\x99\\xc3\\xa0 la gu\\xc3\\xa9rison. Demandez \\xc3\\xa0 quelqu\\xe2\\x80\\x99un de faire les courses pour vous. Si vous devez sortir, portez un masque pour \\xc3\\xa9viter d\\xe2\\x80\\x99infecter d\\xe2\\x80\\x99autres personnes.\\r\\n         En \\xc3\\xa9vitant les contacts avec d\\xe2\\x80\\x99autres personnes, vous prot\\xc3\\xa9gez ces derni\\xc3\\xa8res d\\xe2\\x80\\x99une contamination \\xc3\\xa9ventuelle par le virus de la COVID-19 et d\\xe2\\x80\\x99autres virus.\\r\\n         En cas de fi\\xc3\\xa8vre, de toux et de dyspn\\xc3\\xa9e, consultez un m\\xc3\\xa9decin, si possible apr\\xc3\\xa8s l\\xe2\\x80\\x99avoir appel\\xc3\\xa9 par t\\xc3\\xa9l\\xc3\\xa9phone, et suivez les instructions des autorit\\xc3\\xa9s sanitaires locales.\\r\\n         Ce sont les autorit\\xc3\\xa9s nationales et locales qui disposent des informations les plus r\\xc3\\xa9centes sur la situation dans la r\\xc3\\xa9gion o\\xc3\\xb9 vous vous trouvez. Si vous l\\xe2\\x80\\x99appelez, votre m\\xc3\\xa9decin pourra vous orienter rapidement vers l\\xe2\\x80\\x99\\xc3\\xa9tablissement de sant\\xc3\\xa9 le plus adapt\\xc3\\xa9. En outre, cela vous prot\\xc3\\xa8gera et \\xc3\\xa9vitera la propagation de virus et d\\xe2\\x80\\x99autres agents infectieux.\\r\\n         Pour vous informer, consultez des sources fiables, telles que l\\xe2\\x80\\x99OMS et les autorit\\xc3\\xa9s sanitaires locales et nationales.\\r\\n         Les autorit\\xc3\\xa9s locales et nationales sont les mieux plac\\xc3\\xa9es pour vous indiquer comment vous prot\\xc3\\xa9ger.\"]\\r\\n        },\\r\\n        {\"tag\": \"traitement\",\\r\\n         \"patterns\": [\"Existe-t-il un vaccin, un m\\xc3\\xa9dicament ou un traitement contre la COVID-19 ?\", \"Existe-t-il un vaccin contre la COVID-19 ?\",\"Existe-t-il un vaccin contre le coronavirus ?\", \"Existe-t-il un m\\xc3\\xa9dicament contre la COVID-19 ?\",\"Existe-t-il un m\\xc3\\xa9dicament contre le coronavirus ?\", \"Existe-t-il un traitement contre la COVID-19 ?\", \"Existe-t-il un traitement contre le coronavirus ?\"],\\r\\n         \"responses\": [\"Certains rem\\xc3\\xa8des occidentaux, traditionnels \\xe2\\x80\\x8eou domestiques peuvent apporter du \\xe2\\x80\\x8econfort et soulager les sympt\\xc3\\xb4mes de la \\xe2\\x80\\x8eCOVID-19 dans le cas d\\xe2\\x80\\x99une infection \\xe2\\x80\\x8eb\\xc3\\xa9nigne, mais aucune \\xc3\\xa9tude n\\xe2\\x80\\x99a permis de \\xe2\\x80\\x8ed\\xc3\\xa9montrer l\\xe2\\x80\\x99efficacit\\xc3\\xa9 d\\xe2\\x80\\x99un m\\xc3\\xa9dicament \\xe2\\x80\\x8eactuel pour pr\\xc3\\xa9venir ou traiter la maladie. \\xe2\\x80\\x8eL\\xe2\\x80\\x99OMS ne recommande de prendre aucun \\xe2\\x80\\x8em\\xc3\\xa9dicament, y compris les antibiotiques, en \\xe2\\x80\\x8eautom\\xc3\\xa9dication pour pr\\xc3\\xa9venir ou gu\\xc3\\xa9rir la \\xe2\\x80\\x8eCOVID-19. Cependant, plusieurs essais \\xe2\\x80\\x8ecliniques de m\\xc3\\xa9dicaments occidentaux ou \\xe2\\x80\\x8etraditionnels sont en cours. L\\xe2\\x80\\x99OMS \\xe2\\x80\\x8ecoordonne les efforts pour concevoir des \\xe2\\x80\\x8evaccins et des m\\xc3\\xa9dicaments pour la \\xe2\\x80\\x8epr\\xc3\\xa9vention et le traitement de la COVID-19 \\xe2\\x80\\x8eet continuera de fournir des informations \\xe2\\x80\\x8emises \\xc3\\xa0 jour \\xc3\\xa0 mesure que les r\\xc3\\xa9sultats des \\xe2\\x80\\x8erecherches seront disponibles.\\xe2\\x80\\x8e\\r\\n         Le meilleur moyen de se prot\\xc3\\xa9ger et de prot\\xc3\\xa9ger les autres de la COVID-19 est :\\r\\n         de se laver les mains souvent et soigneusement ;\\r\\n         d\\xe2\\x80\\x99\\xc3\\xa9viter de se toucher les yeux, la bouche et le nez ;\\r\\n         de tousser dans le pli du coude, ou dans un mouchoir \\xc3\\xa0 usage unique puis de jeter le mouchoir imm\\xc3\\xa9diatement apr\\xc3\\xa8s et de se laver les mains ;\\r\\n         de garder une distance d\\xe2\\x80\\x99au moins un m\\xc3\\xa8tre avec les autres personnes.\"]\\r\\n        },\\r\\n        {\"tag\": \"masque\",\\r\\n         \"patterns\": [\"L\\'OMS recommande-t-elle le port du masque m\\xc3\\xa9dical pour \\xc3\\xa9viter que la COVID-19 ne se propage ?\", \"L\\'OMS recommande-t-elle le port du masque ?\", \"Le port du masque est-il recommand\\xc3\\xa9 L\\'OMS ? \", \"Le port du masque est-il recommand\\xc3\\xa9 ? \"],\\r\\n         \"responses\": [\"Il n\\xe2\\x80\\x99y a actuellement pas assez de donn\\xc3\\xa9es permettant de formuler des recommandations tendant \\xc3\\xa0 conseiller ou \\xc3\\xa0 d\\xc3\\xa9conseiller le port du masque (m\\xc3\\xa9dical ou autre) aux personnes en bonne sant\\xc3\\xa9 dans les espaces collectifs. Toutefois, l\\xe2\\x80\\x99OMS \\xc3\\xa9tudie activement les connaissances scientifiques au sujet des masques, qui \\xc3\\xa9voluent rapidement, et actualise en permanence ses orientations.\\r\\n         Le port du masque m\\xc3\\xa9dical est principalement recommand\\xc3\\xa9 dans les \\xc3\\xa9tablissements de soins, mais il peut \\xc3\\xaatre envisag\\xc3\\xa9 dans d\\xe2\\x80\\x99autres circonstances (voir ci-dessous). Il doit \\xc3\\xaatre associ\\xc3\\xa9 \\xc3\\xa0 d\\xe2\\x80\\x99autres mesures essentielles de lutte anti-infectieuse, comme l\\xe2\\x80\\x99hygi\\xc3\\xa8ne des mains et la distanciation physique.\\r\\n         Les masques m\\xc3\\xa9dicaux et les masques de protection respiratoire N95, FFP2 ou \\xc3\\xa9quivalents doivent \\xc3\\xaatre r\\xc3\\xa9serv\\xc3\\xa9s aux soignants quand ils prennent en charge des patients. En effet, les soignants sont les plus expos\\xc3\\xa9s \\xc3\\xa0 la COVID-19, car celle-ci se transmet principalement en cas de contact proche avec un cas pr\\xc3\\xa9sum\\xc3\\xa9 ou confirm\\xc3\\xa9 et son environnement imm\\xc3\\xa9diat.\\r\\n         Les personnes malades qui pr\\xc3\\xa9sentent des sympt\\xc3\\xb4mes b\\xc3\\xa9nins (douleurs musculaires, l\\xc3\\xa9g\\xc3\\xa8re toux, maux de gorge ou fatigue) doivent s\\xe2\\x80\\x99isoler \\xc3\\xa0 leur domicile et porter un masque m\\xc3\\xa9dical suivant les recommandations de l\\xe2\\x80\\x99OMS relatives \\xc3\\xa0 la prise en charge \\xc3\\xa0 domicile des cas pr\\xc3\\xa9sum\\xc3\\xa9s de COVID-19. La toux, les \\xc3\\xa9ternuements ou le fait de parler peuvent produire des gouttelettes susceptibles de propager l\\xe2\\x80\\x99infection. Ces gouttelettes peuvent atteindre le visage des personnes alentour et se retrouver dans l\\xe2\\x80\\x99environnement proche. Si une personne infect\\xc3\\xa9e porte un masque m\\xc3\\xa9dical alors qu\\xe2\\x80\\x99elle tousse, \\xc3\\xa9ternue ou parle, les gens autour d\\xe2\\x80\\x99elle seront plus facilement prot\\xc3\\xa9g\\xc3\\xa9s de l\\xe2\\x80\\x99infection.\\r\\n         Si une personne malade doit se rendre dans un \\xc3\\xa9tablissement de sant\\xc3\\xa9, elle doit porter un masque m\\xc3\\xa9dical.\\r\\n         Les personnes qui s\\xe2\\x80\\x99occupent de patients atteints de la COVID-19 doivent porter un masque m\\xc3\\xa9dical pour se prot\\xc3\\xa9ger car les contacts proches, fr\\xc3\\xa9quents et prolong\\xc3\\xa9s avec ces patients exposent les personnes qui s\\xe2\\x80\\x99en occupent \\xc3\\xa0 un risque \\xc3\\xa9lev\\xc3\\xa9.\\r\\n         Les d\\xc3\\xa9cideurs nationaux peuvent aussi choisir de recommander le port du masque m\\xc3\\xa9dical \\xc3\\xa0 certaines personnes en fonction des risques. Cette approche tient compte du but du masque, du risque d\\xe2\\x80\\x99exposition et de la vuln\\xc3\\xa9rabilit\\xc3\\xa9 du porteur, du contexte, de la possibilit\\xc3\\xa9 de porter le masque et des types de masque envisag\\xc3\\xa9s.\"]\\r\\n        },\\r\\n        {\"tag\": \"porter\",\\r\\n         \"patterns\": [\"Comment porter correctement un masque m\\xc3\\xa9dical ?\", \"Comment porter correctement un masque ?\", \"Comment porter un masque?\"],\\r\\n         \"responses\": [\"Si vous choisissez de porter un masque :\\r\\n         Avant de mettre un masque, se laver les mains avec une solution hydroalcoolique ou \\xc3\\xa0 l\\xe2\\x80\\x99eau et au savon.\\r\\n         V\\xc3\\xa9rifier que le masque n\\xe2\\x80\\x99est ni d\\xc3\\xa9chir\\xc3\\xa9 ni trou\\xc3\\xa9.\\r\\n         Orienter le masque dans le bon sens (bande m\\xc3\\xa9tallique vers le haut).\\r\\n         V\\xc3\\xa9rifier que la face color\\xc3\\xa9e du masque est plac\\xc3\\xa9e vers l\\xe2\\x80\\x99ext\\xc3\\xa9rieur.\\r\\n         Placer le masque sur le visage. Pincer la bande m\\xc3\\xa9tallique ou le bord dur du masque afin qu\\xe2\\x80\\x99il \\xc3\\xa9pouse la forme du nez.\\r\\n         Tirer le bas du masque pour recouvrir la bouche et le menton.\\r\\n         Ne pas toucher le masque pendant que vous le portez.\\r\\n         Apr\\xc3\\xa8s usage, retirer le masque en ayant les mains propres, enlever les \\xc3\\xa9lastiques de derri\\xc3\\xa8re les oreilles tout en \\xc3\\xa9loignant le masque du visage et des v\\xc3\\xaatements afin d\\xe2\\x80\\x99\\xc3\\xa9viter de toucher des parties du masque \\xc3\\xa9ventuellement contamin\\xc3\\xa9es.\\r\\n         Ne pas r\\xc3\\xa9utiliser le masque. Jeter le masque dans une poubelle ferm\\xc3\\xa9e imm\\xc3\\xa9diatement apr\\xc3\\xa8s usage.\\r\\n         Apr\\xc3\\xa8s avoir touch\\xc3\\xa9 ou jet\\xc3\\xa9 le masque, se laver les mains avec une solution hydroalcoolique ou \\xc3\\xa0 l\\xe2\\x80\\x99eau et au savon si elles sont visiblement sales.\\r\\n         Sachez qu\\xe2\\x80\\x99il y a une p\\xc3\\xa9nurie mondiale de masques m\\xc3\\xa9dicaux (chirurgicaux et N95). Ces masques doivent \\xc3\\xaatre r\\xc3\\xa9serv\\xc3\\xa9s autant que possible aux soignants.\\r\\n         N\\xe2\\x80\\x99oubliez pas que le port du masque ne remplace pas d\\xe2\\x80\\x99autres moyens plus efficaces de se prot\\xc3\\xa9ger et de prot\\xc3\\xa9ger les autres de la COVID-19 (se laver fr\\xc3\\xa9quemment les mains, tousser dans le pli du coude ou dans un mouchoir et se tenir \\xc3\\xa0 une distance d\\xe2\\x80\\x99au moins un m\\xc3\\xa8tre des autres personnes). Pour plus d\\xe2\\x80\\x99informations, consultez les mesures de protection essentielles contre le nouveau coronavirus.\\r\\n         Suivez les conseils des autorit\\xc3\\xa9s sanitaires nationales concernant le port du masque.\"]\\r\\n        },\\r\\n        {\"tag\": \"exposition\",\\r\\n         \"patterns\": [\"Combien de temps s\\'\\xc3\\xa9coule entre l\\'exposition au virus de la COVID-19 et l\\'apparition des sympt\\xc3\\xb4mes ?\", \"Combien de temps s\\'\\xc3\\xa9coule entre l\\'exposition au coronavirus et l\\'apparition des sympt\\xc3\\xb4mes ?\", \"Combien de temps entre l\\'exposition au coronavirus et l\\'apparition des sympt\\xc3\\xb4mes ?\"],\\r\\n         \"responses\": [\"Le d\\xc3\\xa9lai qui s\\xe2\\x80\\x99\\xc3\\xa9coule entre l\\xe2\\x80\\x99exposition au virus de la COVID-19 et l\\xe2\\x80\\x99apparition des sympt\\xc3\\xb4mes est habituellement de cinq \\xc3\\xa0 six jours, mais il peut aller d\\xe2\\x80\\x99un \\xc3\\xa0 14 jours.\"]\\r\\n        },\\r\\n        {\"tag\": \"animaux\",\\r\\n         \"patterns\": [\"Quel est le lien entre la COVID-19 et les animaux ?\", \"Quel est le lien entre le coronavirus et les animaux ?\", \"Quel est le lien entre la COVID 19 et les animaux ?\"],\\r\\n         \"responses\": [\"La COVID-19 se transmet d\\xe2\\x80\\x99une personne \\xc3\\xa0 l\\xe2\\x80\\x99autre.\\r\\n         Nous disposons d\\xc3\\xa9j\\xc3\\xa0 de beaucoup d\\xe2\\x80\\x99informations sur les autres coronavirus et la plupart de ces types de virus ont une origine animale. Le virus de la COVID-19 (aussi appel\\xc3\\xa9 SARS-CoV-2) est nouveau chez l\\xe2\\x80\\x99homme. La source animale \\xc3\\xa9ventuelle de la COVID-19 n\\xe2\\x80\\x99a pas encore \\xc3\\xa9t\\xc3\\xa9 confirm\\xc3\\xa9e, mais des travaux de recherche sont en cours.\\r\\n         L\\xe2\\x80\\x99OMS continue \\xc3\\xa0 suivre les travaux de recherche sur ce sujets et d\\xe2\\x80\\x99autres sujets li\\xc3\\xa9s \\xc3\\xa0 la COVID-19, et elle publiera des informations actualis\\xc3\\xa9es quand de nouveaux r\\xc3\\xa9sultats seront disponibles.\"]\\r\\n        },\\r\\n        {\"tag\": \"domestiques\",\\r\\n         \"patterns\": [\"Mon animal domestique peut-il me transmettre la COVID-19 ?\", \"Mon animal domestique peut-il me transmettre la COVID 19 ?\",\"Mon animal domestique peut-il me transmettre le coronavirus ?\", \"Mon animal de compagnie peut-il me transmettre la COVID-19 ?\", \"Mon animal de compagnie peut-il me transmettre la COVID 19 ?\", \"Mon animal de compagnie peut-il me transmettre le coronavirus ?\"],\\r\\n         \"responses\": [\"Plusieurs chiens et chats (domestiques) et un tigre en contact avec des \\xc3\\xaatres humains infect\\xc3\\xa9s ont \\xc3\\xa9t\\xc3\\xa9 test\\xc3\\xa9s positifs \\xc3\\xa0 la COVID-19. Les furets semblent \\xc3\\xa9galement \\xc3\\xaatre sensibles \\xc3\\xa0 l\\xe2\\x80\\x99infection. Dans des conditions exp\\xc3\\xa9rimentales, les chats et les furets pouvaient transmettre l\\xe2\\x80\\x99infection \\xc3\\xa0 d\\xe2\\x80\\x99autres animaux de la m\\xc3\\xaame esp\\xc3\\xa8ce, mais rien ne prouve que ces animaux puissent transmettre la maladie \\xc3\\xa0 l\\xe2\\x80\\x99homme et jouer un r\\xc3\\xb4le dans sa propagation. La COVID-19 se transmet principalement par les gouttelettes expuls\\xc3\\xa9es par les personnes infect\\xc3\\xa9es quand elles toussent, \\xc3\\xa9ternuent ou parlent.\\r\\n         Il est tout de m\\xc3\\xaame recommand\\xc3\\xa9 aux personnes atteintes de la COVID-19 et aux personnes \\xc3\\xa0 risque de limiter les contacts avec les animaux de compagnie et les autres animaux. Des mesures d\\'hygi\\xc3\\xa8ne de base doivent toujours \\xc3\\xaatre appliqu\\xc3\\xa9es quand on manipule les animaux ou on leur prodigue des soins (se laver les mains avant et apr\\xc3\\xa8s avoir \\xc3\\xa9t\\xc3\\xa9 \\xc3\\xa0 proximit\\xc3\\xa9 ou avoir manipul\\xc3\\xa9 les animaux, leur nourriture ou leurs affaires et \\xc3\\xa9viter de les embrasser, de se faire l\\xc3\\xa9cher ou de partager de leur nourriture). On trouvera d\\xe2\\x80\\x99autres recommandations sur le site Web de l\\xe2\\x80\\x99OIE, \\xc3\\xa0 l\\xe2\\x80\\x99adresse https://www.oie.int/fr/expertise-scientifique/informations-specifiques-et-recommandations/questions-et-reponses-sur-le-nouveau-coronavirus2019/.\\r\\n         L\\xe2\\x80\\x99OMS continue \\xc3\\xa0 suivre les travaux de recherche sur ce sujets et d\\xe2\\x80\\x99autres sujets li\\xc3\\xa9s \\xc3\\xa0 la COVID-19 et elle publiera des informations actualis\\xc3\\xa9es quand de nouveaux r\\xc3\\xa9sultats seront disponibles.\"]\\r\\n        },\\r\\n        {\"tag\": \"temps\",\\r\\n         \"patterns\": [\"Combien de temps le virus survit-il sur les surfaces ?\", \"Le virus survit pendant combien de temps sur les surfaces ?\", \"Le coronavirus survit pendant combien de temps sur les surfaces ?\"],\\r\\n         \"responses\": [\"Le plus important \\xc3\\xa0 savoir est que les surfaces peuvent \\xc3\\xaatre facilement nettoy\\xc3\\xa9es avec un d\\xc3\\xa9sinfectant m\\xc3\\xa9nager courant qui tuera le coronavirus. Des \\xc3\\xa9tudes ont montr\\xc3\\xa9 que le virus de la COVID-19 peut survivre pendant 72 heures sur le plastique et l\\xe2\\x80\\x99acier inoxydable, moins de quatre heures sur le cuivre et moins de 24 heures sur le carton.\\r\\n         Comme toujours, il faut se laver les mains avec une solution hydroalcoolique ou \\xc3\\xa0 l\\xe2\\x80\\x99eau et au savon et \\xc3\\xa9viter de se toucher les yeux, la bouche ou le nez.\"]\\r\\n        },\\r\\n        {\"tag\": \"courses\",\\r\\n         \"patterns\": [\"Comment faire ses courses en toute s\\xc3\\xa9curit\\xc3\\xa9 ?\", \"Comment faire ses courses ?\"],\\r\\n         \"responses\": [\"Quand vous faites vos courses, restez \\xc3\\xa0 une distance d\\xe2\\x80\\x99au moins un m\\xc3\\xa8tre des autres personnes et \\xc3\\xa9vitez de vous toucher les yeux, la bouche et le nez. Si possible, d\\xc3\\xa9sinfectez les poign\\xc3\\xa9es des chariots ou les anses des paniers avant de commencer \\xc3\\xa0 faire vos achats. Lavez-vous soigneusement les mains d\\xc3\\xa8s que vous rentrez chez vous et apr\\xc3\\xa8s avoir manipul\\xc3\\xa9 et rang\\xc3\\xa9 les articles que vous avez achet\\xc3\\xa9s. Aucun cas confirm\\xc3\\xa9 de COVID-19 n\\xe2\\x80\\x99a encore \\xc3\\xa9t\\xc3\\xa9 transmis par les aliments ou les emballages des denr\\xc3\\xa9es.\"]\\r\\n        },\\r\\n        {\"tag\": \"manger\",\\r\\n         \"patterns\": [\"Comment laver les fruits et l\\xc3\\xa9gumes ?\", \"Comment laver les fruits et l\\xc3\\xa9gumes en toute s\\xc3\\xa9curit\\xc3\\xa9?\"],\\r\\n         \"responses\": [\"Les fruits et l\\xc3\\xa9gumes sont des \\xc3\\xa9l\\xc3\\xa9ments importants d\\xe2\\x80\\x99une alimentation saine. Lavez-les comme vous le feriez en temps ordinaire : lavez-vous d\\xe2\\x80\\x99abord les mains \\xc3\\xa0 l\\xe2\\x80\\x99eau et au savon puis lavez soigneusement les fruits et l\\xc3\\xa9gumes \\xc3\\xa0 l\\xe2\\x80\\x99eau claire, en particulier si vous les consommez crus.\"]\\r\\n        },\\r\\n        {\"tag\": \"antibio\",\\r\\n         \"patterns\": [\"Les antibiotiques sont-ils efficaces pour pr\\xc3\\xa9venir ou traiter la COVID-19 ?\", \"Les antibiotiques sont-ils efficaces pour pr\\xc3\\xa9venir la COVID-19 ?\", \"Les antibiotiques sont-ils efficaces pour traiter la COVID-19 ?\", \"Les antibiotiques sont-ils efficaces pour pr\\xc3\\xa9venir le coronavirus ?\", \"Les antibiotiques sont-ils efficaces pour traiter le coronavirus ?\"],\\r\\n         \"responses\": [\"Non, les antibiotiques n\\xe2\\x80\\x99agissent pas contre les virus, mais seulement contre les infections bact\\xc3\\xa9riennes. La COVID-19 \\xc3\\xa9tant due \\xc3\\xa0 un virus, les antibiotiques sont inefficaces. Ils ne doivent pas \\xc3\\xaatre utilis\\xc3\\xa9s comme moyen de pr\\xc3\\xa9vention ou de traitement de la COVID-19. \\xc3\\x80 l\\xe2\\x80\\x99h\\xc3\\xb4pital, les m\\xc3\\xa9decins auront parfois recours \\xc3\\xa0 des antibiotiques pour pr\\xc3\\xa9venir ou traiter une surinfection bact\\xc3\\xa9rienne, qui peut \\xc3\\xaatre une complication de la COVID-19 chez les patients gravement atteints. Les antibiotiques doivent \\xc3\\xaatre utilis\\xc3\\xa9s seulement sur prescription m\\xc3\\xa9dicale pour traiter une infection bact\\xc3\\xa9rienne.\"]\\r\\n        },\\r\\n        {\"tag\": \"f\\xc3\\xa9cales\",\\r\\n         \"patterns\": [\"Puis-je contracter la COVID-19 par contact avec les mati\\xc3\\xa8res f\\xc3\\xa9cales d\\'une personne malade ?\", \"Puis-je contracter la COVID 19 par contact avec les mati\\xc3\\xa8res f\\xc3\\xa9cales d\\'une personne malade ?\", \"Puis-je contracter le coronavirus par contact avec les mati\\xc3\\xa8res f\\xc3\\xa9cales d\\'une personne contamin\\xc3\\xa9e ?\"],\\r\\n         \"responses\": [\"Les premi\\xc3\\xa8res investigations semblent indiquer que le virus peut \\xc3\\xaatre pr\\xc3\\xa9sent dans les mati\\xc3\\xa8res f\\xc3\\xa9cales dans certains cas mais, \\xc3\\xa0 ce jour, aucun cas de transmission oro-f\\xc3\\xa9cale de la COVD-19 n\\xe2\\x80\\x99a \\xc3\\xa9t\\xc3\\xa9 rapport\\xc3\\xa9. En outre, il n\\xe2\\x80\\x99y a aujourd\\xe2\\x80\\x99hui aucune donn\\xc3\\xa9e prouvant que le virus de la COVID-19 survit dans l\\xe2\\x80\\x99eau ou dans les eaux us\\xc3\\xa9es.\\r\\n         L\\xe2\\x80\\x99OMS examine les travaux de recherche en cours sur les modes de propagation de la COVID-19 et elle continuera \\xc3\\xa0 publier les nouveaux r\\xc3\\xa9sultats obtenus sur ce sujet.\"]\\r\\n        }\\r\\n  ]\\r\\n}\\r\\n'}"
            ]
          },
          "metadata": {
            "tags": []
          },
          "execution_count": 12
        }
      ]
    },
    {
      "cell_type": "code",
      "metadata": {
        "id": "sBEuh9TEGBo7",
        "colab_type": "code",
        "colab": {}
      },
      "source": [
        "# import our chat-bot intents file\n",
        "with open('intents.json') as json_data:\n",
        "    intents = json.load(json_data, strict=False)"
      ],
      "execution_count": 0,
      "outputs": []
    },
    {
      "cell_type": "code",
      "metadata": {
        "id": "mpFsVWPKGKbI",
        "colab_type": "code",
        "outputId": "d8544d4a-dd8c-4a1d-d01f-04cfe63260b6",
        "colab": {
          "base_uri": "https://localhost:8080/",
          "height": 1000
        }
      },
      "source": [
        "intents"
      ],
      "execution_count": 14,
      "outputs": [
        {
          "output_type": "execute_result",
          "data": {
            "text/plain": [
              "{'intents': [{'context_set': '',\n",
              "   'patterns': ['Salut', 'Comment vas-tu', 'ça va ?', 'Bonjour', 'hello'],\n",
              "   'responses': ['Hello',\n",
              "    'Je vais bien, merci',\n",
              "    'ça va oklm',\n",
              "    'Bonjour',\n",
              "    'Hi'],\n",
              "   'tag': 'salutation'},\n",
              "  {'patterns': ['Bye', 'Au revoir', 'à plus tard', 'ciao'],\n",
              "   'responses': ['Au plaisir, merci', 'Bonne journée', 'Bye! Reviens vite.'],\n",
              "   'tag': 'au revoir'},\n",
              "  {'patterns': ['Merci', 'Je te remercie', 'Merci beaucoup'],\n",
              "   'responses': [\"Ravi de t'avoir aidé\", 'De rien!', 'Avec plaisir'],\n",
              "   'tag': 'merci'},\n",
              "  {'patterns': ['Qu’est-ce qu’un coronavirus ?',\n",
              "    \"C'est quoi le coronavirus ?\",\n",
              "    \"C'est quoi un coronavirus ?\",\n",
              "    \"C'est quoi le corona ?\",\n",
              "    \"Qu'est ce qu'un corona ?\"],\n",
              "   'responses': ['Les coronavirus forment une vaste famille de virus qui peuvent être pathogènes chez l’animal ou chez l’homme. On sait que, chez l’être humain, plusieurs coronavirus peuvent entraîner des infections respiratoires dont les manifestations vont du simple rhume à des maladies plus graves comme le syndrome respiratoire du Moyen-Orient (MERS) et le syndrome respiratoire aigu sévère (SRAS). Le dernier coronavirus qui a été découvert est responsable de la maladie\\n          à coronavirus 2019 (COVID-19).'],\n",
              "   'tag': 'coronavirus'},\n",
              "  {'patterns': ['Qu’est-ce que la COVID-19 ?',\n",
              "    'Qu’est-ce que la COVID 19 ?',\n",
              "    'Qu’est-ce que une COVID-19 ?',\n",
              "    \"C'est quoi une COVID-19 ?\",\n",
              "    \"C'est quoi la COVID-19 ?\"],\n",
              "   'responses': ['La COVID-19 est la maladie infectieuse causée par le dernier coronavirus qui a été découvert. Ce nouveau virus et cette maladie étaient inconnus avant l’apparition de la flambée à Wuhan (Chine) en décembre 2019. La COVID-19 est maintenant pandémique et touche de nombreux pays dans le monde.'],\n",
              "   'tag': 'COVID-19'},\n",
              "  {'patterns': ['Quels sont les symptômes de la COVID-19 ?',\n",
              "    'Quels sont les symptômes de la COVID 19 ?',\n",
              "    \"C'est quoi les symptômes da la COVID-19 ?\",\n",
              "    'La COVID-19 a quoi comme symptômes ?',\n",
              "    'La COVID 19 a quoi comme symptômes ?'],\n",
              "   'responses': ['Les symptômes les plus fréquents de la \\u200eCOVID-19 sont la fièvre, la toux sèche et la \\u200efatigue. D’autres symptômes moins courants \\u200epeuvent également apparaître chez \\u200ecertaines personnes, comme des \\u200ecourbatures et des douleurs, une congestion \\u200enasale, des maux de tête, une conjonctivite, \\u200edes maux de gorge, une diarrhée, une perte \\u200edu goût ou de l’odorat, une éruption \\u200ecutanée ou une décoloration des doigts de la \\u200emain ou du pied. Ces symptômes sont \\u200egénéralement bénins et apparaissent de \\u200emanière progressive. Certaines personnes, \\u200ebien qu’infectées, ne présentent que des \\u200esymptômes très discrets.\\u200e\\n         La plupart des patients (environ 80 %) \\u200eguérissent sans qu’il soit nécessaire de les \\u200ehospitaliser. Environ une personne sur cinq \\u200econtractant la maladie présente des \\u200esymptômes graves, notamment des \\u200edifficultés à respirer. Les personnes plus \\u200eâgées et celles qui ont d’autres problèmes \\u200ede santé (hypertension artérielle, \\u200eproblèmes cardiaques ou pulmonaires, \\u200ediabète ou cancer) ont plus de risque de \\u200eprésenter des symptômes graves. Toutefois, \\u200en’importe qui peut contracter la COVID-19 et \\u200etomber gravement malade. Les personnes \\u200ede tout âge qui présentent de la fièvre et/ou \\u200eune toux associée à des difficultés à \\u200erespirer/un essoufflement, une \\u200edouleur/une pression au niveau de la \\u200epoitrine, ou bien une perte de la parole ou \\u200edes difficultés à se déplacer doivent \\u200econsulter un médecin immédiatement. Il est \\u200erecommandé, dans la mesure du possible, \\u200ed’appeler le prestataire de soins ou \\u200el’établissement de santé au préalable, de \\u200esorte que le patient soit dirigé vers le service \\u200eadapté.\\u200e'],\n",
              "   'tag': 'symptômes'},\n",
              "  {'patterns': ['Que faire en cas de symptômes de la COVID-19',\n",
              "    'Que faire en cas de symptômes de la COVID 19',\n",
              "    'Je pense avoir des symptômes de la COVID 19, que dois-je faire ?',\n",
              "    'Quand dois-je consulter un médecin ?'],\n",
              "   'responses': ['En cas de symptômes discrets, par exemple une toux ou une fièvre légère, il n’est généralement pas nécessaire de consulter un médecin. Restez chez vous, isolez-vous et surveillez l’évolution des symptômes. Suivez les instructions nationales en matière d’auto-isolement. Cependant, si vous habitez dans une région où le paludisme ou la dengue sévit, il faut absolument consulter un médecin en cas de fièvre. Quand vous allez dans un établissement de santé, portez un masque, restez à une distance d’au moins un mètre des autres personnes et ne touchez pas les surfaces avec les mains. Aidez les enfants malades à suivre également ces conseils.'],\n",
              "   'tag': 'consultation'},\n",
              "  {'patterns': [\"J'ai des difficultés à respirer\",\n",
              "    \"J'ai des douleurs dans la poitrine\",\n",
              "    \"J'ai des oppressions dans la poitrine\"],\n",
              "   'responses': ['En cas de difficultés à respirer ou de douleur/d’oppression dans la poitrine, consultez immédiatement un médecin. Si possible, appelez d’abord votre médecin afin qu’il puisse vous orienter vers l’établissement de santé le plus adapté.'],\n",
              "   'tag': 'respiration'},\n",
              "  {'patterns': ['Comment la COVID-19 se propage-t-elle ?',\n",
              "    'Comment la COVID 19 se propage-t-elle ?',\n",
              "    'Comment se propage la COVID-19 ?',\n",
              "    'Comment se propage la COVID 19 ?'],\n",
              "   'responses': ['La COVID-19 est transmise par des personnes porteuses du virus. La maladie se transmet principalement d’une personne à l’autre par le biais de gouttelettes respiratoires expulsées par le nez ou par la bouche lorsqu’une personne malade tousse, éternue ou parle. Ces gouttelettes sont relativement lourdes, ne parcourent pas de grandes distances et tombent rapidement au sol. Il est possible de contracter la COVID-19 en cas d’inhalation de ces gouttelettes. C’est pourquoi il est important de se tenir à un mètre au moins des autres personnes. Ces gouttelettes peuvent se retrouver sur des objets ou des surfaces autour de la personne malade (tables, poignées de porte et rampes, par exemple). On peut alors contracter la COVID-19 si on touche ces objets ou ces surfaces et si on se touche ensuite les yeux, le nez ou la bouche. Il faut donc se laver régulièrement les mains à l’eau et au savon ou avec une solution hydroalcoolique.\\n         L’OMS examine les travaux de recherche en cours sur la manière dont la COVID-19 se propage et elle continuera à communiquer les résultats actualisés.'],\n",
              "   'tag': 'propagation'},\n",
              "  {'patterns': [\"Peut-on contracter la COVID-19 au contact d'une personne qui ne présente aucun symptôme ?\",\n",
              "    \"Peut-on contracter la COVID 19 au contact d'une autre personne n'ayant aucun symptôme ?\",\n",
              "    \"Peut-on contracter la COVID-19 au contact d'une autre personne ?\"],\n",
              "   'responses': ['La COVD-19 se propage principalement par les gouttelettes respiratoires expulsées par les personnes qui toussent ou qui ont d’autres symptômes, comme la fièvre ou la fatigue. Beaucoup de personnes atteintes ne présentent que des symptômes discrets. C’est particulièrement vrai aux premiers stades de la maladie. Il est donc possible de contracter la COVID-19 au contact d’une personne qui n’a, par exemple, qu’une toux légère mais qui ne se sent pas malade.\\n         Selon certaines informations, les personnes asymptomatiques pourraient transmettre le virus. On ne sait pas encore à quelle fréquence cela se produit. L’OMS examine les travaux de recherche en cours sur ce point et elle continuera à communiquer des résultats actualisés.'],\n",
              "   'tag': 'contraction'},\n",
              "  {'patterns': ['Comment se protéger et protéger les autres si on ne sait pas qui est infecté ?',\n",
              "    \"Comment se protéger et protéger les autres en cas d'infection ?\",\n",
              "    \"Comment protéger les autres en cas d'infection ?\",\n",
              "    'Comment se protéger autres si on ne sait pas qui est infecté ?'],\n",
              "   'responses': ['Il est important de se laver SYSTÉMATIQUEMENT les mains et de TOUJOURS respecter les règles d’hygiène respiratoire. C’est la meilleure façon de se protéger et de protéger les autres.\\n         Si possible, tenez-vous à au moins un mètre des autres personnes. C’est particulièrement important si la personne la plus proche de vous tousse ou éternue. Comme certaines personnes infectées ne présentent pas de symptômes ou présentent des symptômes discrets, il est préférable de toujours garder une distance physique avec les autres personnes si vous habitez dans une région où le virus de la COVID-19 circule. '],\n",
              "   'tag': 'protéger'},\n",
              "  {'patterns': [\"Que faire si j'ai été en contact proche avec quelqu'un qui a la COVID-19 ? \",\n",
              "    \"Que faire si j'ai été en contact proche avec quelqu'un contaminé par la COVID-19 ?\",\n",
              "    \"Que faire si j'ai été en contact avec quelqu'un contaminé par le coronavirus ? \"],\n",
              "   'responses': ['Si vous avez été en contact proche avec quelqu’un qui a la COVID-19, il se peut que vous soyez infecté.\\n         On considère qu’il y a eu contact proche si vous vivez avec une personne malade ou si vous vous êtes trouvé à moins d’un mètre cette personne. Dans ces cas, il est préférable que vous restiez chez vous.\\n         Cependant, si vous habitez dans une région où le paludisme ou la dengue sévit, il faut absolument consulter un médecin en cas de fièvre. Quand vous allez dans un établissement de santé, portez un masque, restez à une distance d’au moins un mètre des autres personnes et ne touchez pas les surfaces avec les mains. Aidez les enfants malades à suivre également ces conseils.\\n         Si vous n’habitez pas dans une région où le paludisme ou la dengue sévit, procédez comme suit :\\n         Si vous présentez des symptômes, même très discrets, comme une légère fièvre et des douleurs, vous devez vous isoler à votre domicile.\\n         En présence de symptômes, isolez-vous et surveillez l’évolution de votre état de santé même si vous pensez ne pas avoir été exposé à la COVID-19.\\n         Il est très important de s’isoler précocement car la probabilité d’infecter d’autres personnes est plus élevée aux premiers stades de la maladie, alors que les symptômes sont discrets.\\n         Si vous n’avez pas de symptômes mais avez été exposé à une personne infectée, placez-vous en quarantaine pendant 14 jours.\\n         En cas de confirmation de la COVID-19 à l’issue d’un test, isolez-vous pendant 14 jours, même après la disparition des symptômes, à titre de précaution. On ne sait pas encore exactement pendant combien de temps les personnes restent infectieuses après la guérison. Suivez les instructions nationales en matière d’auto-isolement.'],\n",
              "   'tag': 'contact'},\n",
              "  {'patterns': [\"Qu'est-ce que l'auto-isolement ?\",\n",
              "    \"Qu'est-ce que l'auto isolement ?\",\n",
              "    \"Qu'est-ce que la quarantaine ?\",\n",
              "    \"C'est quoi une quarantaine ?\"],\n",
              "   'responses': ['L’auto-isolement est une mesure importante que doivent prendre les personnes qui présentent des symptômes de la COVID-19 pour éviter d’infecter d’autres personnes dans leur entourage, y compris les membres de leur famille.\\n         L’auto-isolement consiste, pour une personne qui a de la fièvre, qui tousse ou qui a d’autres symptômes de la COVID-19, à rester à son domicile et à ne pas se rendre sur son lieu de travail, dans son établissement scolaire ou dans les lieux publics. Cet auto-isolement peut être volontaire ou répondre à la recommandation d’un médecin. Cependant, si vous habitez dans une région où le paludisme ou la dengue sévit, il faut absolument consulter un médecin en cas de fièvre. Quand vous allez dans un établissement de santé, portez un masque, restez à une distance d’au moins un mètre des autres personnes et ne touchez pas les surfaces avec les mains. Aidez les enfants malades à suivre également ces conseils.\\n         Si vous n’habitez pas dans une région où le paludisme ou la dengue sévit, procédez comme suit :\\n         Les personnes qui sont gravement malades (qui ont besoin de soins médicaux) ne doivent pas s’isoler de leur propre initiative.\\n         Installez-vous seul dans une grande pièce bien aérée depuis laquelle vous pouvez accéder facilement à un lavabo pour vous laver les mains et à des toilettes.\\n         Si c’est impossible, placez chaque lit à un mètre au moins l’un de l’autre.\\n         Tenez-vous à au moins un mètre des autres personnes, même des membres de votre famille.\\n         Surveillez quotidiennement l’évolution des symptômes.\\n         Isolez-vous pendant 14 jours même si vous avez l’impression d’être en bonne santé.\\n         En cas de difficultés respiratoires, contactez immédiatement votre médecin, en l’appelant d’abord si possible.\\n         Gardez le moral en restant en contact avec les personnes que vous aimez, par téléphone ou en ligne, et en faisant de l’exercice chez vous.'],\n",
              "   'tag': 'isolement'},\n",
              "  {'patterns': [\"Que faire si je n'ai pas de symptômes mais si je pense avoir été exposé à la COVID-19 ?\",\n",
              "    'Que faire si je pense avoir été exposé au coronavirus ?',\n",
              "    'Que faire si je pense avoir été exposé à la COVID-19 ?',\n",
              "    \"Qu'est-ce que l'auto-quarantaine ?\",\n",
              "    \"Qu'est-ce que l'auto quarantaine ?\",\n",
              "    \"C'est quoi une auto-quarantaine ?\",\n",
              "    \"C'est quoi une quarantaine ?\",\n",
              "    \"Qu'est-ce que la quarantaine ? \"],\n",
              "   'responses': ['L’auto-quarantaine consiste, même si vous ne présentez aucun symptôme, à vous mettre à l’écart des autres personnes parce que vous avez été exposé à la COVID-19. Pendant l’auto-quarantaine, vous devez surveiller l’évolution des symptômes. Le but de l’auto-quarantaine est de prévenir la transmission. Comme les personnes qui contractent la COVID-19 peuvent infecter immédiatement d’autres personnes, l’auto-quarantaine permet de prévenir la survenue de certaines infections.\\n         Dans ce cas :\\n         Installez-vous seul dans une grande pièce bien aérée depuis laquelle vous pouvez accéder facilement à un lavabo pour vous laver les mains et à des toilettes.\\n         Si c’est impossible, placez chaque lit à un mètre au moins l’un de l’autre.\\n         Tenez-vous à au moins un mètre des autres personnes, même des membres de votre famille.\\n         Surveillez quotidiennement l’évolution des symptômes.\\n         Restez en quarantaine pendant 14 jours même si vous avez l’impression d’être en bonne santé.\\n         En cas de difficultés respiratoires, contactez immédiatement votre médecin, en l’appelant d’abord si possible.\\n         Gardez le moral en restant en contact avec les personnes que vous aimez, par téléphone ou en ligne, et en faisant de l’exercice chez vous.\\n         Cependant, si vous habitez dans une région où le paludisme ou la dengue sévit, il faut absolument consulter un médecin en cas de fièvre. Quand vous allez dans un établissement de santé, portez un masque, restez à une distance d’au moins un mètre des autres personnes et ne touchez pas les surfaces avec les mains. Aidez les enfants malades à suivre également ces conseils.'],\n",
              "   'tag': 'quarantaine'},\n",
              "  {'patterns': [\"Quelle est la différence entre l'auto-isolement, l'auto-quarantaine et la distanciation physique ?\",\n",
              "    \"Quelle est la différence entre l'auto isolement, l'auto quarantaine et la distanciation physique ?\",\n",
              "    \"Quelle est la différence entre l'isolement, la quarantaine ?\",\n",
              "    \"C'est quoi la différence entre l'isolement, la quarantaine ?\"],\n",
              "   'responses': ['La quarantaine consiste à mettre à l’écart les personnes qui ne sont pas malades mais qui ont été exposées à la COVID-19, ou à restreindre leurs activités. Il s’agit d’éviter que la maladie ne se propage au moment où les personnes présentent les premiers symptômes.\\n         L’isolement consiste à mettre à l’écart les personnes qui présentent des symptômes de la COVID-19 et qui peuvent être infectieuses afin d’éviter que la maladie ne se propage.\\n         La distanciation physique consiste à garder physiquement une distance avec les autres personnes. L’OMS recommande de se tenir à au moins un mètre. C’est une mesure générale qui doit être appliquée par chacun, même en l’absence de symptômes ou d’exposition connue à la COVID-19.'],\n",
              "   'tag': 'différence'},\n",
              "  {'patterns': ['Les enfants ou les adolescents peuvent-ils contracter la COVID-19 ?',\n",
              "    'Les enfants ou les adolescents peuvent-ils contracter la COVID 19 ?',\n",
              "    'Les enfants peuvent-ils contracter la COVID?',\n",
              "    'Les enfants peuvent-ils contracter le coronavirus ?',\n",
              "    'Les adolescents peuvent-ils contracter le coronavirus ?',\n",
              "    'Les adolescents peuvent-ils contracter la COVID ?',\n",
              "    'Les ados peuvent-ils contracter le coronavirus ?'],\n",
              "   'responses': ['Les travaux de recherche montrent que la probabilité de contracter l’infection est la même chez les enfants et les adolescents que dans les autres groupes d’âge et que les enfants et les adolescents peuvent propager la maladie.\\n         Les données disponibles à ce jour semblent indiquer que les enfants et les jeunes adultes risquent moins d’être gravement atteints, mais des cas graves peuvent tout de même survenir dans ces groupes d’âge.\\n         Les enfants et les adultes doivent suivre les mêmes conseils en matière d’auto-quarantaine et d’auto-isolement en cas d’exposition ou de symptômes. Il est particulièrement important que les enfants évitent les contacts avec les personnes âgées et les autres personnes risquant d’être gravement atteintes.'],\n",
              "   'tag': 'enfants'},\n",
              "  {'patterns': ['Comment puis-je me protéger et éviter que la maladie ne se propage ?',\n",
              "    'Comment éviter que la maladie ne se propage ?'],\n",
              "   'responses': ['Tenez-vous au courant des dernières informations sur la flambée de COVID-19, disponibles sur le site Web de l’OMS et auprès des autorités de santé publique nationales et locales. Des cas de COVID-19 se sont produits dans la plupart des pays et de nombreux pays sont touchés par des flambées. Dans certains pays, les autorités sont parvenues à ralentir la progression de la flambée. Toutefois, l’évolution de la situation est imprévisible et vous devez donc vous tenir régulièrement informé.\\n         Vous pouvez réduire le risque d’être infecté ou de propager la COVID-19 en prenant quelques précautions simples :\\n         Se laver fréquemment et soigneusement les mains avec une solution hydroalcoolique ou à l’eau et au savon.\\n         Se laver les mains avec une solution hydroalcoolique ou à l’eau et au savon tue le virus s’il est présent sur vos mains.\\n         Maintenir une distance d’au moins un mètre avec les autres personnes.\\n         Lorsqu’une personne tousse ou éternue, elle expulse par le nez ou par la bouche de petites gouttelettes qui peuvent contenir le virus. Si vous êtes trop près, vous pouvez inhaler ces gouttelettes et donc le virus responsable de la COVID-19 si la personne en est porteuse.\\n         Éviter les lieux très fréquentés.\\n         Dans les lieux très fréquentés, la probabilité d’être en contact proche avec quelqu’un qui a la COVID-19 est plus élevée et il est plus difficile de maintenir une distance physique d’un mètre.\\n         Éviter de se toucher les yeux, le nez et la bouche.\\n         Les mains sont en contact avec de nombreuses surfaces qui peuvent être contaminées par le virus. Si vous vous touchez les yeux, le nez ou la bouche, le virus peut pénétrer dans votre organisme et vous infecter.\\n         Veillez à respecter les règles d’hygiène respiratoire et à ce que les personnes autour de vous en fassent autant. En cas de toux ou d’éternuement, il faut se couvrir la bouche et le nez avec le pli du coude, ou avec un mouchoir et jeter le mouchoir immédiatement après puis se laver les mains.\\n         Les gouttelettes respiratoires propagent des virus. En respectant les règles d’hygiène respiratoire, vous protégez les personnes autour de vous de virus tels que ceux responsables du rhume, de la grippe ou de la COVID-19.\\n         Si vous avez des symptômes, mêmes bénins (toux, maux de tête, légère fièvre), restez chez vous jusqu’à la guérison. Demandez à quelqu’un de faire les courses pour vous. Si vous devez sortir, portez un masque pour éviter d’infecter d’autres personnes.\\n         En évitant les contacts avec d’autres personnes, vous protégez ces dernières d’une contamination éventuelle par le virus de la COVID-19 et d’autres virus.\\n         En cas de fièvre, de toux et de dyspnée, consultez un médecin, si possible après l’avoir appelé par téléphone, et suivez les instructions des autorités sanitaires locales.\\n         Ce sont les autorités nationales et locales qui disposent des informations les plus récentes sur la situation dans la région où vous vous trouvez. Si vous l’appelez, votre médecin pourra vous orienter rapidement vers l’établissement de santé le plus adapté. En outre, cela vous protègera et évitera la propagation de virus et d’autres agents infectieux.\\n         Pour vous informer, consultez des sources fiables, telles que l’OMS et les autorités sanitaires locales et nationales.\\n         Les autorités locales et nationales sont les mieux placées pour vous indiquer comment vous protéger.'],\n",
              "   'tag': 'propage'},\n",
              "  {'patterns': ['Existe-t-il un vaccin, un médicament ou un traitement contre la COVID-19 ?',\n",
              "    'Existe-t-il un vaccin contre la COVID-19 ?',\n",
              "    'Existe-t-il un vaccin contre le coronavirus ?',\n",
              "    'Existe-t-il un médicament contre la COVID-19 ?',\n",
              "    'Existe-t-il un médicament contre le coronavirus ?',\n",
              "    'Existe-t-il un traitement contre la COVID-19 ?',\n",
              "    'Existe-t-il un traitement contre le coronavirus ?'],\n",
              "   'responses': ['Certains remèdes occidentaux, traditionnels \\u200eou domestiques peuvent apporter du \\u200econfort et soulager les symptômes de la \\u200eCOVID-19 dans le cas d’une infection \\u200ebénigne, mais aucune étude n’a permis de \\u200edémontrer l’efficacité d’un médicament \\u200eactuel pour prévenir ou traiter la maladie. \\u200eL’OMS ne recommande de prendre aucun \\u200emédicament, y compris les antibiotiques, en \\u200eautomédication pour prévenir ou guérir la \\u200eCOVID-19. Cependant, plusieurs essais \\u200ecliniques de médicaments occidentaux ou \\u200etraditionnels sont en cours. L’OMS \\u200ecoordonne les efforts pour concevoir des \\u200evaccins et des médicaments pour la \\u200eprévention et le traitement de la COVID-19 \\u200eet continuera de fournir des informations \\u200emises à jour à mesure que les résultats des \\u200erecherches seront disponibles.\\u200e\\n         Le meilleur moyen de se protéger et de protéger les autres de la COVID-19 est :\\n         de se laver les mains souvent et soigneusement ;\\n         d’éviter de se toucher les yeux, la bouche et le nez ;\\n         de tousser dans le pli du coude, ou dans un mouchoir à usage unique puis de jeter le mouchoir immédiatement après et de se laver les mains ;\\n         de garder une distance d’au moins un mètre avec les autres personnes.'],\n",
              "   'tag': 'traitement'},\n",
              "  {'patterns': [\"L'OMS recommande-t-elle le port du masque médical pour éviter que la COVID-19 ne se propage ?\",\n",
              "    \"L'OMS recommande-t-elle le port du masque ?\",\n",
              "    \"Le port du masque est-il recommandé L'OMS ? \",\n",
              "    'Le port du masque est-il recommandé ? '],\n",
              "   'responses': ['Il n’y a actuellement pas assez de données permettant de formuler des recommandations tendant à conseiller ou à déconseiller le port du masque (médical ou autre) aux personnes en bonne santé dans les espaces collectifs. Toutefois, l’OMS étudie activement les connaissances scientifiques au sujet des masques, qui évoluent rapidement, et actualise en permanence ses orientations.\\n         Le port du masque médical est principalement recommandé dans les établissements de soins, mais il peut être envisagé dans d’autres circonstances (voir ci-dessous). Il doit être associé à d’autres mesures essentielles de lutte anti-infectieuse, comme l’hygiène des mains et la distanciation physique.\\n         Les masques médicaux et les masques de protection respiratoire N95, FFP2 ou équivalents doivent être réservés aux soignants quand ils prennent en charge des patients. En effet, les soignants sont les plus exposés à la COVID-19, car celle-ci se transmet principalement en cas de contact proche avec un cas présumé ou confirmé et son environnement immédiat.\\n         Les personnes malades qui présentent des symptômes bénins (douleurs musculaires, légère toux, maux de gorge ou fatigue) doivent s’isoler à leur domicile et porter un masque médical suivant les recommandations de l’OMS relatives à la prise en charge à domicile des cas présumés de COVID-19. La toux, les éternuements ou le fait de parler peuvent produire des gouttelettes susceptibles de propager l’infection. Ces gouttelettes peuvent atteindre le visage des personnes alentour et se retrouver dans l’environnement proche. Si une personne infectée porte un masque médical alors qu’elle tousse, éternue ou parle, les gens autour d’elle seront plus facilement protégés de l’infection.\\n         Si une personne malade doit se rendre dans un établissement de santé, elle doit porter un masque médical.\\n         Les personnes qui s’occupent de patients atteints de la COVID-19 doivent porter un masque médical pour se protéger car les contacts proches, fréquents et prolongés avec ces patients exposent les personnes qui s’en occupent à un risque élevé.\\n         Les décideurs nationaux peuvent aussi choisir de recommander le port du masque médical à certaines personnes en fonction des risques. Cette approche tient compte du but du masque, du risque d’exposition et de la vulnérabilité du porteur, du contexte, de la possibilité de porter le masque et des types de masque envisagés.'],\n",
              "   'tag': 'masque'},\n",
              "  {'patterns': ['Comment porter correctement un masque médical ?',\n",
              "    'Comment porter correctement un masque ?',\n",
              "    'Comment porter un masque?'],\n",
              "   'responses': ['Si vous choisissez de porter un masque :\\n         Avant de mettre un masque, se laver les mains avec une solution hydroalcoolique ou à l’eau et au savon.\\n         Vérifier que le masque n’est ni déchiré ni troué.\\n         Orienter le masque dans le bon sens (bande métallique vers le haut).\\n         Vérifier que la face colorée du masque est placée vers l’extérieur.\\n         Placer le masque sur le visage. Pincer la bande métallique ou le bord dur du masque afin qu’il épouse la forme du nez.\\n         Tirer le bas du masque pour recouvrir la bouche et le menton.\\n         Ne pas toucher le masque pendant que vous le portez.\\n         Après usage, retirer le masque en ayant les mains propres, enlever les élastiques de derrière les oreilles tout en éloignant le masque du visage et des vêtements afin d’éviter de toucher des parties du masque éventuellement contaminées.\\n         Ne pas réutiliser le masque. Jeter le masque dans une poubelle fermée immédiatement après usage.\\n         Après avoir touché ou jeté le masque, se laver les mains avec une solution hydroalcoolique ou à l’eau et au savon si elles sont visiblement sales.\\n         Sachez qu’il y a une pénurie mondiale de masques médicaux (chirurgicaux et N95). Ces masques doivent être réservés autant que possible aux soignants.\\n         N’oubliez pas que le port du masque ne remplace pas d’autres moyens plus efficaces de se protéger et de protéger les autres de la COVID-19 (se laver fréquemment les mains, tousser dans le pli du coude ou dans un mouchoir et se tenir à une distance d’au moins un mètre des autres personnes). Pour plus d’informations, consultez les mesures de protection essentielles contre le nouveau coronavirus.\\n         Suivez les conseils des autorités sanitaires nationales concernant le port du masque.'],\n",
              "   'tag': 'porter'},\n",
              "  {'patterns': [\"Combien de temps s'écoule entre l'exposition au virus de la COVID-19 et l'apparition des symptômes ?\",\n",
              "    \"Combien de temps s'écoule entre l'exposition au coronavirus et l'apparition des symptômes ?\",\n",
              "    \"Combien de temps entre l'exposition au coronavirus et l'apparition des symptômes ?\"],\n",
              "   'responses': ['Le délai qui s’écoule entre l’exposition au virus de la COVID-19 et l’apparition des symptômes est habituellement de cinq à six jours, mais il peut aller d’un à 14 jours.'],\n",
              "   'tag': 'exposition'},\n",
              "  {'patterns': ['Quel est le lien entre la COVID-19 et les animaux ?',\n",
              "    'Quel est le lien entre le coronavirus et les animaux ?',\n",
              "    'Quel est le lien entre la COVID 19 et les animaux ?'],\n",
              "   'responses': ['La COVID-19 se transmet d’une personne à l’autre.\\n         Nous disposons déjà de beaucoup d’informations sur les autres coronavirus et la plupart de ces types de virus ont une origine animale. Le virus de la COVID-19 (aussi appelé SARS-CoV-2) est nouveau chez l’homme. La source animale éventuelle de la COVID-19 n’a pas encore été confirmée, mais des travaux de recherche sont en cours.\\n         L’OMS continue à suivre les travaux de recherche sur ce sujets et d’autres sujets liés à la COVID-19, et elle publiera des informations actualisées quand de nouveaux résultats seront disponibles.'],\n",
              "   'tag': 'animaux'},\n",
              "  {'patterns': ['Mon animal domestique peut-il me transmettre la COVID-19 ?',\n",
              "    'Mon animal domestique peut-il me transmettre la COVID 19 ?',\n",
              "    'Mon animal domestique peut-il me transmettre le coronavirus ?',\n",
              "    'Mon animal de compagnie peut-il me transmettre la COVID-19 ?',\n",
              "    'Mon animal de compagnie peut-il me transmettre la COVID 19 ?',\n",
              "    'Mon animal de compagnie peut-il me transmettre le coronavirus ?'],\n",
              "   'responses': [\"Plusieurs chiens et chats (domestiques) et un tigre en contact avec des êtres humains infectés ont été testés positifs à la COVID-19. Les furets semblent également être sensibles à l’infection. Dans des conditions expérimentales, les chats et les furets pouvaient transmettre l’infection à d’autres animaux de la même espèce, mais rien ne prouve que ces animaux puissent transmettre la maladie à l’homme et jouer un rôle dans sa propagation. La COVID-19 se transmet principalement par les gouttelettes expulsées par les personnes infectées quand elles toussent, éternuent ou parlent.\\n         Il est tout de même recommandé aux personnes atteintes de la COVID-19 et aux personnes à risque de limiter les contacts avec les animaux de compagnie et les autres animaux. Des mesures d'hygiène de base doivent toujours être appliquées quand on manipule les animaux ou on leur prodigue des soins (se laver les mains avant et après avoir été à proximité ou avoir manipulé les animaux, leur nourriture ou leurs affaires et éviter de les embrasser, de se faire lécher ou de partager de leur nourriture). On trouvera d’autres recommandations sur le site Web de l’OIE, à l’adresse https://www.oie.int/fr/expertise-scientifique/informations-specifiques-et-recommandations/questions-et-reponses-sur-le-nouveau-coronavirus2019/.\\n         L’OMS continue à suivre les travaux de recherche sur ce sujets et d’autres sujets liés à la COVID-19 et elle publiera des informations actualisées quand de nouveaux résultats seront disponibles.\"],\n",
              "   'tag': 'domestiques'},\n",
              "  {'patterns': ['Combien de temps le virus survit-il sur les surfaces ?',\n",
              "    'Le virus survit pendant combien de temps sur les surfaces ?',\n",
              "    'Le coronavirus survit pendant combien de temps sur les surfaces ?'],\n",
              "   'responses': ['Le plus important à savoir est que les surfaces peuvent être facilement nettoyées avec un désinfectant ménager courant qui tuera le coronavirus. Des études ont montré que le virus de la COVID-19 peut survivre pendant 72 heures sur le plastique et l’acier inoxydable, moins de quatre heures sur le cuivre et moins de 24 heures sur le carton.\\n         Comme toujours, il faut se laver les mains avec une solution hydroalcoolique ou à l’eau et au savon et éviter de se toucher les yeux, la bouche ou le nez.'],\n",
              "   'tag': 'temps'},\n",
              "  {'patterns': ['Comment faire ses courses en toute sécurité ?',\n",
              "    'Comment faire ses courses ?'],\n",
              "   'responses': ['Quand vous faites vos courses, restez à une distance d’au moins un mètre des autres personnes et évitez de vous toucher les yeux, la bouche et le nez. Si possible, désinfectez les poignées des chariots ou les anses des paniers avant de commencer à faire vos achats. Lavez-vous soigneusement les mains dès que vous rentrez chez vous et après avoir manipulé et rangé les articles que vous avez achetés. Aucun cas confirmé de COVID-19 n’a encore été transmis par les aliments ou les emballages des denrées.'],\n",
              "   'tag': 'courses'},\n",
              "  {'patterns': ['Comment laver les fruits et légumes ?',\n",
              "    'Comment laver les fruits et légumes en toute sécurité?'],\n",
              "   'responses': ['Les fruits et légumes sont des éléments importants d’une alimentation saine. Lavez-les comme vous le feriez en temps ordinaire : lavez-vous d’abord les mains à l’eau et au savon puis lavez soigneusement les fruits et légumes à l’eau claire, en particulier si vous les consommez crus.'],\n",
              "   'tag': 'manger'},\n",
              "  {'patterns': ['Les antibiotiques sont-ils efficaces pour prévenir ou traiter la COVID-19 ?',\n",
              "    'Les antibiotiques sont-ils efficaces pour prévenir la COVID-19 ?',\n",
              "    'Les antibiotiques sont-ils efficaces pour traiter la COVID-19 ?',\n",
              "    'Les antibiotiques sont-ils efficaces pour prévenir le coronavirus ?',\n",
              "    'Les antibiotiques sont-ils efficaces pour traiter le coronavirus ?'],\n",
              "   'responses': ['Non, les antibiotiques n’agissent pas contre les virus, mais seulement contre les infections bactériennes. La COVID-19 étant due à un virus, les antibiotiques sont inefficaces. Ils ne doivent pas être utilisés comme moyen de prévention ou de traitement de la COVID-19. À l’hôpital, les médecins auront parfois recours à des antibiotiques pour prévenir ou traiter une surinfection bactérienne, qui peut être une complication de la COVID-19 chez les patients gravement atteints. Les antibiotiques doivent être utilisés seulement sur prescription médicale pour traiter une infection bactérienne.'],\n",
              "   'tag': 'antibio'},\n",
              "  {'patterns': [\"Puis-je contracter la COVID-19 par contact avec les matières fécales d'une personne malade ?\",\n",
              "    \"Puis-je contracter la COVID 19 par contact avec les matières fécales d'une personne malade ?\",\n",
              "    \"Puis-je contracter le coronavirus par contact avec les matières fécales d'une personne contaminée ?\"],\n",
              "   'responses': ['Les premières investigations semblent indiquer que le virus peut être présent dans les matières fécales dans certains cas mais, à ce jour, aucun cas de transmission oro-fécale de la COVD-19 n’a été rapporté. En outre, il n’y a aujourd’hui aucune donnée prouvant que le virus de la COVID-19 survit dans l’eau ou dans les eaux usées.\\n         L’OMS examine les travaux de recherche en cours sur les modes de propagation de la COVID-19 et elle continuera à publier les nouveaux résultats obtenus sur ce sujet.'],\n",
              "   'tag': 'fécales'}]}"
            ]
          },
          "metadata": {
            "tags": []
          },
          "execution_count": 14
        }
      ]
    },
    {
      "cell_type": "code",
      "metadata": {
        "id": "jUNlDhkSGVL1",
        "colab_type": "code",
        "colab": {}
      },
      "source": [
        "words = []\n",
        "classes = []\n",
        "documents = []\n",
        "ignore = ['?']\n",
        "# loop through each sentence in the intent's patterns\n",
        "for intent in intents['intents']:\n",
        "    for pattern in intent['patterns']:\n",
        "        # tokenize each and every word in the sentence\n",
        "        w = nltk.word_tokenize(pattern)\n",
        "        # add word to the words list\n",
        "        words.extend(w)\n",
        "        # add word(s) to documents\n",
        "        documents.append((w, intent['tag']))\n",
        "        # add tags to our classes list\n",
        "        if intent['tag'] not in classes:\n",
        "            classes.append(intent['tag'])"
      ],
      "execution_count": 0,
      "outputs": []
    },
    {
      "cell_type": "code",
      "metadata": {
        "id": "GO7b9xTwHJMJ",
        "colab_type": "code",
        "outputId": "d63329aa-d867-49a8-fd08-ba19d5c1831d",
        "colab": {
          "base_uri": "https://localhost:8080/",
          "height": 88
        }
      },
      "source": [
        "# Perform stemming and lower each word as well as remove duplicates\n",
        "words = [stemmer.stem(w.lower()) for w in words if w not in ignore]\n",
        "words = sorted(list(set(words)))\n",
        "\n",
        "# remove duplicate classes\n",
        "classes = sorted(list(set(classes)))\n",
        "\n",
        "print (len(documents), \"documents\")\n",
        "print (len(classes), \"classes\", classes)\n",
        "print (len(words), \"unique stemmed words\", words)"
      ],
      "execution_count": 16,
      "outputs": [
        {
          "output_type": "stream",
          "text": [
            "114 documents\n",
            "28 classes ['COVID-19', 'animaux', 'antibio', 'au revoir', 'consultation', 'contact', 'contraction', 'coronavirus', 'courses', 'différence', 'domestiques', 'enfants', 'exposition', 'fécales', 'isolement', 'manger', 'masque', 'merci', 'porter', 'propagation', 'propage', 'protéger', 'quarantaine', 'respiration', 'salutation', 'symptômes', 'temps', 'traitement']\n",
            "162 unique stemmed words [',', '19', 'a', 'ado', 'adolesc', 'anim', 'animaux', 'antibiot', 'au', 'aucun', 'aut', 'auto-quarantaine', 'avec', 'avoir', 'beaucoup', 'bonjo', 'bye', \"c'est\", 'cas', 'ce', 'ciao', 'com', 'comby', 'compagny', 'consult', 'cont', 'contact', 'contaminé', 'contract', 'coron', 'coronavir', 'correct', 'cours', 'covid', 'covid-19', \"d'infection\", \"d'une\", 'da', 'dan', 'de', 'des', 'difficulté', 'différ', 'dist', 'dois-je', 'domest', 'doul', 'du', 'efficac', 'en', 'enf', 'ent', 'est', 'est-ce', 'est-il', 'et', 'existe-t-il', 'exposé', 'fair', 'fruit', 'fécales', 'hello', 'infecté', 'isol', \"j'ai\", 'je', \"l'apparition\", \"l'auto\", \"l'auto-isolement\", \"l'auto-quarantaine\", \"l'exposition\", \"l'isolement\", \"l'oms\", 'la', 'lav', 'le', 'les', 'lien', 'légumes', 'mai', 'malad', 'malady', 'masqu', 'matièr', 'me', 'merc', 'mon', 'médecin', 'médical', 'médicament', \"n'ai\", \"n'ayant\", 'ne', 'on', 'oppress', 'ou', 'par', 'pas', 'pend', 'pens', 'person', 'peut-il', 'peut-on', 'peuvent-ils', 'phys', 'plu', 'poitrin', 'port', 'pour', 'proch', 'prop', 'propage-t-ell', 'protég', 'présente', 'prévenir', 'puis-je', 'qu', \"qu'est\", \"qu'est-ce\", \"qu'un\", 'quand', 'quarantain', 'que', 'quel', \"quelqu'un\", 'qui', 'quo', 'recommande-t-ell', 'recommandé', 'remercy', 'respir', 'revoir', \"s'écoule\", 'sait', 'salut', 'se', 'ses', 'si', 'sont', 'sont-ils', 'sur', 'surfac', 'survit', 'survit-il', 'symptôm', 'sécurité', 'tard', 'te', 'temp', 'tout', 'trait', 'transmet', 'un', 'va', 'vaccin', 'vas-tu', 'vir', 'à', 'ça', 'été', 'évit', '’']\n"
          ],
          "name": "stdout"
        }
      ]
    },
    {
      "cell_type": "code",
      "metadata": {
        "id": "vziuGlP1Iq-P",
        "colab_type": "code",
        "colab": {}
      },
      "source": [
        "# create training data\n",
        "training = []\n",
        "output = []\n",
        "# create an empty array for output\n",
        "output_empty = [0] * len(classes)\n",
        "\n",
        "# create training set, bag of words for each sentence\n",
        "for doc in documents:\n",
        "    # initialize bag of words\n",
        "    bag = []\n",
        "    # list of tokenized words for the pattern\n",
        "    pattern_words = doc[0]\n",
        "    # stemming each word\n",
        "    pattern_words = [stemmer.stem(word.lower()) for word in pattern_words]\n",
        "    # create bag of words array\n",
        "    for w in words:\n",
        "        bag.append(1) if w in pattern_words else bag.append(0)\n",
        "\n",
        "    # output is '1' for current tag and '0' for rest of other tags\n",
        "    output_row = list(output_empty)\n",
        "    output_row[classes.index(doc[1])] = 1\n",
        "\n",
        "    training.append([bag, output_row])\n",
        "\n",
        "# shuffling features and turning it into np.array\n",
        "random.shuffle(training)\n",
        "training = np.array(training)\n",
        "\n",
        "# creating training lists\n",
        "train_x = list(training[:,0])\n",
        "train_y = list(training[:,1])"
      ],
      "execution_count": 0,
      "outputs": []
    },
    {
      "cell_type": "code",
      "metadata": {
        "id": "ZX8rC1x9PVTb",
        "colab_type": "code",
        "outputId": "9f5d0db6-e657-46c3-a13e-386c907732ae",
        "colab": {
          "base_uri": "https://localhost:8080/",
          "height": 119
        }
      },
      "source": [
        "# resetting underlying graph data\n",
        "tf.reset_default_graph()\n",
        "\n",
        "# Building neural network\n",
        "net = tflearn.input_data(shape=[None, len(train_x[0])])\n",
        "net = tflearn.fully_connected(net, 28, activation=\"relu\")\n",
        "net = tflearn.fully_connected(net, 28, activation=\"relu\")\n",
        "net = tflearn.fully_connected(net, len(train_y[0]), activation='softmax')\n",
        "net = tflearn.regression(net)\n",
        "\n",
        "# Defining model and setting up tensorboard\n",
        "model = tflearn.DNN(net, tensorboard_dir='tflearn_logs')\n",
        "\n",
        "# Start training\n",
        "model.fit(train_x, train_y, n_epoch=2500, batch_size=28, show_metric=True)\n",
        "model.save('model.tflearn')"
      ],
      "execution_count": 18,
      "outputs": [
        {
          "output_type": "stream",
          "text": [
            "Training Step: 12499  | total loss: \u001b[1m\u001b[32m0.38917\u001b[0m\u001b[0m | time: 0.017s\n",
            "| Adam | epoch: 2500 | loss: 0.38917 - acc: 0.9316 -- iter: 112/114\n",
            "Training Step: 12500  | total loss: \u001b[1m\u001b[32m0.36207\u001b[0m\u001b[0m | time: 0.022s\n",
            "| Adam | epoch: 2500 | loss: 0.36207 - acc: 0.9349 -- iter: 114/114\n",
            "--\n",
            "INFO:tensorflow:/content/model.tflearn is not in all_model_checkpoint_paths. Manually adding it.\n"
          ],
          "name": "stdout"
        }
      ]
    },
    {
      "cell_type": "code",
      "metadata": {
        "id": "ha2RGmK1Zz5l",
        "colab_type": "code",
        "colab": {}
      },
      "source": [
        "import pickle\n",
        "pickle.dump( {'words':words, 'classes':classes, 'train_x':train_x, 'train_y':train_y}, open( \"training_data\", \"wb\" ) )"
      ],
      "execution_count": 0,
      "outputs": []
    },
    {
      "cell_type": "code",
      "metadata": {
        "id": "ux9WbDZvbAzf",
        "colab_type": "code",
        "colab": {}
      },
      "source": [
        "# restoring all the data structures\n",
        "data = pickle.load( open( \"training_data\", \"rb\" ) )\n",
        "words = data['words']\n",
        "classes = data['classes']\n",
        "train_x = data['train_x']\n",
        "train_y = data['train_y']"
      ],
      "execution_count": 0,
      "outputs": []
    },
    {
      "cell_type": "code",
      "metadata": {
        "id": "Ms17AFyEbEjt",
        "colab_type": "code",
        "colab": {}
      },
      "source": [
        "with open('intents.json') as json_data:\n",
        "    intents = json.load(json_data, strict=False)"
      ],
      "execution_count": 0,
      "outputs": []
    },
    {
      "cell_type": "code",
      "metadata": {
        "id": "WKYk9_FXbLfd",
        "colab_type": "code",
        "outputId": "b8dc269f-8d6c-44c1-f8e4-a4b44076734c",
        "colab": {
          "base_uri": "https://localhost:8080/",
          "height": 105
        }
      },
      "source": [
        "# load the saved model\n",
        "model.load('./model.tflearn')"
      ],
      "execution_count": 23,
      "outputs": [
        {
          "output_type": "stream",
          "text": [
            "WARNING:tensorflow:From /usr/local/lib/python3.6/dist-packages/tensorflow/python/training/saver.py:1266: checkpoint_exists (from tensorflow.python.training.checkpoint_management) is deprecated and will be removed in a future version.\n",
            "Instructions for updating:\n",
            "Use standard file APIs to check for files with this prefix.\n",
            "INFO:tensorflow:Restoring parameters from /content/model.tflearn\n"
          ],
          "name": "stdout"
        }
      ]
    },
    {
      "cell_type": "code",
      "metadata": {
        "id": "VB27k_vQbhu4",
        "colab_type": "code",
        "colab": {}
      },
      "source": [
        "def clean_up_sentence(sentence):\n",
        "    # tokenizing the pattern\n",
        "    sentence_words = nltk.word_tokenize(sentence)\n",
        "    # stemming each word\n",
        "    sentence_words = [stemmer.stem(word.lower()) for word in sentence_words]\n",
        "    return sentence_words\n",
        "\n",
        "# returning bag of words array: 0 or 1 for each word in the bag that exists in the sentence\n",
        "def bow(sentence, words, show_details=False):\n",
        "    # tokenizing the pattern\n",
        "    sentence_words = clean_up_sentence(sentence)\n",
        "    # generating bag of words\n",
        "    bag = [0]*len(words)  \n",
        "    for s in sentence_words:\n",
        "        for i,w in enumerate(words):\n",
        "            if w == s: \n",
        "                bag[i] = 1\n",
        "                if show_details:\n",
        "                    print (\"found in bag: %s\" % w)\n",
        "\n",
        "    return(np.array(bag))"
      ],
      "execution_count": 0,
      "outputs": []
    },
    {
      "cell_type": "code",
      "metadata": {
        "id": "3lToEtkTb5Pr",
        "colab_type": "code",
        "colab": {}
      },
      "source": [
        "ERROR_THRESHOLD = 0.30\n",
        "def classify(sentence):\n",
        "    # generate probabilities from the model\n",
        "    results = model.predict([bow(sentence, words)])[0]\n",
        "    # filter out predictions below a threshold\n",
        "    results = [[i,r] for i,r in enumerate(results) if r>ERROR_THRESHOLD]\n",
        "    # sort by strength of probability\n",
        "    results.sort(key=lambda x: x[1], reverse=True)\n",
        "    return_list = []\n",
        "    for r in results:\n",
        "        return_list.append((classes[r[0]], r[1]))\n",
        "    # return tuple of intent and probability\n",
        "    return return_list\n",
        "\n",
        "def response(sentence, userID='123', show_details=False):\n",
        "    results = classify(sentence)\n",
        "    # if we have a classification then find the matching intent tag\n",
        "    if results:\n",
        "        # loop as long as there are matches to process\n",
        "        while results:\n",
        "            for i in intents['intents']:\n",
        "                # find a tag matching the first result\n",
        "                if i['tag'] == results[0][0]:\n",
        "                    # a random response from the intent\n",
        "                    return print(random.choice(i['responses']))\n",
        "\n",
        "            results.pop(0)"
      ],
      "execution_count": 0,
      "outputs": []
    },
    {
      "cell_type": "code",
      "metadata": {
        "id": "eal_MyIEcC9X",
        "colab_type": "code",
        "outputId": "a95ce926-d0e1-45e3-b6c3-c7ca4bb15560",
        "colab": {
          "base_uri": "https://localhost:8080/",
          "height": 34
        }
      },
      "source": [
        "print(\"inpu_tag, taux de confiance :\",classify('Bonjour?'))"
      ],
      "execution_count": 26,
      "outputs": [
        {
          "output_type": "stream",
          "text": [
            "inpu_tag, taux de confiance : [('salutation', 0.9133561)]\n"
          ],
          "name": "stdout"
        }
      ]
    },
    {
      "cell_type": "code",
      "metadata": {
        "id": "zvFA4ef4cW96",
        "colab_type": "code",
        "colab": {}
      },
      "source": [
        "print(\"response, taux de confiance :\",response('Bonjour?'))"
      ],
      "execution_count": 0,
      "outputs": []
    },
    {
      "cell_type": "code",
      "metadata": {
        "id": "9ox0fJIlOIJ-",
        "colab_type": "code",
        "outputId": "5eeb5807-32a5-4ff2-87fe-d8ea9b73a969",
        "colab": {
          "base_uri": "https://localhost:8080/",
          "height": 54
        }
      },
      "source": [
        "response('Qu’est-ce que la COVID-19 ?')"
      ],
      "execution_count": 27,
      "outputs": [
        {
          "output_type": "stream",
          "text": [
            "La COVID-19 est la maladie infectieuse causée par le dernier coronavirus qui a été découvert. Ce nouveau virus et cette maladie étaient inconnus avant l’apparition de la flambée à Wuhan (Chine) en décembre 2019. La COVID-19 est maintenant pandémique et touche de nombreux pays dans le monde.\n"
          ],
          "name": "stdout"
        }
      ]
    },
    {
      "cell_type": "code",
      "metadata": {
        "id": "4_QtpNdkc5wD",
        "colab_type": "code",
        "colab": {}
      },
      "source": [
        "#Some of other context free responses.\n",
        "response('Quels sont les symptômes de la COVID-19 ?')"
      ],
      "execution_count": 0,
      "outputs": []
    },
    {
      "cell_type": "code",
      "metadata": {
        "id": "3PNLGpl0gKCF",
        "colab_type": "code",
        "colab": {}
      },
      "source": [
        "response('Merci')"
      ],
      "execution_count": 0,
      "outputs": []
    },
    {
      "cell_type": "code",
      "metadata": {
        "id": "wzeIGchZK2fJ",
        "colab_type": "code",
        "colab": {}
      },
      "source": [
        "response('Bye')"
      ],
      "execution_count": 0,
      "outputs": []
    },
    {
      "cell_type": "code",
      "metadata": {
        "id": "SFI-jP97PWfy",
        "colab_type": "code",
        "colab": {
          "base_uri": "https://localhost:8080/",
          "height": 187
        },
        "outputId": "5cf93002-4e75-4201-9047-0063714f299c"
      },
      "source": [
        "def clean_up_sentence(sentence):\n",
        "    # tokenizing the pattern\n",
        "    sentence_words = nltk.word_tokenize(sentence)\n",
        "    # stemming each word\n",
        "    sentence_words = [stemmer.stem(word.lower()) for word in sentence_words]\n",
        "    return sentence_words\n",
        "\n",
        "# returning bag of words array: 0 or 1 for each word in the bag that exists in the sentence\n",
        "def bow(sentence, words, show_details=False):\n",
        "    # tokenizing the pattern\n",
        "    sentence_words = clean_up_sentence(sentence)\n",
        "    # generating bag of words\n",
        "    bag = [0]*len(words)  \n",
        "    for s in sentence_words:\n",
        "        for i,w in enumerate(words):\n",
        "            if w == s: \n",
        "                bag[i] = 1\n",
        "                if show_details:\n",
        "                    print (\"found in bag: %s\" % w)\n",
        "\n",
        "    return(np.array(bag))\n",
        "\n",
        "\n",
        "ERROR_THRESHOLD = 0.30\n",
        "def classify(sentence):\n",
        "    # generate probabilities from the model\n",
        "    results = model.predict([bow(sentence, words)])[0]\n",
        "    # filter out predictions below a threshold\n",
        "    results = [[i,r] for i,r in enumerate(results) if r>ERROR_THRESHOLD]\n",
        "    # sort by strength of probability\n",
        "    results.sort(key=lambda x: x[1], reverse=True)\n",
        "    return_list = []\n",
        "    for r in results:\n",
        "        return_list.append((classes[r[0]], r[1]))\n",
        "    # return tuple of intent and probability\n",
        "    return return_list\n",
        "\n",
        "def response(sentence, userID='123', show_details=False):\n",
        "    results = classify(sentence)\n",
        "    # if we have a classification then find the matching intent tag\n",
        "    if results:\n",
        "        # loop as long as there are matches to process\n",
        "        while results:\n",
        "            for i in intents['intents']:\n",
        "                # find a tag matching the first result\n",
        "                if i['tag'] == results[0][0]:\n",
        "                    # a random response from the intent\n",
        "                    return print(random.choice(i['responses']))\n",
        "\n",
        "            results.pop(0)\n",
        "\n",
        "\n",
        "def chat():\n",
        "    print(\"Start talking with the bot (type quit to stop)!\")\n",
        "    while True:\n",
        "        inp = input(\"You: \")\n",
        "        if inp.lower() == \"quit\":\n",
        "            break\n",
        "        else:\n",
        "          print(\"tag, taux de confiance :\", classify(inp))\n",
        "          print(response(inp))\n",
        "\n",
        "\n",
        "    \n",
        "       \n",
        "chat()"
      ],
      "execution_count": 31,
      "outputs": [
        {
          "output_type": "stream",
          "text": [
            "Start talking with the bot (type quit to stop)!\n",
            "You: salut\n",
            "tag, taux de confiance : [('salutation', 0.9272514)]\n",
            "Bonjour\n",
            "None\n",
            "You: hello\n",
            "tag, taux de confiance : [('salutation', 0.88848704)]\n",
            "Je vais bien, merci\n",
            "None\n",
            "You: quit\n"
          ],
          "name": "stdout"
        }
      ]
    },
    {
      "cell_type": "code",
      "metadata": {
        "id": "bszxgYI5PWdv",
        "colab_type": "code",
        "colab": {}
      },
      "source": [
        ""
      ],
      "execution_count": 0,
      "outputs": []
    },
    {
      "cell_type": "code",
      "metadata": {
        "id": "fIFiDChYPWbP",
        "colab_type": "code",
        "colab": {}
      },
      "source": [
        ""
      ],
      "execution_count": 0,
      "outputs": []
    }
  ]
}