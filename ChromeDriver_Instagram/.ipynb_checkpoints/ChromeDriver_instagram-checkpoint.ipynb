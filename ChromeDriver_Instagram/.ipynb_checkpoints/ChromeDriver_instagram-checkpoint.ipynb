{
 "cells": [
  {
   "cell_type": "markdown",
   "metadata": {},
   "source": [
    "# Demonstration of the class InstagramBot"
   ]
  },
  {
   "cell_type": "markdown",
   "metadata": {},
   "source": [
    "### Importing InstagramBot packages and login information"
   ]
  },
  {
   "cell_type": "code",
   "execution_count": 1,
   "metadata": {},
   "outputs": [],
   "source": [
    "from InstagramBot import InstagramBot\n",
    "from config import *\n",
    "#or\n",
    "#from config import username, password, user, psw, cluster, database, user1, psw1"
   ]
  },
  {
   "cell_type": "code",
   "execution_count": 2,
   "metadata": {
    "scrolled": true
   },
   "outputs": [
    {
     "name": "stdout",
     "output_type": "stream",
     "text": [
      "Help on class InstagramBot in module InstagramBot:\n",
      "\n",
      "class InstagramBot(builtins.object)\n",
      " |  Class InstagramBot(\"username\", \"password\")\n",
      " |  \n",
      " |  Methods defined here:\n",
      " |  \n",
      " |  __init__(self, username, password)\n",
      " |      Initiallize an instance of class InstagramBot\n",
      " |      Call login method for autentification\n",
      " |      \n",
      " |          Args: \n",
      " |              str(username): The instagram username or email_adress\n",
      " |              str(password): The instagram password\n",
      " |          \n",
      " |          Attribute:\n",
      " |              selenium.webdriver.driver.Chrome(): The Chromedriver used to automate browser actions on Instgram.com\n",
      " |  \n",
      " |  download_photos(self)\n",
      " |      download_photos method of class InstagramBot:\n",
      " |          Args: None\n",
      " |      \n",
      " |          Attribute:\n",
      " |              \n",
      " |              The Chromedriver will get to the instagram page of the username or hashtag provided:\n",
      " |                  loop through all photos:\n",
      " |                      download each one of them on a Image folder in local machine\n",
      " |                      copy Image url in the photo_url attribute\n",
      " |      CAUTION:  \n",
      " |          THIS METHOD MUST BE CALLED AFTER INITALISATION OF THE nav_hashtag OR nav_user METHOD\n",
      " |  \n",
      " |  login(self)\n",
      " |      login method called while class InstagramBot instance initialization\n",
      " |      \n",
      " |          Attribute:\n",
      " |      \n",
      " |              The Chromedriver will get to Instagram web site:\n",
      " |      \n",
      " |                  login with the username and passorwd provided and then click on 'Connexion' button\n",
      " |      \n",
      " |                      Click on 'Plus tard' button for Saving login Information\n",
      " |      \n",
      " |                      Click on 'Yes' button for Turn On Notification\n",
      " |  \n",
      " |  nav_hashtag(self, hashtag, Follow_hashtag=True)\n",
      " |      nav_hashtag method of class InstagramBot:\n",
      " |          navigate through hashtag's profile\n",
      " |          \n",
      " |          Args: \n",
      " |              str(hashtag): Instagram hashtag\n",
      " |              bool(Follow_hashtag): Following Instagram hashtag\n",
      " |              \n",
      " |          \n",
      " |          Attribute:\n",
      " |              \n",
      " |              The Chromedriver will get to the instagram page of the hashtag provided:\n",
      " |                  if Follow_hashtag == True:\n",
      " |                      click on Follow button\n",
      " |                  else :\n",
      " |                      pass\n",
      " |                      \n",
      " |                  Scroll down page ten times\n",
      " |          \n",
      " |      \n",
      " |      call user_photos_ref method of class InstagramBot\n",
      " |  \n",
      " |  nav_user(self, user, Follow_user)\n",
      " |      nav_user method of class InstagramBot:\n",
      " |          navigate through user's profile\n",
      " |      \n",
      " |          Args: \n",
      " |              str(user): Instagram username\n",
      " |              bool(Follow_user): Following Instagram user\n",
      " |          \n",
      " |          Attribute:\n",
      " |              \n",
      " |              The Chromedriver will get to the instagram page of the username provided:\n",
      " |              \n",
      " |                 if Follow_user == True:\n",
      " |                      click on Follow button\n",
      " |                      \n",
      " |                  else :\n",
      " |                      pass \n",
      " |      \n",
      " |                  Scroll down page ten times\n",
      " |                  \n",
      " |      call user_photos_ref method of class InstagramBot:\n",
      " |  \n",
      " |  quit(self)\n",
      " |      To quit the Chromedriver and close window\n",
      " |  \n",
      " |  user_photos_ref(self)\n",
      " |      user_photos_ref method of class InstagramBot:\n",
      " |          gathering hashtag's or user's photos references (links url) in the photos_profile attribute\n",
      " |          \n",
      " |      method called automatically by nav_hashtag and nav_user method of class InstagramBot\n",
      " |  \n",
      " |  view_photo_profile(self, Like=False, Save_Photo_comments=False)\n",
      " |      view_photo_profile method of class InstagramBot:\n",
      " |          Args:\n",
      " |              bool(Like) : Like Hashtag's or user Instagram's photos\n",
      " |              bool(Save_Photo_comments): Save All photos comments in the attribute photo_all_comments\n",
      " |              \n",
      " |          Attribute:\n",
      " |              \n",
      " |              The Chromedriver will get to the instagram page of the username or hashtag provided previsiouly:\n",
      " |                  loop through all photos:\n",
      " |              \n",
      " |                      if Like == True:\n",
      " |                          Like all photos\n",
      " |      \n",
      " |                      else :\n",
      " |                          pass \n",
      " |      \n",
      " |                      if Save_Photo_comments == True:\n",
      " |                          Save all Photos comments in the photo_all_comments attribute (list())\n",
      " |                          \n",
      " |                      else:\n",
      " |                          pass\n",
      " |  \n",
      " |  ----------------------------------------------------------------------\n",
      " |  Data descriptors defined here:\n",
      " |  \n",
      " |  __dict__\n",
      " |      dictionary for instance variables (if defined)\n",
      " |  \n",
      " |  __weakref__\n",
      " |      list of weak references to the object (if defined)\n",
      "\n"
     ]
    },
    {
     "data": {
      "text/plain": [
       "None"
      ]
     },
     "metadata": {},
     "output_type": "display_data"
    }
   ],
   "source": [
    "display(help(InstagramBot))"
   ]
  },
  {
   "cell_type": "markdown",
   "metadata": {},
   "source": [
    "### Initialization of bot instance"
   ]
  },
  {
   "cell_type": "code",
   "execution_count": 3,
   "metadata": {},
   "outputs": [],
   "source": [
    "bot = InstagramBot(username, password)"
   ]
  },
  {
   "cell_type": "markdown",
   "metadata": {},
   "source": [
    "### Get to Robert Kiyosaki profile on Instagram and navigate through posts"
   ]
  },
  {
   "cell_type": "code",
   "execution_count": 4,
   "metadata": {},
   "outputs": [
    {
     "name": "stdout",
     "output_type": "stream",
     "text": [
      "Help on method nav_user in module InstagramBot:\n",
      "\n",
      "nav_user(user, Follow_user) method of InstagramBot.InstagramBot instance\n",
      "    nav_user method of class InstagramBot:\n",
      "        navigate through user's profile\n",
      "    \n",
      "        Args: \n",
      "            str(user): Instagram username\n",
      "            bool(Follow_user): Following Instagram user\n",
      "        \n",
      "        Attribute:\n",
      "            \n",
      "            The Chromedriver will get to the instagram page of the username provided:\n",
      "            \n",
      "               if Follow_user == True:\n",
      "                    click on Follow button\n",
      "                    \n",
      "                else :\n",
      "                    pass \n",
      "    \n",
      "                Scroll down page ten times\n",
      "                \n",
      "    call user_photos_ref method of class InstagramBot:\n",
      "\n"
     ]
    }
   ],
   "source": [
    "help(bot.nav_user)"
   ]
  },
  {
   "cell_type": "code",
   "execution_count": 5,
   "metadata": {},
   "outputs": [],
   "source": [
    "# Navigate through Instagram user's profiles\"\n",
    "bot.nav_user(\"therealkiyosaki\", Follow_user=True)"
   ]
  },
  {
   "cell_type": "code",
   "execution_count": 6,
   "metadata": {},
   "outputs": [
    {
     "name": "stdout",
     "output_type": "stream",
     "text": [
      "Help on method nav_hashtag in module InstagramBot:\n",
      "\n",
      "nav_hashtag(hashtag, Follow_hashtag=True) method of InstagramBot.InstagramBot instance\n",
      "    nav_hashtag method of class InstagramBot:\n",
      "        navigate through hashtag's profile\n",
      "        \n",
      "        Args: \n",
      "            str(hashtag): Instagram hashtag\n",
      "            bool(Follow_hashtag): Following Instagram hashtag\n",
      "            \n",
      "        \n",
      "        Attribute:\n",
      "            \n",
      "            The Chromedriver will get to the instagram page of the hashtag provided:\n",
      "                if Follow_hashtag == True:\n",
      "                    click on Follow button\n",
      "                else :\n",
      "                    pass\n",
      "                    \n",
      "                Scroll down page ten times\n",
      "        \n",
      "    \n",
      "    call user_photos_ref method of class InstagramBot\n",
      "\n"
     ]
    }
   ],
   "source": [
    "# We can also navigate through Instagram hashtag's profiles\n",
    "## for example mariasharapova hashtag's profile\n",
    "### bot.nav_hashtag(\"mariasharapova\", Follow_hashtag=True)\n",
    "help(bot.nav_hashtag)"
   ]
  },
  {
   "cell_type": "code",
   "execution_count": 7,
   "metadata": {
    "scrolled": true
   },
   "outputs": [],
   "source": [
    "#post/photos url links\n",
    "#for i, link in enumerate(bot.photos_profile):\n",
    " #   print(i, link)"
   ]
  },
  {
   "cell_type": "markdown",
   "metadata": {},
   "source": [
    "### To iterate through user's posts"
   ]
  },
  {
   "cell_type": "code",
   "execution_count": 8,
   "metadata": {},
   "outputs": [
    {
     "name": "stdout",
     "output_type": "stream",
     "text": [
      "Help on method view_photo_profile in module InstagramBot:\n",
      "\n",
      "view_photo_profile(Like=False, Save_Photo_comments=False) method of InstagramBot.InstagramBot instance\n",
      "    view_photo_profile method of class InstagramBot:\n",
      "        Args:\n",
      "            bool(Like) : Like Hashtag's or user Instagram's photos\n",
      "            bool(Save_Photo_comments): Save All photos comments in the attribute photo_all_comments\n",
      "            \n",
      "        Attribute:\n",
      "            \n",
      "            The Chromedriver will get to the instagram page of the username or hashtag provided previsiouly:\n",
      "                loop through all photos:\n",
      "            \n",
      "                    if Like == True:\n",
      "                        Like all photos\n",
      "    \n",
      "                    else :\n",
      "                        pass \n",
      "    \n",
      "                    if Save_Photo_comments == True:\n",
      "                        Save all Photos comments in the photo_all_comments attribute (list())\n",
      "                        \n",
      "                    else:\n",
      "                        pass\n",
      "\n"
     ]
    }
   ],
   "source": [
    "help(bot.view_photo_profile)"
   ]
  },
  {
   "cell_type": "code",
   "execution_count": 9,
   "metadata": {
    "scrolled": true
   },
   "outputs": [
    {
     "name": "stdout",
     "output_type": "stream",
     "text": [
      "SEPTEMBER 26, 2018\n",
      "['therealkiyosaki', 'Verified', '•', '9,825', 'therealkiyosaki', 'Verified', 'Here are four tips my rich dad taught me about budgeting to becoming rich: Click the link in my bio.', 'altechzilla', '✌🏽', 'flower.stav', 'Пусть и в комментах растут цветы 🌹🌹🌹😄', 'dilsunthedesignstudio', 'Dear sir. ..your book rich dad poor dad is extremely amazing book I have ever read...after going through your book I have realised that how important is to invest in good books. Also please advise which book shall I go ahead of urs regarding keeping myself highly motivated. Thanks', 'farjoud_shokouhi', '@therealkiyosaki hi robert , i want to invite you to viste IRAN as my guest 🤗😍🌺🌹', 'kevinescobartiburon', '🔥', 'andi__geiger', 'Rich Dad Poor Dad should be read at school! 👨🏻\\u200d🏫😀', 'fernandolaia.triunfo', 'Gosto de bons posts como esse seu !', 'sascha.63', 'Starker Post! Und auch deine restliche Seite sieht echt gut aus 💪', 'juanluengasofficial', 'Outstanding one!', 'elias.mma_', 'Hola , me encanta su contenido, muchos exitos. 🚀🚀', 'katekitty777', 'Very sweet :)', 'brunoheofficial', '💯👏 @therealkiyosaki', 'Search', 'LANGUAGE\\nAfrikaans\\nČeština\\nDansk\\nDeutsch\\nΕλληνικά\\nEnglish\\nEspañol (España)\\nEspañol\\nSuomi\\nFrançais\\nBahasa Indonesia\\nItaliano\\n日本語\\n한국어\\nBahasa Melayu\\nNorsk\\nNederlands\\nPolski\\nPortuguês (Brasil)\\nPortuguês (Portugal)\\nРусский\\nSvenska\\nภาษาไทย\\nFilipino\\nTürkçe\\n中文(简体)\\n中文(台灣)\\nবাংলা\\nગુજરાતી\\nहिन्दी\\nHrvatski\\nMagyar\\nಕನ್ನಡ\\nമലയാളം\\nमराठी\\nनेपाली\\nਪੰਜਾਬੀ\\nසිංහල\\nSlovenčina\\nதமிழ்\\nతెలుగు\\nTiếng Việt\\n中文(香港)\\nБългарски\\nFrançais (Canada)\\nRomână\\nСрпски\\nУкраїнська', '© 2020 INSTAGRAM FROM FACEBOOK']\n",
      "\n",
      "SEPTEMBER 22, 2018\n",
      "['therealkiyosaki', 'Verified', '•', '65,766 views', '65,766', 'therealkiyosaki', 'Verified', 'Click the link in my bio to read my newest chapter & submit the questions you have for me! -Understanding how money is printed offers you a better chance of doing well, in a world of fake money.', '10dermoments27', \"I've just seen this clip and couldn't agree with you more 👏👏👏There are so many of them who entice you with a FREE supposed one day training (WHICH ends up teaching you nothing) and then go on to ask you to pay thousands for some so called elite training. They're nothing but #conartist WHO GIVE YOU A BAD NAME 😖\", 'bintangphotostory', 'great pict 😍', 'cg__media', 'Schön schön. Mach weiter so 💠💪', '82dreadheadhippie', '@101moneymaker', 'maryam.fun.kurd', '👍👌👏👏👏', 'nail_istanbul_brilliant', 'Я очень хочу эту книгу на русском языке', 'velezerikaalexandra', '😘😘😘😘', 'rakhmonov_nozim_offiical', 'Best of the best motivator throughout the workd', 'rakhmonov_nozim_offiical', 'World', 'brunoheofficial', '💯👏 @therealkiyosaki', 'abdelilahelharrad', '🍷🍷💜💜💜💚💚🌷', 'dnyaneshwar7nanu', 'wha.t this book all about', 'Search', 'LANGUAGE\\nAfrikaans\\nČeština\\nDansk\\nDeutsch\\nΕλληνικά\\nEnglish\\nEspañol (España)\\nEspañol\\nSuomi\\nFrançais\\nBahasa Indonesia\\nItaliano\\n日本語\\n한국어\\nBahasa Melayu\\nNorsk\\nNederlands\\nPolski\\nPortuguês (Brasil)\\nPortuguês (Portugal)\\nРусский\\nSvenska\\nภาษาไทย\\nFilipino\\nTürkçe\\n中文(简体)\\n中文(台灣)\\nবাংলা\\nગુજરાતી\\nहिन्दी\\nHrvatski\\nMagyar\\nಕನ್ನಡ\\nമലയാളം\\nमराठी\\nनेपाली\\nਪੰਜਾਬੀ\\nසිංහල\\nSlovenčina\\nதமிழ்\\nతెలుగు\\nTiếng Việt\\n中文(香港)\\nБългарски\\nFrançais (Canada)\\nRomână\\nСрпски\\nУкраїнська', '© 2020 INSTAGRAM FROM FACEBOOK']\n",
      "\n",
      "SEPTEMBER 14, 2018\n",
      "['therealkiyosaki', 'Verified', '•', '15,208', 'therealkiyosaki', 'Verified', 'Old friend Sollie Goosen who\\nplayed for Spring Boks and got me into the organization.', 'thecrxwnfitsme', '❣️', 'alejandramoreno.1', '🔥🔥', 'kashkabaevberdibek', 'Hello guys. I am from kyrgystan. Live in poor famely', 'rogersnipes', 'Verified', '🙌🏾', 'popular.wolf', 'It’s time to bring your neat and confident version out in the world. Inviting you to join a highly engaging and confident community. 💯 Let’s evolve and empower!', 'matteo_rvln', '👍👍👍👍', 'brathaygroup', '👌🏼👌🏼', 'clarkehanna', '🙌🙌🙌', 'portal2freedom', 'Bokke ! 🙌🔥', 'rev_baruch', 'Would love to meet up with you one day. My dream person. If ever you are in South africa please invit me @therealkiyosaki', 'deetrajones', 'The combination of what you do and who you know makes an unbreakable force in business and investments!', 'brunoheofficial', '💯👏 @therealkiyosaki', 'Search', 'LANGUAGE\\nAfrikaans\\nČeština\\nDansk\\nDeutsch\\nΕλληνικά\\nEnglish\\nEspañol (España)\\nEspañol\\nSuomi\\nFrançais\\nBahasa Indonesia\\nItaliano\\n日本語\\n한국어\\nBahasa Melayu\\nNorsk\\nNederlands\\nPolski\\nPortuguês (Brasil)\\nPortuguês (Portugal)\\nРусский\\nSvenska\\nภาษาไทย\\nFilipino\\nTürkçe\\n中文(简体)\\n中文(台灣)\\nবাংলা\\nગુજરાતી\\nहिन्दी\\nHrvatski\\nMagyar\\nಕನ್ನಡ\\nമലയാളം\\nमराठी\\nनेपाली\\nਪੰਜਾਬੀ\\nසිංහල\\nSlovenčina\\nதமிழ்\\nతెలుగు\\nTiếng Việt\\n中文(香港)\\nБългарски\\nFrançais (Canada)\\nRomână\\nСрпски\\nУкраїнська', '© 2020 INSTAGRAM FROM FACEBOOK']\n",
      "\n",
      "SEPTEMBER 13, 2018\n",
      "['therealkiyosaki', 'Verified', '•', '6,424', 'therealkiyosaki', 'Verified', 'This is what made me realize Kim was the one since our very first date: Click the link in my bio to find out what it was', '_manuelmeyer_', 'richtig gutes bild ☝🏽', 'matteo_rvln', 'The road to success and the road to failure are almost exactly the same💥', 'sport_125ru', 'Robert💪💪💪😎', 'radikkasap09', 'Привет! Уверен, нам будет о чем пообщаться с тобой🌍', 'pinotnoir007', 'Waw', 'ngwaeje_', '@festo_mination Madini huyu mwanamke anayo na anakula kuku kwa mrija until last breath', 'ayermeek', 'Happy wife - happy life 😊', 'rumahmebelid', 'Salam kenal buat username', 'alyonashae_', '👍👍👍❤️❤️❤️', 'abdelilahelharrad', 'Bonne rire madame🍷🌷🌷🌷🌷 très jolie très belles familles', 'a_lady_of_lnfluence', 'Thats greatful', 'maggie_dm1', 'I was reading a book written by Kim and how I loved how she wanted to be her own boss. I love herr💜☺🔥🔥😍 #independentwomen', 'Search', 'LANGUAGE\\nAfrikaans\\nČeština\\nDansk\\nDeutsch\\nΕλληνικά\\nEnglish\\nEspañol (España)\\nEspañol\\nSuomi\\nFrançais\\nBahasa Indonesia\\nItaliano\\n日本語\\n한국어\\nBahasa Melayu\\nNorsk\\nNederlands\\nPolski\\nPortuguês (Brasil)\\nPortuguês (Portugal)\\nРусский\\nSvenska\\nภาษาไทย\\nFilipino\\nTürkçe\\n中文(简体)\\n中文(台灣)\\nবাংলা\\nગુજરાતી\\nहिन्दी\\nHrvatski\\nMagyar\\nಕನ್ನಡ\\nമലയാളം\\nमराठी\\nनेपाली\\nਪੰਜਾਬੀ\\nසිංහල\\nSlovenčina\\nதமிழ்\\nతెలుగు\\nTiếng Việt\\n中文(香港)\\nБългарски\\nFrançais (Canada)\\nRomână\\nСрпски\\nУкраїнська', '© 2020 INSTAGRAM FROM FACEBOOK']\n",
      "\n",
      "SEPTEMBER 6, 2018\n",
      "['therealkiyosaki', 'Verified', '•', '8,464', 'therealkiyosaki', 'Verified', 'I’d say that this might make Clooney the smartest actor in the bunch: click the link in my bio to find out', 'genisson_pinheiro', 'Um dos melhores autores', 'tsedlikovski', 'Amazing Picture! Your Books the Best👌Rich Dad Poor Dad is 🔥', 'tatoo.mozhgan', '👌💎💎💎💎', 'matteo_rvln', '💛💛💛', 'marcostinocobjj', '💯💯', 'soren_feistel', 'HELLO FREAKY FREAKS VERY NICE GREATINGS FROM GERMANY FROM SAXONY HOPE YOU ARE FINE ALL THE TIME 😘', 'radikkasap09', 'А я лежу на пляжу, жу жу жу⛱😄😄😄', 'nikewitherspoon4764', 'Amen to that beautiful Congratulations 🎊🍾🎈🎉', 'juan_diego_sotoo', 'Véalo ahí @kennethgonzalez1428', 'View replies (1)', 'indianchutney', '@mistr.johnson', 'yordiblancoperalta', '👏👏', 'vitalispaul59', 'Congrats sir', 'Search', 'LANGUAGE\\nAfrikaans\\nČeština\\nDansk\\nDeutsch\\nΕλληνικά\\nEnglish\\nEspañol (España)\\nEspañol\\nSuomi\\nFrançais\\nBahasa Indonesia\\nItaliano\\n日本語\\n한국어\\nBahasa Melayu\\nNorsk\\nNederlands\\nPolski\\nPortuguês (Brasil)\\nPortuguês (Portugal)\\nРусский\\nSvenska\\nภาษาไทย\\nFilipino\\nTürkçe\\n中文(简体)\\n中文(台灣)\\nবাংলা\\nગુજરાતી\\nहिन्दी\\nHrvatski\\nMagyar\\nಕನ್ನಡ\\nമലയാളം\\nमराठी\\nनेपाली\\nਪੰਜਾਬੀ\\nසිංහල\\nSlovenčina\\nதமிழ்\\nతెలుగు\\nTiếng Việt\\n中文(香港)\\nБългарски\\nFrançais (Canada)\\nRomână\\nСрпски\\nУкраїнська', '© 2020 INSTAGRAM FROM FACEBOOK']\n",
      "\n",
      "AUGUST 31, 2018\n",
      "['therealkiyosaki', 'Verified', '•', '5,222', 'therealkiyosaki', 'Verified', 'Click the link in my bio for some tips to turn your investment deal into a great one.', 'metafekr', 'سلام واقعا پیج زیبایی دارید از پیج ماهم دیدن نمایید لینک بیو @metafekr', 'funneltunnel_official', 'Super Content‼ Weiter so🔥💯😊', 'funneltunnel_official', 'Super Content‼ Weiter so🔥💯😊', 'matteo_rvln', 'incredible!🔥', '_manuelmeyer_', 'keep going 👊🏾', 'brathaygroup', '💥', 'alejandral.jaramillo', '💸', 'empreendedoressaoficial', '😊😊😊', 'saccoguy', 'Beautiful pic of your sweetheart!', 'imayker', 'Neat-o!', 'rozalijamercy', 'My mentor', 'pub_10k_f', '❤️❤️❤️❤️❤️❤️❤️❤️', 'Search', 'LANGUAGE\\nAfrikaans\\nČeština\\nDansk\\nDeutsch\\nΕλληνικά\\nEnglish\\nEspañol (España)\\nEspañol\\nSuomi\\nFrançais\\nBahasa Indonesia\\nItaliano\\n日本語\\n한국어\\nBahasa Melayu\\nNorsk\\nNederlands\\nPolski\\nPortuguês (Brasil)\\nPortuguês (Portugal)\\nРусский\\nSvenska\\nภาษาไทย\\nFilipino\\nTürkçe\\n中文(简体)\\n中文(台灣)\\nবাংলা\\nગુજરાતી\\nहिन्दी\\nHrvatski\\nMagyar\\nಕನ್ನಡ\\nമലയാളം\\nमराठी\\nनेपाली\\nਪੰਜਾਬੀ\\nසිංහල\\nSlovenčina\\nதமிழ்\\nతెలుగు\\nTiếng Việt\\n中文(香港)\\nБългарски\\nFrançais (Canada)\\nRomână\\nСрпски\\nУкраїнська', '© 2020 INSTAGRAM FROM FACEBOOK']\n",
      "\n"
     ]
    },
    {
     "name": "stdout",
     "output_type": "stream",
     "text": [
      "AUGUST 31, 2018\n",
      "['therealkiyosaki', 'Verified', '•', '19,436', 'therealkiyosaki', 'Verified', 'Enjoying the sights of Sydney!', 'matteo_rvln', 'you are the best!🔥', 'angelo.rossi.773981', 'Great picture and place', '2nd_creator', '👏', '__xprt', 'Is this your lovely wife Kim? The one that has stood by u through it all??', 'sport_125ru', 'Robert, I love you book', 'ulanovna007', 'I wish you forever life with only LOVE❤️', 'climbinvest', '👍', 'vasemanoto24', 'پست بسیار جذاب هست', 'marpal_beauty', '❤️', 'sil_casais', 'Muy buen feed 👍', 'prrobsonoliveira', '😄😀', 'raj234_samayagra', 'Beautifuuuuuuuuuul', 'Search', 'LANGUAGE\\nAfrikaans\\nČeština\\nDansk\\nDeutsch\\nΕλληνικά\\nEnglish\\nEspañol (España)\\nEspañol\\nSuomi\\nFrançais\\nBahasa Indonesia\\nItaliano\\n日本語\\n한국어\\nBahasa Melayu\\nNorsk\\nNederlands\\nPolski\\nPortuguês (Brasil)\\nPortuguês (Portugal)\\nРусский\\nSvenska\\nภาษาไทย\\nFilipino\\nTürkçe\\n中文(简体)\\n中文(台灣)\\nবাংলা\\nગુજરાતી\\nहिन्दी\\nHrvatski\\nMagyar\\nಕನ್ನಡ\\nമലയാളം\\nमराठी\\nनेपाली\\nਪੰਜਾਬੀ\\nසිංහල\\nSlovenčina\\nதமிழ்\\nతెలుగు\\nTiếng Việt\\n中文(香港)\\nБългарски\\nFrançais (Canada)\\nRomână\\nСрпски\\nУкраїнська', '© 2020 INSTAGRAM FROM FACEBOOK']\n",
      "\n",
      "AUGUST 28, 2018\n",
      "['therealkiyosaki', 'Verified', '•', '12,192', 'therealkiyosaki', 'Verified', 'Why money does in fact bring happiness and how it does it: Click the link in my bio to read why.', 'maryam.dirisavi', 'hi', 'altechzilla', '✌🏽', 'mrelvertice', \"That's true.\", '_manuelmeyer_', 'richtig gutes bild ☝🏽', 'papa_boachie', 'Money does not bring happiness... But as you say... Poverty ALSO, does not bring happiness 😁', 'bjoern_hagensen', 'Your books are the best! 🔝#education', 'matteo_rvln', '✔️✔️✔️✔️', 'ayoub_ait23', '👏', 'nikewitherspoon4764', 'Amen to that', 'tapabocas.bogota1', '🚀Hola, en nuestra cuenta puedes ver contenido que te puede interesar , ya que veo que eres una persona de visión.', 'andjela__raicevic', 'You are inspiration!\\nJust now finished Rich dad and now going to buy all your books. 📚 😍', 'View replies (1)', 'emprende_es_ahora_', 'Grande kiyosaki', 'Search', 'LANGUAGE\\nAfrikaans\\nČeština\\nDansk\\nDeutsch\\nΕλληνικά\\nEnglish\\nEspañol (España)\\nEspañol\\nSuomi\\nFrançais\\nBahasa Indonesia\\nItaliano\\n日本語\\n한국어\\nBahasa Melayu\\nNorsk\\nNederlands\\nPolski\\nPortuguês (Brasil)\\nPortuguês (Portugal)\\nРусский\\nSvenska\\nภาษาไทย\\nFilipino\\nTürkçe\\n中文(简体)\\n中文(台灣)\\nবাংলা\\nગુજરાતી\\nहिन्दी\\nHrvatski\\nMagyar\\nಕನ್ನಡ\\nമലയാളം\\nमराठी\\nनेपाली\\nਪੰਜਾਬੀ\\nසිංහල\\nSlovenčina\\nதமிழ்\\nతెలుగు\\nTiếng Việt\\n中文(香港)\\nБългарски\\nFrançais (Canada)\\nRomână\\nСрпски\\nУкраїнська', '© 2020 INSTAGRAM FROM FACEBOOK']\n",
      "\n",
      "AUGUST 25, 2018\n",
      "['therealkiyosaki', 'Verified', '•', '16,933', 'therealkiyosaki', 'Verified', 'Learning how to invest in diamonds.\\nThese diamonds are dredged from the ocean.', 'otg.tre', 'Employees lose owners and investors win i love your rich dad poor dad book thanks for all of your advice im 16 years old and this book really helped me 💚💚💚💚', 'mister.kong', 'Diamonds are an investment? I thought its all false scarcity and marketing..', 'Hide replies', 'augusta_la_petite', 'Interested in learning too.please tag the mineral guru in the pic with Robert', 'iranmotive', 'My Goodness!', 'gabriella_farkas_8', 'Wow 😍', 'journey_time1', '👍', 'hcjonker', 'Anyone that would like to follow in Robert’s footsteps and learn more about diamonds; or just looking to add a stunning piece to their collection are more than welcome to contact us: info@aphroditediamonds.co.za', 'matteo_rvln', '👍👍👍👍', 'riskhanal', 'wow', 'wynandhendrikse', 'Thanks Robert for having you here. Look forward seeing you again.', 'climbinvest', '👏', 'rosamavillarrealg', '@hector.andrade2 💎💰', 'Search', 'LANGUAGE\\nAfrikaans\\nČeština\\nDansk\\nDeutsch\\nΕλληνικά\\nEnglish\\nEspañol (España)\\nEspañol\\nSuomi\\nFrançais\\nBahasa Indonesia\\nItaliano\\n日本語\\n한국어\\nBahasa Melayu\\nNorsk\\nNederlands\\nPolski\\nPortuguês (Brasil)\\nPortuguês (Portugal)\\nРусский\\nSvenska\\nภาษาไทย\\nFilipino\\nTürkçe\\n中文(简体)\\n中文(台灣)\\nবাংলা\\nગુજરાતી\\nहिन्दी\\nHrvatski\\nMagyar\\nಕನ್ನಡ\\nമലയാളം\\nमराठी\\nनेपाली\\nਪੰਜਾਬੀ\\nසිංහල\\nSlovenčina\\nதமிழ்\\nతెలుగు\\nTiếng Việt\\n中文(香港)\\nБългарски\\nFrançais (Canada)\\nRomână\\nСрпски\\nУкраїнська', '© 2020 INSTAGRAM FROM FACEBOOK']\n",
      "\n",
      "AUGUST 24, 2018\n",
      "['therealkiyosaki', 'Verified', '•', '4,560', 'therealkiyosaki', 'Verified', 'Gathering the proper support team will help set you up for success: click the link in my bio to read Kim’s blog.', 'kimoad3', '❤👍🏽👣🍃🍂', 'alejandral.jaramillo', '💪', 'vahiidrahmati', 'U r my rich dad', '_manuelmeyer_', 'Wow hammer content 😊', 'mmrabbani', '👌👌👌👌👌👌', 'alex_140000', 'orbert', 'alex_140000', '👌👌👌', 'andybachem', 'kiyosaki tell me the secret', 'nikewitherspoon4764', 'Amen beautiful', 'tribeofsuccess', 'This is awesome!', 'jeffhillspeaks', 'Awesome smile Kim. You guys rock! #trailblazers #wealthinmotion', '__with.meaning', 'Your wife is very beautiful💗', 'Search', 'LANGUAGE\\nAfrikaans\\nČeština\\nDansk\\nDeutsch\\nΕλληνικά\\nEnglish\\nEspañol (España)\\nEspañol\\nSuomi\\nFrançais\\nBahasa Indonesia\\nItaliano\\n日本語\\n한국어\\nBahasa Melayu\\nNorsk\\nNederlands\\nPolski\\nPortuguês (Brasil)\\nPortuguês (Portugal)\\nРусский\\nSvenska\\nภาษาไทย\\nFilipino\\nTürkçe\\n中文(简体)\\n中文(台灣)\\nবাংলা\\nગુજરાતી\\nहिन्दी\\nHrvatski\\nMagyar\\nಕನ್ನಡ\\nമലയാളം\\nमराठी\\nनेपाली\\nਪੰਜਾਬੀ\\nසිංහල\\nSlovenčina\\nதமிழ்\\nతెలుగు\\nTiếng Việt\\n中文(香港)\\nБългарски\\nFrançais (Canada)\\nRomână\\nСрпски\\nУкраїнська', '© 2020 INSTAGRAM FROM FACEBOOK']\n",
      "\n",
      "AUGUST 23, 2018\n",
      "['therealkiyosaki', 'Verified', '•', '6,165', 'therealkiyosaki', 'Verified', 'Chapter 2, In God We Trust, of my latest book, \"FAKE,\" releases today! Read the draft version of chapter two and submit your questions about what you read for your chance to be included in the final copy.\\nREAD NOW ➡️ click the link in my bio: https://fake.richdad.com', 'orzurahimova', '😢😢I also want to live happy. I live in Moscow. I am alone. I do not have anyone. I want my business. I can not begin. I so want to become like you. Help', 'iampetereze', \"Thanks Robert. This piece got my mind skipping with anticipation of the next paragraph. No doubt, I saw myself in that brief and you've provided me a navigation guide to more richer life.\", 'diego.delgado_', 'Tu perfil es interesante contactemonos 📲', 'johnrockprophet', 'So I click the link but.. nothing. Please advise', 'pink_pinkkz', 'I hope fast realese in indonesia 🙏🏻😊', 'farzaneh_pourshaban', 'خيلى خوب 👌👏🌸', '888makai', '❤️❤️❤️', 'trey_iverstine', 'Great book!!! I’ve lessened to it 3 times in the last month.', 'wanderwherewilfredis', 'Life changing book, thankyou!!!', 'osei.stephen.71404', 'God bless u you my mentor', 'kdot0638', '@patlee3 @hippee_chic @_gregleejr', 'daurzh8', 'Thanks for the book 📚 🇰🇿🇰🇿🇰🇿✊🏻', 'Search', 'LANGUAGE\\nAfrikaans\\nČeština\\nDansk\\nDeutsch\\nΕλληνικά\\nEnglish\\nEspañol (España)\\nEspañol\\nSuomi\\nFrançais\\nBahasa Indonesia\\nItaliano\\n日本語\\n한국어\\nBahasa Melayu\\nNorsk\\nNederlands\\nPolski\\nPortuguês (Brasil)\\nPortuguês (Portugal)\\nРусский\\nSvenska\\nภาษาไทย\\nFilipino\\nTürkçe\\n中文(简体)\\n中文(台灣)\\nবাংলা\\nગુજરાતી\\nहिन्दी\\nHrvatski\\nMagyar\\nಕನ್ನಡ\\nമലയാളം\\nमराठी\\nनेपाली\\nਪੰਜਾਬੀ\\nසිංහල\\nSlovenčina\\nதமிழ்\\nతెలుగు\\nTiếng Việt\\n中文(香港)\\nБългарски\\nFrançais (Canada)\\nRomână\\nСрпски\\nУкраїнська', '© 2020 INSTAGRAM FROM FACEBOOK']\n",
      "\n",
      "AUGUST 22, 2018\n",
      "['therealkiyosaki', 'Verified', '•', '6,773', 'therealkiyosaki', 'Verified', 'I hoped I would be wrong... but it sure doesn’t seem like it. Click the link in my bio to find out about the up and coming retirement crisis.', 'gowtham6607', 'Beautiful', 'leo._buendia', 'Kiyosaki', 'kenneth_starling', 'Rich dad poor dad is where it all starts 🙌🏼', 'altechzilla', '✌🏽', 'affiliate_kickstart', 'Inspiring stuff.Keep up the good work.👍', 'ronald_executive_muda', 'Orang Sukses itu Awet Muda', 'dynasty_barbers', '😎', 'mmrabbani', '👌👌👌👌👌👌', 'funneltunnel_official', 'Hammer profil🔥👌💯‼😊', 'liveyourlife_d', 'Cool 😎', '888makai', '❤️❤️❤️', '_22victoria_', '😍', 'Search', 'LANGUAGE\\nAfrikaans\\nČeština\\nDansk\\nDeutsch\\nΕλληνικά\\nEnglish\\nEspañol (España)\\nEspañol\\nSuomi\\nFrançais\\nBahasa Indonesia\\nItaliano\\n日本語\\n한국어\\nBahasa Melayu\\nNorsk\\nNederlands\\nPolski\\nPortuguês (Brasil)\\nPortuguês (Portugal)\\nРусский\\nSvenska\\nภาษาไทย\\nFilipino\\nTürkçe\\n中文(简体)\\n中文(台灣)\\nবাংলা\\nગુજરાતી\\nहिन्दी\\nHrvatski\\nMagyar\\nಕನ್ನಡ\\nമലയാളം\\nमराठी\\nनेपाली\\nਪੰਜਾਬੀ\\nසිංහල\\nSlovenčina\\nதமிழ்\\nతెలుగు\\nTiếng Việt\\n中文(香港)\\nБългарски\\nFrançais (Canada)\\nRomână\\nСрпски\\nУкраїнська', '© 2020 INSTAGRAM FROM FACEBOOK']\n",
      "\n"
     ]
    },
    {
     "name": "stdout",
     "output_type": "stream",
     "text": [
      "AUGUST 21, 2018\n",
      "['therealkiyosaki', 'Verified', '•', '14,098', 'therealkiyosaki', 'Verified', 'With Jurie Roux CEO of Spring Boks South Africa’s rugby organization.', 'joemyoya', 'Hey Robert you still around!', 'itachikrishna', 'Looking great !!', 'sarahsays_1', '@el_patron_eben', 'camilo_a5', '@jhontabordah esta delgado bro', 'serious_eater', 'Hi i like what you do 🏆 Come by my side too. I would be happy about your feedback 🔥🔥🔥', 'kelvinmbuvi.mj', \"I really desire to impact people's live massively and positively @therealkiyosaki\", 'el_patron_eben', 'He lost weight @_pandub_', 'ministervenable1', 'Taking a chance to see if you will give me some financial advice @therealkiyosaki. I was always taught to reach up to those you admire and ask questions. Please DM if you will take the time. I will respect your time as I know how important it is. Thanks', 'altechzilla', '✌🏽', 'freddyenriquehoyosduenas', 'I beg your pardon, I am a writer and I have shared books around the world thanks to Hotmail, I dream one day to be a member of the order in England, if you can help me that is my goal to fulfill. Freddy Enrique Hoyos Dueñas (search the internet).', 'bintangphotostory', 'kerenn 😍', 'charatacombustibles', '😉👌', 'Search', 'LANGUAGE\\nAfrikaans\\nČeština\\nDansk\\nDeutsch\\nΕλληνικά\\nEnglish\\nEspañol (España)\\nEspañol\\nSuomi\\nFrançais\\nBahasa Indonesia\\nItaliano\\n日本語\\n한국어\\nBahasa Melayu\\nNorsk\\nNederlands\\nPolski\\nPortuguês (Brasil)\\nPortuguês (Portugal)\\nРусский\\nSvenska\\nภาษาไทย\\nFilipino\\nTürkçe\\n中文(简体)\\n中文(台灣)\\nবাংলা\\nગુજરાતી\\nहिन्दी\\nHrvatski\\nMagyar\\nಕನ್ನಡ\\nമലയാളം\\nमराठी\\nनेपाली\\nਪੰਜਾਬੀ\\nසිංහල\\nSlovenčina\\nதமிழ்\\nతెలుగు\\nTiếng Việt\\n中文(香港)\\nБългарски\\nFrançais (Canada)\\nRomână\\nСрпски\\nУкраїнська', '© 2020 INSTAGRAM FROM FACEBOOK']\n",
      "\n",
      "AUGUST 17, 2018\n",
      "['therealkiyosaki', 'Verified', '•', '17,872', 'therealkiyosaki', 'Verified', 'In beautiful Cape Town, South Africa.', 'imoh05', 'Hello Robert, I want to take this opportunity to invite you to Nigeria', 'View replies (1)', 'matteo_rvln', 'Keep up the good content 😀', 'nuno.brito2018', 'Seems like mall, fish market', 'altechzilla', '✌🏽', 'gabrieldesmond600', 'Good job', 'orzurahimova', '😢😢😢 help me', 'angelo.rossi.773981', 'Nice picture', 'nthatomalete', 'Can 16year olds get on board with you? I live in Joburg.', 'digikolbe', 'مطالب خوبی دارین ❤️', 'thiagosampaio3.0', 'Woww !! Pretty awesome 🙌🙌🙌', 'im_rachelclinton', 'Nice', 'megan_sodien', '🙌🙌', 'Search', 'LANGUAGE\\nAfrikaans\\nČeština\\nDansk\\nDeutsch\\nΕλληνικά\\nEnglish\\nEspañol (España)\\nEspañol\\nSuomi\\nFrançais\\nBahasa Indonesia\\nItaliano\\n日本語\\n한국어\\nBahasa Melayu\\nNorsk\\nNederlands\\nPolski\\nPortuguês (Brasil)\\nPortuguês (Portugal)\\nРусский\\nSvenska\\nภาษาไทย\\nFilipino\\nTürkçe\\n中文(简体)\\n中文(台灣)\\nবাংলা\\nગુજરાતી\\nहिन्दी\\nHrvatski\\nMagyar\\nಕನ್ನಡ\\nമലയാളം\\nमराठी\\nनेपाली\\nਪੰਜਾਬੀ\\nසිංහල\\nSlovenčina\\nதமிழ்\\nతెలుగు\\nTiếng Việt\\n中文(香港)\\nБългарски\\nFrançais (Canada)\\nRomână\\nСрпски\\nУкраїнська', '© 2020 INSTAGRAM FROM FACEBOOK']\n",
      "\n",
      "AUGUST 16, 2018\n",
      "['therealkiyosaki', 'Verified', '•', '4,654', 'therealkiyosaki', 'Verified', 'Are you happy with your life exactly how it is currently? Click the link in my bio to read Kim’s blog.', 'matteo_rvln', \"J'adore ton profil⚡️\", 'rosalba.peralta', 'He leído sus libro me encantaron @inmobiliria.rosalhome es mi empresa estoy aplicando lo aprendido', 'island_beginnings', 'A true representation of what every business women should aspire to be ❤️', 'altechzilla', '✌🏽', 'View replies (1)', 'sport_125ru', 'Cool💪😎', 'valechka_milashka', 'Сейчас читаю вашу книгу как раз!))', 'climbinvest', '👏', 'climbinvest', '👍', 'yuliya.gorodova', 'Не довольны - пока не нашла пути выхода', 'farzaneh_pourshaban', 'بسيار لذت بردم و انگيزه گرفتم. اميدوارم انرژي مثبت شما هر روز فزون تر از ديروز بوده و موفق و پيروز باشيد. اگر از پيج ما هم ديدن بفرماييد، از انرژي مثبت شما لذت مي بريم.🌸', 'sarahklawrencecb', 'I’d love to treat you both to lunch - Come to Tucson, AZ!', 'tindja', 'I am happy, but want something else. Change. Your speeches on YouTube are very inspiring. The books I will have to read. 👍', 'Search', 'LANGUAGE\\nAfrikaans\\nČeština\\nDansk\\nDeutsch\\nΕλληνικά\\nEnglish\\nEspañol (España)\\nEspañol\\nSuomi\\nFrançais\\nBahasa Indonesia\\nItaliano\\n日本語\\n한국어\\nBahasa Melayu\\nNorsk\\nNederlands\\nPolski\\nPortuguês (Brasil)\\nPortuguês (Portugal)\\nРусский\\nSvenska\\nภาษาไทย\\nFilipino\\nTürkçe\\n中文(简体)\\n中文(台灣)\\nবাংলা\\nગુજરાતી\\nहिन्दी\\nHrvatski\\nMagyar\\nಕನ್ನಡ\\nമലയാളം\\nमराठी\\nनेपाली\\nਪੰਜਾਬੀ\\nසිංහල\\nSlovenčina\\nதமிழ்\\nతెలుగు\\nTiếng Việt\\n中文(香港)\\nБългарски\\nFrançais (Canada)\\nRomână\\nСрпски\\nУкраїнська', '© 2020 INSTAGRAM FROM FACEBOOK']\n",
      "\n",
      "AUGUST 15, 2018\n",
      "['therealkiyosaki', 'Verified', '•', '9,639', 'therealkiyosaki', 'Verified', 'Now, to some, inflation is bad news because they don’t know how to use inflation to get richer... Click the link in my bio to learn how inflation can benefit you.', 'kachatokman', 'thank u my Rich Dad/Poor Dad!!!!!', 'hashim_vvm', '👏🏻👏🏻', 'shominehhb.behzadbijan', 'اینستاگرام یه چیزی میدونست ک دوتا لایک برا هر پست نذاش.... 😀👍😊 وگرنه خودم اینو سه تا لایک می کردم .... ✌', 'lazimpay', 'good', 'digmarfilo', 'Keren kak👍', 'flexrequired', 'Thanks for this awesome book !! 😍®️🙏', 'kdtcorp', '❤️❤️❤️❤️❤️', 'juanluengasofficial', 'Interesante, saludos 👌🏻.', 'emilio_don_trejile', 'Becuase of that book i can now buy me a house without debt or anything thank you 🙏🏻🙏🏻', 'kevinescobartiburon', '🔥', 'its.miss.hunnay', '@therealkiyosaki I am 15 and currently reading your book and I must say that it has taught me alot about finances and business. I hope that one day I will be wealthy and not lead myself into debt.', 'langelihle949', 'Great book, made me realise alot of things about money', 'Search', 'LANGUAGE\\nAfrikaans\\nČeština\\nDansk\\nDeutsch\\nΕλληνικά\\nEnglish\\nEspañol (España)\\nEspañol\\nSuomi\\nFrançais\\nBahasa Indonesia\\nItaliano\\n日本語\\n한국어\\nBahasa Melayu\\nNorsk\\nNederlands\\nPolski\\nPortuguês (Brasil)\\nPortuguês (Portugal)\\nРусский\\nSvenska\\nภาษาไทย\\nFilipino\\nTürkçe\\n中文(简体)\\n中文(台灣)\\nবাংলা\\nગુજરાતી\\nहिन्दी\\nHrvatski\\nMagyar\\nಕನ್ನಡ\\nമലയാളം\\nमराठी\\nनेपाली\\nਪੰਜਾਬੀ\\nසිංහල\\nSlovenčina\\nதமிழ்\\nతెలుగు\\nTiếng Việt\\n中文(香港)\\nБългарски\\nFrançais (Canada)\\nRomână\\nСрпски\\nУкраїнська', '© 2020 INSTAGRAM FROM FACEBOOK']\n",
      "\n",
      "AUGUST 10, 2018\n",
      "['therealkiyosaki', 'Verified', '•', '6,454', 'therealkiyosaki', 'Verified', 'This mistake could have happened to any investor: click the link in my bio to learn from Kim’s mistakes. http://bit.ly/2npJlbc', 'trae__haha', 'When moon?', 'mindvoltz', 'Awesome post!', 'corinboss', 'hi you book good. im korean', 'stayhappyandcarryon', 'loooking haaaaappy ever after 🌸❤️🌸❤️🌸❤️🌸❤️🌸❤️', 'carmendawson1', 'Sharing your mistakes will save so many!! We are hearing you!!', 'sam__bay', \"The man, I really respect for. He's just a extraordinary person when it comes to ideas & business.\", 'matteo_rvln', '❤️❤️❤️❤️❤️', '_homa.4335', '،👌🌷', 'sebastianortega.19', '📌Nice', 'altechzilla', '✌🏽', 'kevinescobartiburon', '💸', 'papa_boachie', \"Can't wait to get to the beach after the period we've been through\", 'Search', 'LANGUAGE\\nAfrikaans\\nČeština\\nDansk\\nDeutsch\\nΕλληνικά\\nEnglish\\nEspañol (España)\\nEspañol\\nSuomi\\nFrançais\\nBahasa Indonesia\\nItaliano\\n日本語\\n한국어\\nBahasa Melayu\\nNorsk\\nNederlands\\nPolski\\nPortuguês (Brasil)\\nPortuguês (Portugal)\\nРусский\\nSvenska\\nภาษาไทย\\nFilipino\\nTürkçe\\n中文(简体)\\n中文(台灣)\\nবাংলা\\nગુજરાતી\\nहिन्दी\\nHrvatski\\nMagyar\\nಕನ್ನಡ\\nമലയാളം\\nमराठी\\nनेपाली\\nਪੰਜਾਬੀ\\nසිංහල\\nSlovenčina\\nதமிழ்\\nతెలుగు\\nTiếng Việt\\n中文(香港)\\nБългарски\\nFrançais (Canada)\\nRomână\\nСрпски\\nУкраїнська', '© 2020 INSTAGRAM FROM FACEBOOK']\n",
      "\n",
      "AUGUST 8, 2018\n",
      "['therealkiyosaki', 'Verified', '•', '8,828', 'therealkiyosaki', 'Verified', 'Tom and I with Martin Sweet, CEO of Step Up 2 A Start Up, an organization that delivered entrepreneurial courses to over 1.4 million South African high school students. I have supported this organization for 6 years.', 'erfolgs_geschichten', 'I read your book ➡️ amazing 🙏', 'vereinmaisonetoile', 'Grossartige Bilder wunderbar in Szene gesetzt :)', 'rickyprofits', '🙌', 'marya.sardari', 'I wish I could visit you face to face And attend in your courses . I hope you the best and health', '_homa.4335', '👌🌷✌', 'mr_molema', 'Hello Mr Kiyosaki, I would like to attend this course. Where do I register to attend the course?', 'thedmanshow2019', '👍👍', 'ley_de_la_atraccion100x100', 'Me encanta tu felicidad, por ello te doy las gracias te amo', 'ulanovna007', 'You are amazing \\U0001f929', 'alan.bonner', '♨ 🅰️🅱️', 'alpha_eddy_', 'Can you please come to my school when you come to South Africa abbots collage Pretoria east', 'ciihmartins', '♥️♥️♥️', 'Search', 'LANGUAGE\\nAfrikaans\\nČeština\\nDansk\\nDeutsch\\nΕλληνικά\\nEnglish\\nEspañol (España)\\nEspañol\\nSuomi\\nFrançais\\nBahasa Indonesia\\nItaliano\\n日本語\\n한국어\\nBahasa Melayu\\nNorsk\\nNederlands\\nPolski\\nPortuguês (Brasil)\\nPortuguês (Portugal)\\nРусский\\nSvenska\\nภาษาไทย\\nFilipino\\nTürkçe\\n中文(简体)\\n中文(台灣)\\nবাংলা\\nગુજરાતી\\nहिन्दी\\nHrvatski\\nMagyar\\nಕನ್ನಡ\\nമലയാളം\\nमराठी\\nनेपाली\\nਪੰਜਾਬੀ\\nසිංහල\\nSlovenčina\\nதமிழ்\\nతెలుగు\\nTiếng Việt\\n中文(香港)\\nБългарски\\nFrançais (Canada)\\nRomână\\nСрпски\\nУкраїнська', '© 2020 INSTAGRAM FROM FACEBOOK']\n",
      "\n"
     ]
    },
    {
     "name": "stdout",
     "output_type": "stream",
     "text": [
      "AUGUST 7, 2018\n",
      "['therealkiyosaki', 'Verified', '•', '5,502', 'therealkiyosaki', 'Verified', 'Click the link in my bio to see the 3 important questions each couple should ask about money.', 'masoudkingalone', 'Best 👏👏👏👏👏', 'gabridarb', 'The big boss 🚀🚀', 'antonlcoetzee', '@elanasmit', 'powerballking', '👍👍👍', 'marketeiranian', '👈😉ارائه پنل پیامکی فوق سریع + بانک شماره های هر شهر رایگان', 'alfonsocastaneda22', 'Desde venezuela saludos amigo del alma solo te digo gracias por todo', 'altechzilla', '✌🏽', 'tzd.negin', '😍', 'alejandral.jaramillo', '👏', 'fabicqueiros', '❤️', 'eifa.tejarat', '👍🏻👍🏻', 'primika_8', '❤️', 'Search', 'LANGUAGE\\nAfrikaans\\nČeština\\nDansk\\nDeutsch\\nΕλληνικά\\nEnglish\\nEspañol (España)\\nEspañol\\nSuomi\\nFrançais\\nBahasa Indonesia\\nItaliano\\n日本語\\n한국어\\nBahasa Melayu\\nNorsk\\nNederlands\\nPolski\\nPortuguês (Brasil)\\nPortuguês (Portugal)\\nРусский\\nSvenska\\nภาษาไทย\\nFilipino\\nTürkçe\\n中文(简体)\\n中文(台灣)\\nবাংলা\\nગુજરાતી\\nहिन्दी\\nHrvatski\\nMagyar\\nಕನ್ನಡ\\nമലയാളം\\nमराठी\\nनेपाली\\nਪੰਜਾਬੀ\\nසිංහල\\nSlovenčina\\nதமிழ்\\nతెలుగు\\nTiếng Việt\\n中文(香港)\\nБългарски\\nFrançais (Canada)\\nRomână\\nСрпски\\nУкраїнська', '© 2020 INSTAGRAM FROM FACEBOOK']\n",
      "\n",
      "AUGUST 7, 2018\n",
      "['therealkiyosaki', 'Verified', '•', '10,752', 'therealkiyosaki', 'Verified', 'Tom and I with the headmaster at St. Andrews. This is the school Tom and I taught at last year and I wrote about the experience in my book “Why the Rich Are Getting Richer”', 'tsedlikovski', 'Great Book! 👌👌', 'mkcasella45', \"Stop off at Christmas rock near East London. It's a beautiful beach.\", 'misael.ferreiraa', '💪🔥', 'anthonyisunmekhe', 'Seeing the rich getting younger .great site', 'altechzilla', '✌🏽', 'shiran_lifestyle', '😍', 'sarahsays_1', '@el_patron_eben', '_homa.4335', '👌🌷✌', 'jonathanrios2k', '👏 sin duada un ejempla para muchos', 'alejandral.jaramillo', '💪', 'middleclassbusinessman', '👏', 'farzaneh_pourshaban', 'سپاس از مطالب عالى شما 🌸👌', 'Search', 'LANGUAGE\\nAfrikaans\\nČeština\\nDansk\\nDeutsch\\nΕλληνικά\\nEnglish\\nEspañol (España)\\nEspañol\\nSuomi\\nFrançais\\nBahasa Indonesia\\nItaliano\\n日本語\\n한국어\\nBahasa Melayu\\nNorsk\\nNederlands\\nPolski\\nPortuguês (Brasil)\\nPortuguês (Portugal)\\nРусский\\nSvenska\\nภาษาไทย\\nFilipino\\nTürkçe\\n中文(简体)\\n中文(台灣)\\nবাংলা\\nગુજરાતી\\nहिन्दी\\nHrvatski\\nMagyar\\nಕನ್ನಡ\\nമലയാളം\\nमराठी\\nनेपाली\\nਪੰਜਾਬੀ\\nසිංහල\\nSlovenčina\\nதமிழ்\\nతెలుగు\\nTiếng Việt\\n中文(香港)\\nБългарски\\nFrançais (Canada)\\nRomână\\nСрпски\\nУкраїнська', '© 2020 INSTAGRAM FROM FACEBOOK']\n",
      "\n",
      "AUGUST 5, 2018\n",
      "['therealkiyosaki', 'Verified', '•', '12,324', 'therealkiyosaki', 'Verified', 'Watching rugby at St Andrés college in Grahamstown, South Africa.', 'toczek.tomasz', 'Always young looking and rich in financial knowledge !!!', 'jemylyncastillo', 'Great mentor of all time', 'ojeezzy', 'Dass wassup g', 'matteo_rvln', 'garyvee agree 100%🖤', 'altechzilla', '✌🏽', 'lovelihua102644', 'Looking cool and youthful as ever, Kiyosaki-sama!', 'brathaygroup', '💪', 'farjoud_shokouhi', 'Big like🌺', 'middleclassbusinessman', 'Stylish sir', 'araghi.a5212', '❤️', 'deetrajones', 'Love the pics as this is your favorite sport! You have to endure pain for a long time to be able to stay successful! 🔥😊', '_22victoria_', '😍', 'Search', 'LANGUAGE\\nAfrikaans\\nČeština\\nDansk\\nDeutsch\\nΕλληνικά\\nEnglish\\nEspañol (España)\\nEspañol\\nSuomi\\nFrançais\\nBahasa Indonesia\\nItaliano\\n日本語\\n한국어\\nBahasa Melayu\\nNorsk\\nNederlands\\nPolski\\nPortuguês (Brasil)\\nPortuguês (Portugal)\\nРусский\\nSvenska\\nภาษาไทย\\nFilipino\\nTürkçe\\n中文(简体)\\n中文(台灣)\\nবাংলা\\nગુજરાતી\\nहिन्दी\\nHrvatski\\nMagyar\\nಕನ್ನಡ\\nമലയാളം\\nमराठी\\nनेपाली\\nਪੰਜਾਬੀ\\nසිංහල\\nSlovenčina\\nதமிழ்\\nతెలుగు\\nTiếng Việt\\n中文(香港)\\nБългарски\\nFrançais (Canada)\\nRomână\\nСрпски\\nУкраїнська', '© 2020 INSTAGRAM FROM FACEBOOK']\n",
      "\n",
      "AUGUST 3, 2018\n",
      "['therealkiyosaki', 'Verified', '•', '6,996', 'therealkiyosaki', 'Verified', 'Had a great time on the radio show with my advisor Andy Tanner & his family. Go to www.richdad.com/radio to listen to it!', 'ram_dani36', 'Good', 'lim.dube', 'I love rich dad radio show', 'scottstewartutah', 'Awesome @andytanner8716', 'angbarlic', 'Magnifico', 'matteo_rvln', 'It is better to fail in originality than to succeed in imitation♠️', 'altechzilla', '✌🏽', 'metafekr', 'پپیچ\\u200cتون عالی است. برای تحول و انقلاب بزرگ زندگیتون سایت متافکر، لینک واقع در بیو همراه باشید. @metafekr', 'thedmanshow2019', 'Kool', 'matteomjk', 'So amazing cause new knowledge is always sink in my mind , repeatedly learning always master robert and coach Andy 🎩😎', 'gratisbuchvondirkreuter', 'Gefällt mir ! 🙂', 'swiftmpoloka', '@liz_thequeen2queens do something clever', 'khodagahe', 'موفق باشید', 'Search', 'LANGUAGE\\nAfrikaans\\nČeština\\nDansk\\nDeutsch\\nΕλληνικά\\nEnglish\\nEspañol (España)\\nEspañol\\nSuomi\\nFrançais\\nBahasa Indonesia\\nItaliano\\n日本語\\n한국어\\nBahasa Melayu\\nNorsk\\nNederlands\\nPolski\\nPortuguês (Brasil)\\nPortuguês (Portugal)\\nРусский\\nSvenska\\nภาษาไทย\\nFilipino\\nTürkçe\\n中文(简体)\\n中文(台灣)\\nবাংলা\\nગુજરાતી\\nहिन्दी\\nHrvatski\\nMagyar\\nಕನ್ನಡ\\nമലയാളം\\nमराठी\\nनेपाली\\nਪੰਜਾਬੀ\\nසිංහල\\nSlovenčina\\nதமிழ்\\nతెలుగు\\nTiếng Việt\\n中文(香港)\\nБългарски\\nFrançais (Canada)\\nRomână\\nСрпски\\nУкраїнська', '© 2020 INSTAGRAM FROM FACEBOOK']\n",
      "\n",
      "AUGUST 2, 2018\n",
      "['therealkiyosaki', 'Verified', '•', '3,958', 'therealkiyosaki', 'Verified', 'Click the link in my bio for some tips on what to do when fear paralyzes you!', 'ram_dani36', 'Of course', 'svvs58', 'Queen !!! 🌹💎👑👸👑💎🌹', '00a7007a00', 'Robert help me 2 open business 🙏', '00a7007a00', 'i will be your bodyguard in Kyrgyzstan', '_cloover', 'Fear is the biger problem of everybody', 'fitzroy_lee', 'Very nice😁', 'matteo_rvln', 'Keep up the good content 😀', 'altechzilla', '✌🏽', 'futuredevelopersaustralia', 'Kim and Robert where is the bio link for this post please ?', 'jana_angus', 'The two of you are absolutely adorable together!! I’m purchasing your book today. Last night I watched your YouTube talks. My mind is set and I’m moving forward. Thank you! 🙏', 'alan.bonner', '💪 😊 🙏🏽 😜 🅰️🅱️', 'zihaban', '😍🙌', 'Search', 'LANGUAGE\\nAfrikaans\\nČeština\\nDansk\\nDeutsch\\nΕλληνικά\\nEnglish\\nEspañol (España)\\nEspañol\\nSuomi\\nFrançais\\nBahasa Indonesia\\nItaliano\\n日本語\\n한국어\\nBahasa Melayu\\nNorsk\\nNederlands\\nPolski\\nPortuguês (Brasil)\\nPortuguês (Portugal)\\nРусский\\nSvenska\\nภาษาไทย\\nFilipino\\nTürkçe\\n中文(简体)\\n中文(台灣)\\nবাংলা\\nગુજરાતી\\nहिन्दी\\nHrvatski\\nMagyar\\nಕನ್ನಡ\\nമലയാളം\\nमराठी\\nनेपाली\\nਪੰਜਾਬੀ\\nසිංහල\\nSlovenčina\\nதமிழ்\\nతెలుగు\\nTiếng Việt\\n中文(香港)\\nБългарски\\nFrançais (Canada)\\nRomână\\nСрпски\\nУкраїнська', '© 2020 INSTAGRAM FROM FACEBOOK']\n",
      "\n",
      "AUGUST 1, 2018\n",
      "['therealkiyosaki', 'Verified', '•', '7,232', 'therealkiyosaki', 'Verified', 'Unfortunately, what these millennial parents are teaching their kids is garbage... Head to my latest blog (the link is in my bio)', 'colettejohanlon', 'That’s something to really think about. Everyone is struggling with Millennials, what will their kids be like? Things are changing so fast now.', 'flavio_souza_barros', 'Parabens!', 'consultduran', 'Lovely pictures! Those kids are very fortunate to get some real life lessons.👏👍😍', 'matteo_rvln', 'It is better to fail in originality than to succeed in imitation♠️', 'altechzilla', '✌🏽', 'iranmotive', 'The cutest :grinning:', 'chrisgibbonsart', 'Thank you, sir!', '_homa.4335', '🌷👌✌❤', 'kevinescobartiburon', '✊', 'nikewitherspoon4764', 'Amen beautiful', 'cheeseclubuk', 'This looks amazing!', 'farzaneh_pourshaban', 'ما اينجا هستيم تا شما روياهايتان را فراموش نكنيد. 🌸🌸', 'Search', 'LANGUAGE\\nAfrikaans\\nČeština\\nDansk\\nDeutsch\\nΕλληνικά\\nEnglish\\nEspañol (España)\\nEspañol\\nSuomi\\nFrançais\\nBahasa Indonesia\\nItaliano\\n日本語\\n한국어\\nBahasa Melayu\\nNorsk\\nNederlands\\nPolski\\nPortuguês (Brasil)\\nPortuguês (Portugal)\\nРусский\\nSvenska\\nภาษาไทย\\nFilipino\\nTürkçe\\n中文(简体)\\n中文(台灣)\\nবাংলা\\nગુજરાતી\\nहिन्दी\\nHrvatski\\nMagyar\\nಕನ್ನಡ\\nമലയാളം\\nमराठी\\nनेपाली\\nਪੰਜਾਬੀ\\nසිංහල\\nSlovenčina\\nதமிழ்\\nతెలుగు\\nTiếng Việt\\n中文(香港)\\nБългарски\\nFrançais (Canada)\\nRomână\\nСрпски\\nУкраїнська', '© 2020 INSTAGRAM FROM FACEBOOK']\n",
      "\n",
      "JULY 30, 2018\n",
      "['therealkiyosaki', 'Verified', '•', '21,861', 'therealkiyosaki', 'Verified', 'In Johannesburg. My name on the car. Amazing.', 'steph.torre.moretti', '@moretti_julien_ ❤️', 'tecnologiapymes', 'me gusta las publicaciones que compartes,', 'Hide replies', 'eleazar_daoudou', 'Great❤️!!', 'vin.numbers', 'Invasion of privacy lol', 'andi__geiger', '\\U0001f929👍', 'socialpromi', 'So cool', 'yordiblancoperalta', '👏👏', 'farzaneh_pourshaban', 'مثل هميشه عالى 👌👏', 'king_zeko_rsa', 'When are u coming to south africa again . please come back 🙏🙏🙏🙌', 'mirmuhsinxolmurodov', '🙌', 'gabucho_21', '@nickhd16 Puto amo wn', 'risingwithjchanel', '@cassiesmit', 'Search', 'LANGUAGE\\nAfrikaans\\nČeština\\nDansk\\nDeutsch\\nΕλληνικά\\nEnglish\\nEspañol (España)\\nEspañol\\nSuomi\\nFrançais\\nBahasa Indonesia\\nItaliano\\n日本語\\n한국어\\nBahasa Melayu\\nNorsk\\nNederlands\\nPolski\\nPortuguês (Brasil)\\nPortuguês (Portugal)\\nРусский\\nSvenska\\nภาษาไทย\\nFilipino\\nTürkçe\\n中文(简体)\\n中文(台灣)\\nবাংলা\\nગુજરાતી\\nहिन्दी\\nHrvatski\\nMagyar\\nಕನ್ನಡ\\nമലയാളം\\nमराठी\\nनेपाली\\nਪੰਜਾਬੀ\\nසිංහල\\nSlovenčina\\nதமிழ்\\nతెలుగు\\nTiếng Việt\\n中文(香港)\\nБългарски\\nFrançais (Canada)\\nRomână\\nСрпски\\nУкраїнська', '© 2020 INSTAGRAM FROM FACEBOOK']\n",
      "\n"
     ]
    },
    {
     "name": "stdout",
     "output_type": "stream",
     "text": [
      "JULY 25, 2018\n",
      "['therealkiyosaki', 'Verified', '•', '4,692', 'therealkiyosaki', 'Verified', 'I don’t work for my money. It works for me: Click the link in my bio to read my newest blog.', 'floressanchezangelica', 'Its correct! And excelent!', 'View replies (1)', 'pharmathlete', 'If you would like to reach the explorer more often DM me. I have social media services that can help you😎😎', 'bembrigadeiro', '❤️❤️❤️', 'jackie_jouan', '👏👏👏', 'sandempireproperties', \"Making money is just an Idea!!! It's all about knowing your Financial Education well.\", 'r.ndli', 'Dear kiyosaki', 'williamkinghollis', 'For your daily brain food follow me today over 60 million views on YouTube made history in Milan for luxury designer @philippplein78 as the first speaker ever to speak live during Milan fashion week also have the #1 football speech in the world just type best football speech ever on YouTube I’ll be #1 like I said if it’s trash block me if it’s 🔥🔥🔥🔥 love me forever 😁💪🏿🤴🏿', 'flavio_souza_barros', '👏👏👏', 'matteo_rvln', \"J'adore ton profil⚡️\", 'abolfazl_taherian', 'انتشارات طاهریان تنها تولید کننده بازی گردش مالی رابرت کیوساکی در خاورمیانه-برگزار کننده کارگاه های آموزشی بازی در 10 شهر بزرگ ایران', 'altechzilla', '✌🏽', 'farzaneh_pourshaban', 'سپاس از انرژى مثبت شما 🌸🌸', 'Search', 'LANGUAGE\\nAfrikaans\\nČeština\\nDansk\\nDeutsch\\nΕλληνικά\\nEnglish\\nEspañol (España)\\nEspañol\\nSuomi\\nFrançais\\nBahasa Indonesia\\nItaliano\\n日本語\\n한국어\\nBahasa Melayu\\nNorsk\\nNederlands\\nPolski\\nPortuguês (Brasil)\\nPortuguês (Portugal)\\nРусский\\nSvenska\\nภาษาไทย\\nFilipino\\nTürkçe\\n中文(简体)\\n中文(台灣)\\nবাংলা\\nગુજરાતી\\nहिन्दी\\nHrvatski\\nMagyar\\nಕನ್ನಡ\\nമലയാളം\\nमराठी\\nनेपाली\\nਪੰਜਾਬੀ\\nසිංහල\\nSlovenčina\\nதமிழ்\\nతెలుగు\\nTiếng Việt\\n中文(香港)\\nБългарски\\nFrançais (Canada)\\nRomână\\nСрпски\\nУкраїнська', '© 2020 INSTAGRAM FROM FACEBOOK']\n",
      "\n",
      "JULY 19, 2018\n",
      "['therealkiyosaki', 'Verified', '•', '3,456', 'therealkiyosaki', 'Verified', 'How great is the U.S. economy right now? Click the link in my bio to read Kim’s blog.', 'indianaazmouz', '@cel_can87', 'ela_rezapour', 'Hi mrs kiosaki, l injoy read your books,now I read second chance 💙💙💙💙', 'flavio_souza_barros', 'Gostei!', 'flavio_souza_barros', 'Parabens!', 'flavio_souza_barros', '🙂', 'official_godstym', 'The quadrant', 'altechzilla', '✌🏽', 'jeffhillspeaks', \"I would love to collaborate on an idea i'm working on. I think the psychology you've developed around wealth is paramount! #mentorship #nowimentor\", 'ganesh_mindset', 'Love this game #cashflow #richdadpoordad 🙏❤️', 'englishtiptoday', 'Good one!', 'dreamsflow2020', \"Casht board game behind them. Very fun and useful toy. You can play it with Friends and learn and have fun at the same time. It's amazing. I learned a lot about money because of this game\", 'leonardogonzalezokk', 'Excelente💯🇦🇷🇦🇷🇦🇷🇦🇷🇦🇷🇦🇷🇦🇷', 'Search', 'LANGUAGE\\nAfrikaans\\nČeština\\nDansk\\nDeutsch\\nΕλληνικά\\nEnglish\\nEspañol (España)\\nEspañol\\nSuomi\\nFrançais\\nBahasa Indonesia\\nItaliano\\n日本語\\n한국어\\nBahasa Melayu\\nNorsk\\nNederlands\\nPolski\\nPortuguês (Brasil)\\nPortuguês (Portugal)\\nРусский\\nSvenska\\nภาษาไทย\\nFilipino\\nTürkçe\\n中文(简体)\\n中文(台灣)\\nবাংলা\\nગુજરાતી\\nहिन्दी\\nHrvatski\\nMagyar\\nಕನ್ನಡ\\nമലയാളം\\nमराठी\\nनेपाली\\nਪੰਜਾਬੀ\\nසිංහල\\nSlovenčina\\nதமிழ்\\nతెలుగు\\nTiếng Việt\\n中文(香港)\\nБългарски\\nFrançais (Canada)\\nRomână\\nСрпски\\nУкраїнська', '© 2020 INSTAGRAM FROM FACEBOOK']\n",
      "\n",
      "JULY 17, 2018\n",
      "['therealkiyosaki', 'Verified', '•', '4,194', 'therealkiyosaki', 'Verified', 'Your 401(k) makes you a gambler not an investor: click the link in my bio to find out why.', 'diyaa_alaater', '@muslims_islam01', '_cloover', 'Eu vou para sua Bio, para que possa entender melhor. Abraços @therealkiyosaki', 'khaladi4elite', '@bigmama6570', 'medctom', 'Вот молодцы', 'nuke.wati', 'tanks robert kiyosaki', 'metafekr', '👍👌عالی بود لایک داره. افتخار بدید به پیج ما هم سری بزنید .ما در زمینه موفقت و رشد و توسعه فردی و تغییر الگوهای ذهنی ثروتمند کار و در این زمینه مشاوره هم می دهیم.✌🙏 سایت متافکر لینک بیو @metafekr', 'flavio_souza_barros', 'Estou impressionado 👏👏', 'matteo_rvln', '💥The best💥', 'mentorbookclub', 'What is the title of this episode? I can’t find it', 'altechzilla', '✌🏽', '_americanmade45', '@ericb2nice', 'farzaneh_pourshaban', 'قدا قوت👌 بسيار عالى🌸', 'Search', 'LANGUAGE\\nAfrikaans\\nČeština\\nDansk\\nDeutsch\\nΕλληνικά\\nEnglish\\nEspañol (España)\\nEspañol\\nSuomi\\nFrançais\\nBahasa Indonesia\\nItaliano\\n日本語\\n한국어\\nBahasa Melayu\\nNorsk\\nNederlands\\nPolski\\nPortuguês (Brasil)\\nPortuguês (Portugal)\\nРусский\\nSvenska\\nภาษาไทย\\nFilipino\\nTürkçe\\n中文(简体)\\n中文(台灣)\\nবাংলা\\nગુજરાતી\\nहिन्दी\\nHrvatski\\nMagyar\\nಕನ್ನಡ\\nമലയാളം\\nमराठी\\nनेपाली\\nਪੰਜਾਬੀ\\nසිංහල\\nSlovenčina\\nதமிழ்\\nతెలుగు\\nTiếng Việt\\n中文(香港)\\nБългарски\\nFrançais (Canada)\\nRomână\\nСрпски\\nУкраїнська', '© 2020 INSTAGRAM FROM FACEBOOK']\n",
      "\n",
      "JULY 12, 2018\n",
      "['therealkiyosaki', 'Verified', '•', '13,379', 'therealkiyosaki', 'Verified', 'The benefits of this daily practice have helped improve Kim and I’s #business partnership because it’s helped us communicate better as a couple: click the link in my bio to read Kim’s blog.', 'matteo_rvln', '❤️❤️❤️❤️❤️', 'alpharanking1', 'Thank you ! 😁😁😁', 'thiago.pilarski', '@georgiaricetti olha quem é.', 'bryceb82', \"I'm in Maui and reading cashflow quadrant and preaching to my friends about shifting your mentality... #someday\", '8knowlesy8', '@cr_richardson', 'alejandral.jaramillo', '🔥', 'altechzilla', '✌🏽', 'alejandral.jaramillo', '💸', 'erick_zeca', 'Muito bom! 👏🏽😸😽', 'kevinescobartiburon', '👌', 'eifa.tejarat', '👍🏻👍🏻', 'deetrajones', \"I'm grateful that I was guided to learn more knowledge of what you preach everyday to help others gain their power back!🙏💚\", 'View replies (1)', 'Search', 'LANGUAGE\\nAfrikaans\\nČeština\\nDansk\\nDeutsch\\nΕλληνικά\\nEnglish\\nEspañol (España)\\nEspañol\\nSuomi\\nFrançais\\nBahasa Indonesia\\nItaliano\\n日本語\\n한국어\\nBahasa Melayu\\nNorsk\\nNederlands\\nPolski\\nPortuguês (Brasil)\\nPortuguês (Portugal)\\nРусский\\nSvenska\\nภาษาไทย\\nFilipino\\nTürkçe\\n中文(简体)\\n中文(台灣)\\nবাংলা\\nગુજરાતી\\nहिन्दी\\nHrvatski\\nMagyar\\nಕನ್ನಡ\\nമലയാളം\\nमराठी\\nनेपाली\\nਪੰਜਾਬੀ\\nසිංහල\\nSlovenčina\\nதமிழ்\\nతెలుగు\\nTiếng Việt\\n中文(香港)\\nБългарски\\nFrançais (Canada)\\nRomână\\nСрпски\\nУкраїнська', '© 2020 INSTAGRAM FROM FACEBOOK']\n",
      "\n",
      "JULY 12, 2018\n",
      "['therealkiyosaki', 'Verified', '•', '25,378', 'therealkiyosaki', 'Verified', '#financialeducation', 'qc_1111', '👍', 'silencer_ftano_kibelenge', 'Mmh dady', 's0phiar', '😂 Haha such a good way to explain it @lloydjamesross', 'View replies (1)', 'andreaguilar.c', '@gre.madeleine', 'the_real_sherkhan', 'I was 13 when I came to know about that Monopoly is a real life game', 'epecfoodie', '@iamwillwarren @sirbourbon @v12_mindset @thehconcept @nwkmaker @amil_am17', 'jasmineee_wu', 'Oof LOL @haoyudoing', 'View replies (1)', 'rodrigoalbistegui', '@paolabi01', 'deharold8782', 'absolutely love this! I hate that its literally the reality but its always right in front of our faces. always. Thank You for all you have done to give back. I myself was born to serve/give and am starting my journey, well restarting my journey. I got got caught up thinking I needed to make money in order to give. I just watched one of your interviews and you as well as a few other universal nudges, reminded me that I have what I needed all along. if the money comes so be it. but the key is helping others and using my gift. Yes I am not business savvy but I aim to be and plan to keep at it until I make a profit coming out of this epidemic.', 'ciomary', '@yamxavier', 'its_billia', '@art_fanwh', 'infiniteoutlaw', '@hardtoforget 😉', 'Search', 'LANGUAGE\\nAfrikaans\\nČeština\\nDansk\\nDeutsch\\nΕλληνικά\\nEnglish\\nEspañol (España)\\nEspañol\\nSuomi\\nFrançais\\nBahasa Indonesia\\nItaliano\\n日本語\\n한국어\\nBahasa Melayu\\nNorsk\\nNederlands\\nPolski\\nPortuguês (Brasil)\\nPortuguês (Portugal)\\nРусский\\nSvenska\\nภาษาไทย\\nFilipino\\nTürkçe\\n中文(简体)\\n中文(台灣)\\nবাংলা\\nગુજરાતી\\nहिन्दी\\nHrvatski\\nMagyar\\nಕನ್ನಡ\\nമലയാളം\\nमराठी\\nनेपाली\\nਪੰਜਾਬੀ\\nසිංහල\\nSlovenčina\\nதமிழ்\\nతెలుగు\\nTiếng Việt\\n中文(香港)\\nБългарски\\nFrançais (Canada)\\nRomână\\nСрпски\\nУкраїнська', '© 2020 INSTAGRAM FROM FACEBOOK']\n",
      "\n",
      "JULY 10, 2018\n",
      "['therealkiyosaki', 'Verified', '•', '17,389', 'therealkiyosaki', 'Verified', 'My commitment to you is to continue sharing my knowledge, making it as clear and simple as possible: Click the link in my bio to read my blog.', 'cashgold24k', 'Amazing guy you are .very influential 👍', 'soycarlosospina1', '💸', 'altechzilla', '✌🏽', 'vahiidrahmati', 'I like to be like u ,powerful, successful and influencing to every ones life.❤️❤️', '__xprt', 'If you must take debt, take it small. If you have to take it big make sure someone is paying for it.', 'View replies (1)', 'valentinlopezoficial', '@grantcardone the 10X man', 'jccabos1', '👏🏻👏🏻👏🏻👏🏻', 'p_rocks007', '👍', 'morgun_sholty', 'I have a cataylist to help facilitate that', 'aryanto5951', '👍😍', 'galipeks', '👍👍👍', '_ciy.a', '🔥', 'Search', 'LANGUAGE\\nAfrikaans\\nČeština\\nDansk\\nDeutsch\\nΕλληνικά\\nEnglish\\nEspañol (España)\\nEspañol\\nSuomi\\nFrançais\\nBahasa Indonesia\\nItaliano\\n日本語\\n한국어\\nBahasa Melayu\\nNorsk\\nNederlands\\nPolski\\nPortuguês (Brasil)\\nPortuguês (Portugal)\\nРусский\\nSvenska\\nภาษาไทย\\nFilipino\\nTürkçe\\n中文(简体)\\n中文(台灣)\\nবাংলা\\nગુજરાતી\\nहिन्दी\\nHrvatski\\nMagyar\\nಕನ್ನಡ\\nമലയാളം\\nमराठी\\nनेपाली\\nਪੰਜਾਬੀ\\nසිංහල\\nSlovenčina\\nதமிழ்\\nతెలుగు\\nTiếng Việt\\n中文(香港)\\nБългарски\\nFrançais (Canada)\\nRomână\\nСрпски\\nУкраїнська', '© 2020 INSTAGRAM FROM FACEBOOK']\n",
      "\n"
     ]
    },
    {
     "name": "stdout",
     "output_type": "stream",
     "text": [
      "JULY 6, 2018\n",
      "['therealkiyosaki', 'Verified', '•', '3,507', 'therealkiyosaki', 'Verified', 'So, what will you accomplish in the six months left until 2019? Click the link in my bio to read Kim’s blog!', 'jan_tor', 'Great Shot 😱💥have a nice day 🤙🏾😇', 'paulmerrill160', 'The US debt is? Can the king of debt make money for the US with this debt?', 'iloveturnkeymaster', 'A lot of sales people wake up in the morning and think how can they make more sales in a day but be', 'iloveturnkeymaster', \"A lot of sales people wake up in the morning and think how can they make more sales in a day but very few would think how could they actually improve more people's life 🙇🙇🙇\", 'ermiashahlaee', 'good', 'adhilex22', 'Pepe panda', 'ferlito_enrico', '👍👍👍', 'agenciafiqui', 'Top!!!😉', 'luisjah', 'Un proyecto muy especial para cambiar al mundo!!', 'flavio_souza_barros', 'Sucesso', 'altechzilla', '✌🏽', 'vohn_holden', \"I moved out, managed debt and stress, learned about the judicial system, switched Dept's at work, faced any setback life presented and conquered it. I should be starting a new job if all goes well! and after that my entrepreneurial ideas should start taking off as things are lining up unexpectedly I just need to build the team and work out the logistics!\", 'Search', 'LANGUAGE\\nAfrikaans\\nČeština\\nDansk\\nDeutsch\\nΕλληνικά\\nEnglish\\nEspañol (España)\\nEspañol\\nSuomi\\nFrançais\\nBahasa Indonesia\\nItaliano\\n日本語\\n한국어\\nBahasa Melayu\\nNorsk\\nNederlands\\nPolski\\nPortuguês (Brasil)\\nPortuguês (Portugal)\\nРусский\\nSvenska\\nภาษาไทย\\nFilipino\\nTürkçe\\n中文(简体)\\n中文(台灣)\\nবাংলা\\nગુજરાતી\\nहिन्दी\\nHrvatski\\nMagyar\\nಕನ್ನಡ\\nമലയാളം\\nमराठी\\nनेपाली\\nਪੰਜਾਬੀ\\nසිංහල\\nSlovenčina\\nதமிழ்\\nతెలుగు\\nTiếng Việt\\n中文(香港)\\nБългарски\\nFrançais (Canada)\\nRomână\\nСрпски\\nУкраїнська', '© 2020 INSTAGRAM FROM FACEBOOK']\n",
      "\n",
      "JULY 3, 2018\n",
      "['therealkiyosaki', 'Verified', '•', '5,249', 'therealkiyosaki', 'Verified', 'There is nothing more financially dangerous than thinking your savings will provide a secure financial future: click the link in my bio to read my latest blog.', 'libertadrlosada', '🔥🔥🔥🔥🔥🔥', 'celso_eusebio', 'True that ! Money should be invested not kept', 'ermiashahlaee', 'best', 'lloydjamesross', 'Agreed. That’s why built a side hustle and invested into businesses.', 'tuemprendiendo', '😎', 'anchoredwave', 'Agree, these books are phenomenal!', 'juanjose.olave', 'Muy buena foto saludos desde Bogota', 'reverseroyalties', \"Couldn't agree more.n\", 'formulaforwardmotioninc', '#THEBUBBLEWILLBURSTINTERVIEW 🏆⭐💪', 'shaynamendonca', '@silvaccbrafael e @dampaixao', 'altechzilla', '✌🏽', 'sokhanrankocholo', 'سخنران کوچولو اولین موسسه فن بیان و سخنوری کودکان و نوجوانان', 'Search', 'LANGUAGE\\nAfrikaans\\nČeština\\nDansk\\nDeutsch\\nΕλληνικά\\nEnglish\\nEspañol (España)\\nEspañol\\nSuomi\\nFrançais\\nBahasa Indonesia\\nItaliano\\n日本語\\n한국어\\nBahasa Melayu\\nNorsk\\nNederlands\\nPolski\\nPortuguês (Brasil)\\nPortuguês (Portugal)\\nРусский\\nSvenska\\nภาษาไทย\\nFilipino\\nTürkçe\\n中文(简体)\\n中文(台灣)\\nবাংলা\\nગુજરાતી\\nहिन्दी\\nHrvatski\\nMagyar\\nಕನ್ನಡ\\nമലയാളം\\nमराठी\\nनेपाली\\nਪੰਜਾਬੀ\\nසිංහල\\nSlovenčina\\nதமிழ்\\nతెలుగు\\nTiếng Việt\\n中文(香港)\\nБългарски\\nFrançais (Canada)\\nRomână\\nСрпски\\nУкраїнська', '© 2020 INSTAGRAM FROM FACEBOOK']\n",
      "\n",
      "JUNE 26, 2018\n",
      "['therealkiyosaki', 'Verified', '•', '4,837', 'therealkiyosaki', 'Verified', 'One way to start finding other business opportunities is to do what I call slowing down to speed up: click the link in my bio for some tips on running a business.', 'inspirationalmarshahamilton', 'You are awesome!', 'View replies (1)', 'rj_trader', 'This is amazing!', 'tercangencer', 'Greetings from Germany Robert✋✔', 'metafekr', '🙂سلام ، خیلی عالی ، خوشحال میشم پیجمونو دنبال کنید و با مطالب موفقیت و رشد و توسعه فردی متافکر آشنا شین 😊😊😊 لینک بیو @metafekr', 'kevinescobartiburon', '💪', 'continualwealth', 'awesome', 'flavio_souza_barros', 'muito bem!', 'flavio_souza_barros', '👏👏👏', 'flavio_souza_barros', 'Sucesso', 'altechzilla', '✌🏽', 'tecnologiapymes', '✅ ✅ Nice!,', 'sabinerossmadl', '🙏👍👍👌👌❤️💜', 'Search', 'LANGUAGE\\nAfrikaans\\nČeština\\nDansk\\nDeutsch\\nΕλληνικά\\nEnglish\\nEspañol (España)\\nEspañol\\nSuomi\\nFrançais\\nBahasa Indonesia\\nItaliano\\n日本語\\n한국어\\nBahasa Melayu\\nNorsk\\nNederlands\\nPolski\\nPortuguês (Brasil)\\nPortuguês (Portugal)\\nРусский\\nSvenska\\nภาษาไทย\\nFilipino\\nTürkçe\\n中文(简体)\\n中文(台灣)\\nবাংলা\\nગુજરાતી\\nहिन्दी\\nHrvatski\\nMagyar\\nಕನ್ನಡ\\nമലയാളം\\nमराठी\\nनेपाली\\nਪੰਜਾਬੀ\\nසිංහල\\nSlovenčina\\nதமிழ்\\nతెలుగు\\nTiếng Việt\\n中文(香港)\\nБългарски\\nFrançais (Canada)\\nRomână\\nСрпски\\nУкраїнська', '© 2020 INSTAGRAM FROM FACEBOOK']\n",
      "\n",
      "JUNE 22, 2018\n",
      "['therealkiyosaki', 'Verified', '•', '50,299 views', '50,299', 'therealkiyosaki', 'Verified', 'I read comments all the time like, \"I need money before I can invest it.\" What if I told you, there\\'s a way for you to find extra money in the time it takes you to finish a load of laundry? Watch, then click the link in my bio.', 'billionaires_row', \"Your books are the best😄 i've bought 6 of them!🖒\", 'continualwealth', 'awesome', 'soycarlosospina1', '👏', 'altechzilla', '✌🏽', 'alejandral.jaramillo', '💪', 'alejandral.jaramillo', '🔥', 'marketinghds', 'Quieres Triunfar en Internet? Te ayudamos a que consigas una visibilidad impactante en todas las Plataformas! 🔥⚡💻', 'mayrim_alanis', '❤️', 'preity_mehra', '@shrayuniyal', 'zvx.0000', 'Just one eye, hey!', 'milagros.alice.5', 'Me too..! Mr. Kiyosaki', 'tonyongkypratama.top', '👍', 'Search', 'LANGUAGE\\nAfrikaans\\nČeština\\nDansk\\nDeutsch\\nΕλληνικά\\nEnglish\\nEspañol (España)\\nEspañol\\nSuomi\\nFrançais\\nBahasa Indonesia\\nItaliano\\n日本語\\n한국어\\nBahasa Melayu\\nNorsk\\nNederlands\\nPolski\\nPortuguês (Brasil)\\nPortuguês (Portugal)\\nРусский\\nSvenska\\nภาษาไทย\\nFilipino\\nTürkçe\\n中文(简体)\\n中文(台灣)\\nবাংলা\\nગુજરાતી\\nहिन्दी\\nHrvatski\\nMagyar\\nಕನ್ನಡ\\nമലയാളം\\nमराठी\\nनेपाली\\nਪੰਜਾਬੀ\\nසිංහල\\nSlovenčina\\nதமிழ்\\nతెలుగు\\nTiếng Việt\\n中文(香港)\\nБългарски\\nFrançais (Canada)\\nRomână\\nСрпски\\nУкраїнська', '© 2020 INSTAGRAM FROM FACEBOOK']\n",
      "\n",
      "JUNE 21, 2018\n",
      "['therealkiyosaki', 'Verified', '•', '4,768', 'therealkiyosaki', 'Verified', 'Investing is just like life: a journey filled with highs and lows, joys and sorrows. At the end of the day, it’s always a journey worth taking. Click the link in my bio to read why.', 'lvxxviii', 'Made my day', 'saydullaevabdurasul', 'Hello rich ded', 'mwanlechindang', 'Some of us bask on our previous success to the detriment of our future', 'abolfazl_taherian', 'انتشارات طاهریان تنها تولید کننده بازی گردش مالی رابرت کیوساکی در خاورمیانه', 'iamrellsumpter__', 'Dope Quote on The Wall There!! 👊🏼😎🔑', 'altechzilla', '✌🏽', 'mortezaafzali.ir', 'پستات خیلی باحالن 👀', 'kevinescobartiburon', '💪', 'mindset_of_leaders_', 'Very sweet', 'prrobsonoliveira', '😀😄', 'dreamsflow2020', \"Cashflow board game is the best. Played it, learned a lot. And it's fun\", 'abdelilahelharrad', 'راىغ وحميل انتم رائع جدا 🌹🌹🌹🌹🌹', 'Search', 'LANGUAGE\\nAfrikaans\\nČeština\\nDansk\\nDeutsch\\nΕλληνικά\\nEnglish\\nEspañol (España)\\nEspañol\\nSuomi\\nFrançais\\nBahasa Indonesia\\nItaliano\\n日本語\\n한국어\\nBahasa Melayu\\nNorsk\\nNederlands\\nPolski\\nPortuguês (Brasil)\\nPortuguês (Portugal)\\nРусский\\nSvenska\\nภาษาไทย\\nFilipino\\nTürkçe\\n中文(简体)\\n中文(台灣)\\nবাংলা\\nગુજરાતી\\nहिन्दी\\nHrvatski\\nMagyar\\nಕನ್ನಡ\\nമലയാളം\\nमराठी\\nनेपाली\\nਪੰਜਾਬੀ\\nසිංහල\\nSlovenčina\\nதமிழ்\\nతెలుగు\\nTiếng Việt\\n中文(香港)\\nБългарски\\nFrançais (Canada)\\nRomână\\nСрпски\\nУкраїнська', '© 2020 INSTAGRAM FROM FACEBOOK']\n",
      "\n",
      "JUNE 19, 2018\n",
      "['therealkiyosaki', 'Verified', '•', '7,787', 'therealkiyosaki', 'Verified', 'Click the link in my bio for financial habits I have in order to be financially free.', 'millonarioreal1', '@millonarioreal1', 'diego.delgado_', '🆒', 'gotomyotherprofile33', \"@therealkiyosaki Let's Collaborate 🙌\", 'bertrand_saugy_coach', '@grand_maistre', 'lyn_llewe', \"You are an inspiration. I'll study harder about your concept. I want to learn how to be rich :) thank you for your teachings.\", 'altechzilla', '✌🏽', 'yoni7308', '👍', 'ulanovna007', 'I have read your \"Rich Father,Poor Father \"', 'fabicqueiros', '👏🏼👏👏👏👏👏👏🏼', 'minimuslife', 'Very nice', 'thiagosampaio3.0', 'Woww !! I was there 🔥🔥🔥🔥🔥', 'josecerbellou', 'Amazing Boss', 'Search', 'LANGUAGE\\nAfrikaans\\nČeština\\nDansk\\nDeutsch\\nΕλληνικά\\nEnglish\\nEspañol (España)\\nEspañol\\nSuomi\\nFrançais\\nBahasa Indonesia\\nItaliano\\n日本語\\n한국어\\nBahasa Melayu\\nNorsk\\nNederlands\\nPolski\\nPortuguês (Brasil)\\nPortuguês (Portugal)\\nРусский\\nSvenska\\nภาษาไทย\\nFilipino\\nTürkçe\\n中文(简体)\\n中文(台灣)\\nবাংলা\\nગુજરાતી\\nहिन्दी\\nHrvatski\\nMagyar\\nಕನ್ನಡ\\nമലയാളം\\nमराठी\\nनेपाली\\nਪੰਜਾਬੀ\\nසිංහල\\nSlovenčina\\nதமிழ்\\nతెలుగు\\nTiếng Việt\\n中文(香港)\\nБългарски\\nFrançais (Canada)\\nRomână\\nСрпски\\nУкраїнська', '© 2020 INSTAGRAM FROM FACEBOOK']\n",
      "\n"
     ]
    },
    {
     "name": "stdout",
     "output_type": "stream",
     "text": [
      "JUNE 14, 2018\n",
      "['therealkiyosaki', 'Verified', '•', '5,234', 'therealkiyosaki', 'Verified', 'The world needs more female #entrepreneurs : click the link in my bio to read Kim’s blog.', 'its_m4rk', '❤️', 'floressanchezangelica', 'Good like I agregó with you', 'lvxxviii', 'This is great', 'urusel_urusal', 'Она прекрасна..', 'im_martinli', 'Weiter so❗️💯', 'tuemprendiendo', '🌠', 'affiliate_kickstart', 'Inspiring stuff.Keep up the good work.👍', 'artpassionate._', 'Yeah', 'tkiyosaki', '@__official.mk', 'altechzilla', '✌🏽', 'digmarfilo', 'Keren kak👍', 'kevinescobartiburon', '✊', 'Search', 'LANGUAGE\\nAfrikaans\\nČeština\\nDansk\\nDeutsch\\nΕλληνικά\\nEnglish\\nEspañol (España)\\nEspañol\\nSuomi\\nFrançais\\nBahasa Indonesia\\nItaliano\\n日本語\\n한국어\\nBahasa Melayu\\nNorsk\\nNederlands\\nPolski\\nPortuguês (Brasil)\\nPortuguês (Portugal)\\nРусский\\nSvenska\\nภาษาไทย\\nFilipino\\nTürkçe\\n中文(简体)\\n中文(台灣)\\nবাংলা\\nગુજરાતી\\nहिन्दी\\nHrvatski\\nMagyar\\nಕನ್ನಡ\\nമലയാളം\\nमराठी\\nनेपाली\\nਪੰਜਾਬੀ\\nසිංහල\\nSlovenčina\\nதமிழ்\\nతెలుగు\\nTiếng Việt\\n中文(香港)\\nБългарски\\nFrançais (Canada)\\nRomână\\nСрпски\\nУкраїнська', '© 2020 INSTAGRAM FROM FACEBOOK']\n",
      "\n",
      "JUNE 12, 2018\n",
      "['therealkiyosaki', 'Verified', '•', '5,960', 'therealkiyosaki', 'Verified', 'When you watch the World Cup this year, you’ll be watching hundreds of millions of dollars in assets running around on the field ➡️ Click the link in my bio to find out why high-paid athletes go broke. #worldcup #soccer', 'danial.adhami', 'میساکی؟؟؟', 'its_m4rk', '👏🏽👏🏽👏🏽', 'anamariagiraldo', '👍', 'zacmparker', 'Verified', 'Check dm', 'emelie.sidenvall', '🔥', 'tavan_chnl', 'سلام و وقت بخیر دوست خوبم. مدیر « کانال توان » هستم. حتماً برای شما هم اتفاق افتاده که بابت یک ارائۀ کلاسی در دانشگاه، ارائۀ مطلب در یک همایش، یا فقط برای یادگیری شخصی، دنبال یک تصویر، عکس\\u200cنوشته، اینفوگرافیک یا یک فایل ویدئویی در زمینۀ: محتواهای انگیزشی و روش\\u200cهای موفقیت، زبان انگلیسی، بازاریابی و فروش، مدیریت و کارآفرینی یا مثل این\\u200cها باشین و بعد از کلی جستجو در اینترنت، محتوای موردنظرتون رو پیدا نکنین و درمونده و کلافه بشین! ما راهکار ویژه و متمایزی برای این نیاز شما پیدا کردیم: t.me/tAvAn_chnL', 'raino.dymita', '@therealkiyosaki you are a living legend 👍👍👍', 'iamsonnyweathersby', '@therealkiyosaki The “Rich Dad Poor Dad” Guy. Great book, I’m working on your philosophies bro, it’s coming ✊🏽 Thanks for your insight, God Bless!', 'sopiabusiness', 'semoga sukses terus ya kak 😀', 'greatpetroff', 'Cashflow get fantastical capability of solve on live a tasks, which play in game🙌', 'artur.erhardt', 'Yes! Speaking the truth.', 'altechzilla', '✌🏽', 'Search', 'LANGUAGE\\nAfrikaans\\nČeština\\nDansk\\nDeutsch\\nΕλληνικά\\nEnglish\\nEspañol (España)\\nEspañol\\nSuomi\\nFrançais\\nBahasa Indonesia\\nItaliano\\n日本語\\n한국어\\nBahasa Melayu\\nNorsk\\nNederlands\\nPolski\\nPortuguês (Brasil)\\nPortuguês (Portugal)\\nРусский\\nSvenska\\nภาษาไทย\\nFilipino\\nTürkçe\\n中文(简体)\\n中文(台灣)\\nবাংলা\\nગુજરાતી\\nहिन्दी\\nHrvatski\\nMagyar\\nಕನ್ನಡ\\nമലയാളം\\nमराठी\\nनेपाली\\nਪੰਜਾਬੀ\\nසිංහල\\nSlovenčina\\nதமிழ்\\nతెలుగు\\nTiếng Việt\\n中文(香港)\\nБългарски\\nFrançais (Canada)\\nRomână\\nСрпски\\nУкраїнська', '© 2020 INSTAGRAM FROM FACEBOOK']\n",
      "\n",
      "JUNE 7, 2018\n",
      "['therealkiyosaki', 'Verified', '•', '8,363', 'therealkiyosaki', 'Verified', '5 ways you can succeed with real estate investing in today’s market: Click the link in my bio!', 'balltribeking', '@discounthomestampa', 'tearsi23', 'Good!', 'stayhappyandcarryon', 'quality time with friends and family always lifts up!', 'elnaz2288', 'Good luck😊😊', 'alejandral.jaramillo', '👏', 'leandromoteles', '@ludmiler', 'altechzilla', '✌🏽', 'bote_atelier', '🙌Wanna learn every single detail🙌', 'jccabos1', 'This is great', 'fernandolaia.triunfo', 'Gosto de bons posts como esse seu !', 'erikabonnickofficial', '🙌🏽🙌🏽', 'khalijeparsnet', 'Bbc documentary great', 'Search', 'LANGUAGE\\nAfrikaans\\nČeština\\nDansk\\nDeutsch\\nΕλληνικά\\nEnglish\\nEspañol (España)\\nEspañol\\nSuomi\\nFrançais\\nBahasa Indonesia\\nItaliano\\n日本語\\n한국어\\nBahasa Melayu\\nNorsk\\nNederlands\\nPolski\\nPortuguês (Brasil)\\nPortuguês (Portugal)\\nРусский\\nSvenska\\nภาษาไทย\\nFilipino\\nTürkçe\\n中文(简体)\\n中文(台灣)\\nবাংলা\\nગુજરાતી\\nहिन्दी\\nHrvatski\\nMagyar\\nಕನ್ನಡ\\nമലയാളം\\nमराठी\\nनेपाली\\nਪੰਜਾਬੀ\\nසිංහල\\nSlovenčina\\nதமிழ்\\nతెలుగు\\nTiếng Việt\\n中文(香港)\\nБългарски\\nFrançais (Canada)\\nRomână\\nСрпски\\nУкраїнська', '© 2020 INSTAGRAM FROM FACEBOOK']\n",
      "\n",
      "JUNE 6, 2018\n",
      "['therealkiyosaki', 'Verified', '•', '4,791', 'therealkiyosaki', 'Verified', 'A special thank you to my 150K 📍SUBSCRIBERS📍on YouTube. I’m listening to you and your feedback on my latest videos of Millennial Money. I’m reading your comments and a new series will be released of topics you have asked to learn more about and ADVANCED TOPICS. Do not try to understand these new concepts if you haven’t started with the basics I released on my YouTube channel under the playlist “Millennial Money: Lessons with Robert Kiyosaki.” Click the link in my bio and. 📌SUBSCRIBE 📌to my channel so you can be notified of my upcoming lessons on debt, NOI, real estate investing, stocks, taxes, and more.', 'who.prashantdev', 'This guy has literally changed my life for forever..❤', 'odkelneradomilionera', '🤗', 'alefoxlife', 'Elite 💪🏼', 'kholiejimenez', 'Nice one 👍', 'lvxxviii', 'This is great', 'mwanlechindang', 'It interests me to know that someone like U is ready to enlighten people that are poor financially like me. And U give opportunity to be better in our lives', '_tappit', '❤️❤️❤️', 'piccasso96', 'Thank you for your YouTube channel !!', 'ricardomarquezofficial', '💸', 'altechzilla', '✌🏽', 'empreendedoressaoficial', '😊😊😊', 'wrest_city', '🤗🤗🤗🤗🤗🤗🤗', 'Search', 'LANGUAGE\\nAfrikaans\\nČeština\\nDansk\\nDeutsch\\nΕλληνικά\\nEnglish\\nEspañol (España)\\nEspañol\\nSuomi\\nFrançais\\nBahasa Indonesia\\nItaliano\\n日本語\\n한국어\\nBahasa Melayu\\nNorsk\\nNederlands\\nPolski\\nPortuguês (Brasil)\\nPortuguês (Portugal)\\nРусский\\nSvenska\\nภาษาไทย\\nFilipino\\nTürkçe\\n中文(简体)\\n中文(台灣)\\nবাংলা\\nગુજરાતી\\nहिन्दी\\nHrvatski\\nMagyar\\nಕನ್ನಡ\\nമലയാളം\\nमराठी\\nनेपाली\\nਪੰਜਾਬੀ\\nසිංහල\\nSlovenčina\\nதமிழ்\\nతెలుగు\\nTiếng Việt\\n中文(香港)\\nБългарски\\nFrançais (Canada)\\nRomână\\nСрпски\\nУкраїнська', '© 2020 INSTAGRAM FROM FACEBOOK']\n",
      "\n",
      "JUNE 5, 2018\n",
      "['therealkiyosaki', 'Verified', '•', '5,184', 'therealkiyosaki', 'Verified', 'Click the link in my bio to find out the 6 reasons why you should be selling on Amazon', 'dan_foley_hall', '@jimmyroclothing', 'royalty.by.birth', 'Is that the legendary Tom the Tax God😤😊 that guy is the man!!! Tace', 'diego.delgado_', '💯💯', 'lvxxviii', 'Made my day', 'dominikg24', 'Feels good 😍', '_tappit', '❤️❤️❤️', 'luisjah', 'Oooh el triángulo de la bermudas', 'luisjah', '😊😊', 'official_godstym', '@therealkiyosaki 💥', 'altechzilla', '✌🏽', 'jorge_valladolic', 'Me modo APRENDIZAJE siempre', 'ta.nya5332', 'Хочу сыграть эту игру', 'Search', 'LANGUAGE\\nAfrikaans\\nČeština\\nDansk\\nDeutsch\\nΕλληνικά\\nEnglish\\nEspañol (España)\\nEspañol\\nSuomi\\nFrançais\\nBahasa Indonesia\\nItaliano\\n日本語\\n한국어\\nBahasa Melayu\\nNorsk\\nNederlands\\nPolski\\nPortuguês (Brasil)\\nPortuguês (Portugal)\\nРусский\\nSvenska\\nภาษาไทย\\nFilipino\\nTürkçe\\n中文(简体)\\n中文(台灣)\\nবাংলা\\nગુજરાતી\\nहिन्दी\\nHrvatski\\nMagyar\\nಕನ್ನಡ\\nമലയാളം\\nमराठी\\nनेपाली\\nਪੰਜਾਬੀ\\nසිංහල\\nSlovenčina\\nதமிழ்\\nతెలుగు\\nTiếng Việt\\n中文(香港)\\nБългарски\\nFrançais (Canada)\\nRomână\\nСрпски\\nУкраїнська', '© 2020 INSTAGRAM FROM FACEBOOK']\n",
      "\n"
     ]
    }
   ],
   "source": [
    "bot.view_photo_profile(Like=False, Save_Photo_comments= True)"
   ]
  },
  {
   "cell_type": "code",
   "execution_count": 10,
   "metadata": {},
   "outputs": [
    {
     "data": {
      "text/plain": [
       "42"
      ]
     },
     "execution_count": 10,
     "metadata": {},
     "output_type": "execute_result"
    }
   ],
   "source": [
    "len(bot.photos_profile)"
   ]
  },
  {
   "cell_type": "code",
   "execution_count": 11,
   "metadata": {
    "scrolled": true
   },
   "outputs": [
    {
     "data": {
      "text/plain": [
       "42"
      ]
     },
     "execution_count": 11,
     "metadata": {},
     "output_type": "execute_result"
    }
   ],
   "source": [
    "len(bot.photo_all_comments)"
   ]
  },
  {
   "cell_type": "code",
   "execution_count": 12,
   "metadata": {},
   "outputs": [
    {
     "data": {
      "text/plain": [
       "42"
      ]
     },
     "execution_count": 12,
     "metadata": {},
     "output_type": "execute_result"
    }
   ],
   "source": [
    "len(bot.photo_date)"
   ]
  },
  {
   "cell_type": "code",
   "execution_count": 13,
   "metadata": {},
   "outputs": [
    {
     "data": {
      "text/plain": [
       "['SEPTEMBER 26, 2018',\n",
       " 'SEPTEMBER 22, 2018',\n",
       " 'SEPTEMBER 14, 2018',\n",
       " 'SEPTEMBER 13, 2018',\n",
       " 'SEPTEMBER 6, 2018',\n",
       " 'AUGUST 31, 2018',\n",
       " 'AUGUST 31, 2018',\n",
       " 'AUGUST 28, 2018',\n",
       " 'AUGUST 25, 2018',\n",
       " 'AUGUST 24, 2018',\n",
       " 'AUGUST 23, 2018',\n",
       " 'AUGUST 22, 2018',\n",
       " 'AUGUST 21, 2018',\n",
       " 'AUGUST 17, 2018',\n",
       " 'AUGUST 16, 2018',\n",
       " 'AUGUST 15, 2018',\n",
       " 'AUGUST 10, 2018',\n",
       " 'AUGUST 8, 2018',\n",
       " 'AUGUST 7, 2018',\n",
       " 'AUGUST 7, 2018',\n",
       " 'AUGUST 5, 2018',\n",
       " 'AUGUST 3, 2018',\n",
       " 'AUGUST 2, 2018',\n",
       " 'AUGUST 1, 2018',\n",
       " 'JULY 30, 2018',\n",
       " 'JULY 25, 2018',\n",
       " 'JULY 19, 2018',\n",
       " 'JULY 17, 2018',\n",
       " 'JULY 12, 2018',\n",
       " 'JULY 12, 2018',\n",
       " 'JULY 10, 2018',\n",
       " 'JULY 6, 2018',\n",
       " 'JULY 3, 2018',\n",
       " 'JUNE 26, 2018',\n",
       " 'JUNE 22, 2018',\n",
       " 'JUNE 21, 2018',\n",
       " 'JUNE 19, 2018',\n",
       " 'JUNE 14, 2018',\n",
       " 'JUNE 12, 2018',\n",
       " 'JUNE 7, 2018',\n",
       " 'JUNE 6, 2018',\n",
       " 'JUNE 5, 2018']"
      ]
     },
     "execution_count": 13,
     "metadata": {},
     "output_type": "execute_result"
    }
   ],
   "source": [
    "bot.photo_date"
   ]
  },
  {
   "cell_type": "markdown",
   "metadata": {},
   "source": [
    "### Saving photos and comments in a variable"
   ]
  },
  {
   "cell_type": "code",
   "execution_count": 14,
   "metadata": {
    "scrolled": false
   },
   "outputs": [],
   "source": [
    "therealkiyosaki = bot.photo_all_comments\n",
    "photo_dates = bot.photo_date"
   ]
  },
  {
   "cell_type": "markdown",
   "metadata": {},
   "source": [
    "## Saving photos dates and comments in a local machine"
   ]
  },
  {
   "cell_type": "code",
   "execution_count": 15,
   "metadata": {},
   "outputs": [],
   "source": [
    "#Saving posts_comments in a json file\n",
    "import pickle\n",
    "with open('therealkiyosaki_posts_comments.json', 'wb') as fp:\n",
    "    pickle.dump(therealkiyosaki, fp)"
   ]
  },
  {
   "cell_type": "code",
   "execution_count": 16,
   "metadata": {},
   "outputs": [],
   "source": [
    "#Saving posts_date in a json file\n",
    "import pickle\n",
    "with open('therealkiyosaki_posts_date.json', 'wb') as fp:\n",
    "    pickle.dump(photo_dates, fp)"
   ]
  },
  {
   "cell_type": "markdown",
   "metadata": {},
   "source": [
    "### Download photos in a Image folder on local machine"
   ]
  },
  {
   "cell_type": "code",
   "execution_count": 17,
   "metadata": {},
   "outputs": [
    {
     "name": "stdout",
     "output_type": "stream",
     "text": [
      "Help on method download_photos in module InstagramBot:\n",
      "\n",
      "download_photos() method of InstagramBot.InstagramBot instance\n",
      "    download_photos method of class InstagramBot:\n",
      "        Args: None\n",
      "    \n",
      "        Attribute:\n",
      "            \n",
      "            The Chromedriver will get to the instagram page of the username or hashtag provided:\n",
      "                loop through all photos:\n",
      "                    download each one of them on a Image folder in local machine\n",
      "                    copy Image url in the photo_url attribute\n",
      "    CAUTION:  \n",
      "        THIS METHOD MUST BE CALLED AFTER INITALISATION OF THE nav_hashtag OR nav_user METHOD\n",
      "\n"
     ]
    }
   ],
   "source": [
    "help(bot.download_photos)"
   ]
  },
  {
   "cell_type": "code",
   "execution_count": 18,
   "metadata": {
    "scrolled": true
   },
   "outputs": [
    {
     "name": "stdout",
     "output_type": "stream",
     "text": [
      "Le dossier Image existe déjà, suppression de son contenu...\n",
      "...contenu supprimé!\n",
      "\n",
      "Téléchargement des photos en cours dans le dossier Image...\n",
      "https://scontent-cdg2-1.cdninstagram.com/v/t51.2885-15/e35/42003209_302196197258980_3508299274826643327_n.jpg?_nc_ht=scontent-cdg2-1.cdninstagram.com&_nc_cat=104&_nc_ohc=nmQc0I79pg8AX_Ts8vK&oh=6e5b97dcd0a93b882ee176a79b5d100c&oe=5F7D7595\n",
      "\n",
      "https://scontent-cdg2-1.cdninstagram.com/v/t51.2885-15/sh0.08/e35/c76.0.787.787a/s640x640/116911035_967140157032047_7914916655050722504_n.jpg?_nc_ht=scontent-cdg2-1.cdninstagram.com&_nc_cat=111&_nc_ohc=6pvZoDdTBeYAX9YC9ol&oh=483b592ea0ccdb1ca833a47e96a8fe94&oe=5F800461\n",
      "\n",
      "https://scontent-cdt1-1.cdninstagram.com/v/t51.2885-15/e35/41087688_2004723006484333_5674136496345101942_n.jpg?_nc_ht=scontent-cdt1-1.cdninstagram.com&_nc_cat=101&_nc_ohc=PMv1ZLFIyKIAX8T8rBs&oh=d02c87deb9eca02e694fd02df8bde1d7&oe=5F7F3C5C\n",
      "\n",
      "https://scontent-cdg2-1.cdninstagram.com/v/t51.2885-15/e35/40465564_2246536725421783_3893561709636856676_n.jpg?_nc_ht=scontent-cdg2-1.cdninstagram.com&_nc_cat=107&_nc_ohc=R-RFE_83VR4AX-XqbKf&oh=293a8336b9491e303b015a7170120469&oe=5F7C8F20\n",
      "\n",
      "https://scontent-cdg2-1.cdninstagram.com/v/t51.2885-15/e35/40495014_1770691109693848_4712810835470619751_n.jpg?_nc_ht=scontent-cdg2-1.cdninstagram.com&_nc_cat=104&_nc_ohc=0Ll-mREaQWUAX8Rt3UQ&oh=f9c46275d155ea215bec7134161bc2ef&oe=5F7FCBC6\n",
      "\n",
      "https://scontent-cdt1-1.cdninstagram.com/v/t51.2885-15/e35/40022160_1986978598036597_6304375721187868672_n.jpg?_nc_ht=scontent-cdt1-1.cdninstagram.com&_nc_cat=101&_nc_ohc=pAQgNOxrHvQAX8fJbp3&oh=3df1900bb3a979607e1df778e70c6ad0&oe=5F7F7976\n",
      "\n",
      "https://scontent-cdg2-1.cdninstagram.com/v/t51.2885-15/e35/40023790_454974285012700_1318941829051187200_n.jpg?_nc_ht=scontent-cdg2-1.cdninstagram.com&_nc_cat=104&_nc_ohc=jvPU1jsimUgAX8YLImA&oh=598b8e0ab3094a14661e24b1a789b8b0&oe=5F7DE665\n",
      "\n",
      "https://scontent-cdg2-1.cdninstagram.com/v/t51.2885-15/e35/39327527_322864295128399_6916757127528710144_n.jpg?_nc_ht=scontent-cdg2-1.cdninstagram.com&_nc_cat=107&_nc_ohc=dIkX52Gx4AsAX9uJ5sz&oh=d36f8bdde2ac53c38f248453d9a8a946&oe=5F7DF85B\n",
      "\n",
      "https://scontent-cdt1-1.cdninstagram.com/v/t51.2885-15/e35/37899039_978890085626950_3745291437223182336_n.jpg?_nc_ht=scontent-cdt1-1.cdninstagram.com&_nc_cat=110&_nc_ohc=94zOFhP4ELgAX8cTOq3&oh=17a3d8da3e39acabbe2f45643f216f2c&oe=5F7FF275\n",
      "\n",
      "https://scontent-cdg2-1.cdninstagram.com/v/t51.2885-15/e35/39231941_2179295369019268_8813752467440271360_n.jpg?_nc_ht=scontent-cdg2-1.cdninstagram.com&_nc_cat=104&_nc_ohc=e7rbA2gAoAQAX8uKmfz&oh=c4186fdc85d63d6ed6a7afc99781f040&oe=5F7EC10E\n",
      "\n",
      "https://scontent-cdg2-1.cdninstagram.com/v/t51.2885-15/e35/39304320_632214107177959_8131509011393544192_n.jpg?_nc_ht=scontent-cdg2-1.cdninstagram.com&_nc_cat=107&_nc_ohc=N5PmzQl-kegAX-4U0YS&oh=4c0d0cd61e16c42c123c323df99771f5&oe=5F7EDAE3\n",
      "\n",
      "https://scontent-cdg2-1.cdninstagram.com/v/t51.2885-15/e35/39156991_307982836641247_1086763937208205312_n.jpg?_nc_ht=scontent-cdg2-1.cdninstagram.com&_nc_cat=107&_nc_ohc=lypLNRaq6f4AX_ITuJs&oh=e1327589cce26894f945cc114d562432&oe=5F7D40C2\n",
      "\n",
      "https://scontent-cdg2-1.cdninstagram.com/v/t51.2885-15/e35/39509247_919738321567845_6858758756746919936_n.jpg?_nc_ht=scontent-cdg2-1.cdninstagram.com&_nc_cat=109&_nc_ohc=MRBavZ42ugcAX9TGsfq&oh=0b416b6e5dc4bc4500279f5e2e351959&oe=5F7D71A2\n",
      "\n",
      "https://scontent-cdt1-1.cdninstagram.com/v/t51.2885-15/e35/38502233_369069980297763_5253328263861764096_n.jpg?_nc_ht=scontent-cdt1-1.cdninstagram.com&_nc_cat=103&_nc_ohc=CliJPw_eLXIAX-y5aFA&oh=ad077156a9f6c223396a454de6ff7966&oe=5F7FB785\n",
      "\n",
      "https://scontent-cdg2-1.cdninstagram.com/v/t51.2885-15/e35/38729207_908947442629094_5692174815142608896_n.jpg?_nc_ht=scontent-cdg2-1.cdninstagram.com&_nc_cat=102&_nc_ohc=dTh1UG7vw9EAX_srUj9&oh=3bb02e9aaf61f159c744a053b7cc203c&oe=5F7CDCC5\n",
      "\n",
      "https://scontent-cdg2-1.cdninstagram.com/v/t51.2885-15/e35/38147625_2223234821233919_1957650165145796608_n.jpg?_nc_ht=scontent-cdg2-1.cdninstagram.com&_nc_cat=111&_nc_ohc=hcBsUSWOxxAAX9aQV1e&oh=40b065ac2db5223cda163e8cd3427781&oe=5F7E96AE\n",
      "\n",
      "https://scontent-cdt1-1.cdninstagram.com/v/t51.2885-15/e35/37963410_2208883946029530_3158774890874535936_n.jpg?_nc_ht=scontent-cdt1-1.cdninstagram.com&_nc_cat=106&_nc_ohc=xXdGspyDjgMAX8fb20r&oh=37b706ee5be2376f0065e7a7da15c2e9&oe=5F7EF6CF\n",
      "\n",
      "https://scontent-cdg2-1.cdninstagram.com/v/t51.2885-15/e35/38236160_1050419098498053_7438733127305920512_n.jpg?_nc_ht=scontent-cdg2-1.cdninstagram.com&_nc_cat=109&_nc_ohc=4NbS48lRJdEAX_H9z2W&oh=7987fa9ed115e65069ae7a11378a7a25&oe=5F7E87AD\n",
      "\n",
      "https://scontent-cdg2-1.cdninstagram.com/v/t51.2885-15/e35/37769169_1025347517638583_7874140002488156160_n.jpg?_nc_ht=scontent-cdg2-1.cdninstagram.com&_nc_cat=111&_nc_ohc=QfXZQX00ImsAX-rMp-q&oh=6d44a5488cc708fe40986e817d7d1b18&oe=5F7F5C5C\n",
      "\n",
      "https://scontent-cdg2-1.cdninstagram.com/v/t51.2885-15/e35/37999384_242117476423766_6417510292250427392_n.jpg?_nc_ht=scontent-cdg2-1.cdninstagram.com&_nc_cat=102&_nc_ohc=SMPfK4uj58YAX_2WXyw&oh=5e812ff2e3997b37bae225850b25c7a1&oe=5F7DA05F\n",
      "\n",
      "https://scontent-cdg2-1.cdninstagram.com/v/t51.2885-15/e35/37883774_687671378275860_413395988128989184_n.jpg?_nc_ht=scontent-cdg2-1.cdninstagram.com&_nc_cat=100&_nc_ohc=oGT9ab0mLGcAX_Sndk9&oh=96aa83fb93854c82d0c5696a88f8580e&oe=5F7ED0E0\n",
      "\n",
      "https://scontent-cdg2-1.cdninstagram.com/v/t51.2885-15/e35/37226228_1019703868203456_4725244708920492032_n.jpg?_nc_ht=scontent-cdg2-1.cdninstagram.com&_nc_cat=100&_nc_ohc=c1jXMI3btE8AX_J5G6J&oh=81ce8aac85cd9af5592c796c0be68cfb&oe=5F7F2748\n",
      "\n",
      "https://scontent-cdg2-1.cdninstagram.com/v/t51.2885-15/e35/37675232_260368491234206_7473239066360676352_n.jpg?_nc_ht=scontent-cdg2-1.cdninstagram.com&_nc_cat=102&_nc_ohc=BRmBxnOJZygAX9m_cip&oh=038e8b00837701a663a0adece518b8f2&oe=5F7F8C6C\n",
      "\n",
      "https://scontent-cdg2-1.cdninstagram.com/v/t51.2885-15/e35/37368379_260293204768065_7207718334081531904_n.jpg?_nc_ht=scontent-cdg2-1.cdninstagram.com&_nc_cat=109&_nc_ohc=7_2PCmiym2YAX9sdNmg&oh=1081aefb671403e299a61d5ba7efa293&oe=5F7FD129\n",
      "\n",
      "https://scontent-cdt1-1.cdninstagram.com/v/t51.2885-15/e35/37944743_500505577038241_5195208087807459328_n.jpg?_nc_ht=scontent-cdt1-1.cdninstagram.com&_nc_cat=101&_nc_ohc=nBdvmf7usWwAX8MLXZU&oh=39d38bf34bf71ec2575ec38ee597c9b6&oe=5F806608\n",
      "\n",
      "https://scontent-cdt1-1.cdninstagram.com/v/t51.2885-15/e35/37038147_258667554922587_7007069728439009280_n.jpg?_nc_ht=scontent-cdt1-1.cdninstagram.com&_nc_cat=103&_nc_ohc=4-LyqZuUqBwAX_Qg_7X&oh=041df51dd3fd5d72f0be4a6839d51031&oe=5F7DEC6C\n",
      "\n",
      "https://scontent-cdg2-1.cdninstagram.com/v/t51.2885-15/e35/36980879_406478123195277_6484764403454443520_n.jpg?_nc_ht=scontent-cdg2-1.cdninstagram.com&_nc_cat=109&_nc_ohc=1nXkUbV4TgIAX8RA5Nx&oh=cdfb70bcce99ca8b4b8965730792f0f2&oe=5F7FC6B7\n",
      "\n",
      "https://scontent-cdg2-1.cdninstagram.com/v/t51.2885-15/e35/36805384_487548991684519_2156702056566489088_n.jpg?_nc_ht=scontent-cdg2-1.cdninstagram.com&_nc_cat=107&_nc_ohc=7fVqch7rN6IAX_cOo8l&oh=db809d73a88b1aa0a386dbdd2b2984ef&oe=5F7E6B9F\n",
      "\n",
      "https://scontent-cdg2-1.cdninstagram.com/v/t51.2885-15/e35/36859997_1731203660310044_2556134461771087872_n.jpg?_nc_ht=scontent-cdg2-1.cdninstagram.com&_nc_cat=108&_nc_ohc=xrZr5dEXhrwAX_0TGFC&oh=c5986eb6f90ae9eb0847b16be94007a4&oe=5F7EA726\n",
      "\n",
      "https://scontent-cdg2-1.cdninstagram.com/v/t51.2885-15/e35/36660446_482334318864839_2964001903572156416_n.jpg?_nc_ht=scontent-cdg2-1.cdninstagram.com&_nc_cat=111&_nc_ohc=5mXpM0bB56gAX_R6Lxt&oh=373ea91ad7c130eee1d187d54fa2df79&oe=5F7ECFBA\n",
      "\n",
      "https://scontent-cdg2-1.cdninstagram.com/v/t51.2885-15/e35/36149554_2255102491442824_1290414093630439424_n.jpg?_nc_ht=scontent-cdg2-1.cdninstagram.com&_nc_cat=104&_nc_ohc=yCCt5wZVykkAX_CXywD&oh=abad575204ed0e1238bd7f1abbcee5b4&oe=5F7CC854\n",
      "\n",
      "https://scontent-cdt1-1.cdninstagram.com/v/t51.2885-15/e35/36605804_254687602006362_2788514178422276096_n.jpg?_nc_ht=scontent-cdt1-1.cdninstagram.com&_nc_cat=106&_nc_ohc=O49bM7ZRuxkAX_MYrPa&oh=cd1552a35368594126617afb8934bbf0&oe=5F7FA0BE\n",
      "\n",
      "https://scontent-cdg2-1.cdninstagram.com/v/t51.2885-15/e35/36085075_187590921932384_5983083137763115008_n.jpg?_nc_ht=scontent-cdg2-1.cdninstagram.com&_nc_cat=108&_nc_ohc=LIenpZP6NbEAX-N0fZn&oh=55c8fbae1163be352d9307cd525689e4&oe=5F7D19C2\n",
      "\n",
      "https://scontent-cdg2-1.cdninstagram.com/v/t51.2885-15/e35/35291882_1729718680445224_1059169936267542528_n.jpg?_nc_ht=scontent-cdg2-1.cdninstagram.com&_nc_cat=104&_nc_ohc=xArfScdfJaIAX-5rueE&oh=cad82224ee850c39a192e42e8b262d99&oe=5F7C9117\n",
      "\n"
     ]
    },
    {
     "name": "stdout",
     "output_type": "stream",
     "text": [
      "https://scontent-cdg2-1.cdninstagram.com/v/t51.2885-15/sh0.08/e35/c76.0.787.787a/s640x640/116911035_967140157032047_7914916655050722504_n.jpg?_nc_ht=scontent-cdg2-1.cdninstagram.com&_nc_cat=111&_nc_ohc=6pvZoDdTBeYAX9YC9ol&oh=483b592ea0ccdb1ca833a47e96a8fe94&oe=5F800461\n",
      "\n",
      "https://scontent-cdg2-1.cdninstagram.com/v/t51.2885-15/e35/35459289_630394760659615_9110811896193220608_n.jpg?_nc_ht=scontent-cdg2-1.cdninstagram.com&_nc_cat=107&_nc_ohc=imE8H6CldecAX-1oKGz&oh=e9e093f8f24a52d98231da9b1eae5e2e&oe=5F7D31C4\n",
      "\n",
      "https://scontent-cdt1-1.cdninstagram.com/v/t51.2885-15/e35/35575950_161896901344825_6242852539465728000_n.jpg?_nc_ht=scontent-cdt1-1.cdninstagram.com&_nc_cat=101&_nc_ohc=ODeKrEgCqqoAX-7JqKb&oh=f90fab1750b704bc112b258e430459f7&oe=5F7E21D1\n",
      "\n",
      "https://scontent-cdg2-1.cdninstagram.com/v/t51.2885-15/e35/33689164_206439703309692_3517664930813706240_n.jpg?_nc_ht=scontent-cdg2-1.cdninstagram.com&_nc_cat=100&_nc_ohc=xOLJQqktPvYAX9wHo4b&oh=24b3aecc1ed1b4aa4d51ba0fc58792f1&oe=5F7E0BC1\n",
      "\n",
      "https://scontent-cdt1-1.cdninstagram.com/v/t51.2885-15/e35/34077407_1010052019163473_647007123443548160_n.jpg?_nc_ht=scontent-cdt1-1.cdninstagram.com&_nc_cat=101&_nc_ohc=RYo4cg0ImJsAX94g4bj&oh=5a087184f6f014a35b250f1096d2d595&oe=5F7F547A\n",
      "\n",
      "https://scontent-cdt1-1.cdninstagram.com/v/t51.2885-15/e35/34168344_172660733408377_971867119589261312_n.jpg?_nc_ht=scontent-cdt1-1.cdninstagram.com&_nc_cat=101&_nc_ohc=eMda8JJ0vpwAX8xO4v_&oh=95973188b96f477b9929763e231fe3c0&oe=5F7F4136\n",
      "\n",
      "https://scontent-cdt1-1.cdninstagram.com/v/t51.2885-15/e35/33793077_2212997008928091_2548518131840581632_n.jpg?_nc_ht=scontent-cdt1-1.cdninstagram.com&_nc_cat=103&_nc_ohc=MueIqOQUStkAX9X4lkx&oh=344739fd14a224ec7774a772b3ede5f5&oe=5F7FE9E0\n",
      "\n",
      "https://scontent-cdg2-1.cdninstagram.com/v/t51.2885-15/e35/34409118_1858201887816480_6010886810417233920_n.jpg?_nc_ht=scontent-cdg2-1.cdninstagram.com&_nc_cat=100&_nc_ohc=pyfYMsFqul4AX_Qv0Su&oh=826d9407f66a5bf36eb02021e16ec9a7&oe=5F7E652E\n",
      "\n"
     ]
    }
   ],
   "source": [
    "bot.download_photos()"
   ]
  },
  {
   "cell_type": "code",
   "execution_count": null,
   "metadata": {},
   "outputs": [],
   "source": [
    "# Afficher les liens url des photos\n",
    "#for indice, photo_url in enumerate(bot.photos_url):\n",
    "    \n",
    " #   print(indice, photo_url)\n",
    "  #  print()"
   ]
  },
  {
   "cell_type": "markdown",
   "metadata": {},
   "source": [
    "### Load back photos comments from local mahine"
   ]
  },
  {
   "cell_type": "code",
   "execution_count": 19,
   "metadata": {},
   "outputs": [],
   "source": [
    "import pickle"
   ]
  },
  {
   "cell_type": "code",
   "execution_count": 20,
   "metadata": {},
   "outputs": [
    {
     "name": "stdout",
     "output_type": "stream",
     "text": [
      "['therealkiyosaki', 'Verified', '•', '9,825', 'therealkiyosaki', 'Verified', 'Here are four tips my rich dad taught me about budgeting to becoming rich: Click the link in my bio.', 'altechzilla', '✌🏽', 'flower.stav', 'Пусть и в комментах растут цветы 🌹🌹🌹😄', 'dilsunthedesignstudio', 'Dear sir. ..your book rich dad poor dad is extremely amazing book I have ever read...after going through your book I have realised that how important is to invest in good books. Also please advise which book shall I go ahead of urs regarding keeping myself highly motivated. Thanks', 'farjoud_shokouhi', '@therealkiyosaki hi robert , i want to invite you to viste IRAN as my guest 🤗😍🌺🌹', 'kevinescobartiburon', '🔥', 'andi__geiger', 'Rich Dad Poor Dad should be read at school! 👨🏻\\u200d🏫😀', 'fernandolaia.triunfo', 'Gosto de bons posts como esse seu !', 'sascha.63', 'Starker Post! Und auch deine restliche Seite sieht echt gut aus 💪', 'juanluengasofficial', 'Outstanding one!', 'elias.mma_', 'Hola , me encanta su contenido, muchos exitos. 🚀🚀', 'katekitty777', 'Very sweet :)', 'brunoheofficial', '💯👏 @therealkiyosaki', 'Search', 'LANGUAGE\\nAfrikaans\\nČeština\\nDansk\\nDeutsch\\nΕλληνικά\\nEnglish\\nEspañol (España)\\nEspañol\\nSuomi\\nFrançais\\nBahasa Indonesia\\nItaliano\\n日本語\\n한국어\\nBahasa Melayu\\nNorsk\\nNederlands\\nPolski\\nPortuguês (Brasil)\\nPortuguês (Portugal)\\nРусский\\nSvenska\\nภาษาไทย\\nFilipino\\nTürkçe\\n中文(简体)\\n中文(台灣)\\nবাংলা\\nગુજરાતી\\nहिन्दी\\nHrvatski\\nMagyar\\nಕನ್ನಡ\\nമലയാളം\\nमराठी\\nनेपाली\\nਪੰਜਾਬੀ\\nසිංහල\\nSlovenčina\\nதமிழ்\\nతెలుగు\\nTiếng Việt\\n中文(香港)\\nБългарски\\nFrançais (Canada)\\nRomână\\nСрпски\\nУкраїнська', '© 2020 INSTAGRAM FROM FACEBOOK']\n",
      "\n",
      "['therealkiyosaki', 'Verified', '•', '65,766 views', '65,766', 'therealkiyosaki', 'Verified', 'Click the link in my bio to read my newest chapter & submit the questions you have for me! -Understanding how money is printed offers you a better chance of doing well, in a world of fake money.', '10dermoments27', \"I've just seen this clip and couldn't agree with you more 👏👏👏There are so many of them who entice you with a FREE supposed one day training (WHICH ends up teaching you nothing) and then go on to ask you to pay thousands for some so called elite training. They're nothing but #conartist WHO GIVE YOU A BAD NAME 😖\", 'bintangphotostory', 'great pict 😍', 'cg__media', 'Schön schön. Mach weiter so 💠💪', '82dreadheadhippie', '@101moneymaker', 'maryam.fun.kurd', '👍👌👏👏👏', 'nail_istanbul_brilliant', 'Я очень хочу эту книгу на русском языке', 'velezerikaalexandra', '😘😘😘😘', 'rakhmonov_nozim_offiical', 'Best of the best motivator throughout the workd', 'rakhmonov_nozim_offiical', 'World', 'brunoheofficial', '💯👏 @therealkiyosaki', 'abdelilahelharrad', '🍷🍷💜💜💜💚💚🌷', 'dnyaneshwar7nanu', 'wha.t this book all about', 'Search', 'LANGUAGE\\nAfrikaans\\nČeština\\nDansk\\nDeutsch\\nΕλληνικά\\nEnglish\\nEspañol (España)\\nEspañol\\nSuomi\\nFrançais\\nBahasa Indonesia\\nItaliano\\n日本語\\n한국어\\nBahasa Melayu\\nNorsk\\nNederlands\\nPolski\\nPortuguês (Brasil)\\nPortuguês (Portugal)\\nРусский\\nSvenska\\nภาษาไทย\\nFilipino\\nTürkçe\\n中文(简体)\\n中文(台灣)\\nবাংলা\\nગુજરાતી\\nहिन्दी\\nHrvatski\\nMagyar\\nಕನ್ನಡ\\nമലയാളം\\nमराठी\\nनेपाली\\nਪੰਜਾਬੀ\\nසිංහල\\nSlovenčina\\nதமிழ்\\nతెలుగు\\nTiếng Việt\\n中文(香港)\\nБългарски\\nFrançais (Canada)\\nRomână\\nСрпски\\nУкраїнська', '© 2020 INSTAGRAM FROM FACEBOOK']\n",
      "\n",
      "['therealkiyosaki', 'Verified', '•', '15,208', 'therealkiyosaki', 'Verified', 'Old friend Sollie Goosen who\\nplayed for Spring Boks and got me into the organization.', 'thecrxwnfitsme', '❣️', 'alejandramoreno.1', '🔥🔥', 'kashkabaevberdibek', 'Hello guys. I am from kyrgystan. Live in poor famely', 'rogersnipes', 'Verified', '🙌🏾', 'popular.wolf', 'It’s time to bring your neat and confident version out in the world. Inviting you to join a highly engaging and confident community. 💯 Let’s evolve and empower!', 'matteo_rvln', '👍👍👍👍', 'brathaygroup', '👌🏼👌🏼', 'clarkehanna', '🙌🙌🙌', 'portal2freedom', 'Bokke ! 🙌🔥', 'rev_baruch', 'Would love to meet up with you one day. My dream person. If ever you are in South africa please invit me @therealkiyosaki', 'deetrajones', 'The combination of what you do and who you know makes an unbreakable force in business and investments!', 'brunoheofficial', '💯👏 @therealkiyosaki', 'Search', 'LANGUAGE\\nAfrikaans\\nČeština\\nDansk\\nDeutsch\\nΕλληνικά\\nEnglish\\nEspañol (España)\\nEspañol\\nSuomi\\nFrançais\\nBahasa Indonesia\\nItaliano\\n日本語\\n한국어\\nBahasa Melayu\\nNorsk\\nNederlands\\nPolski\\nPortuguês (Brasil)\\nPortuguês (Portugal)\\nРусский\\nSvenska\\nภาษาไทย\\nFilipino\\nTürkçe\\n中文(简体)\\n中文(台灣)\\nবাংলা\\nગુજરાતી\\nहिन्दी\\nHrvatski\\nMagyar\\nಕನ್ನಡ\\nമലയാളം\\nमराठी\\nनेपाली\\nਪੰਜਾਬੀ\\nසිංහල\\nSlovenčina\\nதமிழ்\\nతెలుగు\\nTiếng Việt\\n中文(香港)\\nБългарски\\nFrançais (Canada)\\nRomână\\nСрпски\\nУкраїнська', '© 2020 INSTAGRAM FROM FACEBOOK']\n",
      "\n",
      "['therealkiyosaki', 'Verified', '•', '6,424', 'therealkiyosaki', 'Verified', 'This is what made me realize Kim was the one since our very first date: Click the link in my bio to find out what it was', '_manuelmeyer_', 'richtig gutes bild ☝🏽', 'matteo_rvln', 'The road to success and the road to failure are almost exactly the same💥', 'sport_125ru', 'Robert💪💪💪😎', 'radikkasap09', 'Привет! Уверен, нам будет о чем пообщаться с тобой🌍', 'pinotnoir007', 'Waw', 'ngwaeje_', '@festo_mination Madini huyu mwanamke anayo na anakula kuku kwa mrija until last breath', 'ayermeek', 'Happy wife - happy life 😊', 'rumahmebelid', 'Salam kenal buat username', 'alyonashae_', '👍👍👍❤️❤️❤️', 'abdelilahelharrad', 'Bonne rire madame🍷🌷🌷🌷🌷 très jolie très belles familles', 'a_lady_of_lnfluence', 'Thats greatful', 'maggie_dm1', 'I was reading a book written by Kim and how I loved how she wanted to be her own boss. I love herr💜☺🔥🔥😍 #independentwomen', 'Search', 'LANGUAGE\\nAfrikaans\\nČeština\\nDansk\\nDeutsch\\nΕλληνικά\\nEnglish\\nEspañol (España)\\nEspañol\\nSuomi\\nFrançais\\nBahasa Indonesia\\nItaliano\\n日本語\\n한국어\\nBahasa Melayu\\nNorsk\\nNederlands\\nPolski\\nPortuguês (Brasil)\\nPortuguês (Portugal)\\nРусский\\nSvenska\\nภาษาไทย\\nFilipino\\nTürkçe\\n中文(简体)\\n中文(台灣)\\nবাংলা\\nગુજરાતી\\nहिन्दी\\nHrvatski\\nMagyar\\nಕನ್ನಡ\\nമലയാളം\\nमराठी\\nनेपाली\\nਪੰਜਾਬੀ\\nසිංහල\\nSlovenčina\\nதமிழ்\\nతెలుగు\\nTiếng Việt\\n中文(香港)\\nБългарски\\nFrançais (Canada)\\nRomână\\nСрпски\\nУкраїнська', '© 2020 INSTAGRAM FROM FACEBOOK']\n",
      "\n",
      "['therealkiyosaki', 'Verified', '•', '8,464', 'therealkiyosaki', 'Verified', 'I’d say that this might make Clooney the smartest actor in the bunch: click the link in my bio to find out', 'genisson_pinheiro', 'Um dos melhores autores', 'tsedlikovski', 'Amazing Picture! Your Books the Best👌Rich Dad Poor Dad is 🔥', 'tatoo.mozhgan', '👌💎💎💎💎', 'matteo_rvln', '💛💛💛', 'marcostinocobjj', '💯💯', 'soren_feistel', 'HELLO FREAKY FREAKS VERY NICE GREATINGS FROM GERMANY FROM SAXONY HOPE YOU ARE FINE ALL THE TIME 😘', 'radikkasap09', 'А я лежу на пляжу, жу жу жу⛱😄😄😄', 'nikewitherspoon4764', 'Amen to that beautiful Congratulations 🎊🍾🎈🎉', 'juan_diego_sotoo', 'Véalo ahí @kennethgonzalez1428', 'View replies (1)', 'indianchutney', '@mistr.johnson', 'yordiblancoperalta', '👏👏', 'vitalispaul59', 'Congrats sir', 'Search', 'LANGUAGE\\nAfrikaans\\nČeština\\nDansk\\nDeutsch\\nΕλληνικά\\nEnglish\\nEspañol (España)\\nEspañol\\nSuomi\\nFrançais\\nBahasa Indonesia\\nItaliano\\n日本語\\n한국어\\nBahasa Melayu\\nNorsk\\nNederlands\\nPolski\\nPortuguês (Brasil)\\nPortuguês (Portugal)\\nРусский\\nSvenska\\nภาษาไทย\\nFilipino\\nTürkçe\\n中文(简体)\\n中文(台灣)\\nবাংলা\\nગુજરાતી\\nहिन्दी\\nHrvatski\\nMagyar\\nಕನ್ನಡ\\nമലയാളം\\nमराठी\\nनेपाली\\nਪੰਜਾਬੀ\\nසිංහල\\nSlovenčina\\nதமிழ்\\nతెలుగు\\nTiếng Việt\\n中文(香港)\\nБългарски\\nFrançais (Canada)\\nRomână\\nСрпски\\nУкраїнська', '© 2020 INSTAGRAM FROM FACEBOOK']\n",
      "\n",
      "['therealkiyosaki', 'Verified', '•', '5,222', 'therealkiyosaki', 'Verified', 'Click the link in my bio for some tips to turn your investment deal into a great one.', 'metafekr', 'سلام واقعا پیج زیبایی دارید از پیج ماهم دیدن نمایید لینک بیو @metafekr', 'funneltunnel_official', 'Super Content‼ Weiter so🔥💯😊', 'funneltunnel_official', 'Super Content‼ Weiter so🔥💯😊', 'matteo_rvln', 'incredible!🔥', '_manuelmeyer_', 'keep going 👊🏾', 'brathaygroup', '💥', 'alejandral.jaramillo', '💸', 'empreendedoressaoficial', '😊😊😊', 'saccoguy', 'Beautiful pic of your sweetheart!', 'imayker', 'Neat-o!', 'rozalijamercy', 'My mentor', 'pub_10k_f', '❤️❤️❤️❤️❤️❤️❤️❤️', 'Search', 'LANGUAGE\\nAfrikaans\\nČeština\\nDansk\\nDeutsch\\nΕλληνικά\\nEnglish\\nEspañol (España)\\nEspañol\\nSuomi\\nFrançais\\nBahasa Indonesia\\nItaliano\\n日本語\\n한국어\\nBahasa Melayu\\nNorsk\\nNederlands\\nPolski\\nPortuguês (Brasil)\\nPortuguês (Portugal)\\nРусский\\nSvenska\\nภาษาไทย\\nFilipino\\nTürkçe\\n中文(简体)\\n中文(台灣)\\nবাংলা\\nગુજરાતી\\nहिन्दी\\nHrvatski\\nMagyar\\nಕನ್ನಡ\\nമലയാളം\\nमराठी\\nनेपाली\\nਪੰਜਾਬੀ\\nසිංහල\\nSlovenčina\\nதமிழ்\\nతెలుగు\\nTiếng Việt\\n中文(香港)\\nБългарски\\nFrançais (Canada)\\nRomână\\nСрпски\\nУкраїнська', '© 2020 INSTAGRAM FROM FACEBOOK']\n",
      "\n",
      "['therealkiyosaki', 'Verified', '•', '19,436', 'therealkiyosaki', 'Verified', 'Enjoying the sights of Sydney!', 'matteo_rvln', 'you are the best!🔥', 'angelo.rossi.773981', 'Great picture and place', '2nd_creator', '👏', '__xprt', 'Is this your lovely wife Kim? The one that has stood by u through it all??', 'sport_125ru', 'Robert, I love you book', 'ulanovna007', 'I wish you forever life with only LOVE❤️', 'climbinvest', '👍', 'vasemanoto24', 'پست بسیار جذاب هست', 'marpal_beauty', '❤️', 'sil_casais', 'Muy buen feed 👍', 'prrobsonoliveira', '😄😀', 'raj234_samayagra', 'Beautifuuuuuuuuuul', 'Search', 'LANGUAGE\\nAfrikaans\\nČeština\\nDansk\\nDeutsch\\nΕλληνικά\\nEnglish\\nEspañol (España)\\nEspañol\\nSuomi\\nFrançais\\nBahasa Indonesia\\nItaliano\\n日本語\\n한국어\\nBahasa Melayu\\nNorsk\\nNederlands\\nPolski\\nPortuguês (Brasil)\\nPortuguês (Portugal)\\nРусский\\nSvenska\\nภาษาไทย\\nFilipino\\nTürkçe\\n中文(简体)\\n中文(台灣)\\nবাংলা\\nગુજરાતી\\nहिन्दी\\nHrvatski\\nMagyar\\nಕನ್ನಡ\\nമലയാളം\\nमराठी\\nनेपाली\\nਪੰਜਾਬੀ\\nසිංහල\\nSlovenčina\\nதமிழ்\\nతెలుగు\\nTiếng Việt\\n中文(香港)\\nБългарски\\nFrançais (Canada)\\nRomână\\nСрпски\\nУкраїнська', '© 2020 INSTAGRAM FROM FACEBOOK']\n",
      "\n",
      "['therealkiyosaki', 'Verified', '•', '12,192', 'therealkiyosaki', 'Verified', 'Why money does in fact bring happiness and how it does it: Click the link in my bio to read why.', 'maryam.dirisavi', 'hi', 'altechzilla', '✌🏽', 'mrelvertice', \"That's true.\", '_manuelmeyer_', 'richtig gutes bild ☝🏽', 'papa_boachie', 'Money does not bring happiness... But as you say... Poverty ALSO, does not bring happiness 😁', 'bjoern_hagensen', 'Your books are the best! 🔝#education', 'matteo_rvln', '✔️✔️✔️✔️', 'ayoub_ait23', '👏', 'nikewitherspoon4764', 'Amen to that', 'tapabocas.bogota1', '🚀Hola, en nuestra cuenta puedes ver contenido que te puede interesar , ya que veo que eres una persona de visión.', 'andjela__raicevic', 'You are inspiration!\\nJust now finished Rich dad and now going to buy all your books. 📚 😍', 'View replies (1)', 'emprende_es_ahora_', 'Grande kiyosaki', 'Search', 'LANGUAGE\\nAfrikaans\\nČeština\\nDansk\\nDeutsch\\nΕλληνικά\\nEnglish\\nEspañol (España)\\nEspañol\\nSuomi\\nFrançais\\nBahasa Indonesia\\nItaliano\\n日本語\\n한국어\\nBahasa Melayu\\nNorsk\\nNederlands\\nPolski\\nPortuguês (Brasil)\\nPortuguês (Portugal)\\nРусский\\nSvenska\\nภาษาไทย\\nFilipino\\nTürkçe\\n中文(简体)\\n中文(台灣)\\nবাংলা\\nગુજરાતી\\nहिन्दी\\nHrvatski\\nMagyar\\nಕನ್ನಡ\\nമലയാളം\\nमराठी\\nनेपाली\\nਪੰਜਾਬੀ\\nසිංහල\\nSlovenčina\\nதமிழ்\\nతెలుగు\\nTiếng Việt\\n中文(香港)\\nБългарски\\nFrançais (Canada)\\nRomână\\nСрпски\\nУкраїнська', '© 2020 INSTAGRAM FROM FACEBOOK']\n",
      "\n",
      "['therealkiyosaki', 'Verified', '•', '16,933', 'therealkiyosaki', 'Verified', 'Learning how to invest in diamonds.\\nThese diamonds are dredged from the ocean.', 'otg.tre', 'Employees lose owners and investors win i love your rich dad poor dad book thanks for all of your advice im 16 years old and this book really helped me 💚💚💚💚', 'mister.kong', 'Diamonds are an investment? I thought its all false scarcity and marketing..', 'Hide replies', 'augusta_la_petite', 'Interested in learning too.please tag the mineral guru in the pic with Robert', 'iranmotive', 'My Goodness!', 'gabriella_farkas_8', 'Wow 😍', 'journey_time1', '👍', 'hcjonker', 'Anyone that would like to follow in Robert’s footsteps and learn more about diamonds; or just looking to add a stunning piece to their collection are more than welcome to contact us: info@aphroditediamonds.co.za', 'matteo_rvln', '👍👍👍👍', 'riskhanal', 'wow', 'wynandhendrikse', 'Thanks Robert for having you here. Look forward seeing you again.', 'climbinvest', '👏', 'rosamavillarrealg', '@hector.andrade2 💎💰', 'Search', 'LANGUAGE\\nAfrikaans\\nČeština\\nDansk\\nDeutsch\\nΕλληνικά\\nEnglish\\nEspañol (España)\\nEspañol\\nSuomi\\nFrançais\\nBahasa Indonesia\\nItaliano\\n日本語\\n한국어\\nBahasa Melayu\\nNorsk\\nNederlands\\nPolski\\nPortuguês (Brasil)\\nPortuguês (Portugal)\\nРусский\\nSvenska\\nภาษาไทย\\nFilipino\\nTürkçe\\n中文(简体)\\n中文(台灣)\\nবাংলা\\nગુજરાતી\\nहिन्दी\\nHrvatski\\nMagyar\\nಕನ್ನಡ\\nമലയാളം\\nमराठी\\nनेपाली\\nਪੰਜਾਬੀ\\nසිංහල\\nSlovenčina\\nதமிழ்\\nతెలుగు\\nTiếng Việt\\n中文(香港)\\nБългарски\\nFrançais (Canada)\\nRomână\\nСрпски\\nУкраїнська', '© 2020 INSTAGRAM FROM FACEBOOK']\n",
      "\n",
      "['therealkiyosaki', 'Verified', '•', '4,560', 'therealkiyosaki', 'Verified', 'Gathering the proper support team will help set you up for success: click the link in my bio to read Kim’s blog.', 'kimoad3', '❤👍🏽👣🍃🍂', 'alejandral.jaramillo', '💪', 'vahiidrahmati', 'U r my rich dad', '_manuelmeyer_', 'Wow hammer content 😊', 'mmrabbani', '👌👌👌👌👌👌', 'alex_140000', 'orbert', 'alex_140000', '👌👌👌', 'andybachem', 'kiyosaki tell me the secret', 'nikewitherspoon4764', 'Amen beautiful', 'tribeofsuccess', 'This is awesome!', 'jeffhillspeaks', 'Awesome smile Kim. You guys rock! #trailblazers #wealthinmotion', '__with.meaning', 'Your wife is very beautiful💗', 'Search', 'LANGUAGE\\nAfrikaans\\nČeština\\nDansk\\nDeutsch\\nΕλληνικά\\nEnglish\\nEspañol (España)\\nEspañol\\nSuomi\\nFrançais\\nBahasa Indonesia\\nItaliano\\n日本語\\n한국어\\nBahasa Melayu\\nNorsk\\nNederlands\\nPolski\\nPortuguês (Brasil)\\nPortuguês (Portugal)\\nРусский\\nSvenska\\nภาษาไทย\\nFilipino\\nTürkçe\\n中文(简体)\\n中文(台灣)\\nবাংলা\\nગુજરાતી\\nहिन्दी\\nHrvatski\\nMagyar\\nಕನ್ನಡ\\nമലയാളം\\nमराठी\\nनेपाली\\nਪੰਜਾਬੀ\\nසිංහල\\nSlovenčina\\nதமிழ்\\nతెలుగు\\nTiếng Việt\\n中文(香港)\\nБългарски\\nFrançais (Canada)\\nRomână\\nСрпски\\nУкраїнська', '© 2020 INSTAGRAM FROM FACEBOOK']\n",
      "\n",
      "['therealkiyosaki', 'Verified', '•', '6,165', 'therealkiyosaki', 'Verified', 'Chapter 2, In God We Trust, of my latest book, \"FAKE,\" releases today! Read the draft version of chapter two and submit your questions about what you read for your chance to be included in the final copy.\\nREAD NOW ➡️ click the link in my bio: https://fake.richdad.com', 'orzurahimova', '😢😢I also want to live happy. I live in Moscow. I am alone. I do not have anyone. I want my business. I can not begin. I so want to become like you. Help', 'iampetereze', \"Thanks Robert. This piece got my mind skipping with anticipation of the next paragraph. No doubt, I saw myself in that brief and you've provided me a navigation guide to more richer life.\", 'diego.delgado_', 'Tu perfil es interesante contactemonos 📲', 'johnrockprophet', 'So I click the link but.. nothing. Please advise', 'pink_pinkkz', 'I hope fast realese in indonesia 🙏🏻😊', 'farzaneh_pourshaban', 'خيلى خوب 👌👏🌸', '888makai', '❤️❤️❤️', 'trey_iverstine', 'Great book!!! I’ve lessened to it 3 times in the last month.', 'wanderwherewilfredis', 'Life changing book, thankyou!!!', 'osei.stephen.71404', 'God bless u you my mentor', 'kdot0638', '@patlee3 @hippee_chic @_gregleejr', 'daurzh8', 'Thanks for the book 📚 🇰🇿🇰🇿🇰🇿✊🏻', 'Search', 'LANGUAGE\\nAfrikaans\\nČeština\\nDansk\\nDeutsch\\nΕλληνικά\\nEnglish\\nEspañol (España)\\nEspañol\\nSuomi\\nFrançais\\nBahasa Indonesia\\nItaliano\\n日本語\\n한국어\\nBahasa Melayu\\nNorsk\\nNederlands\\nPolski\\nPortuguês (Brasil)\\nPortuguês (Portugal)\\nРусский\\nSvenska\\nภาษาไทย\\nFilipino\\nTürkçe\\n中文(简体)\\n中文(台灣)\\nবাংলা\\nગુજરાતી\\nहिन्दी\\nHrvatski\\nMagyar\\nಕನ್ನಡ\\nമലയാളം\\nमराठी\\nनेपाली\\nਪੰਜਾਬੀ\\nසිංහල\\nSlovenčina\\nதமிழ்\\nతెలుగు\\nTiếng Việt\\n中文(香港)\\nБългарски\\nFrançais (Canada)\\nRomână\\nСрпски\\nУкраїнська', '© 2020 INSTAGRAM FROM FACEBOOK']\n",
      "\n",
      "['therealkiyosaki', 'Verified', '•', '6,773', 'therealkiyosaki', 'Verified', 'I hoped I would be wrong... but it sure doesn’t seem like it. Click the link in my bio to find out about the up and coming retirement crisis.', 'gowtham6607', 'Beautiful', 'leo._buendia', 'Kiyosaki', 'kenneth_starling', 'Rich dad poor dad is where it all starts 🙌🏼', 'altechzilla', '✌🏽', 'affiliate_kickstart', 'Inspiring stuff.Keep up the good work.👍', 'ronald_executive_muda', 'Orang Sukses itu Awet Muda', 'dynasty_barbers', '😎', 'mmrabbani', '👌👌👌👌👌👌', 'funneltunnel_official', 'Hammer profil🔥👌💯‼😊', 'liveyourlife_d', 'Cool 😎', '888makai', '❤️❤️❤️', '_22victoria_', '😍', 'Search', 'LANGUAGE\\nAfrikaans\\nČeština\\nDansk\\nDeutsch\\nΕλληνικά\\nEnglish\\nEspañol (España)\\nEspañol\\nSuomi\\nFrançais\\nBahasa Indonesia\\nItaliano\\n日本語\\n한국어\\nBahasa Melayu\\nNorsk\\nNederlands\\nPolski\\nPortuguês (Brasil)\\nPortuguês (Portugal)\\nРусский\\nSvenska\\nภาษาไทย\\nFilipino\\nTürkçe\\n中文(简体)\\n中文(台灣)\\nবাংলা\\nગુજરાતી\\nहिन्दी\\nHrvatski\\nMagyar\\nಕನ್ನಡ\\nമലയാളം\\nमराठी\\nनेपाली\\nਪੰਜਾਬੀ\\nසිංහල\\nSlovenčina\\nதமிழ்\\nతెలుగు\\nTiếng Việt\\n中文(香港)\\nБългарски\\nFrançais (Canada)\\nRomână\\nСрпски\\nУкраїнська', '© 2020 INSTAGRAM FROM FACEBOOK']\n",
      "\n",
      "['therealkiyosaki', 'Verified', '•', '14,098', 'therealkiyosaki', 'Verified', 'With Jurie Roux CEO of Spring Boks South Africa’s rugby organization.', 'joemyoya', 'Hey Robert you still around!', 'itachikrishna', 'Looking great !!', 'sarahsays_1', '@el_patron_eben', 'camilo_a5', '@jhontabordah esta delgado bro', 'serious_eater', 'Hi i like what you do 🏆 Come by my side too. I would be happy about your feedback 🔥🔥🔥', 'kelvinmbuvi.mj', \"I really desire to impact people's live massively and positively @therealkiyosaki\", 'el_patron_eben', 'He lost weight @_pandub_', 'ministervenable1', 'Taking a chance to see if you will give me some financial advice @therealkiyosaki. I was always taught to reach up to those you admire and ask questions. Please DM if you will take the time. I will respect your time as I know how important it is. Thanks', 'altechzilla', '✌🏽', 'freddyenriquehoyosduenas', 'I beg your pardon, I am a writer and I have shared books around the world thanks to Hotmail, I dream one day to be a member of the order in England, if you can help me that is my goal to fulfill. Freddy Enrique Hoyos Dueñas (search the internet).', 'bintangphotostory', 'kerenn 😍', 'charatacombustibles', '😉👌', 'Search', 'LANGUAGE\\nAfrikaans\\nČeština\\nDansk\\nDeutsch\\nΕλληνικά\\nEnglish\\nEspañol (España)\\nEspañol\\nSuomi\\nFrançais\\nBahasa Indonesia\\nItaliano\\n日本語\\n한국어\\nBahasa Melayu\\nNorsk\\nNederlands\\nPolski\\nPortuguês (Brasil)\\nPortuguês (Portugal)\\nРусский\\nSvenska\\nภาษาไทย\\nFilipino\\nTürkçe\\n中文(简体)\\n中文(台灣)\\nবাংলা\\nગુજરાતી\\nहिन्दी\\nHrvatski\\nMagyar\\nಕನ್ನಡ\\nമലയാളം\\nमराठी\\nनेपाली\\nਪੰਜਾਬੀ\\nසිංහල\\nSlovenčina\\nதமிழ்\\nతెలుగు\\nTiếng Việt\\n中文(香港)\\nБългарски\\nFrançais (Canada)\\nRomână\\nСрпски\\nУкраїнська', '© 2020 INSTAGRAM FROM FACEBOOK']\n",
      "\n",
      "['therealkiyosaki', 'Verified', '•', '17,872', 'therealkiyosaki', 'Verified', 'In beautiful Cape Town, South Africa.', 'imoh05', 'Hello Robert, I want to take this opportunity to invite you to Nigeria', 'View replies (1)', 'matteo_rvln', 'Keep up the good content 😀', 'nuno.brito2018', 'Seems like mall, fish market', 'altechzilla', '✌🏽', 'gabrieldesmond600', 'Good job', 'orzurahimova', '😢😢😢 help me', 'angelo.rossi.773981', 'Nice picture', 'nthatomalete', 'Can 16year olds get on board with you? I live in Joburg.', 'digikolbe', 'مطالب خوبی دارین ❤️', 'thiagosampaio3.0', 'Woww !! Pretty awesome 🙌🙌🙌', 'im_rachelclinton', 'Nice', 'megan_sodien', '🙌🙌', 'Search', 'LANGUAGE\\nAfrikaans\\nČeština\\nDansk\\nDeutsch\\nΕλληνικά\\nEnglish\\nEspañol (España)\\nEspañol\\nSuomi\\nFrançais\\nBahasa Indonesia\\nItaliano\\n日本語\\n한국어\\nBahasa Melayu\\nNorsk\\nNederlands\\nPolski\\nPortuguês (Brasil)\\nPortuguês (Portugal)\\nРусский\\nSvenska\\nภาษาไทย\\nFilipino\\nTürkçe\\n中文(简体)\\n中文(台灣)\\nবাংলা\\nગુજરાતી\\nहिन्दी\\nHrvatski\\nMagyar\\nಕನ್ನಡ\\nമലയാളം\\nमराठी\\nनेपाली\\nਪੰਜਾਬੀ\\nසිංහල\\nSlovenčina\\nதமிழ்\\nతెలుగు\\nTiếng Việt\\n中文(香港)\\nБългарски\\nFrançais (Canada)\\nRomână\\nСрпски\\nУкраїнська', '© 2020 INSTAGRAM FROM FACEBOOK']\n",
      "\n",
      "['therealkiyosaki', 'Verified', '•', '4,654', 'therealkiyosaki', 'Verified', 'Are you happy with your life exactly how it is currently? Click the link in my bio to read Kim’s blog.', 'matteo_rvln', \"J'adore ton profil⚡️\", 'rosalba.peralta', 'He leído sus libro me encantaron @inmobiliria.rosalhome es mi empresa estoy aplicando lo aprendido', 'island_beginnings', 'A true representation of what every business women should aspire to be ❤️', 'altechzilla', '✌🏽', 'View replies (1)', 'sport_125ru', 'Cool💪😎', 'valechka_milashka', 'Сейчас читаю вашу книгу как раз!))', 'climbinvest', '👏', 'climbinvest', '👍', 'yuliya.gorodova', 'Не довольны - пока не нашла пути выхода', 'farzaneh_pourshaban', 'بسيار لذت بردم و انگيزه گرفتم. اميدوارم انرژي مثبت شما هر روز فزون تر از ديروز بوده و موفق و پيروز باشيد. اگر از پيج ما هم ديدن بفرماييد، از انرژي مثبت شما لذت مي بريم.🌸', 'sarahklawrencecb', 'I’d love to treat you both to lunch - Come to Tucson, AZ!', 'tindja', 'I am happy, but want something else. Change. Your speeches on YouTube are very inspiring. The books I will have to read. 👍', 'Search', 'LANGUAGE\\nAfrikaans\\nČeština\\nDansk\\nDeutsch\\nΕλληνικά\\nEnglish\\nEspañol (España)\\nEspañol\\nSuomi\\nFrançais\\nBahasa Indonesia\\nItaliano\\n日本語\\n한국어\\nBahasa Melayu\\nNorsk\\nNederlands\\nPolski\\nPortuguês (Brasil)\\nPortuguês (Portugal)\\nРусский\\nSvenska\\nภาษาไทย\\nFilipino\\nTürkçe\\n中文(简体)\\n中文(台灣)\\nবাংলা\\nગુજરાતી\\nहिन्दी\\nHrvatski\\nMagyar\\nಕನ್ನಡ\\nമലയാളം\\nमराठी\\nनेपाली\\nਪੰਜਾਬੀ\\nසිංහල\\nSlovenčina\\nதமிழ்\\nతెలుగు\\nTiếng Việt\\n中文(香港)\\nБългарски\\nFrançais (Canada)\\nRomână\\nСрпски\\nУкраїнська', '© 2020 INSTAGRAM FROM FACEBOOK']\n",
      "\n",
      "['therealkiyosaki', 'Verified', '•', '9,639', 'therealkiyosaki', 'Verified', 'Now, to some, inflation is bad news because they don’t know how to use inflation to get richer... Click the link in my bio to learn how inflation can benefit you.', 'kachatokman', 'thank u my Rich Dad/Poor Dad!!!!!', 'hashim_vvm', '👏🏻👏🏻', 'shominehhb.behzadbijan', 'اینستاگرام یه چیزی میدونست ک دوتا لایک برا هر پست نذاش.... 😀👍😊 وگرنه خودم اینو سه تا لایک می کردم .... ✌', 'lazimpay', 'good', 'digmarfilo', 'Keren kak👍', 'flexrequired', 'Thanks for this awesome book !! 😍®️🙏', 'kdtcorp', '❤️❤️❤️❤️❤️', 'juanluengasofficial', 'Interesante, saludos 👌🏻.', 'emilio_don_trejile', 'Becuase of that book i can now buy me a house without debt or anything thank you 🙏🏻🙏🏻', 'kevinescobartiburon', '🔥', 'its.miss.hunnay', '@therealkiyosaki I am 15 and currently reading your book and I must say that it has taught me alot about finances and business. I hope that one day I will be wealthy and not lead myself into debt.', 'langelihle949', 'Great book, made me realise alot of things about money', 'Search', 'LANGUAGE\\nAfrikaans\\nČeština\\nDansk\\nDeutsch\\nΕλληνικά\\nEnglish\\nEspañol (España)\\nEspañol\\nSuomi\\nFrançais\\nBahasa Indonesia\\nItaliano\\n日本語\\n한국어\\nBahasa Melayu\\nNorsk\\nNederlands\\nPolski\\nPortuguês (Brasil)\\nPortuguês (Portugal)\\nРусский\\nSvenska\\nภาษาไทย\\nFilipino\\nTürkçe\\n中文(简体)\\n中文(台灣)\\nবাংলা\\nગુજરાતી\\nहिन्दी\\nHrvatski\\nMagyar\\nಕನ್ನಡ\\nമലയാളം\\nमराठी\\nनेपाली\\nਪੰਜਾਬੀ\\nසිංහල\\nSlovenčina\\nதமிழ்\\nతెలుగు\\nTiếng Việt\\n中文(香港)\\nБългарски\\nFrançais (Canada)\\nRomână\\nСрпски\\nУкраїнська', '© 2020 INSTAGRAM FROM FACEBOOK']\n",
      "\n",
      "['therealkiyosaki', 'Verified', '•', '6,454', 'therealkiyosaki', 'Verified', 'This mistake could have happened to any investor: click the link in my bio to learn from Kim’s mistakes. http://bit.ly/2npJlbc', 'trae__haha', 'When moon?', 'mindvoltz', 'Awesome post!', 'corinboss', 'hi you book good. im korean', 'stayhappyandcarryon', 'loooking haaaaappy ever after 🌸❤️🌸❤️🌸❤️🌸❤️🌸❤️', 'carmendawson1', 'Sharing your mistakes will save so many!! We are hearing you!!', 'sam__bay', \"The man, I really respect for. He's just a extraordinary person when it comes to ideas & business.\", 'matteo_rvln', '❤️❤️❤️❤️❤️', '_homa.4335', '،👌🌷', 'sebastianortega.19', '📌Nice', 'altechzilla', '✌🏽', 'kevinescobartiburon', '💸', 'papa_boachie', \"Can't wait to get to the beach after the period we've been through\", 'Search', 'LANGUAGE\\nAfrikaans\\nČeština\\nDansk\\nDeutsch\\nΕλληνικά\\nEnglish\\nEspañol (España)\\nEspañol\\nSuomi\\nFrançais\\nBahasa Indonesia\\nItaliano\\n日本語\\n한국어\\nBahasa Melayu\\nNorsk\\nNederlands\\nPolski\\nPortuguês (Brasil)\\nPortuguês (Portugal)\\nРусский\\nSvenska\\nภาษาไทย\\nFilipino\\nTürkçe\\n中文(简体)\\n中文(台灣)\\nবাংলা\\nગુજરાતી\\nहिन्दी\\nHrvatski\\nMagyar\\nಕನ್ನಡ\\nമലയാളം\\nमराठी\\nनेपाली\\nਪੰਜਾਬੀ\\nසිංහල\\nSlovenčina\\nதமிழ்\\nతెలుగు\\nTiếng Việt\\n中文(香港)\\nБългарски\\nFrançais (Canada)\\nRomână\\nСрпски\\nУкраїнська', '© 2020 INSTAGRAM FROM FACEBOOK']\n",
      "\n",
      "['therealkiyosaki', 'Verified', '•', '8,828', 'therealkiyosaki', 'Verified', 'Tom and I with Martin Sweet, CEO of Step Up 2 A Start Up, an organization that delivered entrepreneurial courses to over 1.4 million South African high school students. I have supported this organization for 6 years.', 'erfolgs_geschichten', 'I read your book ➡️ amazing 🙏', 'vereinmaisonetoile', 'Grossartige Bilder wunderbar in Szene gesetzt :)', 'rickyprofits', '🙌', 'marya.sardari', 'I wish I could visit you face to face And attend in your courses . I hope you the best and health', '_homa.4335', '👌🌷✌', 'mr_molema', 'Hello Mr Kiyosaki, I would like to attend this course. Where do I register to attend the course?', 'thedmanshow2019', '👍👍', 'ley_de_la_atraccion100x100', 'Me encanta tu felicidad, por ello te doy las gracias te amo', 'ulanovna007', 'You are amazing \\U0001f929', 'alan.bonner', '♨ 🅰️🅱️', 'alpha_eddy_', 'Can you please come to my school when you come to South Africa abbots collage Pretoria east', 'ciihmartins', '♥️♥️♥️', 'Search', 'LANGUAGE\\nAfrikaans\\nČeština\\nDansk\\nDeutsch\\nΕλληνικά\\nEnglish\\nEspañol (España)\\nEspañol\\nSuomi\\nFrançais\\nBahasa Indonesia\\nItaliano\\n日本語\\n한국어\\nBahasa Melayu\\nNorsk\\nNederlands\\nPolski\\nPortuguês (Brasil)\\nPortuguês (Portugal)\\nРусский\\nSvenska\\nภาษาไทย\\nFilipino\\nTürkçe\\n中文(简体)\\n中文(台灣)\\nবাংলা\\nગુજરાતી\\nहिन्दी\\nHrvatski\\nMagyar\\nಕನ್ನಡ\\nമലയാളം\\nमराठी\\nनेपाली\\nਪੰਜਾਬੀ\\nසිංහල\\nSlovenčina\\nதமிழ்\\nతెలుగు\\nTiếng Việt\\n中文(香港)\\nБългарски\\nFrançais (Canada)\\nRomână\\nСрпски\\nУкраїнська', '© 2020 INSTAGRAM FROM FACEBOOK']\n",
      "\n",
      "['therealkiyosaki', 'Verified', '•', '5,502', 'therealkiyosaki', 'Verified', 'Click the link in my bio to see the 3 important questions each couple should ask about money.', 'masoudkingalone', 'Best 👏👏👏👏👏', 'gabridarb', 'The big boss 🚀🚀', 'antonlcoetzee', '@elanasmit', 'powerballking', '👍👍👍', 'marketeiranian', '👈😉ارائه پنل پیامکی فوق سریع + بانک شماره های هر شهر رایگان', 'alfonsocastaneda22', 'Desde venezuela saludos amigo del alma solo te digo gracias por todo', 'altechzilla', '✌🏽', 'tzd.negin', '😍', 'alejandral.jaramillo', '👏', 'fabicqueiros', '❤️', 'eifa.tejarat', '👍🏻👍🏻', 'primika_8', '❤️', 'Search', 'LANGUAGE\\nAfrikaans\\nČeština\\nDansk\\nDeutsch\\nΕλληνικά\\nEnglish\\nEspañol (España)\\nEspañol\\nSuomi\\nFrançais\\nBahasa Indonesia\\nItaliano\\n日本語\\n한국어\\nBahasa Melayu\\nNorsk\\nNederlands\\nPolski\\nPortuguês (Brasil)\\nPortuguês (Portugal)\\nРусский\\nSvenska\\nภาษาไทย\\nFilipino\\nTürkçe\\n中文(简体)\\n中文(台灣)\\nবাংলা\\nગુજરાતી\\nहिन्दी\\nHrvatski\\nMagyar\\nಕನ್ನಡ\\nമലയാളം\\nमराठी\\nनेपाली\\nਪੰਜਾਬੀ\\nසිංහල\\nSlovenčina\\nதமிழ்\\nతెలుగు\\nTiếng Việt\\n中文(香港)\\nБългарски\\nFrançais (Canada)\\nRomână\\nСрпски\\nУкраїнська', '© 2020 INSTAGRAM FROM FACEBOOK']\n",
      "\n",
      "['therealkiyosaki', 'Verified', '•', '10,752', 'therealkiyosaki', 'Verified', 'Tom and I with the headmaster at St. Andrews. This is the school Tom and I taught at last year and I wrote about the experience in my book “Why the Rich Are Getting Richer”', 'tsedlikovski', 'Great Book! 👌👌', 'mkcasella45', \"Stop off at Christmas rock near East London. It's a beautiful beach.\", 'misael.ferreiraa', '💪🔥', 'anthonyisunmekhe', 'Seeing the rich getting younger .great site', 'altechzilla', '✌🏽', 'shiran_lifestyle', '😍', 'sarahsays_1', '@el_patron_eben', '_homa.4335', '👌🌷✌', 'jonathanrios2k', '👏 sin duada un ejempla para muchos', 'alejandral.jaramillo', '💪', 'middleclassbusinessman', '👏', 'farzaneh_pourshaban', 'سپاس از مطالب عالى شما 🌸👌', 'Search', 'LANGUAGE\\nAfrikaans\\nČeština\\nDansk\\nDeutsch\\nΕλληνικά\\nEnglish\\nEspañol (España)\\nEspañol\\nSuomi\\nFrançais\\nBahasa Indonesia\\nItaliano\\n日本語\\n한국어\\nBahasa Melayu\\nNorsk\\nNederlands\\nPolski\\nPortuguês (Brasil)\\nPortuguês (Portugal)\\nРусский\\nSvenska\\nภาษาไทย\\nFilipino\\nTürkçe\\n中文(简体)\\n中文(台灣)\\nবাংলা\\nગુજરાતી\\nहिन्दी\\nHrvatski\\nMagyar\\nಕನ್ನಡ\\nമലയാളം\\nमराठी\\nनेपाली\\nਪੰਜਾਬੀ\\nසිංහල\\nSlovenčina\\nதமிழ்\\nతెలుగు\\nTiếng Việt\\n中文(香港)\\nБългарски\\nFrançais (Canada)\\nRomână\\nСрпски\\nУкраїнська', '© 2020 INSTAGRAM FROM FACEBOOK']\n",
      "\n",
      "['therealkiyosaki', 'Verified', '•', '12,324', 'therealkiyosaki', 'Verified', 'Watching rugby at St Andrés college in Grahamstown, South Africa.', 'toczek.tomasz', 'Always young looking and rich in financial knowledge !!!', 'jemylyncastillo', 'Great mentor of all time', 'ojeezzy', 'Dass wassup g', 'matteo_rvln', 'garyvee agree 100%🖤', 'altechzilla', '✌🏽', 'lovelihua102644', 'Looking cool and youthful as ever, Kiyosaki-sama!', 'brathaygroup', '💪', 'farjoud_shokouhi', 'Big like🌺', 'middleclassbusinessman', 'Stylish sir', 'araghi.a5212', '❤️', 'deetrajones', 'Love the pics as this is your favorite sport! You have to endure pain for a long time to be able to stay successful! 🔥😊', '_22victoria_', '😍', 'Search', 'LANGUAGE\\nAfrikaans\\nČeština\\nDansk\\nDeutsch\\nΕλληνικά\\nEnglish\\nEspañol (España)\\nEspañol\\nSuomi\\nFrançais\\nBahasa Indonesia\\nItaliano\\n日本語\\n한국어\\nBahasa Melayu\\nNorsk\\nNederlands\\nPolski\\nPortuguês (Brasil)\\nPortuguês (Portugal)\\nРусский\\nSvenska\\nภาษาไทย\\nFilipino\\nTürkçe\\n中文(简体)\\n中文(台灣)\\nবাংলা\\nગુજરાતી\\nहिन्दी\\nHrvatski\\nMagyar\\nಕನ್ನಡ\\nമലയാളം\\nमराठी\\nनेपाली\\nਪੰਜਾਬੀ\\nසිංහල\\nSlovenčina\\nதமிழ்\\nతెలుగు\\nTiếng Việt\\n中文(香港)\\nБългарски\\nFrançais (Canada)\\nRomână\\nСрпски\\nУкраїнська', '© 2020 INSTAGRAM FROM FACEBOOK']\n",
      "\n",
      "['therealkiyosaki', 'Verified', '•', '6,996', 'therealkiyosaki', 'Verified', 'Had a great time on the radio show with my advisor Andy Tanner & his family. Go to www.richdad.com/radio to listen to it!', 'ram_dani36', 'Good', 'lim.dube', 'I love rich dad radio show', 'scottstewartutah', 'Awesome @andytanner8716', 'angbarlic', 'Magnifico', 'matteo_rvln', 'It is better to fail in originality than to succeed in imitation♠️', 'altechzilla', '✌🏽', 'metafekr', 'پپیچ\\u200cتون عالی است. برای تحول و انقلاب بزرگ زندگیتون سایت متافکر، لینک واقع در بیو همراه باشید. @metafekr', 'thedmanshow2019', 'Kool', 'matteomjk', 'So amazing cause new knowledge is always sink in my mind , repeatedly learning always master robert and coach Andy 🎩😎', 'gratisbuchvondirkreuter', 'Gefällt mir ! 🙂', 'swiftmpoloka', '@liz_thequeen2queens do something clever', 'khodagahe', 'موفق باشید', 'Search', 'LANGUAGE\\nAfrikaans\\nČeština\\nDansk\\nDeutsch\\nΕλληνικά\\nEnglish\\nEspañol (España)\\nEspañol\\nSuomi\\nFrançais\\nBahasa Indonesia\\nItaliano\\n日本語\\n한국어\\nBahasa Melayu\\nNorsk\\nNederlands\\nPolski\\nPortuguês (Brasil)\\nPortuguês (Portugal)\\nРусский\\nSvenska\\nภาษาไทย\\nFilipino\\nTürkçe\\n中文(简体)\\n中文(台灣)\\nবাংলা\\nગુજરાતી\\nहिन्दी\\nHrvatski\\nMagyar\\nಕನ್ನಡ\\nമലയാളം\\nमराठी\\nनेपाली\\nਪੰਜਾਬੀ\\nසිංහල\\nSlovenčina\\nதமிழ்\\nతెలుగు\\nTiếng Việt\\n中文(香港)\\nБългарски\\nFrançais (Canada)\\nRomână\\nСрпски\\nУкраїнська', '© 2020 INSTAGRAM FROM FACEBOOK']\n",
      "\n",
      "['therealkiyosaki', 'Verified', '•', '3,958', 'therealkiyosaki', 'Verified', 'Click the link in my bio for some tips on what to do when fear paralyzes you!', 'ram_dani36', 'Of course', 'svvs58', 'Queen !!! 🌹💎👑👸👑💎🌹', '00a7007a00', 'Robert help me 2 open business 🙏', '00a7007a00', 'i will be your bodyguard in Kyrgyzstan', '_cloover', 'Fear is the biger problem of everybody', 'fitzroy_lee', 'Very nice😁', 'matteo_rvln', 'Keep up the good content 😀', 'altechzilla', '✌🏽', 'futuredevelopersaustralia', 'Kim and Robert where is the bio link for this post please ?', 'jana_angus', 'The two of you are absolutely adorable together!! I’m purchasing your book today. Last night I watched your YouTube talks. My mind is set and I’m moving forward. Thank you! 🙏', 'alan.bonner', '💪 😊 🙏🏽 😜 🅰️🅱️', 'zihaban', '😍🙌', 'Search', 'LANGUAGE\\nAfrikaans\\nČeština\\nDansk\\nDeutsch\\nΕλληνικά\\nEnglish\\nEspañol (España)\\nEspañol\\nSuomi\\nFrançais\\nBahasa Indonesia\\nItaliano\\n日本語\\n한국어\\nBahasa Melayu\\nNorsk\\nNederlands\\nPolski\\nPortuguês (Brasil)\\nPortuguês (Portugal)\\nРусский\\nSvenska\\nภาษาไทย\\nFilipino\\nTürkçe\\n中文(简体)\\n中文(台灣)\\nবাংলা\\nગુજરાતી\\nहिन्दी\\nHrvatski\\nMagyar\\nಕನ್ನಡ\\nമലയാളം\\nमराठी\\nनेपाली\\nਪੰਜਾਬੀ\\nසිංහල\\nSlovenčina\\nதமிழ்\\nతెలుగు\\nTiếng Việt\\n中文(香港)\\nБългарски\\nFrançais (Canada)\\nRomână\\nСрпски\\nУкраїнська', '© 2020 INSTAGRAM FROM FACEBOOK']\n",
      "\n",
      "['therealkiyosaki', 'Verified', '•', '7,232', 'therealkiyosaki', 'Verified', 'Unfortunately, what these millennial parents are teaching their kids is garbage... Head to my latest blog (the link is in my bio)', 'colettejohanlon', 'That’s something to really think about. Everyone is struggling with Millennials, what will their kids be like? Things are changing so fast now.', 'flavio_souza_barros', 'Parabens!', 'consultduran', 'Lovely pictures! Those kids are very fortunate to get some real life lessons.👏👍😍', 'matteo_rvln', 'It is better to fail in originality than to succeed in imitation♠️', 'altechzilla', '✌🏽', 'iranmotive', 'The cutest :grinning:', 'chrisgibbonsart', 'Thank you, sir!', '_homa.4335', '🌷👌✌❤', 'kevinescobartiburon', '✊', 'nikewitherspoon4764', 'Amen beautiful', 'cheeseclubuk', 'This looks amazing!', 'farzaneh_pourshaban', 'ما اينجا هستيم تا شما روياهايتان را فراموش نكنيد. 🌸🌸', 'Search', 'LANGUAGE\\nAfrikaans\\nČeština\\nDansk\\nDeutsch\\nΕλληνικά\\nEnglish\\nEspañol (España)\\nEspañol\\nSuomi\\nFrançais\\nBahasa Indonesia\\nItaliano\\n日本語\\n한국어\\nBahasa Melayu\\nNorsk\\nNederlands\\nPolski\\nPortuguês (Brasil)\\nPortuguês (Portugal)\\nРусский\\nSvenska\\nภาษาไทย\\nFilipino\\nTürkçe\\n中文(简体)\\n中文(台灣)\\nবাংলা\\nગુજરાતી\\nहिन्दी\\nHrvatski\\nMagyar\\nಕನ್ನಡ\\nമലയാളം\\nमराठी\\nनेपाली\\nਪੰਜਾਬੀ\\nසිංහල\\nSlovenčina\\nதமிழ்\\nతెలుగు\\nTiếng Việt\\n中文(香港)\\nБългарски\\nFrançais (Canada)\\nRomână\\nСрпски\\nУкраїнська', '© 2020 INSTAGRAM FROM FACEBOOK']\n",
      "\n",
      "['therealkiyosaki', 'Verified', '•', '21,861', 'therealkiyosaki', 'Verified', 'In Johannesburg. My name on the car. Amazing.', 'steph.torre.moretti', '@moretti_julien_ ❤️', 'tecnologiapymes', 'me gusta las publicaciones que compartes,', 'Hide replies', 'eleazar_daoudou', 'Great❤️!!', 'vin.numbers', 'Invasion of privacy lol', 'andi__geiger', '\\U0001f929👍', 'socialpromi', 'So cool', 'yordiblancoperalta', '👏👏', 'farzaneh_pourshaban', 'مثل هميشه عالى 👌👏', 'king_zeko_rsa', 'When are u coming to south africa again . please come back 🙏🙏🙏🙌', 'mirmuhsinxolmurodov', '🙌', 'gabucho_21', '@nickhd16 Puto amo wn', 'risingwithjchanel', '@cassiesmit', 'Search', 'LANGUAGE\\nAfrikaans\\nČeština\\nDansk\\nDeutsch\\nΕλληνικά\\nEnglish\\nEspañol (España)\\nEspañol\\nSuomi\\nFrançais\\nBahasa Indonesia\\nItaliano\\n日本語\\n한국어\\nBahasa Melayu\\nNorsk\\nNederlands\\nPolski\\nPortuguês (Brasil)\\nPortuguês (Portugal)\\nРусский\\nSvenska\\nภาษาไทย\\nFilipino\\nTürkçe\\n中文(简体)\\n中文(台灣)\\nবাংলা\\nગુજરાતી\\nहिन्दी\\nHrvatski\\nMagyar\\nಕನ್ನಡ\\nമലയാളം\\nमराठी\\nनेपाली\\nਪੰਜਾਬੀ\\nසිංහල\\nSlovenčina\\nதமிழ்\\nతెలుగు\\nTiếng Việt\\n中文(香港)\\nБългарски\\nFrançais (Canada)\\nRomână\\nСрпски\\nУкраїнська', '© 2020 INSTAGRAM FROM FACEBOOK']\n",
      "\n",
      "['therealkiyosaki', 'Verified', '•', '4,692', 'therealkiyosaki', 'Verified', 'I don’t work for my money. It works for me: Click the link in my bio to read my newest blog.', 'floressanchezangelica', 'Its correct! And excelent!', 'View replies (1)', 'pharmathlete', 'If you would like to reach the explorer more often DM me. I have social media services that can help you😎😎', 'bembrigadeiro', '❤️❤️❤️', 'jackie_jouan', '👏👏👏', 'sandempireproperties', \"Making money is just an Idea!!! It's all about knowing your Financial Education well.\", 'r.ndli', 'Dear kiyosaki', 'williamkinghollis', 'For your daily brain food follow me today over 60 million views on YouTube made history in Milan for luxury designer @philippplein78 as the first speaker ever to speak live during Milan fashion week also have the #1 football speech in the world just type best football speech ever on YouTube I’ll be #1 like I said if it’s trash block me if it’s 🔥🔥🔥🔥 love me forever 😁💪🏿🤴🏿', 'flavio_souza_barros', '👏👏👏', 'matteo_rvln', \"J'adore ton profil⚡️\", 'abolfazl_taherian', 'انتشارات طاهریان تنها تولید کننده بازی گردش مالی رابرت کیوساکی در خاورمیانه-برگزار کننده کارگاه های آموزشی بازی در 10 شهر بزرگ ایران', 'altechzilla', '✌🏽', 'farzaneh_pourshaban', 'سپاس از انرژى مثبت شما 🌸🌸', 'Search', 'LANGUAGE\\nAfrikaans\\nČeština\\nDansk\\nDeutsch\\nΕλληνικά\\nEnglish\\nEspañol (España)\\nEspañol\\nSuomi\\nFrançais\\nBahasa Indonesia\\nItaliano\\n日本語\\n한국어\\nBahasa Melayu\\nNorsk\\nNederlands\\nPolski\\nPortuguês (Brasil)\\nPortuguês (Portugal)\\nРусский\\nSvenska\\nภาษาไทย\\nFilipino\\nTürkçe\\n中文(简体)\\n中文(台灣)\\nবাংলা\\nગુજરાતી\\nहिन्दी\\nHrvatski\\nMagyar\\nಕನ್ನಡ\\nമലയാളം\\nमराठी\\nनेपाली\\nਪੰਜਾਬੀ\\nසිංහල\\nSlovenčina\\nதமிழ்\\nతెలుగు\\nTiếng Việt\\n中文(香港)\\nБългарски\\nFrançais (Canada)\\nRomână\\nСрпски\\nУкраїнська', '© 2020 INSTAGRAM FROM FACEBOOK']\n",
      "\n",
      "['therealkiyosaki', 'Verified', '•', '3,456', 'therealkiyosaki', 'Verified', 'How great is the U.S. economy right now? Click the link in my bio to read Kim’s blog.', 'indianaazmouz', '@cel_can87', 'ela_rezapour', 'Hi mrs kiosaki, l injoy read your books,now I read second chance 💙💙💙💙', 'flavio_souza_barros', 'Gostei!', 'flavio_souza_barros', 'Parabens!', 'flavio_souza_barros', '🙂', 'official_godstym', 'The quadrant', 'altechzilla', '✌🏽', 'jeffhillspeaks', \"I would love to collaborate on an idea i'm working on. I think the psychology you've developed around wealth is paramount! #mentorship #nowimentor\", 'ganesh_mindset', 'Love this game #cashflow #richdadpoordad 🙏❤️', 'englishtiptoday', 'Good one!', 'dreamsflow2020', \"Casht board game behind them. Very fun and useful toy. You can play it with Friends and learn and have fun at the same time. It's amazing. I learned a lot about money because of this game\", 'leonardogonzalezokk', 'Excelente💯🇦🇷🇦🇷🇦🇷🇦🇷🇦🇷🇦🇷🇦🇷', 'Search', 'LANGUAGE\\nAfrikaans\\nČeština\\nDansk\\nDeutsch\\nΕλληνικά\\nEnglish\\nEspañol (España)\\nEspañol\\nSuomi\\nFrançais\\nBahasa Indonesia\\nItaliano\\n日本語\\n한국어\\nBahasa Melayu\\nNorsk\\nNederlands\\nPolski\\nPortuguês (Brasil)\\nPortuguês (Portugal)\\nРусский\\nSvenska\\nภาษาไทย\\nFilipino\\nTürkçe\\n中文(简体)\\n中文(台灣)\\nবাংলা\\nગુજરાતી\\nहिन्दी\\nHrvatski\\nMagyar\\nಕನ್ನಡ\\nമലയാളം\\nमराठी\\nनेपाली\\nਪੰਜਾਬੀ\\nසිංහල\\nSlovenčina\\nதமிழ்\\nతెలుగు\\nTiếng Việt\\n中文(香港)\\nБългарски\\nFrançais (Canada)\\nRomână\\nСрпски\\nУкраїнська', '© 2020 INSTAGRAM FROM FACEBOOK']\n",
      "\n",
      "['therealkiyosaki', 'Verified', '•', '4,194', 'therealkiyosaki', 'Verified', 'Your 401(k) makes you a gambler not an investor: click the link in my bio to find out why.', 'diyaa_alaater', '@muslims_islam01', '_cloover', 'Eu vou para sua Bio, para que possa entender melhor. Abraços @therealkiyosaki', 'khaladi4elite', '@bigmama6570', 'medctom', 'Вот молодцы', 'nuke.wati', 'tanks robert kiyosaki', 'metafekr', '👍👌عالی بود لایک داره. افتخار بدید به پیج ما هم سری بزنید .ما در زمینه موفقت و رشد و توسعه فردی و تغییر الگوهای ذهنی ثروتمند کار و در این زمینه مشاوره هم می دهیم.✌🙏 سایت متافکر لینک بیو @metafekr', 'flavio_souza_barros', 'Estou impressionado 👏👏', 'matteo_rvln', '💥The best💥', 'mentorbookclub', 'What is the title of this episode? I can’t find it', 'altechzilla', '✌🏽', '_americanmade45', '@ericb2nice', 'farzaneh_pourshaban', 'قدا قوت👌 بسيار عالى🌸', 'Search', 'LANGUAGE\\nAfrikaans\\nČeština\\nDansk\\nDeutsch\\nΕλληνικά\\nEnglish\\nEspañol (España)\\nEspañol\\nSuomi\\nFrançais\\nBahasa Indonesia\\nItaliano\\n日本語\\n한국어\\nBahasa Melayu\\nNorsk\\nNederlands\\nPolski\\nPortuguês (Brasil)\\nPortuguês (Portugal)\\nРусский\\nSvenska\\nภาษาไทย\\nFilipino\\nTürkçe\\n中文(简体)\\n中文(台灣)\\nবাংলা\\nગુજરાતી\\nहिन्दी\\nHrvatski\\nMagyar\\nಕನ್ನಡ\\nമലയാളം\\nमराठी\\nनेपाली\\nਪੰਜਾਬੀ\\nසිංහල\\nSlovenčina\\nதமிழ்\\nతెలుగు\\nTiếng Việt\\n中文(香港)\\nБългарски\\nFrançais (Canada)\\nRomână\\nСрпски\\nУкраїнська', '© 2020 INSTAGRAM FROM FACEBOOK']\n",
      "\n",
      "['therealkiyosaki', 'Verified', '•', '13,379', 'therealkiyosaki', 'Verified', 'The benefits of this daily practice have helped improve Kim and I’s #business partnership because it’s helped us communicate better as a couple: click the link in my bio to read Kim’s blog.', 'matteo_rvln', '❤️❤️❤️❤️❤️', 'alpharanking1', 'Thank you ! 😁😁😁', 'thiago.pilarski', '@georgiaricetti olha quem é.', 'bryceb82', \"I'm in Maui and reading cashflow quadrant and preaching to my friends about shifting your mentality... #someday\", '8knowlesy8', '@cr_richardson', 'alejandral.jaramillo', '🔥', 'altechzilla', '✌🏽', 'alejandral.jaramillo', '💸', 'erick_zeca', 'Muito bom! 👏🏽😸😽', 'kevinescobartiburon', '👌', 'eifa.tejarat', '👍🏻👍🏻', 'deetrajones', \"I'm grateful that I was guided to learn more knowledge of what you preach everyday to help others gain their power back!🙏💚\", 'View replies (1)', 'Search', 'LANGUAGE\\nAfrikaans\\nČeština\\nDansk\\nDeutsch\\nΕλληνικά\\nEnglish\\nEspañol (España)\\nEspañol\\nSuomi\\nFrançais\\nBahasa Indonesia\\nItaliano\\n日本語\\n한국어\\nBahasa Melayu\\nNorsk\\nNederlands\\nPolski\\nPortuguês (Brasil)\\nPortuguês (Portugal)\\nРусский\\nSvenska\\nภาษาไทย\\nFilipino\\nTürkçe\\n中文(简体)\\n中文(台灣)\\nবাংলা\\nગુજરાતી\\nहिन्दी\\nHrvatski\\nMagyar\\nಕನ್ನಡ\\nമലയാളം\\nमराठी\\nनेपाली\\nਪੰਜਾਬੀ\\nසිංහල\\nSlovenčina\\nதமிழ்\\nతెలుగు\\nTiếng Việt\\n中文(香港)\\nБългарски\\nFrançais (Canada)\\nRomână\\nСрпски\\nУкраїнська', '© 2020 INSTAGRAM FROM FACEBOOK']\n",
      "\n",
      "['therealkiyosaki', 'Verified', '•', '25,378', 'therealkiyosaki', 'Verified', '#financialeducation', 'qc_1111', '👍', 'silencer_ftano_kibelenge', 'Mmh dady', 's0phiar', '😂 Haha such a good way to explain it @lloydjamesross', 'View replies (1)', 'andreaguilar.c', '@gre.madeleine', 'the_real_sherkhan', 'I was 13 when I came to know about that Monopoly is a real life game', 'epecfoodie', '@iamwillwarren @sirbourbon @v12_mindset @thehconcept @nwkmaker @amil_am17', 'jasmineee_wu', 'Oof LOL @haoyudoing', 'View replies (1)', 'rodrigoalbistegui', '@paolabi01', 'deharold8782', 'absolutely love this! I hate that its literally the reality but its always right in front of our faces. always. Thank You for all you have done to give back. I myself was born to serve/give and am starting my journey, well restarting my journey. I got got caught up thinking I needed to make money in order to give. I just watched one of your interviews and you as well as a few other universal nudges, reminded me that I have what I needed all along. if the money comes so be it. but the key is helping others and using my gift. Yes I am not business savvy but I aim to be and plan to keep at it until I make a profit coming out of this epidemic.', 'ciomary', '@yamxavier', 'its_billia', '@art_fanwh', 'infiniteoutlaw', '@hardtoforget 😉', 'Search', 'LANGUAGE\\nAfrikaans\\nČeština\\nDansk\\nDeutsch\\nΕλληνικά\\nEnglish\\nEspañol (España)\\nEspañol\\nSuomi\\nFrançais\\nBahasa Indonesia\\nItaliano\\n日本語\\n한국어\\nBahasa Melayu\\nNorsk\\nNederlands\\nPolski\\nPortuguês (Brasil)\\nPortuguês (Portugal)\\nРусский\\nSvenska\\nภาษาไทย\\nFilipino\\nTürkçe\\n中文(简体)\\n中文(台灣)\\nবাংলা\\nગુજરાતી\\nहिन्दी\\nHrvatski\\nMagyar\\nಕನ್ನಡ\\nമലയാളം\\nमराठी\\nनेपाली\\nਪੰਜਾਬੀ\\nසිංහල\\nSlovenčina\\nதமிழ்\\nతెలుగు\\nTiếng Việt\\n中文(香港)\\nБългарски\\nFrançais (Canada)\\nRomână\\nСрпски\\nУкраїнська', '© 2020 INSTAGRAM FROM FACEBOOK']\n",
      "\n",
      "['therealkiyosaki', 'Verified', '•', '17,389', 'therealkiyosaki', 'Verified', 'My commitment to you is to continue sharing my knowledge, making it as clear and simple as possible: Click the link in my bio to read my blog.', 'cashgold24k', 'Amazing guy you are .very influential 👍', 'soycarlosospina1', '💸', 'altechzilla', '✌🏽', 'vahiidrahmati', 'I like to be like u ,powerful, successful and influencing to every ones life.❤️❤️', '__xprt', 'If you must take debt, take it small. If you have to take it big make sure someone is paying for it.', 'View replies (1)', 'valentinlopezoficial', '@grantcardone the 10X man', 'jccabos1', '👏🏻👏🏻👏🏻👏🏻', 'p_rocks007', '👍', 'morgun_sholty', 'I have a cataylist to help facilitate that', 'aryanto5951', '👍😍', 'galipeks', '👍👍👍', '_ciy.a', '🔥', 'Search', 'LANGUAGE\\nAfrikaans\\nČeština\\nDansk\\nDeutsch\\nΕλληνικά\\nEnglish\\nEspañol (España)\\nEspañol\\nSuomi\\nFrançais\\nBahasa Indonesia\\nItaliano\\n日本語\\n한국어\\nBahasa Melayu\\nNorsk\\nNederlands\\nPolski\\nPortuguês (Brasil)\\nPortuguês (Portugal)\\nРусский\\nSvenska\\nภาษาไทย\\nFilipino\\nTürkçe\\n中文(简体)\\n中文(台灣)\\nবাংলা\\nગુજરાતી\\nहिन्दी\\nHrvatski\\nMagyar\\nಕನ್ನಡ\\nമലയാളം\\nमराठी\\nनेपाली\\nਪੰਜਾਬੀ\\nසිංහල\\nSlovenčina\\nதமிழ்\\nతెలుగు\\nTiếng Việt\\n中文(香港)\\nБългарски\\nFrançais (Canada)\\nRomână\\nСрпски\\nУкраїнська', '© 2020 INSTAGRAM FROM FACEBOOK']\n",
      "\n",
      "['therealkiyosaki', 'Verified', '•', '3,507', 'therealkiyosaki', 'Verified', 'So, what will you accomplish in the six months left until 2019? Click the link in my bio to read Kim’s blog!', 'jan_tor', 'Great Shot 😱💥have a nice day 🤙🏾😇', 'paulmerrill160', 'The US debt is? Can the king of debt make money for the US with this debt?', 'iloveturnkeymaster', 'A lot of sales people wake up in the morning and think how can they make more sales in a day but be', 'iloveturnkeymaster', \"A lot of sales people wake up in the morning and think how can they make more sales in a day but very few would think how could they actually improve more people's life 🙇🙇🙇\", 'ermiashahlaee', 'good', 'adhilex22', 'Pepe panda', 'ferlito_enrico', '👍👍👍', 'agenciafiqui', 'Top!!!😉', 'luisjah', 'Un proyecto muy especial para cambiar al mundo!!', 'flavio_souza_barros', 'Sucesso', 'altechzilla', '✌🏽', 'vohn_holden', \"I moved out, managed debt and stress, learned about the judicial system, switched Dept's at work, faced any setback life presented and conquered it. I should be starting a new job if all goes well! and after that my entrepreneurial ideas should start taking off as things are lining up unexpectedly I just need to build the team and work out the logistics!\", 'Search', 'LANGUAGE\\nAfrikaans\\nČeština\\nDansk\\nDeutsch\\nΕλληνικά\\nEnglish\\nEspañol (España)\\nEspañol\\nSuomi\\nFrançais\\nBahasa Indonesia\\nItaliano\\n日本語\\n한국어\\nBahasa Melayu\\nNorsk\\nNederlands\\nPolski\\nPortuguês (Brasil)\\nPortuguês (Portugal)\\nРусский\\nSvenska\\nภาษาไทย\\nFilipino\\nTürkçe\\n中文(简体)\\n中文(台灣)\\nবাংলা\\nગુજરાતી\\nहिन्दी\\nHrvatski\\nMagyar\\nಕನ್ನಡ\\nമലയാളം\\nमराठी\\nनेपाली\\nਪੰਜਾਬੀ\\nසිංහල\\nSlovenčina\\nதமிழ்\\nతెలుగు\\nTiếng Việt\\n中文(香港)\\nБългарски\\nFrançais (Canada)\\nRomână\\nСрпски\\nУкраїнська', '© 2020 INSTAGRAM FROM FACEBOOK']\n",
      "\n",
      "['therealkiyosaki', 'Verified', '•', '5,249', 'therealkiyosaki', 'Verified', 'There is nothing more financially dangerous than thinking your savings will provide a secure financial future: click the link in my bio to read my latest blog.', 'libertadrlosada', '🔥🔥🔥🔥🔥🔥', 'celso_eusebio', 'True that ! Money should be invested not kept', 'ermiashahlaee', 'best', 'lloydjamesross', 'Agreed. That’s why built a side hustle and invested into businesses.', 'tuemprendiendo', '😎', 'anchoredwave', 'Agree, these books are phenomenal!', 'juanjose.olave', 'Muy buena foto saludos desde Bogota', 'reverseroyalties', \"Couldn't agree more.n\", 'formulaforwardmotioninc', '#THEBUBBLEWILLBURSTINTERVIEW 🏆⭐💪', 'shaynamendonca', '@silvaccbrafael e @dampaixao', 'altechzilla', '✌🏽', 'sokhanrankocholo', 'سخنران کوچولو اولین موسسه فن بیان و سخنوری کودکان و نوجوانان', 'Search', 'LANGUAGE\\nAfrikaans\\nČeština\\nDansk\\nDeutsch\\nΕλληνικά\\nEnglish\\nEspañol (España)\\nEspañol\\nSuomi\\nFrançais\\nBahasa Indonesia\\nItaliano\\n日本語\\n한국어\\nBahasa Melayu\\nNorsk\\nNederlands\\nPolski\\nPortuguês (Brasil)\\nPortuguês (Portugal)\\nРусский\\nSvenska\\nภาษาไทย\\nFilipino\\nTürkçe\\n中文(简体)\\n中文(台灣)\\nবাংলা\\nગુજરાતી\\nहिन्दी\\nHrvatski\\nMagyar\\nಕನ್ನಡ\\nമലയാളം\\nमराठी\\nनेपाली\\nਪੰਜਾਬੀ\\nසිංහල\\nSlovenčina\\nதமிழ்\\nతెలుగు\\nTiếng Việt\\n中文(香港)\\nБългарски\\nFrançais (Canada)\\nRomână\\nСрпски\\nУкраїнська', '© 2020 INSTAGRAM FROM FACEBOOK']\n",
      "\n",
      "['therealkiyosaki', 'Verified', '•', '4,837', 'therealkiyosaki', 'Verified', 'One way to start finding other business opportunities is to do what I call slowing down to speed up: click the link in my bio for some tips on running a business.', 'inspirationalmarshahamilton', 'You are awesome!', 'View replies (1)', 'rj_trader', 'This is amazing!', 'tercangencer', 'Greetings from Germany Robert✋✔', 'metafekr', '🙂سلام ، خیلی عالی ، خوشحال میشم پیجمونو دنبال کنید و با مطالب موفقیت و رشد و توسعه فردی متافکر آشنا شین 😊😊😊 لینک بیو @metafekr', 'kevinescobartiburon', '💪', 'continualwealth', 'awesome', 'flavio_souza_barros', 'muito bem!', 'flavio_souza_barros', '👏👏👏', 'flavio_souza_barros', 'Sucesso', 'altechzilla', '✌🏽', 'tecnologiapymes', '✅ ✅ Nice!,', 'sabinerossmadl', '🙏👍👍👌👌❤️💜', 'Search', 'LANGUAGE\\nAfrikaans\\nČeština\\nDansk\\nDeutsch\\nΕλληνικά\\nEnglish\\nEspañol (España)\\nEspañol\\nSuomi\\nFrançais\\nBahasa Indonesia\\nItaliano\\n日本語\\n한국어\\nBahasa Melayu\\nNorsk\\nNederlands\\nPolski\\nPortuguês (Brasil)\\nPortuguês (Portugal)\\nРусский\\nSvenska\\nภาษาไทย\\nFilipino\\nTürkçe\\n中文(简体)\\n中文(台灣)\\nবাংলা\\nગુજરાતી\\nहिन्दी\\nHrvatski\\nMagyar\\nಕನ್ನಡ\\nമലയാളം\\nमराठी\\nनेपाली\\nਪੰਜਾਬੀ\\nසිංහල\\nSlovenčina\\nதமிழ்\\nతెలుగు\\nTiếng Việt\\n中文(香港)\\nБългарски\\nFrançais (Canada)\\nRomână\\nСрпски\\nУкраїнська', '© 2020 INSTAGRAM FROM FACEBOOK']\n",
      "\n",
      "['therealkiyosaki', 'Verified', '•', '50,299 views', '50,299', 'therealkiyosaki', 'Verified', 'I read comments all the time like, \"I need money before I can invest it.\" What if I told you, there\\'s a way for you to find extra money in the time it takes you to finish a load of laundry? Watch, then click the link in my bio.', 'billionaires_row', \"Your books are the best😄 i've bought 6 of them!🖒\", 'continualwealth', 'awesome', 'soycarlosospina1', '👏', 'altechzilla', '✌🏽', 'alejandral.jaramillo', '💪', 'alejandral.jaramillo', '🔥', 'marketinghds', 'Quieres Triunfar en Internet? Te ayudamos a que consigas una visibilidad impactante en todas las Plataformas! 🔥⚡💻', 'mayrim_alanis', '❤️', 'preity_mehra', '@shrayuniyal', 'zvx.0000', 'Just one eye, hey!', 'milagros.alice.5', 'Me too..! Mr. Kiyosaki', 'tonyongkypratama.top', '👍', 'Search', 'LANGUAGE\\nAfrikaans\\nČeština\\nDansk\\nDeutsch\\nΕλληνικά\\nEnglish\\nEspañol (España)\\nEspañol\\nSuomi\\nFrançais\\nBahasa Indonesia\\nItaliano\\n日本語\\n한국어\\nBahasa Melayu\\nNorsk\\nNederlands\\nPolski\\nPortuguês (Brasil)\\nPortuguês (Portugal)\\nРусский\\nSvenska\\nภาษาไทย\\nFilipino\\nTürkçe\\n中文(简体)\\n中文(台灣)\\nবাংলা\\nગુજરાતી\\nहिन्दी\\nHrvatski\\nMagyar\\nಕನ್ನಡ\\nമലയാളം\\nमराठी\\nनेपाली\\nਪੰਜਾਬੀ\\nසිංහල\\nSlovenčina\\nதமிழ்\\nతెలుగు\\nTiếng Việt\\n中文(香港)\\nБългарски\\nFrançais (Canada)\\nRomână\\nСрпски\\nУкраїнська', '© 2020 INSTAGRAM FROM FACEBOOK']\n",
      "\n",
      "['therealkiyosaki', 'Verified', '•', '4,768', 'therealkiyosaki', 'Verified', 'Investing is just like life: a journey filled with highs and lows, joys and sorrows. At the end of the day, it’s always a journey worth taking. Click the link in my bio to read why.', 'lvxxviii', 'Made my day', 'saydullaevabdurasul', 'Hello rich ded', 'mwanlechindang', 'Some of us bask on our previous success to the detriment of our future', 'abolfazl_taherian', 'انتشارات طاهریان تنها تولید کننده بازی گردش مالی رابرت کیوساکی در خاورمیانه', 'iamrellsumpter__', 'Dope Quote on The Wall There!! 👊🏼😎🔑', 'altechzilla', '✌🏽', 'mortezaafzali.ir', 'پستات خیلی باحالن 👀', 'kevinescobartiburon', '💪', 'mindset_of_leaders_', 'Very sweet', 'prrobsonoliveira', '😀😄', 'dreamsflow2020', \"Cashflow board game is the best. Played it, learned a lot. And it's fun\", 'abdelilahelharrad', 'راىغ وحميل انتم رائع جدا 🌹🌹🌹🌹🌹', 'Search', 'LANGUAGE\\nAfrikaans\\nČeština\\nDansk\\nDeutsch\\nΕλληνικά\\nEnglish\\nEspañol (España)\\nEspañol\\nSuomi\\nFrançais\\nBahasa Indonesia\\nItaliano\\n日本語\\n한국어\\nBahasa Melayu\\nNorsk\\nNederlands\\nPolski\\nPortuguês (Brasil)\\nPortuguês (Portugal)\\nРусский\\nSvenska\\nภาษาไทย\\nFilipino\\nTürkçe\\n中文(简体)\\n中文(台灣)\\nবাংলা\\nગુજરાતી\\nहिन्दी\\nHrvatski\\nMagyar\\nಕನ್ನಡ\\nമലയാളം\\nमराठी\\nनेपाली\\nਪੰਜਾਬੀ\\nසිංහල\\nSlovenčina\\nதமிழ்\\nతెలుగు\\nTiếng Việt\\n中文(香港)\\nБългарски\\nFrançais (Canada)\\nRomână\\nСрпски\\nУкраїнська', '© 2020 INSTAGRAM FROM FACEBOOK']\n",
      "\n",
      "['therealkiyosaki', 'Verified', '•', '7,787', 'therealkiyosaki', 'Verified', 'Click the link in my bio for financial habits I have in order to be financially free.', 'millonarioreal1', '@millonarioreal1', 'diego.delgado_', '🆒', 'gotomyotherprofile33', \"@therealkiyosaki Let's Collaborate 🙌\", 'bertrand_saugy_coach', '@grand_maistre', 'lyn_llewe', \"You are an inspiration. I'll study harder about your concept. I want to learn how to be rich :) thank you for your teachings.\", 'altechzilla', '✌🏽', 'yoni7308', '👍', 'ulanovna007', 'I have read your \"Rich Father,Poor Father \"', 'fabicqueiros', '👏🏼👏👏👏👏👏👏🏼', 'minimuslife', 'Very nice', 'thiagosampaio3.0', 'Woww !! I was there 🔥🔥🔥🔥🔥', 'josecerbellou', 'Amazing Boss', 'Search', 'LANGUAGE\\nAfrikaans\\nČeština\\nDansk\\nDeutsch\\nΕλληνικά\\nEnglish\\nEspañol (España)\\nEspañol\\nSuomi\\nFrançais\\nBahasa Indonesia\\nItaliano\\n日本語\\n한국어\\nBahasa Melayu\\nNorsk\\nNederlands\\nPolski\\nPortuguês (Brasil)\\nPortuguês (Portugal)\\nРусский\\nSvenska\\nภาษาไทย\\nFilipino\\nTürkçe\\n中文(简体)\\n中文(台灣)\\nবাংলা\\nગુજરાતી\\nहिन्दी\\nHrvatski\\nMagyar\\nಕನ್ನಡ\\nമലയാളം\\nमराठी\\nनेपाली\\nਪੰਜਾਬੀ\\nසිංහල\\nSlovenčina\\nதமிழ்\\nతెలుగు\\nTiếng Việt\\n中文(香港)\\nБългарски\\nFrançais (Canada)\\nRomână\\nСрпски\\nУкраїнська', '© 2020 INSTAGRAM FROM FACEBOOK']\n",
      "\n",
      "['therealkiyosaki', 'Verified', '•', '5,234', 'therealkiyosaki', 'Verified', 'The world needs more female #entrepreneurs : click the link in my bio to read Kim’s blog.', 'its_m4rk', '❤️', 'floressanchezangelica', 'Good like I agregó with you', 'lvxxviii', 'This is great', 'urusel_urusal', 'Она прекрасна..', 'im_martinli', 'Weiter so❗️💯', 'tuemprendiendo', '🌠', 'affiliate_kickstart', 'Inspiring stuff.Keep up the good work.👍', 'artpassionate._', 'Yeah', 'tkiyosaki', '@__official.mk', 'altechzilla', '✌🏽', 'digmarfilo', 'Keren kak👍', 'kevinescobartiburon', '✊', 'Search', 'LANGUAGE\\nAfrikaans\\nČeština\\nDansk\\nDeutsch\\nΕλληνικά\\nEnglish\\nEspañol (España)\\nEspañol\\nSuomi\\nFrançais\\nBahasa Indonesia\\nItaliano\\n日本語\\n한국어\\nBahasa Melayu\\nNorsk\\nNederlands\\nPolski\\nPortuguês (Brasil)\\nPortuguês (Portugal)\\nРусский\\nSvenska\\nภาษาไทย\\nFilipino\\nTürkçe\\n中文(简体)\\n中文(台灣)\\nবাংলা\\nગુજરાતી\\nहिन्दी\\nHrvatski\\nMagyar\\nಕನ್ನಡ\\nമലയാളം\\nमराठी\\nनेपाली\\nਪੰਜਾਬੀ\\nසිංහල\\nSlovenčina\\nதமிழ்\\nతెలుగు\\nTiếng Việt\\n中文(香港)\\nБългарски\\nFrançais (Canada)\\nRomână\\nСрпски\\nУкраїнська', '© 2020 INSTAGRAM FROM FACEBOOK']\n",
      "\n",
      "['therealkiyosaki', 'Verified', '•', '5,960', 'therealkiyosaki', 'Verified', 'When you watch the World Cup this year, you’ll be watching hundreds of millions of dollars in assets running around on the field ➡️ Click the link in my bio to find out why high-paid athletes go broke. #worldcup #soccer', 'danial.adhami', 'میساکی؟؟؟', 'its_m4rk', '👏🏽👏🏽👏🏽', 'anamariagiraldo', '👍', 'zacmparker', 'Verified', 'Check dm', 'emelie.sidenvall', '🔥', 'tavan_chnl', 'سلام و وقت بخیر دوست خوبم. مدیر « کانال توان » هستم. حتماً برای شما هم اتفاق افتاده که بابت یک ارائۀ کلاسی در دانشگاه، ارائۀ مطلب در یک همایش، یا فقط برای یادگیری شخصی، دنبال یک تصویر، عکس\\u200cنوشته، اینفوگرافیک یا یک فایل ویدئویی در زمینۀ: محتواهای انگیزشی و روش\\u200cهای موفقیت، زبان انگلیسی، بازاریابی و فروش، مدیریت و کارآفرینی یا مثل این\\u200cها باشین و بعد از کلی جستجو در اینترنت، محتوای موردنظرتون رو پیدا نکنین و درمونده و کلافه بشین! ما راهکار ویژه و متمایزی برای این نیاز شما پیدا کردیم: t.me/tAvAn_chnL', 'raino.dymita', '@therealkiyosaki you are a living legend 👍👍👍', 'iamsonnyweathersby', '@therealkiyosaki The “Rich Dad Poor Dad” Guy. Great book, I’m working on your philosophies bro, it’s coming ✊🏽 Thanks for your insight, God Bless!', 'sopiabusiness', 'semoga sukses terus ya kak 😀', 'greatpetroff', 'Cashflow get fantastical capability of solve on live a tasks, which play in game🙌', 'artur.erhardt', 'Yes! Speaking the truth.', 'altechzilla', '✌🏽', 'Search', 'LANGUAGE\\nAfrikaans\\nČeština\\nDansk\\nDeutsch\\nΕλληνικά\\nEnglish\\nEspañol (España)\\nEspañol\\nSuomi\\nFrançais\\nBahasa Indonesia\\nItaliano\\n日本語\\n한국어\\nBahasa Melayu\\nNorsk\\nNederlands\\nPolski\\nPortuguês (Brasil)\\nPortuguês (Portugal)\\nРусский\\nSvenska\\nภาษาไทย\\nFilipino\\nTürkçe\\n中文(简体)\\n中文(台灣)\\nবাংলা\\nગુજરાતી\\nहिन्दी\\nHrvatski\\nMagyar\\nಕನ್ನಡ\\nമലയാളം\\nमराठी\\nनेपाली\\nਪੰਜਾਬੀ\\nසිංහල\\nSlovenčina\\nதமிழ்\\nతెలుగు\\nTiếng Việt\\n中文(香港)\\nБългарски\\nFrançais (Canada)\\nRomână\\nСрпски\\nУкраїнська', '© 2020 INSTAGRAM FROM FACEBOOK']\n",
      "\n",
      "['therealkiyosaki', 'Verified', '•', '8,363', 'therealkiyosaki', 'Verified', '5 ways you can succeed with real estate investing in today’s market: Click the link in my bio!', 'balltribeking', '@discounthomestampa', 'tearsi23', 'Good!', 'stayhappyandcarryon', 'quality time with friends and family always lifts up!', 'elnaz2288', 'Good luck😊😊', 'alejandral.jaramillo', '👏', 'leandromoteles', '@ludmiler', 'altechzilla', '✌🏽', 'bote_atelier', '🙌Wanna learn every single detail🙌', 'jccabos1', 'This is great', 'fernandolaia.triunfo', 'Gosto de bons posts como esse seu !', 'erikabonnickofficial', '🙌🏽🙌🏽', 'khalijeparsnet', 'Bbc documentary great', 'Search', 'LANGUAGE\\nAfrikaans\\nČeština\\nDansk\\nDeutsch\\nΕλληνικά\\nEnglish\\nEspañol (España)\\nEspañol\\nSuomi\\nFrançais\\nBahasa Indonesia\\nItaliano\\n日本語\\n한국어\\nBahasa Melayu\\nNorsk\\nNederlands\\nPolski\\nPortuguês (Brasil)\\nPortuguês (Portugal)\\nРусский\\nSvenska\\nภาษาไทย\\nFilipino\\nTürkçe\\n中文(简体)\\n中文(台灣)\\nবাংলা\\nગુજરાતી\\nहिन्दी\\nHrvatski\\nMagyar\\nಕನ್ನಡ\\nമലയാളം\\nमराठी\\nनेपाली\\nਪੰਜਾਬੀ\\nසිංහල\\nSlovenčina\\nதமிழ்\\nతెలుగు\\nTiếng Việt\\n中文(香港)\\nБългарски\\nFrançais (Canada)\\nRomână\\nСрпски\\nУкраїнська', '© 2020 INSTAGRAM FROM FACEBOOK']\n",
      "\n",
      "['therealkiyosaki', 'Verified', '•', '4,791', 'therealkiyosaki', 'Verified', 'A special thank you to my 150K 📍SUBSCRIBERS📍on YouTube. I’m listening to you and your feedback on my latest videos of Millennial Money. I’m reading your comments and a new series will be released of topics you have asked to learn more about and ADVANCED TOPICS. Do not try to understand these new concepts if you haven’t started with the basics I released on my YouTube channel under the playlist “Millennial Money: Lessons with Robert Kiyosaki.” Click the link in my bio and. 📌SUBSCRIBE 📌to my channel so you can be notified of my upcoming lessons on debt, NOI, real estate investing, stocks, taxes, and more.', 'who.prashantdev', 'This guy has literally changed my life for forever..❤', 'odkelneradomilionera', '🤗', 'alefoxlife', 'Elite 💪🏼', 'kholiejimenez', 'Nice one 👍', 'lvxxviii', 'This is great', 'mwanlechindang', 'It interests me to know that someone like U is ready to enlighten people that are poor financially like me. And U give opportunity to be better in our lives', '_tappit', '❤️❤️❤️', 'piccasso96', 'Thank you for your YouTube channel !!', 'ricardomarquezofficial', '💸', 'altechzilla', '✌🏽', 'empreendedoressaoficial', '😊😊😊', 'wrest_city', '🤗🤗🤗🤗🤗🤗🤗', 'Search', 'LANGUAGE\\nAfrikaans\\nČeština\\nDansk\\nDeutsch\\nΕλληνικά\\nEnglish\\nEspañol (España)\\nEspañol\\nSuomi\\nFrançais\\nBahasa Indonesia\\nItaliano\\n日本語\\n한국어\\nBahasa Melayu\\nNorsk\\nNederlands\\nPolski\\nPortuguês (Brasil)\\nPortuguês (Portugal)\\nРусский\\nSvenska\\nภาษาไทย\\nFilipino\\nTürkçe\\n中文(简体)\\n中文(台灣)\\nবাংলা\\nગુજરાતી\\nहिन्दी\\nHrvatski\\nMagyar\\nಕನ್ನಡ\\nമലയാളം\\nमराठी\\nनेपाली\\nਪੰਜਾਬੀ\\nසිංහල\\nSlovenčina\\nதமிழ்\\nతెలుగు\\nTiếng Việt\\n中文(香港)\\nБългарски\\nFrançais (Canada)\\nRomână\\nСрпски\\nУкраїнська', '© 2020 INSTAGRAM FROM FACEBOOK']\n",
      "\n",
      "['therealkiyosaki', 'Verified', '•', '5,184', 'therealkiyosaki', 'Verified', 'Click the link in my bio to find out the 6 reasons why you should be selling on Amazon', 'dan_foley_hall', '@jimmyroclothing', 'royalty.by.birth', 'Is that the legendary Tom the Tax God😤😊 that guy is the man!!! Tace', 'diego.delgado_', '💯💯', 'lvxxviii', 'Made my day', 'dominikg24', 'Feels good 😍', '_tappit', '❤️❤️❤️', 'luisjah', 'Oooh el triángulo de la bermudas', 'luisjah', '😊😊', 'official_godstym', '@therealkiyosaki 💥', 'altechzilla', '✌🏽', 'jorge_valladolic', 'Me modo APRENDIZAJE siempre', 'ta.nya5332', 'Хочу сыграть эту игру', 'Search', 'LANGUAGE\\nAfrikaans\\nČeština\\nDansk\\nDeutsch\\nΕλληνικά\\nEnglish\\nEspañol (España)\\nEspañol\\nSuomi\\nFrançais\\nBahasa Indonesia\\nItaliano\\n日本語\\n한국어\\nBahasa Melayu\\nNorsk\\nNederlands\\nPolski\\nPortuguês (Brasil)\\nPortuguês (Portugal)\\nРусский\\nSvenska\\nภาษาไทย\\nFilipino\\nTürkçe\\n中文(简体)\\n中文(台灣)\\nবাংলা\\nગુજરાતી\\nहिन्दी\\nHrvatski\\nMagyar\\nಕನ್ನಡ\\nമലയാളം\\nमराठी\\nनेपाली\\nਪੰਜਾਬੀ\\nසිංහල\\nSlovenčina\\nதமிழ்\\nతెలుగు\\nTiếng Việt\\n中文(香港)\\nБългарски\\nFrançais (Canada)\\nRomână\\nСрпски\\nУкраїнська', '© 2020 INSTAGRAM FROM FACEBOOK']\n",
      "\n"
     ]
    }
   ],
   "source": [
    "photos_comments_back = pickle.load( open( \"therealkiyosaki_posts_comments.json\", \"rb\" ) )\n",
    "for comments in photos_comments_back:\n",
    "    print(comments)\n",
    "    print()"
   ]
  },
  {
   "cell_type": "code",
   "execution_count": 21,
   "metadata": {},
   "outputs": [
    {
     "name": "stdout",
     "output_type": "stream",
     "text": [
      "SEPTEMBER 26, 2018\n",
      "\n",
      "SEPTEMBER 22, 2018\n",
      "\n",
      "SEPTEMBER 14, 2018\n",
      "\n",
      "SEPTEMBER 13, 2018\n",
      "\n",
      "SEPTEMBER 6, 2018\n",
      "\n",
      "AUGUST 31, 2018\n",
      "\n",
      "AUGUST 31, 2018\n",
      "\n",
      "AUGUST 28, 2018\n",
      "\n",
      "AUGUST 25, 2018\n",
      "\n",
      "AUGUST 24, 2018\n",
      "\n",
      "AUGUST 23, 2018\n",
      "\n",
      "AUGUST 22, 2018\n",
      "\n",
      "AUGUST 21, 2018\n",
      "\n",
      "AUGUST 17, 2018\n",
      "\n",
      "AUGUST 16, 2018\n",
      "\n",
      "AUGUST 15, 2018\n",
      "\n",
      "AUGUST 10, 2018\n",
      "\n",
      "AUGUST 8, 2018\n",
      "\n",
      "AUGUST 7, 2018\n",
      "\n",
      "AUGUST 7, 2018\n",
      "\n",
      "AUGUST 5, 2018\n",
      "\n",
      "AUGUST 3, 2018\n",
      "\n",
      "AUGUST 2, 2018\n",
      "\n",
      "AUGUST 1, 2018\n",
      "\n",
      "JULY 30, 2018\n",
      "\n",
      "JULY 25, 2018\n",
      "\n",
      "JULY 19, 2018\n",
      "\n",
      "JULY 17, 2018\n",
      "\n",
      "JULY 12, 2018\n",
      "\n",
      "JULY 12, 2018\n",
      "\n",
      "JULY 10, 2018\n",
      "\n",
      "JULY 6, 2018\n",
      "\n",
      "JULY 3, 2018\n",
      "\n",
      "JUNE 26, 2018\n",
      "\n",
      "JUNE 22, 2018\n",
      "\n",
      "JUNE 21, 2018\n",
      "\n",
      "JUNE 19, 2018\n",
      "\n",
      "JUNE 14, 2018\n",
      "\n",
      "JUNE 12, 2018\n",
      "\n",
      "JUNE 7, 2018\n",
      "\n",
      "JUNE 6, 2018\n",
      "\n",
      "JUNE 5, 2018\n",
      "\n"
     ]
    }
   ],
   "source": [
    "photos_date_back = pickle.load( open( \"therealkiyosaki_posts_date.json\", \"rb\" ) )\n",
    "for date in photos_date_back:\n",
    "    print(date)\n",
    "    print()"
   ]
  },
  {
   "cell_type": "markdown",
   "metadata": {},
   "source": [
    "### Installation du module pymongo afin de transférer les données sur mondoDB"
   ]
  },
  {
   "cell_type": "markdown",
   "metadata": {},
   "source": [
    "Si pymongo n'est pas encore installé"
   ]
  },
  {
   "cell_type": "code",
   "execution_count": null,
   "metadata": {},
   "outputs": [],
   "source": [
    "#!pip install --upgrade pip"
   ]
  },
  {
   "cell_type": "code",
   "execution_count": null,
   "metadata": {
    "scrolled": true
   },
   "outputs": [],
   "source": [
    "#!pip install mongo[srv] dnspython"
   ]
  },
  {
   "cell_type": "markdown",
   "metadata": {},
   "source": [
    "Si pymongo est déjà installé"
   ]
  },
  {
   "cell_type": "code",
   "execution_count": 2,
   "metadata": {},
   "outputs": [],
   "source": [
    "import pymongo"
   ]
  },
  {
   "cell_type": "code",
   "execution_count": 3,
   "metadata": {},
   "outputs": [],
   "source": [
    "from pymongo import MongoClient"
   ]
  },
  {
   "cell_type": "markdown",
   "metadata": {},
   "source": [
    "### Connexion à la base de donnée mongo et stokages des données dans les collections appropriées"
   ]
  },
  {
   "cell_type": "code",
   "execution_count": 24,
   "metadata": {},
   "outputs": [],
   "source": [
    "# \n",
    "cluster = pymongo.MongoClient((\"mongodb+srv://{}:{}@{}.sxp4c.azure.mongodb.net/{}?retryWrites=true&w=majority\").format(user, psw, cluster, database))"
   ]
  },
  {
   "cell_type": "code",
   "execution_count": 25,
   "metadata": {},
   "outputs": [],
   "source": [
    "db = cluster[\"{}\".format(database)]"
   ]
  },
  {
   "cell_type": "code",
   "execution_count": 26,
   "metadata": {},
   "outputs": [],
   "source": [
    "Instagram_user_posts = db[\"user_posts_comments\"]"
   ]
  },
  {
   "cell_type": "code",
   "execution_count": 27,
   "metadata": {},
   "outputs": [],
   "source": [
    "# transfert des données dans la collection user_posts_comments\n",
    "for photo_indice, photo_comments in enumerate(photos_comments_back):\n",
    "    \n",
    "    #print(indice, photo_url)\n",
    "    #print()\n",
    "    post = {\"_id\":photo_indice, \"photo_comments\":str(photo_comments)}\n",
    "    Instagram_user_posts.insert_one(post)\n",
    "    "
   ]
  },
  {
   "cell_type": "code",
   "execution_count": 28,
   "metadata": {},
   "outputs": [],
   "source": [
    "Instagram_user_posts_image_collection = db[\"user_posts_image\"]"
   ]
  },
  {
   "cell_type": "code",
   "execution_count": 29,
   "metadata": {},
   "outputs": [],
   "source": [
    "# transfert des données dans la collection user_posts_image\n",
    "for indice, photo_url in enumerate(bot.photos_url):\n",
    "    \n",
    "    #print(indice, photo_url)\n",
    "    #print()\n",
    "    post = {\"_id\":indice, \"photo_url\":str(photo_url)}\n",
    "    Instagram_user_posts_image_collection.insert_one(post)\n",
    "    "
   ]
  },
  {
   "cell_type": "code",
   "execution_count": 30,
   "metadata": {},
   "outputs": [],
   "source": [
    "Instagram_user_posts_date_collection = db[\"user_posts_date\"]"
   ]
  },
  {
   "cell_type": "code",
   "execution_count": 31,
   "metadata": {},
   "outputs": [],
   "source": [
    "# transfert des données dans la collection user_posts_date\n",
    "for indice, photo_date in enumerate(photos_date_back):\n",
    "    \n",
    "    #print(indice, photo_url)\n",
    "    #print()\n",
    "    post = {\"_id\":indice, \"photo_date\":str(photo_date)}\n",
    "    Instagram_user_posts_date_collection.insert_one(post)\n",
    "    "
   ]
  },
  {
   "cell_type": "markdown",
   "metadata": {},
   "source": [
    "---"
   ]
  },
  {
   "cell_type": "markdown",
   "metadata": {},
   "source": [
    "### Pour recupérer les données stockées"
   ]
  },
  {
   "cell_type": "code",
   "execution_count": 4,
   "metadata": {},
   "outputs": [],
   "source": [
    "#Connexion à une base de donnée mongo\n",
    "clustertest = pymongo.MongoClient((\"mongodb+srv://{}:{}@{}.sxp4c.azure.mongodb.net/{}?retryWrites=true&w=majority\").format(user1, psw1, cluster, database))"
   ]
  },
  {
   "cell_type": "code",
   "execution_count": 5,
   "metadata": {},
   "outputs": [],
   "source": [
    "#Création d'une instance da la base de donnée\n",
    "dbtest = clustertest[\"{}\".format(database)]"
   ]
  },
  {
   "cell_type": "code",
   "execution_count": 6,
   "metadata": {},
   "outputs": [],
   "source": [
    "#Création d'une instance da la collection 'user_posts_date' contenue dans la base donnée\n",
    "collection1 = dbtest[\"user_posts_date\"]"
   ]
  },
  {
   "cell_type": "code",
   "execution_count": 7,
   "metadata": {},
   "outputs": [],
   "source": [
    "posts_date = collection1.find({})"
   ]
  },
  {
   "cell_type": "code",
   "execution_count": 8,
   "metadata": {},
   "outputs": [
    {
     "name": "stdout",
     "output_type": "stream",
     "text": [
      "{'_id': 0, 'photo_date': 'SEPTEMBER 26, 2018'}\n",
      "\n",
      "{'_id': 1, 'photo_date': 'SEPTEMBER 22, 2018'}\n",
      "\n",
      "{'_id': 2, 'photo_date': 'SEPTEMBER 14, 2018'}\n",
      "\n",
      "{'_id': 3, 'photo_date': 'SEPTEMBER 13, 2018'}\n",
      "\n",
      "{'_id': 4, 'photo_date': 'SEPTEMBER 6, 2018'}\n",
      "\n",
      "{'_id': 5, 'photo_date': 'AUGUST 31, 2018'}\n",
      "\n",
      "{'_id': 6, 'photo_date': 'AUGUST 31, 2018'}\n",
      "\n",
      "{'_id': 7, 'photo_date': 'AUGUST 28, 2018'}\n",
      "\n",
      "{'_id': 8, 'photo_date': 'AUGUST 25, 2018'}\n",
      "\n",
      "{'_id': 9, 'photo_date': 'AUGUST 24, 2018'}\n",
      "\n",
      "{'_id': 10, 'photo_date': 'AUGUST 23, 2018'}\n",
      "\n",
      "{'_id': 11, 'photo_date': 'AUGUST 22, 2018'}\n",
      "\n",
      "{'_id': 12, 'photo_date': 'AUGUST 21, 2018'}\n",
      "\n",
      "{'_id': 13, 'photo_date': 'AUGUST 17, 2018'}\n",
      "\n",
      "{'_id': 14, 'photo_date': 'AUGUST 16, 2018'}\n",
      "\n",
      "{'_id': 15, 'photo_date': 'AUGUST 15, 2018'}\n",
      "\n",
      "{'_id': 16, 'photo_date': 'AUGUST 10, 2018'}\n",
      "\n",
      "{'_id': 17, 'photo_date': 'AUGUST 8, 2018'}\n",
      "\n",
      "{'_id': 18, 'photo_date': 'AUGUST 7, 2018'}\n",
      "\n",
      "{'_id': 19, 'photo_date': 'AUGUST 7, 2018'}\n",
      "\n",
      "{'_id': 20, 'photo_date': 'AUGUST 5, 2018'}\n",
      "\n",
      "{'_id': 21, 'photo_date': 'AUGUST 3, 2018'}\n",
      "\n",
      "{'_id': 22, 'photo_date': 'AUGUST 2, 2018'}\n",
      "\n",
      "{'_id': 23, 'photo_date': 'AUGUST 1, 2018'}\n",
      "\n",
      "{'_id': 24, 'photo_date': 'JULY 30, 2018'}\n",
      "\n",
      "{'_id': 25, 'photo_date': 'JULY 25, 2018'}\n",
      "\n",
      "{'_id': 26, 'photo_date': 'JULY 19, 2018'}\n",
      "\n",
      "{'_id': 27, 'photo_date': 'JULY 17, 2018'}\n",
      "\n",
      "{'_id': 28, 'photo_date': 'JULY 12, 2018'}\n",
      "\n",
      "{'_id': 29, 'photo_date': 'JULY 12, 2018'}\n",
      "\n",
      "{'_id': 30, 'photo_date': 'JULY 10, 2018'}\n",
      "\n",
      "{'_id': 31, 'photo_date': 'JULY 6, 2018'}\n",
      "\n",
      "{'_id': 32, 'photo_date': 'JULY 3, 2018'}\n",
      "\n",
      "{'_id': 33, 'photo_date': 'JUNE 26, 2018'}\n",
      "\n",
      "{'_id': 34, 'photo_date': 'JUNE 22, 2018'}\n",
      "\n",
      "{'_id': 35, 'photo_date': 'JUNE 21, 2018'}\n",
      "\n",
      "{'_id': 36, 'photo_date': 'JUNE 19, 2018'}\n",
      "\n",
      "{'_id': 37, 'photo_date': 'JUNE 14, 2018'}\n",
      "\n",
      "{'_id': 38, 'photo_date': 'JUNE 12, 2018'}\n",
      "\n",
      "{'_id': 39, 'photo_date': 'JUNE 7, 2018'}\n",
      "\n",
      "{'_id': 40, 'photo_date': 'JUNE 6, 2018'}\n",
      "\n",
      "{'_id': 41, 'photo_date': 'JUNE 5, 2018'}\n",
      "\n"
     ]
    }
   ],
   "source": [
    "for date in posts_date:\n",
    "    print(date)\n",
    "    print()"
   ]
  },
  {
   "cell_type": "code",
   "execution_count": 9,
   "metadata": {},
   "outputs": [],
   "source": [
    "#Création d'une instance da la collection 'user_posts_image' contenue dans la base donnée\n",
    "collection2 = dbtest[\"user_posts_image\"]"
   ]
  },
  {
   "cell_type": "code",
   "execution_count": 10,
   "metadata": {},
   "outputs": [],
   "source": [
    "posts_image = collection2.find({})"
   ]
  },
  {
   "cell_type": "code",
   "execution_count": 11,
   "metadata": {},
   "outputs": [
    {
     "name": "stdout",
     "output_type": "stream",
     "text": [
      "{'_id': 0, 'photo_url': 'https://scontent-cdg2-1.cdninstagram.com/v/t51.2885-15/e35/42003209_302196197258980_3508299274826643327_n.jpg?_nc_ht=scontent-cdg2-1.cdninstagram.com&_nc_cat=104&_nc_ohc=nmQc0I79pg8AX_Ts8vK&oh=6e5b97dcd0a93b882ee176a79b5d100c&oe=5F7D7595'}\n",
      "\n",
      "{'_id': 1, 'photo_url': 'https://scontent-cdg2-1.cdninstagram.com/v/t51.2885-15/sh0.08/e35/c76.0.787.787a/s640x640/116911035_967140157032047_7914916655050722504_n.jpg?_nc_ht=scontent-cdg2-1.cdninstagram.com&_nc_cat=111&_nc_ohc=6pvZoDdTBeYAX9YC9ol&oh=483b592ea0ccdb1ca833a47e96a8fe94&oe=5F800461'}\n",
      "\n",
      "{'_id': 2, 'photo_url': 'https://scontent-cdt1-1.cdninstagram.com/v/t51.2885-15/e35/41087688_2004723006484333_5674136496345101942_n.jpg?_nc_ht=scontent-cdt1-1.cdninstagram.com&_nc_cat=101&_nc_ohc=PMv1ZLFIyKIAX8T8rBs&oh=d02c87deb9eca02e694fd02df8bde1d7&oe=5F7F3C5C'}\n",
      "\n",
      "{'_id': 3, 'photo_url': 'https://scontent-cdg2-1.cdninstagram.com/v/t51.2885-15/e35/40465564_2246536725421783_3893561709636856676_n.jpg?_nc_ht=scontent-cdg2-1.cdninstagram.com&_nc_cat=107&_nc_ohc=R-RFE_83VR4AX-XqbKf&oh=293a8336b9491e303b015a7170120469&oe=5F7C8F20'}\n",
      "\n",
      "{'_id': 4, 'photo_url': 'https://scontent-cdg2-1.cdninstagram.com/v/t51.2885-15/e35/40495014_1770691109693848_4712810835470619751_n.jpg?_nc_ht=scontent-cdg2-1.cdninstagram.com&_nc_cat=104&_nc_ohc=0Ll-mREaQWUAX8Rt3UQ&oh=f9c46275d155ea215bec7134161bc2ef&oe=5F7FCBC6'}\n",
      "\n",
      "{'_id': 5, 'photo_url': 'https://scontent-cdt1-1.cdninstagram.com/v/t51.2885-15/e35/40022160_1986978598036597_6304375721187868672_n.jpg?_nc_ht=scontent-cdt1-1.cdninstagram.com&_nc_cat=101&_nc_ohc=pAQgNOxrHvQAX8fJbp3&oh=3df1900bb3a979607e1df778e70c6ad0&oe=5F7F7976'}\n",
      "\n",
      "{'_id': 6, 'photo_url': 'https://scontent-cdg2-1.cdninstagram.com/v/t51.2885-15/e35/40023790_454974285012700_1318941829051187200_n.jpg?_nc_ht=scontent-cdg2-1.cdninstagram.com&_nc_cat=104&_nc_ohc=jvPU1jsimUgAX8YLImA&oh=598b8e0ab3094a14661e24b1a789b8b0&oe=5F7DE665'}\n",
      "\n",
      "{'_id': 7, 'photo_url': 'https://scontent-cdg2-1.cdninstagram.com/v/t51.2885-15/e35/39327527_322864295128399_6916757127528710144_n.jpg?_nc_ht=scontent-cdg2-1.cdninstagram.com&_nc_cat=107&_nc_ohc=dIkX52Gx4AsAX9uJ5sz&oh=d36f8bdde2ac53c38f248453d9a8a946&oe=5F7DF85B'}\n",
      "\n",
      "{'_id': 8, 'photo_url': 'https://scontent-cdt1-1.cdninstagram.com/v/t51.2885-15/e35/37899039_978890085626950_3745291437223182336_n.jpg?_nc_ht=scontent-cdt1-1.cdninstagram.com&_nc_cat=110&_nc_ohc=94zOFhP4ELgAX8cTOq3&oh=17a3d8da3e39acabbe2f45643f216f2c&oe=5F7FF275'}\n",
      "\n",
      "{'_id': 9, 'photo_url': 'https://scontent-cdg2-1.cdninstagram.com/v/t51.2885-15/e35/39231941_2179295369019268_8813752467440271360_n.jpg?_nc_ht=scontent-cdg2-1.cdninstagram.com&_nc_cat=104&_nc_ohc=e7rbA2gAoAQAX8uKmfz&oh=c4186fdc85d63d6ed6a7afc99781f040&oe=5F7EC10E'}\n",
      "\n",
      "{'_id': 10, 'photo_url': 'https://scontent-cdg2-1.cdninstagram.com/v/t51.2885-15/e35/39304320_632214107177959_8131509011393544192_n.jpg?_nc_ht=scontent-cdg2-1.cdninstagram.com&_nc_cat=107&_nc_ohc=N5PmzQl-kegAX-4U0YS&oh=4c0d0cd61e16c42c123c323df99771f5&oe=5F7EDAE3'}\n",
      "\n",
      "{'_id': 11, 'photo_url': 'https://scontent-cdg2-1.cdninstagram.com/v/t51.2885-15/e35/39156991_307982836641247_1086763937208205312_n.jpg?_nc_ht=scontent-cdg2-1.cdninstagram.com&_nc_cat=107&_nc_ohc=lypLNRaq6f4AX_ITuJs&oh=e1327589cce26894f945cc114d562432&oe=5F7D40C2'}\n",
      "\n",
      "{'_id': 12, 'photo_url': 'https://scontent-cdg2-1.cdninstagram.com/v/t51.2885-15/e35/39509247_919738321567845_6858758756746919936_n.jpg?_nc_ht=scontent-cdg2-1.cdninstagram.com&_nc_cat=109&_nc_ohc=MRBavZ42ugcAX9TGsfq&oh=0b416b6e5dc4bc4500279f5e2e351959&oe=5F7D71A2'}\n",
      "\n",
      "{'_id': 13, 'photo_url': 'https://scontent-cdt1-1.cdninstagram.com/v/t51.2885-15/e35/38502233_369069980297763_5253328263861764096_n.jpg?_nc_ht=scontent-cdt1-1.cdninstagram.com&_nc_cat=103&_nc_ohc=CliJPw_eLXIAX-y5aFA&oh=ad077156a9f6c223396a454de6ff7966&oe=5F7FB785'}\n",
      "\n",
      "{'_id': 14, 'photo_url': 'https://scontent-cdg2-1.cdninstagram.com/v/t51.2885-15/e35/38729207_908947442629094_5692174815142608896_n.jpg?_nc_ht=scontent-cdg2-1.cdninstagram.com&_nc_cat=102&_nc_ohc=dTh1UG7vw9EAX_srUj9&oh=3bb02e9aaf61f159c744a053b7cc203c&oe=5F7CDCC5'}\n",
      "\n",
      "{'_id': 15, 'photo_url': 'https://scontent-cdg2-1.cdninstagram.com/v/t51.2885-15/e35/38147625_2223234821233919_1957650165145796608_n.jpg?_nc_ht=scontent-cdg2-1.cdninstagram.com&_nc_cat=111&_nc_ohc=hcBsUSWOxxAAX9aQV1e&oh=40b065ac2db5223cda163e8cd3427781&oe=5F7E96AE'}\n",
      "\n",
      "{'_id': 16, 'photo_url': 'https://scontent-cdt1-1.cdninstagram.com/v/t51.2885-15/e35/37963410_2208883946029530_3158774890874535936_n.jpg?_nc_ht=scontent-cdt1-1.cdninstagram.com&_nc_cat=106&_nc_ohc=xXdGspyDjgMAX8fb20r&oh=37b706ee5be2376f0065e7a7da15c2e9&oe=5F7EF6CF'}\n",
      "\n",
      "{'_id': 17, 'photo_url': 'https://scontent-cdg2-1.cdninstagram.com/v/t51.2885-15/e35/38236160_1050419098498053_7438733127305920512_n.jpg?_nc_ht=scontent-cdg2-1.cdninstagram.com&_nc_cat=109&_nc_ohc=4NbS48lRJdEAX_H9z2W&oh=7987fa9ed115e65069ae7a11378a7a25&oe=5F7E87AD'}\n",
      "\n",
      "{'_id': 18, 'photo_url': 'https://scontent-cdg2-1.cdninstagram.com/v/t51.2885-15/e35/37769169_1025347517638583_7874140002488156160_n.jpg?_nc_ht=scontent-cdg2-1.cdninstagram.com&_nc_cat=111&_nc_ohc=QfXZQX00ImsAX-rMp-q&oh=6d44a5488cc708fe40986e817d7d1b18&oe=5F7F5C5C'}\n",
      "\n",
      "{'_id': 19, 'photo_url': 'https://scontent-cdg2-1.cdninstagram.com/v/t51.2885-15/e35/37999384_242117476423766_6417510292250427392_n.jpg?_nc_ht=scontent-cdg2-1.cdninstagram.com&_nc_cat=102&_nc_ohc=SMPfK4uj58YAX_2WXyw&oh=5e812ff2e3997b37bae225850b25c7a1&oe=5F7DA05F'}\n",
      "\n",
      "{'_id': 20, 'photo_url': 'https://scontent-cdg2-1.cdninstagram.com/v/t51.2885-15/e35/37883774_687671378275860_413395988128989184_n.jpg?_nc_ht=scontent-cdg2-1.cdninstagram.com&_nc_cat=100&_nc_ohc=oGT9ab0mLGcAX_Sndk9&oh=96aa83fb93854c82d0c5696a88f8580e&oe=5F7ED0E0'}\n",
      "\n",
      "{'_id': 21, 'photo_url': 'https://scontent-cdg2-1.cdninstagram.com/v/t51.2885-15/e35/37226228_1019703868203456_4725244708920492032_n.jpg?_nc_ht=scontent-cdg2-1.cdninstagram.com&_nc_cat=100&_nc_ohc=c1jXMI3btE8AX_J5G6J&oh=81ce8aac85cd9af5592c796c0be68cfb&oe=5F7F2748'}\n",
      "\n",
      "{'_id': 22, 'photo_url': 'https://scontent-cdg2-1.cdninstagram.com/v/t51.2885-15/e35/37675232_260368491234206_7473239066360676352_n.jpg?_nc_ht=scontent-cdg2-1.cdninstagram.com&_nc_cat=102&_nc_ohc=BRmBxnOJZygAX9m_cip&oh=038e8b00837701a663a0adece518b8f2&oe=5F7F8C6C'}\n",
      "\n",
      "{'_id': 23, 'photo_url': 'https://scontent-cdg2-1.cdninstagram.com/v/t51.2885-15/e35/37368379_260293204768065_7207718334081531904_n.jpg?_nc_ht=scontent-cdg2-1.cdninstagram.com&_nc_cat=109&_nc_ohc=7_2PCmiym2YAX9sdNmg&oh=1081aefb671403e299a61d5ba7efa293&oe=5F7FD129'}\n",
      "\n",
      "{'_id': 24, 'photo_url': 'https://scontent-cdt1-1.cdninstagram.com/v/t51.2885-15/e35/37944743_500505577038241_5195208087807459328_n.jpg?_nc_ht=scontent-cdt1-1.cdninstagram.com&_nc_cat=101&_nc_ohc=nBdvmf7usWwAX8MLXZU&oh=39d38bf34bf71ec2575ec38ee597c9b6&oe=5F806608'}\n",
      "\n",
      "{'_id': 25, 'photo_url': 'https://scontent-cdt1-1.cdninstagram.com/v/t51.2885-15/e35/37038147_258667554922587_7007069728439009280_n.jpg?_nc_ht=scontent-cdt1-1.cdninstagram.com&_nc_cat=103&_nc_ohc=4-LyqZuUqBwAX_Qg_7X&oh=041df51dd3fd5d72f0be4a6839d51031&oe=5F7DEC6C'}\n",
      "\n",
      "{'_id': 26, 'photo_url': 'https://scontent-cdg2-1.cdninstagram.com/v/t51.2885-15/e35/36980879_406478123195277_6484764403454443520_n.jpg?_nc_ht=scontent-cdg2-1.cdninstagram.com&_nc_cat=109&_nc_ohc=1nXkUbV4TgIAX8RA5Nx&oh=cdfb70bcce99ca8b4b8965730792f0f2&oe=5F7FC6B7'}\n",
      "\n",
      "{'_id': 27, 'photo_url': 'https://scontent-cdg2-1.cdninstagram.com/v/t51.2885-15/e35/36805384_487548991684519_2156702056566489088_n.jpg?_nc_ht=scontent-cdg2-1.cdninstagram.com&_nc_cat=107&_nc_ohc=7fVqch7rN6IAX_cOo8l&oh=db809d73a88b1aa0a386dbdd2b2984ef&oe=5F7E6B9F'}\n",
      "\n",
      "{'_id': 28, 'photo_url': 'https://scontent-cdg2-1.cdninstagram.com/v/t51.2885-15/e35/36859997_1731203660310044_2556134461771087872_n.jpg?_nc_ht=scontent-cdg2-1.cdninstagram.com&_nc_cat=108&_nc_ohc=xrZr5dEXhrwAX_0TGFC&oh=c5986eb6f90ae9eb0847b16be94007a4&oe=5F7EA726'}\n",
      "\n",
      "{'_id': 29, 'photo_url': 'https://scontent-cdg2-1.cdninstagram.com/v/t51.2885-15/e35/36660446_482334318864839_2964001903572156416_n.jpg?_nc_ht=scontent-cdg2-1.cdninstagram.com&_nc_cat=111&_nc_ohc=5mXpM0bB56gAX_R6Lxt&oh=373ea91ad7c130eee1d187d54fa2df79&oe=5F7ECFBA'}\n",
      "\n",
      "{'_id': 30, 'photo_url': 'https://scontent-cdg2-1.cdninstagram.com/v/t51.2885-15/e35/36149554_2255102491442824_1290414093630439424_n.jpg?_nc_ht=scontent-cdg2-1.cdninstagram.com&_nc_cat=104&_nc_ohc=yCCt5wZVykkAX_CXywD&oh=abad575204ed0e1238bd7f1abbcee5b4&oe=5F7CC854'}\n",
      "\n",
      "{'_id': 31, 'photo_url': 'https://scontent-cdt1-1.cdninstagram.com/v/t51.2885-15/e35/36605804_254687602006362_2788514178422276096_n.jpg?_nc_ht=scontent-cdt1-1.cdninstagram.com&_nc_cat=106&_nc_ohc=O49bM7ZRuxkAX_MYrPa&oh=cd1552a35368594126617afb8934bbf0&oe=5F7FA0BE'}\n",
      "\n",
      "{'_id': 32, 'photo_url': 'https://scontent-cdg2-1.cdninstagram.com/v/t51.2885-15/e35/36085075_187590921932384_5983083137763115008_n.jpg?_nc_ht=scontent-cdg2-1.cdninstagram.com&_nc_cat=108&_nc_ohc=LIenpZP6NbEAX-N0fZn&oh=55c8fbae1163be352d9307cd525689e4&oe=5F7D19C2'}\n",
      "\n",
      "{'_id': 33, 'photo_url': 'https://scontent-cdg2-1.cdninstagram.com/v/t51.2885-15/e35/35291882_1729718680445224_1059169936267542528_n.jpg?_nc_ht=scontent-cdg2-1.cdninstagram.com&_nc_cat=104&_nc_ohc=xArfScdfJaIAX-5rueE&oh=cad82224ee850c39a192e42e8b262d99&oe=5F7C9117'}\n",
      "\n",
      "{'_id': 34, 'photo_url': 'https://scontent-cdg2-1.cdninstagram.com/v/t51.2885-15/sh0.08/e35/c76.0.787.787a/s640x640/116911035_967140157032047_7914916655050722504_n.jpg?_nc_ht=scontent-cdg2-1.cdninstagram.com&_nc_cat=111&_nc_ohc=6pvZoDdTBeYAX9YC9ol&oh=483b592ea0ccdb1ca833a47e96a8fe94&oe=5F800461'}\n",
      "\n",
      "{'_id': 35, 'photo_url': 'https://scontent-cdg2-1.cdninstagram.com/v/t51.2885-15/e35/35459289_630394760659615_9110811896193220608_n.jpg?_nc_ht=scontent-cdg2-1.cdninstagram.com&_nc_cat=107&_nc_ohc=imE8H6CldecAX-1oKGz&oh=e9e093f8f24a52d98231da9b1eae5e2e&oe=5F7D31C4'}\n",
      "\n",
      "{'_id': 36, 'photo_url': 'https://scontent-cdt1-1.cdninstagram.com/v/t51.2885-15/e35/35575950_161896901344825_6242852539465728000_n.jpg?_nc_ht=scontent-cdt1-1.cdninstagram.com&_nc_cat=101&_nc_ohc=ODeKrEgCqqoAX-7JqKb&oh=f90fab1750b704bc112b258e430459f7&oe=5F7E21D1'}\n",
      "\n",
      "{'_id': 37, 'photo_url': 'https://scontent-cdg2-1.cdninstagram.com/v/t51.2885-15/e35/33689164_206439703309692_3517664930813706240_n.jpg?_nc_ht=scontent-cdg2-1.cdninstagram.com&_nc_cat=100&_nc_ohc=xOLJQqktPvYAX9wHo4b&oh=24b3aecc1ed1b4aa4d51ba0fc58792f1&oe=5F7E0BC1'}\n",
      "\n",
      "{'_id': 38, 'photo_url': 'https://scontent-cdt1-1.cdninstagram.com/v/t51.2885-15/e35/34077407_1010052019163473_647007123443548160_n.jpg?_nc_ht=scontent-cdt1-1.cdninstagram.com&_nc_cat=101&_nc_ohc=RYo4cg0ImJsAX94g4bj&oh=5a087184f6f014a35b250f1096d2d595&oe=5F7F547A'}\n",
      "\n",
      "{'_id': 39, 'photo_url': 'https://scontent-cdt1-1.cdninstagram.com/v/t51.2885-15/e35/34168344_172660733408377_971867119589261312_n.jpg?_nc_ht=scontent-cdt1-1.cdninstagram.com&_nc_cat=101&_nc_ohc=eMda8JJ0vpwAX8xO4v_&oh=95973188b96f477b9929763e231fe3c0&oe=5F7F4136'}\n",
      "\n",
      "{'_id': 40, 'photo_url': 'https://scontent-cdt1-1.cdninstagram.com/v/t51.2885-15/e35/33793077_2212997008928091_2548518131840581632_n.jpg?_nc_ht=scontent-cdt1-1.cdninstagram.com&_nc_cat=103&_nc_ohc=MueIqOQUStkAX9X4lkx&oh=344739fd14a224ec7774a772b3ede5f5&oe=5F7FE9E0'}\n",
      "\n",
      "{'_id': 41, 'photo_url': 'https://scontent-cdg2-1.cdninstagram.com/v/t51.2885-15/e35/34409118_1858201887816480_6010886810417233920_n.jpg?_nc_ht=scontent-cdg2-1.cdninstagram.com&_nc_cat=100&_nc_ohc=pyfYMsFqul4AX_Qv0Su&oh=826d9407f66a5bf36eb02021e16ec9a7&oe=5F7E652E'}\n",
      "\n"
     ]
    }
   ],
   "source": [
    "for image in posts_image:\n",
    "    print(image)\n",
    "    print()"
   ]
  },
  {
   "cell_type": "code",
   "execution_count": 12,
   "metadata": {},
   "outputs": [],
   "source": [
    "#Création d'une instance da la collection 'user_posts_comments' contenue dans la base donnée\n",
    "collection3 = dbtest[\"user_posts_comments\"]"
   ]
  },
  {
   "cell_type": "code",
   "execution_count": 13,
   "metadata": {},
   "outputs": [],
   "source": [
    "posts_comments = collection3.find({})"
   ]
  },
  {
   "cell_type": "code",
   "execution_count": 14,
   "metadata": {
    "scrolled": false
   },
   "outputs": [
    {
     "name": "stdout",
     "output_type": "stream",
     "text": [
      "{'_id': 0, 'photo_comments': \"['therealkiyosaki', 'Verified', '•', '9,825', 'therealkiyosaki', 'Verified', 'Here are four tips my rich dad taught me about budgeting to becoming rich: Click the link in my bio.', 'altechzilla', '✌🏽', 'flower.stav', 'Пусть и в комментах растут цветы 🌹🌹🌹😄', 'dilsunthedesignstudio', 'Dear sir. ..your book rich dad poor dad is extremely amazing book I have ever read...after going through your book I have realised that how important is to invest in good books. Also please advise which book shall I go ahead of urs regarding keeping myself highly motivated. Thanks', 'farjoud_shokouhi', '@therealkiyosaki hi robert , i want to invite you to viste IRAN as my guest 🤗😍🌺🌹', 'kevinescobartiburon', '🔥', 'andi__geiger', 'Rich Dad Poor Dad should be read at school! 👨🏻\\\\u200d🏫😀', 'fernandolaia.triunfo', 'Gosto de bons posts como esse seu !', 'sascha.63', 'Starker Post! Und auch deine restliche Seite sieht echt gut aus 💪', 'juanluengasofficial', 'Outstanding one!', 'elias.mma_', 'Hola , me encanta su contenido, muchos exitos. 🚀🚀', 'katekitty777', 'Very sweet :)', 'brunoheofficial', '💯👏 @therealkiyosaki', 'Search', 'LANGUAGE\\\\nAfrikaans\\\\nČeština\\\\nDansk\\\\nDeutsch\\\\nΕλληνικά\\\\nEnglish\\\\nEspañol (España)\\\\nEspañol\\\\nSuomi\\\\nFrançais\\\\nBahasa Indonesia\\\\nItaliano\\\\n日本語\\\\n한국어\\\\nBahasa Melayu\\\\nNorsk\\\\nNederlands\\\\nPolski\\\\nPortuguês (Brasil)\\\\nPortuguês (Portugal)\\\\nРусский\\\\nSvenska\\\\nภาษาไทย\\\\nFilipino\\\\nTürkçe\\\\n中文(简体)\\\\n中文(台灣)\\\\nবাংলা\\\\nગુજરાતી\\\\nहिन्दी\\\\nHrvatski\\\\nMagyar\\\\nಕನ್ನಡ\\\\nമലയാളം\\\\nमराठी\\\\nनेपाली\\\\nਪੰਜਾਬੀ\\\\nසිංහල\\\\nSlovenčina\\\\nதமிழ்\\\\nతెలుగు\\\\nTiếng Việt\\\\n中文(香港)\\\\nБългарски\\\\nFrançais (Canada)\\\\nRomână\\\\nСрпски\\\\nУкраїнська', '© 2020 INSTAGRAM FROM FACEBOOK']\"}\n",
      "\n",
      "{'_id': 1, 'photo_comments': '[\\'therealkiyosaki\\', \\'Verified\\', \\'•\\', \\'65,766 views\\', \\'65,766\\', \\'therealkiyosaki\\', \\'Verified\\', \\'Click the link in my bio to read my newest chapter & submit the questions you have for me! -Understanding how money is printed offers you a better chance of doing well, in a world of fake money.\\', \\'10dermoments27\\', \"I\\'ve just seen this clip and couldn\\'t agree with you more 👏👏👏There are so many of them who entice you with a FREE supposed one day training (WHICH ends up teaching you nothing) and then go on to ask you to pay thousands for some so called elite training. They\\'re nothing but #conartist WHO GIVE YOU A BAD NAME 😖\", \\'bintangphotostory\\', \\'great pict 😍\\', \\'cg__media\\', \\'Schön schön. Mach weiter so 💠💪\\', \\'82dreadheadhippie\\', \\'@101moneymaker\\', \\'maryam.fun.kurd\\', \\'👍👌👏👏👏\\', \\'nail_istanbul_brilliant\\', \\'Я очень хочу эту книгу на русском языке\\', \\'velezerikaalexandra\\', \\'😘😘😘😘\\', \\'rakhmonov_nozim_offiical\\', \\'Best of the best motivator throughout the workd\\', \\'rakhmonov_nozim_offiical\\', \\'World\\', \\'brunoheofficial\\', \\'💯👏 @therealkiyosaki\\', \\'abdelilahelharrad\\', \\'🍷🍷💜💜💜💚💚🌷\\', \\'dnyaneshwar7nanu\\', \\'wha.t this book all about\\', \\'Search\\', \\'LANGUAGE\\\\nAfrikaans\\\\nČeština\\\\nDansk\\\\nDeutsch\\\\nΕλληνικά\\\\nEnglish\\\\nEspañol (España)\\\\nEspañol\\\\nSuomi\\\\nFrançais\\\\nBahasa Indonesia\\\\nItaliano\\\\n日本語\\\\n한국어\\\\nBahasa Melayu\\\\nNorsk\\\\nNederlands\\\\nPolski\\\\nPortuguês (Brasil)\\\\nPortuguês (Portugal)\\\\nРусский\\\\nSvenska\\\\nภาษาไทย\\\\nFilipino\\\\nTürkçe\\\\n中文(简体)\\\\n中文(台灣)\\\\nবাংলা\\\\nગુજરાતી\\\\nहिन्दी\\\\nHrvatski\\\\nMagyar\\\\nಕನ್ನಡ\\\\nമലയാളം\\\\nमराठी\\\\nनेपाली\\\\nਪੰਜਾਬੀ\\\\nසිංහල\\\\nSlovenčina\\\\nதமிழ்\\\\nతెలుగు\\\\nTiếng Việt\\\\n中文(香港)\\\\nБългарски\\\\nFrançais (Canada)\\\\nRomână\\\\nСрпски\\\\nУкраїнська\\', \\'© 2020 INSTAGRAM FROM FACEBOOK\\']'}\n",
      "\n",
      "{'_id': 2, 'photo_comments': \"['therealkiyosaki', 'Verified', '•', '15,208', 'therealkiyosaki', 'Verified', 'Old friend Sollie Goosen who\\\\nplayed for Spring Boks and got me into the organization.', 'thecrxwnfitsme', '❣️', 'alejandramoreno.1', '🔥🔥', 'kashkabaevberdibek', 'Hello guys. I am from kyrgystan. Live in poor famely', 'rogersnipes', 'Verified', '🙌🏾', 'popular.wolf', 'It’s time to bring your neat and confident version out in the world. Inviting you to join a highly engaging and confident community. 💯 Let’s evolve and empower!', 'matteo_rvln', '👍👍👍👍', 'brathaygroup', '👌🏼👌🏼', 'clarkehanna', '🙌🙌🙌', 'portal2freedom', 'Bokke ! 🙌🔥', 'rev_baruch', 'Would love to meet up with you one day. My dream person. If ever you are in South africa please invit me @therealkiyosaki', 'deetrajones', 'The combination of what you do and who you know makes an unbreakable force in business and investments!', 'brunoheofficial', '💯👏 @therealkiyosaki', 'Search', 'LANGUAGE\\\\nAfrikaans\\\\nČeština\\\\nDansk\\\\nDeutsch\\\\nΕλληνικά\\\\nEnglish\\\\nEspañol (España)\\\\nEspañol\\\\nSuomi\\\\nFrançais\\\\nBahasa Indonesia\\\\nItaliano\\\\n日本語\\\\n한국어\\\\nBahasa Melayu\\\\nNorsk\\\\nNederlands\\\\nPolski\\\\nPortuguês (Brasil)\\\\nPortuguês (Portugal)\\\\nРусский\\\\nSvenska\\\\nภาษาไทย\\\\nFilipino\\\\nTürkçe\\\\n中文(简体)\\\\n中文(台灣)\\\\nবাংলা\\\\nગુજરાતી\\\\nहिन्दी\\\\nHrvatski\\\\nMagyar\\\\nಕನ್ನಡ\\\\nമലയാളം\\\\nमराठी\\\\nनेपाली\\\\nਪੰਜਾਬੀ\\\\nසිංහල\\\\nSlovenčina\\\\nதமிழ்\\\\nతెలుగు\\\\nTiếng Việt\\\\n中文(香港)\\\\nБългарски\\\\nFrançais (Canada)\\\\nRomână\\\\nСрпски\\\\nУкраїнська', '© 2020 INSTAGRAM FROM FACEBOOK']\"}\n",
      "\n",
      "{'_id': 3, 'photo_comments': \"['therealkiyosaki', 'Verified', '•', '6,424', 'therealkiyosaki', 'Verified', 'This is what made me realize Kim was the one since our very first date: Click the link in my bio to find out what it was', '_manuelmeyer_', 'richtig gutes bild ☝🏽', 'matteo_rvln', 'The road to success and the road to failure are almost exactly the same💥', 'sport_125ru', 'Robert💪💪💪😎', 'radikkasap09', 'Привет! Уверен, нам будет о чем пообщаться с тобой🌍', 'pinotnoir007', 'Waw', 'ngwaeje_', '@festo_mination Madini huyu mwanamke anayo na anakula kuku kwa mrija until last breath', 'ayermeek', 'Happy wife - happy life 😊', 'rumahmebelid', 'Salam kenal buat username', 'alyonashae_', '👍👍👍❤️❤️❤️', 'abdelilahelharrad', 'Bonne rire madame🍷🌷🌷🌷🌷 très jolie très belles familles', 'a_lady_of_lnfluence', 'Thats greatful', 'maggie_dm1', 'I was reading a book written by Kim and how I loved how she wanted to be her own boss. I love herr💜☺🔥🔥😍 #independentwomen', 'Search', 'LANGUAGE\\\\nAfrikaans\\\\nČeština\\\\nDansk\\\\nDeutsch\\\\nΕλληνικά\\\\nEnglish\\\\nEspañol (España)\\\\nEspañol\\\\nSuomi\\\\nFrançais\\\\nBahasa Indonesia\\\\nItaliano\\\\n日本語\\\\n한국어\\\\nBahasa Melayu\\\\nNorsk\\\\nNederlands\\\\nPolski\\\\nPortuguês (Brasil)\\\\nPortuguês (Portugal)\\\\nРусский\\\\nSvenska\\\\nภาษาไทย\\\\nFilipino\\\\nTürkçe\\\\n中文(简体)\\\\n中文(台灣)\\\\nবাংলা\\\\nગુજરાતી\\\\nहिन्दी\\\\nHrvatski\\\\nMagyar\\\\nಕನ್ನಡ\\\\nമലയാളം\\\\nमराठी\\\\nनेपाली\\\\nਪੰਜਾਬੀ\\\\nසිංහල\\\\nSlovenčina\\\\nதமிழ்\\\\nతెలుగు\\\\nTiếng Việt\\\\n中文(香港)\\\\nБългарски\\\\nFrançais (Canada)\\\\nRomână\\\\nСрпски\\\\nУкраїнська', '© 2020 INSTAGRAM FROM FACEBOOK']\"}\n",
      "\n",
      "{'_id': 4, 'photo_comments': \"['therealkiyosaki', 'Verified', '•', '8,464', 'therealkiyosaki', 'Verified', 'I’d say that this might make Clooney the smartest actor in the bunch: click the link in my bio to find out', 'genisson_pinheiro', 'Um dos melhores autores', 'tsedlikovski', 'Amazing Picture! Your Books the Best👌Rich Dad Poor Dad is 🔥', 'tatoo.mozhgan', '👌💎💎💎💎', 'matteo_rvln', '💛💛💛', 'marcostinocobjj', '💯💯', 'soren_feistel', 'HELLO FREAKY FREAKS VERY NICE GREATINGS FROM GERMANY FROM SAXONY HOPE YOU ARE FINE ALL THE TIME 😘', 'radikkasap09', 'А я лежу на пляжу, жу жу жу⛱😄😄😄', 'nikewitherspoon4764', 'Amen to that beautiful Congratulations 🎊🍾🎈🎉', 'juan_diego_sotoo', 'Véalo ahí @kennethgonzalez1428', 'View replies (1)', 'indianchutney', '@mistr.johnson', 'yordiblancoperalta', '👏👏', 'vitalispaul59', 'Congrats sir', 'Search', 'LANGUAGE\\\\nAfrikaans\\\\nČeština\\\\nDansk\\\\nDeutsch\\\\nΕλληνικά\\\\nEnglish\\\\nEspañol (España)\\\\nEspañol\\\\nSuomi\\\\nFrançais\\\\nBahasa Indonesia\\\\nItaliano\\\\n日本語\\\\n한국어\\\\nBahasa Melayu\\\\nNorsk\\\\nNederlands\\\\nPolski\\\\nPortuguês (Brasil)\\\\nPortuguês (Portugal)\\\\nРусский\\\\nSvenska\\\\nภาษาไทย\\\\nFilipino\\\\nTürkçe\\\\n中文(简体)\\\\n中文(台灣)\\\\nবাংলা\\\\nગુજરાતી\\\\nहिन्दी\\\\nHrvatski\\\\nMagyar\\\\nಕನ್ನಡ\\\\nമലയാളം\\\\nमराठी\\\\nनेपाली\\\\nਪੰਜਾਬੀ\\\\nසිංහල\\\\nSlovenčina\\\\nதமிழ்\\\\nతెలుగు\\\\nTiếng Việt\\\\n中文(香港)\\\\nБългарски\\\\nFrançais (Canada)\\\\nRomână\\\\nСрпски\\\\nУкраїнська', '© 2020 INSTAGRAM FROM FACEBOOK']\"}\n",
      "\n",
      "{'_id': 5, 'photo_comments': \"['therealkiyosaki', 'Verified', '•', '5,222', 'therealkiyosaki', 'Verified', 'Click the link in my bio for some tips to turn your investment deal into a great one.', 'metafekr', 'سلام واقعا پیج زیبایی دارید از پیج ماهم دیدن نمایید لینک بیو @metafekr', 'funneltunnel_official', 'Super Content‼ Weiter so🔥💯😊', 'funneltunnel_official', 'Super Content‼ Weiter so🔥💯😊', 'matteo_rvln', 'incredible!🔥', '_manuelmeyer_', 'keep going 👊🏾', 'brathaygroup', '💥', 'alejandral.jaramillo', '💸', 'empreendedoressaoficial', '😊😊😊', 'saccoguy', 'Beautiful pic of your sweetheart!', 'imayker', 'Neat-o!', 'rozalijamercy', 'My mentor', 'pub_10k_f', '❤️❤️❤️❤️❤️❤️❤️❤️', 'Search', 'LANGUAGE\\\\nAfrikaans\\\\nČeština\\\\nDansk\\\\nDeutsch\\\\nΕλληνικά\\\\nEnglish\\\\nEspañol (España)\\\\nEspañol\\\\nSuomi\\\\nFrançais\\\\nBahasa Indonesia\\\\nItaliano\\\\n日本語\\\\n한국어\\\\nBahasa Melayu\\\\nNorsk\\\\nNederlands\\\\nPolski\\\\nPortuguês (Brasil)\\\\nPortuguês (Portugal)\\\\nРусский\\\\nSvenska\\\\nภาษาไทย\\\\nFilipino\\\\nTürkçe\\\\n中文(简体)\\\\n中文(台灣)\\\\nবাংলা\\\\nગુજરાતી\\\\nहिन्दी\\\\nHrvatski\\\\nMagyar\\\\nಕನ್ನಡ\\\\nമലയാളം\\\\nमराठी\\\\nनेपाली\\\\nਪੰਜਾਬੀ\\\\nසිංහල\\\\nSlovenčina\\\\nதமிழ்\\\\nతెలుగు\\\\nTiếng Việt\\\\n中文(香港)\\\\nБългарски\\\\nFrançais (Canada)\\\\nRomână\\\\nСрпски\\\\nУкраїнська', '© 2020 INSTAGRAM FROM FACEBOOK']\"}\n",
      "\n",
      "{'_id': 6, 'photo_comments': \"['therealkiyosaki', 'Verified', '•', '19,436', 'therealkiyosaki', 'Verified', 'Enjoying the sights of Sydney!', 'matteo_rvln', 'you are the best!🔥', 'angelo.rossi.773981', 'Great picture and place', '2nd_creator', '👏', '__xprt', 'Is this your lovely wife Kim? The one that has stood by u through it all??', 'sport_125ru', 'Robert, I love you book', 'ulanovna007', 'I wish you forever life with only LOVE❤️', 'climbinvest', '👍', 'vasemanoto24', 'پست بسیار جذاب هست', 'marpal_beauty', '❤️', 'sil_casais', 'Muy buen feed 👍', 'prrobsonoliveira', '😄😀', 'raj234_samayagra', 'Beautifuuuuuuuuuul', 'Search', 'LANGUAGE\\\\nAfrikaans\\\\nČeština\\\\nDansk\\\\nDeutsch\\\\nΕλληνικά\\\\nEnglish\\\\nEspañol (España)\\\\nEspañol\\\\nSuomi\\\\nFrançais\\\\nBahasa Indonesia\\\\nItaliano\\\\n日本語\\\\n한국어\\\\nBahasa Melayu\\\\nNorsk\\\\nNederlands\\\\nPolski\\\\nPortuguês (Brasil)\\\\nPortuguês (Portugal)\\\\nРусский\\\\nSvenska\\\\nภาษาไทย\\\\nFilipino\\\\nTürkçe\\\\n中文(简体)\\\\n中文(台灣)\\\\nবাংলা\\\\nગુજરાતી\\\\nहिन्दी\\\\nHrvatski\\\\nMagyar\\\\nಕನ್ನಡ\\\\nമലയാളം\\\\nमराठी\\\\nनेपाली\\\\nਪੰਜਾਬੀ\\\\nසිංහල\\\\nSlovenčina\\\\nதமிழ்\\\\nతెలుగు\\\\nTiếng Việt\\\\n中文(香港)\\\\nБългарски\\\\nFrançais (Canada)\\\\nRomână\\\\nСрпски\\\\nУкраїнська', '© 2020 INSTAGRAM FROM FACEBOOK']\"}\n",
      "\n",
      "{'_id': 7, 'photo_comments': '[\\'therealkiyosaki\\', \\'Verified\\', \\'•\\', \\'12,192\\', \\'therealkiyosaki\\', \\'Verified\\', \\'Why money does in fact bring happiness and how it does it: Click the link in my bio to read why.\\', \\'maryam.dirisavi\\', \\'hi\\', \\'altechzilla\\', \\'✌🏽\\', \\'mrelvertice\\', \"That\\'s true.\", \\'_manuelmeyer_\\', \\'richtig gutes bild ☝🏽\\', \\'papa_boachie\\', \\'Money does not bring happiness... But as you say... Poverty ALSO, does not bring happiness 😁\\', \\'bjoern_hagensen\\', \\'Your books are the best! 🔝#education\\', \\'matteo_rvln\\', \\'✔️✔️✔️✔️\\', \\'ayoub_ait23\\', \\'👏\\', \\'nikewitherspoon4764\\', \\'Amen to that\\', \\'tapabocas.bogota1\\', \\'🚀Hola, en nuestra cuenta puedes ver contenido que te puede interesar , ya que veo que eres una persona de visión.\\', \\'andjela__raicevic\\', \\'You are inspiration!\\\\nJust now finished Rich dad and now going to buy all your books. 📚 😍\\', \\'View replies (1)\\', \\'emprende_es_ahora_\\', \\'Grande kiyosaki\\', \\'Search\\', \\'LANGUAGE\\\\nAfrikaans\\\\nČeština\\\\nDansk\\\\nDeutsch\\\\nΕλληνικά\\\\nEnglish\\\\nEspañol (España)\\\\nEspañol\\\\nSuomi\\\\nFrançais\\\\nBahasa Indonesia\\\\nItaliano\\\\n日本語\\\\n한국어\\\\nBahasa Melayu\\\\nNorsk\\\\nNederlands\\\\nPolski\\\\nPortuguês (Brasil)\\\\nPortuguês (Portugal)\\\\nРусский\\\\nSvenska\\\\nภาษาไทย\\\\nFilipino\\\\nTürkçe\\\\n中文(简体)\\\\n中文(台灣)\\\\nবাংলা\\\\nગુજરાતી\\\\nहिन्दी\\\\nHrvatski\\\\nMagyar\\\\nಕನ್ನಡ\\\\nമലയാളം\\\\nमराठी\\\\nनेपाली\\\\nਪੰਜਾਬੀ\\\\nසිංහල\\\\nSlovenčina\\\\nதமிழ்\\\\nతెలుగు\\\\nTiếng Việt\\\\n中文(香港)\\\\nБългарски\\\\nFrançais (Canada)\\\\nRomână\\\\nСрпски\\\\nУкраїнська\\', \\'© 2020 INSTAGRAM FROM FACEBOOK\\']'}\n",
      "\n",
      "{'_id': 8, 'photo_comments': \"['therealkiyosaki', 'Verified', '•', '16,933', 'therealkiyosaki', 'Verified', 'Learning how to invest in diamonds.\\\\nThese diamonds are dredged from the ocean.', 'otg.tre', 'Employees lose owners and investors win i love your rich dad poor dad book thanks for all of your advice im 16 years old and this book really helped me 💚💚💚💚', 'mister.kong', 'Diamonds are an investment? I thought its all false scarcity and marketing..', 'Hide replies', 'augusta_la_petite', 'Interested in learning too.please tag the mineral guru in the pic with Robert', 'iranmotive', 'My Goodness!', 'gabriella_farkas_8', 'Wow 😍', 'journey_time1', '👍', 'hcjonker', 'Anyone that would like to follow in Robert’s footsteps and learn more about diamonds; or just looking to add a stunning piece to their collection are more than welcome to contact us: info@aphroditediamonds.co.za', 'matteo_rvln', '👍👍👍👍', 'riskhanal', 'wow', 'wynandhendrikse', 'Thanks Robert for having you here. Look forward seeing you again.', 'climbinvest', '👏', 'rosamavillarrealg', '@hector.andrade2 💎💰', 'Search', 'LANGUAGE\\\\nAfrikaans\\\\nČeština\\\\nDansk\\\\nDeutsch\\\\nΕλληνικά\\\\nEnglish\\\\nEspañol (España)\\\\nEspañol\\\\nSuomi\\\\nFrançais\\\\nBahasa Indonesia\\\\nItaliano\\\\n日本語\\\\n한국어\\\\nBahasa Melayu\\\\nNorsk\\\\nNederlands\\\\nPolski\\\\nPortuguês (Brasil)\\\\nPortuguês (Portugal)\\\\nРусский\\\\nSvenska\\\\nภาษาไทย\\\\nFilipino\\\\nTürkçe\\\\n中文(简体)\\\\n中文(台灣)\\\\nবাংলা\\\\nગુજરાતી\\\\nहिन्दी\\\\nHrvatski\\\\nMagyar\\\\nಕನ್ನಡ\\\\nമലയാളം\\\\nमराठी\\\\nनेपाली\\\\nਪੰਜਾਬੀ\\\\nසිංහල\\\\nSlovenčina\\\\nதமிழ்\\\\nతెలుగు\\\\nTiếng Việt\\\\n中文(香港)\\\\nБългарски\\\\nFrançais (Canada)\\\\nRomână\\\\nСрпски\\\\nУкраїнська', '© 2020 INSTAGRAM FROM FACEBOOK']\"}\n",
      "\n",
      "{'_id': 9, 'photo_comments': \"['therealkiyosaki', 'Verified', '•', '4,560', 'therealkiyosaki', 'Verified', 'Gathering the proper support team will help set you up for success: click the link in my bio to read Kim’s blog.', 'kimoad3', '❤👍🏽👣🍃🍂', 'alejandral.jaramillo', '💪', 'vahiidrahmati', 'U r my rich dad', '_manuelmeyer_', 'Wow hammer content 😊', 'mmrabbani', '👌👌👌👌👌👌', 'alex_140000', 'orbert', 'alex_140000', '👌👌👌', 'andybachem', 'kiyosaki tell me the secret', 'nikewitherspoon4764', 'Amen beautiful', 'tribeofsuccess', 'This is awesome!', 'jeffhillspeaks', 'Awesome smile Kim. You guys rock! #trailblazers #wealthinmotion', '__with.meaning', 'Your wife is very beautiful💗', 'Search', 'LANGUAGE\\\\nAfrikaans\\\\nČeština\\\\nDansk\\\\nDeutsch\\\\nΕλληνικά\\\\nEnglish\\\\nEspañol (España)\\\\nEspañol\\\\nSuomi\\\\nFrançais\\\\nBahasa Indonesia\\\\nItaliano\\\\n日本語\\\\n한국어\\\\nBahasa Melayu\\\\nNorsk\\\\nNederlands\\\\nPolski\\\\nPortuguês (Brasil)\\\\nPortuguês (Portugal)\\\\nРусский\\\\nSvenska\\\\nภาษาไทย\\\\nFilipino\\\\nTürkçe\\\\n中文(简体)\\\\n中文(台灣)\\\\nবাংলা\\\\nગુજરાતી\\\\nहिन्दी\\\\nHrvatski\\\\nMagyar\\\\nಕನ್ನಡ\\\\nമലയാളം\\\\nमराठी\\\\nनेपाली\\\\nਪੰਜਾਬੀ\\\\nසිංහල\\\\nSlovenčina\\\\nதமிழ்\\\\nతెలుగు\\\\nTiếng Việt\\\\n中文(香港)\\\\nБългарски\\\\nFrançais (Canada)\\\\nRomână\\\\nСрпски\\\\nУкраїнська', '© 2020 INSTAGRAM FROM FACEBOOK']\"}\n",
      "\n",
      "{'_id': 10, 'photo_comments': '[\\'therealkiyosaki\\', \\'Verified\\', \\'•\\', \\'6,165\\', \\'therealkiyosaki\\', \\'Verified\\', \\'Chapter 2, In God We Trust, of my latest book, \"FAKE,\" releases today! Read the draft version of chapter two and submit your questions about what you read for your chance to be included in the final copy.\\\\nREAD NOW ➡️ click the link in my bio: https://fake.richdad.com\\', \\'orzurahimova\\', \\'😢😢I also want to live happy. I live in Moscow. I am alone. I do not have anyone. I want my business. I can not begin. I so want to become like you. Help\\', \\'iampetereze\\', \"Thanks Robert. This piece got my mind skipping with anticipation of the next paragraph. No doubt, I saw myself in that brief and you\\'ve provided me a navigation guide to more richer life.\", \\'diego.delgado_\\', \\'Tu perfil es interesante contactemonos 📲\\', \\'johnrockprophet\\', \\'So I click the link but.. nothing. Please advise\\', \\'pink_pinkkz\\', \\'I hope fast realese in indonesia 🙏🏻😊\\', \\'farzaneh_pourshaban\\', \\'خيلى خوب 👌👏🌸\\', \\'888makai\\', \\'❤️❤️❤️\\', \\'trey_iverstine\\', \\'Great book!!! I’ve lessened to it 3 times in the last month.\\', \\'wanderwherewilfredis\\', \\'Life changing book, thankyou!!!\\', \\'osei.stephen.71404\\', \\'God bless u you my mentor\\', \\'kdot0638\\', \\'@patlee3 @hippee_chic @_gregleejr\\', \\'daurzh8\\', \\'Thanks for the book 📚 🇰🇿🇰🇿🇰🇿✊🏻\\', \\'Search\\', \\'LANGUAGE\\\\nAfrikaans\\\\nČeština\\\\nDansk\\\\nDeutsch\\\\nΕλληνικά\\\\nEnglish\\\\nEspañol (España)\\\\nEspañol\\\\nSuomi\\\\nFrançais\\\\nBahasa Indonesia\\\\nItaliano\\\\n日本語\\\\n한국어\\\\nBahasa Melayu\\\\nNorsk\\\\nNederlands\\\\nPolski\\\\nPortuguês (Brasil)\\\\nPortuguês (Portugal)\\\\nРусский\\\\nSvenska\\\\nภาษาไทย\\\\nFilipino\\\\nTürkçe\\\\n中文(简体)\\\\n中文(台灣)\\\\nবাংলা\\\\nગુજરાતી\\\\nहिन्दी\\\\nHrvatski\\\\nMagyar\\\\nಕನ್ನಡ\\\\nമലയാളം\\\\nमराठी\\\\nनेपाली\\\\nਪੰਜਾਬੀ\\\\nසිංහල\\\\nSlovenčina\\\\nதமிழ்\\\\nతెలుగు\\\\nTiếng Việt\\\\n中文(香港)\\\\nБългарски\\\\nFrançais (Canada)\\\\nRomână\\\\nСрпски\\\\nУкраїнська\\', \\'© 2020 INSTAGRAM FROM FACEBOOK\\']'}\n",
      "\n",
      "{'_id': 11, 'photo_comments': \"['therealkiyosaki', 'Verified', '•', '6,773', 'therealkiyosaki', 'Verified', 'I hoped I would be wrong... but it sure doesn’t seem like it. Click the link in my bio to find out about the up and coming retirement crisis.', 'gowtham6607', 'Beautiful', 'leo._buendia', 'Kiyosaki', 'kenneth_starling', 'Rich dad poor dad is where it all starts 🙌🏼', 'altechzilla', '✌🏽', 'affiliate_kickstart', 'Inspiring stuff.Keep up the good work.👍', 'ronald_executive_muda', 'Orang Sukses itu Awet Muda', 'dynasty_barbers', '😎', 'mmrabbani', '👌👌👌👌👌👌', 'funneltunnel_official', 'Hammer profil🔥👌💯‼😊', 'liveyourlife_d', 'Cool 😎', '888makai', '❤️❤️❤️', '_22victoria_', '😍', 'Search', 'LANGUAGE\\\\nAfrikaans\\\\nČeština\\\\nDansk\\\\nDeutsch\\\\nΕλληνικά\\\\nEnglish\\\\nEspañol (España)\\\\nEspañol\\\\nSuomi\\\\nFrançais\\\\nBahasa Indonesia\\\\nItaliano\\\\n日本語\\\\n한국어\\\\nBahasa Melayu\\\\nNorsk\\\\nNederlands\\\\nPolski\\\\nPortuguês (Brasil)\\\\nPortuguês (Portugal)\\\\nРусский\\\\nSvenska\\\\nภาษาไทย\\\\nFilipino\\\\nTürkçe\\\\n中文(简体)\\\\n中文(台灣)\\\\nবাংলা\\\\nગુજરાતી\\\\nहिन्दी\\\\nHrvatski\\\\nMagyar\\\\nಕನ್ನಡ\\\\nമലയാളം\\\\nमराठी\\\\nनेपाली\\\\nਪੰਜਾਬੀ\\\\nසිංහල\\\\nSlovenčina\\\\nதமிழ்\\\\nతెలుగు\\\\nTiếng Việt\\\\n中文(香港)\\\\nБългарски\\\\nFrançais (Canada)\\\\nRomână\\\\nСрпски\\\\nУкраїнська', '© 2020 INSTAGRAM FROM FACEBOOK']\"}\n",
      "\n",
      "{'_id': 12, 'photo_comments': '[\\'therealkiyosaki\\', \\'Verified\\', \\'•\\', \\'14,098\\', \\'therealkiyosaki\\', \\'Verified\\', \\'With Jurie Roux CEO of Spring Boks South Africa’s rugby organization.\\', \\'joemyoya\\', \\'Hey Robert you still around!\\', \\'itachikrishna\\', \\'Looking great !!\\', \\'sarahsays_1\\', \\'@el_patron_eben\\', \\'camilo_a5\\', \\'@jhontabordah esta delgado bro\\', \\'serious_eater\\', \\'Hi i like what you do 🏆 Come by my side too. I would be happy about your feedback 🔥🔥🔥\\', \\'kelvinmbuvi.mj\\', \"I really desire to impact people\\'s live massively and positively @therealkiyosaki\", \\'el_patron_eben\\', \\'He lost weight @_pandub_\\', \\'ministervenable1\\', \\'Taking a chance to see if you will give me some financial advice @therealkiyosaki. I was always taught to reach up to those you admire and ask questions. Please DM if you will take the time. I will respect your time as I know how important it is. Thanks\\', \\'altechzilla\\', \\'✌🏽\\', \\'freddyenriquehoyosduenas\\', \\'I beg your pardon, I am a writer and I have shared books around the world thanks to Hotmail, I dream one day to be a member of the order in England, if you can help me that is my goal to fulfill. Freddy Enrique Hoyos Dueñas (search the internet).\\', \\'bintangphotostory\\', \\'kerenn 😍\\', \\'charatacombustibles\\', \\'😉👌\\', \\'Search\\', \\'LANGUAGE\\\\nAfrikaans\\\\nČeština\\\\nDansk\\\\nDeutsch\\\\nΕλληνικά\\\\nEnglish\\\\nEspañol (España)\\\\nEspañol\\\\nSuomi\\\\nFrançais\\\\nBahasa Indonesia\\\\nItaliano\\\\n日本語\\\\n한국어\\\\nBahasa Melayu\\\\nNorsk\\\\nNederlands\\\\nPolski\\\\nPortuguês (Brasil)\\\\nPortuguês (Portugal)\\\\nРусский\\\\nSvenska\\\\nภาษาไทย\\\\nFilipino\\\\nTürkçe\\\\n中文(简体)\\\\n中文(台灣)\\\\nবাংলা\\\\nગુજરાતી\\\\nहिन्दी\\\\nHrvatski\\\\nMagyar\\\\nಕನ್ನಡ\\\\nമലയാളം\\\\nमराठी\\\\nनेपाली\\\\nਪੰਜਾਬੀ\\\\nසිංහල\\\\nSlovenčina\\\\nதமிழ்\\\\nతెలుగు\\\\nTiếng Việt\\\\n中文(香港)\\\\nБългарски\\\\nFrançais (Canada)\\\\nRomână\\\\nСрпски\\\\nУкраїнська\\', \\'© 2020 INSTAGRAM FROM FACEBOOK\\']'}\n",
      "\n",
      "{'_id': 13, 'photo_comments': \"['therealkiyosaki', 'Verified', '•', '17,872', 'therealkiyosaki', 'Verified', 'In beautiful Cape Town, South Africa.', 'imoh05', 'Hello Robert, I want to take this opportunity to invite you to Nigeria', 'View replies (1)', 'matteo_rvln', 'Keep up the good content 😀', 'nuno.brito2018', 'Seems like mall, fish market', 'altechzilla', '✌🏽', 'gabrieldesmond600', 'Good job', 'orzurahimova', '😢😢😢 help me', 'angelo.rossi.773981', 'Nice picture', 'nthatomalete', 'Can 16year olds get on board with you? I live in Joburg.', 'digikolbe', 'مطالب خوبی دارین ❤️', 'thiagosampaio3.0', 'Woww !! Pretty awesome 🙌🙌🙌', 'im_rachelclinton', 'Nice', 'megan_sodien', '🙌🙌', 'Search', 'LANGUAGE\\\\nAfrikaans\\\\nČeština\\\\nDansk\\\\nDeutsch\\\\nΕλληνικά\\\\nEnglish\\\\nEspañol (España)\\\\nEspañol\\\\nSuomi\\\\nFrançais\\\\nBahasa Indonesia\\\\nItaliano\\\\n日本語\\\\n한국어\\\\nBahasa Melayu\\\\nNorsk\\\\nNederlands\\\\nPolski\\\\nPortuguês (Brasil)\\\\nPortuguês (Portugal)\\\\nРусский\\\\nSvenska\\\\nภาษาไทย\\\\nFilipino\\\\nTürkçe\\\\n中文(简体)\\\\n中文(台灣)\\\\nবাংলা\\\\nગુજરાતી\\\\nहिन्दी\\\\nHrvatski\\\\nMagyar\\\\nಕನ್ನಡ\\\\nമലയാളം\\\\nमराठी\\\\nनेपाली\\\\nਪੰਜਾਬੀ\\\\nසිංහල\\\\nSlovenčina\\\\nதமிழ்\\\\nతెలుగు\\\\nTiếng Việt\\\\n中文(香港)\\\\nБългарски\\\\nFrançais (Canada)\\\\nRomână\\\\nСрпски\\\\nУкраїнська', '© 2020 INSTAGRAM FROM FACEBOOK']\"}\n",
      "\n",
      "{'_id': 14, 'photo_comments': '[\\'therealkiyosaki\\', \\'Verified\\', \\'•\\', \\'4,654\\', \\'therealkiyosaki\\', \\'Verified\\', \\'Are you happy with your life exactly how it is currently? Click the link in my bio to read Kim’s blog.\\', \\'matteo_rvln\\', \"J\\'adore ton profil⚡️\", \\'rosalba.peralta\\', \\'He leído sus libro me encantaron @inmobiliria.rosalhome es mi empresa estoy aplicando lo aprendido\\', \\'island_beginnings\\', \\'A true representation of what every business women should aspire to be ❤️\\', \\'altechzilla\\', \\'✌🏽\\', \\'View replies (1)\\', \\'sport_125ru\\', \\'Cool💪😎\\', \\'valechka_milashka\\', \\'Сейчас читаю вашу книгу как раз!))\\', \\'climbinvest\\', \\'👏\\', \\'climbinvest\\', \\'👍\\', \\'yuliya.gorodova\\', \\'Не довольны - пока не нашла пути выхода\\', \\'farzaneh_pourshaban\\', \\'بسيار لذت بردم و انگيزه گرفتم. اميدوارم انرژي مثبت شما هر روز فزون تر از ديروز بوده و موفق و پيروز باشيد. اگر از پيج ما هم ديدن بفرماييد، از انرژي مثبت شما لذت مي بريم.🌸\\', \\'sarahklawrencecb\\', \\'I’d love to treat you both to lunch - Come to Tucson, AZ!\\', \\'tindja\\', \\'I am happy, but want something else. Change. Your speeches on YouTube are very inspiring. The books I will have to read. 👍\\', \\'Search\\', \\'LANGUAGE\\\\nAfrikaans\\\\nČeština\\\\nDansk\\\\nDeutsch\\\\nΕλληνικά\\\\nEnglish\\\\nEspañol (España)\\\\nEspañol\\\\nSuomi\\\\nFrançais\\\\nBahasa Indonesia\\\\nItaliano\\\\n日本語\\\\n한국어\\\\nBahasa Melayu\\\\nNorsk\\\\nNederlands\\\\nPolski\\\\nPortuguês (Brasil)\\\\nPortuguês (Portugal)\\\\nРусский\\\\nSvenska\\\\nภาษาไทย\\\\nFilipino\\\\nTürkçe\\\\n中文(简体)\\\\n中文(台灣)\\\\nবাংলা\\\\nગુજરાતી\\\\nहिन्दी\\\\nHrvatski\\\\nMagyar\\\\nಕನ್ನಡ\\\\nമലയാളം\\\\nमराठी\\\\nनेपाली\\\\nਪੰਜਾਬੀ\\\\nසිංහල\\\\nSlovenčina\\\\nதமிழ்\\\\nతెలుగు\\\\nTiếng Việt\\\\n中文(香港)\\\\nБългарски\\\\nFrançais (Canada)\\\\nRomână\\\\nСрпски\\\\nУкраїнська\\', \\'© 2020 INSTAGRAM FROM FACEBOOK\\']'}\n",
      "\n",
      "{'_id': 15, 'photo_comments': \"['therealkiyosaki', 'Verified', '•', '9,639', 'therealkiyosaki', 'Verified', 'Now, to some, inflation is bad news because they don’t know how to use inflation to get richer... Click the link in my bio to learn how inflation can benefit you.', 'kachatokman', 'thank u my Rich Dad/Poor Dad!!!!!', 'hashim_vvm', '👏🏻👏🏻', 'shominehhb.behzadbijan', 'اینستاگرام یه چیزی میدونست ک دوتا لایک برا هر پست نذاش.... 😀👍😊 وگرنه خودم اینو سه تا لایک می کردم .... ✌', 'lazimpay', 'good', 'digmarfilo', 'Keren kak👍', 'flexrequired', 'Thanks for this awesome book !! 😍®️🙏', 'kdtcorp', '❤️❤️❤️❤️❤️', 'juanluengasofficial', 'Interesante, saludos 👌🏻.', 'emilio_don_trejile', 'Becuase of that book i can now buy me a house without debt or anything thank you 🙏🏻🙏🏻', 'kevinescobartiburon', '🔥', 'its.miss.hunnay', '@therealkiyosaki I am 15 and currently reading your book and I must say that it has taught me alot about finances and business. I hope that one day I will be wealthy and not lead myself into debt.', 'langelihle949', 'Great book, made me realise alot of things about money', 'Search', 'LANGUAGE\\\\nAfrikaans\\\\nČeština\\\\nDansk\\\\nDeutsch\\\\nΕλληνικά\\\\nEnglish\\\\nEspañol (España)\\\\nEspañol\\\\nSuomi\\\\nFrançais\\\\nBahasa Indonesia\\\\nItaliano\\\\n日本語\\\\n한국어\\\\nBahasa Melayu\\\\nNorsk\\\\nNederlands\\\\nPolski\\\\nPortuguês (Brasil)\\\\nPortuguês (Portugal)\\\\nРусский\\\\nSvenska\\\\nภาษาไทย\\\\nFilipino\\\\nTürkçe\\\\n中文(简体)\\\\n中文(台灣)\\\\nবাংলা\\\\nગુજરાતી\\\\nहिन्दी\\\\nHrvatski\\\\nMagyar\\\\nಕನ್ನಡ\\\\nമലയാളം\\\\nमराठी\\\\nनेपाली\\\\nਪੰਜਾਬੀ\\\\nසිංහල\\\\nSlovenčina\\\\nதமிழ்\\\\nతెలుగు\\\\nTiếng Việt\\\\n中文(香港)\\\\nБългарски\\\\nFrançais (Canada)\\\\nRomână\\\\nСрпски\\\\nУкраїнська', '© 2020 INSTAGRAM FROM FACEBOOK']\"}\n",
      "\n",
      "{'_id': 16, 'photo_comments': '[\\'therealkiyosaki\\', \\'Verified\\', \\'•\\', \\'6,454\\', \\'therealkiyosaki\\', \\'Verified\\', \\'This mistake could have happened to any investor: click the link in my bio to learn from Kim’s mistakes. http://bit.ly/2npJlbc\\', \\'trae__haha\\', \\'When moon?\\', \\'mindvoltz\\', \\'Awesome post!\\', \\'corinboss\\', \\'hi you book good. im korean\\', \\'stayhappyandcarryon\\', \\'loooking haaaaappy ever after 🌸❤️🌸❤️🌸❤️🌸❤️🌸❤️\\', \\'carmendawson1\\', \\'Sharing your mistakes will save so many!! We are hearing you!!\\', \\'sam__bay\\', \"The man, I really respect for. He\\'s just a extraordinary person when it comes to ideas & business.\", \\'matteo_rvln\\', \\'❤️❤️❤️❤️❤️\\', \\'_homa.4335\\', \\'،👌🌷\\', \\'sebastianortega.19\\', \\'📌Nice\\', \\'altechzilla\\', \\'✌🏽\\', \\'kevinescobartiburon\\', \\'💸\\', \\'papa_boachie\\', \"Can\\'t wait to get to the beach after the period we\\'ve been through\", \\'Search\\', \\'LANGUAGE\\\\nAfrikaans\\\\nČeština\\\\nDansk\\\\nDeutsch\\\\nΕλληνικά\\\\nEnglish\\\\nEspañol (España)\\\\nEspañol\\\\nSuomi\\\\nFrançais\\\\nBahasa Indonesia\\\\nItaliano\\\\n日本語\\\\n한국어\\\\nBahasa Melayu\\\\nNorsk\\\\nNederlands\\\\nPolski\\\\nPortuguês (Brasil)\\\\nPortuguês (Portugal)\\\\nРусский\\\\nSvenska\\\\nภาษาไทย\\\\nFilipino\\\\nTürkçe\\\\n中文(简体)\\\\n中文(台灣)\\\\nবাংলা\\\\nગુજરાતી\\\\nहिन्दी\\\\nHrvatski\\\\nMagyar\\\\nಕನ್ನಡ\\\\nമലയാളം\\\\nमराठी\\\\nनेपाली\\\\nਪੰਜਾਬੀ\\\\nසිංහල\\\\nSlovenčina\\\\nதமிழ்\\\\nతెలుగు\\\\nTiếng Việt\\\\n中文(香港)\\\\nБългарски\\\\nFrançais (Canada)\\\\nRomână\\\\nСрпски\\\\nУкраїнська\\', \\'© 2020 INSTAGRAM FROM FACEBOOK\\']'}\n",
      "\n",
      "{'_id': 17, 'photo_comments': \"['therealkiyosaki', 'Verified', '•', '8,828', 'therealkiyosaki', 'Verified', 'Tom and I with Martin Sweet, CEO of Step Up 2 A Start Up, an organization that delivered entrepreneurial courses to over 1.4 million South African high school students. I have supported this organization for 6 years.', 'erfolgs_geschichten', 'I read your book ➡️ amazing 🙏', 'vereinmaisonetoile', 'Grossartige Bilder wunderbar in Szene gesetzt :)', 'rickyprofits', '🙌', 'marya.sardari', 'I wish I could visit you face to face And attend in your courses . I hope you the best and health', '_homa.4335', '👌🌷✌', 'mr_molema', 'Hello Mr Kiyosaki, I would like to attend this course. Where do I register to attend the course?', 'thedmanshow2019', '👍👍', 'ley_de_la_atraccion100x100', 'Me encanta tu felicidad, por ello te doy las gracias te amo', 'ulanovna007', 'You are amazing \\\\U0001f929', 'alan.bonner', '♨ 🅰️🅱️', 'alpha_eddy_', 'Can you please come to my school when you come to South Africa abbots collage Pretoria east', 'ciihmartins', '♥️♥️♥️', 'Search', 'LANGUAGE\\\\nAfrikaans\\\\nČeština\\\\nDansk\\\\nDeutsch\\\\nΕλληνικά\\\\nEnglish\\\\nEspañol (España)\\\\nEspañol\\\\nSuomi\\\\nFrançais\\\\nBahasa Indonesia\\\\nItaliano\\\\n日本語\\\\n한국어\\\\nBahasa Melayu\\\\nNorsk\\\\nNederlands\\\\nPolski\\\\nPortuguês (Brasil)\\\\nPortuguês (Portugal)\\\\nРусский\\\\nSvenska\\\\nภาษาไทย\\\\nFilipino\\\\nTürkçe\\\\n中文(简体)\\\\n中文(台灣)\\\\nবাংলা\\\\nગુજરાતી\\\\nहिन्दी\\\\nHrvatski\\\\nMagyar\\\\nಕನ್ನಡ\\\\nമലയാളം\\\\nमराठी\\\\nनेपाली\\\\nਪੰਜਾਬੀ\\\\nසිංහල\\\\nSlovenčina\\\\nதமிழ்\\\\nతెలుగు\\\\nTiếng Việt\\\\n中文(香港)\\\\nБългарски\\\\nFrançais (Canada)\\\\nRomână\\\\nСрпски\\\\nУкраїнська', '© 2020 INSTAGRAM FROM FACEBOOK']\"}\n",
      "\n",
      "{'_id': 18, 'photo_comments': \"['therealkiyosaki', 'Verified', '•', '5,502', 'therealkiyosaki', 'Verified', 'Click the link in my bio to see the 3 important questions each couple should ask about money.', 'masoudkingalone', 'Best 👏👏👏👏👏', 'gabridarb', 'The big boss 🚀🚀', 'antonlcoetzee', '@elanasmit', 'powerballking', '👍👍👍', 'marketeiranian', '👈😉ارائه پنل پیامکی فوق سریع + بانک شماره های هر شهر رایگان', 'alfonsocastaneda22', 'Desde venezuela saludos amigo del alma solo te digo gracias por todo', 'altechzilla', '✌🏽', 'tzd.negin', '😍', 'alejandral.jaramillo', '👏', 'fabicqueiros', '❤️', 'eifa.tejarat', '👍🏻👍🏻', 'primika_8', '❤️', 'Search', 'LANGUAGE\\\\nAfrikaans\\\\nČeština\\\\nDansk\\\\nDeutsch\\\\nΕλληνικά\\\\nEnglish\\\\nEspañol (España)\\\\nEspañol\\\\nSuomi\\\\nFrançais\\\\nBahasa Indonesia\\\\nItaliano\\\\n日本語\\\\n한국어\\\\nBahasa Melayu\\\\nNorsk\\\\nNederlands\\\\nPolski\\\\nPortuguês (Brasil)\\\\nPortuguês (Portugal)\\\\nРусский\\\\nSvenska\\\\nภาษาไทย\\\\nFilipino\\\\nTürkçe\\\\n中文(简体)\\\\n中文(台灣)\\\\nবাংলা\\\\nગુજરાતી\\\\nहिन्दी\\\\nHrvatski\\\\nMagyar\\\\nಕನ್ನಡ\\\\nമലയാളം\\\\nमराठी\\\\nनेपाली\\\\nਪੰਜਾਬੀ\\\\nසිංහල\\\\nSlovenčina\\\\nதமிழ்\\\\nతెలుగు\\\\nTiếng Việt\\\\n中文(香港)\\\\nБългарски\\\\nFrançais (Canada)\\\\nRomână\\\\nСрпски\\\\nУкраїнська', '© 2020 INSTAGRAM FROM FACEBOOK']\"}\n",
      "\n",
      "{'_id': 19, 'photo_comments': '[\\'therealkiyosaki\\', \\'Verified\\', \\'•\\', \\'10,752\\', \\'therealkiyosaki\\', \\'Verified\\', \\'Tom and I with the headmaster at St. Andrews. This is the school Tom and I taught at last year and I wrote about the experience in my book “Why the Rich Are Getting Richer”\\', \\'tsedlikovski\\', \\'Great Book! 👌👌\\', \\'mkcasella45\\', \"Stop off at Christmas rock near East London. It\\'s a beautiful beach.\", \\'misael.ferreiraa\\', \\'💪🔥\\', \\'anthonyisunmekhe\\', \\'Seeing the rich getting younger .great site\\', \\'altechzilla\\', \\'✌🏽\\', \\'shiran_lifestyle\\', \\'😍\\', \\'sarahsays_1\\', \\'@el_patron_eben\\', \\'_homa.4335\\', \\'👌🌷✌\\', \\'jonathanrios2k\\', \\'👏 sin duada un ejempla para muchos\\', \\'alejandral.jaramillo\\', \\'💪\\', \\'middleclassbusinessman\\', \\'👏\\', \\'farzaneh_pourshaban\\', \\'سپاس از مطالب عالى شما 🌸👌\\', \\'Search\\', \\'LANGUAGE\\\\nAfrikaans\\\\nČeština\\\\nDansk\\\\nDeutsch\\\\nΕλληνικά\\\\nEnglish\\\\nEspañol (España)\\\\nEspañol\\\\nSuomi\\\\nFrançais\\\\nBahasa Indonesia\\\\nItaliano\\\\n日本語\\\\n한국어\\\\nBahasa Melayu\\\\nNorsk\\\\nNederlands\\\\nPolski\\\\nPortuguês (Brasil)\\\\nPortuguês (Portugal)\\\\nРусский\\\\nSvenska\\\\nภาษาไทย\\\\nFilipino\\\\nTürkçe\\\\n中文(简体)\\\\n中文(台灣)\\\\nবাংলা\\\\nગુજરાતી\\\\nहिन्दी\\\\nHrvatski\\\\nMagyar\\\\nಕನ್ನಡ\\\\nമലയാളം\\\\nमराठी\\\\nनेपाली\\\\nਪੰਜਾਬੀ\\\\nසිංහල\\\\nSlovenčina\\\\nதமிழ்\\\\nతెలుగు\\\\nTiếng Việt\\\\n中文(香港)\\\\nБългарски\\\\nFrançais (Canada)\\\\nRomână\\\\nСрпски\\\\nУкраїнська\\', \\'© 2020 INSTAGRAM FROM FACEBOOK\\']'}\n",
      "\n",
      "{'_id': 20, 'photo_comments': \"['therealkiyosaki', 'Verified', '•', '12,324', 'therealkiyosaki', 'Verified', 'Watching rugby at St Andrés college in Grahamstown, South Africa.', 'toczek.tomasz', 'Always young looking and rich in financial knowledge !!!', 'jemylyncastillo', 'Great mentor of all time', 'ojeezzy', 'Dass wassup g', 'matteo_rvln', 'garyvee agree 100%🖤', 'altechzilla', '✌🏽', 'lovelihua102644', 'Looking cool and youthful as ever, Kiyosaki-sama!', 'brathaygroup', '💪', 'farjoud_shokouhi', 'Big like🌺', 'middleclassbusinessman', 'Stylish sir', 'araghi.a5212', '❤️', 'deetrajones', 'Love the pics as this is your favorite sport! You have to endure pain for a long time to be able to stay successful! 🔥😊', '_22victoria_', '😍', 'Search', 'LANGUAGE\\\\nAfrikaans\\\\nČeština\\\\nDansk\\\\nDeutsch\\\\nΕλληνικά\\\\nEnglish\\\\nEspañol (España)\\\\nEspañol\\\\nSuomi\\\\nFrançais\\\\nBahasa Indonesia\\\\nItaliano\\\\n日本語\\\\n한국어\\\\nBahasa Melayu\\\\nNorsk\\\\nNederlands\\\\nPolski\\\\nPortuguês (Brasil)\\\\nPortuguês (Portugal)\\\\nРусский\\\\nSvenska\\\\nภาษาไทย\\\\nFilipino\\\\nTürkçe\\\\n中文(简体)\\\\n中文(台灣)\\\\nবাংলা\\\\nગુજરાતી\\\\nहिन्दी\\\\nHrvatski\\\\nMagyar\\\\nಕನ್ನಡ\\\\nമലയാളം\\\\nमराठी\\\\nनेपाली\\\\nਪੰਜਾਬੀ\\\\nසිංහල\\\\nSlovenčina\\\\nதமிழ்\\\\nతెలుగు\\\\nTiếng Việt\\\\n中文(香港)\\\\nБългарски\\\\nFrançais (Canada)\\\\nRomână\\\\nСрпски\\\\nУкраїнська', '© 2020 INSTAGRAM FROM FACEBOOK']\"}\n",
      "\n",
      "{'_id': 21, 'photo_comments': \"['therealkiyosaki', 'Verified', '•', '6,996', 'therealkiyosaki', 'Verified', 'Had a great time on the radio show with my advisor Andy Tanner & his family. Go to www.richdad.com/radio to listen to it!', 'ram_dani36', 'Good', 'lim.dube', 'I love rich dad radio show', 'scottstewartutah', 'Awesome @andytanner8716', 'angbarlic', 'Magnifico', 'matteo_rvln', 'It is better to fail in originality than to succeed in imitation♠️', 'altechzilla', '✌🏽', 'metafekr', 'پپیچ\\\\u200cتون عالی است. برای تحول و انقلاب بزرگ زندگیتون سایت متافکر، لینک واقع در بیو همراه باشید. @metafekr', 'thedmanshow2019', 'Kool', 'matteomjk', 'So amazing cause new knowledge is always sink in my mind , repeatedly learning always master robert and coach Andy 🎩😎', 'gratisbuchvondirkreuter', 'Gefällt mir ! 🙂', 'swiftmpoloka', '@liz_thequeen2queens do something clever', 'khodagahe', 'موفق باشید', 'Search', 'LANGUAGE\\\\nAfrikaans\\\\nČeština\\\\nDansk\\\\nDeutsch\\\\nΕλληνικά\\\\nEnglish\\\\nEspañol (España)\\\\nEspañol\\\\nSuomi\\\\nFrançais\\\\nBahasa Indonesia\\\\nItaliano\\\\n日本語\\\\n한국어\\\\nBahasa Melayu\\\\nNorsk\\\\nNederlands\\\\nPolski\\\\nPortuguês (Brasil)\\\\nPortuguês (Portugal)\\\\nРусский\\\\nSvenska\\\\nภาษาไทย\\\\nFilipino\\\\nTürkçe\\\\n中文(简体)\\\\n中文(台灣)\\\\nবাংলা\\\\nગુજરાતી\\\\nहिन्दी\\\\nHrvatski\\\\nMagyar\\\\nಕನ್ನಡ\\\\nമലയാളം\\\\nमराठी\\\\nनेपाली\\\\nਪੰਜਾਬੀ\\\\nසිංහල\\\\nSlovenčina\\\\nதமிழ்\\\\nతెలుగు\\\\nTiếng Việt\\\\n中文(香港)\\\\nБългарски\\\\nFrançais (Canada)\\\\nRomână\\\\nСрпски\\\\nУкраїнська', '© 2020 INSTAGRAM FROM FACEBOOK']\"}\n",
      "\n",
      "{'_id': 22, 'photo_comments': \"['therealkiyosaki', 'Verified', '•', '3,958', 'therealkiyosaki', 'Verified', 'Click the link in my bio for some tips on what to do when fear paralyzes you!', 'ram_dani36', 'Of course', 'svvs58', 'Queen !!! 🌹💎👑👸👑💎🌹', '00a7007a00', 'Robert help me 2 open business 🙏', '00a7007a00', 'i will be your bodyguard in Kyrgyzstan', '_cloover', 'Fear is the biger problem of everybody', 'fitzroy_lee', 'Very nice😁', 'matteo_rvln', 'Keep up the good content 😀', 'altechzilla', '✌🏽', 'futuredevelopersaustralia', 'Kim and Robert where is the bio link for this post please ?', 'jana_angus', 'The two of you are absolutely adorable together!! I’m purchasing your book today. Last night I watched your YouTube talks. My mind is set and I’m moving forward. Thank you! 🙏', 'alan.bonner', '💪 😊 🙏🏽 😜 🅰️🅱️', 'zihaban', '😍🙌', 'Search', 'LANGUAGE\\\\nAfrikaans\\\\nČeština\\\\nDansk\\\\nDeutsch\\\\nΕλληνικά\\\\nEnglish\\\\nEspañol (España)\\\\nEspañol\\\\nSuomi\\\\nFrançais\\\\nBahasa Indonesia\\\\nItaliano\\\\n日本語\\\\n한국어\\\\nBahasa Melayu\\\\nNorsk\\\\nNederlands\\\\nPolski\\\\nPortuguês (Brasil)\\\\nPortuguês (Portugal)\\\\nРусский\\\\nSvenska\\\\nภาษาไทย\\\\nFilipino\\\\nTürkçe\\\\n中文(简体)\\\\n中文(台灣)\\\\nবাংলা\\\\nગુજરાતી\\\\nहिन्दी\\\\nHrvatski\\\\nMagyar\\\\nಕನ್ನಡ\\\\nമലയാളം\\\\nमराठी\\\\nनेपाली\\\\nਪੰਜਾਬੀ\\\\nසිංහල\\\\nSlovenčina\\\\nதமிழ்\\\\nతెలుగు\\\\nTiếng Việt\\\\n中文(香港)\\\\nБългарски\\\\nFrançais (Canada)\\\\nRomână\\\\nСрпски\\\\nУкраїнська', '© 2020 INSTAGRAM FROM FACEBOOK']\"}\n",
      "\n",
      "{'_id': 23, 'photo_comments': \"['therealkiyosaki', 'Verified', '•', '7,232', 'therealkiyosaki', 'Verified', 'Unfortunately, what these millennial parents are teaching their kids is garbage... Head to my latest blog (the link is in my bio)', 'colettejohanlon', 'That’s something to really think about. Everyone is struggling with Millennials, what will their kids be like? Things are changing so fast now.', 'flavio_souza_barros', 'Parabens!', 'consultduran', 'Lovely pictures! Those kids are very fortunate to get some real life lessons.👏👍😍', 'matteo_rvln', 'It is better to fail in originality than to succeed in imitation♠️', 'altechzilla', '✌🏽', 'iranmotive', 'The cutest :grinning:', 'chrisgibbonsart', 'Thank you, sir!', '_homa.4335', '🌷👌✌❤', 'kevinescobartiburon', '✊', 'nikewitherspoon4764', 'Amen beautiful', 'cheeseclubuk', 'This looks amazing!', 'farzaneh_pourshaban', 'ما اينجا هستيم تا شما روياهايتان را فراموش نكنيد. 🌸🌸', 'Search', 'LANGUAGE\\\\nAfrikaans\\\\nČeština\\\\nDansk\\\\nDeutsch\\\\nΕλληνικά\\\\nEnglish\\\\nEspañol (España)\\\\nEspañol\\\\nSuomi\\\\nFrançais\\\\nBahasa Indonesia\\\\nItaliano\\\\n日本語\\\\n한국어\\\\nBahasa Melayu\\\\nNorsk\\\\nNederlands\\\\nPolski\\\\nPortuguês (Brasil)\\\\nPortuguês (Portugal)\\\\nРусский\\\\nSvenska\\\\nภาษาไทย\\\\nFilipino\\\\nTürkçe\\\\n中文(简体)\\\\n中文(台灣)\\\\nবাংলা\\\\nગુજરાતી\\\\nहिन्दी\\\\nHrvatski\\\\nMagyar\\\\nಕನ್ನಡ\\\\nമലയാളം\\\\nमराठी\\\\nनेपाली\\\\nਪੰਜਾਬੀ\\\\nසිංහල\\\\nSlovenčina\\\\nதமிழ்\\\\nతెలుగు\\\\nTiếng Việt\\\\n中文(香港)\\\\nБългарски\\\\nFrançais (Canada)\\\\nRomână\\\\nСрпски\\\\nУкраїнська', '© 2020 INSTAGRAM FROM FACEBOOK']\"}\n",
      "\n",
      "{'_id': 24, 'photo_comments': \"['therealkiyosaki', 'Verified', '•', '21,861', 'therealkiyosaki', 'Verified', 'In Johannesburg. My name on the car. Amazing.', 'steph.torre.moretti', '@moretti_julien_ ❤️', 'tecnologiapymes', 'me gusta las publicaciones que compartes,', 'Hide replies', 'eleazar_daoudou', 'Great❤️!!', 'vin.numbers', 'Invasion of privacy lol', 'andi__geiger', '\\\\U0001f929👍', 'socialpromi', 'So cool', 'yordiblancoperalta', '👏👏', 'farzaneh_pourshaban', 'مثل هميشه عالى 👌👏', 'king_zeko_rsa', 'When are u coming to south africa again . please come back 🙏🙏🙏🙌', 'mirmuhsinxolmurodov', '🙌', 'gabucho_21', '@nickhd16 Puto amo wn', 'risingwithjchanel', '@cassiesmit', 'Search', 'LANGUAGE\\\\nAfrikaans\\\\nČeština\\\\nDansk\\\\nDeutsch\\\\nΕλληνικά\\\\nEnglish\\\\nEspañol (España)\\\\nEspañol\\\\nSuomi\\\\nFrançais\\\\nBahasa Indonesia\\\\nItaliano\\\\n日本語\\\\n한국어\\\\nBahasa Melayu\\\\nNorsk\\\\nNederlands\\\\nPolski\\\\nPortuguês (Brasil)\\\\nPortuguês (Portugal)\\\\nРусский\\\\nSvenska\\\\nภาษาไทย\\\\nFilipino\\\\nTürkçe\\\\n中文(简体)\\\\n中文(台灣)\\\\nবাংলা\\\\nગુજરાતી\\\\nहिन्दी\\\\nHrvatski\\\\nMagyar\\\\nಕನ್ನಡ\\\\nമലയാളം\\\\nमराठी\\\\nनेपाली\\\\nਪੰਜਾਬੀ\\\\nසිංහල\\\\nSlovenčina\\\\nதமிழ்\\\\nతెలుగు\\\\nTiếng Việt\\\\n中文(香港)\\\\nБългарски\\\\nFrançais (Canada)\\\\nRomână\\\\nСрпски\\\\nУкраїнська', '© 2020 INSTAGRAM FROM FACEBOOK']\"}\n",
      "\n",
      "{'_id': 25, 'photo_comments': '[\\'therealkiyosaki\\', \\'Verified\\', \\'•\\', \\'4,692\\', \\'therealkiyosaki\\', \\'Verified\\', \\'I don’t work for my money. It works for me: Click the link in my bio to read my newest blog.\\', \\'floressanchezangelica\\', \\'Its correct! And excelent!\\', \\'View replies (1)\\', \\'pharmathlete\\', \\'If you would like to reach the explorer more often DM me. I have social media services that can help you😎😎\\', \\'bembrigadeiro\\', \\'❤️❤️❤️\\', \\'jackie_jouan\\', \\'👏👏👏\\', \\'sandempireproperties\\', \"Making money is just an Idea!!! It\\'s all about knowing your Financial Education well.\", \\'r.ndli\\', \\'Dear kiyosaki\\', \\'williamkinghollis\\', \\'For your daily brain food follow me today over 60 million views on YouTube made history in Milan for luxury designer @philippplein78 as the first speaker ever to speak live during Milan fashion week also have the #1 football speech in the world just type best football speech ever on YouTube I’ll be #1 like I said if it’s trash block me if it’s 🔥🔥🔥🔥 love me forever 😁💪🏿🤴🏿\\', \\'flavio_souza_barros\\', \\'👏👏👏\\', \\'matteo_rvln\\', \"J\\'adore ton profil⚡️\", \\'abolfazl_taherian\\', \\'انتشارات طاهریان تنها تولید کننده بازی گردش مالی رابرت کیوساکی در خاورمیانه-برگزار کننده کارگاه های آموزشی بازی در 10 شهر بزرگ ایران\\', \\'altechzilla\\', \\'✌🏽\\', \\'farzaneh_pourshaban\\', \\'سپاس از انرژى مثبت شما 🌸🌸\\', \\'Search\\', \\'LANGUAGE\\\\nAfrikaans\\\\nČeština\\\\nDansk\\\\nDeutsch\\\\nΕλληνικά\\\\nEnglish\\\\nEspañol (España)\\\\nEspañol\\\\nSuomi\\\\nFrançais\\\\nBahasa Indonesia\\\\nItaliano\\\\n日本語\\\\n한국어\\\\nBahasa Melayu\\\\nNorsk\\\\nNederlands\\\\nPolski\\\\nPortuguês (Brasil)\\\\nPortuguês (Portugal)\\\\nРусский\\\\nSvenska\\\\nภาษาไทย\\\\nFilipino\\\\nTürkçe\\\\n中文(简体)\\\\n中文(台灣)\\\\nবাংলা\\\\nગુજરાતી\\\\nहिन्दी\\\\nHrvatski\\\\nMagyar\\\\nಕನ್ನಡ\\\\nമലയാളം\\\\nमराठी\\\\nनेपाली\\\\nਪੰਜਾਬੀ\\\\nසිංහල\\\\nSlovenčina\\\\nதமிழ்\\\\nతెలుగు\\\\nTiếng Việt\\\\n中文(香港)\\\\nБългарски\\\\nFrançais (Canada)\\\\nRomână\\\\nСрпски\\\\nУкраїнська\\', \\'© 2020 INSTAGRAM FROM FACEBOOK\\']'}\n",
      "\n",
      "{'_id': 26, 'photo_comments': '[\\'therealkiyosaki\\', \\'Verified\\', \\'•\\', \\'3,456\\', \\'therealkiyosaki\\', \\'Verified\\', \\'How great is the U.S. economy right now? Click the link in my bio to read Kim’s blog.\\', \\'indianaazmouz\\', \\'@cel_can87\\', \\'ela_rezapour\\', \\'Hi mrs kiosaki, l injoy read your books,now I read second chance 💙💙💙💙\\', \\'flavio_souza_barros\\', \\'Gostei!\\', \\'flavio_souza_barros\\', \\'Parabens!\\', \\'flavio_souza_barros\\', \\'🙂\\', \\'official_godstym\\', \\'The quadrant\\', \\'altechzilla\\', \\'✌🏽\\', \\'jeffhillspeaks\\', \"I would love to collaborate on an idea i\\'m working on. I think the psychology you\\'ve developed around wealth is paramount! #mentorship #nowimentor\", \\'ganesh_mindset\\', \\'Love this game #cashflow #richdadpoordad 🙏❤️\\', \\'englishtiptoday\\', \\'Good one!\\', \\'dreamsflow2020\\', \"Casht board game behind them. Very fun and useful toy. You can play it with Friends and learn and have fun at the same time. It\\'s amazing. I learned a lot about money because of this game\", \\'leonardogonzalezokk\\', \\'Excelente💯🇦🇷🇦🇷🇦🇷🇦🇷🇦🇷🇦🇷🇦🇷\\', \\'Search\\', \\'LANGUAGE\\\\nAfrikaans\\\\nČeština\\\\nDansk\\\\nDeutsch\\\\nΕλληνικά\\\\nEnglish\\\\nEspañol (España)\\\\nEspañol\\\\nSuomi\\\\nFrançais\\\\nBahasa Indonesia\\\\nItaliano\\\\n日本語\\\\n한국어\\\\nBahasa Melayu\\\\nNorsk\\\\nNederlands\\\\nPolski\\\\nPortuguês (Brasil)\\\\nPortuguês (Portugal)\\\\nРусский\\\\nSvenska\\\\nภาษาไทย\\\\nFilipino\\\\nTürkçe\\\\n中文(简体)\\\\n中文(台灣)\\\\nবাংলা\\\\nગુજરાતી\\\\nहिन्दी\\\\nHrvatski\\\\nMagyar\\\\nಕನ್ನಡ\\\\nമലയാളം\\\\nमराठी\\\\nनेपाली\\\\nਪੰਜਾਬੀ\\\\nසිංහල\\\\nSlovenčina\\\\nதமிழ்\\\\nతెలుగు\\\\nTiếng Việt\\\\n中文(香港)\\\\nБългарски\\\\nFrançais (Canada)\\\\nRomână\\\\nСрпски\\\\nУкраїнська\\', \\'© 2020 INSTAGRAM FROM FACEBOOK\\']'}\n",
      "\n",
      "{'_id': 27, 'photo_comments': \"['therealkiyosaki', 'Verified', '•', '4,194', 'therealkiyosaki', 'Verified', 'Your 401(k) makes you a gambler not an investor: click the link in my bio to find out why.', 'diyaa_alaater', '@muslims_islam01', '_cloover', 'Eu vou para sua Bio, para que possa entender melhor. Abraços @therealkiyosaki', 'khaladi4elite', '@bigmama6570', 'medctom', 'Вот молодцы', 'nuke.wati', 'tanks robert kiyosaki', 'metafekr', '👍👌عالی بود لایک داره. افتخار بدید به پیج ما هم سری بزنید .ما در زمینه موفقت و رشد و توسعه فردی و تغییر الگوهای ذهنی ثروتمند کار و در این زمینه مشاوره هم می دهیم.✌🙏 سایت متافکر لینک بیو @metafekr', 'flavio_souza_barros', 'Estou impressionado 👏👏', 'matteo_rvln', '💥The best💥', 'mentorbookclub', 'What is the title of this episode? I can’t find it', 'altechzilla', '✌🏽', '_americanmade45', '@ericb2nice', 'farzaneh_pourshaban', 'قدا قوت👌 بسيار عالى🌸', 'Search', 'LANGUAGE\\\\nAfrikaans\\\\nČeština\\\\nDansk\\\\nDeutsch\\\\nΕλληνικά\\\\nEnglish\\\\nEspañol (España)\\\\nEspañol\\\\nSuomi\\\\nFrançais\\\\nBahasa Indonesia\\\\nItaliano\\\\n日本語\\\\n한국어\\\\nBahasa Melayu\\\\nNorsk\\\\nNederlands\\\\nPolski\\\\nPortuguês (Brasil)\\\\nPortuguês (Portugal)\\\\nРусский\\\\nSvenska\\\\nภาษาไทย\\\\nFilipino\\\\nTürkçe\\\\n中文(简体)\\\\n中文(台灣)\\\\nবাংলা\\\\nગુજરાતી\\\\nहिन्दी\\\\nHrvatski\\\\nMagyar\\\\nಕನ್ನಡ\\\\nമലയാളം\\\\nमराठी\\\\nनेपाली\\\\nਪੰਜਾਬੀ\\\\nසිංහල\\\\nSlovenčina\\\\nதமிழ்\\\\nతెలుగు\\\\nTiếng Việt\\\\n中文(香港)\\\\nБългарски\\\\nFrançais (Canada)\\\\nRomână\\\\nСрпски\\\\nУкраїнська', '© 2020 INSTAGRAM FROM FACEBOOK']\"}\n",
      "\n",
      "{'_id': 28, 'photo_comments': '[\\'therealkiyosaki\\', \\'Verified\\', \\'•\\', \\'13,379\\', \\'therealkiyosaki\\', \\'Verified\\', \\'The benefits of this daily practice have helped improve Kim and I’s #business partnership because it’s helped us communicate better as a couple: click the link in my bio to read Kim’s blog.\\', \\'matteo_rvln\\', \\'❤️❤️❤️❤️❤️\\', \\'alpharanking1\\', \\'Thank you ! 😁😁😁\\', \\'thiago.pilarski\\', \\'@georgiaricetti olha quem é.\\', \\'bryceb82\\', \"I\\'m in Maui and reading cashflow quadrant and preaching to my friends about shifting your mentality... #someday\", \\'8knowlesy8\\', \\'@cr_richardson\\', \\'alejandral.jaramillo\\', \\'🔥\\', \\'altechzilla\\', \\'✌🏽\\', \\'alejandral.jaramillo\\', \\'💸\\', \\'erick_zeca\\', \\'Muito bom! 👏🏽😸😽\\', \\'kevinescobartiburon\\', \\'👌\\', \\'eifa.tejarat\\', \\'👍🏻👍🏻\\', \\'deetrajones\\', \"I\\'m grateful that I was guided to learn more knowledge of what you preach everyday to help others gain their power back!🙏💚\", \\'View replies (1)\\', \\'Search\\', \\'LANGUAGE\\\\nAfrikaans\\\\nČeština\\\\nDansk\\\\nDeutsch\\\\nΕλληνικά\\\\nEnglish\\\\nEspañol (España)\\\\nEspañol\\\\nSuomi\\\\nFrançais\\\\nBahasa Indonesia\\\\nItaliano\\\\n日本語\\\\n한국어\\\\nBahasa Melayu\\\\nNorsk\\\\nNederlands\\\\nPolski\\\\nPortuguês (Brasil)\\\\nPortuguês (Portugal)\\\\nРусский\\\\nSvenska\\\\nภาษาไทย\\\\nFilipino\\\\nTürkçe\\\\n中文(简体)\\\\n中文(台灣)\\\\nবাংলা\\\\nગુજરાતી\\\\nहिन्दी\\\\nHrvatski\\\\nMagyar\\\\nಕನ್ನಡ\\\\nമലയാളം\\\\nमराठी\\\\nनेपाली\\\\nਪੰਜਾਬੀ\\\\nසිංහල\\\\nSlovenčina\\\\nதமிழ்\\\\nతెలుగు\\\\nTiếng Việt\\\\n中文(香港)\\\\nБългарски\\\\nFrançais (Canada)\\\\nRomână\\\\nСрпски\\\\nУкраїнська\\', \\'© 2020 INSTAGRAM FROM FACEBOOK\\']'}\n",
      "\n",
      "{'_id': 29, 'photo_comments': \"['therealkiyosaki', 'Verified', '•', '25,378', 'therealkiyosaki', 'Verified', '#financialeducation', 'qc_1111', '👍', 'silencer_ftano_kibelenge', 'Mmh dady', 's0phiar', '😂 Haha such a good way to explain it @lloydjamesross', 'View replies (1)', 'andreaguilar.c', '@gre.madeleine', 'the_real_sherkhan', 'I was 13 when I came to know about that Monopoly is a real life game', 'epecfoodie', '@iamwillwarren @sirbourbon @v12_mindset @thehconcept @nwkmaker @amil_am17', 'jasmineee_wu', 'Oof LOL @haoyudoing', 'View replies (1)', 'rodrigoalbistegui', '@paolabi01', 'deharold8782', 'absolutely love this! I hate that its literally the reality but its always right in front of our faces. always. Thank You for all you have done to give back. I myself was born to serve/give and am starting my journey, well restarting my journey. I got got caught up thinking I needed to make money in order to give. I just watched one of your interviews and you as well as a few other universal nudges, reminded me that I have what I needed all along. if the money comes so be it. but the key is helping others and using my gift. Yes I am not business savvy but I aim to be and plan to keep at it until I make a profit coming out of this epidemic.', 'ciomary', '@yamxavier', 'its_billia', '@art_fanwh', 'infiniteoutlaw', '@hardtoforget 😉', 'Search', 'LANGUAGE\\\\nAfrikaans\\\\nČeština\\\\nDansk\\\\nDeutsch\\\\nΕλληνικά\\\\nEnglish\\\\nEspañol (España)\\\\nEspañol\\\\nSuomi\\\\nFrançais\\\\nBahasa Indonesia\\\\nItaliano\\\\n日本語\\\\n한국어\\\\nBahasa Melayu\\\\nNorsk\\\\nNederlands\\\\nPolski\\\\nPortuguês (Brasil)\\\\nPortuguês (Portugal)\\\\nРусский\\\\nSvenska\\\\nภาษาไทย\\\\nFilipino\\\\nTürkçe\\\\n中文(简体)\\\\n中文(台灣)\\\\nবাংলা\\\\nગુજરાતી\\\\nहिन्दी\\\\nHrvatski\\\\nMagyar\\\\nಕನ್ನಡ\\\\nമലയാളം\\\\nमराठी\\\\nनेपाली\\\\nਪੰਜਾਬੀ\\\\nසිංහල\\\\nSlovenčina\\\\nதமிழ்\\\\nతెలుగు\\\\nTiếng Việt\\\\n中文(香港)\\\\nБългарски\\\\nFrançais (Canada)\\\\nRomână\\\\nСрпски\\\\nУкраїнська', '© 2020 INSTAGRAM FROM FACEBOOK']\"}\n",
      "\n",
      "{'_id': 30, 'photo_comments': \"['therealkiyosaki', 'Verified', '•', '17,389', 'therealkiyosaki', 'Verified', 'My commitment to you is to continue sharing my knowledge, making it as clear and simple as possible: Click the link in my bio to read my blog.', 'cashgold24k', 'Amazing guy you are .very influential 👍', 'soycarlosospina1', '💸', 'altechzilla', '✌🏽', 'vahiidrahmati', 'I like to be like u ,powerful, successful and influencing to every ones life.❤️❤️', '__xprt', 'If you must take debt, take it small. If you have to take it big make sure someone is paying for it.', 'View replies (1)', 'valentinlopezoficial', '@grantcardone the 10X man', 'jccabos1', '👏🏻👏🏻👏🏻👏🏻', 'p_rocks007', '👍', 'morgun_sholty', 'I have a cataylist to help facilitate that', 'aryanto5951', '👍😍', 'galipeks', '👍👍👍', '_ciy.a', '🔥', 'Search', 'LANGUAGE\\\\nAfrikaans\\\\nČeština\\\\nDansk\\\\nDeutsch\\\\nΕλληνικά\\\\nEnglish\\\\nEspañol (España)\\\\nEspañol\\\\nSuomi\\\\nFrançais\\\\nBahasa Indonesia\\\\nItaliano\\\\n日本語\\\\n한국어\\\\nBahasa Melayu\\\\nNorsk\\\\nNederlands\\\\nPolski\\\\nPortuguês (Brasil)\\\\nPortuguês (Portugal)\\\\nРусский\\\\nSvenska\\\\nภาษาไทย\\\\nFilipino\\\\nTürkçe\\\\n中文(简体)\\\\n中文(台灣)\\\\nবাংলা\\\\nગુજરાતી\\\\nहिन्दी\\\\nHrvatski\\\\nMagyar\\\\nಕನ್ನಡ\\\\nമലയാളം\\\\nमराठी\\\\nनेपाली\\\\nਪੰਜਾਬੀ\\\\nසිංහල\\\\nSlovenčina\\\\nதமிழ்\\\\nతెలుగు\\\\nTiếng Việt\\\\n中文(香港)\\\\nБългарски\\\\nFrançais (Canada)\\\\nRomână\\\\nСрпски\\\\nУкраїнська', '© 2020 INSTAGRAM FROM FACEBOOK']\"}\n",
      "\n",
      "{'_id': 31, 'photo_comments': '[\\'therealkiyosaki\\', \\'Verified\\', \\'•\\', \\'3,507\\', \\'therealkiyosaki\\', \\'Verified\\', \\'So, what will you accomplish in the six months left until 2019? Click the link in my bio to read Kim’s blog!\\', \\'jan_tor\\', \\'Great Shot 😱💥have a nice day 🤙🏾😇\\', \\'paulmerrill160\\', \\'The US debt is? Can the king of debt make money for the US with this debt?\\', \\'iloveturnkeymaster\\', \\'A lot of sales people wake up in the morning and think how can they make more sales in a day but be\\', \\'iloveturnkeymaster\\', \"A lot of sales people wake up in the morning and think how can they make more sales in a day but very few would think how could they actually improve more people\\'s life 🙇🙇🙇\", \\'ermiashahlaee\\', \\'good\\', \\'adhilex22\\', \\'Pepe panda\\', \\'ferlito_enrico\\', \\'👍👍👍\\', \\'agenciafiqui\\', \\'Top!!!😉\\', \\'luisjah\\', \\'Un proyecto muy especial para cambiar al mundo!!\\', \\'flavio_souza_barros\\', \\'Sucesso\\', \\'altechzilla\\', \\'✌🏽\\', \\'vohn_holden\\', \"I moved out, managed debt and stress, learned about the judicial system, switched Dept\\'s at work, faced any setback life presented and conquered it. I should be starting a new job if all goes well! and after that my entrepreneurial ideas should start taking off as things are lining up unexpectedly I just need to build the team and work out the logistics!\", \\'Search\\', \\'LANGUAGE\\\\nAfrikaans\\\\nČeština\\\\nDansk\\\\nDeutsch\\\\nΕλληνικά\\\\nEnglish\\\\nEspañol (España)\\\\nEspañol\\\\nSuomi\\\\nFrançais\\\\nBahasa Indonesia\\\\nItaliano\\\\n日本語\\\\n한국어\\\\nBahasa Melayu\\\\nNorsk\\\\nNederlands\\\\nPolski\\\\nPortuguês (Brasil)\\\\nPortuguês (Portugal)\\\\nРусский\\\\nSvenska\\\\nภาษาไทย\\\\nFilipino\\\\nTürkçe\\\\n中文(简体)\\\\n中文(台灣)\\\\nবাংলা\\\\nગુજરાતી\\\\nहिन्दी\\\\nHrvatski\\\\nMagyar\\\\nಕನ್ನಡ\\\\nമലയാളം\\\\nमराठी\\\\nनेपाली\\\\nਪੰਜਾਬੀ\\\\nසිංහල\\\\nSlovenčina\\\\nதமிழ்\\\\nతెలుగు\\\\nTiếng Việt\\\\n中文(香港)\\\\nБългарски\\\\nFrançais (Canada)\\\\nRomână\\\\nСрпски\\\\nУкраїнська\\', \\'© 2020 INSTAGRAM FROM FACEBOOK\\']'}\n",
      "\n",
      "{'_id': 32, 'photo_comments': '[\\'therealkiyosaki\\', \\'Verified\\', \\'•\\', \\'5,249\\', \\'therealkiyosaki\\', \\'Verified\\', \\'There is nothing more financially dangerous than thinking your savings will provide a secure financial future: click the link in my bio to read my latest blog.\\', \\'libertadrlosada\\', \\'🔥🔥🔥🔥🔥🔥\\', \\'celso_eusebio\\', \\'True that ! Money should be invested not kept\\', \\'ermiashahlaee\\', \\'best\\', \\'lloydjamesross\\', \\'Agreed. That’s why built a side hustle and invested into businesses.\\', \\'tuemprendiendo\\', \\'😎\\', \\'anchoredwave\\', \\'Agree, these books are phenomenal!\\', \\'juanjose.olave\\', \\'Muy buena foto saludos desde Bogota\\', \\'reverseroyalties\\', \"Couldn\\'t agree more.n\", \\'formulaforwardmotioninc\\', \\'#THEBUBBLEWILLBURSTINTERVIEW 🏆⭐💪\\', \\'shaynamendonca\\', \\'@silvaccbrafael e @dampaixao\\', \\'altechzilla\\', \\'✌🏽\\', \\'sokhanrankocholo\\', \\'سخنران کوچولو اولین موسسه فن بیان و سخنوری کودکان و نوجوانان\\', \\'Search\\', \\'LANGUAGE\\\\nAfrikaans\\\\nČeština\\\\nDansk\\\\nDeutsch\\\\nΕλληνικά\\\\nEnglish\\\\nEspañol (España)\\\\nEspañol\\\\nSuomi\\\\nFrançais\\\\nBahasa Indonesia\\\\nItaliano\\\\n日本語\\\\n한국어\\\\nBahasa Melayu\\\\nNorsk\\\\nNederlands\\\\nPolski\\\\nPortuguês (Brasil)\\\\nPortuguês (Portugal)\\\\nРусский\\\\nSvenska\\\\nภาษาไทย\\\\nFilipino\\\\nTürkçe\\\\n中文(简体)\\\\n中文(台灣)\\\\nবাংলা\\\\nગુજરાતી\\\\nहिन्दी\\\\nHrvatski\\\\nMagyar\\\\nಕನ್ನಡ\\\\nമലയാളം\\\\nमराठी\\\\nनेपाली\\\\nਪੰਜਾਬੀ\\\\nසිංහල\\\\nSlovenčina\\\\nதமிழ்\\\\nతెలుగు\\\\nTiếng Việt\\\\n中文(香港)\\\\nБългарски\\\\nFrançais (Canada)\\\\nRomână\\\\nСрпски\\\\nУкраїнська\\', \\'© 2020 INSTAGRAM FROM FACEBOOK\\']'}\n",
      "\n",
      "{'_id': 33, 'photo_comments': \"['therealkiyosaki', 'Verified', '•', '4,837', 'therealkiyosaki', 'Verified', 'One way to start finding other business opportunities is to do what I call slowing down to speed up: click the link in my bio for some tips on running a business.', 'inspirationalmarshahamilton', 'You are awesome!', 'View replies (1)', 'rj_trader', 'This is amazing!', 'tercangencer', 'Greetings from Germany Robert✋✔', 'metafekr', '🙂سلام ، خیلی عالی ، خوشحال میشم پیجمونو دنبال کنید و با مطالب موفقیت و رشد و توسعه فردی متافکر آشنا شین 😊😊😊 لینک بیو @metafekr', 'kevinescobartiburon', '💪', 'continualwealth', 'awesome', 'flavio_souza_barros', 'muito bem!', 'flavio_souza_barros', '👏👏👏', 'flavio_souza_barros', 'Sucesso', 'altechzilla', '✌🏽', 'tecnologiapymes', '✅ ✅ Nice!,', 'sabinerossmadl', '🙏👍👍👌👌❤️💜', 'Search', 'LANGUAGE\\\\nAfrikaans\\\\nČeština\\\\nDansk\\\\nDeutsch\\\\nΕλληνικά\\\\nEnglish\\\\nEspañol (España)\\\\nEspañol\\\\nSuomi\\\\nFrançais\\\\nBahasa Indonesia\\\\nItaliano\\\\n日本語\\\\n한국어\\\\nBahasa Melayu\\\\nNorsk\\\\nNederlands\\\\nPolski\\\\nPortuguês (Brasil)\\\\nPortuguês (Portugal)\\\\nРусский\\\\nSvenska\\\\nภาษาไทย\\\\nFilipino\\\\nTürkçe\\\\n中文(简体)\\\\n中文(台灣)\\\\nবাংলা\\\\nગુજરાતી\\\\nहिन्दी\\\\nHrvatski\\\\nMagyar\\\\nಕನ್ನಡ\\\\nമലയാളം\\\\nमराठी\\\\nनेपाली\\\\nਪੰਜਾਬੀ\\\\nසිංහල\\\\nSlovenčina\\\\nதமிழ்\\\\nతెలుగు\\\\nTiếng Việt\\\\n中文(香港)\\\\nБългарски\\\\nFrançais (Canada)\\\\nRomână\\\\nСрпски\\\\nУкраїнська', '© 2020 INSTAGRAM FROM FACEBOOK']\"}\n",
      "\n",
      "{'_id': 34, 'photo_comments': '[\\'therealkiyosaki\\', \\'Verified\\', \\'•\\', \\'50,299 views\\', \\'50,299\\', \\'therealkiyosaki\\', \\'Verified\\', \\'I read comments all the time like, \"I need money before I can invest it.\" What if I told you, there\\\\\\'s a way for you to find extra money in the time it takes you to finish a load of laundry? Watch, then click the link in my bio.\\', \\'billionaires_row\\', \"Your books are the best😄 i\\'ve bought 6 of them!🖒\", \\'continualwealth\\', \\'awesome\\', \\'soycarlosospina1\\', \\'👏\\', \\'altechzilla\\', \\'✌🏽\\', \\'alejandral.jaramillo\\', \\'💪\\', \\'alejandral.jaramillo\\', \\'🔥\\', \\'marketinghds\\', \\'Quieres Triunfar en Internet? Te ayudamos a que consigas una visibilidad impactante en todas las Plataformas! 🔥⚡💻\\', \\'mayrim_alanis\\', \\'❤️\\', \\'preity_mehra\\', \\'@shrayuniyal\\', \\'zvx.0000\\', \\'Just one eye, hey!\\', \\'milagros.alice.5\\', \\'Me too..! Mr. Kiyosaki\\', \\'tonyongkypratama.top\\', \\'👍\\', \\'Search\\', \\'LANGUAGE\\\\nAfrikaans\\\\nČeština\\\\nDansk\\\\nDeutsch\\\\nΕλληνικά\\\\nEnglish\\\\nEspañol (España)\\\\nEspañol\\\\nSuomi\\\\nFrançais\\\\nBahasa Indonesia\\\\nItaliano\\\\n日本語\\\\n한국어\\\\nBahasa Melayu\\\\nNorsk\\\\nNederlands\\\\nPolski\\\\nPortuguês (Brasil)\\\\nPortuguês (Portugal)\\\\nРусский\\\\nSvenska\\\\nภาษาไทย\\\\nFilipino\\\\nTürkçe\\\\n中文(简体)\\\\n中文(台灣)\\\\nবাংলা\\\\nગુજરાતી\\\\nहिन्दी\\\\nHrvatski\\\\nMagyar\\\\nಕನ್ನಡ\\\\nമലയാളം\\\\nमराठी\\\\nनेपाली\\\\nਪੰਜਾਬੀ\\\\nසිංහල\\\\nSlovenčina\\\\nதமிழ்\\\\nతెలుగు\\\\nTiếng Việt\\\\n中文(香港)\\\\nБългарски\\\\nFrançais (Canada)\\\\nRomână\\\\nСрпски\\\\nУкраїнська\\', \\'© 2020 INSTAGRAM FROM FACEBOOK\\']'}\n",
      "\n",
      "{'_id': 35, 'photo_comments': '[\\'therealkiyosaki\\', \\'Verified\\', \\'•\\', \\'4,768\\', \\'therealkiyosaki\\', \\'Verified\\', \\'Investing is just like life: a journey filled with highs and lows, joys and sorrows. At the end of the day, it’s always a journey worth taking. Click the link in my bio to read why.\\', \\'lvxxviii\\', \\'Made my day\\', \\'saydullaevabdurasul\\', \\'Hello rich ded\\', \\'mwanlechindang\\', \\'Some of us bask on our previous success to the detriment of our future\\', \\'abolfazl_taherian\\', \\'انتشارات طاهریان تنها تولید کننده بازی گردش مالی رابرت کیوساکی در خاورمیانه\\', \\'iamrellsumpter__\\', \\'Dope Quote on The Wall There!! 👊🏼😎🔑\\', \\'altechzilla\\', \\'✌🏽\\', \\'mortezaafzali.ir\\', \\'پستات خیلی باحالن 👀\\', \\'kevinescobartiburon\\', \\'💪\\', \\'mindset_of_leaders_\\', \\'Very sweet\\', \\'prrobsonoliveira\\', \\'😀😄\\', \\'dreamsflow2020\\', \"Cashflow board game is the best. Played it, learned a lot. And it\\'s fun\", \\'abdelilahelharrad\\', \\'راىغ وحميل انتم رائع جدا 🌹🌹🌹🌹🌹\\', \\'Search\\', \\'LANGUAGE\\\\nAfrikaans\\\\nČeština\\\\nDansk\\\\nDeutsch\\\\nΕλληνικά\\\\nEnglish\\\\nEspañol (España)\\\\nEspañol\\\\nSuomi\\\\nFrançais\\\\nBahasa Indonesia\\\\nItaliano\\\\n日本語\\\\n한국어\\\\nBahasa Melayu\\\\nNorsk\\\\nNederlands\\\\nPolski\\\\nPortuguês (Brasil)\\\\nPortuguês (Portugal)\\\\nРусский\\\\nSvenska\\\\nภาษาไทย\\\\nFilipino\\\\nTürkçe\\\\n中文(简体)\\\\n中文(台灣)\\\\nবাংলা\\\\nગુજરાતી\\\\nहिन्दी\\\\nHrvatski\\\\nMagyar\\\\nಕನ್ನಡ\\\\nമലയാളം\\\\nमराठी\\\\nनेपाली\\\\nਪੰਜਾਬੀ\\\\nසිංහල\\\\nSlovenčina\\\\nதமிழ்\\\\nతెలుగు\\\\nTiếng Việt\\\\n中文(香港)\\\\nБългарски\\\\nFrançais (Canada)\\\\nRomână\\\\nСрпски\\\\nУкраїнська\\', \\'© 2020 INSTAGRAM FROM FACEBOOK\\']'}\n",
      "\n",
      "{'_id': 36, 'photo_comments': '[\\'therealkiyosaki\\', \\'Verified\\', \\'•\\', \\'7,787\\', \\'therealkiyosaki\\', \\'Verified\\', \\'Click the link in my bio for financial habits I have in order to be financially free.\\', \\'millonarioreal1\\', \\'@millonarioreal1\\', \\'diego.delgado_\\', \\'🆒\\', \\'gotomyotherprofile33\\', \"@therealkiyosaki Let\\'s Collaborate 🙌\", \\'bertrand_saugy_coach\\', \\'@grand_maistre\\', \\'lyn_llewe\\', \"You are an inspiration. I\\'ll study harder about your concept. I want to learn how to be rich :) thank you for your teachings.\", \\'altechzilla\\', \\'✌🏽\\', \\'yoni7308\\', \\'👍\\', \\'ulanovna007\\', \\'I have read your \"Rich Father,Poor Father \"\\', \\'fabicqueiros\\', \\'👏🏼👏👏👏👏👏👏🏼\\', \\'minimuslife\\', \\'Very nice\\', \\'thiagosampaio3.0\\', \\'Woww !! I was there 🔥🔥🔥🔥🔥\\', \\'josecerbellou\\', \\'Amazing Boss\\', \\'Search\\', \\'LANGUAGE\\\\nAfrikaans\\\\nČeština\\\\nDansk\\\\nDeutsch\\\\nΕλληνικά\\\\nEnglish\\\\nEspañol (España)\\\\nEspañol\\\\nSuomi\\\\nFrançais\\\\nBahasa Indonesia\\\\nItaliano\\\\n日本語\\\\n한국어\\\\nBahasa Melayu\\\\nNorsk\\\\nNederlands\\\\nPolski\\\\nPortuguês (Brasil)\\\\nPortuguês (Portugal)\\\\nРусский\\\\nSvenska\\\\nภาษาไทย\\\\nFilipino\\\\nTürkçe\\\\n中文(简体)\\\\n中文(台灣)\\\\nবাংলা\\\\nગુજરાતી\\\\nहिन्दी\\\\nHrvatski\\\\nMagyar\\\\nಕನ್ನಡ\\\\nമലയാളം\\\\nमराठी\\\\nनेपाली\\\\nਪੰਜਾਬੀ\\\\nසිංහල\\\\nSlovenčina\\\\nதமிழ்\\\\nతెలుగు\\\\nTiếng Việt\\\\n中文(香港)\\\\nБългарски\\\\nFrançais (Canada)\\\\nRomână\\\\nСрпски\\\\nУкраїнська\\', \\'© 2020 INSTAGRAM FROM FACEBOOK\\']'}\n",
      "\n",
      "{'_id': 37, 'photo_comments': \"['therealkiyosaki', 'Verified', '•', '5,234', 'therealkiyosaki', 'Verified', 'The world needs more female #entrepreneurs : click the link in my bio to read Kim’s blog.', 'its_m4rk', '❤️', 'floressanchezangelica', 'Good like I agregó with you', 'lvxxviii', 'This is great', 'urusel_urusal', 'Она прекрасна..', 'im_martinli', 'Weiter so❗️💯', 'tuemprendiendo', '🌠', 'affiliate_kickstart', 'Inspiring stuff.Keep up the good work.👍', 'artpassionate._', 'Yeah', 'tkiyosaki', '@__official.mk', 'altechzilla', '✌🏽', 'digmarfilo', 'Keren kak👍', 'kevinescobartiburon', '✊', 'Search', 'LANGUAGE\\\\nAfrikaans\\\\nČeština\\\\nDansk\\\\nDeutsch\\\\nΕλληνικά\\\\nEnglish\\\\nEspañol (España)\\\\nEspañol\\\\nSuomi\\\\nFrançais\\\\nBahasa Indonesia\\\\nItaliano\\\\n日本語\\\\n한국어\\\\nBahasa Melayu\\\\nNorsk\\\\nNederlands\\\\nPolski\\\\nPortuguês (Brasil)\\\\nPortuguês (Portugal)\\\\nРусский\\\\nSvenska\\\\nภาษาไทย\\\\nFilipino\\\\nTürkçe\\\\n中文(简体)\\\\n中文(台灣)\\\\nবাংলা\\\\nગુજરાતી\\\\nहिन्दी\\\\nHrvatski\\\\nMagyar\\\\nಕನ್ನಡ\\\\nമലയാളം\\\\nमराठी\\\\nनेपाली\\\\nਪੰਜਾਬੀ\\\\nසිංහල\\\\nSlovenčina\\\\nதமிழ்\\\\nతెలుగు\\\\nTiếng Việt\\\\n中文(香港)\\\\nБългарски\\\\nFrançais (Canada)\\\\nRomână\\\\nСрпски\\\\nУкраїнська', '© 2020 INSTAGRAM FROM FACEBOOK']\"}\n",
      "\n",
      "{'_id': 38, 'photo_comments': \"['therealkiyosaki', 'Verified', '•', '5,960', 'therealkiyosaki', 'Verified', 'When you watch the World Cup this year, you’ll be watching hundreds of millions of dollars in assets running around on the field ➡️ Click the link in my bio to find out why high-paid athletes go broke. #worldcup #soccer', 'danial.adhami', 'میساکی؟؟؟', 'its_m4rk', '👏🏽👏🏽👏🏽', 'anamariagiraldo', '👍', 'zacmparker', 'Verified', 'Check dm', 'emelie.sidenvall', '🔥', 'tavan_chnl', 'سلام و وقت بخیر دوست خوبم. مدیر « کانال توان » هستم. حتماً برای شما هم اتفاق افتاده که بابت یک ارائۀ کلاسی در دانشگاه، ارائۀ مطلب در یک همایش، یا فقط برای یادگیری شخصی، دنبال یک تصویر، عکس\\\\u200cنوشته، اینفوگرافیک یا یک فایل ویدئویی در زمینۀ: محتواهای انگیزشی و روش\\\\u200cهای موفقیت، زبان انگلیسی، بازاریابی و فروش، مدیریت و کارآفرینی یا مثل این\\\\u200cها باشین و بعد از کلی جستجو در اینترنت، محتوای موردنظرتون رو پیدا نکنین و درمونده و کلافه بشین! ما راهکار ویژه و متمایزی برای این نیاز شما پیدا کردیم: t.me/tAvAn_chnL', 'raino.dymita', '@therealkiyosaki you are a living legend 👍👍👍', 'iamsonnyweathersby', '@therealkiyosaki The “Rich Dad Poor Dad” Guy. Great book, I’m working on your philosophies bro, it’s coming ✊🏽 Thanks for your insight, God Bless!', 'sopiabusiness', 'semoga sukses terus ya kak 😀', 'greatpetroff', 'Cashflow get fantastical capability of solve on live a tasks, which play in game🙌', 'artur.erhardt', 'Yes! Speaking the truth.', 'altechzilla', '✌🏽', 'Search', 'LANGUAGE\\\\nAfrikaans\\\\nČeština\\\\nDansk\\\\nDeutsch\\\\nΕλληνικά\\\\nEnglish\\\\nEspañol (España)\\\\nEspañol\\\\nSuomi\\\\nFrançais\\\\nBahasa Indonesia\\\\nItaliano\\\\n日本語\\\\n한국어\\\\nBahasa Melayu\\\\nNorsk\\\\nNederlands\\\\nPolski\\\\nPortuguês (Brasil)\\\\nPortuguês (Portugal)\\\\nРусский\\\\nSvenska\\\\nภาษาไทย\\\\nFilipino\\\\nTürkçe\\\\n中文(简体)\\\\n中文(台灣)\\\\nবাংলা\\\\nગુજરાતી\\\\nहिन्दी\\\\nHrvatski\\\\nMagyar\\\\nಕನ್ನಡ\\\\nമലയാളം\\\\nमराठी\\\\nनेपाली\\\\nਪੰਜਾਬੀ\\\\nසිංහල\\\\nSlovenčina\\\\nதமிழ்\\\\nతెలుగు\\\\nTiếng Việt\\\\n中文(香港)\\\\nБългарски\\\\nFrançais (Canada)\\\\nRomână\\\\nСрпски\\\\nУкраїнська', '© 2020 INSTAGRAM FROM FACEBOOK']\"}\n",
      "\n",
      "{'_id': 39, 'photo_comments': \"['therealkiyosaki', 'Verified', '•', '8,363', 'therealkiyosaki', 'Verified', '5 ways you can succeed with real estate investing in today’s market: Click the link in my bio!', 'balltribeking', '@discounthomestampa', 'tearsi23', 'Good!', 'stayhappyandcarryon', 'quality time with friends and family always lifts up!', 'elnaz2288', 'Good luck😊😊', 'alejandral.jaramillo', '👏', 'leandromoteles', '@ludmiler', 'altechzilla', '✌🏽', 'bote_atelier', '🙌Wanna learn every single detail🙌', 'jccabos1', 'This is great', 'fernandolaia.triunfo', 'Gosto de bons posts como esse seu !', 'erikabonnickofficial', '🙌🏽🙌🏽', 'khalijeparsnet', 'Bbc documentary great', 'Search', 'LANGUAGE\\\\nAfrikaans\\\\nČeština\\\\nDansk\\\\nDeutsch\\\\nΕλληνικά\\\\nEnglish\\\\nEspañol (España)\\\\nEspañol\\\\nSuomi\\\\nFrançais\\\\nBahasa Indonesia\\\\nItaliano\\\\n日本語\\\\n한국어\\\\nBahasa Melayu\\\\nNorsk\\\\nNederlands\\\\nPolski\\\\nPortuguês (Brasil)\\\\nPortuguês (Portugal)\\\\nРусский\\\\nSvenska\\\\nภาษาไทย\\\\nFilipino\\\\nTürkçe\\\\n中文(简体)\\\\n中文(台灣)\\\\nবাংলা\\\\nગુજરાતી\\\\nहिन्दी\\\\nHrvatski\\\\nMagyar\\\\nಕನ್ನಡ\\\\nമലയാളം\\\\nमराठी\\\\nनेपाली\\\\nਪੰਜਾਬੀ\\\\nසිංහල\\\\nSlovenčina\\\\nதமிழ்\\\\nతెలుగు\\\\nTiếng Việt\\\\n中文(香港)\\\\nБългарски\\\\nFrançais (Canada)\\\\nRomână\\\\nСрпски\\\\nУкраїнська', '© 2020 INSTAGRAM FROM FACEBOOK']\"}\n",
      "\n",
      "{'_id': 40, 'photo_comments': \"['therealkiyosaki', 'Verified', '•', '4,791', 'therealkiyosaki', 'Verified', 'A special thank you to my 150K 📍SUBSCRIBERS📍on YouTube. I’m listening to you and your feedback on my latest videos of Millennial Money. I’m reading your comments and a new series will be released of topics you have asked to learn more about and ADVANCED TOPICS. Do not try to understand these new concepts if you haven’t started with the basics I released on my YouTube channel under the playlist “Millennial Money: Lessons with Robert Kiyosaki.” Click the link in my bio and. 📌SUBSCRIBE 📌to my channel so you can be notified of my upcoming lessons on debt, NOI, real estate investing, stocks, taxes, and more.', 'who.prashantdev', 'This guy has literally changed my life for forever..❤', 'odkelneradomilionera', '🤗', 'alefoxlife', 'Elite 💪🏼', 'kholiejimenez', 'Nice one 👍', 'lvxxviii', 'This is great', 'mwanlechindang', 'It interests me to know that someone like U is ready to enlighten people that are poor financially like me. And U give opportunity to be better in our lives', '_tappit', '❤️❤️❤️', 'piccasso96', 'Thank you for your YouTube channel !!', 'ricardomarquezofficial', '💸', 'altechzilla', '✌🏽', 'empreendedoressaoficial', '😊😊😊', 'wrest_city', '🤗🤗🤗🤗🤗🤗🤗', 'Search', 'LANGUAGE\\\\nAfrikaans\\\\nČeština\\\\nDansk\\\\nDeutsch\\\\nΕλληνικά\\\\nEnglish\\\\nEspañol (España)\\\\nEspañol\\\\nSuomi\\\\nFrançais\\\\nBahasa Indonesia\\\\nItaliano\\\\n日本語\\\\n한국어\\\\nBahasa Melayu\\\\nNorsk\\\\nNederlands\\\\nPolski\\\\nPortuguês (Brasil)\\\\nPortuguês (Portugal)\\\\nРусский\\\\nSvenska\\\\nภาษาไทย\\\\nFilipino\\\\nTürkçe\\\\n中文(简体)\\\\n中文(台灣)\\\\nবাংলা\\\\nગુજરાતી\\\\nहिन्दी\\\\nHrvatski\\\\nMagyar\\\\nಕನ್ನಡ\\\\nമലയാളം\\\\nमराठी\\\\nनेपाली\\\\nਪੰਜਾਬੀ\\\\nසිංහල\\\\nSlovenčina\\\\nதமிழ்\\\\nతెలుగు\\\\nTiếng Việt\\\\n中文(香港)\\\\nБългарски\\\\nFrançais (Canada)\\\\nRomână\\\\nСрпски\\\\nУкраїнська', '© 2020 INSTAGRAM FROM FACEBOOK']\"}\n",
      "\n",
      "{'_id': 41, 'photo_comments': \"['therealkiyosaki', 'Verified', '•', '5,184', 'therealkiyosaki', 'Verified', 'Click the link in my bio to find out the 6 reasons why you should be selling on Amazon', 'dan_foley_hall', '@jimmyroclothing', 'royalty.by.birth', 'Is that the legendary Tom the Tax God😤😊 that guy is the man!!! Tace', 'diego.delgado_', '💯💯', 'lvxxviii', 'Made my day', 'dominikg24', 'Feels good 😍', '_tappit', '❤️❤️❤️', 'luisjah', 'Oooh el triángulo de la bermudas', 'luisjah', '😊😊', 'official_godstym', '@therealkiyosaki 💥', 'altechzilla', '✌🏽', 'jorge_valladolic', 'Me modo APRENDIZAJE siempre', 'ta.nya5332', 'Хочу сыграть эту игру', 'Search', 'LANGUAGE\\\\nAfrikaans\\\\nČeština\\\\nDansk\\\\nDeutsch\\\\nΕλληνικά\\\\nEnglish\\\\nEspañol (España)\\\\nEspañol\\\\nSuomi\\\\nFrançais\\\\nBahasa Indonesia\\\\nItaliano\\\\n日本語\\\\n한국어\\\\nBahasa Melayu\\\\nNorsk\\\\nNederlands\\\\nPolski\\\\nPortuguês (Brasil)\\\\nPortuguês (Portugal)\\\\nРусский\\\\nSvenska\\\\nภาษาไทย\\\\nFilipino\\\\nTürkçe\\\\n中文(简体)\\\\n中文(台灣)\\\\nবাংলা\\\\nગુજરાતી\\\\nहिन्दी\\\\nHrvatski\\\\nMagyar\\\\nಕನ್ನಡ\\\\nമലയാളം\\\\nमराठी\\\\nनेपाली\\\\nਪੰਜਾਬੀ\\\\nසිංහල\\\\nSlovenčina\\\\nதமிழ்\\\\nతెలుగు\\\\nTiếng Việt\\\\n中文(香港)\\\\nБългарски\\\\nFrançais (Canada)\\\\nRomână\\\\nСрпски\\\\nУкраїнська', '© 2020 INSTAGRAM FROM FACEBOOK']\"}\n",
      "\n"
     ]
    }
   ],
   "source": [
    "for comment in posts_comments:\n",
    "    print(comment)\n",
    "    print()"
   ]
  },
  {
   "cell_type": "markdown",
   "metadata": {},
   "source": [
    "### Je vous remercie"
   ]
  },
  {
   "cell_type": "code",
   "execution_count": null,
   "metadata": {},
   "outputs": [],
   "source": [
    "bot.quit()"
   ]
  },
  {
   "cell_type": "code",
   "execution_count": null,
   "metadata": {},
   "outputs": [],
   "source": []
  }
 ],
 "metadata": {
  "kernelspec": {
   "display_name": "Python 3",
   "language": "python",
   "name": "python3"
  },
  "language_info": {
   "codemirror_mode": {
    "name": "ipython",
    "version": 3
   },
   "file_extension": ".py",
   "mimetype": "text/x-python",
   "name": "python",
   "nbconvert_exporter": "python",
   "pygments_lexer": "ipython3",
   "version": "3.6.10"
  }
 },
 "nbformat": 4,
 "nbformat_minor": 4
}
